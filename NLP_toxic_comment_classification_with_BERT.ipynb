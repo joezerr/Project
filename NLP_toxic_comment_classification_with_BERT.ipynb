{
  "cells": [
    {
      "cell_type": "markdown",
      "metadata": {
        "id": "view-in-github",
        "colab_type": "text"
      },
      "source": [
        "<a href=\"https://colab.research.google.com/github/joezerr/Project/blob/main/NLP_toxic_comment_classification_with_BERT.ipynb\" target=\"_parent\"><img src=\"https://colab.research.google.com/assets/colab-badge.svg\" alt=\"Open In Colab\"/></a>"
      ]
    },
    {
      "cell_type": "markdown",
      "metadata": {
        "id": "n7Ezh_GEORpI"
      },
      "source": [
        "Toxic Comment Classification with BERT (LD01 Kelompok 5)"
      ]
    },
    {
      "cell_type": "code",
      "source": [
        "from google.colab import drive\n",
        "drive.mount(\"/content/drive/\")"
      ],
      "metadata": {
        "colab": {
          "base_uri": "https://localhost:8080/"
        },
        "id": "jE343D7q_1T5",
        "outputId": "9d9f42b7-9ace-4965-ae7d-889701016467"
      },
      "execution_count": null,
      "outputs": [
        {
          "output_type": "stream",
          "name": "stdout",
          "text": [
            "Mounted at /content/drive/\n"
          ]
        }
      ]
    },
    {
      "cell_type": "code",
      "source": [
        "!nvidia-smi"
      ],
      "metadata": {
        "id": "DFPgej_zMJ3C",
        "colab": {
          "base_uri": "https://localhost:8080/"
        },
        "outputId": "02280a2d-864c-4c08-9e02-6956f01bc65d"
      },
      "execution_count": null,
      "outputs": [
        {
          "output_type": "stream",
          "name": "stdout",
          "text": [
            "Tue Jun 21 09:14:39 2022       \n",
            "+-----------------------------------------------------------------------------+\n",
            "| NVIDIA-SMI 460.32.03    Driver Version: 460.32.03    CUDA Version: 11.2     |\n",
            "|-------------------------------+----------------------+----------------------+\n",
            "| GPU  Name        Persistence-M| Bus-Id        Disp.A | Volatile Uncorr. ECC |\n",
            "| Fan  Temp  Perf  Pwr:Usage/Cap|         Memory-Usage | GPU-Util  Compute M. |\n",
            "|                               |                      |               MIG M. |\n",
            "|===============================+======================+======================|\n",
            "|   0  Tesla T4            Off  | 00000000:00:04.0 Off |                    0 |\n",
            "| N/A   49C    P0    27W /  70W |   3374MiB / 15109MiB |      0%      Default |\n",
            "|                               |                      |                  N/A |\n",
            "+-------------------------------+----------------------+----------------------+\n",
            "                                                                               \n",
            "+-----------------------------------------------------------------------------+\n",
            "| Processes:                                                                  |\n",
            "|  GPU   GI   CI        PID   Type   Process name                  GPU Memory |\n",
            "|        ID   ID                                                   Usage      |\n",
            "|=============================================================================|\n",
            "+-----------------------------------------------------------------------------+\n"
          ]
        }
      ]
    },
    {
      "cell_type": "markdown",
      "metadata": {
        "id": "YH8iARzqON1X"
      },
      "source": [
        "##Import Library"
      ]
    },
    {
      "cell_type": "code",
      "execution_count": null,
      "metadata": {
        "colab": {
          "base_uri": "https://localhost:8080/"
        },
        "id": "drA1BgHVNZhp",
        "outputId": "218f9dce-f6b8-4b98-e394-ec86606e2a1a"
      },
      "outputs": [
        {
          "output_type": "stream",
          "name": "stdout",
          "text": [
            "Looking in indexes: https://pypi.org/simple, https://us-python.pkg.dev/colab-wheels/public/simple/\n",
            "Requirement already satisfied: nltk in /usr/local/lib/python3.7/dist-packages (3.7)\n",
            "Requirement already satisfied: click in /usr/local/lib/python3.7/dist-packages (from nltk) (7.1.2)\n",
            "Requirement already satisfied: regex>=2021.8.3 in /usr/local/lib/python3.7/dist-packages (from nltk) (2022.6.2)\n",
            "Requirement already satisfied: joblib in /usr/local/lib/python3.7/dist-packages (from nltk) (1.1.0)\n",
            "Requirement already satisfied: tqdm in /usr/local/lib/python3.7/dist-packages (from nltk) (4.64.0)\n",
            "Looking in indexes: https://pypi.org/simple, https://us-python.pkg.dev/colab-wheels/public/simple/\n",
            "Collecting transformers\n",
            "  Downloading transformers-4.20.0-py3-none-any.whl (4.4 MB)\n",
            "\u001b[K     |████████████████████████████████| 4.4 MB 645 kB/s \n",
            "\u001b[?25hRequirement already satisfied: regex!=2019.12.17 in /usr/local/lib/python3.7/dist-packages (from transformers) (2022.6.2)\n",
            "Collecting tokenizers!=0.11.3,<0.13,>=0.11.1\n",
            "  Downloading tokenizers-0.12.1-cp37-cp37m-manylinux_2_12_x86_64.manylinux2010_x86_64.whl (6.6 MB)\n",
            "\u001b[K     |████████████████████████████████| 6.6 MB 48.5 MB/s \n",
            "\u001b[?25hRequirement already satisfied: numpy>=1.17 in /usr/local/lib/python3.7/dist-packages (from transformers) (1.21.6)\n",
            "Collecting huggingface-hub<1.0,>=0.1.0\n",
            "  Downloading huggingface_hub-0.7.0-py3-none-any.whl (86 kB)\n",
            "\u001b[K     |████████████████████████████████| 86 kB 5.4 MB/s \n",
            "\u001b[?25hRequirement already satisfied: requests in /usr/local/lib/python3.7/dist-packages (from transformers) (2.23.0)\n",
            "Collecting pyyaml>=5.1\n",
            "  Downloading PyYAML-6.0-cp37-cp37m-manylinux_2_5_x86_64.manylinux1_x86_64.manylinux_2_12_x86_64.manylinux2010_x86_64.whl (596 kB)\n",
            "\u001b[K     |████████████████████████████████| 596 kB 48.7 MB/s \n",
            "\u001b[?25hRequirement already satisfied: filelock in /usr/local/lib/python3.7/dist-packages (from transformers) (3.7.1)\n",
            "Requirement already satisfied: tqdm>=4.27 in /usr/local/lib/python3.7/dist-packages (from transformers) (4.64.0)\n",
            "Requirement already satisfied: packaging>=20.0 in /usr/local/lib/python3.7/dist-packages (from transformers) (21.3)\n",
            "Requirement already satisfied: importlib-metadata in /usr/local/lib/python3.7/dist-packages (from transformers) (4.11.4)\n",
            "Requirement already satisfied: typing-extensions>=3.7.4.3 in /usr/local/lib/python3.7/dist-packages (from huggingface-hub<1.0,>=0.1.0->transformers) (4.1.1)\n",
            "Requirement already satisfied: pyparsing!=3.0.5,>=2.0.2 in /usr/local/lib/python3.7/dist-packages (from packaging>=20.0->transformers) (3.0.9)\n",
            "Requirement already satisfied: zipp>=0.5 in /usr/local/lib/python3.7/dist-packages (from importlib-metadata->transformers) (3.8.0)\n",
            "Requirement already satisfied: urllib3!=1.25.0,!=1.25.1,<1.26,>=1.21.1 in /usr/local/lib/python3.7/dist-packages (from requests->transformers) (1.24.3)\n",
            "Requirement already satisfied: certifi>=2017.4.17 in /usr/local/lib/python3.7/dist-packages (from requests->transformers) (2022.6.15)\n",
            "Requirement already satisfied: chardet<4,>=3.0.2 in /usr/local/lib/python3.7/dist-packages (from requests->transformers) (3.0.4)\n",
            "Requirement already satisfied: idna<3,>=2.5 in /usr/local/lib/python3.7/dist-packages (from requests->transformers) (2.10)\n",
            "Installing collected packages: pyyaml, tokenizers, huggingface-hub, transformers\n",
            "  Attempting uninstall: pyyaml\n",
            "    Found existing installation: PyYAML 3.13\n",
            "    Uninstalling PyYAML-3.13:\n",
            "      Successfully uninstalled PyYAML-3.13\n",
            "Successfully installed huggingface-hub-0.7.0 pyyaml-6.0 tokenizers-0.12.1 transformers-4.20.0\n"
          ]
        }
      ],
      "source": [
        "!pip install nltk\n",
        "# !pip install tensorflow_text\n",
        "# !pip install torchmetrics\n",
        "# !pip install torchsummary \n",
        "!pip install transformers"
      ]
    },
    {
      "cell_type": "code",
      "execution_count": null,
      "metadata": {
        "id": "JhSHLlMfOAOu"
      },
      "outputs": [],
      "source": [
        "import numpy as np\n",
        "import matplotlib.pyplot as plt\n",
        "import pandas as pd\n",
        "import seaborn as sns\n",
        "from sklearn.model_selection import train_test_split\n",
        "from sklearn.metrics import classification_report, confusion_matrix,roc_auc_score,multilabel_confusion_matrix,plot_roc_curve\n",
        "import string\n",
        "import re\n",
        "from transformers import BertTokenizer, BertModel\n",
        "import torch\n",
        "import torch.nn as nn\n",
        "import shutil\n",
        "import sys\n",
        "\n",
        "# import nltk\n",
        "# from nltk.corpus import stopwords \n",
        "# from nltk.stem.lancaster import LancasterStemmer\n",
        "# import tensorflow as tf\n",
        "# import tensorflow_hub as hub\n",
        "# import tensorflow_text as text\n",
        "# from torchmetrics.functional import accuracy,auroc\n",
        "# from sklearn.metrics.pairwise import cosine_similarity"
      ]
    },
    {
      "cell_type": "markdown",
      "metadata": {
        "id": "v6NaG_h-0TmA"
      },
      "source": [
        "##Import dataset"
      ]
    },
    {
      "cell_type": "code",
      "source": [],
      "metadata": {
        "id": "-yjlEWRCb32m"
      },
      "execution_count": null,
      "outputs": []
    },
    {
      "cell_type": "markdown",
      "metadata": {
        "id": "qZqGnT5L6Smm"
      },
      "source": [
        "Dataset yang kami gunakan berasal dari github, namun sebenarnya ini adalah dataset yang dipakai untuk kompetisi kaggle.\n",
        "\n",
        "dataset ini sendiri berisikan komen dari wikipedia"
      ]
    },
    {
      "cell_type": "code",
      "execution_count": null,
      "metadata": {
        "id": "NrWXD6_o0Wz6"
      },
      "outputs": [],
      "source": [
        "df = pd.read_csv('https://raw.githubusercontent.com/line-by-line/toxic_comments_classifier/master/Datasets%20from%20Kaggle%20(toxic)/train.csv')"
      ]
    },
    {
      "cell_type": "code",
      "execution_count": null,
      "metadata": {
        "colab": {
          "base_uri": "https://localhost:8080/",
          "height": 520
        },
        "id": "WoKv_Z1J8gSo",
        "outputId": "268e8200-3194-438b-98aa-37813838b50e"
      },
      "outputs": [
        {
          "output_type": "execute_result",
          "data": {
            "text/plain": [
              "                  id                                       comment_text  \\\n",
              "0   0000997932d777bf  Explanation\\nWhy the edits made under my usern...   \n",
              "1   000103f0d9cfb60f  D'aww! He matches this background colour I'm s...   \n",
              "2   000113f07ec002fd  Hey man, I'm really not trying to edit war. It...   \n",
              "3   0001b41b1c6bb37e  \"\\nMore\\nI can't make any real suggestions on ...   \n",
              "4   0001d958c54c6e35  You, sir, are my hero. Any chance you remember...   \n",
              "5   00025465d4725e87  \"\\n\\nCongratulations from me as well, use the ...   \n",
              "6   0002bcb3da6cb337       COCKSUCKER BEFORE YOU PISS AROUND ON MY WORK   \n",
              "7   00031b1e95af7921  Your vandalism to the Matt Shirvington article...   \n",
              "8   00037261f536c51d  Sorry if the word 'nonsense' was offensive to ...   \n",
              "9   00040093b2687caa  alignment on this subject and which are contra...   \n",
              "10  0005300084f90edc  \"\\nFair use rationale for Image:Wonju.jpg\\n\\nT...   \n",
              "11  00054a5e18b50dd4  bbq \\n\\nbe a man and lets discuss it-maybe ove...   \n",
              "12  0005c987bdfc9d4b  Hey... what is it..\\n@ | talk .\\nWhat is it......   \n",
              "13  0006f16e4e9f292e  Before you start throwing accusations and warn...   \n",
              "14  00070ef96486d6f9  Oh, and the girl above started her arguments w...   \n",
              "\n",
              "    toxic  severe_toxic  obscene  threat  insult  identity_hate  \n",
              "0       0             0        0       0       0              0  \n",
              "1       0             0        0       0       0              0  \n",
              "2       0             0        0       0       0              0  \n",
              "3       0             0        0       0       0              0  \n",
              "4       0             0        0       0       0              0  \n",
              "5       0             0        0       0       0              0  \n",
              "6       1             1        1       0       1              0  \n",
              "7       0             0        0       0       0              0  \n",
              "8       0             0        0       0       0              0  \n",
              "9       0             0        0       0       0              0  \n",
              "10      0             0        0       0       0              0  \n",
              "11      0             0        0       0       0              0  \n",
              "12      1             0        0       0       0              0  \n",
              "13      0             0        0       0       0              0  \n",
              "14      0             0        0       0       0              0  "
            ],
            "text/html": [
              "\n",
              "  <div id=\"df-bfa21029-d254-442f-ba5e-093b5ba2142a\">\n",
              "    <div class=\"colab-df-container\">\n",
              "      <div>\n",
              "<style scoped>\n",
              "    .dataframe tbody tr th:only-of-type {\n",
              "        vertical-align: middle;\n",
              "    }\n",
              "\n",
              "    .dataframe tbody tr th {\n",
              "        vertical-align: top;\n",
              "    }\n",
              "\n",
              "    .dataframe thead th {\n",
              "        text-align: right;\n",
              "    }\n",
              "</style>\n",
              "<table border=\"1\" class=\"dataframe\">\n",
              "  <thead>\n",
              "    <tr style=\"text-align: right;\">\n",
              "      <th></th>\n",
              "      <th>id</th>\n",
              "      <th>comment_text</th>\n",
              "      <th>toxic</th>\n",
              "      <th>severe_toxic</th>\n",
              "      <th>obscene</th>\n",
              "      <th>threat</th>\n",
              "      <th>insult</th>\n",
              "      <th>identity_hate</th>\n",
              "    </tr>\n",
              "  </thead>\n",
              "  <tbody>\n",
              "    <tr>\n",
              "      <th>0</th>\n",
              "      <td>0000997932d777bf</td>\n",
              "      <td>Explanation\\nWhy the edits made under my usern...</td>\n",
              "      <td>0</td>\n",
              "      <td>0</td>\n",
              "      <td>0</td>\n",
              "      <td>0</td>\n",
              "      <td>0</td>\n",
              "      <td>0</td>\n",
              "    </tr>\n",
              "    <tr>\n",
              "      <th>1</th>\n",
              "      <td>000103f0d9cfb60f</td>\n",
              "      <td>D'aww! He matches this background colour I'm s...</td>\n",
              "      <td>0</td>\n",
              "      <td>0</td>\n",
              "      <td>0</td>\n",
              "      <td>0</td>\n",
              "      <td>0</td>\n",
              "      <td>0</td>\n",
              "    </tr>\n",
              "    <tr>\n",
              "      <th>2</th>\n",
              "      <td>000113f07ec002fd</td>\n",
              "      <td>Hey man, I'm really not trying to edit war. It...</td>\n",
              "      <td>0</td>\n",
              "      <td>0</td>\n",
              "      <td>0</td>\n",
              "      <td>0</td>\n",
              "      <td>0</td>\n",
              "      <td>0</td>\n",
              "    </tr>\n",
              "    <tr>\n",
              "      <th>3</th>\n",
              "      <td>0001b41b1c6bb37e</td>\n",
              "      <td>\"\\nMore\\nI can't make any real suggestions on ...</td>\n",
              "      <td>0</td>\n",
              "      <td>0</td>\n",
              "      <td>0</td>\n",
              "      <td>0</td>\n",
              "      <td>0</td>\n",
              "      <td>0</td>\n",
              "    </tr>\n",
              "    <tr>\n",
              "      <th>4</th>\n",
              "      <td>0001d958c54c6e35</td>\n",
              "      <td>You, sir, are my hero. Any chance you remember...</td>\n",
              "      <td>0</td>\n",
              "      <td>0</td>\n",
              "      <td>0</td>\n",
              "      <td>0</td>\n",
              "      <td>0</td>\n",
              "      <td>0</td>\n",
              "    </tr>\n",
              "    <tr>\n",
              "      <th>5</th>\n",
              "      <td>00025465d4725e87</td>\n",
              "      <td>\"\\n\\nCongratulations from me as well, use the ...</td>\n",
              "      <td>0</td>\n",
              "      <td>0</td>\n",
              "      <td>0</td>\n",
              "      <td>0</td>\n",
              "      <td>0</td>\n",
              "      <td>0</td>\n",
              "    </tr>\n",
              "    <tr>\n",
              "      <th>6</th>\n",
              "      <td>0002bcb3da6cb337</td>\n",
              "      <td>COCKSUCKER BEFORE YOU PISS AROUND ON MY WORK</td>\n",
              "      <td>1</td>\n",
              "      <td>1</td>\n",
              "      <td>1</td>\n",
              "      <td>0</td>\n",
              "      <td>1</td>\n",
              "      <td>0</td>\n",
              "    </tr>\n",
              "    <tr>\n",
              "      <th>7</th>\n",
              "      <td>00031b1e95af7921</td>\n",
              "      <td>Your vandalism to the Matt Shirvington article...</td>\n",
              "      <td>0</td>\n",
              "      <td>0</td>\n",
              "      <td>0</td>\n",
              "      <td>0</td>\n",
              "      <td>0</td>\n",
              "      <td>0</td>\n",
              "    </tr>\n",
              "    <tr>\n",
              "      <th>8</th>\n",
              "      <td>00037261f536c51d</td>\n",
              "      <td>Sorry if the word 'nonsense' was offensive to ...</td>\n",
              "      <td>0</td>\n",
              "      <td>0</td>\n",
              "      <td>0</td>\n",
              "      <td>0</td>\n",
              "      <td>0</td>\n",
              "      <td>0</td>\n",
              "    </tr>\n",
              "    <tr>\n",
              "      <th>9</th>\n",
              "      <td>00040093b2687caa</td>\n",
              "      <td>alignment on this subject and which are contra...</td>\n",
              "      <td>0</td>\n",
              "      <td>0</td>\n",
              "      <td>0</td>\n",
              "      <td>0</td>\n",
              "      <td>0</td>\n",
              "      <td>0</td>\n",
              "    </tr>\n",
              "    <tr>\n",
              "      <th>10</th>\n",
              "      <td>0005300084f90edc</td>\n",
              "      <td>\"\\nFair use rationale for Image:Wonju.jpg\\n\\nT...</td>\n",
              "      <td>0</td>\n",
              "      <td>0</td>\n",
              "      <td>0</td>\n",
              "      <td>0</td>\n",
              "      <td>0</td>\n",
              "      <td>0</td>\n",
              "    </tr>\n",
              "    <tr>\n",
              "      <th>11</th>\n",
              "      <td>00054a5e18b50dd4</td>\n",
              "      <td>bbq \\n\\nbe a man and lets discuss it-maybe ove...</td>\n",
              "      <td>0</td>\n",
              "      <td>0</td>\n",
              "      <td>0</td>\n",
              "      <td>0</td>\n",
              "      <td>0</td>\n",
              "      <td>0</td>\n",
              "    </tr>\n",
              "    <tr>\n",
              "      <th>12</th>\n",
              "      <td>0005c987bdfc9d4b</td>\n",
              "      <td>Hey... what is it..\\n@ | talk .\\nWhat is it......</td>\n",
              "      <td>1</td>\n",
              "      <td>0</td>\n",
              "      <td>0</td>\n",
              "      <td>0</td>\n",
              "      <td>0</td>\n",
              "      <td>0</td>\n",
              "    </tr>\n",
              "    <tr>\n",
              "      <th>13</th>\n",
              "      <td>0006f16e4e9f292e</td>\n",
              "      <td>Before you start throwing accusations and warn...</td>\n",
              "      <td>0</td>\n",
              "      <td>0</td>\n",
              "      <td>0</td>\n",
              "      <td>0</td>\n",
              "      <td>0</td>\n",
              "      <td>0</td>\n",
              "    </tr>\n",
              "    <tr>\n",
              "      <th>14</th>\n",
              "      <td>00070ef96486d6f9</td>\n",
              "      <td>Oh, and the girl above started her arguments w...</td>\n",
              "      <td>0</td>\n",
              "      <td>0</td>\n",
              "      <td>0</td>\n",
              "      <td>0</td>\n",
              "      <td>0</td>\n",
              "      <td>0</td>\n",
              "    </tr>\n",
              "  </tbody>\n",
              "</table>\n",
              "</div>\n",
              "      <button class=\"colab-df-convert\" onclick=\"convertToInteractive('df-bfa21029-d254-442f-ba5e-093b5ba2142a')\"\n",
              "              title=\"Convert this dataframe to an interactive table.\"\n",
              "              style=\"display:none;\">\n",
              "        \n",
              "  <svg xmlns=\"http://www.w3.org/2000/svg\" height=\"24px\"viewBox=\"0 0 24 24\"\n",
              "       width=\"24px\">\n",
              "    <path d=\"M0 0h24v24H0V0z\" fill=\"none\"/>\n",
              "    <path d=\"M18.56 5.44l.94 2.06.94-2.06 2.06-.94-2.06-.94-.94-2.06-.94 2.06-2.06.94zm-11 1L8.5 8.5l.94-2.06 2.06-.94-2.06-.94L8.5 2.5l-.94 2.06-2.06.94zm10 10l.94 2.06.94-2.06 2.06-.94-2.06-.94-.94-2.06-.94 2.06-2.06.94z\"/><path d=\"M17.41 7.96l-1.37-1.37c-.4-.4-.92-.59-1.43-.59-.52 0-1.04.2-1.43.59L10.3 9.45l-7.72 7.72c-.78.78-.78 2.05 0 2.83L4 21.41c.39.39.9.59 1.41.59.51 0 1.02-.2 1.41-.59l7.78-7.78 2.81-2.81c.8-.78.8-2.07 0-2.86zM5.41 20L4 18.59l7.72-7.72 1.47 1.35L5.41 20z\"/>\n",
              "  </svg>\n",
              "      </button>\n",
              "      \n",
              "  <style>\n",
              "    .colab-df-container {\n",
              "      display:flex;\n",
              "      flex-wrap:wrap;\n",
              "      gap: 12px;\n",
              "    }\n",
              "\n",
              "    .colab-df-convert {\n",
              "      background-color: #E8F0FE;\n",
              "      border: none;\n",
              "      border-radius: 50%;\n",
              "      cursor: pointer;\n",
              "      display: none;\n",
              "      fill: #1967D2;\n",
              "      height: 32px;\n",
              "      padding: 0 0 0 0;\n",
              "      width: 32px;\n",
              "    }\n",
              "\n",
              "    .colab-df-convert:hover {\n",
              "      background-color: #E2EBFA;\n",
              "      box-shadow: 0px 1px 2px rgba(60, 64, 67, 0.3), 0px 1px 3px 1px rgba(60, 64, 67, 0.15);\n",
              "      fill: #174EA6;\n",
              "    }\n",
              "\n",
              "    [theme=dark] .colab-df-convert {\n",
              "      background-color: #3B4455;\n",
              "      fill: #D2E3FC;\n",
              "    }\n",
              "\n",
              "    [theme=dark] .colab-df-convert:hover {\n",
              "      background-color: #434B5C;\n",
              "      box-shadow: 0px 1px 3px 1px rgba(0, 0, 0, 0.15);\n",
              "      filter: drop-shadow(0px 1px 2px rgba(0, 0, 0, 0.3));\n",
              "      fill: #FFFFFF;\n",
              "    }\n",
              "  </style>\n",
              "\n",
              "      <script>\n",
              "        const buttonEl =\n",
              "          document.querySelector('#df-bfa21029-d254-442f-ba5e-093b5ba2142a button.colab-df-convert');\n",
              "        buttonEl.style.display =\n",
              "          google.colab.kernel.accessAllowed ? 'block' : 'none';\n",
              "\n",
              "        async function convertToInteractive(key) {\n",
              "          const element = document.querySelector('#df-bfa21029-d254-442f-ba5e-093b5ba2142a');\n",
              "          const dataTable =\n",
              "            await google.colab.kernel.invokeFunction('convertToInteractive',\n",
              "                                                     [key], {});\n",
              "          if (!dataTable) return;\n",
              "\n",
              "          const docLinkHtml = 'Like what you see? Visit the ' +\n",
              "            '<a target=\"_blank\" href=https://colab.research.google.com/notebooks/data_table.ipynb>data table notebook</a>'\n",
              "            + ' to learn more about interactive tables.';\n",
              "          element.innerHTML = '';\n",
              "          dataTable['output_type'] = 'display_data';\n",
              "          await google.colab.output.renderOutput(dataTable, element);\n",
              "          const docLink = document.createElement('div');\n",
              "          docLink.innerHTML = docLinkHtml;\n",
              "          element.appendChild(docLink);\n",
              "        }\n",
              "      </script>\n",
              "    </div>\n",
              "  </div>\n",
              "  "
            ]
          },
          "metadata": {},
          "execution_count": 66
        }
      ],
      "source": [
        "df.head(15)"
      ]
    },
    {
      "cell_type": "code",
      "execution_count": null,
      "metadata": {
        "colab": {
          "base_uri": "https://localhost:8080/"
        },
        "id": "_Tm7dpfN931P",
        "outputId": "d14ff26a-0a73-45b6-e319-099b3848667a"
      },
      "outputs": [
        {
          "output_type": "execute_result",
          "data": {
            "text/plain": [
              "(159571, 8)"
            ]
          },
          "metadata": {},
          "execution_count": 6
        }
      ],
      "source": [
        "df.shape"
      ]
    },
    {
      "cell_type": "code",
      "source": [
        "TARGETS = df.columns.tolist()[2:]\n",
        "TARGETS"
      ],
      "metadata": {
        "id": "ZDkkSSOhWo6i",
        "colab": {
          "base_uri": "https://localhost:8080/"
        },
        "outputId": "13fb7d50-7f4a-4de5-93a6-34390c5364c2"
      },
      "execution_count": null,
      "outputs": [
        {
          "output_type": "execute_result",
          "data": {
            "text/plain": [
              "['toxic', 'severe_toxic', 'obscene', 'threat', 'insult', 'identity_hate']"
            ]
          },
          "metadata": {},
          "execution_count": 7
        }
      ]
    },
    {
      "cell_type": "code",
      "source": [
        "\n",
        "device = torch.device('cuda') if torch.cuda.is_available() else torch.device('cpu')\n",
        "print(device)"
      ],
      "metadata": {
        "colab": {
          "base_uri": "https://localhost:8080/"
        },
        "id": "kWA4LNEL3KWd",
        "outputId": "b0c24941-ff26-4c90-e90b-02a5d0f13d22"
      },
      "execution_count": null,
      "outputs": [
        {
          "output_type": "stream",
          "name": "stdout",
          "text": [
            "cpu\n"
          ]
        }
      ]
    },
    {
      "cell_type": "code",
      "source": [
        "df.info()"
      ],
      "metadata": {
        "colab": {
          "base_uri": "https://localhost:8080/"
        },
        "id": "Fcr0p67IBvQV",
        "outputId": "72c82b7e-d718-4e03-eeb3-e06c612be685"
      },
      "execution_count": null,
      "outputs": [
        {
          "output_type": "stream",
          "name": "stdout",
          "text": [
            "<class 'pandas.core.frame.DataFrame'>\n",
            "RangeIndex: 159571 entries, 0 to 159570\n",
            "Data columns (total 7 columns):\n",
            " #   Column         Non-Null Count   Dtype \n",
            "---  ------         --------------   ----- \n",
            " 0   comment_text   159571 non-null  object\n",
            " 1   toxic          159571 non-null  int64 \n",
            " 2   severe_toxic   159571 non-null  int64 \n",
            " 3   obscene        159571 non-null  int64 \n",
            " 4   threat         159571 non-null  int64 \n",
            " 5   insult         159571 non-null  int64 \n",
            " 6   identity_hate  159571 non-null  int64 \n",
            "dtypes: int64(6), object(1)\n",
            "memory usage: 8.5+ MB\n"
          ]
        }
      ]
    },
    {
      "cell_type": "markdown",
      "source": [
        "Buang column ID karena tidak penting untuk kasus ini"
      ],
      "metadata": {
        "id": "iFOMUNAd_0Aw"
      }
    },
    {
      "cell_type": "code",
      "source": [
        "df=df.iloc[:,1:]"
      ],
      "metadata": {
        "id": "0M1vleJWSR5i"
      },
      "execution_count": null,
      "outputs": []
    },
    {
      "cell_type": "markdown",
      "source": [
        "#Explore the data"
      ],
      "metadata": {
        "id": "7RZ7dS2iV36R"
      }
    },
    {
      "cell_type": "code",
      "source": [
        "plt.figure( figsize=[15,12])\n",
        "_=sns.heatmap(df.corr(), annot= True)"
      ],
      "metadata": {
        "colab": {
          "base_uri": "https://localhost:8080/",
          "height": 705
        },
        "id": "KiB3MYVtZrHz",
        "outputId": "96fe23e8-632e-4afd-cc09-13569967e31f"
      },
      "execution_count": null,
      "outputs": [
        {
          "output_type": "display_data",
          "data": {
            "text/plain": [
              "<Figure size 1080x864 with 2 Axes>"
            ],
            "image/png": "[encoded data removed]"
          },
          "metadata": {
            "needs_background": "light"
          }
        }
      ]
    },
    {
      "cell_type": "code",
      "source": [
        "df.isnull().sum()"
      ],
      "metadata": {
        "colab": {
          "base_uri": "https://localhost:8080/"
        },
        "id": "GM2cBqQR5ZSi",
        "outputId": "90709c5f-a6eb-4c35-8e8b-d9d7b89b9869"
      },
      "execution_count": null,
      "outputs": [
        {
          "output_type": "execute_result",
          "data": {
            "text/plain": [
              "comment_text     0\n",
              "toxic            0\n",
              "severe_toxic     0\n",
              "obscene          0\n",
              "threat           0\n",
              "insult           0\n",
              "identity_hate    0\n",
              "dtype: int64"
            ]
          },
          "metadata": {},
          "execution_count": 18
        }
      ]
    },
    {
      "cell_type": "code",
      "source": [
        "print(\"untuk toxic\")\n",
        "print(df['toxic'].value_counts(), '\\n')\n",
        "\n",
        "print(\"untuk severe_toxic\")\n",
        "print(df['severe_toxic'].value_counts(), '\\n')\n",
        "\n",
        "print(\"untuk obscene\")\n",
        "print(df['obscene'].value_counts(), '\\n')\n",
        "\n",
        "print(\"untuk threat\")\n",
        "print(df['threat'].value_counts())\n",
        "\n",
        "print(\"untuk insult\")\n",
        "print(df['insult'].value_counts(),'\\n')\n",
        "\n",
        "print(\"untuk identity_hate\")\n",
        "df['identity_hate'].value_counts()"
      ],
      "metadata": {
        "colab": {
          "base_uri": "https://localhost:8080/"
        },
        "id": "iFTqPsGCWA2M",
        "outputId": "af4d1564-8bf2-4625-db55-30d47a3ad1c3"
      },
      "execution_count": null,
      "outputs": [
        {
          "output_type": "stream",
          "name": "stdout",
          "text": [
            "untuk toxic\n",
            "0    144277\n",
            "1     15294\n",
            "Name: toxic, dtype: int64 \n",
            "\n",
            "untuk severe_toxic\n",
            "0    157976\n",
            "1      1595\n",
            "Name: severe_toxic, dtype: int64 \n",
            "\n",
            "untuk obscene\n",
            "0    151122\n",
            "1      8449\n",
            "Name: obscene, dtype: int64 \n",
            "\n",
            "untuk threat\n",
            "0    159093\n",
            "1       478\n",
            "Name: threat, dtype: int64\n",
            "untuk insult\n",
            "0    151694\n",
            "1      7877\n",
            "Name: insult, dtype: int64 \n",
            "\n",
            "untuk identity_hate\n"
          ]
        },
        {
          "output_type": "execute_result",
          "data": {
            "text/plain": [
              "0    158166\n",
              "1      1405\n",
              "Name: identity_hate, dtype: int64"
            ]
          },
          "metadata": {},
          "execution_count": 19
        }
      ]
    },
    {
      "cell_type": "code",
      "source": [
        "data_count=df.iloc[:,1:].sum()\n",
        "data_count"
      ],
      "metadata": {
        "colab": {
          "base_uri": "https://localhost:8080/"
        },
        "id": "wVIXSRO3XEAY",
        "outputId": "20654125-c436-47d5-a346-830077652f62"
      },
      "execution_count": null,
      "outputs": [
        {
          "output_type": "execute_result",
          "data": {
            "text/plain": [
              "toxic            15294\n",
              "severe_toxic      1595\n",
              "obscene           8449\n",
              "threat             478\n",
              "insult            7877\n",
              "identity_hate     1405\n",
              "dtype: int64"
            ]
          },
          "metadata": {},
          "execution_count": 10
        }
      ]
    },
    {
      "cell_type": "code",
      "source": [
        "clean_df = df[df[TARGETS].sum(axis=1) == 0]\n",
        "clean_df.shape"
      ],
      "metadata": {
        "id": "nn5pLeGOUX15",
        "colab": {
          "base_uri": "https://localhost:8080/"
        },
        "outputId": "8cf0a914-4134-4512-f2c5-73c1c76eeecd"
      },
      "execution_count": null,
      "outputs": [
        {
          "output_type": "execute_result",
          "data": {
            "text/plain": [
              "(143346, 7)"
            ]
          },
          "metadata": {},
          "execution_count": 14
        }
      ]
    },
    {
      "cell_type": "code",
      "source": [
        "dirty_df = df[df[TARGETS].sum(axis=1) > 0]\n",
        "dirty_df.shape"
      ],
      "metadata": {
        "colab": {
          "base_uri": "https://localhost:8080/"
        },
        "id": "qpW7PHtQVCUe",
        "outputId": "21adf44f-a7b7-4e27-ef17-7776f5feb0ab"
      },
      "execution_count": null,
      "outputs": [
        {
          "output_type": "execute_result",
          "data": {
            "text/plain": [
              "(16225, 7)"
            ]
          },
          "metadata": {},
          "execution_count": 15
        }
      ]
    },
    {
      "cell_type": "markdown",
      "source": [
        "##Visualize jumlah komen dari tiap kelas dalam grafik"
      ],
      "metadata": {
        "id": "VLhpxe-FFfuo"
      }
    },
    {
      "cell_type": "code",
      "source": [
        "data_count_list = list(data_count)\n",
        "data_count_list"
      ],
      "metadata": {
        "colab": {
          "base_uri": "https://localhost:8080/"
        },
        "id": "InMocC8D_htf",
        "outputId": "cf9e4eb5-8c01-4a5a-8506-f23e191e5251"
      },
      "execution_count": null,
      "outputs": [
        {
          "output_type": "execute_result",
          "data": {
            "text/plain": [
              "[15294, 1595, 8449, 478, 7877, 1405]"
            ]
          },
          "metadata": {},
          "execution_count": 11
        }
      ]
    },
    {
      "cell_type": "code",
      "source": [
        "label=['toxic', 'severe_toxic', 'obscene', 'threat', 'insult', 'identity_hate','clean']\n",
        "data_count_list.append(clean_df.shape[0])\n",
        "x=label\n",
        "y=data_count_list"
      ],
      "metadata": {
        "id": "3Bo2KGztAxkw"
      },
      "execution_count": null,
      "outputs": []
    },
    {
      "cell_type": "code",
      "source": [
        "plt.figure(figsize=(10,10))\n",
        "x1=np.arange(7)\n",
        "plt.bar(x=np.arange(7),height=y)\n",
        "plt.xticks(x1,labels=x)\n",
        "plt.show()"
      ],
      "metadata": {
        "colab": {
          "base_uri": "https://localhost:8080/",
          "height": 592
        },
        "id": "dQi-Qnum-3aQ",
        "outputId": "768719da-ff95-42d7-8cd0-1f8913217eb0"
      },
      "execution_count": null,
      "outputs": [
        {
          "output_type": "display_data",
          "data": {
            "text/plain": [
              "<Figure size 720x720 with 1 Axes>"
            ],
            "image/png": "[encoded data removed]"
          },
          "metadata": {
            "needs_background": "light"
          }
        }
      ]
    },
    {
      "cell_type": "markdown",
      "source": [
        "#Handling Imabalance dataset\n"
      ],
      "metadata": {
        "id": "fq5Oyi-aUkIA"
      }
    },
    {
      "cell_type": "code",
      "source": [
        "lst=[2,3]\n",
        "lst1=lst\n",
        "lst1=[1,4,5]\n",
        "\n",
        "print(lst)"
      ],
      "metadata": {
        "colab": {
          "base_uri": "https://localhost:8080/"
        },
        "id": "nCm1rybD4a08",
        "outputId": "eefe4c52-ee34-46bd-83ab-982a92dc140d"
      },
      "execution_count": null,
      "outputs": [
        {
          "output_type": "stream",
          "name": "stdout",
          "text": [
            "[2, 3]\n"
          ]
        }
      ]
    },
    {
      "cell_type": "code",
      "source": [
        "df.head()"
      ],
      "metadata": {
        "colab": {
          "base_uri": "https://localhost:8080/",
          "height": 206
        },
        "id": "mOxCVt4STZNT",
        "outputId": "2b738e7c-771f-4917-a0dd-f30bc1b4efb9"
      },
      "execution_count": null,
      "outputs": [
        {
          "output_type": "execute_result",
          "data": {
            "text/plain": [
              "                                        comment_text  toxic  severe_toxic  \\\n",
              "0  Explanation\\nWhy the edits made under my usern...      0             0   \n",
              "1  D'aww! He matches this background colour I'm s...      0             0   \n",
              "2  Hey man, I'm really not trying to edit war. It...      0             0   \n",
              "3  \"\\nMore\\nI can't make any real suggestions on ...      0             0   \n",
              "4  You, sir, are my hero. Any chance you remember...      0             0   \n",
              "\n",
              "   obscene  threat  insult  identity_hate  \n",
              "0        0       0       0              0  \n",
              "1        0       0       0              0  \n",
              "2        0       0       0              0  \n",
              "3        0       0       0              0  \n",
              "4        0       0       0              0  "
            ],
            "text/html": [
              "\n",
              "  <div id=\"df-810fdd35-c3dc-4bff-aa99-3fc2b83c1746\">\n",
              "    <div class=\"colab-df-container\">\n",
              "      <div>\n",
              "<style scoped>\n",
              "    .dataframe tbody tr th:only-of-type {\n",
              "        vertical-align: middle;\n",
              "    }\n",
              "\n",
              "    .dataframe tbody tr th {\n",
              "        vertical-align: top;\n",
              "    }\n",
              "\n",
              "    .dataframe thead th {\n",
              "        text-align: right;\n",
              "    }\n",
              "</style>\n",
              "<table border=\"1\" class=\"dataframe\">\n",
              "  <thead>\n",
              "    <tr style=\"text-align: right;\">\n",
              "      <th></th>\n",
              "      <th>comment_text</th>\n",
              "      <th>toxic</th>\n",
              "      <th>severe_toxic</th>\n",
              "      <th>obscene</th>\n",
              "      <th>threat</th>\n",
              "      <th>insult</th>\n",
              "      <th>identity_hate</th>\n",
              "    </tr>\n",
              "  </thead>\n",
              "  <tbody>\n",
              "    <tr>\n",
              "      <th>0</th>\n",
              "      <td>Explanation\\nWhy the edits made under my usern...</td>\n",
              "      <td>0</td>\n",
              "      <td>0</td>\n",
              "      <td>0</td>\n",
              "      <td>0</td>\n",
              "      <td>0</td>\n",
              "      <td>0</td>\n",
              "    </tr>\n",
              "    <tr>\n",
              "      <th>1</th>\n",
              "      <td>D'aww! He matches this background colour I'm s...</td>\n",
              "      <td>0</td>\n",
              "      <td>0</td>\n",
              "      <td>0</td>\n",
              "      <td>0</td>\n",
              "      <td>0</td>\n",
              "      <td>0</td>\n",
              "    </tr>\n",
              "    <tr>\n",
              "      <th>2</th>\n",
              "      <td>Hey man, I'm really not trying to edit war. It...</td>\n",
              "      <td>0</td>\n",
              "      <td>0</td>\n",
              "      <td>0</td>\n",
              "      <td>0</td>\n",
              "      <td>0</td>\n",
              "      <td>0</td>\n",
              "    </tr>\n",
              "    <tr>\n",
              "      <th>3</th>\n",
              "      <td>\"\\nMore\\nI can't make any real suggestions on ...</td>\n",
              "      <td>0</td>\n",
              "      <td>0</td>\n",
              "      <td>0</td>\n",
              "      <td>0</td>\n",
              "      <td>0</td>\n",
              "      <td>0</td>\n",
              "    </tr>\n",
              "    <tr>\n",
              "      <th>4</th>\n",
              "      <td>You, sir, are my hero. Any chance you remember...</td>\n",
              "      <td>0</td>\n",
              "      <td>0</td>\n",
              "      <td>0</td>\n",
              "      <td>0</td>\n",
              "      <td>0</td>\n",
              "      <td>0</td>\n",
              "    </tr>\n",
              "  </tbody>\n",
              "</table>\n",
              "</div>\n",
              "      <button class=\"colab-df-convert\" onclick=\"convertToInteractive('df-810fdd35-c3dc-4bff-aa99-3fc2b83c1746')\"\n",
              "              title=\"Convert this dataframe to an interactive table.\"\n",
              "              style=\"display:none;\">\n",
              "        \n",
              "  <svg xmlns=\"http://www.w3.org/2000/svg\" height=\"24px\"viewBox=\"0 0 24 24\"\n",
              "       width=\"24px\">\n",
              "    <path d=\"M0 0h24v24H0V0z\" fill=\"none\"/>\n",
              "    <path d=\"M18.56 5.44l.94 2.06.94-2.06 2.06-.94-2.06-.94-.94-2.06-.94 2.06-2.06.94zm-11 1L8.5 8.5l.94-2.06 2.06-.94-2.06-.94L8.5 2.5l-.94 2.06-2.06.94zm10 10l.94 2.06.94-2.06 2.06-.94-2.06-.94-.94-2.06-.94 2.06-2.06.94z\"/><path d=\"M17.41 7.96l-1.37-1.37c-.4-.4-.92-.59-1.43-.59-.52 0-1.04.2-1.43.59L10.3 9.45l-7.72 7.72c-.78.78-.78 2.05 0 2.83L4 21.41c.39.39.9.59 1.41.59.51 0 1.02-.2 1.41-.59l7.78-7.78 2.81-2.81c.8-.78.8-2.07 0-2.86zM5.41 20L4 18.59l7.72-7.72 1.47 1.35L5.41 20z\"/>\n",
              "  </svg>\n",
              "      </button>\n",
              "      \n",
              "  <style>\n",
              "    .colab-df-container {\n",
              "      display:flex;\n",
              "      flex-wrap:wrap;\n",
              "      gap: 12px;\n",
              "    }\n",
              "\n",
              "    .colab-df-convert {\n",
              "      background-color: #E8F0FE;\n",
              "      border: none;\n",
              "      border-radius: 50%;\n",
              "      cursor: pointer;\n",
              "      display: none;\n",
              "      fill: #1967D2;\n",
              "      height: 32px;\n",
              "      padding: 0 0 0 0;\n",
              "      width: 32px;\n",
              "    }\n",
              "\n",
              "    .colab-df-convert:hover {\n",
              "      background-color: #E2EBFA;\n",
              "      box-shadow: 0px 1px 2px rgba(60, 64, 67, 0.3), 0px 1px 3px 1px rgba(60, 64, 67, 0.15);\n",
              "      fill: #174EA6;\n",
              "    }\n",
              "\n",
              "    [theme=dark] .colab-df-convert {\n",
              "      background-color: #3B4455;\n",
              "      fill: #D2E3FC;\n",
              "    }\n",
              "\n",
              "    [theme=dark] .colab-df-convert:hover {\n",
              "      background-color: #434B5C;\n",
              "      box-shadow: 0px 1px 3px 1px rgba(0, 0, 0, 0.15);\n",
              "      filter: drop-shadow(0px 1px 2px rgba(0, 0, 0, 0.3));\n",
              "      fill: #FFFFFF;\n",
              "    }\n",
              "  </style>\n",
              "\n",
              "      <script>\n",
              "        const buttonEl =\n",
              "          document.querySelector('#df-810fdd35-c3dc-4bff-aa99-3fc2b83c1746 button.colab-df-convert');\n",
              "        buttonEl.style.display =\n",
              "          google.colab.kernel.accessAllowed ? 'block' : 'none';\n",
              "\n",
              "        async function convertToInteractive(key) {\n",
              "          const element = document.querySelector('#df-810fdd35-c3dc-4bff-aa99-3fc2b83c1746');\n",
              "          const dataTable =\n",
              "            await google.colab.kernel.invokeFunction('convertToInteractive',\n",
              "                                                     [key], {});\n",
              "          if (!dataTable) return;\n",
              "\n",
              "          const docLinkHtml = 'Like what you see? Visit the ' +\n",
              "            '<a target=\"_blank\" href=https://colab.research.google.com/notebooks/data_table.ipynb>data table notebook</a>'\n",
              "            + ' to learn more about interactive tables.';\n",
              "          element.innerHTML = '';\n",
              "          dataTable['output_type'] = 'display_data';\n",
              "          await google.colab.output.renderOutput(dataTable, element);\n",
              "          const docLink = document.createElement('div');\n",
              "          docLink.innerHTML = docLinkHtml;\n",
              "          element.appendChild(docLink);\n",
              "        }\n",
              "      </script>\n",
              "    </div>\n",
              "  </div>\n",
              "  "
            ]
          },
          "metadata": {},
          "execution_count": 13
        }
      ]
    },
    {
      "cell_type": "markdown",
      "source": [
        "##Karena komen yang clean terlalu banyak, sehingga saya akan sample saja"
      ],
      "metadata": {
        "id": "A9yA2vLDT6jX"
      }
    },
    {
      "cell_type": "code",
      "source": [
        "clean_df= clean_df.sample(16000,random_state=42).reset_index(drop=True)\n",
        "clean_df.shape"
      ],
      "metadata": {
        "colab": {
          "base_uri": "https://localhost:8080/"
        },
        "id": "ontoc6rIUGZk",
        "outputId": "ffa4e669-4183-438d-f1a5-dc36e091722c"
      },
      "execution_count": null,
      "outputs": [
        {
          "output_type": "execute_result",
          "data": {
            "text/plain": [
              "(16000, 7)"
            ]
          },
          "metadata": {},
          "execution_count": 16
        }
      ]
    },
    {
      "cell_type": "code",
      "source": [
        "concat_df= pd.concat([clean_df, dirty_df])\n",
        "concat_df.head()"
      ],
      "metadata": {
        "colab": {
          "base_uri": "https://localhost:8080/",
          "height": 206
        },
        "id": "w8SalxwjV_7x",
        "outputId": "a42fa61f-4525-4dd3-8339-9691a671b5ab"
      },
      "execution_count": null,
      "outputs": [
        {
          "output_type": "execute_result",
          "data": {
            "text/plain": [
              "                                        comment_text  toxic  severe_toxic  \\\n",
              "0  \"\\n\\nOh, don't worry about me, Sandstein. I'm ...      0             0   \n",
              "1               Are you trying to dispute that fact?      0             0   \n",
              "2  SWOT analysis \\n\\nThis source – Align Technolo...      0             0   \n",
              "3  cover \\n\\nso, do we want a current or older co...      0             0   \n",
              "4  P.S. It's probably worth setting up a template...      0             0   \n",
              "\n",
              "   obscene  threat  insult  identity_hate  \n",
              "0        0       0       0              0  \n",
              "1        0       0       0              0  \n",
              "2        0       0       0              0  \n",
              "3        0       0       0              0  \n",
              "4        0       0       0              0  "
            ],
            "text/html": [
              "\n",
              "  <div id=\"df-3b788d84-e1be-4ce6-b530-dabe51ca5b7c\">\n",
              "    <div class=\"colab-df-container\">\n",
              "      <div>\n",
              "<style scoped>\n",
              "    .dataframe tbody tr th:only-of-type {\n",
              "        vertical-align: middle;\n",
              "    }\n",
              "\n",
              "    .dataframe tbody tr th {\n",
              "        vertical-align: top;\n",
              "    }\n",
              "\n",
              "    .dataframe thead th {\n",
              "        text-align: right;\n",
              "    }\n",
              "</style>\n",
              "<table border=\"1\" class=\"dataframe\">\n",
              "  <thead>\n",
              "    <tr style=\"text-align: right;\">\n",
              "      <th></th>\n",
              "      <th>comment_text</th>\n",
              "      <th>toxic</th>\n",
              "      <th>severe_toxic</th>\n",
              "      <th>obscene</th>\n",
              "      <th>threat</th>\n",
              "      <th>insult</th>\n",
              "      <th>identity_hate</th>\n",
              "    </tr>\n",
              "  </thead>\n",
              "  <tbody>\n",
              "    <tr>\n",
              "      <th>0</th>\n",
              "      <td>\"\\n\\nOh, don't worry about me, Sandstein. I'm ...</td>\n",
              "      <td>0</td>\n",
              "      <td>0</td>\n",
              "      <td>0</td>\n",
              "      <td>0</td>\n",
              "      <td>0</td>\n",
              "      <td>0</td>\n",
              "    </tr>\n",
              "    <tr>\n",
              "      <th>1</th>\n",
              "      <td>Are you trying to dispute that fact?</td>\n",
              "      <td>0</td>\n",
              "      <td>0</td>\n",
              "      <td>0</td>\n",
              "      <td>0</td>\n",
              "      <td>0</td>\n",
              "      <td>0</td>\n",
              "    </tr>\n",
              "    <tr>\n",
              "      <th>2</th>\n",
              "      <td>SWOT analysis \\n\\nThis source – Align Technolo...</td>\n",
              "      <td>0</td>\n",
              "      <td>0</td>\n",
              "      <td>0</td>\n",
              "      <td>0</td>\n",
              "      <td>0</td>\n",
              "      <td>0</td>\n",
              "    </tr>\n",
              "    <tr>\n",
              "      <th>3</th>\n",
              "      <td>cover \\n\\nso, do we want a current or older co...</td>\n",
              "      <td>0</td>\n",
              "      <td>0</td>\n",
              "      <td>0</td>\n",
              "      <td>0</td>\n",
              "      <td>0</td>\n",
              "      <td>0</td>\n",
              "    </tr>\n",
              "    <tr>\n",
              "      <th>4</th>\n",
              "      <td>P.S. It's probably worth setting up a template...</td>\n",
              "      <td>0</td>\n",
              "      <td>0</td>\n",
              "      <td>0</td>\n",
              "      <td>0</td>\n",
              "      <td>0</td>\n",
              "      <td>0</td>\n",
              "    </tr>\n",
              "  </tbody>\n",
              "</table>\n",
              "</div>\n",
              "      <button class=\"colab-df-convert\" onclick=\"convertToInteractive('df-3b788d84-e1be-4ce6-b530-dabe51ca5b7c')\"\n",
              "              title=\"Convert this dataframe to an interactive table.\"\n",
              "              style=\"display:none;\">\n",
              "        \n",
              "  <svg xmlns=\"http://www.w3.org/2000/svg\" height=\"24px\"viewBox=\"0 0 24 24\"\n",
              "       width=\"24px\">\n",
              "    <path d=\"M0 0h24v24H0V0z\" fill=\"none\"/>\n",
              "    <path d=\"M18.56 5.44l.94 2.06.94-2.06 2.06-.94-2.06-.94-.94-2.06-.94 2.06-2.06.94zm-11 1L8.5 8.5l.94-2.06 2.06-.94-2.06-.94L8.5 2.5l-.94 2.06-2.06.94zm10 10l.94 2.06.94-2.06 2.06-.94-2.06-.94-.94-2.06-.94 2.06-2.06.94z\"/><path d=\"M17.41 7.96l-1.37-1.37c-.4-.4-.92-.59-1.43-.59-.52 0-1.04.2-1.43.59L10.3 9.45l-7.72 7.72c-.78.78-.78 2.05 0 2.83L4 21.41c.39.39.9.59 1.41.59.51 0 1.02-.2 1.41-.59l7.78-7.78 2.81-2.81c.8-.78.8-2.07 0-2.86zM5.41 20L4 18.59l7.72-7.72 1.47 1.35L5.41 20z\"/>\n",
              "  </svg>\n",
              "      </button>\n",
              "      \n",
              "  <style>\n",
              "    .colab-df-container {\n",
              "      display:flex;\n",
              "      flex-wrap:wrap;\n",
              "      gap: 12px;\n",
              "    }\n",
              "\n",
              "    .colab-df-convert {\n",
              "      background-color: #E8F0FE;\n",
              "      border: none;\n",
              "      border-radius: 50%;\n",
              "      cursor: pointer;\n",
              "      display: none;\n",
              "      fill: #1967D2;\n",
              "      height: 32px;\n",
              "      padding: 0 0 0 0;\n",
              "      width: 32px;\n",
              "    }\n",
              "\n",
              "    .colab-df-convert:hover {\n",
              "      background-color: #E2EBFA;\n",
              "      box-shadow: 0px 1px 2px rgba(60, 64, 67, 0.3), 0px 1px 3px 1px rgba(60, 64, 67, 0.15);\n",
              "      fill: #174EA6;\n",
              "    }\n",
              "\n",
              "    [theme=dark] .colab-df-convert {\n",
              "      background-color: #3B4455;\n",
              "      fill: #D2E3FC;\n",
              "    }\n",
              "\n",
              "    [theme=dark] .colab-df-convert:hover {\n",
              "      background-color: #434B5C;\n",
              "      box-shadow: 0px 1px 3px 1px rgba(0, 0, 0, 0.15);\n",
              "      filter: drop-shadow(0px 1px 2px rgba(0, 0, 0, 0.3));\n",
              "      fill: #FFFFFF;\n",
              "    }\n",
              "  </style>\n",
              "\n",
              "      <script>\n",
              "        const buttonEl =\n",
              "          document.querySelector('#df-3b788d84-e1be-4ce6-b530-dabe51ca5b7c button.colab-df-convert');\n",
              "        buttonEl.style.display =\n",
              "          google.colab.kernel.accessAllowed ? 'block' : 'none';\n",
              "\n",
              "        async function convertToInteractive(key) {\n",
              "          const element = document.querySelector('#df-3b788d84-e1be-4ce6-b530-dabe51ca5b7c');\n",
              "          const dataTable =\n",
              "            await google.colab.kernel.invokeFunction('convertToInteractive',\n",
              "                                                     [key], {});\n",
              "          if (!dataTable) return;\n",
              "\n",
              "          const docLinkHtml = 'Like what you see? Visit the ' +\n",
              "            '<a target=\"_blank\" href=https://colab.research.google.com/notebooks/data_table.ipynb>data table notebook</a>'\n",
              "            + ' to learn more about interactive tables.';\n",
              "          element.innerHTML = '';\n",
              "          dataTable['output_type'] = 'display_data';\n",
              "          await google.colab.output.renderOutput(dataTable, element);\n",
              "          const docLink = document.createElement('div');\n",
              "          docLink.innerHTML = docLinkHtml;\n",
              "          element.appendChild(docLink);\n",
              "        }\n",
              "      </script>\n",
              "    </div>\n",
              "  </div>\n",
              "  "
            ]
          },
          "metadata": {},
          "execution_count": 17
        }
      ]
    },
    {
      "cell_type": "markdown",
      "source": [
        "Kita shuffle agar tidak monoton"
      ],
      "metadata": {
        "id": "RUkCu3iXWYxx"
      }
    },
    {
      "cell_type": "code",
      "source": [
        "concat_df= concat_df.sample(frac=1,random_state=42).reset_index(drop=True)"
      ],
      "metadata": {
        "id": "5X60QF3WWqIF"
      },
      "execution_count": null,
      "outputs": []
    },
    {
      "cell_type": "code",
      "source": [
        "concat_df.head()"
      ],
      "metadata": {
        "id": "HFBMKxzJWz3q",
        "colab": {
          "base_uri": "https://localhost:8080/",
          "height": 206
        },
        "outputId": "1597d4b9-d378-4e4f-ef8f-8e3c671f39f8"
      },
      "execution_count": null,
      "outputs": [
        {
          "output_type": "execute_result",
          "data": {
            "text/plain": [
              "                                        comment_text  toxic  severe_toxic  \\\n",
              "0  \"\\n\\nTell you the truth, I really don't mind t...      1             0   \n",
              "1  Quote by Chen in intro \\n\\nI did not see anyth...      0             0   \n",
              "2  \"\\n\\n Response \\n\\n1. Photo selection: On 3/15...      0             0   \n",
              "3  I am open to your idea, which I think is desis...      0             0   \n",
              "4  Rather than simply deleting the picture of a g...      0             0   \n",
              "\n",
              "   obscene  threat  insult  identity_hate  \n",
              "0        0       0       0              0  \n",
              "1        0       0       0              0  \n",
              "2        0       0       0              0  \n",
              "3        0       0       0              0  \n",
              "4        0       0       0              0  "
            ],
            "text/html": [
              "\n",
              "  <div id=\"df-33f095fc-ac49-46c4-bf8c-4dee806fee01\">\n",
              "    <div class=\"colab-df-container\">\n",
              "      <div>\n",
              "<style scoped>\n",
              "    .dataframe tbody tr th:only-of-type {\n",
              "        vertical-align: middle;\n",
              "    }\n",
              "\n",
              "    .dataframe tbody tr th {\n",
              "        vertical-align: top;\n",
              "    }\n",
              "\n",
              "    .dataframe thead th {\n",
              "        text-align: right;\n",
              "    }\n",
              "</style>\n",
              "<table border=\"1\" class=\"dataframe\">\n",
              "  <thead>\n",
              "    <tr style=\"text-align: right;\">\n",
              "      <th></th>\n",
              "      <th>comment_text</th>\n",
              "      <th>toxic</th>\n",
              "      <th>severe_toxic</th>\n",
              "      <th>obscene</th>\n",
              "      <th>threat</th>\n",
              "      <th>insult</th>\n",
              "      <th>identity_hate</th>\n",
              "    </tr>\n",
              "  </thead>\n",
              "  <tbody>\n",
              "    <tr>\n",
              "      <th>0</th>\n",
              "      <td>\"\\n\\nTell you the truth, I really don't mind t...</td>\n",
              "      <td>1</td>\n",
              "      <td>0</td>\n",
              "      <td>0</td>\n",
              "      <td>0</td>\n",
              "      <td>0</td>\n",
              "      <td>0</td>\n",
              "    </tr>\n",
              "    <tr>\n",
              "      <th>1</th>\n",
              "      <td>Quote by Chen in intro \\n\\nI did not see anyth...</td>\n",
              "      <td>0</td>\n",
              "      <td>0</td>\n",
              "      <td>0</td>\n",
              "      <td>0</td>\n",
              "      <td>0</td>\n",
              "      <td>0</td>\n",
              "    </tr>\n",
              "    <tr>\n",
              "      <th>2</th>\n",
              "      <td>\"\\n\\n Response \\n\\n1. Photo selection: On 3/15...</td>\n",
              "      <td>0</td>\n",
              "      <td>0</td>\n",
              "      <td>0</td>\n",
              "      <td>0</td>\n",
              "      <td>0</td>\n",
              "      <td>0</td>\n",
              "    </tr>\n",
              "    <tr>\n",
              "      <th>3</th>\n",
              "      <td>I am open to your idea, which I think is desis...</td>\n",
              "      <td>0</td>\n",
              "      <td>0</td>\n",
              "      <td>0</td>\n",
              "      <td>0</td>\n",
              "      <td>0</td>\n",
              "      <td>0</td>\n",
              "    </tr>\n",
              "    <tr>\n",
              "      <th>4</th>\n",
              "      <td>Rather than simply deleting the picture of a g...</td>\n",
              "      <td>0</td>\n",
              "      <td>0</td>\n",
              "      <td>0</td>\n",
              "      <td>0</td>\n",
              "      <td>0</td>\n",
              "      <td>0</td>\n",
              "    </tr>\n",
              "  </tbody>\n",
              "</table>\n",
              "</div>\n",
              "      <button class=\"colab-df-convert\" onclick=\"convertToInteractive('df-33f095fc-ac49-46c4-bf8c-4dee806fee01')\"\n",
              "              title=\"Convert this dataframe to an interactive table.\"\n",
              "              style=\"display:none;\">\n",
              "        \n",
              "  <svg xmlns=\"http://www.w3.org/2000/svg\" height=\"24px\"viewBox=\"0 0 24 24\"\n",
              "       width=\"24px\">\n",
              "    <path d=\"M0 0h24v24H0V0z\" fill=\"none\"/>\n",
              "    <path d=\"M18.56 5.44l.94 2.06.94-2.06 2.06-.94-2.06-.94-.94-2.06-.94 2.06-2.06.94zm-11 1L8.5 8.5l.94-2.06 2.06-.94-2.06-.94L8.5 2.5l-.94 2.06-2.06.94zm10 10l.94 2.06.94-2.06 2.06-.94-2.06-.94-.94-2.06-.94 2.06-2.06.94z\"/><path d=\"M17.41 7.96l-1.37-1.37c-.4-.4-.92-.59-1.43-.59-.52 0-1.04.2-1.43.59L10.3 9.45l-7.72 7.72c-.78.78-.78 2.05 0 2.83L4 21.41c.39.39.9.59 1.41.59.51 0 1.02-.2 1.41-.59l7.78-7.78 2.81-2.81c.8-.78.8-2.07 0-2.86zM5.41 20L4 18.59l7.72-7.72 1.47 1.35L5.41 20z\"/>\n",
              "  </svg>\n",
              "      </button>\n",
              "      \n",
              "  <style>\n",
              "    .colab-df-container {\n",
              "      display:flex;\n",
              "      flex-wrap:wrap;\n",
              "      gap: 12px;\n",
              "    }\n",
              "\n",
              "    .colab-df-convert {\n",
              "      background-color: #E8F0FE;\n",
              "      border: none;\n",
              "      border-radius: 50%;\n",
              "      cursor: pointer;\n",
              "      display: none;\n",
              "      fill: #1967D2;\n",
              "      height: 32px;\n",
              "      padding: 0 0 0 0;\n",
              "      width: 32px;\n",
              "    }\n",
              "\n",
              "    .colab-df-convert:hover {\n",
              "      background-color: #E2EBFA;\n",
              "      box-shadow: 0px 1px 2px rgba(60, 64, 67, 0.3), 0px 1px 3px 1px rgba(60, 64, 67, 0.15);\n",
              "      fill: #174EA6;\n",
              "    }\n",
              "\n",
              "    [theme=dark] .colab-df-convert {\n",
              "      background-color: #3B4455;\n",
              "      fill: #D2E3FC;\n",
              "    }\n",
              "\n",
              "    [theme=dark] .colab-df-convert:hover {\n",
              "      background-color: #434B5C;\n",
              "      box-shadow: 0px 1px 3px 1px rgba(0, 0, 0, 0.15);\n",
              "      filter: drop-shadow(0px 1px 2px rgba(0, 0, 0, 0.3));\n",
              "      fill: #FFFFFF;\n",
              "    }\n",
              "  </style>\n",
              "\n",
              "      <script>\n",
              "        const buttonEl =\n",
              "          document.querySelector('#df-33f095fc-ac49-46c4-bf8c-4dee806fee01 button.colab-df-convert');\n",
              "        buttonEl.style.display =\n",
              "          google.colab.kernel.accessAllowed ? 'block' : 'none';\n",
              "\n",
              "        async function convertToInteractive(key) {\n",
              "          const element = document.querySelector('#df-33f095fc-ac49-46c4-bf8c-4dee806fee01');\n",
              "          const dataTable =\n",
              "            await google.colab.kernel.invokeFunction('convertToInteractive',\n",
              "                                                     [key], {});\n",
              "          if (!dataTable) return;\n",
              "\n",
              "          const docLinkHtml = 'Like what you see? Visit the ' +\n",
              "            '<a target=\"_blank\" href=https://colab.research.google.com/notebooks/data_table.ipynb>data table notebook</a>'\n",
              "            + ' to learn more about interactive tables.';\n",
              "          element.innerHTML = '';\n",
              "          dataTable['output_type'] = 'display_data';\n",
              "          await google.colab.output.renderOutput(dataTable, element);\n",
              "          const docLink = document.createElement('div');\n",
              "          docLink.innerHTML = docLinkHtml;\n",
              "          element.appendChild(docLink);\n",
              "        }\n",
              "      </script>\n",
              "    </div>\n",
              "  </div>\n",
              "  "
            ]
          },
          "metadata": {},
          "execution_count": 19
        }
      ]
    },
    {
      "cell_type": "markdown",
      "source": [
        "#Clean Texts"
      ],
      "metadata": {
        "id": "tks3C4W6UtS5"
      }
    },
    {
      "cell_type": "markdown",
      "source": [
        "buang '\\\\n' dan juga remove double space"
      ],
      "metadata": {
        "id": "yjZwThGy6Iqq"
      }
    },
    {
      "cell_type": "code",
      "source": [
        "alphanumeric = lambda x: re.sub('\\w*\\d\\w*', ' ', x)\n",
        "concat_df['comment_text'] = concat_df['comment_text'].map(alphanumeric)\n",
        "concat_df['comment_text']= concat_df['comment_text'].map(lambda x: re.sub(r'\\n',r' ', x))\n",
        "concat_df['comment_text']= concat_df['comment_text'].map(lambda x: re.sub(r'  ',r' ', x))\n",
        "concat_df['comment_text']=concat_df['comment_text'].str.strip()"
      ],
      "metadata": {
        "id": "DIG9lxZU6E4X"
      },
      "execution_count": null,
      "outputs": []
    },
    {
      "cell_type": "code",
      "source": [
        "concat_df['comment_text'][0]"
      ],
      "metadata": {
        "colab": {
          "base_uri": "https://localhost:8080/",
          "height": 70
        },
        "id": "euTmKWBM6POS",
        "outputId": "c7533848-6969-48ef-a25e-3980bb3c7da9"
      },
      "execution_count": null,
      "outputs": [
        {
          "output_type": "execute_result",
          "data": {
            "text/plain": [
              "'\" Tell you the truth, I really don\\'t mind this block at all. I did harass. That is what you do in a war where no one plays by the rules. Quite frankly I am fed up with being constantly blocked by silly Wiki morons and am glad I said it. We all know the politics around here so let\\'s stop talking past each other, right? Look at why I was deleted leading to all this, not after World war III was in mid session. Who Started it? Not I! Until Wikipedia deals with morons I have no choice but to retain this position as this madness known as \"\"Wikipedia\"\" writes trash on my life. Liberals will do what liberals do: Level the playing field for the idiots, and I will be there to respond.\"'"
            ],
            "application/vnd.google.colaboratory.intrinsic+json": {
              "type": "string"
            }
          },
          "metadata": {},
          "execution_count": 21
        }
      ]
    },
    {
      "cell_type": "markdown",
      "source": [
        "#Split into train and test"
      ],
      "metadata": {
        "id": "FBgG-B73bsZ3"
      }
    },
    {
      "cell_type": "code",
      "source": [
        "df_train, df_test= train_test_split(concat_df,test_size=0.1, random_state=42)\n",
        "df_train.reset_index(inplace=True, drop=True)\n",
        "df_test.reset_index(inplace=True, drop=True)"
      ],
      "metadata": {
        "id": "NjWnOHS-bv-1"
      },
      "execution_count": null,
      "outputs": []
    },
    {
      "cell_type": "code",
      "source": [
        "df_train.head()"
      ],
      "metadata": {
        "colab": {
          "base_uri": "https://localhost:8080/",
          "height": 206
        },
        "id": "tl7c43xvE6rQ",
        "outputId": "1930ba05-6202-490a-b95e-b17c717870aa"
      },
      "execution_count": null,
      "outputs": [
        {
          "output_type": "execute_result",
          "data": {
            "text/plain": [
              "                                        comment_text  toxic  severe_toxic  \\\n",
              "0  Isabelle Fuhrman Thanks for removing something...      0             0   \n",
              "1  BJP pro hindutva  , aren't you living in this ...      1             0   \n",
              "2  Sup dude. I'm not spamming. Fuck you, learn to...      1             0   \n",
              "3  Dear Snigbrook Your days are numbered, the sta...      1             0   \n",
              "4  \" She did the usual disappear at Christmas act...      0             0   \n",
              "\n",
              "   obscene  threat  insult  identity_hate  \n",
              "0        0       0       0              0  \n",
              "1        0       0       0              0  \n",
              "2        1       0       1              0  \n",
              "3        1       1       1              0  \n",
              "4        0       0       0              0  "
            ],
            "text/html": [
              "\n",
              "  <div id=\"df-ad67b8f8-626f-4544-b319-87b8168bc47a\">\n",
              "    <div class=\"colab-df-container\">\n",
              "      <div>\n",
              "<style scoped>\n",
              "    .dataframe tbody tr th:only-of-type {\n",
              "        vertical-align: middle;\n",
              "    }\n",
              "\n",
              "    .dataframe tbody tr th {\n",
              "        vertical-align: top;\n",
              "    }\n",
              "\n",
              "    .dataframe thead th {\n",
              "        text-align: right;\n",
              "    }\n",
              "</style>\n",
              "<table border=\"1\" class=\"dataframe\">\n",
              "  <thead>\n",
              "    <tr style=\"text-align: right;\">\n",
              "      <th></th>\n",
              "      <th>comment_text</th>\n",
              "      <th>toxic</th>\n",
              "      <th>severe_toxic</th>\n",
              "      <th>obscene</th>\n",
              "      <th>threat</th>\n",
              "      <th>insult</th>\n",
              "      <th>identity_hate</th>\n",
              "    </tr>\n",
              "  </thead>\n",
              "  <tbody>\n",
              "    <tr>\n",
              "      <th>0</th>\n",
              "      <td>Isabelle Fuhrman Thanks for removing something...</td>\n",
              "      <td>0</td>\n",
              "      <td>0</td>\n",
              "      <td>0</td>\n",
              "      <td>0</td>\n",
              "      <td>0</td>\n",
              "      <td>0</td>\n",
              "    </tr>\n",
              "    <tr>\n",
              "      <th>1</th>\n",
              "      <td>BJP pro hindutva  , aren't you living in this ...</td>\n",
              "      <td>1</td>\n",
              "      <td>0</td>\n",
              "      <td>0</td>\n",
              "      <td>0</td>\n",
              "      <td>0</td>\n",
              "      <td>0</td>\n",
              "    </tr>\n",
              "    <tr>\n",
              "      <th>2</th>\n",
              "      <td>Sup dude. I'm not spamming. Fuck you, learn to...</td>\n",
              "      <td>1</td>\n",
              "      <td>0</td>\n",
              "      <td>1</td>\n",
              "      <td>0</td>\n",
              "      <td>1</td>\n",
              "      <td>0</td>\n",
              "    </tr>\n",
              "    <tr>\n",
              "      <th>3</th>\n",
              "      <td>Dear Snigbrook Your days are numbered, the sta...</td>\n",
              "      <td>1</td>\n",
              "      <td>0</td>\n",
              "      <td>1</td>\n",
              "      <td>1</td>\n",
              "      <td>1</td>\n",
              "      <td>0</td>\n",
              "    </tr>\n",
              "    <tr>\n",
              "      <th>4</th>\n",
              "      <td>\" She did the usual disappear at Christmas act...</td>\n",
              "      <td>0</td>\n",
              "      <td>0</td>\n",
              "      <td>0</td>\n",
              "      <td>0</td>\n",
              "      <td>0</td>\n",
              "      <td>0</td>\n",
              "    </tr>\n",
              "  </tbody>\n",
              "</table>\n",
              "</div>\n",
              "      <button class=\"colab-df-convert\" onclick=\"convertToInteractive('df-ad67b8f8-626f-4544-b319-87b8168bc47a')\"\n",
              "              title=\"Convert this dataframe to an interactive table.\"\n",
              "              style=\"display:none;\">\n",
              "        \n",
              "  <svg xmlns=\"http://www.w3.org/2000/svg\" height=\"24px\"viewBox=\"0 0 24 24\"\n",
              "       width=\"24px\">\n",
              "    <path d=\"M0 0h24v24H0V0z\" fill=\"none\"/>\n",
              "    <path d=\"M18.56 5.44l.94 2.06.94-2.06 2.06-.94-2.06-.94-.94-2.06-.94 2.06-2.06.94zm-11 1L8.5 8.5l.94-2.06 2.06-.94-2.06-.94L8.5 2.5l-.94 2.06-2.06.94zm10 10l.94 2.06.94-2.06 2.06-.94-2.06-.94-.94-2.06-.94 2.06-2.06.94z\"/><path d=\"M17.41 7.96l-1.37-1.37c-.4-.4-.92-.59-1.43-.59-.52 0-1.04.2-1.43.59L10.3 9.45l-7.72 7.72c-.78.78-.78 2.05 0 2.83L4 21.41c.39.39.9.59 1.41.59.51 0 1.02-.2 1.41-.59l7.78-7.78 2.81-2.81c.8-.78.8-2.07 0-2.86zM5.41 20L4 18.59l7.72-7.72 1.47 1.35L5.41 20z\"/>\n",
              "  </svg>\n",
              "      </button>\n",
              "      \n",
              "  <style>\n",
              "    .colab-df-container {\n",
              "      display:flex;\n",
              "      flex-wrap:wrap;\n",
              "      gap: 12px;\n",
              "    }\n",
              "\n",
              "    .colab-df-convert {\n",
              "      background-color: #E8F0FE;\n",
              "      border: none;\n",
              "      border-radius: 50%;\n",
              "      cursor: pointer;\n",
              "      display: none;\n",
              "      fill: #1967D2;\n",
              "      height: 32px;\n",
              "      padding: 0 0 0 0;\n",
              "      width: 32px;\n",
              "    }\n",
              "\n",
              "    .colab-df-convert:hover {\n",
              "      background-color: #E2EBFA;\n",
              "      box-shadow: 0px 1px 2px rgba(60, 64, 67, 0.3), 0px 1px 3px 1px rgba(60, 64, 67, 0.15);\n",
              "      fill: #174EA6;\n",
              "    }\n",
              "\n",
              "    [theme=dark] .colab-df-convert {\n",
              "      background-color: #3B4455;\n",
              "      fill: #D2E3FC;\n",
              "    }\n",
              "\n",
              "    [theme=dark] .colab-df-convert:hover {\n",
              "      background-color: #434B5C;\n",
              "      box-shadow: 0px 1px 3px 1px rgba(0, 0, 0, 0.15);\n",
              "      filter: drop-shadow(0px 1px 2px rgba(0, 0, 0, 0.3));\n",
              "      fill: #FFFFFF;\n",
              "    }\n",
              "  </style>\n",
              "\n",
              "      <script>\n",
              "        const buttonEl =\n",
              "          document.querySelector('#df-ad67b8f8-626f-4544-b319-87b8168bc47a button.colab-df-convert');\n",
              "        buttonEl.style.display =\n",
              "          google.colab.kernel.accessAllowed ? 'block' : 'none';\n",
              "\n",
              "        async function convertToInteractive(key) {\n",
              "          const element = document.querySelector('#df-ad67b8f8-626f-4544-b319-87b8168bc47a');\n",
              "          const dataTable =\n",
              "            await google.colab.kernel.invokeFunction('convertToInteractive',\n",
              "                                                     [key], {});\n",
              "          if (!dataTable) return;\n",
              "\n",
              "          const docLinkHtml = 'Like what you see? Visit the ' +\n",
              "            '<a target=\"_blank\" href=https://colab.research.google.com/notebooks/data_table.ipynb>data table notebook</a>'\n",
              "            + ' to learn more about interactive tables.';\n",
              "          element.innerHTML = '';\n",
              "          dataTable['output_type'] = 'display_data';\n",
              "          await google.colab.output.renderOutput(dataTable, element);\n",
              "          const docLink = document.createElement('div');\n",
              "          docLink.innerHTML = docLinkHtml;\n",
              "          element.appendChild(docLink);\n",
              "        }\n",
              "      </script>\n",
              "    </div>\n",
              "  </div>\n",
              "  "
            ]
          },
          "metadata": {},
          "execution_count": 40
        }
      ]
    },
    {
      "cell_type": "markdown",
      "source": [
        "#Bert PyTorch"
      ],
      "metadata": {
        "id": "Sj046qkCVzdi"
      }
    },
    {
      "cell_type": "code",
      "source": [
        "tokenizer = BertTokenizer.from_pretrained(\"bert-base-uncased\")"
      ],
      "metadata": {
        "id": "YGJX_8CaV54n",
        "colab": {
          "base_uri": "https://localhost:8080/",
          "height": 113,
          "referenced_widgets": [
            "25a18d8100894cc5966bac92d2243656",
            "edcece48a3174eefbc5cd45dd3becd11",
            "fe95250312dd49b19fe4c11291b23122",
            "1292052d02f64ceea3f4843d247da3e6",
            "c6eea9e709c4471eac9e9c9abff3e9fb",
            "048ca3c0a69a4ee1b3c190bfaae0b5e5",
            "1311cfa72a5943bd81e52d662a366aa3",
            "c3efeb225bfa44bd9a528b4202894e51",
            "63332df76f014025ac067ae095a7456d",
            "b6347c0fb9ac41329590fbab580dae47",
            "876ce776db1648e69351059ea6f2ff41",
            "aee0e085f37a4674ac4f62029a841de2",
            "928ce86323ad4b3186e123f108e87a96",
            "65be22ce88b745c6a3be6f28f4f9a61f",
            "7d317ac1ae6840c286e1b8f36dfad84c",
            "3a6f388e907d4d45839de644e3db0f80",
            "a2251f14a5de48caa65bac8c48113545",
            "40511fbd733c400fb76dabf985cb7a07",
            "c1a62116d98547618700e67d1a77c99a",
            "eb6fe4fa8a3d47fbb6571c1686879a05",
            "b4c3b42a1393439284b583e8ee5b1bbb",
            "804529020fff4799aa6e0c0a9b782e6a",
            "db89d8e972744e7fb59e6a461e54c65d",
            "761791c4b5e84f1e9bcd318fd4417eb5",
            "9515e083dbcb4bb595f80dfb1cf12289",
            "78fc4a94a71443a1bcf37649362e8e0a",
            "db96070ac9fb4aa4968c669c2a045e44",
            "388998610e1b4bc8a8e021892b64933d",
            "4bd652e7a6de49b09f828cae35b526a7",
            "b67f53d88c47404ab091c89bf29f61eb",
            "d202a7f740454419b822cf5e14b996fe",
            "1a728b86d8f94fa8bc8f8d903479abde",
            "def359a9da574dbbacfd1a75aeb9b40a"
          ]
        },
        "outputId": "772596e9-65ff-46c2-b00e-54b022d9be0c"
      },
      "execution_count": null,
      "outputs": [
        {
          "output_type": "display_data",
          "data": {
            "text/plain": [
              "Downloading:   0%|          | 0.00/226k [00:00<?, ?B/s]"
            ],
            "application/vnd.jupyter.widget-view+json": {
              "version_major": 2,
              "version_minor": 0,
              "model_id": "25a18d8100894cc5966bac92d2243656"
            }
          },
          "metadata": {}
        },
        {
          "output_type": "display_data",
          "data": {
            "text/plain": [
              "Downloading:   0%|          | 0.00/28.0 [00:00<?, ?B/s]"
            ],
            "application/vnd.jupyter.widget-view+json": {
              "version_major": 2,
              "version_minor": 0,
              "model_id": "aee0e085f37a4674ac4f62029a841de2"
            }
          },
          "metadata": {}
        },
        {
          "output_type": "display_data",
          "data": {
            "text/plain": [
              "Downloading:   0%|          | 0.00/570 [00:00<?, ?B/s]"
            ],
            "application/vnd.jupyter.widget-view+json": {
              "version_major": 2,
              "version_minor": 0,
              "model_id": "db89d8e972744e7fb59e6a461e54c65d"
            }
          },
          "metadata": {}
        }
      ]
    },
    {
      "cell_type": "code",
      "source": [
        "# hyperparameters\n",
        "MAX_LEN = 256\n",
        "TRAIN_BATCH_SIZE = 32\n",
        "VALID_BATCH_SIZE = 32\n",
        "EPOCHS = 4\n",
        "LEARNING_RATE = 1e-05"
      ],
      "metadata": {
        "id": "-xyYzI3L_fcC"
      },
      "execution_count": null,
      "outputs": []
    },
    {
      "cell_type": "code",
      "source": [
        "class CustomDataset (torch.utils.data.Dataset):\n",
        "  def __init__(self,df,tokenizer,max_len):\n",
        "    self.df= df\n",
        "    self.comment= df['comment_text']\n",
        "    self.targets = df[TARGETS].values\n",
        "\n",
        "    self.tokenizer=tokenizer\n",
        "    self.max = max_len\n",
        "  \n",
        "  def __len__(self):\n",
        "    return len(self.comment)\n",
        "\n",
        "  def __getitem__(self,index):\n",
        "    comment= str(self.comment[index])\n",
        "    comment = \" \".join(comment.split())\n",
        "\n",
        "    inputs = self.tokenizer.encode_plus(\n",
        "        comment,\n",
        "        None,\n",
        "        add_special_tokens= True,\n",
        "        max_length= self.max,\n",
        "        padding= 'max_length',\n",
        "        truncation= True,\n",
        "        return_token_type_ids= True,\n",
        "        return_attention_mask=True,\n",
        "        return_tensors='pt'\n",
        "    )\n",
        "\n",
        "    return {\n",
        "            'input_ids': inputs['input_ids'].flatten(),\n",
        "            'attention_mask': inputs['attention_mask'].flatten(),\n",
        "            'token_type_ids': inputs[\"token_type_ids\"].flatten(),\n",
        "            'targets': torch.FloatTensor(self.targets[index])\n",
        "        }\n"
      ],
      "metadata": {
        "id": "n-duk2Ph3_U1"
      },
      "execution_count": null,
      "outputs": []
    },
    {
      "cell_type": "code",
      "source": [
        "df_train= CustomDataset(df_train, tokenizer, MAX_LEN)\n",
        "df_test= CustomDataset(df_test, tokenizer,MAX_LEN)"
      ],
      "metadata": {
        "id": "oP-5BLLVpJes"
      },
      "execution_count": null,
      "outputs": []
    },
    {
      "cell_type": "code",
      "source": [
        "print(df_test.df['comment_text'][2])\n",
        "print(df_test[2])"
      ],
      "metadata": {
        "colab": {
          "base_uri": "https://localhost:8080/"
        },
        "id": "JjGOCeMzEVAR",
        "outputId": "0ed6af54-bbc5-430e-f293-3a31170e6dda"
      },
      "execution_count": null,
      "outputs": [
        {
          "output_type": "stream",
          "name": "stdout",
          "text": [
            "Pride: Silva vs. Grenier Welterweight Bout: Anderson Silva vs. Marcelo Grenier Heavyweight Bout: Mark Hunt vs. Roy Nelson Middleweight Bout: Shogun Rua vs. Ryan Bader Middleweight Bout: Cyrille Diabaté vs. Tyler Johnson Johnson defeated Diabaté via KO (Punch) at : of round . Lightweight Bout: Jose Aldo vs. Renan Barao Aldo defeated Barao via TKO (Leg Kick) at : of round .\n",
            "{'input_ids': tensor([  101,  6620,  1024, 11183,  5443,  1012, 24665, 18595,  2121, 20882,\n",
            "        10094,  1024,  5143, 11183,  5443,  1012, 24984, 24665, 18595,  2121,\n",
            "         8366, 10094,  1024,  2928,  5690,  5443,  1012,  6060,  5912, 18741,\n",
            "        10094,  1024, 26822, 12734, 21766,  2050,  5443,  1012,  4575,  2919,\n",
            "         2121, 18741, 10094,  1024, 16049,  2571, 22939, 20179,  5443,  1012,\n",
            "         7482,  3779,  3779,  3249, 22939, 20179,  3081, 12849,  1006,  8595,\n",
            "         1007,  2012,  1024,  1997,  2461,  1012, 12038, 10094,  1024,  4560,\n",
            "        28163,  5443,  1012, 14916,  2319,  3347,  7113, 28163,  3249,  3347,\n",
            "         7113,  3081, 26537,  1006,  4190,  5926,  1007,  2012,  1024,  1997,\n",
            "         2461,  1012,   102,     0,     0,     0,     0,     0,     0,     0,\n",
            "            0,     0,     0,     0,     0,     0,     0,     0,     0,     0,\n",
            "            0,     0,     0,     0,     0,     0,     0,     0,     0,     0,\n",
            "            0,     0,     0,     0,     0,     0,     0,     0,     0,     0,\n",
            "            0,     0,     0,     0,     0,     0,     0,     0,     0,     0,\n",
            "            0,     0,     0,     0,     0,     0,     0,     0,     0,     0,\n",
            "            0,     0,     0,     0,     0,     0,     0,     0,     0,     0,\n",
            "            0,     0,     0,     0,     0,     0,     0,     0,     0,     0,\n",
            "            0,     0,     0,     0,     0,     0,     0,     0,     0,     0,\n",
            "            0,     0,     0,     0,     0,     0,     0,     0,     0,     0,\n",
            "            0,     0,     0,     0,     0,     0,     0,     0,     0,     0,\n",
            "            0,     0,     0,     0,     0,     0,     0,     0,     0,     0,\n",
            "            0,     0,     0,     0,     0,     0,     0,     0,     0,     0,\n",
            "            0,     0,     0,     0,     0,     0,     0,     0,     0,     0,\n",
            "            0,     0,     0,     0,     0,     0,     0,     0,     0,     0,\n",
            "            0,     0,     0,     0,     0,     0,     0,     0,     0,     0,\n",
            "            0,     0,     0,     0,     0,     0]), 'attention_mask': tensor([1, 1, 1, 1, 1, 1, 1, 1, 1, 1, 1, 1, 1, 1, 1, 1, 1, 1, 1, 1, 1, 1, 1, 1,\n",
            "        1, 1, 1, 1, 1, 1, 1, 1, 1, 1, 1, 1, 1, 1, 1, 1, 1, 1, 1, 1, 1, 1, 1, 1,\n",
            "        1, 1, 1, 1, 1, 1, 1, 1, 1, 1, 1, 1, 1, 1, 1, 1, 1, 1, 1, 1, 1, 1, 1, 1,\n",
            "        1, 1, 1, 1, 1, 1, 1, 1, 1, 1, 1, 1, 1, 1, 1, 1, 1, 1, 1, 1, 1, 0, 0, 0,\n",
            "        0, 0, 0, 0, 0, 0, 0, 0, 0, 0, 0, 0, 0, 0, 0, 0, 0, 0, 0, 0, 0, 0, 0, 0,\n",
            "        0, 0, 0, 0, 0, 0, 0, 0, 0, 0, 0, 0, 0, 0, 0, 0, 0, 0, 0, 0, 0, 0, 0, 0,\n",
            "        0, 0, 0, 0, 0, 0, 0, 0, 0, 0, 0, 0, 0, 0, 0, 0, 0, 0, 0, 0, 0, 0, 0, 0,\n",
            "        0, 0, 0, 0, 0, 0, 0, 0, 0, 0, 0, 0, 0, 0, 0, 0, 0, 0, 0, 0, 0, 0, 0, 0,\n",
            "        0, 0, 0, 0, 0, 0, 0, 0, 0, 0, 0, 0, 0, 0, 0, 0, 0, 0, 0, 0, 0, 0, 0, 0,\n",
            "        0, 0, 0, 0, 0, 0, 0, 0, 0, 0, 0, 0, 0, 0, 0, 0, 0, 0, 0, 0, 0, 0, 0, 0,\n",
            "        0, 0, 0, 0, 0, 0, 0, 0, 0, 0, 0, 0, 0, 0, 0, 0]), 'token_type_ids': tensor([0, 0, 0, 0, 0, 0, 0, 0, 0, 0, 0, 0, 0, 0, 0, 0, 0, 0, 0, 0, 0, 0, 0, 0,\n",
            "        0, 0, 0, 0, 0, 0, 0, 0, 0, 0, 0, 0, 0, 0, 0, 0, 0, 0, 0, 0, 0, 0, 0, 0,\n",
            "        0, 0, 0, 0, 0, 0, 0, 0, 0, 0, 0, 0, 0, 0, 0, 0, 0, 0, 0, 0, 0, 0, 0, 0,\n",
            "        0, 0, 0, 0, 0, 0, 0, 0, 0, 0, 0, 0, 0, 0, 0, 0, 0, 0, 0, 0, 0, 0, 0, 0,\n",
            "        0, 0, 0, 0, 0, 0, 0, 0, 0, 0, 0, 0, 0, 0, 0, 0, 0, 0, 0, 0, 0, 0, 0, 0,\n",
            "        0, 0, 0, 0, 0, 0, 0, 0, 0, 0, 0, 0, 0, 0, 0, 0, 0, 0, 0, 0, 0, 0, 0, 0,\n",
            "        0, 0, 0, 0, 0, 0, 0, 0, 0, 0, 0, 0, 0, 0, 0, 0, 0, 0, 0, 0, 0, 0, 0, 0,\n",
            "        0, 0, 0, 0, 0, 0, 0, 0, 0, 0, 0, 0, 0, 0, 0, 0, 0, 0, 0, 0, 0, 0, 0, 0,\n",
            "        0, 0, 0, 0, 0, 0, 0, 0, 0, 0, 0, 0, 0, 0, 0, 0, 0, 0, 0, 0, 0, 0, 0, 0,\n",
            "        0, 0, 0, 0, 0, 0, 0, 0, 0, 0, 0, 0, 0, 0, 0, 0, 0, 0, 0, 0, 0, 0, 0, 0,\n",
            "        0, 0, 0, 0, 0, 0, 0, 0, 0, 0, 0, 0, 0, 0, 0, 0]), 'targets': tensor([0., 0., 0., 0., 0., 0.])}\n"
          ]
        }
      ]
    },
    {
      "cell_type": "code",
      "source": [
        "train_data_loader = torch.utils.data.DataLoader(df_train, \n",
        "    batch_size=TRAIN_BATCH_SIZE,\n",
        "    shuffle=True,\n",
        "    num_workers=0\n",
        ")\n",
        "\n",
        "val_data_loader = torch.utils.data.DataLoader(df_test, \n",
        "    batch_size=VALID_BATCH_SIZE,\n",
        "    shuffle=False,\n",
        "    num_workers=0\n",
        ")"
      ],
      "metadata": {
        "id": "gv0r87RNKgNH"
      },
      "execution_count": null,
      "outputs": []
    },
    {
      "cell_type": "code",
      "source": [
        "device = torch.device('cuda') if torch.cuda.is_available() else torch.device('cpu')"
      ],
      "metadata": {
        "id": "MWJ8jUQKJk0Q"
      },
      "execution_count": null,
      "outputs": []
    },
    {
      "cell_type": "markdown",
      "source": [
        "##Create Checkpoint"
      ],
      "metadata": {
        "id": "hglZvy4oQdhG"
      }
    },
    {
      "cell_type": "code",
      "source": [
        "def load_ckp(checkpoint_fpath, model):\n",
        "    \"\"\"\n",
        "    checkpoint_path: path to save checkpoint\n",
        "    model: model that we want to load checkpoint parameters into       \n",
        "    optimizer: optimizer we defined in previous training\n",
        "    \"\"\"\n",
        "    # load check point\n",
        "    checkpoint = torch.load(checkpoint_fpath)\n",
        "    # initialize state_dict from checkpoint to model\n",
        "    model.load_state_dict(checkpoint['state_dict'])\n",
        "    # initialize valid_loss_min from checkpoint to valid_loss_min\n",
        "    valid_loss_min = checkpoint['valid_loss_min']\n",
        "    # return model, optimizer, epoch value, min validation loss \n",
        "    return model, checkpoint['epoch'], valid_loss_min\n",
        "\n",
        "def save_ckp(state, is_best, checkpoint_path, best_model_path):\n",
        "    \"\"\"\n",
        "    state: checkpoint we want to save\n",
        "    is_best: is this the best checkpoint; min validation loss\n",
        "    checkpoint_path: path to save checkpoint\n",
        "    best_model_path: path to save best model\n",
        "    \"\"\"\n",
        "    f_path = checkpoint_path\n",
        "    # save checkpoint data to the path given, checkpoint_path\n",
        "    torch.save(state, f_path)\n",
        "    # if it is a best model, min validation loss\n",
        "    if is_best:\n",
        "        best_fpath = best_model_path\n",
        "        # copy that checkpoint file to best path given, best_model_path\n",
        "        shutil.copyfile(f_path, best_fpath)"
      ],
      "metadata": {
        "id": "EmOBFCImQgLy"
      },
      "execution_count": null,
      "outputs": []
    },
    {
      "cell_type": "markdown",
      "source": [
        "##BERT CLASS"
      ],
      "metadata": {
        "id": "kiA6atdhQhPG"
      }
    },
    {
      "cell_type": "code",
      "source": [
        "class BERTClass(torch.nn.Module):\n",
        "    def __init__(self):\n",
        "        super(BERTClass, self).__init__()\n",
        "        self.bert_model = BertModel.from_pretrained('bert-base-uncased', return_dict=True)\n",
        "        self.dropout = torch.nn.Dropout(0.3)\n",
        "        self.linear = torch.nn.Linear(768, 6)\n",
        "    \n",
        "    def forward(self, input_ids, attn_mask, token_type_ids):\n",
        "        output = self.bert_model(\n",
        "            input_ids, \n",
        "            attention_mask=attn_mask, \n",
        "            token_type_ids=token_type_ids\n",
        "        )\n",
        "        output_dropout = self.dropout(output.pooler_output)\n",
        "        output = self.linear(output_dropout)\n",
        "        return output\n",
        "\n",
        "model = BERTClass()\n",
        "model.to(device)"
      ],
      "metadata": {
        "id": "nzKa4yxbJFeA",
        "colab": {
          "base_uri": "https://localhost:8080/",
          "referenced_widgets": [
            "e41efde8ae51465fb7717ba59bc8a140",
            "a8e32e5422204a5c858ef9721be7ad05",
            "856628149c6748ecadd7123123991a37",
            "ec33c9d2075f45ceb3d52b6d0be5c30f",
            "9b4eef8cd2d74f439cdecd4c199522dc",
            "15f6a6265be142289ca5d21d1f3043c3",
            "3cc79283b3e348338a2dc4c6e9f236ea",
            "c82e2d751a98458881624458bc5da504",
            "6ff79343f2b14ea48f4c13ca8dc67b04",
            "c371f2aef07449c981222b38461e4ead",
            "1936d217535840b9a9216d2a7d1d5cb4"
          ]
        },
        "outputId": "164502f6-98e6-426f-9aa6-27e04c78f03e"
      },
      "execution_count": null,
      "outputs": [
        {
          "output_type": "display_data",
          "data": {
            "text/plain": [
              "Downloading:   0%|          | 0.00/420M [00:00<?, ?B/s]"
            ],
            "application/vnd.jupyter.widget-view+json": {
              "version_major": 2,
              "version_minor": 0,
              "model_id": "e41efde8ae51465fb7717ba59bc8a140"
            }
          },
          "metadata": {}
        },
        {
          "output_type": "stream",
          "name": "stderr",
          "text": [
            "Some weights of the model checkpoint at bert-base-uncased were not used when initializing BertModel: ['cls.predictions.decoder.weight', 'cls.predictions.transform.LayerNorm.weight', 'cls.seq_relationship.bias', 'cls.predictions.transform.LayerNorm.bias', 'cls.seq_relationship.weight', 'cls.predictions.transform.dense.bias', 'cls.predictions.bias', 'cls.predictions.transform.dense.weight']\n",
            "- This IS expected if you are initializing BertModel from the checkpoint of a model trained on another task or with another architecture (e.g. initializing a BertForSequenceClassification model from a BertForPreTraining model).\n",
            "- This IS NOT expected if you are initializing BertModel from the checkpoint of a model that you expect to be exactly identical (initializing a BertForSequenceClassification model from a BertForSequenceClassification model).\n"
          ]
        },
        {
          "output_type": "execute_result",
          "data": {
            "text/plain": [
              "BERTClass(\n",
              "  (bert_model): BertModel(\n",
              "    (embeddings): BertEmbeddings(\n",
              "      (word_embeddings): Embedding(30522, 768, padding_idx=0)\n",
              "      (position_embeddings): Embedding(512, 768)\n",
              "      (token_type_embeddings): Embedding(2, 768)\n",
              "      (LayerNorm): LayerNorm((768,), eps=1e-12, elementwise_affine=True)\n",
              "      (dropout): Dropout(p=0.1, inplace=False)\n",
              "    )\n",
              "    (encoder): BertEncoder(\n",
              "      (layer): ModuleList(\n",
              "        (0): BertLayer(\n",
              "          (attention): BertAttention(\n",
              "            (self): BertSelfAttention(\n",
              "              (query): Linear(in_features=768, out_features=768, bias=True)\n",
              "              (key): Linear(in_features=768, out_features=768, bias=True)\n",
              "              (value): Linear(in_features=768, out_features=768, bias=True)\n",
              "              (dropout): Dropout(p=0.1, inplace=False)\n",
              "            )\n",
              "            (output): BertSelfOutput(\n",
              "              (dense): Linear(in_features=768, out_features=768, bias=True)\n",
              "              (LayerNorm): LayerNorm((768,), eps=1e-12, elementwise_affine=True)\n",
              "              (dropout): Dropout(p=0.1, inplace=False)\n",
              "            )\n",
              "          )\n",
              "          (intermediate): BertIntermediate(\n",
              "            (dense): Linear(in_features=768, out_features=3072, bias=True)\n",
              "            (intermediate_act_fn): GELUActivation()\n",
              "          )\n",
              "          (output): BertOutput(\n",
              "            (dense): Linear(in_features=3072, out_features=768, bias=True)\n",
              "            (LayerNorm): LayerNorm((768,), eps=1e-12, elementwise_affine=True)\n",
              "            (dropout): Dropout(p=0.1, inplace=False)\n",
              "          )\n",
              "        )\n",
              "        (1): BertLayer(\n",
              "          (attention): BertAttention(\n",
              "            (self): BertSelfAttention(\n",
              "              (query): Linear(in_features=768, out_features=768, bias=True)\n",
              "              (key): Linear(in_features=768, out_features=768, bias=True)\n",
              "              (value): Linear(in_features=768, out_features=768, bias=True)\n",
              "              (dropout): Dropout(p=0.1, inplace=False)\n",
              "            )\n",
              "            (output): BertSelfOutput(\n",
              "              (dense): Linear(in_features=768, out_features=768, bias=True)\n",
              "              (LayerNorm): LayerNorm((768,), eps=1e-12, elementwise_affine=True)\n",
              "              (dropout): Dropout(p=0.1, inplace=False)\n",
              "            )\n",
              "          )\n",
              "          (intermediate): BertIntermediate(\n",
              "            (dense): Linear(in_features=768, out_features=3072, bias=True)\n",
              "            (intermediate_act_fn): GELUActivation()\n",
              "          )\n",
              "          (output): BertOutput(\n",
              "            (dense): Linear(in_features=3072, out_features=768, bias=True)\n",
              "            (LayerNorm): LayerNorm((768,), eps=1e-12, elementwise_affine=True)\n",
              "            (dropout): Dropout(p=0.1, inplace=False)\n",
              "          )\n",
              "        )\n",
              "        (2): BertLayer(\n",
              "          (attention): BertAttention(\n",
              "            (self): BertSelfAttention(\n",
              "              (query): Linear(in_features=768, out_features=768, bias=True)\n",
              "              (key): Linear(in_features=768, out_features=768, bias=True)\n",
              "              (value): Linear(in_features=768, out_features=768, bias=True)\n",
              "              (dropout): Dropout(p=0.1, inplace=False)\n",
              "            )\n",
              "            (output): BertSelfOutput(\n",
              "              (dense): Linear(in_features=768, out_features=768, bias=True)\n",
              "              (LayerNorm): LayerNorm((768,), eps=1e-12, elementwise_affine=True)\n",
              "              (dropout): Dropout(p=0.1, inplace=False)\n",
              "            )\n",
              "          )\n",
              "          (intermediate): BertIntermediate(\n",
              "            (dense): Linear(in_features=768, out_features=3072, bias=True)\n",
              "            (intermediate_act_fn): GELUActivation()\n",
              "          )\n",
              "          (output): BertOutput(\n",
              "            (dense): Linear(in_features=3072, out_features=768, bias=True)\n",
              "            (LayerNorm): LayerNorm((768,), eps=1e-12, elementwise_affine=True)\n",
              "            (dropout): Dropout(p=0.1, inplace=False)\n",
              "          )\n",
              "        )\n",
              "        (3): BertLayer(\n",
              "          (attention): BertAttention(\n",
              "            (self): BertSelfAttention(\n",
              "              (query): Linear(in_features=768, out_features=768, bias=True)\n",
              "              (key): Linear(in_features=768, out_features=768, bias=True)\n",
              "              (value): Linear(in_features=768, out_features=768, bias=True)\n",
              "              (dropout): Dropout(p=0.1, inplace=False)\n",
              "            )\n",
              "            (output): BertSelfOutput(\n",
              "              (dense): Linear(in_features=768, out_features=768, bias=True)\n",
              "              (LayerNorm): LayerNorm((768,), eps=1e-12, elementwise_affine=True)\n",
              "              (dropout): Dropout(p=0.1, inplace=False)\n",
              "            )\n",
              "          )\n",
              "          (intermediate): BertIntermediate(\n",
              "            (dense): Linear(in_features=768, out_features=3072, bias=True)\n",
              "            (intermediate_act_fn): GELUActivation()\n",
              "          )\n",
              "          (output): BertOutput(\n",
              "            (dense): Linear(in_features=3072, out_features=768, bias=True)\n",
              "            (LayerNorm): LayerNorm((768,), eps=1e-12, elementwise_affine=True)\n",
              "            (dropout): Dropout(p=0.1, inplace=False)\n",
              "          )\n",
              "        )\n",
              "        (4): BertLayer(\n",
              "          (attention): BertAttention(\n",
              "            (self): BertSelfAttention(\n",
              "              (query): Linear(in_features=768, out_features=768, bias=True)\n",
              "              (key): Linear(in_features=768, out_features=768, bias=True)\n",
              "              (value): Linear(in_features=768, out_features=768, bias=True)\n",
              "              (dropout): Dropout(p=0.1, inplace=False)\n",
              "            )\n",
              "            (output): BertSelfOutput(\n",
              "              (dense): Linear(in_features=768, out_features=768, bias=True)\n",
              "              (LayerNorm): LayerNorm((768,), eps=1e-12, elementwise_affine=True)\n",
              "              (dropout): Dropout(p=0.1, inplace=False)\n",
              "            )\n",
              "          )\n",
              "          (intermediate): BertIntermediate(\n",
              "            (dense): Linear(in_features=768, out_features=3072, bias=True)\n",
              "            (intermediate_act_fn): GELUActivation()\n",
              "          )\n",
              "          (output): BertOutput(\n",
              "            (dense): Linear(in_features=3072, out_features=768, bias=True)\n",
              "            (LayerNorm): LayerNorm((768,), eps=1e-12, elementwise_affine=True)\n",
              "            (dropout): Dropout(p=0.1, inplace=False)\n",
              "          )\n",
              "        )\n",
              "        (5): BertLayer(\n",
              "          (attention): BertAttention(\n",
              "            (self): BertSelfAttention(\n",
              "              (query): Linear(in_features=768, out_features=768, bias=True)\n",
              "              (key): Linear(in_features=768, out_features=768, bias=True)\n",
              "              (value): Linear(in_features=768, out_features=768, bias=True)\n",
              "              (dropout): Dropout(p=0.1, inplace=False)\n",
              "            )\n",
              "            (output): BertSelfOutput(\n",
              "              (dense): Linear(in_features=768, out_features=768, bias=True)\n",
              "              (LayerNorm): LayerNorm((768,), eps=1e-12, elementwise_affine=True)\n",
              "              (dropout): Dropout(p=0.1, inplace=False)\n",
              "            )\n",
              "          )\n",
              "          (intermediate): BertIntermediate(\n",
              "            (dense): Linear(in_features=768, out_features=3072, bias=True)\n",
              "            (intermediate_act_fn): GELUActivation()\n",
              "          )\n",
              "          (output): BertOutput(\n",
              "            (dense): Linear(in_features=3072, out_features=768, bias=True)\n",
              "            (LayerNorm): LayerNorm((768,), eps=1e-12, elementwise_affine=True)\n",
              "            (dropout): Dropout(p=0.1, inplace=False)\n",
              "          )\n",
              "        )\n",
              "        (6): BertLayer(\n",
              "          (attention): BertAttention(\n",
              "            (self): BertSelfAttention(\n",
              "              (query): Linear(in_features=768, out_features=768, bias=True)\n",
              "              (key): Linear(in_features=768, out_features=768, bias=True)\n",
              "              (value): Linear(in_features=768, out_features=768, bias=True)\n",
              "              (dropout): Dropout(p=0.1, inplace=False)\n",
              "            )\n",
              "            (output): BertSelfOutput(\n",
              "              (dense): Linear(in_features=768, out_features=768, bias=True)\n",
              "              (LayerNorm): LayerNorm((768,), eps=1e-12, elementwise_affine=True)\n",
              "              (dropout): Dropout(p=0.1, inplace=False)\n",
              "            )\n",
              "          )\n",
              "          (intermediate): BertIntermediate(\n",
              "            (dense): Linear(in_features=768, out_features=3072, bias=True)\n",
              "            (intermediate_act_fn): GELUActivation()\n",
              "          )\n",
              "          (output): BertOutput(\n",
              "            (dense): Linear(in_features=3072, out_features=768, bias=True)\n",
              "            (LayerNorm): LayerNorm((768,), eps=1e-12, elementwise_affine=True)\n",
              "            (dropout): Dropout(p=0.1, inplace=False)\n",
              "          )\n",
              "        )\n",
              "        (7): BertLayer(\n",
              "          (attention): BertAttention(\n",
              "            (self): BertSelfAttention(\n",
              "              (query): Linear(in_features=768, out_features=768, bias=True)\n",
              "              (key): Linear(in_features=768, out_features=768, bias=True)\n",
              "              (value): Linear(in_features=768, out_features=768, bias=True)\n",
              "              (dropout): Dropout(p=0.1, inplace=False)\n",
              "            )\n",
              "            (output): BertSelfOutput(\n",
              "              (dense): Linear(in_features=768, out_features=768, bias=True)\n",
              "              (LayerNorm): LayerNorm((768,), eps=1e-12, elementwise_affine=True)\n",
              "              (dropout): Dropout(p=0.1, inplace=False)\n",
              "            )\n",
              "          )\n",
              "          (intermediate): BertIntermediate(\n",
              "            (dense): Linear(in_features=768, out_features=3072, bias=True)\n",
              "            (intermediate_act_fn): GELUActivation()\n",
              "          )\n",
              "          (output): BertOutput(\n",
              "            (dense): Linear(in_features=3072, out_features=768, bias=True)\n",
              "            (LayerNorm): LayerNorm((768,), eps=1e-12, elementwise_affine=True)\n",
              "            (dropout): Dropout(p=0.1, inplace=False)\n",
              "          )\n",
              "        )\n",
              "        (8): BertLayer(\n",
              "          (attention): BertAttention(\n",
              "            (self): BertSelfAttention(\n",
              "              (query): Linear(in_features=768, out_features=768, bias=True)\n",
              "              (key): Linear(in_features=768, out_features=768, bias=True)\n",
              "              (value): Linear(in_features=768, out_features=768, bias=True)\n",
              "              (dropout): Dropout(p=0.1, inplace=False)\n",
              "            )\n",
              "            (output): BertSelfOutput(\n",
              "              (dense): Linear(in_features=768, out_features=768, bias=True)\n",
              "              (LayerNorm): LayerNorm((768,), eps=1e-12, elementwise_affine=True)\n",
              "              (dropout): Dropout(p=0.1, inplace=False)\n",
              "            )\n",
              "          )\n",
              "          (intermediate): BertIntermediate(\n",
              "            (dense): Linear(in_features=768, out_features=3072, bias=True)\n",
              "            (intermediate_act_fn): GELUActivation()\n",
              "          )\n",
              "          (output): BertOutput(\n",
              "            (dense): Linear(in_features=3072, out_features=768, bias=True)\n",
              "            (LayerNorm): LayerNorm((768,), eps=1e-12, elementwise_affine=True)\n",
              "            (dropout): Dropout(p=0.1, inplace=False)\n",
              "          )\n",
              "        )\n",
              "        (9): BertLayer(\n",
              "          (attention): BertAttention(\n",
              "            (self): BertSelfAttention(\n",
              "              (query): Linear(in_features=768, out_features=768, bias=True)\n",
              "              (key): Linear(in_features=768, out_features=768, bias=True)\n",
              "              (value): Linear(in_features=768, out_features=768, bias=True)\n",
              "              (dropout): Dropout(p=0.1, inplace=False)\n",
              "            )\n",
              "            (output): BertSelfOutput(\n",
              "              (dense): Linear(in_features=768, out_features=768, bias=True)\n",
              "              (LayerNorm): LayerNorm((768,), eps=1e-12, elementwise_affine=True)\n",
              "              (dropout): Dropout(p=0.1, inplace=False)\n",
              "            )\n",
              "          )\n",
              "          (intermediate): BertIntermediate(\n",
              "            (dense): Linear(in_features=768, out_features=3072, bias=True)\n",
              "            (intermediate_act_fn): GELUActivation()\n",
              "          )\n",
              "          (output): BertOutput(\n",
              "            (dense): Linear(in_features=3072, out_features=768, bias=True)\n",
              "            (LayerNorm): LayerNorm((768,), eps=1e-12, elementwise_affine=True)\n",
              "            (dropout): Dropout(p=0.1, inplace=False)\n",
              "          )\n",
              "        )\n",
              "        (10): BertLayer(\n",
              "          (attention): BertAttention(\n",
              "            (self): BertSelfAttention(\n",
              "              (query): Linear(in_features=768, out_features=768, bias=True)\n",
              "              (key): Linear(in_features=768, out_features=768, bias=True)\n",
              "              (value): Linear(in_features=768, out_features=768, bias=True)\n",
              "              (dropout): Dropout(p=0.1, inplace=False)\n",
              "            )\n",
              "            (output): BertSelfOutput(\n",
              "              (dense): Linear(in_features=768, out_features=768, bias=True)\n",
              "              (LayerNorm): LayerNorm((768,), eps=1e-12, elementwise_affine=True)\n",
              "              (dropout): Dropout(p=0.1, inplace=False)\n",
              "            )\n",
              "          )\n",
              "          (intermediate): BertIntermediate(\n",
              "            (dense): Linear(in_features=768, out_features=3072, bias=True)\n",
              "            (intermediate_act_fn): GELUActivation()\n",
              "          )\n",
              "          (output): BertOutput(\n",
              "            (dense): Linear(in_features=3072, out_features=768, bias=True)\n",
              "            (LayerNorm): LayerNorm((768,), eps=1e-12, elementwise_affine=True)\n",
              "            (dropout): Dropout(p=0.1, inplace=False)\n",
              "          )\n",
              "        )\n",
              "        (11): BertLayer(\n",
              "          (attention): BertAttention(\n",
              "            (self): BertSelfAttention(\n",
              "              (query): Linear(in_features=768, out_features=768, bias=True)\n",
              "              (key): Linear(in_features=768, out_features=768, bias=True)\n",
              "              (value): Linear(in_features=768, out_features=768, bias=True)\n",
              "              (dropout): Dropout(p=0.1, inplace=False)\n",
              "            )\n",
              "            (output): BertSelfOutput(\n",
              "              (dense): Linear(in_features=768, out_features=768, bias=True)\n",
              "              (LayerNorm): LayerNorm((768,), eps=1e-12, elementwise_affine=True)\n",
              "              (dropout): Dropout(p=0.1, inplace=False)\n",
              "            )\n",
              "          )\n",
              "          (intermediate): BertIntermediate(\n",
              "            (dense): Linear(in_features=768, out_features=3072, bias=True)\n",
              "            (intermediate_act_fn): GELUActivation()\n",
              "          )\n",
              "          (output): BertOutput(\n",
              "            (dense): Linear(in_features=3072, out_features=768, bias=True)\n",
              "            (LayerNorm): LayerNorm((768,), eps=1e-12, elementwise_affine=True)\n",
              "            (dropout): Dropout(p=0.1, inplace=False)\n",
              "          )\n",
              "        )\n",
              "      )\n",
              "    )\n",
              "    (pooler): BertPooler(\n",
              "      (dense): Linear(in_features=768, out_features=768, bias=True)\n",
              "      (activation): Tanh()\n",
              "    )\n",
              "  )\n",
              "  (dropout): Dropout(p=0.3, inplace=False)\n",
              "  (linear): Linear(in_features=768, out_features=6, bias=True)\n",
              ")"
            ]
          },
          "metadata": {},
          "execution_count": 29
        }
      ]
    },
    {
      "cell_type": "markdown",
      "source": [
        "#Training"
      ],
      "metadata": {
        "id": "2nxWRRifQktj"
      }
    },
    {
      "cell_type": "code",
      "source": [
        "def loss_fn(outputs, targets):\n",
        "    return torch.nn.BCEWithLogitsLoss()(outputs, targets)"
      ],
      "metadata": {
        "id": "xuYxT_C_JO7o"
      },
      "execution_count": null,
      "outputs": []
    },
    {
      "cell_type": "code",
      "source": [
        "optimizer = torch.optim.Adam(params =  model.parameters(), lr=LEARNING_RATE)\n",
        "def train_model(n_epochs, training_loader, validation_loader, model,checkpoint_path,\n",
        "                 best_model_path,optimizer):\n",
        "   \n",
        "  # initialize tracker for minimum validation loss\n",
        "  valid_loss_min = np.Inf\n",
        "  \n",
        "  for epoch in range(1, n_epochs+1):\n",
        "    train_loss = 0\n",
        "    valid_loss = 0\n",
        "    val_targets=[]\n",
        "    val_outputs=[]\n",
        "\n",
        "    model.train()\n",
        "    # print('############# Epoch {}: Training Start   #############'.format(epoch))\n",
        "    for batch_idx, data in enumerate(training_loader):\n",
        "        #print('yyy epoch', batch_idx)\n",
        "        ids = data['input_ids'].to(device, dtype = torch.long)\n",
        "        mask = data['attention_mask'].to(device, dtype = torch.long)\n",
        "        token_type_ids = data['token_type_ids'].to(device, dtype = torch.long)\n",
        "        targets = data['targets'].to(device, dtype = torch.float)\n",
        "        outputs = model(ids, mask, token_type_ids)\n",
        "\n",
        "        optimizer.zero_grad()\n",
        "        loss = loss_fn(outputs, targets)\n",
        "        \n",
        "        optimizer.zero_grad()\n",
        "        loss.backward()\n",
        "        optimizer.step()\n",
        "        #print('before loss data in training', loss.item(), train_loss)\n",
        "        train_loss = train_loss + ((1 / (batch_idx + 1)) * (loss.item() - train_loss))\n",
        "        #print('after loss data in training', loss.item(), train_loss)\n",
        "    \n",
        "    # print('===============  Epoch {}: Training End   =============== '.format(epoch))\n",
        "    \n",
        "    # print('================ Epoch {}: Validation Start =============== '.format(epoch))\n",
        "    ######################    \n",
        "    # validate the model #\n",
        " \n",
        "    model.eval()\n",
        "   \n",
        "    with torch.no_grad():\n",
        "      for batch_idx, data in enumerate(validation_loader, 0):\n",
        "            ids = data['input_ids'].to(device, dtype = torch.long)\n",
        "            mask = data['attention_mask'].to(device, dtype = torch.long)\n",
        "            token_type_ids = data['token_type_ids'].to(device, dtype = torch.long)\n",
        "            targets = data['targets'].to(device, dtype = torch.float)\n",
        "            outputs = model(ids, mask, token_type_ids)\n",
        "\n",
        "            loss = loss_fn(outputs, targets)\n",
        "            valid_loss = valid_loss + ((1 / (batch_idx + 1)) * (loss.item() - valid_loss))\n",
        "            val_targets.extend(targets.cpu().detach().numpy().tolist())\n",
        "            # print(\"pnjg target\", len(val_targets))\n",
        "            val_outputs.extend(torch.sigmoid(outputs).cpu().detach().numpy().tolist())\n",
        "            # print(\"pnjg outputs\", len(val_outputs))\n",
        "\n",
        "      # print('############# Epoch {}: Validation End     #############'.format(epoch))\n",
        "      # calculate average losses\n",
        "      #print('before cal avg train loss', train_loss)\n",
        "      train_loss = train_loss/len(training_loader)\n",
        "      valid_loss = valid_loss/len(validation_loader)\n",
        "      # print training/validation statistics \n",
        "      print('Epoch: {} \\tAvgerage Training Loss: {:.5f} \\tAverage Validation Loss: {:.5f} acurracy score = {:.5f}'.format(\n",
        "            epoch, \n",
        "            train_loss,\n",
        "            valid_loss,\n",
        "            roc_auc_score(val_targets, val_outputs)\n",
        "            ))\n",
        "      # print(\"roc score\", roc_auc_score(val_targets, val_outputs))\n",
        "      checkpoint = {\n",
        "            'epoch': epoch + 1,\n",
        "            'valid_loss_min': valid_loss,\n",
        "            'state_dict': model.state_dict(),\n",
        "            'optimizer': optimizer.state_dict()\n",
        "      }\n",
        "        \n",
        "        # save checkpoint\n",
        "      save_ckp(checkpoint, False, checkpoint_path, best_model_path)\n",
        "        \n",
        "      ## TODO: save the model if validation loss has decreased\n",
        "      if valid_loss <= valid_loss_min:\n",
        "        print('Validation loss decreased ({:.5f} --> {:.5f}).  Saving model ...'.format(valid_loss_min,valid_loss))\n",
        "        # save checkpoint as best model\n",
        "        save_ckp(checkpoint, True, checkpoint_path, best_model_path)\n",
        "        valid_loss_min = valid_loss\n",
        "\n",
        "    print('############# Epoch {}  Done   #############\\n'.format(epoch))\n",
        "\n",
        "  return model"
      ],
      "metadata": {
        "id": "ypCXbHwKJRhN"
      },
      "execution_count": null,
      "outputs": []
    },
    {
      "cell_type": "code",
      "source": [
        "checkpoint=\"/content/drive/MyDrive/FinalNLP/curr_ckpt.pt\"\n",
        "bestModel= \"/content/drive/MyDrive/FinalNLP/best.pt\""
      ],
      "metadata": {
        "id": "oV6dh3PfSUdy"
      },
      "execution_count": null,
      "outputs": []
    },
    {
      "cell_type": "code",
      "source": [
        "trained_model = train_model(EPOCHS,train_data_loader,val_data_loader,model,checkpoint,bestModel,optimizer)"
      ],
      "metadata": {
        "colab": {
          "base_uri": "https://localhost:8080/"
        },
        "outputId": "a3d8ce76-6951-4531-f68d-9db1900740a8",
        "id": "Hrn76pVskMR-"
      },
      "execution_count": null,
      "outputs": [
        {
          "output_type": "stream",
          "name": "stdout",
          "text": [
            "Epoch: 1 \tAvgerage Training Loss: 0.00016 \tAverage Validation Loss: 0.00140 acurracy score = 0.96659\n",
            "Validation loss decreased (inf --> 0.00140).  Saving model ...\n",
            "############# Epoch 1  Done   #############\n",
            "\n",
            "Epoch: 2 \tAvgerage Training Loss: 0.00014 \tAverage Validation Loss: 0.00153 acurracy score = 0.96436\n",
            "############# Epoch 2  Done   #############\n",
            "\n",
            "Epoch: 3 \tAvgerage Training Loss: 0.00012 \tAverage Validation Loss: 0.00151 acurracy score = 0.96537\n",
            "############# Epoch 3  Done   #############\n",
            "\n",
            "Epoch: 4 \tAvgerage Training Loss: 0.00010 \tAverage Validation Loss: 0.00158 acurracy score = 0.96344\n",
            "############# Epoch 4  Done   #############\n",
            "\n"
          ]
        }
      ]
    },
    {
      "cell_type": "markdown",
      "source": [
        "#Load Model"
      ],
      "metadata": {
        "id": "vg_dByi5jR4f"
      }
    },
    {
      "cell_type": "code",
      "source": [
        "final_model, epch, loss= load_ckp(bestModel, model)"
      ],
      "metadata": {
        "id": "K9tqE9JCXCLm",
        "colab": {
          "base_uri": "https://localhost:8080/",
          "height": 328
        },
        "outputId": "5de0f51a-c226-438c-eccb-da628e7a1a8b"
      },
      "execution_count": null,
      "outputs": [
        {
          "output_type": "error",
          "ename": "RuntimeError",
          "evalue": "ignored",
          "traceback": [
            "\u001b[0;31m---------------------------------------------------------------------------\u001b[0m",
            "\u001b[0;31mRuntimeError\u001b[0m                              Traceback (most recent call last)",
            "\u001b[0;32m<ipython-input-32-47a9ec1b2d2f>\u001b[0m in \u001b[0;36m<module>\u001b[0;34m()\u001b[0m\n\u001b[0;32m----> 1\u001b[0;31m \u001b[0mfinal_model\u001b[0m\u001b[0;34m,\u001b[0m \u001b[0mepch\u001b[0m\u001b[0;34m,\u001b[0m \u001b[0mloss\u001b[0m\u001b[0;34m=\u001b[0m \u001b[0mload_ckp\u001b[0m\u001b[0;34m(\u001b[0m\u001b[0mbestModel\u001b[0m\u001b[0;34m,\u001b[0m \u001b[0mmodel\u001b[0m\u001b[0;34m)\u001b[0m\u001b[0;34m\u001b[0m\u001b[0;34m\u001b[0m\u001b[0m\n\u001b[0m",
            "\u001b[0;32m<ipython-input-28-a70b061a6fff>\u001b[0m in \u001b[0;36mload_ckp\u001b[0;34m(checkpoint_fpath, model)\u001b[0m\n\u001b[1;32m      6\u001b[0m     \"\"\"\n\u001b[1;32m      7\u001b[0m     \u001b[0;31m# load check point\u001b[0m\u001b[0;34m\u001b[0m\u001b[0;34m\u001b[0m\u001b[0;34m\u001b[0m\u001b[0m\n\u001b[0;32m----> 8\u001b[0;31m     \u001b[0mcheckpoint\u001b[0m \u001b[0;34m=\u001b[0m \u001b[0mtorch\u001b[0m\u001b[0;34m.\u001b[0m\u001b[0mload\u001b[0m\u001b[0;34m(\u001b[0m\u001b[0mcheckpoint_fpath\u001b[0m\u001b[0;34m)\u001b[0m\u001b[0;34m\u001b[0m\u001b[0;34m\u001b[0m\u001b[0m\n\u001b[0m\u001b[1;32m      9\u001b[0m     \u001b[0;31m# initialize state_dict from checkpoint to model\u001b[0m\u001b[0;34m\u001b[0m\u001b[0;34m\u001b[0m\u001b[0;34m\u001b[0m\u001b[0m\n\u001b[1;32m     10\u001b[0m     \u001b[0mmodel\u001b[0m\u001b[0;34m.\u001b[0m\u001b[0mload_state_dict\u001b[0m\u001b[0;34m(\u001b[0m\u001b[0mcheckpoint\u001b[0m\u001b[0;34m[\u001b[0m\u001b[0;34m'state_dict'\u001b[0m\u001b[0;34m]\u001b[0m\u001b[0;34m)\u001b[0m\u001b[0;34m\u001b[0m\u001b[0;34m\u001b[0m\u001b[0m\n",
            "\u001b[0;32m/usr/local/lib/python3.7/dist-packages/torch/serialization.py\u001b[0m in \u001b[0;36mload\u001b[0;34m(f, map_location, pickle_module, **pickle_load_args)\u001b[0m\n\u001b[1;32m    710\u001b[0m                     \u001b[0mopened_file\u001b[0m\u001b[0;34m.\u001b[0m\u001b[0mseek\u001b[0m\u001b[0;34m(\u001b[0m\u001b[0morig_position\u001b[0m\u001b[0;34m)\u001b[0m\u001b[0;34m\u001b[0m\u001b[0;34m\u001b[0m\u001b[0m\n\u001b[1;32m    711\u001b[0m                     \u001b[0;32mreturn\u001b[0m \u001b[0mtorch\u001b[0m\u001b[0;34m.\u001b[0m\u001b[0mjit\u001b[0m\u001b[0;34m.\u001b[0m\u001b[0mload\u001b[0m\u001b[0;34m(\u001b[0m\u001b[0mopened_file\u001b[0m\u001b[0;34m)\u001b[0m\u001b[0;34m\u001b[0m\u001b[0;34m\u001b[0m\u001b[0m\n\u001b[0;32m--> 712\u001b[0;31m                 \u001b[0;32mreturn\u001b[0m \u001b[0m_load\u001b[0m\u001b[0;34m(\u001b[0m\u001b[0mopened_zipfile\u001b[0m\u001b[0;34m,\u001b[0m \u001b[0mmap_location\u001b[0m\u001b[0;34m,\u001b[0m \u001b[0mpickle_module\u001b[0m\u001b[0;34m,\u001b[0m \u001b[0;34m**\u001b[0m\u001b[0mpickle_load_args\u001b[0m\u001b[0;34m)\u001b[0m\u001b[0;34m\u001b[0m\u001b[0;34m\u001b[0m\u001b[0m\n\u001b[0m\u001b[1;32m    713\u001b[0m         \u001b[0;32mreturn\u001b[0m \u001b[0m_legacy_load\u001b[0m\u001b[0;34m(\u001b[0m\u001b[0mopened_file\u001b[0m\u001b[0;34m,\u001b[0m \u001b[0mmap_location\u001b[0m\u001b[0;34m,\u001b[0m \u001b[0mpickle_module\u001b[0m\u001b[0;34m,\u001b[0m \u001b[0;34m**\u001b[0m\u001b[0mpickle_load_args\u001b[0m\u001b[0;34m)\u001b[0m\u001b[0;34m\u001b[0m\u001b[0;34m\u001b[0m\u001b[0m\n\u001b[1;32m    714\u001b[0m \u001b[0;34m\u001b[0m\u001b[0m\n",
            "\u001b[0;32m/usr/local/lib/python3.7/dist-packages/torch/serialization.py\u001b[0m in \u001b[0;36m_load\u001b[0;34m(zip_file, map_location, pickle_module, pickle_file, **pickle_load_args)\u001b[0m\n\u001b[1;32m   1044\u001b[0m     \u001b[0munpickler\u001b[0m \u001b[0;34m=\u001b[0m \u001b[0mUnpicklerWrapper\u001b[0m\u001b[0;34m(\u001b[0m\u001b[0mdata_file\u001b[0m\u001b[0;34m,\u001b[0m \u001b[0;34m**\u001b[0m\u001b[0mpickle_load_args\u001b[0m\u001b[0;34m)\u001b[0m\u001b[0;34m\u001b[0m\u001b[0;34m\u001b[0m\u001b[0m\n\u001b[1;32m   1045\u001b[0m     \u001b[0munpickler\u001b[0m\u001b[0;34m.\u001b[0m\u001b[0mpersistent_load\u001b[0m \u001b[0;34m=\u001b[0m \u001b[0mpersistent_load\u001b[0m\u001b[0;34m\u001b[0m\u001b[0;34m\u001b[0m\u001b[0m\n\u001b[0;32m-> 1046\u001b[0;31m     \u001b[0mresult\u001b[0m \u001b[0;34m=\u001b[0m \u001b[0munpickler\u001b[0m\u001b[0;34m.\u001b[0m\u001b[0mload\u001b[0m\u001b[0;34m(\u001b[0m\u001b[0;34m)\u001b[0m\u001b[0;34m\u001b[0m\u001b[0;34m\u001b[0m\u001b[0m\n\u001b[0m\u001b[1;32m   1047\u001b[0m \u001b[0;34m\u001b[0m\u001b[0m\n\u001b[1;32m   1048\u001b[0m     \u001b[0mtorch\u001b[0m\u001b[0;34m.\u001b[0m\u001b[0m_utils\u001b[0m\u001b[0;34m.\u001b[0m\u001b[0m_validate_loaded_sparse_tensors\u001b[0m\u001b[0;34m(\u001b[0m\u001b[0;34m)\u001b[0m\u001b[0;34m\u001b[0m\u001b[0;34m\u001b[0m\u001b[0m\n",
            "\u001b[0;32m/usr/local/lib/python3.7/dist-packages/torch/serialization.py\u001b[0m in \u001b[0;36mpersistent_load\u001b[0;34m(saved_id)\u001b[0m\n\u001b[1;32m   1014\u001b[0m         \u001b[0;32mif\u001b[0m \u001b[0mkey\u001b[0m \u001b[0;32mnot\u001b[0m \u001b[0;32min\u001b[0m \u001b[0mloaded_storages\u001b[0m\u001b[0;34m:\u001b[0m\u001b[0;34m\u001b[0m\u001b[0;34m\u001b[0m\u001b[0m\n\u001b[1;32m   1015\u001b[0m             \u001b[0mnbytes\u001b[0m \u001b[0;34m=\u001b[0m \u001b[0mnumel\u001b[0m \u001b[0;34m*\u001b[0m \u001b[0mtorch\u001b[0m\u001b[0;34m.\u001b[0m\u001b[0m_utils\u001b[0m\u001b[0;34m.\u001b[0m\u001b[0m_element_size\u001b[0m\u001b[0;34m(\u001b[0m\u001b[0mdtype\u001b[0m\u001b[0;34m)\u001b[0m\u001b[0;34m\u001b[0m\u001b[0;34m\u001b[0m\u001b[0m\n\u001b[0;32m-> 1016\u001b[0;31m             \u001b[0mload_tensor\u001b[0m\u001b[0;34m(\u001b[0m\u001b[0mdtype\u001b[0m\u001b[0;34m,\u001b[0m \u001b[0mnbytes\u001b[0m\u001b[0;34m,\u001b[0m \u001b[0mkey\u001b[0m\u001b[0;34m,\u001b[0m \u001b[0m_maybe_decode_ascii\u001b[0m\u001b[0;34m(\u001b[0m\u001b[0mlocation\u001b[0m\u001b[0;34m)\u001b[0m\u001b[0;34m)\u001b[0m\u001b[0;34m\u001b[0m\u001b[0;34m\u001b[0m\u001b[0m\n\u001b[0m\u001b[1;32m   1017\u001b[0m \u001b[0;34m\u001b[0m\u001b[0m\n\u001b[1;32m   1018\u001b[0m         \u001b[0;32mreturn\u001b[0m \u001b[0mloaded_storages\u001b[0m\u001b[0;34m[\u001b[0m\u001b[0mkey\u001b[0m\u001b[0;34m]\u001b[0m\u001b[0;34m\u001b[0m\u001b[0;34m\u001b[0m\u001b[0m\n",
            "\u001b[0;32m/usr/local/lib/python3.7/dist-packages/torch/serialization.py\u001b[0m in \u001b[0;36mload_tensor\u001b[0;34m(dtype, numel, key, location)\u001b[0m\n\u001b[1;32m    999\u001b[0m         \u001b[0;31m# stop wrapping with _TypedStorage\u001b[0m\u001b[0;34m\u001b[0m\u001b[0;34m\u001b[0m\u001b[0;34m\u001b[0m\u001b[0m\n\u001b[1;32m   1000\u001b[0m         loaded_storages[key] = torch.storage._TypedStorage(\n\u001b[0;32m-> 1001\u001b[0;31m             \u001b[0mwrap_storage\u001b[0m\u001b[0;34m=\u001b[0m\u001b[0mrestore_location\u001b[0m\u001b[0;34m(\u001b[0m\u001b[0mstorage\u001b[0m\u001b[0;34m,\u001b[0m \u001b[0mlocation\u001b[0m\u001b[0;34m)\u001b[0m\u001b[0;34m,\u001b[0m\u001b[0;34m\u001b[0m\u001b[0;34m\u001b[0m\u001b[0m\n\u001b[0m\u001b[1;32m   1002\u001b[0m             dtype=dtype)\n\u001b[1;32m   1003\u001b[0m \u001b[0;34m\u001b[0m\u001b[0m\n",
            "\u001b[0;32m/usr/local/lib/python3.7/dist-packages/torch/serialization.py\u001b[0m in \u001b[0;36mdefault_restore_location\u001b[0;34m(storage, location)\u001b[0m\n\u001b[1;32m    174\u001b[0m \u001b[0;32mdef\u001b[0m \u001b[0mdefault_restore_location\u001b[0m\u001b[0;34m(\u001b[0m\u001b[0mstorage\u001b[0m\u001b[0;34m,\u001b[0m \u001b[0mlocation\u001b[0m\u001b[0;34m)\u001b[0m\u001b[0;34m:\u001b[0m\u001b[0;34m\u001b[0m\u001b[0;34m\u001b[0m\u001b[0m\n\u001b[1;32m    175\u001b[0m     \u001b[0;32mfor\u001b[0m \u001b[0m_\u001b[0m\u001b[0;34m,\u001b[0m \u001b[0m_\u001b[0m\u001b[0;34m,\u001b[0m \u001b[0mfn\u001b[0m \u001b[0;32min\u001b[0m \u001b[0m_package_registry\u001b[0m\u001b[0;34m:\u001b[0m\u001b[0;34m\u001b[0m\u001b[0;34m\u001b[0m\u001b[0m\n\u001b[0;32m--> 176\u001b[0;31m         \u001b[0mresult\u001b[0m \u001b[0;34m=\u001b[0m \u001b[0mfn\u001b[0m\u001b[0;34m(\u001b[0m\u001b[0mstorage\u001b[0m\u001b[0;34m,\u001b[0m \u001b[0mlocation\u001b[0m\u001b[0;34m)\u001b[0m\u001b[0;34m\u001b[0m\u001b[0;34m\u001b[0m\u001b[0m\n\u001b[0m\u001b[1;32m    177\u001b[0m         \u001b[0;32mif\u001b[0m \u001b[0mresult\u001b[0m \u001b[0;32mis\u001b[0m \u001b[0;32mnot\u001b[0m \u001b[0;32mNone\u001b[0m\u001b[0;34m:\u001b[0m\u001b[0;34m\u001b[0m\u001b[0;34m\u001b[0m\u001b[0m\n\u001b[1;32m    178\u001b[0m             \u001b[0;32mreturn\u001b[0m \u001b[0mresult\u001b[0m\u001b[0;34m\u001b[0m\u001b[0;34m\u001b[0m\u001b[0m\n",
            "\u001b[0;32m/usr/local/lib/python3.7/dist-packages/torch/serialization.py\u001b[0m in \u001b[0;36m_cuda_deserialize\u001b[0;34m(obj, location)\u001b[0m\n\u001b[1;32m    150\u001b[0m \u001b[0;32mdef\u001b[0m \u001b[0m_cuda_deserialize\u001b[0m\u001b[0;34m(\u001b[0m\u001b[0mobj\u001b[0m\u001b[0;34m,\u001b[0m \u001b[0mlocation\u001b[0m\u001b[0;34m)\u001b[0m\u001b[0;34m:\u001b[0m\u001b[0;34m\u001b[0m\u001b[0;34m\u001b[0m\u001b[0m\n\u001b[1;32m    151\u001b[0m     \u001b[0;32mif\u001b[0m \u001b[0mlocation\u001b[0m\u001b[0;34m.\u001b[0m\u001b[0mstartswith\u001b[0m\u001b[0;34m(\u001b[0m\u001b[0;34m'cuda'\u001b[0m\u001b[0;34m)\u001b[0m\u001b[0;34m:\u001b[0m\u001b[0;34m\u001b[0m\u001b[0;34m\u001b[0m\u001b[0m\n\u001b[0;32m--> 152\u001b[0;31m         \u001b[0mdevice\u001b[0m \u001b[0;34m=\u001b[0m \u001b[0mvalidate_cuda_device\u001b[0m\u001b[0;34m(\u001b[0m\u001b[0mlocation\u001b[0m\u001b[0;34m)\u001b[0m\u001b[0;34m\u001b[0m\u001b[0;34m\u001b[0m\u001b[0m\n\u001b[0m\u001b[1;32m    153\u001b[0m         \u001b[0;32mif\u001b[0m \u001b[0mgetattr\u001b[0m\u001b[0;34m(\u001b[0m\u001b[0mobj\u001b[0m\u001b[0;34m,\u001b[0m \u001b[0;34m\"_torch_load_uninitialized\"\u001b[0m\u001b[0;34m,\u001b[0m \u001b[0;32mFalse\u001b[0m\u001b[0;34m)\u001b[0m\u001b[0;34m:\u001b[0m\u001b[0;34m\u001b[0m\u001b[0;34m\u001b[0m\u001b[0m\n\u001b[1;32m    154\u001b[0m             \u001b[0mstorage_type\u001b[0m \u001b[0;34m=\u001b[0m \u001b[0mgetattr\u001b[0m\u001b[0;34m(\u001b[0m\u001b[0mtorch\u001b[0m\u001b[0;34m.\u001b[0m\u001b[0mcuda\u001b[0m\u001b[0;34m,\u001b[0m \u001b[0mtype\u001b[0m\u001b[0;34m(\u001b[0m\u001b[0mobj\u001b[0m\u001b[0;34m)\u001b[0m\u001b[0;34m.\u001b[0m\u001b[0m__name__\u001b[0m\u001b[0;34m)\u001b[0m\u001b[0;34m\u001b[0m\u001b[0;34m\u001b[0m\u001b[0m\n",
            "\u001b[0;32m/usr/local/lib/python3.7/dist-packages/torch/serialization.py\u001b[0m in \u001b[0;36mvalidate_cuda_device\u001b[0;34m(location)\u001b[0m\n\u001b[1;32m    134\u001b[0m \u001b[0;34m\u001b[0m\u001b[0m\n\u001b[1;32m    135\u001b[0m     \u001b[0;32mif\u001b[0m \u001b[0;32mnot\u001b[0m \u001b[0mtorch\u001b[0m\u001b[0;34m.\u001b[0m\u001b[0mcuda\u001b[0m\u001b[0;34m.\u001b[0m\u001b[0mis_available\u001b[0m\u001b[0;34m(\u001b[0m\u001b[0;34m)\u001b[0m\u001b[0;34m:\u001b[0m\u001b[0;34m\u001b[0m\u001b[0;34m\u001b[0m\u001b[0m\n\u001b[0;32m--> 136\u001b[0;31m         raise RuntimeError('Attempting to deserialize object on a CUDA '\n\u001b[0m\u001b[1;32m    137\u001b[0m                            \u001b[0;34m'device but torch.cuda.is_available() is False. '\u001b[0m\u001b[0;34m\u001b[0m\u001b[0;34m\u001b[0m\u001b[0m\n\u001b[1;32m    138\u001b[0m                            \u001b[0;34m'If you are running on a CPU-only machine, '\u001b[0m\u001b[0;34m\u001b[0m\u001b[0;34m\u001b[0m\u001b[0m\n",
            "\u001b[0;31mRuntimeError\u001b[0m: Attempting to deserialize object on a CUDA device but torch.cuda.is_available() is False. If you are running on a CPU-only machine, please use torch.load with map_location=torch.device('cpu') to map your storages to the CPU."
          ]
        }
      ]
    },
    {
      "cell_type": "code",
      "source": [
        "print(epch)\n",
        "print(loss)"
      ],
      "metadata": {
        "colab": {
          "base_uri": "https://localhost:8080/"
        },
        "id": "qYwqEKKnxcvW",
        "outputId": "74431274-208e-4922-b967-99b6fc3cf521"
      },
      "execution_count": null,
      "outputs": [
        {
          "output_type": "stream",
          "name": "stdout",
          "text": [
            "2\n",
            "0.001401044849776343\n"
          ]
        }
      ]
    },
    {
      "cell_type": "code",
      "source": [
        "val_outputs=[]\n",
        "y_true=[]\n",
        "final_model.eval()\n",
        "valid_loss_final=0\n",
        "with torch.no_grad():\n",
        "      for batch_idx, data in enumerate(val_data_loader, 0):\n",
        "            ids = data['input_ids'].to(device, dtype = torch.long)\n",
        "            mask = data['attention_mask'].to(device, dtype = torch.long)\n",
        "            token_type_ids = data['token_type_ids'].to(device, dtype = torch.long)\n",
        "            targets = data['targets'].to(device, dtype = torch.float)\n",
        "            outputs = model(ids, mask, token_type_ids)\n",
        "\n",
        "            loss = loss_fn(outputs, targets)\n",
        "            valid_loss_final = valid_loss_final + ((1 / (batch_idx + 1)) * (loss.item() - valid_loss_final))\n",
        "            y_true.extend(targets.cpu().detach().numpy().tolist())\n",
        "            # print(\"pnjg target\", len(val_targets))\n",
        "            val_outputs.extend(torch.sigmoid(outputs).cpu().detach().numpy().tolist())"
      ],
      "metadata": {
        "id": "prYWAT9Bxqh7"
      },
      "execution_count": null,
      "outputs": []
    },
    {
      "cell_type": "code",
      "source": [
        "roc_auc_score(y_true,val_outputs)"
      ],
      "metadata": {
        "colab": {
          "base_uri": "https://localhost:8080/"
        },
        "id": "wQ2OvbkTyn5n",
        "outputId": "f6c6dbed-1e54-4111-c4fb-9da9fb750019"
      },
      "execution_count": null,
      "outputs": [
        {
          "output_type": "execute_result",
          "data": {
            "text/plain": [
              "0.9665914873367477"
            ]
          },
          "metadata": {},
          "execution_count": 34
        }
      ]
    },
    {
      "cell_type": "code",
      "source": [
        "print(val_outputs)"
      ],
      "metadata": {
        "colab": {
          "base_uri": "https://localhost:8080/"
        },
        "id": "xuyiHOBEka0F",
        "outputId": "f549313e-f944-4f6f-eb5a-6485b0b89d48"
      },
      "execution_count": null,
      "outputs": [
        {
          "output_type": "stream",
          "name": "stdout",
          "text": [
            "[[0.06861425936222076, 0.0018022767035290599, 0.003829231718555093, 0.0025114743039011955, 0.007837272249162197, 0.003672906896099448], [0.007723487447947264, 0.0031785168685019016, 0.003699627472087741, 0.005295217037200928, 0.003955991473048925, 0.003710047109052539], [0.06529778242111206, 0.0027813243214040995, 0.004643099848181009, 0.0064185443334281445, 0.00596762727946043, 0.006246235687285662], [0.005723320413380861, 0.0037965525407344103, 0.0038291029632091522, 0.0059945485554635525, 0.0036718668416142464, 0.004451064392924309], [0.0061386628076434135, 0.0034779661800712347, 0.0039033859502524137, 0.005400562193244696, 0.0037899594753980637, 0.004198719281703234], [0.0068197972141206264, 0.003245701314881444, 0.004112336318939924, 0.004933769814670086, 0.0036566033959388733, 0.003961165435612202], [0.0059052687138319016, 0.0037698252126574516, 0.0040032221004366875, 0.005685445852577686, 0.004078633617609739, 0.004189698025584221], [0.8251087069511414, 0.01911248452961445, 0.7366265654563904, 0.006228094920516014, 0.09816629439592361, 0.003925324883311987], [0.007095373701304197, 0.0034694240894168615, 0.00398996751755476, 0.005679847206920385, 0.0037321082782000303, 0.004052197095006704], [0.932798445224762, 0.027231119573116302, 0.8693961501121521, 0.005041777156293392, 0.18505127727985382, 0.005585007835179567], [0.017004715278744698, 0.0023641223087906837, 0.003284125356003642, 0.004332810174673796, 0.003903764532878995, 0.0036497178953140974], [0.9935287833213806, 0.15307337045669556, 0.951426088809967, 0.019594687968492508, 0.9181088209152222, 0.05534523352980614], [0.9921770691871643, 0.05253264680504799, 0.8626369833946228, 0.006296698469668627, 0.8808648586273193, 0.03395777568221092], [0.007071147207170725, 0.003072254592552781, 0.003995472565293312, 0.004257597960531712, 0.00408310117200017, 0.0037299341056495905], [0.9747748374938965, 0.02962569147348404, 0.43972402811050415, 0.014656387269496918, 0.873718798160553, 0.011302739381790161], [0.958110511302948, 0.0836947038769722, 0.9526811242103577, 0.004819497000426054, 0.27928227186203003, 0.012380793690681458], [0.11490155756473541, 0.0017764989752322435, 0.004212298896163702, 0.00384696526452899, 0.007351579610258341, 0.003888074541464448], [0.019166242331266403, 0.0022066538222134113, 0.003435037098824978, 0.0033338426146656275, 0.004838989581912756, 0.0033592686522752047], [0.91072678565979, 0.004131816793233156, 0.04484740272164345, 0.009049917571246624, 0.10739278793334961, 0.004835470579564571], [0.862084150314331, 0.003996632061898708, 0.021683651953935623, 0.006806258577853441, 0.06350456178188324, 0.025926511734724045], [0.009833499789237976, 0.003164679277688265, 0.0036501933354884386, 0.005509017966687679, 0.0039278664626181126, 0.0040810792706906796], [0.03368077054619789, 0.002146244514733553, 0.0037625583354383707, 0.003499277401715517, 0.005560817662626505, 0.002959523117169738], [0.006853712256997824, 0.003542936174198985, 0.003707684576511383, 0.005791014991700649, 0.0037531647831201553, 0.0041320775635540485], [0.9915097951889038, 0.11263176053762436, 0.8562774658203125, 0.02940327674150467, 0.9143511056900024, 0.3865588903427124], [0.07960854470729828, 0.0021017591934651136, 0.0037461768370121717, 0.0047967624850571156, 0.007028252352029085, 0.003424763912335038], [0.0063818106427788734, 0.0038183736614882946, 0.0038146930746734142, 0.0062033673748373985, 0.003818968776613474, 0.0044021205976605415], [0.006944518536329269, 0.0035709876101464033, 0.004320097155869007, 0.005299006123095751, 0.0036833984777331352, 0.004014134872704744], [0.007149805780500174, 0.0034867047797888517, 0.004196074325591326, 0.005123757757246494, 0.004002030473202467, 0.003897429909557104], [0.9879257678985596, 0.2007497102022171, 0.9249798655509949, 0.03411373123526573, 0.6321051716804504, 0.6780532598495483], [0.19887816905975342, 0.0022294246591627598, 0.02805258519947529, 0.0026324212085455656, 0.011984845623373985, 0.00217260280624032], [0.011893888004124165, 0.00289065670222044, 0.0036434640642255545, 0.0039215306751430035, 0.005600515753030777, 0.004329449962824583], [0.991591215133667, 0.14172537624835968, 0.9623134732246399, 0.015912028029561043, 0.7669336795806885, 0.015110604465007782], [0.005217211786657572, 0.0035010671708732843, 0.0041009532287716866, 0.005149326287209988, 0.0040901280008256435, 0.004693762864917517], [0.992021918296814, 0.3429219126701355, 0.9806784987449646, 0.02386380359530449, 0.9458526372909546, 0.033954378217458725], [0.9900687336921692, 0.7106800079345703, 0.9865124225616455, 0.16775891184806824, 0.8884097337722778, 0.06701716035604477], [0.7807996273040771, 0.014816182665526867, 0.6980620622634888, 0.004151103552430868, 0.06400546431541443, 0.004053259734064341], [0.7963993549346924, 0.003600104944780469, 0.012990583665668964, 0.005555391311645508, 0.06028065085411072, 0.03398577496409416], [0.028667736798524857, 0.002656853524968028, 0.003606967395171523, 0.0054461718536913395, 0.005666726268827915, 0.003335048910230398], [0.8941012620925903, 0.003971971571445465, 0.2481464296579361, 0.001403697533532977, 0.11072835326194763, 0.00764666311442852], [0.005611996632069349, 0.0039986977353692055, 0.004287910647690296, 0.006134555675089359, 0.0038539040833711624, 0.004280707333236933], [0.0061309197917580605, 0.0037712245248258114, 0.004348244983702898, 0.005620764102786779, 0.003877506358548999, 0.003911671228706837], [0.006927777547389269, 0.0035814731381833553, 0.004204219672828913, 0.005549656227231026, 0.0037331103812903166, 0.004058213904500008], [0.2971114218235016, 0.007334631867706776, 0.007551484741270542, 0.032099150121212006, 0.025826754048466682, 0.055957287549972534], [0.014529324136674404, 0.0024632893037050962, 0.004076257813721895, 0.0036956327967345715, 0.004204004071652889, 0.0034922196064144373], [0.0059726363979279995, 0.003630602965131402, 0.0040184492245316505, 0.005405748263001442, 0.00388412200845778, 0.004081943538039923], [0.019852017983794212, 0.0023910722229629755, 0.0034221771638840437, 0.00419472623616457, 0.004804590251296759, 0.0032828033436089754], [0.7158233523368835, 0.00206466531381011, 0.037328336387872696, 0.0020250133238732815, 0.0348467193543911, 0.00710736308246851], [0.9679725766181946, 0.0064848680049180984, 0.16640348732471466, 0.0035729461815208197, 0.3957318365573883, 0.007536569144576788], [0.9323298335075378, 0.05848491191864014, 0.29043254256248474, 0.03686460852622986, 0.4496615529060364, 0.8010661005973816], [0.009631573222577572, 0.002889214316383004, 0.004013757221400738, 0.004544348921626806, 0.003831693669781089, 0.0036654493305832148], [0.006184183061122894, 0.0036146908532828093, 0.0040712240152060986, 0.005617593415081501, 0.0037900907918810844, 0.0043564108200371265], [0.006794017273932695, 0.0035050404258072376, 0.003939162008464336, 0.005701680667698383, 0.003795019816607237, 0.004040417727082968], [0.006359437946230173, 0.0038525881245732307, 0.004336223937571049, 0.006081242114305496, 0.003817252814769745, 0.004140244796872139], [0.006560388021171093, 0.0034483973868191242, 0.0035925558768212795, 0.005271843168884516, 0.003802093444392085, 0.004068825393915176], [0.01148329395800829, 0.002969532972201705, 0.0033784150145947933, 0.005569473374634981, 0.0038856705650687218, 0.004325712565332651], [0.006914323661476374, 0.0030841086991131306, 0.00392829580232501, 0.00446566566824913, 0.0038342769257724285, 0.004030961077660322], [0.005889334715902805, 0.003930955659598112, 0.004123903810977936, 0.006008346565067768, 0.003985119517892599, 0.004118598066270351], [0.6300634741783142, 0.003469283925369382, 0.0100685004144907, 0.01695583015680313, 0.0217118076980114, 0.006261773407459259], [0.008281202986836433, 0.002713596448302269, 0.004179294221103191, 0.0037061981856822968, 0.004252977203577757, 0.003585200058296323], [0.006636486854404211, 0.003303583711385727, 0.003883544821292162, 0.005029081832617521, 0.003968100529164076, 0.004268754739314318], [0.009074239060282707, 0.0029829563573002815, 0.0034915092401206493, 0.004866969306021929, 0.00396676454693079, 0.004051383584737778], [0.5965718626976013, 0.002819562330842018, 0.006031561177223921, 0.007535506505519152, 0.03683749958872795, 0.01833113096654415], [0.9564639925956726, 0.009935987181961536, 0.15634529292583466, 0.0075162057764828205, 0.6930622458457947, 0.010009722784161568], [0.006328151561319828, 0.003435523482039571, 0.004369404166936874, 0.00483144074678421, 0.0038756595458835363, 0.003848231630399823], [0.502393901348114, 0.0023897590581327677, 0.009243303909897804, 0.007121020928025246, 0.017829464748501778, 0.0035526694264262915], [0.1950751096010208, 0.001857797964476049, 0.004746623337268829, 0.003754923352971673, 0.010789340361952782, 0.0034874838311225176], [0.0058500077575445175, 0.003927650395780802, 0.004144440405070782, 0.005778742488473654, 0.0037634519394487143, 0.004217678215354681], [0.9910953044891357, 0.37898683547973633, 0.9832928776741028, 0.020557472482323647, 0.9014198780059814, 0.018671374768018723], [0.028643684461712837, 0.0020798726473003626, 0.0036468133330345154, 0.003604053519666195, 0.005040078889578581, 0.0031053617130964994], [0.01155040506273508, 0.002775355475023389, 0.003292919835075736, 0.004640865605324507, 0.003985984716564417, 0.0038249706849455833], [0.8572066426277161, 0.005118403118103743, 0.0720139741897583, 0.004390405956655741, 0.3897629678249359, 0.0038775508292019367], [0.8907387852668762, 0.0034150469582527876, 0.017470266669988632, 0.010039540939033031, 0.09419013559818268, 0.009321560151875019], [0.9910290241241455, 0.398796409368515, 0.9756056070327759, 0.03526628017425537, 0.9365180134773254, 0.02227017655968666], [0.6473879218101501, 0.0020648050121963024, 0.024995364248752594, 0.0014123786240816116, 0.054139286279678345, 0.00930996797978878], [0.9914895296096802, 0.16533763706684113, 0.9203656315803528, 0.03689311817288399, 0.8947122097015381, 0.016648348420858383], [0.9688184857368469, 0.04279191046953201, 0.9202647805213928, 0.004124675411731005, 0.3497299253940582, 0.007081931922584772], [0.0068285842426121235, 0.0034205771517008543, 0.0042903730645775795, 0.005159799009561539, 0.0036559172440320253, 0.003973520826548338], [0.02571546845138073, 0.0025448640808463097, 0.003329165745526552, 0.006038700696080923, 0.0041230167262256145, 0.004233283922076225], [0.005925755016505718, 0.003636687994003296, 0.0040969243273139, 0.005393581930547953, 0.0037475619465112686, 0.004025096073746681], [0.9841803312301636, 0.11960407346487045, 0.9654473662376404, 0.010243804194033146, 0.5401020646095276, 0.012893076054751873], [0.004815007094293833, 0.004089586436748505, 0.004270508885383606, 0.005953122861683369, 0.003988736309111118, 0.004506558645516634], [0.8422746062278748, 0.002501909853890538, 0.02926206775009632, 0.002357318066060543, 0.15505672991275787, 0.006343076471239328], [0.9868324995040894, 0.12362495809793472, 0.9234728813171387, 0.022121939808130264, 0.7385100722312927, 0.011162546463310719], [0.009991897270083427, 0.0027225292287766933, 0.003910192754119635, 0.004465764854103327, 0.0037510402034968138, 0.0034540763590484858], [0.4095441699028015, 0.0020211846567690372, 0.05542682111263275, 0.0015489381039515138, 0.01988622359931469, 0.0026867699343711138], [0.006616994272917509, 0.003578315954655409, 0.004250542260706425, 0.005366717930883169, 0.003837405936792493, 0.003764072433114052], [0.9965152740478516, 0.3322840929031372, 0.9712337255477905, 0.05615274980664253, 0.9433501362800598, 0.47385191917419434], [0.9806878566741943, 0.18738539516925812, 0.8574233055114746, 0.03212146461009979, 0.906538724899292, 0.79808509349823], [0.006996300537139177, 0.0036356826312839985, 0.003940713591873646, 0.005577684845775366, 0.0037511682603508234, 0.004136436618864536], [0.005920710042119026, 0.003385817864909768, 0.0036841281689703465, 0.005211451090872288, 0.003914795815944672, 0.004150906577706337], [0.974958598613739, 0.0194237120449543, 0.7589693069458008, 0.003029120620340109, 0.670741617679596, 0.014021802693605423], [0.01026326883584261, 0.002653067000210285, 0.003658443223685026, 0.004222861956804991, 0.0036527502816170454, 0.003764346009120345], [0.0704772099852562, 0.0020405680406838655, 0.004143375903367996, 0.004640473518520594, 0.006321055348962545, 0.0028937675524502993], [0.01002885028719902, 0.002976340940222144, 0.0035519758239388466, 0.0047784410417079926, 0.0039023070130497217, 0.004058223217725754], [0.9715681672096252, 0.006905367597937584, 0.1434432566165924, 0.007922237738966942, 0.2899724841117859, 0.009523038752377033], [0.016141941770911217, 0.0022108457051217556, 0.004857382737100124, 0.0029143625870347023, 0.004181612282991409, 0.0031886401120573282], [0.911704957485199, 0.03806542605161667, 0.8543535470962524, 0.006853900384157896, 0.1202719435095787, 0.006677528843283653], [0.9088684916496277, 0.016377601772546768, 0.04012443870306015, 0.04434319585561752, 0.13103677332401276, 0.324592649936676], [0.9292926788330078, 0.006860505323857069, 0.3718123733997345, 0.003073872998356819, 0.19859009981155396, 0.002999563468620181], [0.005181150510907173, 0.004177047871053219, 0.004345101770013571, 0.006164988037198782, 0.0039176344871521, 0.00435840105637908], [0.006224362179636955, 0.003947931807488203, 0.004485492128878832, 0.005911542568355799, 0.003923144191503525, 0.003997588995844126], [0.0088947843760252, 0.003382225288078189, 0.003359966678544879, 0.00657069543376565, 0.0036012630444020033, 0.00488986587151885], [0.008621451444923878, 0.003377295797690749, 0.0036254902370274067, 0.005955053493380547, 0.0037899448070675135, 0.004683793988078833], [0.007469398435205221, 0.003751467913389206, 0.004009279888123274, 0.006069203373044729, 0.003791435854509473, 0.00413642218336463], [0.00662357360124588, 0.003434656886383891, 0.0041072485037148, 0.005492438096553087, 0.00373340817168355, 0.004061807878315449], [0.8341692686080933, 0.020487220957875252, 0.7342600226402283, 0.005321154836565256, 0.06693391501903534, 0.004672286566346884], [0.9607840180397034, 0.2965184152126312, 0.8706889152526855, 0.3785342872142792, 0.5574852228164673, 0.046953264623880386], [0.007582908496260643, 0.0034296351950615644, 0.003992945421487093, 0.0055609759874641895, 0.003874310525134206, 0.004050671588629484], [0.7125919461250305, 0.002683817408978939, 0.0270023662596941, 0.006057113874703646, 0.03192662447690964, 0.003828597255051136], [0.9696493148803711, 0.019791333004832268, 0.3924071192741394, 0.008659658022224903, 0.7456310987472534, 0.00661123264580965], [0.6607460379600525, 0.0025007794611155987, 0.012663489207625389, 0.0033505414612591267, 0.10281400382518768, 0.005977946799248457], [0.006335231475532055, 0.003338119015097618, 0.0040867943316698074, 0.00489807641133666, 0.0038078317884355783, 0.004292938392609358], [0.884980320930481, 0.14851811528205872, 0.20756064355373383, 0.745623767375946, 0.2863383889198303, 0.09769227355718613], [0.06089410185813904, 0.0023198029957711697, 0.0029455912299454212, 0.005801607854664326, 0.005610273219645023, 0.004955751355737448], [0.9644030332565308, 0.008291061036288738, 0.0828215479850769, 0.027898291125893593, 0.3350986838340759, 0.008407052606344223], [0.9844619035720825, 0.28216561675071716, 0.98186856508255, 0.01438343059271574, 0.6723963022232056, 0.01847721077501774], [0.9889624714851379, 0.06386557966470718, 0.8772528767585754, 0.008248352445662022, 0.8996644616127014, 0.046425435692071915], [0.9565230011940002, 0.015405786223709583, 0.6781035661697388, 0.0015688602579757571, 0.2881664037704468, 0.05339659005403519], [0.9287611842155457, 0.007499172817915678, 0.3328635096549988, 0.004064460750669241, 0.09952466934919357, 0.013321172446012497], [0.016394825652241707, 0.002179994946345687, 0.004706263076514006, 0.0028606115374714136, 0.004768325015902519, 0.003591687185689807], [0.9909992218017578, 0.25630876421928406, 0.9611228108406067, 0.03132880479097366, 0.8831325769424438, 0.015447474084794521], [0.2784227132797241, 0.0018535383278504014, 0.0063910698518157005, 0.004315000958740711, 0.009358157403767109, 0.004721944686025381], [0.9461933970451355, 0.008915545418858528, 0.07073010504245758, 0.030173737555742264, 0.43307337164878845, 0.008983034640550613], [0.03386665880680084, 0.0029568804893642664, 0.0036914427764713764, 0.008800575509667397, 0.004733483772724867, 0.004917381796985865], [0.013667218387126923, 0.002517916262149811, 0.003472884651273489, 0.004048775415867567, 0.003608050523325801, 0.004776661284267902], [0.8710272312164307, 0.003975683823227882, 0.011307360604405403, 0.01483758632093668, 0.09713902324438095, 0.01433398574590683], [0.16014868021011353, 0.0019577164202928543, 0.005321361590176821, 0.004469029139727354, 0.00800288375467062, 0.003293708898127079], [0.011805319227278233, 0.002765252720564604, 0.003929667640477419, 0.004522867500782013, 0.0038527126889675856, 0.003956829663366079], [0.9905539155006409, 0.4722401797771454, 0.9848336577415466, 0.05349908769130707, 0.8452740907669067, 0.031026821583509445], [0.006909819785505533, 0.003178148064762354, 0.0038725791964679956, 0.004997733980417252, 0.003825012594461441, 0.003930641803890467], [0.9887621998786926, 0.3370721936225891, 0.9439749717712402, 0.15360641479492188, 0.8810485005378723, 0.033331677317619324], [0.0079985735937953, 0.003188655013218522, 0.00393696641549468, 0.005105228163301945, 0.003925360273569822, 0.0038526924327015877], [0.11351866275072098, 0.00198545609600842, 0.003944548778235912, 0.004683271516114473, 0.007444710936397314, 0.003533061360940337], [0.6727333664894104, 0.002553052268922329, 0.06981777399778366, 0.0029080300591886044, 0.03645940124988556, 0.0023448006249964237], [0.006046077702194452, 0.0038832277059555054, 0.004057337064296007, 0.005971744656562805, 0.003958628512918949, 0.004137715324759483], [0.009439627639949322, 0.0027759785298258066, 0.003774222917854786, 0.004414109513163567, 0.0038160542026162148, 0.0035769259557127953], [0.961938202381134, 0.21920254826545715, 0.9703189134597778, 0.01589801162481308, 0.4053523540496826, 0.014820854179561138], [0.005849872250109911, 0.003366422140970826, 0.0035784828942269087, 0.005921181757003069, 0.003507861401885748, 0.006986287422478199], [0.9480950236320496, 0.05026140436530113, 0.9150245189666748, 0.00411810539662838, 0.540213406085968, 0.0052227783016860485], [0.6721461415290833, 0.002585572889074683, 0.007772879675030708, 0.00923333503305912, 0.03311922401189804, 0.0053093587048351765], [0.165488600730896, 0.0018515695119276643, 0.0042549241334199905, 0.0035229562781751156, 0.01342999842017889, 0.0037099274341017008], [0.9763851165771484, 0.010937657207250595, 0.23538580536842346, 0.005603730212897062, 0.688372790813446, 0.014169628731906414], [0.9762446880340576, 0.04363587871193886, 0.8851243257522583, 0.005209343507885933, 0.6006921529769897, 0.005464682821184397], [0.006313706748187542, 0.0037086037918925285, 0.003985702525824308, 0.005826825276017189, 0.003664326388388872, 0.004326505586504936], [0.0054109529592096806, 0.003694254904985428, 0.0037277741357684135, 0.00564780505374074, 0.0039198752492666245, 0.004735687747597694], [0.005689410027116537, 0.0036856054794043303, 0.0039516775868833065, 0.00575367733836174, 0.003635948756709695, 0.0046187834814190865], [0.00641474686563015, 0.003604606492444873, 0.00376311969012022, 0.005669935140758753, 0.0037822634913027287, 0.004231054801493883], [0.8858335614204407, 0.016992859542369843, 0.20004601776599884, 0.014410225674510002, 0.042709942907094955, 0.02184227481484413], [0.026572229340672493, 0.001875316840596497, 0.005364514421671629, 0.002453587017953396, 0.005909816361963749, 0.0036050090566277504], [0.8663910031318665, 0.003735258476808667, 0.038106855005025864, 0.012515774928033352, 0.06426090747117996, 0.005149680655449629], [0.07298370450735092, 0.002396882511675358, 0.0033471479546278715, 0.005765511188656092, 0.008355422876775265, 0.00360870361328125], [0.0058701722882688046, 0.003696403931826353, 0.004152698442339897, 0.005039990413933992, 0.0041268616914749146, 0.004083702340722084], [0.10923109203577042, 0.0017676103161647916, 0.003981651738286018, 0.0028101103380322456, 0.009095556102693081, 0.004153400659561157], [0.017528483644127846, 0.0034159685019403696, 0.0035990551114082336, 0.007312314119189978, 0.004195622634142637, 0.006566830910742283], [0.9554056525230408, 0.010300811380147934, 0.13009899854660034, 0.009044560603797436, 0.7004860043525696, 0.010352653451263905], [0.007208497729152441, 0.003705279203131795, 0.003721218788996339, 0.005995110608637333, 0.00381635338999331, 0.004201571457087994], [0.97648686170578, 0.016885126009583473, 0.6679338812828064, 0.0019012991106137633, 0.7300912737846375, 0.02202071063220501], [0.006201297976076603, 0.0033706033136695623, 0.003544382518157363, 0.005899902433156967, 0.0037215230986475945, 0.007012755144387484], [0.014808347448706627, 0.0025030772667378187, 0.0032470051664859056, 0.00389238353818655, 0.004358020611107349, 0.0038082425016909838], [0.006302632391452789, 0.00378144602291286, 0.003756154328584671, 0.0059603736735880375, 0.004073258489370346, 0.004164190962910652], [0.8353520631790161, 0.0036346844863146544, 0.016148939728736877, 0.016170166432857513, 0.0731944888830185, 0.006830356549471617], [0.007858367636799812, 0.003817586228251457, 0.004152209963649511, 0.006053432356566191, 0.003786294022575021, 0.004177115857601166], [0.9940586090087891, 0.45342007279396057, 0.9844509363174438, 0.02971230074763298, 0.9599193930625916, 0.04968419671058655], [0.9939061999320984, 0.2811748683452606, 0.9670622944831848, 0.04281759262084961, 0.9166596531867981, 0.0286245159804821], [0.9711955189704895, 0.20960767567157745, 0.7698222398757935, 0.06655275821685791, 0.8313506245613098, 0.9080255627632141], [0.995586633682251, 0.1950427144765854, 0.9405236840248108, 0.05578013136982918, 0.9272818565368652, 0.1592094600200653], [0.04979090765118599, 0.002026325324550271, 0.0038777568843215704, 0.0038172397762537003, 0.005200965330004692, 0.0032239395659416914], [0.9269828200340271, 0.004791149869561195, 0.027471639215946198, 0.009280530735850334, 0.2899514436721802, 0.010193531401455402], [0.7293513417243958, 0.004094951786100864, 0.007686906028538942, 0.014826256781816483, 0.05421820655465126, 0.0220082625746727], [0.8918395638465881, 0.01390849333256483, 0.7403651475906372, 0.002005882328376174, 0.20123982429504395, 0.03495490923523903], [0.7885715365409851, 0.0029634330421686172, 0.014367302879691124, 0.008939635939896107, 0.039211686700582504, 0.007868308573961258], [0.7698583006858826, 0.003579472191631794, 0.014473356306552887, 0.012920886278152466, 0.036757782101631165, 0.007032529450953007], [0.951200544834137, 0.011934950016438961, 0.4228804409503937, 0.0023895008489489555, 0.6234089136123657, 0.05299932882189751], [0.9603983759880066, 0.05010433867573738, 0.9124475121498108, 0.0037427113857120275, 0.5995345711708069, 0.0059121111407876015], [0.037297870963811874, 0.0025592781603336334, 0.0036614290438592434, 0.00616794265806675, 0.0041290707886219025, 0.00606082146987319], [0.943599283695221, 0.025157758966088295, 0.8741484880447388, 0.001950545352883637, 0.25417348742485046, 0.005902478005737066], [0.006653061136603355, 0.0038386343512684107, 0.0044313580729067326, 0.0058522350154817104, 0.0039212885312736034, 0.004141871351748705], [0.8921400308609009, 0.005368179641664028, 0.3265015482902527, 0.002072318224236369, 0.1457144170999527, 0.0025848608929663897], [0.9861624240875244, 0.3918001055717468, 0.9812775254249573, 0.033872343599796295, 0.7437376379966736, 0.020159967243671417], [0.9305413365364075, 0.0058390251360833645, 0.3396545648574829, 0.0031766698230057955, 0.0958043560385704, 0.006125767715275288], [0.0070945569314062595, 0.003241868456825614, 0.0032369892578572035, 0.004980563186109066, 0.004255322273820639, 0.004507168661803007], [0.6042916178703308, 0.003018577815964818, 0.014868690632283688, 0.01049581915140152, 0.020293230190873146, 0.005109691526740789], [0.0103470953181386, 0.0027162134647369385, 0.0035158877726644278, 0.004371983464807272, 0.0036338851787149906, 0.004228922072798014], [0.8785005211830139, 0.004093973897397518, 0.013522903434932232, 0.0085967518389225, 0.11787760257720947, 0.03433587774634361], [0.9458041787147522, 0.015495643019676208, 0.7063491344451904, 0.0029553654603660107, 0.12552887201309204, 0.013563476502895355], [0.6773196458816528, 0.0022832853719592094, 0.009633743204176426, 0.0066603198647499084, 0.02671355940401554, 0.005793549120426178], [0.012433587573468685, 0.0024323330726474524, 0.004567383788526058, 0.003654168453067541, 0.004556278232485056, 0.003121110610663891], [0.9538003206253052, 0.028641503304243088, 0.8702611923217773, 0.0021480312570929527, 0.47388890385627747, 0.006859098561108112], [0.9905092716217041, 0.3662821352481842, 0.9650682806968689, 0.05658942461013794, 0.9305292963981628, 0.7833579778671265], [0.9727188944816589, 0.03751445561647415, 0.5496482849121094, 0.010020124725997448, 0.763268232345581, 0.4182036519050598], [0.009665782563388348, 0.0029036172199994326, 0.004042279440909624, 0.004625384695827961, 0.0037838146090507507, 0.003775788238272071], [0.006052330601960421, 0.003513806499540806, 0.0038597832899540663, 0.00537811079993844, 0.003775092540308833, 0.0043243905529379845], [0.0086169159039855, 0.002671887632459402, 0.0038743470795452595, 0.0035351284313946962, 0.004618595354259014, 0.0036164787597954273], [0.00623330008238554, 0.003329931991174817, 0.0037733372300863266, 0.0050972322933375835, 0.003910521510988474, 0.003923697862774134], [0.9024658799171448, 0.003920718561857939, 0.036467306315898895, 0.012435789220035076, 0.07455644756555557, 0.007431421894580126], [0.006852375343441963, 0.0033797170035541058, 0.0037225305568426847, 0.005719828885048628, 0.003774629905819893, 0.004298449028283358], [0.006299956701695919, 0.0033942933660000563, 0.003619440598413348, 0.005274836905300617, 0.0040136524476110935, 0.004239736590534449], [0.007142782211303711, 0.003285386599600315, 0.0040557123720645905, 0.005290816072374582, 0.003904161276295781, 0.003882095217704773], [0.005598548799753189, 0.0038812821730971336, 0.003927693236619234, 0.006067832000553608, 0.003961470443755388, 0.004276906605809927], [0.006463550962507725, 0.003261246718466282, 0.004284733906388283, 0.0044867233373224735, 0.0038591944612562656, 0.004017106257379055], [0.9665613174438477, 0.03731159865856171, 0.8576939702033997, 0.009717186912894249, 0.32298147678375244, 0.00492394482716918], [0.013882390223443508, 0.0026012237649410963, 0.0040013534016907215, 0.004535058978945017, 0.0037085653748363256, 0.0035807923413813114], [0.1951035112142563, 0.0039389245212078094, 0.1449407935142517, 0.0020799627527594566, 0.014360054396092892, 0.003531309310346842], [0.9163312911987305, 0.0032835197634994984, 0.06960929930210114, 0.003867518622428179, 0.21716740727424622, 0.008037365041673183], [0.0053718010894954205, 0.003789705689996481, 0.004212312400341034, 0.005618301685899496, 0.0037307206075638533, 0.004531984217464924], [0.9292102456092834, 0.005255574360489845, 0.2081812173128128, 0.001996837090700865, 0.48773011565208435, 0.016178878024220467], [0.9590264558792114, 0.008128244429826736, 0.1770193725824356, 0.0046595134772360325, 0.6310083270072937, 0.007327469531446695], [0.9917144179344177, 0.542923629283905, 0.9844062328338623, 0.04611731693148613, 0.9425159692764282, 0.038260821253061295], [0.9887883067131042, 0.21176718175411224, 0.9712179899215698, 0.016722045838832855, 0.7841547727584839, 0.012030147016048431], [0.006484336219727993, 0.0036471595522016287, 0.0040611382573843, 0.005787372589111328, 0.0037831098306924105, 0.004033481236547232], [0.9920616149902344, 0.3794088065624237, 0.9631794095039368, 0.07263408601284027, 0.937267005443573, 0.8208843469619751], [0.9888577461242676, 0.4030859172344208, 0.9771420359611511, 0.09994827210903168, 0.8077971339225769, 0.03537798300385475], [0.007187119219452143, 0.0034564638044685125, 0.00385874742642045, 0.005564444698393345, 0.003767523216083646, 0.004167960025370121], [0.12269557267427444, 0.0017757026944309473, 0.006060109473764896, 0.0027375915087759495, 0.01273622177541256, 0.004465252161026001], [0.9269364476203918, 0.003872375236824155, 0.028679363429546356, 0.006580637767910957, 0.14845404028892517, 0.02611837536096573], [0.9588830471038818, 0.01689143478870392, 0.7845149636268616, 0.0017804623348638415, 0.5275105237960815, 0.01539100892841816], [0.005956114735454321, 0.003671914106234908, 0.004141314420849085, 0.005605741869658232, 0.0037443211767822504, 0.00418658135458827], [0.990429699420929, 0.49043235182762146, 0.9673927426338196, 0.1691233366727829, 0.8901426196098328, 0.04185638576745987], [0.005477770231664181, 0.003522720420733094, 0.003657159162685275, 0.005264858715236187, 0.0037661921232938766, 0.00504455016925931], [0.007496792357414961, 0.0029673255048692226, 0.0034374978858977556, 0.004869725089520216, 0.0035007093101739883, 0.004974042996764183], [0.9633325934410095, 0.02355736494064331, 0.7348382472991943, 0.003836691379547119, 0.6866072416305542, 0.005485048517584801], [0.9890016317367554, 0.09266137331724167, 0.8722454905509949, 0.012591082602739334, 0.930207371711731, 0.11784379929304123], [0.9288489818572998, 0.006423931568861008, 0.1766318529844284, 0.01124496292322874, 0.1357969045639038, 0.004092547111213207], [0.01070475485175848, 0.0026435002218931913, 0.004218543414026499, 0.0034553012810647488, 0.0037128382828086615, 0.004500359762459993], [0.008291401900351048, 0.0034647700376808643, 0.0033141246531158686, 0.006760507356375456, 0.0036661424674093723, 0.004898806568235159], [0.006227451376616955, 0.003455915255472064, 0.0036220501642674208, 0.005259936675429344, 0.004007267765700817, 0.0044451430439949036], [0.016419149935245514, 0.0031348373740911484, 0.003487758804112673, 0.006798475049436092, 0.0037258744705468416, 0.005608031060546637], [0.005220137536525726, 0.0037949748802930117, 0.004124586936086416, 0.005988850723952055, 0.0038405549712479115, 0.004366409964859486], [0.005242662504315376, 0.004008600488305092, 0.004260687623172998, 0.005784890614449978, 0.00395302614197135, 0.004282569512724876], [0.9730318784713745, 0.06231125071644783, 0.8906150460243225, 0.004921324085444212, 0.8235607147216797, 0.00951321143656969], [0.3359069526195526, 0.0021634818986058235, 0.004485132172703743, 0.00681676110252738, 0.012516804970800877, 0.006691345479339361], [0.9901941418647766, 0.13237865269184113, 0.9148772358894348, 0.01921899989247322, 0.9034627079963684, 0.01269514486193657], [0.9167747497558594, 0.0047313254326581955, 0.20803436636924744, 0.00123280705884099, 0.201575368642807, 0.012664258480072021], [0.5810564756393433, 0.0026229089125990868, 0.008681187406182289, 0.005461576394736767, 0.030078042298555374, 0.013157175853848457], [0.7946150302886963, 0.0065421899780631065, 0.4190792441368103, 0.003335024928674102, 0.05559508502483368, 0.0032302546314895153], [0.006308709736913443, 0.0033772606402635574, 0.004242429509758949, 0.004942684900015593, 0.004037508275359869, 0.0039357212372124195], [0.0524032860994339, 0.002657122677192092, 0.003939846996217966, 0.006729784421622753, 0.005138663109391928, 0.00336139602586627], [0.9941002726554871, 0.4288017749786377, 0.9696277976036072, 0.09809163957834244, 0.9479293823242188, 0.7879820466041565], [0.558976411819458, 0.0023394934833049774, 0.008636551909148693, 0.0064607467502355576, 0.02493991144001484, 0.003734321566298604], [0.9695041179656982, 0.08071407675743103, 0.942196786403656, 0.015066604129970074, 0.33152666687965393, 0.009151842445135117], [0.9824044108390808, 0.03035963885486126, 0.8201727271080017, 0.0034030359238386154, 0.7091917395591736, 0.006310933735221624], [0.44160032272338867, 0.002046536887064576, 0.009645829908549786, 0.004880276042968035, 0.01646757312119007, 0.003373026382178068], [0.03955114632844925, 0.0022417937871068716, 0.005221765488386154, 0.0043038176372647285, 0.004474380519241095, 0.0031249362509697676], [0.8557430505752563, 0.004659504629671574, 0.24935346841812134, 0.0014231225941330194, 0.2951940894126892, 0.0035128570161759853], [0.9402894377708435, 0.0174116138368845, 0.8193155527114868, 0.0032698512077331543, 0.16596557199954987, 0.0061038765124976635], [0.852440595626831, 0.002683904254809022, 0.02075500786304474, 0.0033800930250436068, 0.1441660374403, 0.007932573556900024], [0.008207817561924458, 0.0034106420353055, 0.003959030844271183, 0.005708261393010616, 0.0039015256334096193, 0.004060453735291958], [0.0049718390218913555, 0.003981504123657942, 0.0042001353576779366, 0.0058168647810816765, 0.003889858489856124, 0.004407796077430248], [0.9926502108573914, 0.29951930046081543, 0.9633289575576782, 0.03964550793170929, 0.9621477127075195, 0.05564260110259056], [0.5951043963432312, 0.0022954936139285564, 0.01055012084543705, 0.0034884666092693806, 0.06898774951696396, 0.005706088617444038], [0.008172675035893917, 0.0037675644271075726, 0.004126930143684149, 0.006965174339711666, 0.0037720627151429653, 0.004871913697570562], [0.9580990076065063, 0.21450206637382507, 0.9585999846458435, 0.024524781852960587, 0.3522404432296753, 0.01610248163342476], [0.009891701862215996, 0.00298807630315423, 0.0032418426126241684, 0.005174035206437111, 0.003470906289294362, 0.005050340201705694], [0.9343385100364685, 0.01087478082627058, 0.3445839583873749, 0.002598703606054187, 0.48746705055236816, 0.12017908692359924], [0.01713200844824314, 0.0023960296530276537, 0.003644374432042241, 0.0042425962164998055, 0.0037738895043730736, 0.0036746817640960217], [0.005705629009753466, 0.004023213870823383, 0.004335878416895866, 0.0060081444680690765, 0.0038365693762898445, 0.0042226240038871765], [0.005237447563558817, 0.004321123007684946, 0.0045258402824401855, 0.006123248487710953, 0.004063292872160673, 0.004291839897632599], [0.00842469185590744, 0.0031887416262179613, 0.0037264341954141855, 0.0054859197698533535, 0.0036773188039660454, 0.004878032486885786], [0.006054034922271967, 0.0035625577438622713, 0.0042414297349750996, 0.004947985988110304, 0.003973581362515688, 0.003894372843205929], [0.8635358810424805, 0.004667866975069046, 0.020844371989369392, 0.01912909932434559, 0.06762755662202835, 0.006592750549316406], [0.017822641879320145, 0.002437310991808772, 0.0036698735784739256, 0.003156066872179508, 0.006096219178289175, 0.004557259846478701], [0.9619590640068054, 0.07885618507862091, 0.9182372689247131, 0.016095781698822975, 0.21406936645507812, 0.01284746266901493], [0.22963964939117432, 0.0020287923980504274, 0.006985589396208525, 0.003919495735317469, 0.009150221943855286, 0.0034140264615416527], [0.007483095396310091, 0.003776721190661192, 0.004342866130173206, 0.005549422465264797, 0.003954644314944744, 0.0038147151935845613], [0.9928659200668335, 0.3885587751865387, 0.980728805065155, 0.02692137099802494, 0.9457527995109558, 0.02985766902565956], [0.9750872254371643, 0.053894586861133575, 0.9361436367034912, 0.006217909511178732, 0.30010032653808594, 0.01135123148560524], [0.9580233693122864, 0.016684407368302345, 0.7404422760009766, 0.002710033440962434, 0.3315265476703644, 0.00431534368544817], [0.9459584355354309, 0.0076238978654146194, 0.08243539929389954, 0.03026030957698822, 0.15137194097042084, 0.007717503700405359], [0.00571660278365016, 0.003725270740687847, 0.0037802031729370356, 0.0059784287586808205, 0.00393673637881875, 0.004447222221642733], [0.9874835014343262, 0.1276317834854126, 0.9664419889450073, 0.0073314630426466465, 0.7433226108551025, 0.010771872475743294], [0.9559212923049927, 0.008371707983314991, 0.4950055181980133, 0.0017765116645023227, 0.3652830719947815, 0.003952684346586466], [0.7857120633125305, 0.005297732073813677, 0.016289306804537773, 0.029252219945192337, 0.05567878857254982, 0.008629716001451015], [0.9933167695999146, 0.21257390081882477, 0.9749509692192078, 0.013329574838280678, 0.9122567772865295, 0.032405078411102295], [0.7500839829444885, 0.0021933047100901604, 0.015185220167040825, 0.003201107494533062, 0.08505136519670486, 0.005639076232910156], [0.8802576661109924, 0.003957245033234358, 0.012359559535980225, 0.009762643836438656, 0.13469520211219788, 0.02186584658920765], [0.006738073658198118, 0.0032018835190683603, 0.0039467657916247845, 0.005131702870130539, 0.0036468482576310635, 0.004329735413193703], [0.02069656178355217, 0.0021578059531748295, 0.005775348749011755, 0.0033373020123690367, 0.004398396238684654, 0.002909901551902294], [0.007210712879896164, 0.0034411391243338585, 0.004130351822823286, 0.005156890023499727, 0.0037949983961880207, 0.004254716448485851], [0.008528667502105236, 0.003617405192926526, 0.004206425976008177, 0.006021557375788689, 0.0035657212138175964, 0.00400977348908782], [0.15360108017921448, 0.0019236222142353654, 0.0047860052436590195, 0.004203509073704481, 0.010326174087822437, 0.002951991278678179], [0.006293783895671368, 0.0034144772216677666, 0.00398790230974555, 0.00542418984696269, 0.0038199881091713905, 0.004109111614525318], [0.01633659563958645, 0.0026799545157700777, 0.0033676635939627886, 0.005106446798890829, 0.004047735128551722, 0.004056556615978479], [0.007592369802296162, 0.003361012553796172, 0.003864438971504569, 0.005358670838177204, 0.0038397014141082764, 0.00385782727971673], [0.9850613474845886, 0.5457045435905457, 0.9805128574371338, 0.17454291880130768, 0.7140320539474487, 0.055052462965250015], [0.06304864585399628, 0.003327459329739213, 0.004175009671598673, 0.014316539280116558, 0.005670730955898762, 0.005705615039914846], [0.010943601839244366, 0.0029353618156164885, 0.004317956510931253, 0.004679532255977392, 0.00386288994923234, 0.003359842114150524], [0.004844455514103174, 0.0039557963609695435, 0.0038841054774820805, 0.005846218205988407, 0.004047139547765255, 0.004655750934034586], [0.9889611601829529, 0.1817554384469986, 0.9174937009811401, 0.039867695420980453, 0.8846762180328369, 0.012897360138595104], [0.02837507426738739, 0.0021568583324551582, 0.002900994149968028, 0.003800969570875168, 0.005996642634272575, 0.0037644014228135347], [0.9191364049911499, 0.0061679077334702015, 0.03952489420771599, 0.008664976805448532, 0.17065174877643585, 0.09408150613307953], [0.027222594246268272, 0.0026395218446850777, 0.003518361132591963, 0.006562681868672371, 0.0044037471525371075, 0.0036838483065366745], [0.0061590163968503475, 0.0033731479197740555, 0.0037794222589582205, 0.005200232844799757, 0.003997383639216423, 0.004298055078834295], [0.5944385528564453, 0.005860505159944296, 0.009257681667804718, 0.0409616194665432, 0.022919556125998497, 0.04033316299319267], [0.013495615683495998, 0.002503069117665291, 0.0034196621272712946, 0.00417977012693882, 0.004400399047881365, 0.0035254363901913166], [0.973653256893158, 0.03955330699682236, 0.8874657154083252, 0.007442326284945011, 0.3685959279537201, 0.005266646854579449], [0.9798287749290466, 0.032062970101833344, 0.5051041841506958, 0.011090078391134739, 0.8792058825492859, 0.01471115741878748], [0.02943502739071846, 0.0024612550623714924, 0.003466057823970914, 0.005933352746069431, 0.004168891813606024, 0.004016783554106951], [0.005928317084908485, 0.0037201568484306335, 0.0044044493697583675, 0.005669042468070984, 0.0037330002523958683, 0.003991999663412571], [0.9867718815803528, 0.38328731060028076, 0.9855067729949951, 0.014621934853494167, 0.8312945365905762, 0.01739928312599659], [0.9814760684967041, 0.07580207288265228, 0.7743749022483826, 0.019332949072122574, 0.9065945744514465, 0.012038462795317173], [0.9920476078987122, 0.14227527379989624, 0.9200876355171204, 0.018934978172183037, 0.9353477358818054, 0.018744904547929764], [0.006755948998034, 0.0036558581050485373, 0.003863350488245487, 0.0058423313312232494, 0.0036285370588302612, 0.004466011188924313], [0.007793914061039686, 0.003356196917593479, 0.004183155484497547, 0.005127110984176397, 0.00379305356182158, 0.0037669255398213863], [0.9668409824371338, 0.011019950732588768, 0.10132836550474167, 0.015718191862106323, 0.607934832572937, 0.009797804988920689], [0.10336216539144516, 0.0023473238106817007, 0.004738945979624987, 0.005774349439889193, 0.006738067604601383, 0.0028994802851229906], [0.02386297658085823, 0.003341861767694354, 0.003076684195548296, 0.00703652948141098, 0.004971667192876339, 0.0168191809207201], [0.8844307661056519, 0.003869455074891448, 0.056528959423303604, 0.0060057188384234905, 0.07348886132240295, 0.010838019661605358], [0.9704865217208862, 0.01370718702673912, 0.6826074123382568, 0.004955163225531578, 0.22538460791110992, 0.006399460136890411], [0.9263193607330322, 0.0038047891575843096, 0.041167184710502625, 0.009009318426251411, 0.1579575091600418, 0.005992124788463116], [0.012281792238354683, 0.002786002354696393, 0.0037418813444674015, 0.004998623859137297, 0.003935586661100388, 0.003970600664615631], [0.010763593018054962, 0.002664103638380766, 0.004197005182504654, 0.0040732682682573795, 0.004096797667443752, 0.003289619227871299], [0.11879490315914154, 0.0036375971976667643, 0.004813245963305235, 0.013659803196787834, 0.007000310812145472, 0.01451901812106371], [0.9910374879837036, 0.4710606634616852, 0.9822304844856262, 0.043609101325273514, 0.905482292175293, 0.023190006613731384], [0.6526355743408203, 0.0029337017331272364, 0.01152733527123928, 0.0027878722175955772, 0.08171669393777847, 0.028219429776072502], [0.012372714467346668, 0.002895460231229663, 0.0037244197446852922, 0.005064294207841158, 0.0038195562083274126, 0.004133084788918495], [0.02829769253730774, 0.0023505690041929483, 0.0038487252313643694, 0.005198208149522543, 0.004251331556588411, 0.005323600489646196], [0.010249419137835503, 0.0027578333392739296, 0.0033461321145296097, 0.004531205631792545, 0.0035947293508797884, 0.005551393609493971], [0.8009823560714722, 0.0036073115188628435, 0.24504202604293823, 0.0013368641957640648, 0.14097481966018677, 0.003686174750328064], [0.03610321134328842, 0.0019625991117209196, 0.0038456388283520937, 0.0031972848810255527, 0.005874270107597113, 0.0033724685199558735], [0.006744378712028265, 0.0036987948697060347, 0.004322877619415522, 0.005315491929650307, 0.004009443800896406, 0.0038741191383451223], [0.007492890115827322, 0.0030103707686066628, 0.0033574444241821766, 0.005193712655454874, 0.0038079889491200447, 0.0041854605078697205], [0.9785399436950684, 0.007671967148780823, 0.10394516587257385, 0.012323923408985138, 0.28056424856185913, 0.018441442400217056], [0.9836734533309937, 0.015661899000406265, 0.16379114985466003, 0.011058691889047623, 0.5956450700759888, 0.04272206127643585], [0.9920663833618164, 0.612648069858551, 0.9770733118057251, 0.15230487287044525, 0.8961522579193115, 0.11576426029205322], [0.8948614001274109, 0.005571792833507061, 0.30740219354629517, 0.004536359570920467, 0.09183291345834732, 0.0033945259638130665], [0.2891700267791748, 0.001667671138420701, 0.005455550272017717, 0.003073405474424362, 0.017942652106285095, 0.004718259908258915], [0.008178810589015484, 0.0028660639654845, 0.002993943402543664, 0.0048189847730100155, 0.003965751267969608, 0.00593625009059906], [0.007190645206719637, 0.0032243123278021812, 0.003706599585711956, 0.005017123185098171, 0.003813971998170018, 0.003911968786269426], [0.019977835938334465, 0.002142147161066532, 0.003352334490045905, 0.003338444046676159, 0.0050065843388438225, 0.00353584554977715], [0.045477647334337234, 0.0021875621750950813, 0.0036618164740502834, 0.003926316741853952, 0.0057188584469258785, 0.00312411948107183], [0.007458253297954798, 0.003076323075219989, 0.0038706387858837843, 0.0046560801565647125, 0.0038524616975337267, 0.004095936194062233], [0.006663534790277481, 0.0034844987094402313, 0.004135807976126671, 0.005246428772807121, 0.0035223420709371567, 0.004248093347996473], [0.01020518597215414, 0.003016646718606353, 0.0040499502792954445, 0.004605755675584078, 0.003715739119797945, 0.0036089643836021423], [0.8423148989677429, 0.004931337665766478, 0.011992008425295353, 0.010744529776275158, 0.09128496795892715, 0.05841139331459999], [0.006522696930915117, 0.003489817725494504, 0.0041390275582671165, 0.005364949814975262, 0.0036505938041955233, 0.0041635544039309025], [0.9853906631469727, 0.16478146612644196, 0.8805178999900818, 0.11328312009572983, 0.7588685154914856, 0.018569927662611008], [0.0052079204469919205, 0.003924722783267498, 0.0038307546637952328, 0.006318177096545696, 0.003935938235372305, 0.004544944502413273], [0.006545977666974068, 0.003568388754501939, 0.0037590046413242817, 0.005844286642968655, 0.003784928936511278, 0.004671942442655563], [0.7060256004333496, 0.0023961185943335295, 0.022727428004145622, 0.0057352203875780106, 0.03131454810500145, 0.00390851404517889], [0.02427878975868225, 0.002608680631965399, 0.0049564428627491, 0.0038993926718831062, 0.004903639201074839, 0.0028629491571336985], [0.008698747493326664, 0.0033163416665047407, 0.00393802672624588, 0.005163653288036585, 0.003958032466471195, 0.0037706242874264717], [0.007909749634563923, 0.0032961550168693066, 0.0032329577952623367, 0.005972542800009251, 0.003699615364894271, 0.006797728128731251], [0.9079371094703674, 0.015450461767613888, 0.07768499851226807, 0.01442692894488573, 0.20022960007190704, 0.43602490425109863], [0.9933598637580872, 0.6024858355522156, 0.9830769896507263, 0.1022941991686821, 0.9536311626434326, 0.06015763804316521], [0.009218942373991013, 0.002787090139463544, 0.003871495835483074, 0.00428976584225893, 0.003730314550921321, 0.004365721717476845], [0.9821366667747498, 0.021934092044830322, 0.7534931302070618, 0.002681867917999625, 0.7401794791221619, 0.008262375369668007], [0.9968127608299255, 0.6412868499755859, 0.990720272064209, 0.1059117317199707, 0.9682971239089966, 0.24597027897834778], [0.011607801541686058, 0.0030793913174420595, 0.003999748267233372, 0.006087903399020433, 0.003563409671187401, 0.00404396140947938], [0.0070524392649531364, 0.0040512485429644585, 0.004416474141180515, 0.00630980683490634, 0.004098932724446058, 0.004288509488105774], [0.008398840203881264, 0.003825528547167778, 0.004513435531407595, 0.006214379798620939, 0.0040048230439424515, 0.004170785192400217], [0.00838993676006794, 0.003332691267132759, 0.003897835034877062, 0.005417700856924057, 0.003834760282188654, 0.003912787884473801], [0.3118937611579895, 0.002324875211343169, 0.006093255244195461, 0.00727121252566576, 0.010155627503991127, 0.005620953161269426], [0.901576817035675, 0.003832609159871936, 0.030047278851270676, 0.00683066388592124, 0.2327452450990677, 0.005141549743711948], [0.9945958256721497, 0.13589753210544586, 0.9536302089691162, 0.016154417768120766, 0.8426938652992249, 0.046091437339782715], [0.014865010976791382, 0.002949604531750083, 0.0033777616918087006, 0.005678099580109119, 0.0037405791226774454, 0.005549524910748005], [0.9833992719650269, 0.06451860815286636, 0.883409857749939, 0.005901880096644163, 0.6821336150169373, 0.005728494375944138], [0.011760689318180084, 0.002570008859038353, 0.0036438533570617437, 0.0043506259098649025, 0.003664799965918064, 0.003853501519188285], [0.9834048748016357, 0.012459241785109043, 0.3065127432346344, 0.005413242615759373, 0.5252407789230347, 0.01974765583872795], [0.39384573698043823, 0.003079130779951811, 0.009248855523765087, 0.013074181042611599, 0.013186467811465263, 0.004212386440485716], [0.7105560302734375, 0.008235259912908077, 0.5240107178688049, 0.0032262266613543034, 0.042337704449892044, 0.004030928947031498], [0.9871460199356079, 0.04744098708033562, 0.835146427154541, 0.0042481618002057076, 0.7477218508720398, 0.16448406875133514], [0.9684128165245056, 0.021546443924307823, 0.8406059145927429, 0.0023003532551229, 0.5795173645019531, 0.011758715845644474], [0.9873534440994263, 0.39096730947494507, 0.9870937466621399, 0.016150888055562973, 0.7975450754165649, 0.019736260175704956], [0.0071884943172335625, 0.003445556852966547, 0.0036673361901193857, 0.005855525843799114, 0.0037032938562333584, 0.004484046716243029], [0.989700436592102, 0.3908482789993286, 0.9887020587921143, 0.013065656647086143, 0.8472815155982971, 0.025112349539995193], [0.006831553298979998, 0.003474804339930415, 0.0042475685477256775, 0.005231913179159164, 0.0039339796639978886, 0.0037814693059772253], [0.006065977271646261, 0.003638381604105234, 0.004204151686280966, 0.005539195146411657, 0.004100394435226917, 0.004235261585563421], [0.8956872224807739, 0.009425456635653973, 0.49524205923080444, 0.0030428431928157806, 0.07090189307928085, 0.004145932383835316], [0.010017362423241138, 0.002970983274281025, 0.0036042211577296257, 0.0050299884751439095, 0.0038452353328466415, 0.003977385815232992], [0.006290209013968706, 0.003775854827836156, 0.004192931577563286, 0.005626211408525705, 0.003894694847986102, 0.004089095164090395], [0.005903539247810841, 0.0037147828843444586, 0.003993889782577753, 0.005495840683579445, 0.0038899919018149376, 0.004221857991069555], [0.7535156607627869, 0.00532259326428175, 0.015080184675753117, 0.008896028622984886, 0.06287100911140442, 0.0933077335357666], [0.007017153315246105, 0.003275487804785371, 0.004032533150166273, 0.0050609176978468895, 0.0037058775778859854, 0.0039256601594388485], [0.006789880339056253, 0.00333184702321887, 0.0037686654832214117, 0.005316442344337702, 0.003895201487466693, 0.0038765729404985905], [0.011108055710792542, 0.0028977615293115377, 0.004155410919338465, 0.004398667719215155, 0.003915015142410994, 0.0033758115023374557], [0.009749975055456161, 0.0029081448446959257, 0.0036139520816504955, 0.004978536162525415, 0.003915184177458286, 0.0037665890995413065], [0.9550554156303406, 0.017814908176660538, 0.6557914018630981, 0.0037836707197129726, 0.5733423829078674, 0.0036581496242433786], [0.009772527031600475, 0.002857581479474902, 0.0033164615742862225, 0.004700339399278164, 0.004323887173086405, 0.0035771059338003397], [0.9906349778175354, 0.15472504496574402, 0.9437564015388489, 0.01508333534002304, 0.920425295829773, 0.2769545912742615], [0.8016754984855652, 0.0025208196602761745, 0.03967488557100296, 0.001642327755689621, 0.18646207451820374, 0.009639882482588291], [0.9926732182502747, 0.45115363597869873, 0.9639671444892883, 0.09206875413656235, 0.9572713375091553, 0.8461170196533203], [0.6389451026916504, 0.006505120545625687, 0.47078239917755127, 0.002138192066922784, 0.05783466249704361, 0.005220081191509962], [0.9151654839515686, 0.008800562471151352, 0.5503132939338684, 0.003299857024103403, 0.10071510821580887, 0.004242409020662308], [0.9474624395370483, 0.005210640374571085, 0.04663568362593651, 0.007478761486709118, 0.398055762052536, 0.00970983412116766], [0.9202294945716858, 0.004210672806948423, 0.11324550211429596, 0.0036406628787517548, 0.28374791145324707, 0.0038521860260516405], [0.9586233496665955, 0.023634951561689377, 0.8654668927192688, 0.003653224091976881, 0.16671238839626312, 0.016380945220589638], [0.984119176864624, 0.16492675244808197, 0.8867579698562622, 0.031039834022521973, 0.8211724162101746, 0.7460299730300903], [0.7449548840522766, 0.008274395018815994, 0.01724856346845627, 0.0821947380900383, 0.057843659073114395, 0.032727085053920746], [0.9717144966125488, 0.013754630461335182, 0.6018927097320557, 0.0022219328675419092, 0.33911094069480896, 0.020935339853167534], [0.9923226237297058, 0.17911452054977417, 0.9717898964881897, 0.011948819272220135, 0.887262761592865, 0.016383003443479538], [0.8659512400627136, 0.0029091874603182077, 0.054782651364803314, 0.0036150976084172726, 0.12095711380243301, 0.0032041948288679123], [0.8929397463798523, 0.013870736584067345, 0.04168577492237091, 0.12068922817707062, 0.12463096529245377, 0.014583778567612171], [0.005865583661943674, 0.0034866235218942165, 0.0034979674965143204, 0.005178577732294798, 0.004281063098460436, 0.004576626233756542], [0.02274688147008419, 0.0026504790876060724, 0.0037821305450052023, 0.0056877052411437035, 0.004072823096066713, 0.003880805103108287], [0.8418853282928467, 0.018796000629663467, 0.7497135996818542, 0.005382504779845476, 0.10833720862865448, 0.0036723013035953045], [0.9893420934677124, 0.2537173628807068, 0.9749553203582764, 0.025436261668801308, 0.7653019428253174, 0.0153323570266366], [0.959323525428772, 0.007794396951794624, 0.37932077050209045, 0.0020531495101749897, 0.4158097803592682, 0.0048310356214642525], [0.937073290348053, 0.01116930041462183, 0.02831985428929329, 0.029447345063090324, 0.21291132271289825, 0.1884714961051941], [0.01875406689941883, 0.0023364939261227846, 0.0036669194232672453, 0.003912158310413361, 0.004215817898511887, 0.0037481882609426975], [0.0072201918810606, 0.003617501351982355, 0.004310461692512035, 0.0055017052218317986, 0.003923179116100073, 0.0038260300643742085], [0.9797201752662659, 0.054987721145153046, 0.8373264074325562, 0.010409114882349968, 0.3457474708557129, 0.22384752333164215], [0.759842574596405, 0.010621444322168827, 0.0205472931265831, 0.12027813494205475, 0.052659209817647934, 0.017774352803826332], [0.9782034158706665, 0.08150793612003326, 0.9393948316574097, 0.010481264442205429, 0.40170255303382874, 0.007310088723897934], [0.8808743953704834, 0.022940076887607574, 0.8193475604057312, 0.004324778448790312, 0.11053763329982758, 0.0049474951811134815], [0.6142244935035706, 0.0024555916897952557, 0.028549538925290108, 0.0040313382633030415, 0.017558161169290543, 0.007428196724504232], [0.9132130742073059, 0.003020000411197543, 0.03198598325252533, 0.006044943351298571, 0.10047736018896103, 0.006518236827105284], [0.991399884223938, 0.07325705885887146, 0.9394007325172424, 0.008901214227080345, 0.7135629057884216, 0.02338809333741665], [0.006885436829179525, 0.0038079963997006416, 0.004019109532237053, 0.006027239840477705, 0.004063150379806757, 0.004019398242235184], [0.9837406277656555, 0.22749024629592896, 0.9640556573867798, 0.03142071142792702, 0.5998173952102661, 0.014558342285454273], [0.008164812810719013, 0.0031649318989366293, 0.004252813756465912, 0.004882608540356159, 0.0036344442050904036, 0.003746324684470892], [0.04090298339724541, 0.002336169360205531, 0.003916257526725531, 0.005719935055822134, 0.004746429622173309, 0.0034434946719557047], [0.979198694229126, 0.0736701637506485, 0.9224957227706909, 0.006676055025309324, 0.8151893615722656, 0.009782836772501469], [0.9936133027076721, 0.2541535198688507, 0.9791935086250305, 0.013550219126045704, 0.8939123749732971, 0.024086037650704384], [0.9873551726341248, 0.6935021281242371, 0.9685795903205872, 0.46778589487075806, 0.9296751022338867, 0.11665419489145279], [0.9819485545158386, 0.40747302770614624, 0.9845766425132751, 0.02747592143714428, 0.7041504383087158, 0.01994730718433857], [0.6241801381111145, 0.005623797886073589, 0.292735755443573, 0.002937566488981247, 0.026544172316789627, 0.0032249330542981625], [0.956798791885376, 0.007380213588476181, 0.04830481484532356, 0.015589984133839607, 0.4604877531528473, 0.021723082289099693], [0.00888829305768013, 0.003531644819304347, 0.0037057192530483007, 0.006744286511093378, 0.003698996501043439, 0.005658513400703669], [0.8929979801177979, 0.005415224935859442, 0.08485309034585953, 0.0045763482339680195, 0.4974023997783661, 0.005837087519466877], [0.011024259962141514, 0.003838302567601204, 0.0045556272380054, 0.006002551410347223, 0.003802667371928692, 0.005413681268692017], [0.873637855052948, 0.008048206567764282, 0.09099757671356201, 0.004838472697883844, 0.22250699996948242, 0.21240143477916718], [0.9719009399414062, 0.03424200415611267, 0.623667299747467, 0.005677386187016964, 0.8238251805305481, 0.16256970167160034], [0.023935964331030846, 0.002694342052564025, 0.0032438861671835184, 0.006508412305265665, 0.004388495348393917, 0.004328062757849693], [0.009825266897678375, 0.002824442693963647, 0.0041521405801177025, 0.00402864208444953, 0.003779764985665679, 0.0041269538924098015], [0.9305317401885986, 0.01681751012802124, 0.7698621153831482, 0.003887641942128539, 0.11504734307527542, 0.0060661062598228455], [0.9099563956260681, 0.029282117262482643, 0.0414651557803154, 0.11949057132005692, 0.19880223274230957, 0.47467100620269775], [0.0074236453510820866, 0.0032274399418383837, 0.003588911844417453, 0.005275292322039604, 0.003906719386577606, 0.003953602164983749], [0.9877647757530212, 0.604739248752594, 0.985755980014801, 0.09176745265722275, 0.8316908478736877, 0.038770709186792374], [0.019518207758665085, 0.0023324082139879465, 0.004002750851213932, 0.003831264330074191, 0.004511464852839708, 0.0029787730891257524], [0.011936699040234089, 0.0030594307463616133, 0.0033678764011710882, 0.005053055472671986, 0.003935524728149176, 0.005185074172914028], [0.06144988164305687, 0.00211632763966918, 0.004252966959029436, 0.002829222474247217, 0.007917985320091248, 0.011262956075370312], [0.9821739196777344, 0.38972193002700806, 0.934752345085144, 0.25281915068626404, 0.8240903615951538, 0.03462165966629982], [0.021370558068156242, 0.0022276018280535936, 0.003905251855030656, 0.0036398167721927166, 0.004780489485710859, 0.0028933037538081408], [0.9888076186180115, 0.40654274821281433, 0.9778648614883423, 0.03897518664598465, 0.8822866678237915, 0.021551748737692833], [0.9684444665908813, 0.3834834694862366, 0.829871654510498, 0.5818995833396912, 0.7632758617401123, 0.07266288995742798], [0.9957737326622009, 0.5234830379486084, 0.9915006160736084, 0.033623576164245605, 0.9571818709373474, 0.19116951525211334], [0.006849983707070351, 0.0037314954679459333, 0.00386987766250968, 0.006159089505672455, 0.004060816019773483, 0.004082905128598213], [0.009578673169016838, 0.0034233888145536184, 0.004138879012316465, 0.006188697647303343, 0.003755897283554077, 0.004234212450683117], [0.008147453889250755, 0.0034228453878313303, 0.0034477598965168, 0.005777982994914055, 0.004269387573003769, 0.0039396993815898895], [0.026144742965698242, 0.0026428501587361097, 0.005255138501524925, 0.004997345618903637, 0.004247328732162714, 0.0037943150382488966], [0.9347070455551147, 0.003437790321186185, 0.09281785786151886, 0.0030077327974140644, 0.21381807327270508, 0.0065530454739928246], [0.02661709487438202, 0.00234216614626348, 0.003060792339965701, 0.004305340349674225, 0.005126491189002991, 0.003464816138148308], [0.005988527555018663, 0.003736356971785426, 0.004122388549149036, 0.00567419221624732, 0.003588604973629117, 0.004680616315454245], [0.1297859102487564, 0.0020485958084464073, 0.0038911448791623116, 0.004549658391624689, 0.008734660223126411, 0.0034122210927307606], [0.005225796718150377, 0.0036536925472319126, 0.0037266165018081665, 0.005415517371147871, 0.0037427169736474752, 0.004571530967950821], [0.984181821346283, 0.33151018619537354, 0.9857742786407471, 0.020045539364218712, 0.6688219904899597, 0.019733866676688194], [0.01837581768631935, 0.0022314598318189383, 0.0032576106023043394, 0.003730860771611333, 0.004121294245123863, 0.003672584192827344], [0.88942950963974, 0.003175996011123061, 0.08524836599826813, 0.0022660268004983664, 0.07372315973043442, 0.015067617408931255], [0.9249461889266968, 0.00458644051104784, 0.0284382663667202, 0.01063395757228136, 0.2079860419034958, 0.0068502528592944145], [0.9907655715942383, 0.04747423529624939, 0.8530592322349548, 0.0068808672949671745, 0.7056264877319336, 0.018965696915984154], [0.03685010224580765, 0.00228447956033051, 0.0037995039019733667, 0.004670989234000444, 0.004930221941322088, 0.0031354213133454323], [0.006190795451402664, 0.00370688340626657, 0.003956671804189682, 0.00572245754301548, 0.0035820582415908575, 0.004415134433656931], [0.007349430117756128, 0.003379442496225238, 0.0035846002865582705, 0.005661908537149429, 0.003628490259870887, 0.004677287302911282], [0.9764494895935059, 0.016180677339434624, 0.5554718375205994, 0.008148903958499432, 0.3329208791255951, 0.005952948238700628], [0.005201922729611397, 0.0035576745867729187, 0.004261717665940523, 0.005311605520546436, 0.0036926092579960823, 0.004531070124357939], [0.9666846394538879, 0.03829890862107277, 0.7140376567840576, 0.006772588938474655, 0.4666478931903839, 0.4091198146343231], [0.04837700352072716, 0.0020360315684229136, 0.003921238239854574, 0.003948315978050232, 0.005929720122367144, 0.002932657254859805], [0.006274262443184853, 0.003621418960392475, 0.003780655562877655, 0.005844034254550934, 0.0037271156907081604, 0.004156774841248989], [0.865610659122467, 0.16272711753845215, 0.2483072578907013, 0.7613630294799805, 0.26145243644714355, 0.11996757984161377], [0.888867974281311, 0.0030695933382958174, 0.17076542973518372, 0.0018231944413855672, 0.07788853347301483, 0.004386510234326124], [0.8990032076835632, 0.005250551272183657, 0.09491237998008728, 0.014700891450047493, 0.05307606980204582, 0.007360075134783983], [0.011600423604249954, 0.0028773206286132336, 0.0039334786124527454, 0.005044679157435894, 0.003953827545046806, 0.003729480318725109], [0.947827160358429, 0.03807041794061661, 0.14668934047222137, 0.04201352596282959, 0.36193224787712097, 0.6758087873458862], [0.006919456645846367, 0.003208465175703168, 0.003771544899791479, 0.005045861937105656, 0.0039022108539938927, 0.003951681777834892], [0.838312566280365, 0.019085343927145004, 0.7202479839324951, 0.005952222738415003, 0.11432414501905441, 0.0035370979458093643], [0.9903501868247986, 0.491707980632782, 0.9855667352676392, 0.02474519982933998, 0.9164298176765442, 0.026801396161317825], [0.9949902892112732, 0.4164552390575409, 0.9840108752250671, 0.045617662370204926, 0.9662033915519714, 0.39764404296875], [0.006475462112575769, 0.0035603023134171963, 0.00424128258600831, 0.005326866637915373, 0.0038804749492555857, 0.003808730747550726], [0.7810170650482178, 0.0049471380189061165, 0.010535376146435738, 0.028811819851398468, 0.07473375648260117, 0.007457388564944267], [0.7274802327156067, 0.0031502051278948784, 0.0076244892552495, 0.010502432473003864, 0.03737455978989601, 0.016268154606223106], [0.9728332757949829, 0.10090754181146622, 0.932174026966095, 0.02163364365696907, 0.44066888093948364, 0.009456943720579147], [0.008423975668847561, 0.003150127362459898, 0.0038695528637617826, 0.005243818741291761, 0.0037686170544475317, 0.003793515032157302], [0.0055601345375180244, 0.004038127139210701, 0.004261167254298925, 0.005996423307806253, 0.0037709323223680258, 0.0044398121535778046], [0.5613273978233337, 0.002324807457625866, 0.005797901656478643, 0.005849894136190414, 0.03829571232199669, 0.006401673424988985], [0.9750723838806152, 0.06705513596534729, 0.9263163805007935, 0.007053474895656109, 0.6300106644630432, 0.007885118015110493], [0.9733596444129944, 0.01740754209458828, 0.4446568489074707, 0.00857942271977663, 0.585776686668396, 0.004690235946327448], [0.9533656239509583, 0.1581156849861145, 0.5877640247344971, 0.4705277383327484, 0.4664837718009949, 0.04404385760426521], [0.47908708453178406, 0.0027944708708673716, 0.005433244630694389, 0.013327536173164845, 0.019834714010357857, 0.007954691536724567], [0.01138660404831171, 0.00259215896949172, 0.0038013814482837915, 0.0042913975194096565, 0.004049796611070633, 0.003323879325762391], [0.9650231003761292, 0.008049222640693188, 0.16341464221477509, 0.005656278692185879, 0.5815450549125671, 0.010066879913210869], [0.7797303199768066, 0.0029012744780629873, 0.15199467539787292, 0.001294173183850944, 0.07496124505996704, 0.003528348635882139], [0.9772692918777466, 0.04358837753534317, 0.8692652583122253, 0.0045426408760249615, 0.7967559099197388, 0.009225656278431416], [0.00703463377431035, 0.003260333789512515, 0.003616578644141555, 0.00517289387062192, 0.003711279481649399, 0.004089477472007275], [0.9725388884544373, 0.15663465857505798, 0.9663411974906921, 0.009260306134819984, 0.5053166151046753, 0.011037883348762989], [0.015476705506443977, 0.0027825930155813694, 0.0034767864271998405, 0.005087897181510925, 0.003968226723372936, 0.003774527693167329], [0.8128180503845215, 0.004304978530853987, 0.017804821953177452, 0.00805957056581974, 0.053455840796232224, 0.0605061799287796], [0.006360553205013275, 0.0035892240703105927, 0.003921139519661665, 0.005485326983034611, 0.004158472642302513, 0.004545580595731735], [0.019488578662276268, 0.0023572640493512154, 0.002978804288432002, 0.0037916828878223896, 0.004235114902257919, 0.005890320520848036], [0.00779899675399065, 0.003391902195289731, 0.003946538548916578, 0.005115543957799673, 0.003836540039628744, 0.003541073063388467], [0.9931443929672241, 0.09706099331378937, 0.895713746547699, 0.015462731942534447, 0.894761860370636, 0.019383801147341728], [0.07622726261615753, 0.0018006714526563883, 0.005106552969664335, 0.0029025133699178696, 0.00736114801838994, 0.002739723538979888], [0.9632406830787659, 0.019619455561041832, 0.06200655549764633, 0.08618611097335815, 0.3538963794708252, 0.14498741924762726], [0.47300779819488525, 0.003290332155302167, 0.1264420598745346, 0.0026467659045010805, 0.02710210531949997, 0.0021595272701233625], [0.005360274575650692, 0.003778167301788926, 0.003987915813922882, 0.005923868156969547, 0.003600605996325612, 0.004718839190900326], [0.02222380042076111, 0.002510875929147005, 0.0031872533727437258, 0.004856182262301445, 0.004482678137719631, 0.0038934187032282352], [0.5608758926391602, 0.0019005247158929706, 0.009002361446619034, 0.0032721241004765034, 0.027806859463453293, 0.005829961504787207], [0.006361776497215033, 0.003651389852166176, 0.004114850424230099, 0.005602250341325998, 0.0037706494331359863, 0.004062872380018234], [0.0063484651036560535, 0.003470988944172859, 0.0038137310184538364, 0.005492482800036669, 0.0036611035466194153, 0.004399645142257214], [0.9467850923538208, 0.05266226828098297, 0.9146097898483276, 0.010250483639538288, 0.19144406914710999, 0.00818613264709711], [0.05775829777121544, 0.0021365901920944452, 0.003170109586790204, 0.00498793413862586, 0.005500510800629854, 0.0047662206925451756], [0.9120010733604431, 0.009367449209094048, 0.1172817200422287, 0.004186955280601978, 0.6485130786895752, 0.06233128532767296], [0.9268571734428406, 0.008648489601910114, 0.04521537572145462, 0.031785521656274796, 0.3260691463947296, 0.006916239857673645], [0.9895674586296082, 0.08784791082143784, 0.8052395582199097, 0.04059689864516258, 0.8374959230422974, 0.01713581569492817], [0.024026263505220413, 0.002145126461982727, 0.003734378609806299, 0.00333615206182003, 0.005510310642421246, 0.002894813194870949], [0.008861130103468895, 0.0030042757280170918, 0.0037002817261964083, 0.004855278879404068, 0.003998441621661186, 0.0038085519336163998], [0.937399685382843, 0.006488727871328592, 0.05990275368094444, 0.01011631079018116, 0.4220278263092041, 0.005736680701375008], [0.006886376067996025, 0.002917057368904352, 0.004159430507570505, 0.004102190025150776, 0.004235326312482357, 0.0038573492784053087], [0.9647546410560608, 0.011284008622169495, 0.09365802258253098, 0.022633187472820282, 0.5623548626899719, 0.008796392008662224], [0.9058531522750854, 0.0033888649195432663, 0.10658052563667297, 0.004630417097359896, 0.09796874970197678, 0.0036897172685712576], [0.008125216700136662, 0.0028574932366609573, 0.0037017427384853363, 0.004663825500756502, 0.0037362666334956884, 0.003953153733164072], [0.9780458211898804, 0.033307384699583054, 0.45737990736961365, 0.015341249294579029, 0.8668643236160278, 0.011136428453028202], [0.006455089431256056, 0.0032267607748508453, 0.0039587770588696, 0.004632601980119944, 0.0038902924861758947, 0.0038527108263224363], [0.9941200613975525, 0.3124200701713562, 0.951468288898468, 0.05674368515610695, 0.9605012536048889, 0.0565420538187027], [0.005622813478112221, 0.0037169698625802994, 0.004229799844324589, 0.005614352412521839, 0.003830598434433341, 0.004209657199680805], [0.005283528473228216, 0.004182392731308937, 0.003929676953703165, 0.006245359778404236, 0.0037279303651303053, 0.004992409143596888], [0.02858453243970871, 0.0020501953549683094, 0.004030249081552029, 0.0034637704957276583, 0.005048514809459448, 0.002824176801368594], [0.005740870721638203, 0.004221657291054726, 0.004193252418190241, 0.006483566015958786, 0.004014971666038036, 0.004382174462080002], [0.0329713337123394, 0.0018713395111262798, 0.003770380513742566, 0.0028120616916567087, 0.006955981254577637, 0.002880978165194392], [0.008678930811583996, 0.003169059520587325, 0.0034259536769241095, 0.004928647540509701, 0.004282905254513025, 0.004059457220137119], [0.009293776005506516, 0.0031877083238214254, 0.0038972352631390095, 0.0054731303825974464, 0.0038190518971532583, 0.003943569026887417], [0.9920778870582581, 0.4305092990398407, 0.9820257425308228, 0.029573550447821617, 0.9129866361618042, 0.026422975584864616], [0.005983517039567232, 0.003408151911571622, 0.0039254967123270035, 0.005160945001989603, 0.003950612153857946, 0.003872880944982171], [0.8955934047698975, 0.0037461784668266773, 0.027573460713028908, 0.004855341278016567, 0.23595479130744934, 0.007969803176820278], [0.262259840965271, 0.0017152278451249003, 0.007766497787088156, 0.0028768829070031643, 0.010742400772869587, 0.0035171727649867535], [0.9236236810684204, 0.021325280889868736, 0.07199312746524811, 0.04107172042131424, 0.1757710725069046, 0.41089197993278503], [0.7007344961166382, 0.0017568976618349552, 0.01738749071955681, 0.002751158783212304, 0.0384615994989872, 0.005275297444313765], [0.8018075227737427, 0.0025879053864628077, 0.053457800298929214, 0.0019492434803396463, 0.12358395755290985, 0.003789349226281047], [0.885947048664093, 0.009755265899002552, 0.4852565824985504, 0.004300035070627928, 0.06396432220935822, 0.0071429177187383175], [0.9891818165779114, 0.09293268620967865, 0.7603633999824524, 0.1274261325597763, 0.8065704703330994, 0.04636033996939659], [0.9737387895584106, 0.07595264911651611, 0.5751218199729919, 0.03409094735980034, 0.703551173210144, 0.7678433060646057], [0.961067795753479, 0.006932595279067755, 0.06985369324684143, 0.019174065440893173, 0.31515824794769287, 0.009713493287563324], [0.913019061088562, 0.004565775394439697, 0.04545072838664055, 0.0057213641703128815, 0.3202935755252838, 0.008003739640116692], [0.010744630359113216, 0.0027783713303506374, 0.0038155957590788603, 0.0045368485152721405, 0.0038308235816657543, 0.003469704417511821], [0.005877982825040817, 0.0035980697721242905, 0.0038789636455476284, 0.005376098211854696, 0.004053132608532906, 0.004258853383362293], [0.9321111440658569, 0.004599313717335463, 0.09778205305337906, 0.007072620093822479, 0.09416846930980682, 0.007774806581437588], [0.9507906436920166, 0.006525843404233456, 0.08607012778520584, 0.004520013462752104, 0.5148136615753174, 0.02067490480840206], [0.1314946562051773, 0.0018072209786623716, 0.00416197907179594, 0.0031906762160360813, 0.009396317414939404, 0.007233716081827879], [0.9072377681732178, 0.009109469130635262, 0.015203763730823994, 0.03963202238082886, 0.17419010400772095, 0.11070528626441956], [0.009301725775003433, 0.002906795823946595, 0.003276590257883072, 0.00486510805785656, 0.003811615752056241, 0.0041397372260689735], [0.008867510594427586, 0.002706159371882677, 0.0039004653226584196, 0.003993827849626541, 0.0039811390452086926, 0.003733660327270627], [0.9882107973098755, 0.29478463530540466, 0.9826520681381226, 0.017801113426685333, 0.7505754232406616, 0.015889016911387444], [0.34410369396209717, 0.0016519703203812242, 0.008271202445030212, 0.002940064761787653, 0.021494412794709206, 0.004003286827355623], [0.9139682650566101, 0.005028804764151573, 0.030022984370589256, 0.017520897090435028, 0.17383261024951935, 0.006305129267275333], [0.6953445076942444, 0.018316233530640602, 0.027905797585844994, 0.037157632410526276, 0.06938815861940384, 0.35566186904907227], [0.8925864696502686, 0.005254352930933237, 0.028333036229014397, 0.025174949318170547, 0.07528150826692581, 0.009256815537810326], [0.005844469647854567, 0.0036856825463473797, 0.004056217148900032, 0.005475266370922327, 0.0037403975147753954, 0.004318657796829939], [0.9846492409706116, 0.12685756385326385, 0.9653685688972473, 0.008545704185962677, 0.6502528786659241, 0.009491289034485817], [0.3087187111377716, 0.0023825522512197495, 0.004600804764777422, 0.00786314345896244, 0.012186955660581589, 0.007046855986118317], [0.4205300807952881, 0.0028059473261237144, 0.005794351454824209, 0.005365738645195961, 0.022665685042738914, 0.028050214052200317], [0.9624151587486267, 0.02132803574204445, 0.8187711238861084, 0.0032610108610242605, 0.35318702459335327, 0.0042857020162045956], [0.7062597274780273, 0.0036281440407037735, 0.0076425825245678425, 0.012225182726979256, 0.037145812064409256, 0.022109685465693474], [0.632712721824646, 0.002786652883514762, 0.008115483447909355, 0.00939237792044878, 0.02545488066971302, 0.005921077448874712], [0.8369340300559998, 0.003311273641884327, 0.02997361682355404, 0.00604410981759429, 0.16929540038108826, 0.00367216719314456], [0.7356476783752441, 0.006996268406510353, 0.4135705232620239, 0.003249546280130744, 0.04468829184770584, 0.0031914087012410164], [0.00606572674587369, 0.0034786423202604055, 0.003444784553721547, 0.0056225392036139965, 0.0038589818868786097, 0.004333811812102795], [0.23353411257266998, 0.001863711280748248, 0.003716982202604413, 0.003938067704439163, 0.014850229024887085, 0.006303080357611179], [0.014192039147019386, 0.0025529563426971436, 0.003746062982827425, 0.004659267608076334, 0.0034627325367182493, 0.004938692785799503], [0.9156946539878845, 0.009759458713233471, 0.04033951088786125, 0.04861199110746384, 0.08373481035232544, 0.009502963162958622], [0.9124646782875061, 0.006179358344525099, 0.046572282910346985, 0.01163202989846468, 0.09967461228370667, 0.055494699627161026], [0.9549008011817932, 0.010277663357555866, 0.5807265043258667, 0.0026602635625749826, 0.30174487829208374, 0.0030509009957313538], [0.9769842028617859, 0.10784730315208435, 0.5489674210548401, 0.07379630953073502, 0.7044200897216797, 0.8616064190864563], [0.007121064700186253, 0.0034141025971621275, 0.004337949212640524, 0.0051125893369317055, 0.0036493870429694653, 0.003931412938982248], [0.016628166660666466, 0.00275434460490942, 0.003393888473510742, 0.005813101772218943, 0.004138281103223562, 0.004076335113495588], [0.020252041518688202, 0.0024188014212995768, 0.0035970823373645544, 0.004538970533758402, 0.004344091285020113, 0.003141632303595543], [0.9966573715209961, 0.6718924641609192, 0.9851728677749634, 0.3829227089881897, 0.9557759761810303, 0.6603782773017883], [0.4533037841320038, 0.00897175818681717, 0.5063273906707764, 0.0029829777777194977, 0.04462425038218498, 0.0047393664717674255], [0.01762867532670498, 0.0022436792496591806, 0.004506783559918404, 0.003260398982092738, 0.0044452170841395855, 0.0028034283313900232], [0.984940230846405, 0.4323078989982605, 0.9673008322715759, 0.24993060529232025, 0.7307789325714111, 0.06076071038842201], [0.007244184613227844, 0.0030482059810310602, 0.004216330591589212, 0.004395396448671818, 0.004079214762896299, 0.003466836642473936], [0.5491215586662292, 0.002826898591592908, 0.007589295040816069, 0.010776888579130173, 0.023316755890846252, 0.004888014402240515], [0.9212773442268372, 0.010800918564200401, 0.6241663098335266, 0.0041947197169065475, 0.08451792597770691, 0.005254415795207024], [0.010334515012800694, 0.0028135532047599554, 0.00367216719314456, 0.004569521639496088, 0.0037518120370805264, 0.003805372631177306], [0.9900557994842529, 0.05021271854639053, 0.9189109206199646, 0.0071929399855434895, 0.5315982103347778, 0.024720976129174232], [0.9842787384986877, 0.3368131220340729, 0.8941030502319336, 0.10280993580818176, 0.8973958492279053, 0.917967677116394], [0.9219062924385071, 0.016165176406502724, 0.04075009003281593, 0.03739564120769501, 0.19795937836170197, 0.357830673456192], [0.9799185991287231, 0.5309169888496399, 0.9266500473022461, 0.4068130552768707, 0.8862655758857727, 0.05717841535806656], [0.010844560340046883, 0.002983815735206008, 0.0035530037712305784, 0.00516800070181489, 0.003838911419734359, 0.0035502545069903135], [0.007306269835680723, 0.0036760594230145216, 0.004215011838823557, 0.005751064512878656, 0.0038407391402870417, 0.0043098293244838715], [0.5040072798728943, 0.0024384870193898678, 0.007117232773452997, 0.007252248004078865, 0.01679951138794422, 0.004781964235007763], [0.006397138349711895, 0.00363533734343946, 0.003978876397013664, 0.005655916873365641, 0.003942293580621481, 0.0038870663847774267], [0.9002491235733032, 0.0031390839722007513, 0.04619196429848671, 0.0049956077709794044, 0.09500593692064285, 0.004712329246103764], [0.9800611734390259, 0.04093446955084801, 0.7684170007705688, 0.0075636962428689, 0.6048857569694519, 0.17669615149497986], [0.00706139113754034, 0.003379224333912134, 0.003907239064574242, 0.005323469638824463, 0.00402990635484457, 0.003905246267095208], [0.9566105604171753, 0.00999530777335167, 0.07364270836114883, 0.019956406205892563, 0.5615046620368958, 0.008730553090572357], [0.008861997164785862, 0.003213196061551571, 0.0037758490070700645, 0.005061937961727381, 0.003847036510705948, 0.004032435826957226], [0.7651157975196838, 0.002260275185108185, 0.050739701837301254, 0.002353898948058486, 0.038588978350162506, 0.003774247830733657], [0.9462736248970032, 0.006375412922352552, 0.33764299750328064, 0.002631905721500516, 0.2438802421092987, 0.007148914970457554], [0.006278203334659338, 0.00374150974676013, 0.0036958628334105015, 0.006227058824151754, 0.0038603111170232296, 0.004643055610358715], [0.8581050038337708, 0.00799640640616417, 0.2408766746520996, 0.007704365532845259, 0.0371914803981781, 0.00850493460893631], [0.007002097554504871, 0.003402101341634989, 0.0036123639438301325, 0.005584809463471174, 0.004037260543555021, 0.00400911271572113], [0.006755431182682514, 0.003407337237149477, 0.004001718480139971, 0.0051633031107485294, 0.0036254075821489096, 0.0043386416509747505], [0.7760829925537109, 0.0023244493640959263, 0.013026926666498184, 0.005300853401422501, 0.055652275681495667, 0.005738225765526295], [0.006220767740160227, 0.003469842951744795, 0.0037123849615454674, 0.005802066996693611, 0.003624040400609374, 0.005087158642709255], [0.08261682093143463, 0.0023068070877343416, 0.002867635805159807, 0.0044997697696089745, 0.008650349453091621, 0.01088128611445427], [0.22936223447322845, 0.0018539928132668138, 0.007900631986558437, 0.0031493876595050097, 0.010671589523553848, 0.005041818134486675], [0.006290718913078308, 0.0037628374993801117, 0.0036641506012529135, 0.006054574158042669, 0.003947204444557428, 0.004350084811449051], [0.9818264245986938, 0.036751266568899155, 0.39038196206092834, 0.06617708504199982, 0.6016466617584229, 0.014157631434500217], [0.9628486633300781, 0.5776653289794922, 0.868560254573822, 0.7473390698432922, 0.8222730755805969, 0.12956631183624268], [0.9952157735824585, 0.4451557695865631, 0.9838062524795532, 0.031909991055727005, 0.9676066637039185, 0.07781299948692322], [0.006288507487624884, 0.003514454700052738, 0.00333392689935863, 0.005473565775901079, 0.003703394439071417, 0.005045471712946892], [0.021476928144693375, 0.0020186861511319876, 0.0038743324112147093, 0.0030202455818653107, 0.004637617617845535, 0.0032730726525187492], [0.9001139998435974, 0.0034741025883704424, 0.028587153181433678, 0.004832800477743149, 0.15386773645877838, 0.005172582343220711], [0.8832660913467407, 0.007370421662926674, 0.4287375211715698, 0.0021796361543238163, 0.32936403155326843, 0.004735741764307022], [0.986052393913269, 0.1755102127790451, 0.9030863046646118, 0.03006661869585514, 0.9237551093101501, 0.01277851965278387], [0.9801301956176758, 0.08242622762918472, 0.3703709840774536, 0.3610348105430603, 0.5742014050483704, 0.06882227212190628], [0.983357310295105, 0.056847598403692245, 0.25149327516555786, 0.13954338431358337, 0.6210126280784607, 0.5166491270065308], [0.979052722454071, 0.019979791715741158, 0.4656582474708557, 0.008558698929846287, 0.6250137090682983, 0.008324198424816132], [0.005728434771299362, 0.003958213143050671, 0.004291198216378689, 0.0058281817473471165, 0.003995688632130623, 0.004078920464962721], [0.007436621468514204, 0.0031450882088392973, 0.003774888115003705, 0.005102460738271475, 0.003914416767656803, 0.003927163779735565], [0.05476253107190132, 0.0021782240364700556, 0.0033202115446329117, 0.004811327904462814, 0.005629058461636305, 0.003538148244842887], [0.007518857251852751, 0.0037360037676990032, 0.00399641552940011, 0.005952442530542612, 0.0038815492298454046, 0.004095029551535845], [0.019543154165148735, 0.002524640178307891, 0.003420276567339897, 0.0048583741299808025, 0.004143395461142063, 0.003450452582910657], [0.7168722748756409, 0.0028661596588790417, 0.009122955612838268, 0.009886668063700199, 0.04307439550757408, 0.0053303721360862255], [0.03259854018688202, 0.00178351323120296, 0.003942757844924927, 0.002494419226422906, 0.005914420820772648, 0.003960684407502413], [0.9936192631721497, 0.23104524612426758, 0.9716039299964905, 0.013323198072612286, 0.9322226047515869, 0.027525190263986588], [0.009053206071257591, 0.003031262895092368, 0.0033120010048151016, 0.005462245084345341, 0.003898272290825844, 0.003939974121749401], [0.9656704068183899, 0.00965163391083479, 0.17321203649044037, 0.006976495496928692, 0.5965678691864014, 0.00786782056093216], [0.8636859059333801, 0.007420058827847242, 0.4265332520008087, 0.0036343804094940424, 0.1629580408334732, 0.002735332353040576], [0.870760440826416, 0.007192348130047321, 0.507057785987854, 0.002730298088863492, 0.07994619011878967, 0.0038945393171161413], [0.005772482603788376, 0.003543215338140726, 0.003798728110268712, 0.0055183838121593, 0.0036578262224793434, 0.004494452383369207], [0.012149276211857796, 0.0026332878042012453, 0.003145010443404317, 0.003912319894880056, 0.004821850918233395, 0.006980136502534151], [0.9923171997070312, 0.2153805047273636, 0.972021758556366, 0.024478944018483162, 0.7852652072906494, 0.026043249294161797], [0.9399816989898682, 0.004437464755028486, 0.03613346815109253, 0.013910781592130661, 0.1508103907108307, 0.008542060852050781], [0.914070725440979, 0.0223306305706501, 0.6680484414100647, 0.008222849108278751, 0.09438034892082214, 0.006686719134449959], [0.005462260451167822, 0.003998616244643927, 0.004366932436823845, 0.005807254463434219, 0.003846230683848262, 0.004212470725178719], [0.17597849667072296, 0.0016680395929142833, 0.0076338970102369785, 0.002865763148292899, 0.009197612293064594, 0.003017032751813531], [0.012346945703029633, 0.0031132856383919716, 0.004406813066452742, 0.005758310668170452, 0.0037577874027192593, 0.003937792964279652], [0.7840937376022339, 0.003216348122805357, 0.013139059767127037, 0.008478369563817978, 0.07328317314386368, 0.004526927135884762], [0.9654476046562195, 0.0127386674284935, 0.24745039641857147, 0.005275302566587925, 0.7987807989120483, 0.024588225409388542], [0.6504063606262207, 0.0021289768628776073, 0.014986790716648102, 0.002684482606127858, 0.07923068851232529, 0.003442490240558982], [0.9765700697898865, 0.01027864869683981, 0.17113329470157623, 0.01566106081008911, 0.47847071290016174, 0.00699851056560874], [0.9671764969825745, 0.09060464799404144, 0.5514933466911316, 0.03612244129180908, 0.6709213852882385, 0.8351469039916992], [0.7876048684120178, 0.020922400057315826, 0.772365152835846, 0.0037528295069932938, 0.05827262997627258, 0.00537256570532918], [0.9458304643630981, 0.00890336837619543, 0.5260893702507019, 0.003647591220214963, 0.17765416204929352, 0.0049792565405368805], [0.9547561407089233, 0.24382346868515015, 0.5950261354446411, 0.6428654789924622, 0.5946844220161438, 0.07359442859888077], [0.977150022983551, 0.03253926336765289, 0.8156687021255493, 0.00682509271427989, 0.5297133326530457, 0.004473821725696325], [0.10282575339078903, 0.0023735894355922937, 0.0038052857853472233, 0.005600433796644211, 0.00935962051153183, 0.003924496937543154], [0.006044405046850443, 0.0033391406759619713, 0.004392928909510374, 0.004552916157990694, 0.004033228382468224, 0.0038739903829991817], [0.23006626963615417, 0.0019627083092927933, 0.006274651736021042, 0.00371544249355793, 0.010432521812617779, 0.003909159917384386], [0.014412371441721916, 0.00285025080665946, 0.0034846095368266106, 0.0052462294697761536, 0.004160026554018259, 0.004592978395521641], [0.9953782558441162, 0.35231074690818787, 0.9619244337081909, 0.21632467210292816, 0.9005762338638306, 0.19512055814266205], [0.006357386242598295, 0.0036471562925726175, 0.0040872893296182156, 0.005688759498298168, 0.003922577481716871, 0.004116226453334093], [0.011406002566218376, 0.0028320718556642532, 0.0038687442429363728, 0.004568327218294144, 0.0037833615206182003, 0.003548162057995796], [0.00732399569824338, 0.0031633556354790926, 0.004008729476481676, 0.0044777290895581245, 0.0043556480668485165, 0.003576593939214945], [0.04362593963742256, 0.0020411370787769556, 0.0037584584206342697, 0.003910768777132034, 0.005877222865819931, 0.005750494543462992], [0.20106050372123718, 0.0022165467962622643, 0.005205707158893347, 0.006055512931197882, 0.010406806133687496, 0.0030628039967268705], [0.006509917322546244, 0.0035207003820687532, 0.004237951710820198, 0.005104579497128725, 0.0038574885111302137, 0.003829819383099675], [0.9072274565696716, 0.4230041205883026, 0.6577336192131042, 0.7927575707435608, 0.5182942748069763, 0.13417145609855652], [0.05080445855855942, 0.0021644290536642075, 0.0033659052569419146, 0.0036898734979331493, 0.006127869710326195, 0.003577656578272581], [0.006813744083046913, 0.0033646882511675358, 0.0037375164683908224, 0.005417605862021446, 0.003843135666102171, 0.0040590595453977585], [0.46330931782722473, 0.001776468358002603, 0.009246609173715115, 0.0022899408359080553, 0.03169144690036774, 0.0072631146758794785], [0.006713166367262602, 0.003705363953486085, 0.004153355490416288, 0.00570851843804121, 0.00402499083429575, 0.0038840631023049355], [0.981006383895874, 0.14256443083286285, 0.9728120565414429, 0.008265720680356026, 0.5122135281562805, 0.011621753685176373], [0.012468180619180202, 0.0027427475433796644, 0.0038909416180104017, 0.004607843700796366, 0.0036834420170634985, 0.0036001645494252443], [0.992408037185669, 0.09345019608736038, 0.9520788788795471, 0.005186412483453751, 0.8259711861610413, 0.019820215180516243], [0.016931215301156044, 0.002542034490033984, 0.004434059839695692, 0.004171226639300585, 0.004198669455945492, 0.0031769005581736565], [0.00581088662147522, 0.003571832552552223, 0.0041587394662201405, 0.0050133164040744305, 0.003770645707845688, 0.004091641400009394], [0.051038455218076706, 0.0020967028103768826, 0.003623087890446186, 0.004052087664604187, 0.005373668856918812, 0.0033863040152937174], [0.9814115166664124, 0.06494633853435516, 0.8907313942909241, 0.009523299522697926, 0.7898282408714294, 0.006657660473138094], [0.0054543218575417995, 0.0038939269725233316, 0.004174046218395233, 0.00585481571033597, 0.0036542867310345173, 0.004446648061275482], [0.9183617234230042, 0.0059699444100260735, 0.027123121544718742, 0.02075505256652832, 0.19273316860198975, 0.007499978877604008], [0.8050526976585388, 0.002951443661004305, 0.013060743920505047, 0.0063502006232738495, 0.09108462184667587, 0.006697794888168573], [0.03254849463701248, 0.002242936287075281, 0.003737047780305147, 0.004485994577407837, 0.0044074030593037605, 0.00430847704410553], [0.9680029153823853, 0.06818489730358124, 0.7014050483703613, 0.011856455355882645, 0.8301605582237244, 0.4352375864982605], [0.006253524217754602, 0.0034334182273596525, 0.003249992849305272, 0.00552888959646225, 0.0037766690365970135, 0.0050554051995277405], [0.8917564153671265, 0.018474791198968887, 0.12724094092845917, 0.013607100583612919, 0.259437620639801, 0.5101694464683533], [0.006989090237766504, 0.0035101305693387985, 0.004267723765224218, 0.00531408516690135, 0.003812842071056366, 0.003828362561762333], [0.9732733368873596, 0.012443152256309986, 0.39486631751060486, 0.004893465433269739, 0.5985324382781982, 0.00474310340359807], [0.9846988320350647, 0.018902771174907684, 0.346845418214798, 0.008181789889931679, 0.6952770948410034, 0.08763396739959717], [0.9888159036636353, 0.0567060261964798, 0.7787083983421326, 0.01832723245024681, 0.8936119675636292, 0.018811574205756187], [0.9392911195755005, 0.006188935600221157, 0.29294484853744507, 0.002690546913072467, 0.43095663189888, 0.003641949500888586], [0.02709483914077282, 0.002234163461253047, 0.002557380124926567, 0.004403362516313791, 0.005300413817167282, 0.004451413173228502], [0.9780927896499634, 0.05785497650504112, 0.7532888650894165, 0.012857585214078426, 0.8953864574432373, 0.010715819895267487], [0.011618363671004772, 0.0025619198568165302, 0.003522939747199416, 0.00411994569003582, 0.0041409386321902275, 0.0033655038569122553], [0.007656090892851353, 0.0035066045820713043, 0.0039301286451518536, 0.005407307762652636, 0.0037581531796604395, 0.0041245361790061], [0.8353300094604492, 0.004618103615939617, 0.3178565800189972, 0.002859910950064659, 0.05466804653406143, 0.0036147490609437227], [0.006390564143657684, 0.003640450071543455, 0.003908406477421522, 0.0057748123072087765, 0.003759808372706175, 0.004295286722481251], [0.005754707846790552, 0.003779273247346282, 0.004284613765776157, 0.00547400489449501, 0.0038207359611988068, 0.004061346407979727], [0.8178613781929016, 0.03373679518699646, 0.8372048139572144, 0.006332965102046728, 0.07885656505823135, 0.005958927795290947], [0.861118495464325, 0.021080221980810165, 0.038988370448350906, 0.13988879323005676, 0.09496232867240906, 0.1793525516986847], [0.27712148427963257, 0.002554273931309581, 0.004668937064707279, 0.010382957756519318, 0.010998808778822422, 0.0049803294241428375], [0.006233728490769863, 0.003473711432889104, 0.004213877022266388, 0.005079778842628002, 0.003874325193464756, 0.003911702893674374], [0.9681903123855591, 0.021874772384762764, 0.8447073698043823, 0.002889870898798108, 0.3360494077205658, 0.006689462810754776], [0.0051848432049155235, 0.0038207301404327154, 0.0038318284787237644, 0.0058188531547784805, 0.003621296491473913, 0.005361586809158325], [0.005658009089529514, 0.0034489070530980825, 0.003485267050564289, 0.005433342419564724, 0.0037963269278407097, 0.004665096290409565], [0.3444157838821411, 0.0031479804310947657, 0.004818691872060299, 0.011520208790898323, 0.01659994199872017, 0.005653680302202702], [0.21765372157096863, 0.002062557963654399, 0.005823420360684395, 0.005025465972721577, 0.009567935951054096, 0.0034358762204647064], [0.0069482820108532906, 0.003504272550344467, 0.004200781229883432, 0.0054877204820513725, 0.0036925491876900196, 0.003896304639056325], [0.9887845516204834, 0.31995612382888794, 0.914252758026123, 0.21084032952785492, 0.9072139263153076, 0.03889843076467514], [0.0064469450153410435, 0.003610282903537154, 0.0038902319502085447, 0.005589524749666452, 0.0040714675560593605, 0.0038625726010650396], [0.9913798570632935, 0.12154775857925415, 0.7757578492164612, 0.038315288722515106, 0.6521020531654358, 0.5833307504653931], [0.9683765172958374, 0.38748592138290405, 0.6998673677444458, 0.7215087413787842, 0.8133429884910583, 0.11571556329727173], [0.991175651550293, 0.1535683572292328, 0.9611535668373108, 0.011745181865990162, 0.8211073279380798, 0.012319264002144337], [0.008079898543655872, 0.0031322711147367954, 0.004072598647326231, 0.00486343028023839, 0.0036663950886577368, 0.004179816227406263], [0.008951002731919289, 0.002830000128597021, 0.002769314916804433, 0.004569448065012693, 0.004279031418263912, 0.005477752070873976], [0.7104845643043518, 0.0025745707098394632, 0.013725708238780499, 0.00583395641297102, 0.04490943253040314, 0.0033004386350512505], [0.014549040235579014, 0.002658398123458028, 0.003597555449232459, 0.00470677250996232, 0.003903597593307495, 0.003638635855168104], [0.008170255459845066, 0.003407683689147234, 0.0038480141665786505, 0.005318071693181992, 0.003982082474976778, 0.003889306215569377], [0.9007830619812012, 0.01101712416857481, 0.035116009414196014, 0.022191526368260384, 0.12977634370326996, 0.2140699326992035], [0.9916797280311584, 0.5325766801834106, 0.9832894206047058, 0.04307221993803978, 0.9432064294815063, 0.034632641822099686], [0.6754801273345947, 0.0020700928289443254, 0.04004937410354614, 0.002165529178455472, 0.0274969395250082, 0.005896661896258593], [0.005531422793865204, 0.0037891638930886984, 0.003989038988947868, 0.006025037728250027, 0.003644139040261507, 0.005008570849895477], [0.8664791584014893, 0.0031330781057476997, 0.015712415799498558, 0.01067822054028511, 0.13898035883903503, 0.007630184758454561], [0.8889414668083191, 0.0038845448289066553, 0.0226781964302063, 0.007358918897807598, 0.17945416271686554, 0.00541954580694437], [0.006406588479876518, 0.003394890343770385, 0.004067005589604378, 0.00508304825052619, 0.00384229957126081, 0.0038199846167117357], [0.20228323340415955, 0.001954195089638233, 0.013319682329893112, 0.0032733215484768152, 0.00821579061448574, 0.003075261600315571], [0.9621003866195679, 0.011349835433065891, 0.081778384745121, 0.012141495943069458, 0.4565717875957489, 0.17975425720214844], [0.03040092997252941, 0.0022808134090155363, 0.003140819724649191, 0.004697371274232864, 0.0045976703986525536, 0.0038810039404779673], [0.006139613687992096, 0.003742158878594637, 0.004142876248806715, 0.005676815751940012, 0.003867318155243993, 0.004148855339735746], [0.8379340171813965, 0.004213618580251932, 0.22482506930828094, 0.001525474595837295, 0.21940800547599792, 0.00319294142536819], [0.00804316345602274, 0.0033894837833940983, 0.0038975984789431095, 0.00583714060485363, 0.003724292851984501, 0.004222110379487276], [0.009307739324867725, 0.0030201165936887264, 0.0037720506079494953, 0.00466224504634738, 0.003707645460963249, 0.003880126168951392], [0.0069064609706401825, 0.003190648974850774, 0.004700622987002134, 0.0038685970939695835, 0.004408798646181822, 0.003566349856555462], [0.008010243065655231, 0.002958629745990038, 0.0036422559060156345, 0.0049400851130485535, 0.003926719538867474, 0.003749315859749913], [0.006699815392494202, 0.0033342232927680016, 0.003630345920100808, 0.005011518020182848, 0.003713735844939947, 0.004085783381015062], [0.9221135377883911, 0.01470789685845375, 0.04915299266576767, 0.13825084269046783, 0.12574146687984467, 0.026556260883808136], [0.014533162117004395, 0.0025512666907161474, 0.0032785716466605663, 0.004167360253632069, 0.004356189630925655, 0.0034819466527551413], [0.9934307932853699, 0.40138986706733704, 0.9873793125152588, 0.021344315260648727, 0.9360317587852478, 0.03818828985095024], [0.005560701712965965, 0.003242694539949298, 0.0037345029413700104, 0.004827418830245733, 0.003961374517530203, 0.004387865774333477], [0.0137378741055727, 0.002553005004301667, 0.003631868865340948, 0.004514777101576328, 0.003958278801292181, 0.003439324675127864], [0.9471726417541504, 0.02199547551572323, 0.09288375079631805, 0.025161871686577797, 0.33376187086105347, 0.4959319829940796], [0.9685386419296265, 0.01771027408540249, 0.20148883759975433, 0.04371656849980354, 0.5564098358154297, 0.00818333774805069], [0.989412248134613, 0.2209664136171341, 0.9706078171730042, 0.02170795202255249, 0.7674136757850647, 0.013637181371450424], [0.9341773390769958, 0.029863709583878517, 0.8149319291114807, 0.008413664996623993, 0.2736389636993408, 0.0038481331430375576], [0.8378267288208008, 0.00945611298084259, 0.5148556232452393, 0.0037525519728660583, 0.055073849856853485, 0.0034113209694623947], [0.016740912571549416, 0.002673799404874444, 0.005839053075760603, 0.0038357109297066927, 0.004157927818596363, 0.0028797732666134834], [0.9906303286552429, 0.1331402063369751, 0.9692996740341187, 0.013415556401014328, 0.5988049507141113, 0.02450167015194893], [0.6548025012016296, 0.003948603291064501, 0.28520649671554565, 0.0017790163401514292, 0.05142093077301979, 0.0031126122921705246], [0.9664589762687683, 0.00565143721178174, 0.07620490342378616, 0.00605224771425128, 0.40467333793640137, 0.012461348436772823], [0.16539138555526733, 0.0016874275170266628, 0.0058267866261303425, 0.003297938033938408, 0.008628496900200844, 0.003212037030607462], [0.9252508282661438, 0.013336424715816975, 0.6889809370040894, 0.002420696197077632, 0.11459004133939743, 0.00553464237600565], [0.0058277263306081295, 0.0039041724521666765, 0.004280589986592531, 0.005980556830763817, 0.003925108350813389, 0.004030442796647549], [0.005047367420047522, 0.004134602379053831, 0.004369447939097881, 0.005801492370665073, 0.004071077331900597, 0.004188951570540667], [0.47291138768196106, 0.002486390294507146, 0.048722539097070694, 0.0036638022866100073, 0.021612651646137238, 0.002498963847756386], [0.007955809123814106, 0.0032059920486062765, 0.0035420372150838375, 0.00523981312289834, 0.0036926039028912783, 0.00442095473408699], [0.007334114983677864, 0.003282134421169758, 0.003272503614425659, 0.005084963049739599, 0.0039215474389493465, 0.004463499411940575], [0.006816655397415161, 0.003529977286234498, 0.004175449721515179, 0.005459828767925501, 0.0037372999358922243, 0.004120300058275461], [0.9943344593048096, 0.10444863885641098, 0.9479186534881592, 0.013537496328353882, 0.7952215075492859, 0.059584200382232666], [0.013405658304691315, 0.0028809206560254097, 0.004191030748188496, 0.004838856402784586, 0.004007119685411453, 0.0037079609464854], [0.9883544445037842, 0.05987999588251114, 0.8602386116981506, 0.008745718747377396, 0.8729066848754883, 0.12193282693624496], [0.9916470050811768, 0.1592225879430771, 0.8913767337799072, 0.02968469448387623, 0.9390401244163513, 0.5836237072944641], [0.00828112754970789, 0.003185725538060069, 0.003944823984056711, 0.005049975588917732, 0.004032560158520937, 0.003647227305918932], [0.9801448583602905, 0.07007093727588654, 0.92722088098526, 0.0045195757411420345, 0.6496482491493225, 0.006395264528691769], [0.9691687226295471, 0.031437091529369354, 0.4773382544517517, 0.008457559160888195, 0.8063740134239197, 0.3516424596309662], [0.8367815613746643, 0.013821721076965332, 0.6165333390235901, 0.004591736011207104, 0.04065245762467384, 0.011635609902441502], [0.8458698391914368, 0.01768198423087597, 0.7082602381706238, 0.004332400858402252, 0.06453802436590195, 0.005527322180569172], [0.9952517747879028, 0.28519371151924133, 0.9395882487297058, 0.039710428565740585, 0.9542713165283203, 0.3440369665622711], [0.007392435800284147, 0.0033633916173130274, 0.003501714440062642, 0.005454396363347769, 0.003527016146108508, 0.006123834755271673], [0.8163834810256958, 0.008178803138434887, 0.016778094694018364, 0.08431901782751083, 0.06813230365514755, 0.03532584384083748], [0.00695132277905941, 0.0031382557936012745, 0.004170656204223633, 0.004354334902018309, 0.004183721728622913, 0.0037015527486801147], [0.14138171076774597, 0.0018852403154596686, 0.0038416078314185143, 0.004623475018888712, 0.008290112018585205, 0.0048300838097929955], [0.707921028137207, 0.003041305812075734, 0.012970635667443275, 0.011310143396258354, 0.039868470281362534, 0.004542968701571226], [0.009551308117806911, 0.00288989394903183, 0.0034812071826308966, 0.004693197552114725, 0.004044992849230766, 0.0037224425468593836], [0.8186601996421814, 0.002864166395738721, 0.037313662469387054, 0.004966306034475565, 0.041461456567049026, 0.007098834495991468], [0.2288370281457901, 0.003426710609346628, 0.11918462812900543, 0.0027630263939499855, 0.010998430661857128, 0.004520150367170572], [0.006840333808213472, 0.0034373539965599775, 0.003931780811399221, 0.00543705141171813, 0.0037689281161874533, 0.0039186784997582436], [0.009045608341693878, 0.0031563115771859884, 0.0032978691160678864, 0.005282360594719648, 0.003545002546161413, 0.005185246467590332], [0.009060001000761986, 0.0029213211964815855, 0.0033328321296721697, 0.004969351459294558, 0.003804942360147834, 0.0045964219607412815], [0.7325968742370605, 0.010813097469508648, 0.01934802532196045, 0.12688425183296204, 0.05107172578573227, 0.03609228506684303], [0.04026741534471512, 0.0019474816508591175, 0.005081432405859232, 0.003099581925198436, 0.005419931840151548, 0.0027035472448915243], [0.7503392100334167, 0.002556194318458438, 0.026075631380081177, 0.0037329471670091152, 0.09438328444957733, 0.003084557130932808], [0.7491971254348755, 0.011701216921210289, 0.6059505343437195, 0.0035597612150013447, 0.0650554671883583, 0.003024843754246831], [0.9246883392333984, 0.007323683239519596, 0.0835053101181984, 0.005287196021527052, 0.5966463685035706, 0.03541717305779457], [0.8791658282279968, 0.00884206686168909, 0.5568234920501709, 0.0014200689038261771, 0.2968897819519043, 0.005542933940887451], [0.5400450825691223, 0.002640292514115572, 0.009541559964418411, 0.0043220012448728085, 0.02564016729593277, 0.02568446844816208], [0.9779598712921143, 0.01571623608469963, 0.35758885741233826, 0.007238586898893118, 0.7858282327651978, 0.015385395847260952], [0.8954442739486694, 0.0027786067221313715, 0.036678384989500046, 0.004660152364522219, 0.09569662064313889, 0.007079119328409433], [0.022392066195607185, 0.0020109324250370264, 0.004032079596072435, 0.003228203859180212, 0.005104126408696175, 0.0029615755192935467], [0.9941269159317017, 0.0756373181939125, 0.8881546258926392, 0.01695350930094719, 0.773852527141571, 0.025158783420920372], [0.009305927902460098, 0.00336032104678452, 0.004273579455912113, 0.00529686501249671, 0.003993630409240723, 0.0038647237233817577], [0.9925997257232666, 0.15910227596759796, 0.9646127223968506, 0.013045822270214558, 0.9221939444541931, 0.07422340661287308], [0.8085101246833801, 0.0030770953744649887, 0.009579203091561794, 0.009542384184896946, 0.09006176888942719, 0.007006919477134943], [0.005727728828787804, 0.0037465293426066637, 0.004063292872160673, 0.005748043768107891, 0.003792667994275689, 0.004281966015696526], [0.006173238158226013, 0.00399115402251482, 0.004257666412740946, 0.006272318307310343, 0.00399381248280406, 0.004242803435772657], [0.9797565340995789, 0.07344353199005127, 0.8329973220825195, 0.013226267881691456, 0.6539032459259033, 0.5225591659545898], [0.005075500812381506, 0.004222687799483538, 0.004559592809528112, 0.006292975973337889, 0.003740143496543169, 0.004564484115689993], [0.462898313999176, 0.002162811579182744, 0.03617018461227417, 0.0034243129193782806, 0.016568219289183617, 0.0025162259116768837], [0.006730189546942711, 0.0032380064949393272, 0.0036804210394620895, 0.005378375761210918, 0.0037860905285924673, 0.004087448585778475], [0.9277869462966919, 0.007107285317033529, 0.28612980246543884, 0.0032954453490674496, 0.1000581607222557, 0.018934138119220734], [0.9475669860839844, 0.008826873265206814, 0.22139286994934082, 0.006496681831777096, 0.43224164843559265, 0.004000753164291382], [0.7685565948486328, 0.005994187202304602, 0.45574814081192017, 0.0016868783859536052, 0.07181011140346527, 0.0029785195365548134], [0.008653470315039158, 0.00288440752774477, 0.003870914923027158, 0.004707693122327328, 0.0038378466852009296, 0.003633534535765648], [0.1680022031068802, 0.002217828528955579, 0.005095469765365124, 0.004673049319535494, 0.008677116595208645, 0.004928634036332369], [0.0055593387223780155, 0.0037483058404177427, 0.004310441669076681, 0.005485836882144213, 0.0039522843435406685, 0.004072654992341995], [0.061723217368125916, 0.0022369895596057177, 0.004519531037658453, 0.0049499887973070145, 0.004377246368676424, 0.004293900448828936], [0.7849313616752625, 0.012103047221899033, 0.5731618404388428, 0.003773188218474388, 0.04517331346869469, 0.004062097053974867], [0.4991287291049957, 0.0025349941570311785, 0.009011298418045044, 0.006632627919316292, 0.02143314853310585, 0.009060939773917198], [0.840621292591095, 0.002488543512299657, 0.02024470642209053, 0.0035306464415043592, 0.11288075894117355, 0.007858732715249062], [0.0057343910448253155, 0.003687038319185376, 0.004002075642347336, 0.005356127396225929, 0.0040944404900074005, 0.0039515504613518715], [0.010501064360141754, 0.0030961462762206793, 0.004086650907993317, 0.005367863457649946, 0.0037342968862503767, 0.0035842666402459145], [0.006783072836697102, 0.0035467997658997774, 0.003922197502106428, 0.006145257968455553, 0.0036127539351582527, 0.004605508875101805], [0.006099935155361891, 0.0038943893741816282, 0.0039935181848704815, 0.006041554734110832, 0.00387945375405252, 0.004052330274134874], [0.006412389688193798, 0.003519534831866622, 0.0037461519241333008, 0.005652219522744417, 0.0038520321249961853, 0.0043579041957855225], [0.00917859934270382, 0.002933757845312357, 0.0037226066924631596, 0.004661979619413614, 0.003758687060326338, 0.00409832363948226], [0.007664453703910112, 0.003494942095130682, 0.004292962606996298, 0.005017167888581753, 0.0036431732587516308, 0.004063302651047707], [0.019707977771759033, 0.00242842105217278, 0.003463189583271742, 0.004497393500059843, 0.004242837894707918, 0.0034930442925542593], [0.007083481177687645, 0.0034998811315745115, 0.0038853660225868225, 0.0058106002397835255, 0.0035803518258035183, 0.0047340900637209415], [0.00605224771425128, 0.0035966152790933847, 0.003966058138757944, 0.005853042937815189, 0.0038032240699976683, 0.004639240447431803], [0.006581130903214216, 0.0031105796806514263, 0.0034085630904883146, 0.004771247040480375, 0.004184951540082693, 0.00435303058475256], [0.9408484101295471, 0.004674233961850405, 0.050875019282102585, 0.014100993052124977, 0.1016489788889885, 0.0166275966912508], [0.9583021402359009, 0.0245334692299366, 0.2698960602283478, 0.014463367871940136, 0.6039411425590515, 0.47591516375541687], [0.9968342185020447, 0.6790467500686646, 0.9906601309776306, 0.12134374678134918, 0.9728006720542908, 0.2642628848552704], [0.006451915949583054, 0.0031901332549750805, 0.003915171604603529, 0.0049179536290466785, 0.003736692713573575, 0.00420800456777215], [0.8910008072853088, 0.0030367912258952856, 0.04434920847415924, 0.0061629172414541245, 0.06450683623552322, 0.006094806361943483], [0.005112865939736366, 0.004343231208622456, 0.0044741444289684296, 0.005787987727671862, 0.003881907556205988, 0.004446088802069426], [0.5350063443183899, 0.002349994145333767, 0.007022134959697723, 0.006698282901197672, 0.025236794725060463, 0.0035983265843242407], [0.129254549741745, 0.002082568360492587, 0.0040077511221170425, 0.004881544969975948, 0.008743577636778355, 0.003688036696985364], [0.012677925638854504, 0.002501046983525157, 0.003981575835496187, 0.004385050386190414, 0.003917261958122253, 0.004218963906168938], [0.994086503982544, 0.3358738124370575, 0.9857096672058105, 0.015866918489336967, 0.9383362531661987, 0.05040789395570755], [0.733712375164032, 0.010656898841261864, 0.6225911378860474, 0.0032813604921102524, 0.05063335597515106, 0.004494766239076853], [0.959449827671051, 0.009934050031006336, 0.08121096342802048, 0.01575838215649128, 0.609849214553833, 0.011281944811344147], [0.008697448298335075, 0.003158050589263439, 0.004078488331288099, 0.00536181079223752, 0.003699414897710085, 0.003814287716522813], [0.9575650691986084, 0.006752248387783766, 0.03325464949011803, 0.019125821068882942, 0.2851691246032715, 0.01825116015970707], [0.9879305362701416, 0.03971360996365547, 0.8887502551078796, 0.008537711575627327, 0.45154598355293274, 0.015106460079550743], [0.005396895110607147, 0.0038857057224959135, 0.004201417788863182, 0.005872496869415045, 0.0036350383888930082, 0.0045865802094340324], [0.9589004516601562, 0.04933757707476616, 0.8896383047103882, 0.009200585074722767, 0.31078940629959106, 0.005313510540872812], [0.9784068465232849, 0.021660007536411285, 0.2778286933898926, 0.03277828171849251, 0.7068706154823303, 0.009211607277393341], [0.013657464645802975, 0.0029378808103501797, 0.003828217275440693, 0.004804863594472408, 0.004271532874554396, 0.003383516101166606], [0.9179398417472839, 0.004434630274772644, 0.050158869475126266, 0.004116799216717482, 0.3675497770309448, 0.006756438408046961], [0.0052100843749940395, 0.003770106704905629, 0.004084301181137562, 0.005711274221539497, 0.003902386873960495, 0.004230765625834465], [0.9620013236999512, 0.006665832828730345, 0.4171859323978424, 0.0019221864640712738, 0.27130597829818726, 0.005391922313719988], [0.02897942252457142, 0.002448843792080879, 0.0036297161132097244, 0.004999206867069006, 0.0046468167565763, 0.0035316261928528547], [0.9869478940963745, 0.06163611263036728, 0.5129420161247253, 0.05232139304280281, 0.9049914479255676, 0.036892954260110855], [0.02125883288681507, 0.002709000138565898, 0.003711415221914649, 0.005232570692896843, 0.0042444923892617226, 0.003698392305523157], [0.005957385525107384, 0.0038042087107896805, 0.004174200817942619, 0.0055924225598573685, 0.003960806410759687, 0.004003878217190504], [0.05999824404716492, 0.0022144450340420008, 0.003298909869045019, 0.005507891997694969, 0.006255993153899908, 0.003274461952969432], [0.9899172186851501, 0.3493712246417999, 0.976619303226471, 0.026059286668896675, 0.8643414378166199, 0.016579987481236458], [0.015197510831058025, 0.0027184670325368643, 0.0034240935929119587, 0.004758579656481743, 0.00428112642839551, 0.0036353336181491613], [0.9240832924842834, 0.023914556950330734, 0.82292640209198, 0.004987382795661688, 0.19218364357948303, 0.003831484355032444], [0.8565953969955444, 0.006125230807811022, 0.2234993427991867, 0.0018416616367176175, 0.3997020721435547, 0.01042493712157011], [0.9713577032089233, 0.030049627646803856, 0.5749666094779968, 0.005947626195847988, 0.8138782382011414, 0.19403068721294403], [0.00549520505592227, 0.00402121152728796, 0.004589727148413658, 0.006106229033321142, 0.003985808230936527, 0.004315156955271959], [0.017198875546455383, 0.00235995021648705, 0.003296728478744626, 0.003960269968956709, 0.004322351887822151, 0.003524833358824253], [0.005335552152246237, 0.0037816346157342196, 0.004209053702652454, 0.0052374256774783134, 0.0037623276002705097, 0.004339824430644512], [0.7740403413772583, 0.00288356002420187, 0.012839876115322113, 0.007187915500253439, 0.1077476367354393, 0.004955983720719814], [0.9684938788414001, 0.13296154141426086, 0.9599493741989136, 0.013807838782668114, 0.39041265845298767, 0.009001029655337334], [0.9739617705345154, 0.024580350145697594, 0.7355930805206299, 0.003548575099557638, 0.7826864719390869, 0.008496896363794804], [0.9221733808517456, 0.005675513297319412, 0.05019953101873398, 0.00861430075019598, 0.4496077597141266, 0.00766710052266717], [0.9887661337852478, 0.14977578818798065, 0.9798811674118042, 0.0075698476284742355, 0.6138607859611511, 0.03422686085104942], [0.6195036768913269, 0.0035993780475109816, 0.006032601464539766, 0.008758841082453728, 0.04003088176250458, 0.0307988990098238], [0.1272089034318924, 0.0023467233404517174, 0.003646000986918807, 0.0064272163435816765, 0.008350477553904057, 0.00388764007948339], [0.8176034092903137, 0.0027380783576518297, 0.05583074688911438, 0.0038893762975931168, 0.061160609126091, 0.0027488230261951685], [0.9844584465026855, 0.07488321512937546, 0.747122049331665, 0.026210719719529152, 0.9224917888641357, 0.017532605677843094], [0.007526877801865339, 0.003095403080806136, 0.003849553409963846, 0.004624703899025917, 0.003957276698201895, 0.003728245384991169], [0.9925408363342285, 0.26793208718299866, 0.9826540350914001, 0.012943066656589508, 0.9161345362663269, 0.04775714501738548], [0.007770702708512545, 0.0034454097039997578, 0.003674900159239769, 0.006137737538665533, 0.0035008687991648912, 0.004690458532422781], [0.006658271886408329, 0.003197558457031846, 0.0038532123435288668, 0.004726479761302471, 0.004152195993810892, 0.003778513753786683], [0.9283896088600159, 0.003963970113545656, 0.043132904917001724, 0.004127779044210911, 0.2965819835662842, 0.012686326168477535], [0.005856753326952457, 0.0036312048323452473, 0.003900835756212473, 0.005821764003485441, 0.003811195958405733, 0.004369087051600218], [0.9932546019554138, 0.18440218269824982, 0.9745306968688965, 0.007497749757021666, 0.9017661213874817, 0.047377631068229675], [0.45472586154937744, 0.0030653674621134996, 0.005199209321290255, 0.012530947104096413, 0.020657088607549667, 0.01789725385606289], [0.7783724665641785, 0.002515495987609029, 0.03304021432995796, 0.003517633769661188, 0.031855564564466476, 0.005495997611433268], [0.927635908126831, 0.0061591509729623795, 0.0837327241897583, 0.004274391103535891, 0.41317638754844666, 0.04384463652968407], [0.01203542947769165, 0.0026150429621338844, 0.0038715859409421682, 0.004190248437225819, 0.00430162763223052, 0.0033701646607369184], [0.00610092980787158, 0.003637343179434538, 0.0037280472461134195, 0.006078735459595919, 0.0036121446173638105, 0.00496460497379303], [0.9246617555618286, 0.008613613434135914, 0.10799796134233475, 0.006395610515028238, 0.6458374261856079, 0.007396632805466652], [0.24240322411060333, 0.002422206336632371, 0.006033920217305422, 0.007780875079333782, 0.010246503166854382, 0.00569386500865221], [0.9718397855758667, 0.07418454438447952, 0.957942545413971, 0.006191337946802378, 0.3417412042617798, 0.011907428503036499], [0.6688250303268433, 0.0025339466519653797, 0.009993383660912514, 0.0065457639284431934, 0.03522532433271408, 0.004851920995861292], [0.32332122325897217, 0.0019046547822654247, 0.006221168674528599, 0.004284652415663004, 0.017578307539224625, 0.003263311693444848], [0.006634041666984558, 0.0032795630395412445, 0.0038942047394812107, 0.004864064510911703, 0.0040314532816410065, 0.003617372363805771], [0.9894549250602722, 0.360297828912735, 0.9615313410758972, 0.03998382389545441, 0.9250698089599609, 0.018914107233285904], [0.005799644626677036, 0.0036035345401614904, 0.003847378073260188, 0.0054675317369401455, 0.0036825723946094513, 0.004979540128260851], [0.0449572391808033, 0.0035272829700261354, 0.0036829067394137383, 0.010035538114607334, 0.005602807737886906, 0.018490659072995186], [0.9360129833221436, 0.03221593797206879, 0.6953197121620178, 0.0056573571637272835, 0.724531352519989, 0.007272306829690933], [0.9922303557395935, 0.47711655497550964, 0.9786661863327026, 0.057210005819797516, 0.9412139654159546, 0.034368786960840225], [0.9763496518135071, 0.056702662259340286, 0.9362123608589172, 0.003559483913704753, 0.42742660641670227, 0.00888277031481266], [0.9632967710494995, 0.028393032029271126, 0.1067793071269989, 0.212678924202919, 0.3570100963115692, 0.03742965683341026], [0.962723433971405, 0.005268753506243229, 0.08688665181398392, 0.007382076233625412, 0.23570513725280762, 0.006630274932831526], [0.9532658457756042, 0.011783366091549397, 0.42744237184524536, 0.003646775148808956, 0.6772409677505493, 0.007590688299387693], [0.972041130065918, 0.022962335497140884, 0.2207941710948944, 0.026069344952702522, 0.786972165107727, 0.011328453198075294], [0.005671703722327948, 0.003907055128365755, 0.0042243823409080505, 0.005654806736856699, 0.0038945653941482306, 0.004098109435290098], [0.8567116856575012, 0.009928190149366856, 0.6217213869094849, 0.0028807013295590878, 0.07527080923318863, 0.0038596049416810274], [0.006113412790000439, 0.003336055437102914, 0.003954524639993906, 0.004675913602113724, 0.004159925971180201, 0.004126945976167917], [0.9622156023979187, 0.09782722592353821, 0.9416552782058716, 0.008822626434266567, 0.2614595592021942, 0.013096668757498264], [0.9690403342247009, 0.02616739459335804, 0.30593523383140564, 0.05860811099410057, 0.5568222999572754, 0.008553133346140385], [0.012630079872906208, 0.002684083068743348, 0.0034839839208871126, 0.005084996577352285, 0.003902548225596547, 0.004273691214621067], [0.7568590641021729, 0.0023115144576877356, 0.01250286865979433, 0.004147738218307495, 0.08097346127033234, 0.005757256876677275], [0.10306483507156372, 0.0025223633274435997, 0.0046830312348902225, 0.008261574432253838, 0.006498430389910936, 0.0035281225573271513], [0.900084376335144, 0.006998803000897169, 0.03113427199423313, 0.040486253798007965, 0.06973882019519806, 0.010645437054336071], [0.8977224826812744, 0.0038167666643857956, 0.08230230212211609, 0.0019462595228105783, 0.2688278257846832, 0.025585824623703957], [0.02852669358253479, 0.0019948482513427734, 0.004070949275046587, 0.002947328146547079, 0.006894357036799192, 0.0035474440082907677], [0.8787685632705688, 0.02714715711772442, 0.07308638840913773, 0.30218660831451416, 0.11988002806901932, 0.03747868537902832], [0.5021382570266724, 0.0024836822412908077, 0.00517954770475626, 0.010625913739204407, 0.021486960351467133, 0.0064657898619771], [0.9249371290206909, 0.0067016310058534145, 0.05183786526322365, 0.008413470350205898, 0.5284648537635803, 0.008609546348452568], [0.9590114951133728, 0.007555481977760792, 0.045862164348363876, 0.026077713817358017, 0.2740319073200226, 0.01706627942621708], [0.8295999765396118, 0.0037273068446666002, 0.011257986538112164, 0.014233915135264397, 0.07596351206302643, 0.007312410976737738], [0.018631702288985252, 0.002633294090628624, 0.00418713828548789, 0.00475364550948143, 0.004438962787389755, 0.0030695011373609304], [0.9926623106002808, 0.23991988599300385, 0.8242371082305908, 0.15841826796531677, 0.785001814365387, 0.8201470375061035], [0.014431498013436794, 0.002887166803702712, 0.0032321743201464415, 0.005315978080034256, 0.004136750474572182, 0.004172999877482653], [0.01119080837816, 0.0030460304114967585, 0.0035215290263295174, 0.005138677079230547, 0.0039524962194263935, 0.004008404444903135], [0.012387838214635849, 0.002594201359897852, 0.0034464362543076277, 0.00460354657843709, 0.004032870288938284, 0.0038578787352889776], [0.014969665557146072, 0.0024842540733516216, 0.003291191067546606, 0.0041254921816289425, 0.0039675370790064335, 0.003707416355609894], [0.8669630885124207, 0.002910514594987035, 0.025326654314994812, 0.008057946339249611, 0.08144431561231613, 0.004556598141789436], [0.7114133834838867, 0.006871029734611511, 0.4722312390804291, 0.0018069141078740358, 0.13085375726222992, 0.004986611660569906], [0.007278584875166416, 0.003663746640086174, 0.004150569438934326, 0.005272055510431528, 0.0040648155845701694, 0.003899530041962862], [0.9536862373352051, 0.012288226746022701, 0.3115643262863159, 0.005586732178926468, 0.6755883097648621, 0.006608499679714441], [0.9796679615974426, 0.37272903323173523, 0.9820793867111206, 0.028470665216445923, 0.608048141002655, 0.021164091303944588], [0.020156998187303543, 0.002220134250819683, 0.0038092737086117268, 0.003743118839338422, 0.004649898502975702, 0.003100806614384055], [0.9883149862289429, 0.0681435838341713, 0.7610887885093689, 0.027544226497411728, 0.8910626173019409, 0.028863688930869102], [0.7227063775062561, 0.002217789413407445, 0.016540784388780594, 0.0037475419230759144, 0.06986526399850845, 0.0033247116953134537], [0.9416264295578003, 0.005777378100901842, 0.02235000766813755, 0.017907999455928802, 0.26748374104499817, 0.01779114454984665], [0.006976601202040911, 0.003250547219067812, 0.003596518188714981, 0.0052550663240253925, 0.003836900694295764, 0.0042175003327429295], [0.006334856152534485, 0.003599219024181366, 0.004217484034597874, 0.005194636527448893, 0.004033852834254503, 0.0038289171643555164], [0.4613211154937744, 0.0016982556553557515, 0.01004756335169077, 0.0026520881801843643, 0.020909346640110016, 0.004428926855325699], [0.015247825533151627, 0.002579745603725314, 0.0035983265843242407, 0.004379008896648884, 0.003735180711373687, 0.003741614753380418], [0.940992534160614, 0.006470091640949249, 0.14754599332809448, 0.0025742901489138603, 0.5462392568588257, 0.03363395109772682], [0.9889182448387146, 0.1498384177684784, 0.8888001441955566, 0.030504491180181503, 0.9005207419395447, 0.013909702189266682], [0.18874959647655487, 0.0022198206279426813, 0.004202187992632389, 0.007026983890682459, 0.008506953716278076, 0.006019380409270525], [0.008722970262169838, 0.003426329931244254, 0.0038812931161373854, 0.006653502117842436, 0.0036646381486207247, 0.0047376928851008415], [0.8647236227989197, 0.0028135303873568773, 0.024646032601594925, 0.0051756552420556545, 0.08111857622861862, 0.004085651133209467], [0.47460347414016724, 0.0017638130811974406, 0.02622518129646778, 0.0022650279570370913, 0.019961504265666008, 0.0029992214404046535], [0.9867662191390991, 0.15386150777339935, 0.9581586122512817, 0.01277714129537344, 0.6912707686424255, 0.010399030521512032], [0.971569299697876, 0.027100160717964172, 0.2718670666217804, 0.04381820559501648, 0.7473189234733582, 0.011901562102138996], [0.005939844064414501, 0.003606972051784396, 0.0039033417124301195, 0.005271080415695906, 0.0038439095951616764, 0.004106585402041674], [0.004841219633817673, 0.003843321232125163, 0.0039366018027067184, 0.005528509616851807, 0.0038205289747565985, 0.004843384027481079], [0.016743870452046394, 0.002265270333737135, 0.0048561105504632, 0.003344500670209527, 0.00412589218467474, 0.0029619638808071613], [0.9640423655509949, 0.010738616809248924, 0.25915849208831787, 0.0054170251823961735, 0.6529594659805298, 0.005696444306522608], [0.010395635850727558, 0.002913650358095765, 0.0030466935131698847, 0.005070473067462444, 0.00358644500374794, 0.006873822305351496], [0.9780980348587036, 0.01247560977935791, 0.20244860649108887, 0.007171424105763435, 0.7382751107215881, 0.030731182545423508], [0.007117387373000383, 0.003394617699086666, 0.0037836707197129726, 0.0053039295598864555, 0.004059031140059233, 0.0037383739836513996], [0.9831389784812927, 0.3657364845275879, 0.9854304790496826, 0.016746507957577705, 0.6837508082389832, 0.020309053361415863], [0.9644424915313721, 0.06189531087875366, 0.9460110068321228, 0.004773679655045271, 0.22529062628746033, 0.024933846667408943], [0.026930229738354683, 0.0023099775426089764, 0.003274996066465974, 0.004391464404761791, 0.004987910855561495, 0.0031423980835825205], [0.005534670781344175, 0.0036374519113451242, 0.0040219565853476524, 0.005685793701559305, 0.003765764646232128, 0.004615478683263063], [0.8353211283683777, 0.003670864040032029, 0.044518932700157166, 0.003724264446645975, 0.25734081864356995, 0.0037923164200037718], [0.9522520303726196, 0.018199849873781204, 0.09379777312278748, 0.020866423845291138, 0.4510223865509033, 0.41837525367736816], [0.9030988812446594, 0.004426248837262392, 0.038930945098400116, 0.006395334843546152, 0.2808667719364166, 0.005115279462188482], [0.15269780158996582, 0.002981575671583414, 0.005420281086117029, 0.01034972257912159, 0.007895128801465034, 0.0036736992187798023], [0.005482112988829613, 0.003965696785598993, 0.004174815025180578, 0.005889119580388069, 0.0038825988303869963, 0.004243098199367523], [0.5260766744613647, 0.00206645205616951, 0.006540147587656975, 0.00464125769212842, 0.021430188789963722, 0.0077296653762459755], [0.08867446333169937, 0.0019193527987226844, 0.004367369692772627, 0.003835927927866578, 0.005924491211771965, 0.004225493874400854], [0.9757574200630188, 0.03248255327343941, 0.2630479037761688, 0.0433921255171299, 0.8353432416915894, 0.019240889698266983], [0.10024724900722504, 0.0019283408764749765, 0.0031573993619531393, 0.004999067168682814, 0.008285777643322945, 0.003958030603826046], [0.005787485279142857, 0.003540989011526108, 0.0038527254946529865, 0.005471342243254185, 0.0039004667196422815, 0.004080420359969139], [0.9176127314567566, 0.008157799020409584, 0.044789981096982956, 0.011903048492968082, 0.18156999349594116, 0.15638728439807892], [0.8695281147956848, 0.003275917377322912, 0.015233227051794529, 0.00889448169618845, 0.0869140625, 0.010537877678871155], [0.007748384494334459, 0.003151219105347991, 0.003422686131671071, 0.005369590129703283, 0.004015778191387653, 0.004250217694789171], [0.780292272567749, 0.009936381131410599, 0.021220367401838303, 0.09452389180660248, 0.048553694039583206, 0.01683911122381687], [0.9814063310623169, 0.08496959507465363, 0.9562737941741943, 0.005156045779585838, 0.5805874466896057, 0.007709393743425608], [0.009913421235978603, 0.0033220695331692696, 0.0033556881826370955, 0.006120497826486826, 0.003693333826959133, 0.005693473853170872], [0.9724108576774597, 0.023164112120866776, 0.2866442799568176, 0.01797175593674183, 0.7605629563331604, 0.008566203527152538], [0.005096736364066601, 0.003760726423934102, 0.003940071444958448, 0.00549111794680357, 0.0038284712936729193, 0.004628470167517662], [0.01134435273706913, 0.002974201226606965, 0.0033528634812682867, 0.005499574355781078, 0.004008430987596512, 0.004058859311044216], [0.00935132522135973, 0.003387890988960862, 0.0041317385621368885, 0.005825405474752188, 0.0038780681788921356, 0.004145796410739422], [0.9933360815048218, 0.327406108379364, 0.9807690382003784, 0.01951446756720543, 0.9416473507881165, 0.03570740297436714], [0.9811367392539978, 0.1005856841802597, 0.9400976896286011, 0.008481672964990139, 0.6894941329956055, 0.006472657900303602], [0.9952622652053833, 0.26589295268058777, 0.9586109519004822, 0.05815553292632103, 0.7764745354652405, 0.3898094892501831], [0.005417133215814829, 0.003909843508154154, 0.003927251324057579, 0.005667518824338913, 0.003747581271454692, 0.004894178360700607], [0.8690975904464722, 0.027294941246509552, 0.8282634019851685, 0.0035397091414779425, 0.26895901560783386, 0.003944854252040386], [0.007205205503851175, 0.0036543714813888073, 0.0038210602942854166, 0.005929104518145323, 0.003733908524736762, 0.00491165230050683], [0.005476017482578754, 0.003858864540234208, 0.004058884456753731, 0.005820194259285927, 0.003744454588741064, 0.004383984953165054], [0.9546450972557068, 0.016534145921468735, 0.04274997487664223, 0.05721989646553993, 0.32580429315567017, 0.2640592157840729], [0.04122490808367729, 0.0021582094486802816, 0.0036323745734989643, 0.004616394639015198, 0.005089522339403629, 0.0033540381118655205], [0.006621556356549263, 0.003240591613575816, 0.0034272302873432636, 0.005245241802185774, 0.00402811961248517, 0.004314804449677467], [0.9809020757675171, 0.15203025937080383, 0.912198543548584, 0.0846867710351944, 0.6067055463790894, 0.01720554381608963], [0.005293911788612604, 0.0037479070015251637, 0.0039500100538134575, 0.005202772095799446, 0.003992184996604919, 0.004318797495216131], [0.9785394668579102, 0.023813879117369652, 0.7607333064079285, 0.002870108699426055, 0.7800105810165405, 0.021699590608477592], [0.007371332962065935, 0.0031476530712097883, 0.0036342216189950705, 0.0046176789328455925, 0.003889417042955756, 0.003880554111674428], [0.0075018322095274925, 0.0029501854442059994, 0.0038142837584018707, 0.00467820605263114, 0.003620176576077938, 0.004288564436137676], [0.691672146320343, 0.006133285816758871, 0.4318329393863678, 0.002107195556163788, 0.07675579190254211, 0.0026712471153587103], [0.009569770656526089, 0.0027731340378522873, 0.0035467292182147503, 0.004479064606130123, 0.0038478916976600885, 0.0036552343517541885], [0.012414071708917618, 0.002421834971755743, 0.0031366348266601562, 0.004277466796338558, 0.003936857916414738, 0.0038458744529634714], [0.8409684896469116, 0.004239331930875778, 0.012734009884297848, 0.021562816575169563, 0.05488402768969536, 0.01434755977243185], [0.03809908777475357, 0.00301374145783484, 0.004135790280997753, 0.008754639886319637, 0.004376864060759544, 0.005249905865639448], [0.897782564163208, 0.0028213446494191885, 0.059296537190675735, 0.0021742272656410933, 0.14742662012577057, 0.004404568579047918], [0.8220049142837524, 0.002974770963191986, 0.021110722795128822, 0.004151843022555113, 0.16079716384410858, 0.0066830310970544815], [0.9892807602882385, 0.3205394446849823, 0.9616167545318604, 0.031224263831973076, 0.9386053681373596, 0.018740640953183174], [0.9933412671089172, 0.36580419540405273, 0.9830736517906189, 0.02152147889137268, 0.9336941838264465, 0.02797575294971466], [0.005329264793545008, 0.0038701447192579508, 0.004306835122406483, 0.005468626040965319, 0.003916642628610134, 0.004199917893856764], [0.992027223110199, 0.18387921154499054, 0.9741349220275879, 0.008186311461031437, 0.9042657017707825, 0.031349875032901764], [0.9677051305770874, 0.027307022362947464, 0.8305995464324951, 0.002987547777593136, 0.6673135757446289, 0.00648169219493866], [0.011490186676383018, 0.0029004630632698536, 0.0030180010944604874, 0.005818916950374842, 0.0039857421070337296, 0.006441317964345217], [0.0052198260091245174, 0.004067861475050449, 0.004063096363097429, 0.005765196867287159, 0.004105811472982168, 0.004148540087044239], [0.9489427208900452, 0.020079130306839943, 0.7848929166793823, 0.002499377354979515, 0.4274994432926178, 0.0030662899371236563], [0.04218268021941185, 0.0020910087041556835, 0.0032911754678934813, 0.004333768505603075, 0.005323073361068964, 0.0035542836412787437], [0.9558624625205994, 0.096444271504879, 0.9503779411315918, 0.010057974606752396, 0.2725905776023865, 0.009051285684108734], [0.9779158234596252, 0.01478151697665453, 0.6562495827674866, 0.00446773087605834, 0.47451546788215637, 0.006346194539219141], [0.8186120390892029, 0.0023982885759323835, 0.08586142957210541, 0.0017449419246986508, 0.053648702800273895, 0.006276388186961412], [0.9716696739196777, 0.01754188910126686, 0.10450616478919983, 0.06914731115102768, 0.6055065393447876, 0.027075322344899178], [0.055803991854190826, 0.0021567135117948055, 0.002999525051563978, 0.003945125732570887, 0.006398792844265699, 0.00783564057201147], [0.944916844367981, 0.020674368366599083, 0.7416735887527466, 0.004459729418158531, 0.10948916524648666, 0.0536654107272625], [0.9712240695953369, 0.023904383182525635, 0.21494042873382568, 0.04042431712150574, 0.7210267782211304, 0.01145029067993164], [0.9925314784049988, 0.4774630665779114, 0.9893226027488708, 0.020964402705430984, 0.9261599183082581, 0.03469463065266609], [0.006720724981278181, 0.003340719733387232, 0.0035254412796348333, 0.005814019590616226, 0.0035661975853145123, 0.005144553259015083], [0.9753128290176392, 0.01894223317503929, 0.803842306137085, 0.0019943718798458576, 0.564130425453186, 0.012679405510425568], [0.006214248016476631, 0.003491833107545972, 0.0037644391413778067, 0.005547880195081234, 0.0039129722863435745, 0.0041684978641569614], [0.005384002812206745, 0.003995309118181467, 0.004417120013386011, 0.005678188521414995, 0.0037442303728312254, 0.004357562866061926], [0.9737818837165833, 0.11513102054595947, 0.9577264189720154, 0.014444599859416485, 0.33372560143470764, 0.01282116025686264], [0.9392573833465576, 0.004252593964338303, 0.07719879597425461, 0.007205393631011248, 0.09562964737415314, 0.014591441489756107], [0.014130868017673492, 0.0028283949941396713, 0.0031947025563567877, 0.005887637380510569, 0.003906650468707085, 0.004210397135466337], [0.9027758836746216, 0.056324075907468796, 0.09952138364315033, 0.5243839621543884, 0.2410697489976883, 0.17920465767383575], [0.3412795066833496, 0.0019793889950960875, 0.004477263893932104, 0.005504693370312452, 0.0209640022367239, 0.005012416746467352], [0.006907153874635696, 0.0033807693980634212, 0.0037671260070055723, 0.005208579823374748, 0.004209427163004875, 0.004050413612276316], [0.0057645877823233604, 0.0037978312466293573, 0.0039094737730920315, 0.005935949273407459, 0.003905386896803975, 0.00457361014559865], [0.005844638217240572, 0.0036013247445225716, 0.00405865116044879, 0.0054766349494457245, 0.003866140963509679, 0.004204798489809036], [0.7111715078353882, 0.002318108454346657, 0.0343070887029171, 0.001684884773567319, 0.043025776743888855, 0.007414220366626978], [0.9433283805847168, 0.007939093746244907, 0.026883646845817566, 0.05458686873316765, 0.2346905767917633, 0.027557387948036194], [0.9181855916976929, 0.006846643052995205, 0.01889679953455925, 0.044726647436618805, 0.1766628921031952, 0.015086091123521328], [0.9168148040771484, 0.005632567219436169, 0.033061038702726364, 0.026125701144337654, 0.10126222670078278, 0.00753683689981699], [0.008372163400053978, 0.003064979799091816, 0.0034778406843543053, 0.00537072354927659, 0.00354278483428061, 0.004872332327067852], [0.9907402992248535, 0.35271480679512024, 0.9754668474197388, 0.03666406869888306, 0.8522503972053528, 0.020065421238541603], [0.8722310662269592, 0.0036285333335399628, 0.026614271104335785, 0.013052227906882763, 0.0757807120680809, 0.005664636380970478], [0.9788091778755188, 0.026335259899497032, 0.7432413697242737, 0.005027989391237497, 0.7515800595283508, 0.00713596073910594], [0.9929732084274292, 0.14088401198387146, 0.834416925907135, 0.038392696529626846, 0.9187111258506775, 0.6044737100601196], [0.6433224081993103, 0.0024392770137637854, 0.00713291484862566, 0.005146447103470564, 0.049473218619823456, 0.007653646171092987], [0.9752159714698792, 0.14291396737098694, 0.9666373133659363, 0.013746509328484535, 0.35384759306907654, 0.01576850190758705], [0.9624221324920654, 0.008845924399793148, 0.12849541008472443, 0.006329519208520651, 0.6695816516876221, 0.01291545107960701], [0.009547185152769089, 0.003164366353303194, 0.0038739696610718966, 0.005097285844385624, 0.003894491121172905, 0.004030159208923578], [0.8610261678695679, 0.013369266875088215, 0.037378717213869095, 0.031740907579660416, 0.09373275190591812, 0.24901129305362701], [0.013934236951172352, 0.002210745820775628, 0.004472752101719379, 0.0033573773689568043, 0.004298826213926077, 0.0033078256528824568], [0.9712097644805908, 0.07616700232028961, 0.8644705414772034, 0.011398338712751865, 0.4715415835380554, 0.4760710597038269], [0.005927934776991606, 0.003417684929445386, 0.0039006227161735296, 0.005243910942226648, 0.003786977380514145, 0.003991828765720129], [0.9562394618988037, 0.016381843015551567, 0.10716858506202698, 0.01559961587190628, 0.29898616671562195, 0.38066187500953674], [0.9540143609046936, 0.00618013134226203, 0.07038791477680206, 0.007033192086964846, 0.2614138424396515, 0.05200167000293732], [0.009748676791787148, 0.003042850410565734, 0.003643483156338334, 0.005047355312854052, 0.0036623752675950527, 0.0037669541779905558], [0.006121278740465641, 0.0036473434884101152, 0.0037628603167831898, 0.0058298176154494286, 0.004002129193395376, 0.004154144320636988], [0.008133359253406525, 0.0031973044387996197, 0.0036675347946584225, 0.0052954331040382385, 0.0041694026440382, 0.0038600419647991657], [0.8269776105880737, 0.027655938640236855, 0.04900231212377548, 0.33247506618499756, 0.11666475981473923, 0.044203080236911774], [0.9940425753593445, 0.31087732315063477, 0.9817248582839966, 0.01659972220659256, 0.9267948269844055, 0.02605094574391842], [0.9420197606086731, 0.055318355560302734, 0.13850320875644684, 0.06901105493307114, 0.341459721326828, 0.7432725429534912], [0.9616026282310486, 0.017120474949479103, 0.689037561416626, 0.0023877443745732307, 0.6185703873634338, 0.03175804391503334], [0.8065670132637024, 0.002618543803691864, 0.0124886529520154, 0.006117737386375666, 0.08681366592645645, 0.011746282689273357], [0.34326672554016113, 0.0033433374483138323, 0.005993274971842766, 0.008094253949820995, 0.014121239073574543, 0.032431598752737045], [0.9245749115943909, 0.004122267011553049, 0.09065376967191696, 0.0030753579922020435, 0.28394290804862976, 0.0043527414090931416], [0.9958434700965881, 0.502120316028595, 0.9823862314224243, 0.09594595432281494, 0.9598965644836426, 0.10633808374404907], [0.202509343624115, 0.0023966350127011538, 0.005386523902416229, 0.006577543448656797, 0.01004172582179308, 0.003953410778194666], [0.0063626570627093315, 0.0036822818219661713, 0.004053571727126837, 0.00563610065728426, 0.0037884924095124006, 0.004053997341543436], [0.01114115584641695, 0.002670608228072524, 0.003121273824945092, 0.004666931927204132, 0.003836352378129959, 0.003969571087509394], [0.006710973102599382, 0.003378723282366991, 0.004070209339261055, 0.004912069533020258, 0.0039205364882946014, 0.003805065294727683], [0.9495841264724731, 0.021408556029200554, 0.7527065277099609, 0.002732916735112667, 0.6401181817054749, 0.009027975611388683], [0.9892680048942566, 0.18836909532546997, 0.963310182094574, 0.012859316542744637, 0.890859842300415, 0.013564024120569229], [0.007222533691674471, 0.0034775182139128447, 0.004047481343150139, 0.0053241257555782795, 0.003976429812610149, 0.0038461429066956043], [0.9467611908912659, 0.01685391180217266, 0.7404308915138245, 0.0021640066988766193, 0.15264229476451874, 0.005196930840611458], [0.6013349294662476, 0.00460059056058526, 0.045871082693338394, 0.010318881832063198, 0.015594222582876682, 0.0060051605105400085], [0.9937630295753479, 0.45728957653045654, 0.9793345928192139, 0.05733513459563255, 0.9235601425170898, 0.036858540028333664], [0.7889661192893982, 0.002238846616819501, 0.014131991192698479, 0.004904383793473244, 0.045440319925546646, 0.007488459348678589], [0.006209081504493952, 0.0035283504985272884, 0.003936569672077894, 0.005927915684878826, 0.0035547902807593346, 0.004753774031996727], [0.978775143623352, 0.15410752594470978, 0.9666892290115356, 0.013441331684589386, 0.5708889365196228, 0.009191986173391342], [0.9758870601654053, 0.11703865230083466, 0.7246650457382202, 0.04076771065592766, 0.8081690669059753, 0.7595338821411133], [0.009909557178616524, 0.0029426461551338434, 0.0037371115759015083, 0.004797309171408415, 0.0037237403448671103, 0.0037822453305125237], [0.00759102962911129, 0.003190679010003805, 0.0036079713609069586, 0.00489867152646184, 0.0039053240325301886, 0.0039065019227564335], [0.03192716836929321, 0.002313044387847185, 0.004349465016275644, 0.004456743597984314, 0.003914909437298775, 0.004440065007656813], [0.9411857724189758, 0.050070010125637054, 0.884484052658081, 0.012622221373021603, 0.22630515694618225, 0.006073050666600466], [0.28058767318725586, 0.0028508177492767572, 0.006232673302292824, 0.011229884810745716, 0.011369118466973305, 0.0040499926544725895], [0.5273550748825073, 0.0038100718520581722, 0.005977969150990248, 0.008331861346960068, 0.0332796610891819, 0.03665810450911522], [0.0068482523784041405, 0.003586910665035248, 0.003799415659159422, 0.005857411306351423, 0.004264031536877155, 0.004580455832183361], [0.8579721450805664, 0.003512207418680191, 0.08146674931049347, 0.00555039057508111, 0.04213334992527962, 0.005615241825580597], [0.012722756713628769, 0.0026973893400281668, 0.0036186305806040764, 0.004949573427438736, 0.003463385859504342, 0.005021221004426479], [0.010355223901569843, 0.0032114738132804632, 0.003670787438750267, 0.005875227972865105, 0.0038612978532910347, 0.004006898961961269], [0.9683346152305603, 0.011214694939553738, 0.4551677703857422, 0.003933107014745474, 0.5208392143249512, 0.0041609397158026695], [0.5071428418159485, 0.012488959357142448, 0.012398086488246918, 0.02792225405573845, 0.04913553595542908, 0.26530390977859497], [0.8588964343070984, 0.0036197034642100334, 0.01739552430808544, 0.012095860205590725, 0.07673472911119461, 0.005488972645252943], [0.9439976811408997, 0.00468424940481782, 0.06689878553152084, 0.005293949041515589, 0.316275417804718, 0.006800632458180189], [0.9527332782745361, 0.010995733551681042, 0.28606081008911133, 0.004090266302227974, 0.6938244700431824, 0.0061340671963989735], [0.9870769381523132, 0.29062512516975403, 0.9255225658416748, 0.17418816685676575, 0.8176648020744324, 0.028223589062690735], [0.006974398158490658, 0.003088111989200115, 0.003315760288387537, 0.004983359482139349, 0.0039633940905332565, 0.004579607862979174], [0.9478852152824402, 0.008234336972236633, 0.06369490176439285, 0.008020730689167976, 0.23034395277500153, 0.11315864324569702], [0.11120882630348206, 0.0017923666164278984, 0.014006095938384533, 0.002490625251084566, 0.00866995844990015, 0.0022813137620687485], [0.010799272917211056, 0.002681462559849024, 0.0032015610486268997, 0.004598604049533606, 0.003650002647191286, 0.004871069919317961], [0.9844977259635925, 0.16652534902095795, 0.9684550762176514, 0.009982113726437092, 0.644818902015686, 0.010411807335913181], [0.9719151258468628, 0.41600897908210754, 0.8659453988075256, 0.5467931032180786, 0.7954548001289368, 0.07227383553981781], [0.9728536605834961, 0.02827100269496441, 0.8165850639343262, 0.0024943870957940817, 0.3569978177547455, 0.09504488855600357], [0.007123016752302647, 0.0035717037972062826, 0.003987421747297049, 0.005619109142571688, 0.004124814178794622, 0.003972764126956463], [0.074201799929142, 0.0017991524655371904, 0.0050904713571071625, 0.0034167480189353228, 0.006729861255735159, 0.0030415011569857597], [0.9922131896018982, 0.4576297700405121, 0.9834666848182678, 0.02894851192831993, 0.9340117573738098, 0.027319470420479774], [0.2621344327926636, 0.0015952802496030927, 0.006715551484376192, 0.002196307061240077, 0.018838752061128616, 0.003530968679115176], [0.952033519744873, 0.04421505704522133, 0.9112606644630432, 0.0067433821968734264, 0.2143995314836502, 0.006363868713378906], [0.030112797394394875, 0.0024587393272668123, 0.0031575914472341537, 0.00448082759976387, 0.004877390805631876, 0.005727638956159353], [0.011239159852266312, 0.0025973357260227203, 0.002962172497063875, 0.004008128307759762, 0.0051000770181417465, 0.004018553998321295], [0.8521472811698914, 0.0043994588777422905, 0.012968934141099453, 0.019133739173412323, 0.06804105639457703, 0.026237618178129196], [0.009005973115563393, 0.00301396194845438, 0.003879488678649068, 0.0045858267694711685, 0.0038492009043693542, 0.0036850401666015387], [0.005919825751334429, 0.0036136810667812824, 0.00415460392832756, 0.005547185894101858, 0.003862776095047593, 0.0041928282007575035], [0.9888578653335571, 0.12168093770742416, 0.8968209028244019, 0.024751093238592148, 0.8675087094306946, 0.01337041798979044], [0.0059290118515491486, 0.00345873786136508, 0.0038512053433805704, 0.005207821261137724, 0.003808775916695595, 0.004393264651298523], [0.9617019891738892, 0.013166844844818115, 0.2379014492034912, 0.007893268950283527, 0.7487134337425232, 0.008486478589475155], [0.9478092193603516, 0.005877871531993151, 0.10439026355743408, 0.015436172485351562, 0.3026541769504547, 0.006303779315203428], [0.005221259780228138, 0.003908528946340084, 0.004241297021508217, 0.005663116462528706, 0.003977888263761997, 0.004291517660021782], [0.8923177719116211, 0.004372710362076759, 0.03160868585109711, 0.009270806796848774, 0.23095950484275818, 0.004870566539466381], [0.0055683692917227745, 0.003843860002234578, 0.004288914613425732, 0.005911239888519049, 0.0037449472583830357, 0.004721512086689472], [0.1191801205277443, 0.0016694909427314997, 0.00578096741810441, 0.0022996768821030855, 0.011798017658293247, 0.0028447716031223536], [0.4659404754638672, 0.0020112742204219103, 0.007820893079042435, 0.0039381710812449455, 0.03301733359694481, 0.0035640138667076826], [0.5200449228286743, 0.0017746980302035809, 0.02664538286626339, 0.0018212482100352645, 0.036478955298662186, 0.0028491343837231398], [0.005313243251293898, 0.0040198639035224915, 0.004120331257581711, 0.005892369896173477, 0.003893231740221381, 0.004160128068178892], [0.9876640439033508, 0.10197719186544418, 0.953313410282135, 0.013959706760942936, 0.4341859519481659, 0.039430778473615646], [0.00563777144998312, 0.0035264133475720882, 0.004079203587025404, 0.005437894724309444, 0.0035940634552389383, 0.00455247750505805], [0.9879437685012817, 0.12781459093093872, 0.9686331152915955, 0.006830793805420399, 0.7433286309242249, 0.011393105611205101], [0.9342926144599915, 0.007020589429885149, 0.42546719312667847, 0.0037137435283511877, 0.11618810147047043, 0.003974338062107563], [0.03289628028869629, 0.00278892507776618, 0.003775937482714653, 0.006619292311370373, 0.004296374041587114, 0.006850370205938816], [0.005396626424044371, 0.004224723670631647, 0.004626768175512552, 0.006163340527564287, 0.003990414552390575, 0.00418087188154459], [0.01221849862486124, 0.002913906704634428, 0.0035813520662486553, 0.005600282456725836, 0.0038196907844394445, 0.003941651433706284], [0.921393632888794, 0.014918557368218899, 0.04477890208363533, 0.15140610933303833, 0.1533942073583603, 0.027588248252868652], [0.984582781791687, 0.03975263610482216, 0.797903299331665, 0.0042410958558321, 0.8720028400421143, 0.042183078825473785], [0.5821058750152588, 0.0018986830255016685, 0.028340213000774384, 0.0017093223286792636, 0.02522917091846466, 0.005605385638773441], [0.9692138433456421, 0.014960809610784054, 0.41758185625076294, 0.004612154792994261, 0.7123095989227295, 0.008573483675718307], [0.005713506136089563, 0.0035754491109400988, 0.004145784769207239, 0.005351881496608257, 0.003908543381839991, 0.0041061099618673325], [0.9212481379508972, 0.01824835315346718, 0.07775833457708359, 0.018194107338786125, 0.24231846630573273, 0.4303836524486542], [0.9174307584762573, 0.003083149902522564, 0.04411784186959267, 0.006765731610357761, 0.09002485871315002, 0.004889236763119698], [0.006862325128167868, 0.003411737736314535, 0.0037830325309187174, 0.005392840132117271, 0.003795827738940716, 0.004195293411612511], [0.03225284442305565, 0.002457954455167055, 0.0042029982432723045, 0.0057395994663238525, 0.0044065495021641254, 0.0034745321609079838], [0.008517783135175705, 0.00307173328474164, 0.003901958465576172, 0.005056899972259998, 0.003650541650131345, 0.003961515612900257], [0.990180492401123, 0.1939001828432083, 0.9708847999572754, 0.010405014269053936, 0.8702076077461243, 0.011810310184955597], [0.05297045037150383, 0.002005656948313117, 0.0036405466962605715, 0.0028843828476965427, 0.011017633602023125, 0.0036350868176668882], [0.9543753266334534, 0.006994403433054686, 0.06066814064979553, 0.01035972498357296, 0.5171725749969482, 0.014046255499124527], [0.9697043895721436, 0.2939838767051697, 0.9624246954917908, 0.04329371079802513, 0.5862426161766052, 0.016702691093087196], [0.005694494117051363, 0.0034963523503392935, 0.0037573608569800854, 0.005318732466548681, 0.003813885385170579, 0.0045216698199510574], [0.9775440096855164, 0.02698729746043682, 0.531509280204773, 0.006493204738944769, 0.8364284038543701, 0.15140816569328308], [0.005744036752730608, 0.003868746105581522, 0.003933744039386511, 0.006280187517404556, 0.0037543168291449547, 0.004791532177478075], [0.006467839702963829, 0.0035538175143301487, 0.0040883938781917095, 0.005404884461313486, 0.0038506437558680773, 0.003973763901740313], [0.7540879249572754, 0.0028030388057231903, 0.010657668113708496, 0.005803453736007214, 0.09633075445890427, 0.005147838965058327], [0.009988449513912201, 0.0028248291928321123, 0.003214712720364332, 0.004627668298780918, 0.004134468734264374, 0.004072165582329035], [0.8171453475952148, 0.008363462053239346, 0.5341813564300537, 0.0030839047394692898, 0.06739296019077301, 0.0034710168838500977], [0.9689847826957703, 0.0057777040638029575, 0.11125033348798752, 0.009190762415528297, 0.2692864239215851, 0.012716732919216156], [0.9920349717140198, 0.3815400302410126, 0.958122968673706, 0.08371847122907639, 0.937674343585968, 0.03188727796077728], [0.013957442715764046, 0.0026615289971232414, 0.003770287614315748, 0.004781004507094622, 0.0038460134528577328, 0.003716530278325081], [0.011389089748263359, 0.0026125903241336346, 0.003812961047515273, 0.003989710006862879, 0.003968157339841127, 0.0034311721101403236], [0.9675227403640747, 0.014979535713791847, 0.6209275722503662, 0.0037539636250585318, 0.6285338997840881, 0.005026501137763262], [0.9600539803504944, 0.020919403061270714, 0.5980440974235535, 0.01643815077841282, 0.23351208865642548, 0.004518850706517696], [0.9891934990882874, 0.15292435884475708, 0.9233781695365906, 0.02069050632417202, 0.8976331353187561, 0.01382097415626049], [0.006852021440863609, 0.003589073894545436, 0.0036881733685731888, 0.006031217519193888, 0.003835463197901845, 0.004631663206964731], [0.01416942197829485, 0.0026851757429540157, 0.003571822540834546, 0.004709670785814524, 0.00376816070638597, 0.0042444136925041676], [0.013862605206668377, 0.002382793929427862, 0.0040025715716183186, 0.003767625195905566, 0.004318893421441317, 0.003244985593482852], [0.008543143048882484, 0.003201268846169114, 0.0033738757483661175, 0.0057140798307955265, 0.003625354263931513, 0.005774899385869503], [0.9812042117118835, 0.059983521699905396, 0.8516691327095032, 0.013926083222031593, 0.7870831489562988, 0.0077684782445430756], [0.23960435390472412, 0.0020556708332151175, 0.005927258171141148, 0.005764095112681389, 0.008813307620584965, 0.003744687419384718], [0.9794544577598572, 0.05866047367453575, 0.831106424331665, 0.009869790636003017, 0.8812097311019897, 0.012105932459235191], [0.04696469381451607, 0.0022596418857574463, 0.005124246701598167, 0.004096159711480141, 0.005861800163984299, 0.0027875564992427826], [0.007255101576447487, 0.003326247911900282, 0.003857787000015378, 0.005178327206522226, 0.003978819586336613, 0.003921968396753073], [0.027800817042589188, 0.0020377046894282103, 0.0038396576419472694, 0.0031463084742426872, 0.004959896206855774, 0.003225842025130987], [0.0057411156594753265, 0.0033434564247727394, 0.003947033546864986, 0.004874494392424822, 0.004067990463227034, 0.004023314919322729], [0.985275149345398, 0.08823547512292862, 0.942875862121582, 0.007496416103094816, 0.8236511945724487, 0.010588368400931358], [0.01108573842793703, 0.0030637693125754595, 0.0032205733004957438, 0.005851338617503643, 0.0036176438443362713, 0.005110115744173527], [0.8813360929489136, 0.003599722171202302, 0.016014322638511658, 0.01031862385571003, 0.07983313500881195, 0.008952991105616093], [0.9852828979492188, 0.26556557416915894, 0.9203156232833862, 0.06868264079093933, 0.8523172736167908, 0.8493170738220215], [0.9472364783287048, 0.005666043609380722, 0.3039751648902893, 0.002326540183275938, 0.16779114305973053, 0.004211834166198969], [0.9521278142929077, 0.012872622348368168, 0.2783038318157196, 0.00698853051289916, 0.7662211656570435, 0.00788645725697279], [0.005937119945883751, 0.0040206885896623135, 0.004019535146653652, 0.006051608361303806, 0.0040000067092478275, 0.004277024418115616], [0.9939011335372925, 0.23500517010688782, 0.9294625520706177, 0.04515036940574646, 0.9563560485839844, 0.5367869734764099], [0.00730037922039628, 0.0035221229773014784, 0.003821206046268344, 0.006190587300807238, 0.0038725368212908506, 0.005011525005102158], [0.7738133668899536, 0.004504664335399866, 0.38052964210510254, 0.0011726247612386942, 0.08501515537500381, 0.003749597119167447], [0.005598811432719231, 0.004012265242636204, 0.004365209955722094, 0.006283018738031387, 0.0038934112526476383, 0.004189120605587959], [0.007082723546773195, 0.003505541943013668, 0.003845085622742772, 0.006405539344996214, 0.0037875298876315355, 0.004857338964939117], [0.0070939152501523495, 0.0036634488496929407, 0.004166200757026672, 0.005546983331441879, 0.003975987900048494, 0.003986287396401167], [0.38623860478401184, 0.0034296526573598385, 0.12580741941928864, 0.0026570039335638285, 0.021366648375988007, 0.002562970155850053], [0.15091872215270996, 0.0019190465100109577, 0.0034830207005143166, 0.004467578139156103, 0.00984839629381895, 0.004228879697620869], [0.005915455985814333, 0.003928202670067549, 0.00421888567507267, 0.006045633926987648, 0.003915656823664904, 0.004360866267234087], [0.01631188578903675, 0.0023128462489694357, 0.0032202121801674366, 0.0038832423742860556, 0.004396372940391302, 0.0036278334446251392], [0.009763617068529129, 0.002695903182029724, 0.0034149624407291412, 0.003945993259549141, 0.00422278419137001, 0.004086351953446865], [0.7777149081230164, 0.010432565584778786, 0.019047126173973083, 0.10136840492486954, 0.07958415150642395, 0.011489898897707462], [0.9516640305519104, 0.039368197321891785, 0.7883058190345764, 0.0053056757897138596, 0.7348592281341553, 0.00767704751342535], [0.010908011347055435, 0.0027352047618478537, 0.0034165175165981054, 0.0045441933907568455, 0.0038571639452129602, 0.003859183518216014], [0.020122939720749855, 0.0023745764046907425, 0.0037859217263758183, 0.004281484056264162, 0.003987639211118221, 0.0036440338008105755], [0.5513493418693542, 0.0024378374218940735, 0.018899861723184586, 0.004711841698735952, 0.015320835635066032, 0.008321498520672321], [0.00875464454293251, 0.0033297832123935223, 0.004169060382992029, 0.005307537969201803, 0.003934317268431187, 0.004168001469224691], [0.00973496027290821, 0.002864731475710869, 0.003825430292636156, 0.004628255032002926, 0.0038225294556468725, 0.0034713519271463156], [0.13881419599056244, 0.0021151257678866386, 0.00354180159047246, 0.004763472825288773, 0.00808551162481308, 0.010326705873012543], [0.9921715259552002, 0.5456699132919312, 0.986600935459137, 0.0405704528093338, 0.9287881255149841, 0.03154072165489197], [0.013233322650194168, 0.002415404887869954, 0.003176492638885975, 0.003837075550109148, 0.004145560320466757, 0.004923426080495119], [0.0069159092381596565, 0.0032399322371929884, 0.004157369025051594, 0.004785260185599327, 0.0037622239906340837, 0.003756709164008498], [0.012168198823928833, 0.002786206314340234, 0.0037055679131299257, 0.005409210454672575, 0.003569538937881589, 0.004863988608121872], [0.93802410364151, 0.005574168637394905, 0.03188458830118179, 0.015845108777284622, 0.2846272885799408, 0.010353420861065388], [0.6869523525238037, 0.0031309176702052355, 0.008402577601373196, 0.011669421568512917, 0.03420202434062958, 0.006238506641238928], [0.9865982532501221, 0.08791188895702362, 0.9206807613372803, 0.008588838391005993, 0.4270927906036377, 0.11151816695928574], [0.008033495396375656, 0.003225375898182392, 0.0036232636775821447, 0.005134196486324072, 0.003411415033042431, 0.005433110520243645], [0.9921960830688477, 0.31646764278411865, 0.9789182543754578, 0.029278719797730446, 0.8626800179481506, 0.022382961586117744], [0.005792313255369663, 0.0038725293707102537, 0.004240719135850668, 0.005834465380758047, 0.003856995375826955, 0.004232475534081459], [0.0069402651861310005, 0.0033953373786062002, 0.0036903605796396732, 0.005424496252089739, 0.0037098689936101437, 0.003962904214859009], [0.005012209992855787, 0.004181618336588144, 0.004566995892673731, 0.005738644860684872, 0.004064257722347975, 0.004075222183018923], [0.8441516160964966, 0.0389898419380188, 0.07509205490350723, 0.4048488736152649, 0.12927864491939545, 0.038604434579610825], [0.9914251565933228, 0.13243095576763153, 0.9604886174201965, 0.008960923179984093, 0.8963353633880615, 0.02294505387544632], [0.005585746839642525, 0.0035992227494716644, 0.00417757174000144, 0.005132978782057762, 0.003988956101238728, 0.0040604169480502605], [0.9165303111076355, 0.11928029358386993, 0.26237499713897705, 0.6597193479537964, 0.2792225182056427, 0.08658263087272644], [0.09763488918542862, 0.0022851480171084404, 0.0032043729443103075, 0.006393889430910349, 0.007742502260953188, 0.0038044669199734926], [0.9750682711601257, 0.031583577394485474, 0.4370247423648834, 0.011532513424754143, 0.8787421584129333, 0.023935656994581223], [0.9605013728141785, 0.007450607605278492, 0.13531440496444702, 0.016017328947782516, 0.16108214855194092, 0.006764943711459637], [0.059825751930475235, 0.0020338159520179033, 0.004894710145890713, 0.00397537462413311, 0.005283322650939226, 0.0028797455597668886], [0.006480328738689423, 0.0034175340551882982, 0.0038037621416151524, 0.005320501048117876, 0.003949739504605532, 0.003997956868261099], [0.007185503840446472, 0.0032331389375030994, 0.0041723065078258514, 0.004850723780691624, 0.0037085774820297956, 0.004200671799480915], [0.9379438757896423, 0.004872621037065983, 0.044550634920597076, 0.006629395764321089, 0.38583284616470337, 0.007723139598965645], [0.033686313778162, 0.002411647466942668, 0.003844429738819599, 0.004365616012364626, 0.005309282802045345, 0.002889185445383191], [0.9869276881217957, 0.16464702785015106, 0.877094030380249, 0.08648787438869476, 0.8255525827407837, 0.01569867692887783], [0.9865830540657043, 0.306876003742218, 0.9773337244987488, 0.032270397990942, 0.7541258335113525, 0.015893707051873207], [0.918592095375061, 0.0053880056366324425, 0.1519804298877716, 0.00202413578517735, 0.2544260323047638, 0.06102519854903221], [0.0055175223387777805, 0.003477508667856455, 0.003914868459105492, 0.004957178607583046, 0.004065466579049826, 0.004052449483424425], [0.008876609615981579, 0.002804557094350457, 0.0038608373142778873, 0.0042420667596161366, 0.0036047622561454773, 0.004223391879349947], [0.0053842454217374325, 0.0039823041297495365, 0.004400309175252914, 0.006003018002957106, 0.003863348625600338, 0.004259088076651096], [0.006089458242058754, 0.0035466430708765984, 0.004057948011904955, 0.005423382390290499, 0.0038234973326325417, 0.0041419100016355515], [0.006387107074260712, 0.0037832986563444138, 0.003810739843174815, 0.006125390529632568, 0.0036360989324748516, 0.004509614780545235], [0.019756868481636047, 0.002475928980857134, 0.0033882788848131895, 0.004336749203503132, 0.0043471138924360275, 0.004161607474088669], [0.0068020145408809185, 0.0035328466910868883, 0.0040719336830079556, 0.00552209559828043, 0.0036277747713029385, 0.004199272021651268], [0.008367370814085007, 0.002874521305784583, 0.0037674340419471264, 0.00455787219107151, 0.0035396867897361517, 0.00453214580193162], [0.09666770696640015, 0.0018597611924633384, 0.003883631434291601, 0.003566707717254758, 0.008071278221905231, 0.003076212015002966], [0.004957691300660372, 0.0038571476470679045, 0.004064447246491909, 0.0054937852546572685, 0.004005506169050932, 0.004373957868665457], [0.9342700242996216, 0.025725888088345528, 0.07564251869916916, 0.048291925340890884, 0.20261776447296143, 0.49525538086891174], [0.026682714000344276, 0.0018560623284429312, 0.004139200784265995, 0.0028259754180908203, 0.004745100624859333, 0.00353949679993093], [0.9626655578613281, 0.018699776381254196, 0.7487043142318726, 0.0044217477552592754, 0.25353243947029114, 0.040922947227954865], [0.010670018382370472, 0.0032761013135313988, 0.004252036102116108, 0.005584936123341322, 0.0036236047744750977, 0.003934459760785103], [0.012152853421866894, 0.002670133486390114, 0.0032119620591402054, 0.004546439740806818, 0.0037961250636726618, 0.005005044862627983], [0.012135588563978672, 0.0027715505566447973, 0.0030945793259888887, 0.004823354072868824, 0.004077980760484934, 0.004009914584457874], [0.9836109280586243, 0.015638619661331177, 0.39004459977149963, 0.005034565459936857, 0.7843601703643799, 0.03694172576069832], [0.008797905407845974, 0.003206105437129736, 0.004226685967296362, 0.004716840106993914, 0.003911292180418968, 0.0038567190058529377], [0.006499772891402245, 0.0036019443068653345, 0.0041544800624251366, 0.0055426317267119884, 0.0037964857183396816, 0.004108797758817673], [0.010843925178050995, 0.0027982299216091633, 0.003191902069374919, 0.004891095217317343, 0.0037918018642812967, 0.0038337234873324633], [0.9907850027084351, 0.15683428943157196, 0.9722765684127808, 0.007369079161435366, 0.8075537085533142, 0.016927247866988182], [0.014537503942847252, 0.0025316711980849504, 0.0033190774265676737, 0.004663511179387569, 0.0038290792144834995, 0.003981415182352066], [0.006525530945509672, 0.0037307702004909515, 0.004200773313641548, 0.005878560245037079, 0.003899818751960993, 0.004021150525659323], [0.06287725269794464, 0.0021124884951859713, 0.005226376466453075, 0.004228546284139156, 0.0053824251517653465, 0.003194957273080945], [0.8647125959396362, 0.003853964852169156, 0.012608269229531288, 0.01017950288951397, 0.16846942901611328, 0.008882236666977406], [0.7303190231323242, 0.002517818007618189, 0.013325655832886696, 0.006645868066698313, 0.03002844750881195, 0.01251754816621542], [0.008457018993794918, 0.0031857057474553585, 0.0033975080586969852, 0.005765043664723635, 0.0036120740696787834, 0.004563256166875362], [0.061173658818006516, 0.0021592879202216864, 0.004119995050132275, 0.004391510505229235, 0.005710297264158726, 0.0029969506431370974], [0.007515124976634979, 0.0034816667903214693, 0.003905798774212599, 0.0058498806320130825, 0.0037850833032280207, 0.004068842623382807], [0.9830242395401001, 0.12129111588001251, 0.9611803293228149, 0.007743236143141985, 0.6770137548446655, 0.007138704881072044], [0.9276428818702698, 0.009883943013846874, 0.5653964281082153, 0.004734036047011614, 0.1252322942018509, 0.004111528396606445], [0.9783118367195129, 0.03597428277134895, 0.43501904606819153, 0.022396262735128403, 0.8649616837501526, 0.012443880550563335], [0.007298419717699289, 0.003102413611486554, 0.0033270451240241528, 0.004574374295771122, 0.004191010724753141, 0.004227420315146446], [0.9836118817329407, 0.1384097933769226, 0.7225582599639893, 0.16289649903774261, 0.8136383891105652, 0.020179765298962593], [0.9889956712722778, 0.19217559695243835, 0.9621276259422302, 0.014235608279705048, 0.8532068133354187, 0.011613628827035427], [0.006751205772161484, 0.0033739653881639242, 0.0037086831871420145, 0.005348499398678541, 0.004067631438374519, 0.003975057043135166], [0.1610884815454483, 0.002503565512597561, 0.005177799146622419, 0.006058675702661276, 0.007954191416501999, 0.0045225974172353745], [0.7681826949119568, 0.002791340695694089, 0.0120305260643363, 0.00747540732845664, 0.053511619567871094, 0.00581064447760582], [0.991814136505127, 0.13232003152370453, 0.9355206489562988, 0.024806123226881027, 0.8241249322891235, 0.01490749791264534], [0.008323540911078453, 0.0031479971949011087, 0.003950993064790964, 0.004696833435446024, 0.0038590976037085056, 0.003938234411180019], [0.01944727450609207, 0.002336934208869934, 0.003552208887413144, 0.004113500472158194, 0.004496524576097727, 0.0035901893861591816], [0.012330970726907253, 0.0027020215056836605, 0.003598179668188095, 0.004038311541080475, 0.0038935907650738955, 0.0036025280132889748], [0.0222556684166193, 0.002574532525613904, 0.003270643763244152, 0.004442685749381781, 0.0046460009180009365, 0.00487876869738102], [0.00843353196978569, 0.003253140952438116, 0.003982154652476311, 0.005129052326083183, 0.00413140282034874, 0.003550752531737089], [0.4896581470966339, 0.0017260070890188217, 0.03366497531533241, 0.0012494856491684914, 0.03039376065135002, 0.007287028711289167], [0.9629224538803101, 0.01616881787776947, 0.2205154299736023, 0.024246489629149437, 0.45349159836769104, 0.007139783352613449], [0.005103719886392355, 0.0039406465366482735, 0.0043777343817055225, 0.005506628192961216, 0.0039420598186552525, 0.004371988121420145], [0.8097416758537292, 0.0053156581707298756, 0.01321145985275507, 0.026929287239909172, 0.05091801658272743, 0.04657115787267685], [0.9701682329177856, 0.058414362370967865, 0.9321500062942505, 0.006112735252827406, 0.41492408514022827, 0.006115838885307312], [0.9838826656341553, 0.04898148775100708, 0.8970404863357544, 0.004779808688908815, 0.7933502793312073, 0.013157831504940987], [0.07369364798069, 0.0022542858496308327, 0.005725244525820017, 0.0047280616126954556, 0.006093878298997879, 0.0025992535520344973], [0.9026780724525452, 0.002889817114919424, 0.046014606952667236, 0.0040064724162220955, 0.10062804073095322, 0.0041296458803117275], [0.07277357578277588, 0.002353689633309841, 0.0049563511274755, 0.005765677895396948, 0.004851548001170158, 0.005573946051299572], [0.008130055852234364, 0.0031200083903968334, 0.003508954541757703, 0.005122008267790079, 0.003703814698383212, 0.004150847438722849], [0.0066603259183466434, 0.0031068366952240467, 0.004360617604106665, 0.004106971435248852, 0.0040845186449587345, 0.00391719164326787], [0.672171950340271, 0.0026565364096313715, 0.008700310252606869, 0.006316265091300011, 0.06415180116891861, 0.00445790309458971], [0.00915550533682108, 0.0029485574923455715, 0.0037530758418142796, 0.004815956111997366, 0.0038947986904531717, 0.003823146689683199], [0.9916008710861206, 0.1347876489162445, 0.9673603177070618, 0.007770967204123735, 0.815268337726593, 0.017228255048394203], [0.007389585487544537, 0.003572470974177122, 0.0034586619585752487, 0.006426714360713959, 0.0037224600091576576, 0.005089702550321817], [0.21740052103996277, 0.0019289045594632626, 0.006307209376245737, 0.00451995525509119, 0.009745105169713497, 0.003349019680172205], [0.007233606185764074, 0.003285324200987816, 0.0038217033725231886, 0.004881347995251417, 0.0037685276474803686, 0.003988387528806925], [0.01494064275175333, 0.002540429588407278, 0.0028686393052339554, 0.0048090796917676926, 0.004204551223665476, 0.004102299455553293], [0.6771970391273499, 0.0019047019304707646, 0.02631749026477337, 0.0016111948061734438, 0.05349874868988991, 0.004217862151563168], [0.005643267650157213, 0.003598256269469857, 0.0038628350012004375, 0.0052972594276070595, 0.003816603682935238, 0.004470923915505409], [0.00601026089861989, 0.0034353388473391533, 0.004130255430936813, 0.005377416964620352, 0.003741195425391197, 0.004520335700362921], [0.9120951294898987, 0.03276049345731735, 0.8666262030601501, 0.006706432439386845, 0.14230573177337646, 0.005500815808773041], [0.9928032755851746, 0.37131720781326294, 0.9664000868797302, 0.07789795100688934, 0.9203924536705017, 0.036102913320064545], [0.7776046991348267, 0.01909572444856167, 0.040427181869745255, 0.19964206218719482, 0.07756839692592621, 0.019354544579982758], [0.983183741569519, 0.04837147518992424, 0.7243494391441345, 0.009962708689272404, 0.8934599757194519, 0.010595188476145267], [0.9914007782936096, 0.16209439933300018, 0.9752475023269653, 0.00782246608287096, 0.8364223837852478, 0.01590154878795147], [0.9030691981315613, 0.012133622542023659, 0.700798511505127, 0.0023547883611172438, 0.11335868388414383, 0.005345641169697046], [0.5542910695075989, 0.004534855019301176, 0.008665402419865131, 0.024181637912988663, 0.019625280052423477, 0.02079392783343792], [0.006051679607480764, 0.0036594762932509184, 0.004119685385376215, 0.005459722131490707, 0.0037541904021054506, 0.004284369759261608], [0.8026331663131714, 0.0053248158656060696, 0.19708317518234253, 0.005391714628785849, 0.03482454642653465, 0.0051733036525547504], [0.9037903547286987, 0.023123646154999733, 0.8164123296737671, 0.00567028159275651, 0.09576994925737381, 0.007838443852961063], [0.005616088397800922, 0.004070744384080172, 0.004718075972050428, 0.005674086976796389, 0.0038334489800035954, 0.004013259429484606], [0.006546874530613422, 0.003811649978160858, 0.004216172732412815, 0.005378955043852329, 0.003936386667191982, 0.004040840081870556], [0.9753051996231079, 0.03447795286774635, 0.6576182842254639, 0.006063611712306738, 0.7127799987792969, 0.3739478588104248], [0.968410849571228, 0.055209748446941376, 0.4012410342693329, 0.022766776382923126, 0.8034583330154419, 0.6812067627906799], [0.005624534096568823, 0.0037019785959273577, 0.003958126530051231, 0.005858166608959436, 0.0038434637244790792, 0.004387197084724903], [0.8743336796760559, 0.009739585220813751, 0.025393430143594742, 0.020416444167494774, 0.11938886344432831, 0.20540021359920502], [0.8412275314331055, 0.0040019177831709385, 0.013226809911429882, 0.011820686981081963, 0.05751693993806839, 0.038420479744672775], [0.8050466179847717, 0.002247811993584037, 0.02108949050307274, 0.0031515934970229864, 0.08513238281011581, 0.004812339786440134], [0.9865193963050842, 0.16280779242515564, 0.975378155708313, 0.008370868861675262, 0.7305416464805603, 0.01139252632856369], [0.030218230560421944, 0.00221247342415154, 0.0037619629874825478, 0.00429693516343832, 0.005255427677184343, 0.0030526299960911274], [0.9022138118743896, 0.005835873540490866, 0.15087291598320007, 0.0029533414635807276, 0.4965325593948364, 0.0104277478531003], [0.9320840239524841, 0.008439498953521252, 0.1987323760986328, 0.004741305485367775, 0.49801769852638245, 0.003981831017881632], [0.9106582999229431, 0.006602804642170668, 0.026329534128308296, 0.035165999084711075, 0.1440613716840744, 0.009602366015315056], [0.018101632595062256, 0.002450025174766779, 0.003779047168791294, 0.0037268181331455708, 0.00358264590613544, 0.006074613891541958], [0.8570950031280518, 0.005196573678404093, 0.03365429863333702, 0.013664212077856064, 0.04465246573090553, 0.02524506114423275], [0.007268233224749565, 0.0031272987835109234, 0.004336170386523008, 0.00449112756177783, 0.003732262644916773, 0.0038233010563999414], [0.005412284750491381, 0.003410056931897998, 0.0035319768358021975, 0.005340344738215208, 0.0038197285030037165, 0.004836560692638159], [0.006236410699784756, 0.0034273099154233932, 0.004503817297518253, 0.0049941218458116055, 0.0037617506459355354, 0.0039734793826937675], [0.842154324054718, 0.020745668560266495, 0.05831173062324524, 0.1915949136018753, 0.0860925018787384, 0.0197439007461071], [0.010183202102780342, 0.002789864083752036, 0.003360198112204671, 0.004494490567594767, 0.0038596144877374172, 0.005136210937052965], [0.011228884570300579, 0.003163345390930772, 0.004141626879572868, 0.005855051800608635, 0.0036794894840568304, 0.004359613638371229], [0.04304627701640129, 0.002333042910322547, 0.003940926864743233, 0.004765573423355818, 0.005470371805131435, 0.0034188497811555862], [0.051057156175374985, 0.0019293084042146802, 0.0037163463421165943, 0.0037626351695507765, 0.005704738199710846, 0.0031835471745580435], [0.02205660007894039, 0.00264770002104342, 0.0035566738806664944, 0.00541325518861413, 0.004599597305059433, 0.003209741786122322], [0.9655097126960754, 0.03446422517299652, 0.08654049783945084, 0.16829892992973328, 0.3639119863510132, 0.4089164137840271], [0.9787327647209167, 0.5992389917373657, 0.9171890020370483, 0.7959251999855042, 0.8639733791351318, 0.21980923414230347], [0.9902310967445374, 0.5456165671348572, 0.9591013193130493, 0.34770187735557556, 0.9279404878616333, 0.08288756757974625], [0.014137286692857742, 0.0027619029860943556, 0.0031618252396583557, 0.005304714199155569, 0.004005768336355686, 0.004151046276092529], [0.009325153194367886, 0.002969590714201331, 0.004474947694689035, 0.004613836295902729, 0.003730339463800192, 0.0034749016631394625], [0.00645836628973484, 0.003875477472320199, 0.004126859828829765, 0.006487439852207899, 0.004006166011095047, 0.0049089170061051846], [0.07181710749864578, 0.0018774905474856496, 0.004236144479364157, 0.003656337270513177, 0.006262589246034622, 0.0029238597489893436], [0.9426053762435913, 0.004590179771184921, 0.04274768382310867, 0.005786503199487925, 0.2817883789539337, 0.009704740718007088], [0.006125213578343391, 0.0036101732403039932, 0.003957660403102636, 0.005571211222559214, 0.0038120450917631388, 0.004194182343780994], [0.9314054250717163, 0.008587855845689774, 0.02213451825082302, 0.0420132651925087, 0.1814771294593811, 0.05483712628483772], [0.020428230985999107, 0.0023483973927795887, 0.0032468028366565704, 0.00454278290271759, 0.004777513910084963, 0.003650833386927843], [0.006530866026878357, 0.0036902015563100576, 0.0039732735604047775, 0.005887492559850216, 0.003883067052811384, 0.004221346694976091], [0.018073270097374916, 0.002333042910322547, 0.0027764325495809317, 0.004668086301535368, 0.004062364809215069, 0.005138477310538292], [0.009829220362007618, 0.002920386381447315, 0.0030053327791392803, 0.004990739282220602, 0.003907292615622282, 0.00712918397039175], [0.19501855969429016, 0.003272730391472578, 0.00900973565876484, 0.010054461658000946, 0.007523911539465189, 0.005564648192375898], [0.010476839728653431, 0.002852404024451971, 0.0036344255786389112, 0.004799594637006521, 0.004034713376313448, 0.003481260035187006], [0.018636982887983322, 0.002134349662810564, 0.005527044180780649, 0.0025799518916755915, 0.004046805202960968, 0.004134654998779297], [0.015592883341014385, 0.002325919223949313, 0.003961649257689714, 0.003805511863902211, 0.003898074384778738, 0.003760055173188448], [0.054295528680086136, 0.0021737534552812576, 0.00398907158523798, 0.004372662398964167, 0.005756530910730362, 0.0030351143795996904], [0.673905074596405, 0.001926942029967904, 0.02933521568775177, 0.0019144379766657948, 0.03511796519160271, 0.003652328858152032], [0.00688801659271121, 0.0032175269443541765, 0.0039910003542900085, 0.004796124994754791, 0.00332980346865952, 0.004848981276154518], [0.95805424451828, 0.01636725850403309, 0.29812631011009216, 0.006568395532667637, 0.8280863165855408, 0.01701859012246132], [0.9284124970436096, 0.037673745304346085, 0.16459433734416962, 0.22653064131736755, 0.24267126619815826, 0.022724833339452744], [0.008218993432819843, 0.0030429416801780462, 0.0038360822945833206, 0.004389651585370302, 0.004164877347648144, 0.003898860886693001], [0.9526350498199463, 0.010942497290670872, 0.16519302129745483, 0.007082831114530563, 0.6252548694610596, 0.005579848308116198], [0.9926660656929016, 0.35656797885894775, 0.9445797801017761, 0.08542439341545105, 0.9425039887428284, 0.8459184765815735], [0.9911231994628906, 0.3993106484413147, 0.9805727005004883, 0.024266820400953293, 0.9240955710411072, 0.022278878837823868], [0.9787260293960571, 0.011965923011302948, 0.4066997766494751, 0.004718140698969364, 0.6341931819915771, 0.008961939252912998], [0.00845739059150219, 0.003465998452156782, 0.004113402683287859, 0.005537635181099176, 0.004010381177067757, 0.004080214537680149], [0.8112913370132446, 0.009225478395819664, 0.5578866004943848, 0.0035412919241935015, 0.05436014384031296, 0.004228630568832159], [0.0064645069651305676, 0.003458326915279031, 0.00420313561335206, 0.005305547267198563, 0.0036620204336941242, 0.004270831122994423], [0.0058275549672544, 0.0035577609669417143, 0.004347285255789757, 0.004656937438994646, 0.00408398499712348, 0.003686270909383893], [0.18541716039180756, 0.0018079231958836317, 0.009240356273949146, 0.002818518318235874, 0.014120347797870636, 0.002220909809693694], [0.008705329149961472, 0.002946344669908285, 0.003800247563049197, 0.004492746200412512, 0.0036211656406521797, 0.00404608016833663], [0.9633556604385376, 0.013277740217745304, 0.5464051961898804, 0.002477545291185379, 0.6775467395782471, 0.005591054446995258], [0.738603949546814, 0.003369805635884404, 0.012838166207075119, 0.011022466234862804, 0.05834971368312836, 0.004141412675380707], [0.9480438828468323, 0.030291248112916946, 0.8533346056938171, 0.005063732620328665, 0.2563357353210449, 0.00508823012933135], [0.8853330612182617, 0.00622879434376955, 0.019890034571290016, 0.011103138327598572, 0.198088601231575, 0.10703746229410172], [0.8896138072013855, 0.00947830080986023, 0.5912408232688904, 0.0027710392605513334, 0.1111038327217102, 0.002959852572530508], [0.8993352651596069, 0.0071570598520338535, 0.07899501919746399, 0.005740715190768242, 0.4889505207538605, 0.004696205258369446], [0.9941739439964294, 0.19669115543365479, 0.91508549451828, 0.03097596950829029, 0.9629433751106262, 0.15470486879348755], [0.76478511095047, 0.0021683068480342627, 0.020589234307408333, 0.0032576012890785933, 0.06282033771276474, 0.003998614381998777], [0.7046492099761963, 0.002212381921708584, 0.052033696323633194, 0.0011529674520716071, 0.0796896442770958, 0.0051750787533819675], [0.9835829138755798, 0.011692584492266178, 0.23752306401729584, 0.00742843234911561, 0.562389075756073, 0.0137419318780303], [0.9842074513435364, 0.23059841990470886, 0.9686529040336609, 0.02695036120712757, 0.6465834975242615, 0.012898210436105728], [0.012828011065721512, 0.0029042428359389305, 0.0032183255534619093, 0.005829502362757921, 0.004099446348845959, 0.003991400357335806], [0.007983609102666378, 0.0030967292841523886, 0.0038373349234461784, 0.004231788218021393, 0.004757204093039036, 0.003413836471736431], [0.968778133392334, 0.5769314765930176, 0.8950515985488892, 0.7023480534553528, 0.8153847455978394, 0.13812591135501862], [0.7701364159584045, 0.005172145552933216, 0.08859962970018387, 0.0020171573851257563, 0.11570257693529129, 0.07436460256576538], [0.9213054776191711, 0.013512138277292252, 0.027044543996453285, 0.07810540497303009, 0.15463516116142273, 0.1663288176059723], [0.8747697472572327, 0.0352073535323143, 0.094474196434021, 0.34550437331199646, 0.1364649385213852, 0.03440713509917259], [0.8947617411613464, 0.003648456186056137, 0.020074259489774704, 0.009205345995724201, 0.13741354644298553, 0.0056983293034136295], [0.9908577799797058, 0.10550758242607117, 0.9586387872695923, 0.008729962632060051, 0.7327420711517334, 0.02099923975765705], [0.9928576946258545, 0.23491379618644714, 0.9419804215431213, 0.0656009390950203, 0.9089111089706421, 0.026658013463020325], [0.9210184216499329, 0.00614924868568778, 0.4456718862056732, 0.0015559277962893248, 0.20868970453739166, 0.004021725617349148], [0.9312462210655212, 0.033220503479242325, 0.14314210414886475, 0.27271032333374023, 0.1843852549791336, 0.0304691381752491], [0.959636390209198, 0.007413659244775772, 0.06338208168745041, 0.023968787863850594, 0.2800142168998718, 0.02165430784225464], [0.01113584078848362, 0.002543120412155986, 0.003302830271422863, 0.004122599959373474, 0.004520075395703316, 0.0032970886677503586], [0.9759268760681152, 0.15334603190422058, 0.7242863774299622, 0.0606238879263401, 0.789421021938324, 0.8844491243362427], [0.9961069226264954, 0.6916618943214417, 0.98480623960495, 0.3035777807235718, 0.9213141798973083, 0.4757212698459625], [0.008419058285653591, 0.0028382919263094664, 0.003724899375811219, 0.004789542872458696, 0.0039174724370241165, 0.003692798549309373], [0.23120585083961487, 0.0017795379972085357, 0.009368069469928741, 0.003013553796336055, 0.012833458371460438, 0.002738304901868105], [0.08693107217550278, 0.0019869704265147448, 0.003315443405881524, 0.004490575287491083, 0.006623679772019386, 0.004651940427720547], [0.8998671174049377, 0.004603778012096882, 0.02749745547771454, 0.009128604084253311, 0.23357638716697693, 0.005395684856921434], [0.005610456690192223, 0.00371289299800992, 0.00387045880779624, 0.005645726807415485, 0.003972464241087437, 0.004071966279298067], [0.8657034039497375, 0.01880371943116188, 0.05688900500535965, 0.1854618638753891, 0.08480262011289597, 0.023655449971556664], [0.005928963888436556, 0.003773880423977971, 0.004068790934979916, 0.005849891342222691, 0.0038711316883563995, 0.004315519705414772], [0.9540067315101624, 0.04297030344605446, 0.9203561544418335, 0.003961714915931225, 0.2944062650203705, 0.004952265415340662], [0.008559023030102253, 0.003226466244086623, 0.003310457104817033, 0.005493711680173874, 0.004074351396411657, 0.004096355754882097], [0.9930055737495422, 0.26330775022506714, 0.9789390563964844, 0.015831731259822845, 0.9009386301040649, 0.026446891948580742], [0.007358173374086618, 0.003165250876918435, 0.004005070310086012, 0.004759528208523989, 0.0039360239170491695, 0.0038412101566791534], [0.10348782688379288, 0.0021752931643277407, 0.004612266086041927, 0.005563067737966776, 0.007478935178369284, 0.003316387301310897], [0.925349235534668, 0.0068708546459674835, 0.3048044443130493, 0.0031277895905077457, 0.09158874303102493, 0.008201668038964272], [0.9807844161987305, 0.1533696949481964, 0.9462802410125732, 0.022881727665662766, 0.6592222452163696, 0.00836002267897129], [0.992856502532959, 0.40597420930862427, 0.9868157505989075, 0.01846376433968544, 0.9339110851287842, 0.03423576056957245], [0.00649937242269516, 0.0035135778598487377, 0.0038360131438821554, 0.005224589258432388, 0.0036950954236090183, 0.004198203328996897], [0.9905785918235779, 0.04956092685461044, 0.8064632415771484, 0.007155826315283775, 0.8968178033828735, 0.022615477442741394], [0.006001439411193132, 0.003450236516073346, 0.003717050887644291, 0.005195945035666227, 0.003893729532137513, 0.004118709824979305], [0.0059560751542449, 0.003743938636034727, 0.004056726116687059, 0.005727780517190695, 0.003854211885482073, 0.004174870904535055], [0.9783046245574951, 0.6425489783287048, 0.9845263957977295, 0.08302759379148483, 0.7949272394180298, 0.033713579177856445], [0.005968272220343351, 0.003230463247746229, 0.003701538546010852, 0.005127867683768272, 0.0037723297718912363, 0.004732942208647728], [0.9916068315505981, 0.2960176467895508, 0.9728195071220398, 0.0265839621424675, 0.9246097803115845, 0.022789927199482918], [0.8108438849449158, 0.0028135625179857016, 0.112144835293293, 0.001866926089860499, 0.04527554288506508, 0.006011394318193197], [0.11138595640659332, 0.0017797768814489245, 0.0038361079059541225, 0.003687554970383644, 0.007561820559203625, 0.003899309551343322], [0.9752589464187622, 0.05776397883892059, 0.8835939764976501, 0.007321101147681475, 0.7999728918075562, 0.008224090561270714], [0.9570587873458862, 0.19331508874893188, 0.5964124798774719, 0.47216787934303284, 0.5377160310745239, 0.04578778147697449], [0.9904997944831848, 0.24693113565444946, 0.985181450843811, 0.008392044343054295, 0.8324320912361145, 0.021906841546297073], [0.022530097514390945, 0.002208175603300333, 0.003238705452531576, 0.0035653726663440466, 0.00449799932539463, 0.005172476638108492], [0.008905935101211071, 0.003149363910779357, 0.004535086918622255, 0.004825655370950699, 0.0037415598053485155, 0.003764932509511709], [0.9852979779243469, 0.5070108771324158, 0.9373714923858643, 0.4053727984428406, 0.8953650593757629, 0.06683716922998428], [0.025506101548671722, 0.002320441883057356, 0.004462266806513071, 0.004497666377574205, 0.004270470235496759, 0.0032589577604085207], [0.005179503932595253, 0.0036690703127533197, 0.0034054075367748737, 0.0055425530299544334, 0.004361557774245739, 0.004951793234795332], [0.9659565091133118, 0.013345085084438324, 0.20357279479503632, 0.009200633503496647, 0.6814295649528503, 0.007828748784959316], [0.0069612767547369, 0.003500559600070119, 0.003765955800190568, 0.0053845117799937725, 0.0037334689404815435, 0.0044164760038256645], [0.00960486102849245, 0.0030325788538903, 0.0033743088133633137, 0.005237641744315624, 0.0035757310688495636, 0.005431098863482475], [0.9790928363800049, 0.022989841178059578, 0.7883647084236145, 0.0035351738333702087, 0.6942084431648254, 0.00943137425929308], [0.9929882884025574, 0.19905385375022888, 0.9722075462341309, 0.012629443779587746, 0.9082055687904358, 0.03267613798379898], [0.9929057359695435, 0.4493693709373474, 0.981890082359314, 0.03356727957725525, 0.9412049055099487, 0.030543792992830276], [0.008907891809940338, 0.003438041778281331, 0.004174060188233852, 0.005648246966302395, 0.0038398620672523975, 0.004041935782879591], [0.9115527272224426, 0.03867820277810097, 0.8646292686462402, 0.009369135834276676, 0.10232842713594437, 0.008451579138636589], [0.9805277585983276, 0.16744445264339447, 0.9660710096359253, 0.014187736436724663, 0.5904707908630371, 0.009216051548719406], [0.9843448996543884, 0.08421754091978073, 0.9404543042182922, 0.007006054278463125, 0.7731337547302246, 0.0076041454449296], [0.9527046084403992, 0.016549622640013695, 0.6230865716934204, 0.0032356218434870243, 0.1686493456363678, 0.02034098282456398], [0.9234994053840637, 0.0033489970955997705, 0.0658615231513977, 0.003089164849370718, 0.2122187614440918, 0.004339086823165417], [0.007339910604059696, 0.0035616678651422262, 0.004034433513879776, 0.0057633547112345695, 0.003855306887999177, 0.003977091051638126], [0.7573521137237549, 0.002129081403836608, 0.013870983384549618, 0.004122987389564514, 0.0446813702583313, 0.008639606647193432], [0.012972901575267315, 0.002805021358653903, 0.003595886053517461, 0.005091255996376276, 0.0036325263790786266, 0.004209847189486027], [0.8619921207427979, 0.0034359151031821966, 0.023302650079131126, 0.005849650129675865, 0.19310308992862701, 0.015010671690106392], [0.10950973629951477, 0.0020239015575498343, 0.0037591212894767523, 0.0050306664779782295, 0.006909270770847797, 0.003830911125987768], [0.006261737085878849, 0.003547506406903267, 0.003884214675053954, 0.005597563926130533, 0.0037547131069004536, 0.0042748660780489445], [0.9659141302108765, 0.007847973145544529, 0.13271905481815338, 0.004217822104692459, 0.6026622653007507, 0.01282492559403181], [0.005762120243161917, 0.0036276178434491158, 0.004233360290527344, 0.005365415476262569, 0.0038743086624890566, 0.003997011575847864], [0.8647943139076233, 0.08711915463209152, 0.16046205163002014, 0.5888177752494812, 0.20413297414779663, 0.0628308355808258], [0.994270920753479, 0.4328083395957947, 0.9836812019348145, 0.031030643731355667, 0.9655711650848389, 0.057921137660741806], [0.007589107844978571, 0.003373614279553294, 0.003917699214071035, 0.00536551745608449, 0.003646231023594737, 0.004258101340383291], [0.0060037835501134396, 0.003606054000556469, 0.003985573537647724, 0.005596281960606575, 0.003742857603356242, 0.004171907901763916], [0.006974963005632162, 0.0037825508043169975, 0.003945515491068363, 0.006432121153920889, 0.0036277540493756533, 0.004601918626576662], [0.8769352436065674, 0.003847036510705948, 0.05559518560767174, 0.0038572484627366066, 0.2824784517288208, 0.003950145095586777], [0.017657393589615822, 0.0026271797250956297, 0.003925194498151541, 0.004854322876781225, 0.003857274306938052, 0.00359455868601799], [0.7838033437728882, 0.002931873546913266, 0.011134086176753044, 0.010712262243032455, 0.04322143271565437, 0.010132363066077232], [0.00789551716297865, 0.00401062099263072, 0.004605568014085293, 0.006371743977069855, 0.0036517370026558638, 0.004410699475556612], [0.9007993936538696, 0.003434021957218647, 0.022158972918987274, 0.007326987572014332, 0.19802284240722656, 0.006575318984687328], [0.9678826332092285, 0.02232534810900688, 0.7751997709274292, 0.009337958879768848, 0.18975567817687988, 0.008812007494270802], [0.005607052240520716, 0.003610023995861411, 0.0037355050444602966, 0.005709162913262844, 0.003907457925379276, 0.004467029124498367], [0.005190212279558182, 0.00406630476936698, 0.004048479255288839, 0.006026094313710928, 0.003896996844559908, 0.0046134330332279205], [0.032210975885391235, 0.00239423755556345, 0.00402740016579628, 0.005221983417868614, 0.004096599295735359, 0.00349606154486537], [0.01931118778884411, 0.0024271090514957905, 0.004850840661674738, 0.0033998177386820316, 0.004116552881896496, 0.003781250212341547], [0.044264230877161026, 0.002942336956039071, 0.0038591341581195593, 0.007839137688279152, 0.004566139541566372, 0.012434589676558971], [0.007839882746338844, 0.0033973404206335545, 0.003978952299803495, 0.005432654172182083, 0.0037105109076946974, 0.004110879730433226], [0.008082819171249866, 0.0028397375717759132, 0.003565944964066148, 0.004409363958984613, 0.003935403190553188, 0.003826758824288845], [0.007853087037801743, 0.003039234783500433, 0.003576694754883647, 0.005049686413258314, 0.003722652792930603, 0.0041877506300807], [0.006266596727073193, 0.0033887377940118313, 0.004098738078027964, 0.005139611195772886, 0.0037030812818557024, 0.004611843731254339], [0.9922188520431519, 0.2123691737651825, 0.9564222097396851, 0.02130783163011074, 0.8325839638710022, 0.6015112996101379], [0.0060776895843446255, 0.003546924563124776, 0.003987372387200594, 0.005514222197234631, 0.0037874900735914707, 0.004082957282662392], [0.9830548763275146, 0.08725442737340927, 0.866886556148529, 0.013244221918284893, 0.8874185681343079, 0.012381312437355518], [0.005777975078672171, 0.0036662942729890347, 0.004201742820441723, 0.005457519553601742, 0.0035497895441949368, 0.0043745022267103195], [0.013481884263455868, 0.003013993613421917, 0.0040127490647137165, 0.005647365469485521, 0.003415728220716119, 0.006095071788877249], [0.006687951739877462, 0.0033133327960968018, 0.003809022018685937, 0.005183262284845114, 0.0038311094976961613, 0.004103158600628376], [0.005703948903828859, 0.0035502868704497814, 0.004072488751262426, 0.004998384043574333, 0.003983178175985813, 0.004118500277400017], [0.9831199645996094, 0.19093725085258484, 0.9670342206954956, 0.02231108956038952, 0.6404615044593811, 0.010685508139431477], [0.005729377269744873, 0.0037857794668525457, 0.004270934499800205, 0.005693571176379919, 0.003835054812952876, 0.004346971400082111], [0.03968854993581772, 0.00347598223015666, 0.004188223741948605, 0.011300475336611271, 0.0040491195395588875, 0.010953051038086414], [0.5958768725395203, 0.0031926757656037807, 0.008832852356135845, 0.013874232769012451, 0.023401938378810883, 0.005597184412181377], [0.9732811450958252, 0.04898655787110329, 0.23804233968257904, 0.04146229848265648, 0.555572509765625, 0.7083033919334412], [0.9224041700363159, 0.006134433671832085, 0.12673571705818176, 0.0036202557384967804, 0.542688250541687, 0.00875783059746027], [0.983562171459198, 0.13396260142326355, 0.97237229347229, 0.007871294394135475, 0.6210269331932068, 0.009523452259600163], [0.9930070638656616, 0.5131547451019287, 0.9808127284049988, 0.09487365931272507, 0.9316622614860535, 0.04765951260924339], [0.8048412799835205, 0.003836467396467924, 0.23013877868652344, 0.001298542250879109, 0.08699892461299896, 0.002680768957361579], [0.9272509813308716, 0.02623308077454567, 0.50281822681427, 0.011571820825338364, 0.058466508984565735, 0.0177154503762722], [0.028055356815457344, 0.002018257975578308, 0.003207501256838441, 0.0034231445752084255, 0.004849069286137819, 0.0034572358708828688], [0.7516871690750122, 0.004011384677141905, 0.03399448096752167, 0.015430426225066185, 0.03310657665133476, 0.004650521092116833], [0.8935421109199524, 0.007011984474956989, 0.01491754874587059, 0.02509114146232605, 0.11018101871013641, 0.08334188908338547], [0.007312792353332043, 0.0034353684168308973, 0.0033779137302190065, 0.006215146277099848, 0.0035645663738250732, 0.004907519556581974], [0.0058447993360459805, 0.003280504373833537, 0.003543299622833729, 0.004748394247144461, 0.004174109548330307, 0.004757026210427284], [0.008964854292571545, 0.0032902713865041733, 0.003075897693634033, 0.006151024252176285, 0.003583868034183979, 0.004895866848528385], [0.7130007147789001, 0.002376746153458953, 0.10572919994592667, 0.001307249185629189, 0.05374842509627342, 0.002907250542193651], [0.0051073357462882996, 0.0036279214546084404, 0.003916071727871895, 0.005247247405350208, 0.003804831998422742, 0.004812855739146471], [0.010912828147411346, 0.0026786101516336203, 0.0034334342926740646, 0.004304471891373396, 0.0038612186908721924, 0.004211156629025936], [0.9683107733726501, 0.010195629671216011, 0.20170943439006805, 0.004349479917436838, 0.5347005724906921, 0.11974003165960312], [0.006474486086517572, 0.0038623414002358913, 0.004201832693070173, 0.005931674037128687, 0.003812204347923398, 0.004432190675288439], [0.996161699295044, 0.672561526298523, 0.9929566383361816, 0.0737338587641716, 0.9538335204124451, 0.1731959581375122], [0.9828056693077087, 0.22246065735816956, 0.9752711057662964, 0.014066589064896107, 0.64930659532547, 0.010154390707612038], [0.9303896427154541, 0.004951152019202709, 0.06682570278644562, 0.004160190932452679, 0.38926705718040466, 0.006141030695289373], [0.113722063601017, 0.0023577699903398752, 0.0033529254142194986, 0.005092042963951826, 0.009408237412571907, 0.010080555453896523], [0.009433035738766193, 0.0035015444736927748, 0.004598038736730814, 0.005798726342618465, 0.003942230250686407, 0.003753883298486471], [0.26201313734054565, 0.0016140697989612818, 0.006176700349897146, 0.0025453639682382345, 0.01680859364569187, 0.004299633204936981], [0.010137860663235188, 0.0027092783711850643, 0.0031197001226246357, 0.004573523532599211, 0.004312447272241116, 0.0037778837140649557], [0.01983753591775894, 0.002796177752315998, 0.0034042198676615953, 0.00602305680513382, 0.003951346036046743, 0.0061511932872235775], [0.01426475215703249, 0.0022428296506404877, 0.0029211973305791616, 0.0037271457258611917, 0.004628498572856188, 0.00418435363098979], [0.9899487495422363, 0.1962813436985016, 0.9681558609008789, 0.013170580379664898, 0.8410220742225647, 0.010730220936238766], [0.9822137355804443, 0.39177486300468445, 0.9576366543769836, 0.20934085547924042, 0.7461519241333008, 0.03887208178639412], [0.78403240442276, 0.00633315509185195, 0.5089524388313293, 0.001716461731120944, 0.09905262291431427, 0.005899904761463404], [0.006720333360135555, 0.003453049110248685, 0.00406239228323102, 0.0053275334648787975, 0.0038190141785889864, 0.0037459135055541992], [0.45529311895370483, 0.002814345294609666, 0.005727156065404415, 0.011826196685433388, 0.02542356215417385, 0.004299930762499571], [0.9189406633377075, 0.005817807745188475, 0.1645505130290985, 0.0019684957806020975, 0.2389981597661972, 0.0629192367196083], [0.9428790211677551, 0.015915799885988235, 0.05018775165081024, 0.14242300391197205, 0.3057382106781006, 0.023153992369771004], [0.9213186502456665, 0.05647682026028633, 0.33707883954048157, 0.1220039501786232, 0.3074108362197876, 0.016348224133253098], [0.021915555000305176, 0.002229760866612196, 0.0030802537221461535, 0.004143198952078819, 0.004466117359697819, 0.003857673378661275], [0.856067419052124, 0.003725424874573946, 0.014409086667001247, 0.014054359868168831, 0.06531117111444473, 0.007674559019505978], [0.8837952613830566, 0.0052066994830966, 0.01466029230505228, 0.01213133055716753, 0.131766214966774, 0.04478244483470917], [0.19832606613636017, 0.002500621136277914, 0.005072727799415588, 0.009457743726670742, 0.009196430444717407, 0.004652134608477354], [0.05454522743821144, 0.0018072993261739612, 0.003179882885888219, 0.003457413287833333, 0.00580226257443428, 0.004890058189630508], [0.016878698021173477, 0.0024429718032479286, 0.0036466936580836773, 0.0047353594563901424, 0.004174860659986734, 0.0035928497090935707], [0.007459159940481186, 0.003554824274033308, 0.004295025486499071, 0.005840132478624582, 0.003513344330713153, 0.004625814966857433], [0.9175450801849365, 0.00479196198284626, 0.024730900302529335, 0.008760741911828518, 0.2756999135017395, 0.012387178838253021], [0.006615669000893831, 0.003872034838423133, 0.004513142164796591, 0.006002935115247965, 0.003906628582626581, 0.0042389980517327785], [0.7616193890571594, 0.0025406747590750456, 0.016306929290294647, 0.004524259362369776, 0.0647483617067337, 0.0036417802330106497], [0.005415545776486397, 0.004045743960887194, 0.00391820352524519, 0.006093653384596109, 0.003913105931133032, 0.004622198175638914], [0.0055943746119737625, 0.003883266355842352, 0.004209799226373434, 0.005845400504767895, 0.0039717210456728935, 0.004164460115134716], [0.9893814325332642, 0.43340712785720825, 0.9904707670211792, 0.020925411954522133, 0.7824236154556274, 0.0334245003759861], [0.007801743224263191, 0.0031391168013215065, 0.004100577440112829, 0.004799123387783766, 0.0038331826217472553, 0.003627649275586009], [0.9858859777450562, 0.36609983444213867, 0.9482994675636292, 0.23382079601287842, 0.7943397164344788, 0.04341358691453934], [0.007128434721380472, 0.00349495024420321, 0.003819286124780774, 0.005767610855400562, 0.003929594531655312, 0.004282346460968256], [0.02207811176776886, 0.002600122941657901, 0.013134323991835117, 0.0025117117911577225, 0.005175409838557243, 0.0035185583401471376], [0.4195038974285126, 0.00472633633762598, 0.28443706035614014, 0.0019860733300447464, 0.02912522852420807, 0.00370904803276062], [0.7985055446624756, 0.0034480614122003317, 0.06228281930088997, 0.0025645883288234472, 0.22932004928588867, 0.02114550955593586], [0.9859675765037537, 0.28327676653862, 0.9348356127738953, 0.14729084074497223, 0.794096827507019, 0.026793137192726135], [0.008327308110892773, 0.0027559888549149036, 0.003619901603087783, 0.004357985220849514, 0.0038298959843814373, 0.00405987910926342], [0.9958707690238953, 0.5024559497833252, 0.9847791790962219, 0.11100208759307861, 0.9500229954719543, 0.1428859978914261], [0.014875013381242752, 0.0026723169721663, 0.003516004653647542, 0.004871183540672064, 0.003991908393800259, 0.003683541901409626], [0.006661297753453255, 0.003388296579942107, 0.004213372711092234, 0.005069352220743895, 0.003880771342664957, 0.00373810064047575], [0.1024191752076149, 0.002018687082454562, 0.0054998742416501045, 0.00445001432672143, 0.006408225744962692, 0.00286378082819283], [0.005642981268465519, 0.0036109762731939554, 0.003951021004468203, 0.00532176299020648, 0.003933826461434364, 0.004219347145408392], [0.9758735299110413, 0.0350290946662426, 0.24792741239070892, 0.12684614956378937, 0.6166287660598755, 0.01718144305050373], [0.007325679995119572, 0.0032335235737264156, 0.0035458733327686787, 0.005237184464931488, 0.004041724838316441, 0.0038376152515411377], [0.9756174683570862, 0.4793758690357208, 0.8701186776161194, 0.6336793303489685, 0.8182485699653625, 0.10056912899017334], [0.06697005033493042, 0.0022377464920282364, 0.005192170385271311, 0.0056829070672392845, 0.005597949028015137, 0.0030129363294690847], [0.006247303914278746, 0.003697895212098956, 0.004406291991472244, 0.005117660854011774, 0.003890395862981677, 0.003920938353985548], [0.9529684782028198, 0.014922862872481346, 0.05607152730226517, 0.08984633535146713, 0.43999016284942627, 0.016004694625735283], [0.7656300663948059, 0.0024764402769505978, 0.044585783034563065, 0.002293035853654146, 0.11793512105941772, 0.003307522274553776], [0.01429118774831295, 0.002464562188833952, 0.0037858569994568825, 0.0042755077593028545, 0.003710577730089426, 0.0041395253501832485], [0.007796694990247488, 0.0031877520959824324, 0.0036689983680844307, 0.005064599681645632, 0.0037896980065852404, 0.004087299108505249], [0.005953063722699881, 0.0035413659643381834, 0.004062103107571602, 0.005632839165627956, 0.003666175762191415, 0.004476864356547594], [0.9744336605072021, 0.03027375601232052, 0.5655682682991028, 0.0062796249985694885, 0.8427450060844421, 0.16644281148910522], [0.9541624784469604, 0.004402873571962118, 0.09474387019872665, 0.005582666955888271, 0.1518653929233551, 0.013912593014538288], [0.9911511540412903, 0.5531724095344543, 0.9802274107933044, 0.07068319618701935, 0.9411996006965637, 0.03459245711565018], [0.9824631214141846, 0.032702844589948654, 0.5809763073921204, 0.020215557888150215, 0.6567538380622864, 0.006089089438319206], [0.007005815394222736, 0.003280738601461053, 0.003785563400015235, 0.0055176978930830956, 0.003493115771561861, 0.0046455771662294865], [0.007050349842756987, 0.0033093211241066456, 0.0038194218650460243, 0.005067775025963783, 0.0036980672739446163, 0.0040392279624938965], [0.9798091053962708, 0.06987549364566803, 0.9516456723213196, 0.004818870220333338, 0.43799281120300293, 0.009531515650451183], [0.006844613701105118, 0.0034283343702554703, 0.0037021085154265165, 0.00543855270370841, 0.003710482269525528, 0.004113406874239445], [0.2558036148548126, 0.002239038236439228, 0.007123060990124941, 0.006348500959575176, 0.008578028529882431, 0.005171303637325764], [0.9216856956481934, 0.008107180707156658, 0.019606200978159904, 0.044191766530275345, 0.17181867361068726, 0.04710688069462776], [0.007213178090751171, 0.0033423223067075014, 0.00396651029586792, 0.005386746022850275, 0.00361525546759367, 0.004430178087204695], [0.009171546436846256, 0.002980652963742614, 0.0038095286581665277, 0.0047465600073337555, 0.00399500597268343, 0.0036406833678483963], [0.8614543080329895, 0.05658801272511482, 0.10190396755933762, 0.512865424156189, 0.15638865530490875, 0.05242341756820679], [0.008301987312734127, 0.0030124906916171312, 0.004226673860102892, 0.004278702195733786, 0.00376697420142591, 0.0035960690584033728], [0.976439893245697, 0.027884678915143013, 0.16331025958061218, 0.06898278743028641, 0.6480189561843872, 0.02013414166867733], [0.9951230883598328, 0.5179101824760437, 0.9728570580482483, 0.2898184061050415, 0.9381298422813416, 0.18566323816776276], [0.007750889286398888, 0.003081045811995864, 0.00363379018381238, 0.004105234052985907, 0.00427171541377902, 0.003945178352296352], [0.006775755900889635, 0.0029916169587522745, 0.0036138149444013834, 0.004585885442793369, 0.004104669205844402, 0.004047352820634842], [0.006775387097150087, 0.0034090476110577583, 0.0036463660653680563, 0.005608347710222006, 0.0037604623939841986, 0.004148890729993582], [0.2839561700820923, 0.003415467217564583, 0.005948434583842754, 0.016433140262961388, 0.014636121690273285, 0.004506017547100782], [0.0065513416193425655, 0.0035063493996858597, 0.0037523091305047274, 0.0055519514717161655, 0.004039145540446043, 0.0041635604575276375], [0.0092293880879879, 0.003111292375251651, 0.0036629722453653812, 0.00569339282810688, 0.003573713358491659, 0.005031003151088953], [0.010343565605580807, 0.0029403541702777147, 0.003718834836035967, 0.004491240717470646, 0.0038394201546907425, 0.004644014406949282], [0.9929904937744141, 0.2808385491371155, 0.9822465181350708, 0.015288074500858784, 0.8885700702667236, 0.022648237645626068], [0.9913888573646545, 0.36612072587013245, 0.9841676354408264, 0.02140606753528118, 0.8439467549324036, 0.022448386996984482], [0.009044436737895012, 0.0032963003031909466, 0.0032718596048653126, 0.006425110157579184, 0.0036597594153136015, 0.004723076242953539], [0.9454050064086914, 0.01658020354807377, 0.115496926009655, 0.015066668391227722, 0.21512772142887115, 0.3452650010585785], [0.8662219047546387, 0.004782590549439192, 0.020869294181466103, 0.022772474214434624, 0.0799400731921196, 0.006559863220900297], [0.005885661579668522, 0.0035127114970237017, 0.004127779044210911, 0.005041054915636778, 0.004014344420284033, 0.003969148267060518], [0.8958423733711243, 0.013346939347684383, 0.02494601160287857, 0.12102457135915756, 0.09658384323120117, 0.04448835924267769], [0.0071860989555716515, 0.003574088681489229, 0.004145713988691568, 0.0055080619640648365, 0.0037907464429736137, 0.004001682624220848], [0.9518852829933167, 0.008018381893634796, 0.5395219326019287, 0.0017997168470174074, 0.39246800541877747, 0.005049659870564938], [0.007358253933489323, 0.002972619142383337, 0.0038735249545425177, 0.004460631404072046, 0.0040090191178023815, 0.0037101865746080875], [0.018267935141921043, 0.0025344504974782467, 0.0037746960297226906, 0.004371620249003172, 0.0042309947311878204, 0.0033031555358320475], [0.7279443740844727, 0.0028341247234493494, 0.1482345014810562, 0.001582346623763442, 0.08393162488937378, 0.003912291955202818], [0.005753679201006889, 0.0035234636161476374, 0.004132225178182125, 0.0051175979897379875, 0.003855226095765829, 0.003972513135522604], [0.9362527132034302, 0.04017207771539688, 0.6234984397888184, 0.005077697336673737, 0.7180600166320801, 0.21084634959697723], [0.0076333265751600266, 0.0029876388143748045, 0.0032405455131083727, 0.005261366255581379, 0.003752337535843253, 0.005169013049453497], [0.9636188745498657, 0.038188159465789795, 0.6463932394981384, 0.008034376427531242, 0.4301203489303589, 0.4113437533378601], [0.009824483655393124, 0.002956974785774946, 0.0036316742189228535, 0.005296747200191021, 0.003674788400530815, 0.003979513421654701], [0.9335461854934692, 0.015462508425116539, 0.0743236169219017, 0.13776542246341705, 0.16026297211647034, 0.020682228729128838], [0.16985297203063965, 0.001957276836037636, 0.004987349733710289, 0.0039221360348165035, 0.010217220522463322, 0.005898624192923307], [0.9930591583251953, 0.47251152992248535, 0.9831762313842773, 0.04938644543290138, 0.9097673296928406, 0.03835618868470192], [0.009378527291119099, 0.0031194258481264114, 0.0035215355455875397, 0.005131546873599291, 0.00402802973985672, 0.004315293859690428], [0.8260842561721802, 0.002994379960000515, 0.01023212168365717, 0.00741680059581995, 0.08936169743537903, 0.013843049295246601], [0.013632827438414097, 0.0028886301442980766, 0.0035373109858483076, 0.005661827512085438, 0.004152344074100256, 0.0037137113977223635], [0.6761116981506348, 0.006465293932706118, 0.03752598911523819, 0.013799179345369339, 0.027641914784908295, 0.0051901089027523994], [0.991936445236206, 0.129533588886261, 0.9645076990127563, 0.008586427196860313, 0.85130774974823, 0.017710283398628235], [0.007275915704667568, 0.003371886909008026, 0.0042887800373137, 0.005079899448901415, 0.0036452177446335554, 0.0037322042044252157], [0.013737866654992104, 0.002595545258373022, 0.0035143473651260138, 0.004276776686310768, 0.004180008079856634, 0.0033619378227740526], [0.9752607941627502, 0.14642171561717987, 0.9725980758666992, 0.010241963900625706, 0.4316405653953552, 0.01271327119320631], [0.9273602962493896, 0.04311191290616989, 0.13141213357448578, 0.40899577736854553, 0.2225188910961151, 0.04587167128920555], [0.2144121527671814, 0.001823793281801045, 0.00522388331592083, 0.004395592957735062, 0.011369793675839901, 0.0033192902337759733], [0.007272675633430481, 0.0031443722546100616, 0.0036192138213664293, 0.004774218425154686, 0.0037731630727648735, 0.004225190728902817], [0.9177647829055786, 0.007993490435183048, 0.5264002084732056, 0.0021755737252533436, 0.11692848056554794, 0.0044226027093827724], [0.9908333420753479, 0.18945059180259705, 0.9699371457099915, 0.013662430457770824, 0.8797054290771484, 0.015464031137526035], [0.005852176807820797, 0.0043491036631166935, 0.004693132825195789, 0.006232286337763071, 0.004111190792173147, 0.004209886770695448], [0.014554319903254509, 0.0024733205791562796, 0.003804589854553342, 0.0038761808536946774, 0.0037711653858423233, 0.0035295963753014803], [0.006810398306697607, 0.0032462766394019127, 0.0037222972605377436, 0.005323370918631554, 0.0036631166003644466, 0.004536316264420748], [0.9161296486854553, 0.006627609021961689, 0.02447153627872467, 0.008645869791507721, 0.19036738574504852, 0.08290308713912964], [0.9641205072402954, 0.018050944432616234, 0.36886799335479736, 0.006404030602425337, 0.7680521011352539, 0.008404831402003765], [0.9941629767417908, 0.18478263914585114, 0.9565362930297852, 0.015927894040942192, 0.9542819857597351, 0.04816698655486107], [0.9942529797554016, 0.1207076758146286, 0.9305974245071411, 0.02997017838060856, 0.7938452959060669, 0.3206162750720978], [0.009645014069974422, 0.00284390477463603, 0.0037567715626209974, 0.004197073169052601, 0.003956406842917204, 0.00482942396774888], [0.007794123608618975, 0.0031360953580588102, 0.003322904696688056, 0.005220549181103706, 0.0037437714636325836, 0.004544368479400873], [0.9114905595779419, 0.016452226787805557, 0.6868725419044495, 0.004500378854572773, 0.09481213241815567, 0.007385959383100271], [0.9810519218444824, 0.01603330671787262, 0.28443658351898193, 0.006538666784763336, 0.7777135372161865, 0.07382811605930328], [0.007153523154556751, 0.0037172313313931227, 0.004289735108613968, 0.005929585080593824, 0.0038205378223210573, 0.0044859712943434715], [0.007327105849981308, 0.003442099317908287, 0.00363665702752769, 0.005684383679181337, 0.004111338406801224, 0.003858100390061736], [0.9908808469772339, 0.4845821261405945, 0.9811654090881348, 0.07301786541938782, 0.8813018202781677, 0.030228493735194206], [0.9527742266654968, 0.008737091906368732, 0.11086034029722214, 0.011946595273911953, 0.5270562767982483, 0.005905372090637684], [0.9629704356193542, 0.05197889730334282, 0.48480644822120667, 0.020855404436588287, 0.6081763505935669, 0.7153987288475037], [0.9808318018913269, 0.06581149250268936, 0.5996749997138977, 0.022297430783510208, 0.8581975102424622, 0.6424288153648376], [0.01038762740790844, 0.003241694299504161, 0.0038729398511350155, 0.00484296353533864, 0.004768664017319679, 0.0039030874613672495], [0.007117937318980694, 0.002995922230184078, 0.0038923427928239107, 0.004473651759326458, 0.004076813347637653, 0.003714253194630146], [0.9604163765907288, 0.01517769880592823, 0.26176920533180237, 0.04240327328443527, 0.20098146796226501, 0.00903396774083376], [0.006162271834909916, 0.003600163385272026, 0.004209413193166256, 0.0055183363147079945, 0.0037360480055212975, 0.0038735081907361746], [0.0061371237970888615, 0.003908423241227865, 0.004452082794159651, 0.006049669813364744, 0.0038034531753510237, 0.004580001346766949], [0.9740391373634338, 0.23704084753990173, 0.9715515375137329, 0.020551251247525215, 0.46850141882896423, 0.015504683367908001], [0.9906388521194458, 0.17849692702293396, 0.9646422266960144, 0.013119104318320751, 0.9140688180923462, 0.022312335669994354], [0.03355509787797928, 0.002431530272588134, 0.0033152576070278883, 0.005011777393519878, 0.004891032353043556, 0.006408222485333681], [0.9908586144447327, 0.26567786931991577, 0.9677289128303528, 0.02336580865085125, 0.8858943581581116, 0.015199001878499985], [0.11229207366704941, 0.0026317653246223927, 0.0034364117309451103, 0.009115402586758137, 0.007703224662691355, 0.004211770370602608], [0.006669648457318544, 0.0035579889081418514, 0.0038426772225648165, 0.005402375943958759, 0.00390775827690959, 0.004235686268657446], [0.01136820763349533, 0.003160092979669571, 0.0037357734981924295, 0.0057288119569420815, 0.004028377588838339, 0.0037975646555423737], [0.9909628033638, 0.5162996649742126, 0.985105037689209, 0.03595486655831337, 0.9356293082237244, 0.029054582118988037], [0.9907110333442688, 0.38266104459762573, 0.9753698706626892, 0.035319019109010696, 0.9233635067939758, 0.02143765613436699], [0.041467513889074326, 0.0019879615865647793, 0.005086014978587627, 0.0029279778245836496, 0.005634855944663286, 0.002816620981320739], [0.006910379510372877, 0.003456587204709649, 0.004204295575618744, 0.0052804420702159405, 0.003860842902213335, 0.0037398519925773144], [0.010665801353752613, 0.0028385347686707973, 0.0036208974197506905, 0.004533206578344107, 0.003919130656868219, 0.0038568417076021433], [0.9754796624183655, 0.0378015860915184, 0.8642324805259705, 0.0037419742438942194, 0.7549470663070679, 0.022635243833065033], [0.992495059967041, 0.7965569496154785, 0.9724675416946411, 0.7886289954185486, 0.9451128244400024, 0.6554491519927979], [0.9740948677062988, 0.1447426676750183, 0.9641093015670776, 0.010540716350078583, 0.519710123538971, 0.008604012429714203], [0.9856438636779785, 0.10913337767124176, 0.9572896957397461, 0.01078406348824501, 0.606174111366272, 0.01185833290219307], [0.020663119852542877, 0.0023382497020065784, 0.003359107533469796, 0.004479212686419487, 0.003943761810660362, 0.004023093264549971], [0.9953721165657043, 0.2945265769958496, 0.973251223564148, 0.02858101762831211, 0.9644153118133545, 0.1298976093530655], [0.01165709737688303, 0.003121297573670745, 0.003915535751730204, 0.005444583483040333, 0.003846906591206789, 0.0038633195217698812], [0.702452540397644, 0.012971222400665283, 0.018994778394699097, 0.15122774243354797, 0.057771749794483185, 0.023224812000989914], [0.9761441349983215, 0.011203991249203682, 0.22905662655830383, 0.006669417954981327, 0.37845665216445923, 0.08966711908578873], [0.9636503458023071, 0.08074719458818436, 0.9411846995353699, 0.007440850138664246, 0.2941094934940338, 0.010730571113526821], [0.007718471810221672, 0.002955881180241704, 0.0034379076678305864, 0.004549291450530291, 0.0037976636085659266, 0.004315945785492659], [0.9897114038467407, 0.15806347131729126, 0.8778785467147827, 0.028248531743884087, 0.8843767642974854, 0.7008211612701416], [0.006269180215895176, 0.003515481948852539, 0.00388317066244781, 0.005250708665698767, 0.0038426024839282036, 0.004188042599707842], [0.005182485096156597, 0.003974411636590958, 0.004093079827725887, 0.005696954671293497, 0.0038646813482046127, 0.004313235636800528], [0.5039805769920349, 0.0036099727731198072, 0.14603757858276367, 0.0015243769157677889, 0.03461242467164993, 0.006693228147923946], [0.9911086559295654, 0.21296310424804688, 0.9754263162612915, 0.014156406745314598, 0.7757943868637085, 0.016310211271047592], [0.0061782607808709145, 0.0033055830281227827, 0.0035047857090830803, 0.004830212332308292, 0.004372077062726021, 0.0038792951963841915], [0.9864566326141357, 0.15772567689418793, 0.9416637420654297, 0.015429984778165817, 0.9007395505905151, 0.01319902017712593], [0.9511373043060303, 0.012094128876924515, 0.25751855969429016, 0.01329572033137083, 0.42471230030059814, 0.003923458978533745], [0.0069129555486142635, 0.003323105163872242, 0.0038266864139586687, 0.00486931623890996, 0.0037103062495589256, 0.004427360370755196], [0.9099609851837158, 0.01671423763036728, 0.05250740423798561, 0.033698372542858124, 0.16925017535686493, 0.34366464614868164], [0.7786880135536194, 0.002908107591792941, 0.015615690499544144, 0.005404915660619736, 0.12254400551319122, 0.004587823059409857], [0.009290606714785099, 0.003259689314290881, 0.0039276969619095325, 0.004914323799312115, 0.004276910796761513, 0.004039045888930559], [0.9915850162506104, 0.41028159856796265, 0.9802456498146057, 0.02730940841138363, 0.9274712204933167, 0.025727584958076477], [0.01967122219502926, 0.002374377567321062, 0.0029323825147002935, 0.004433195106685162, 0.004952044226229191, 0.0034480432514101267], [0.01709439978003502, 0.0022689762990921736, 0.003773657837882638, 0.0034635337069630623, 0.00448257802054286, 0.0031384530011564493], [0.010151083581149578, 0.002838833024725318, 0.003849248168990016, 0.004662973340600729, 0.004067525267601013, 0.004001685883849859], [0.8946533799171448, 0.0029602129943668842, 0.038994111120700836, 0.0033165719360113144, 0.16570332646369934, 0.008800633251667023], [0.1223144382238388, 0.003084546886384487, 0.0036847235169261694, 0.00819819699972868, 0.009241325780749321, 0.018933521583676338], [0.9948675632476807, 0.12010567635297775, 0.9377550482749939, 0.015850121155381203, 0.8681220412254333, 0.037908509373664856], [0.9464101791381836, 0.09560564905405045, 0.9459550976753235, 0.01328528393059969, 0.1878620833158493, 0.012949141673743725], [0.9855272769927979, 0.09153236448764801, 0.9477791786193848, 0.007471116725355387, 0.6547643542289734, 0.007801794447004795], [0.9533637166023254, 0.010390128009021282, 0.09552624821662903, 0.01352524384856224, 0.6281419992446899, 0.008551377803087234], [0.9708293080329895, 0.06418485194444656, 0.9447250962257385, 0.008048861287534237, 0.30409133434295654, 0.010041053406894207], [0.015124447643756866, 0.0028613517060875893, 0.003735295496881008, 0.005202260799705982, 0.004015503451228142, 0.0035663144662976265], [0.8862230181694031, 0.01970811001956463, 0.053545136004686356, 0.025821734219789505, 0.19149461388587952, 0.5033109188079834], [0.9955037236213684, 0.30048930644989014, 0.9762063026428223, 0.026469090953469276, 0.9609440565109253, 0.17411762475967407], [0.9336435198783875, 0.024759214371442795, 0.82783043384552, 0.0030819366220384836, 0.45683470368385315, 0.0047673424705863], [0.1536988466978073, 0.0016831059474498034, 0.01159419771283865, 0.002638774923980236, 0.0086127994582057, 0.0027335407212376595], [0.9815801978111267, 0.01557187456637621, 0.24639180302619934, 0.018684163689613342, 0.6894074082374573, 0.03431669622659683], [0.009049789048731327, 0.002936718752607703, 0.003902614815160632, 0.0045241410844028, 0.0037646752316504717, 0.003600113559514284], [0.03564366325736046, 0.002359971636906266, 0.0034442886244505644, 0.004082053899765015, 0.005291744600981474, 0.004638225305825472], [0.055873315781354904, 0.002338631311431527, 0.007130557671189308, 0.004015858750790358, 0.0059590148739516735, 0.0027610063552856445], [0.007449730299413204, 0.0035516719799488783, 0.004254716448485851, 0.005808281246572733, 0.0036098991986364126, 0.004403953906148672], [0.9159234166145325, 0.00411006435751915, 0.02623707987368107, 0.011772649362683296, 0.13071994483470917, 0.006895394995808601], [0.9751554727554321, 0.09210773557424545, 0.5572475790977478, 0.03643230348825455, 0.8273950219154358, 0.8056865930557251], [0.007816287688910961, 0.003297524293884635, 0.0041789524257183075, 0.005263068247586489, 0.003754453966394067, 0.003930095117539167], [0.03213623911142349, 0.0028753525111824274, 0.003310019616037607, 0.00495634600520134, 0.0065825870260596275, 0.017526676878333092], [0.008223763667047024, 0.002915133023634553, 0.0036320879589766264, 0.004553238395601511, 0.003997474908828735, 0.003623714903369546], [0.0061103543266654015, 0.0037040349561721087, 0.0039514885284006596, 0.00564810773357749, 0.003967633470892906, 0.004192864056676626], [0.7280673384666443, 0.003970634192228317, 0.2565856873989105, 0.0016683397116139531, 0.1189100593328476, 0.0037212716415524483], [0.7285224795341492, 0.00517124542966485, 0.40610331296920776, 0.001956387422978878, 0.09563718736171722, 0.004021838307380676], [0.9635229110717773, 0.010269436053931713, 0.04747381433844566, 0.015717720612883568, 0.37352752685546875, 0.12446251511573792], [0.007159093394875526, 0.0031653575133532286, 0.004324417095631361, 0.005007456056773663, 0.0036482340656220913, 0.003989651333540678], [0.011219226755201817, 0.003316988004371524, 0.0050895195454359055, 0.005437593441456556, 0.0037264854181557894, 0.00373354135081172], [0.012037248350679874, 0.0029882737435400486, 0.0036389282904565334, 0.0051252092234790325, 0.0039707873947918415, 0.003882307093590498], [0.21690024435520172, 0.0022774627432227135, 0.0035997286904603243, 0.00425388989970088, 0.015379197895526886, 0.009100203402340412], [0.5035489797592163, 0.0025781351141631603, 0.0054024625569581985, 0.007438054773956537, 0.020984822884202003, 0.015295613557100296], [0.00693332077935338, 0.0032436870969831944, 0.00401184381917119, 0.004683095961809158, 0.0038521909154951572, 0.004218543414026499], [0.028473395854234695, 0.0022141088265925646, 0.003194851102307439, 0.004387340974062681, 0.004847446922212839, 0.004027384798973799], [0.8636613488197327, 0.007317220792174339, 0.026612376794219017, 0.021004050970077515, 0.0737929716706276, 0.10633094608783722], [0.9956374764442444, 0.4969044625759125, 0.9837675094604492, 0.07606974989175797, 0.9443554282188416, 0.08934269100427628], [0.009223486296832561, 0.0029493088368326426, 0.003132305108010769, 0.004763150122016668, 0.004143574275076389, 0.004780003800988197], [0.9910414814949036, 0.5356844067573547, 0.975884199142456, 0.11419741809368134, 0.9218211770057678, 0.03596076741814613], [0.007576445117592812, 0.003341726725921035, 0.003941112197935581, 0.005035724025219679, 0.003819534555077553, 0.003940531983971596], [0.7936182022094727, 0.0031033135019242764, 0.01075019221752882, 0.005244191735982895, 0.09569723159074783, 0.015620103105902672], [0.9464762806892395, 0.01660376414656639, 0.04453682526946068, 0.1462952047586441, 0.2826705574989319, 0.02546287141740322], [0.9908779263496399, 0.3165036737918854, 0.9622368812561035, 0.04337327927350998, 0.9140419363975525, 0.01932942122220993], [0.005568361841142178, 0.004375021439045668, 0.004556671716272831, 0.006457692943513393, 0.003938019275665283, 0.004329787567257881], [0.9239156246185303, 0.077195905148983, 0.1726444959640503, 0.6374512314796448, 0.3300299048423767, 0.09419218450784683], [0.1165689155459404, 0.0019191991304978728, 0.004501581657677889, 0.003910863306373358, 0.008673615753650665, 0.002818307839334011], [0.012959158048033714, 0.002389928326010704, 0.003589496947824955, 0.0034038140438497066, 0.004652481526136398, 0.0033353406470268965], [0.9928598999977112, 0.09715460240840912, 0.8836686611175537, 0.0158487968146801, 0.7887571454048157, 0.02761259116232395], [0.9893747568130493, 0.11487258225679398, 0.8592977523803711, 0.027767706662416458, 0.9083115458488464, 0.5327338576316833], [0.009299542754888535, 0.003585467115044594, 0.0046904608607292175, 0.005005748011171818, 0.0038863499648869038, 0.003858566051349044], [0.9913594126701355, 0.3930933177471161, 0.9788119196891785, 0.034366168081760406, 0.9152345657348633, 0.020608723163604736], [0.006678955163806677, 0.003645612858235836, 0.0035779913887381554, 0.005709425080567598, 0.003823441220447421, 0.004788222257047892], [0.0066624837927520275, 0.0036757781635969877, 0.0041353446431458, 0.005183719098567963, 0.0038871581200510263, 0.0038075712509453297], [0.00613113259896636, 0.0035091363824903965, 0.003669097786769271, 0.005671790335327387, 0.0039036681409925222, 0.0042472584173083305], [0.973289966583252, 0.0645972341299057, 0.9366461038589478, 0.008912710472941399, 0.3498145639896393, 0.00723287696018815], [0.009262598119676113, 0.002934311516582966, 0.0036460254341363907, 0.004975919611752033, 0.0037444315385073423, 0.003796069184318185], [0.47299233078956604, 0.005601698067039251, 0.33618348836898804, 0.002051023533567786, 0.025681214407086372, 0.0035402080975472927], [0.006032855715602636, 0.0036692616995424032, 0.003683701390400529, 0.00594182126224041, 0.0038599756080657244, 0.00442813616245985], [0.9205592274665833, 0.004070402123034, 0.08860661834478378, 0.0031167888082563877, 0.33896586298942566, 0.006789815612137318], [0.018946683034300804, 0.002363338600844145, 0.0036841928958892822, 0.0038704921025782824, 0.004542028531432152, 0.003058747388422489], [0.9828588366508484, 0.012928752228617668, 0.34978416562080383, 0.004272149410098791, 0.697374701499939, 0.01911620981991291], [0.008462478406727314, 0.0032193614169955254, 0.004006046336144209, 0.005165447015315294, 0.0035421682987362146, 0.0038745757192373276], [0.012744288891553879, 0.0025634602643549442, 0.0030996438581496477, 0.004471477586776018, 0.004398410674184561, 0.003790679620578885], [0.024197453632950783, 0.002297470346093178, 0.00358786853030324, 0.004206526093184948, 0.004034101963043213, 0.004103548359125853], [0.9738962650299072, 0.020375780761241913, 0.6597884297370911, 0.005445022135972977, 0.5219863057136536, 0.00402606138959527], [0.009267237968742847, 0.0030288773123174906, 0.003319530049338937, 0.005418700166046619, 0.003826767671853304, 0.0039572748355567455], [0.9803500175476074, 0.015150686725974083, 0.23876991868019104, 0.007382573094218969, 0.8030868172645569, 0.051955707371234894], [0.8625651001930237, 0.09636737406253815, 0.14365673065185547, 0.649154007434845, 0.21995826065540314, 0.07711829245090485], [0.006475059315562248, 0.0039681498892605305, 0.0046712420880794525, 0.005840987898409367, 0.003889437299221754, 0.003985715564340353], [0.9655088186264038, 0.008388767018914223, 0.370404988527298, 0.0039043501019477844, 0.4474950432777405, 0.005945723503828049], [0.9863211512565613, 0.24215441942214966, 0.9791439175605774, 0.012765694409608841, 0.7333101630210876, 0.012002496980130672], [0.9293883442878723, 0.003965455573052168, 0.02287694439291954, 0.010235420428216457, 0.18981344997882843, 0.015793008729815483], [0.007541821338236332, 0.0029840741772204638, 0.0032989555038511753, 0.0047480580396950245, 0.0038634533993899822, 0.004219875670969486], [0.2926299571990967, 0.0018828866304829717, 0.004710205364972353, 0.00425476860255003, 0.012771205976605415, 0.0051286532543599606], [0.9895213842391968, 0.43778496980667114, 0.9871806502342224, 0.019165566191077232, 0.884468674659729, 0.024421049281954765], [0.12172093987464905, 0.0022231044713407755, 0.005035633686929941, 0.004756364971399307, 0.00884228851646185, 0.0027626610826700926], [0.9668322801589966, 0.009988595731556416, 0.09977084398269653, 0.02159489132463932, 0.5306938290596008, 0.02120565064251423], [0.9756575226783752, 0.023306595161557198, 0.7043414115905762, 0.003980057779699564, 0.6603894829750061, 0.005496362689882517], [0.9658085107803345, 0.011466693133115768, 0.32442983984947205, 0.003613679436966777, 0.774114191532135, 0.027802521362900734], [0.016288481652736664, 0.0021425995510071516, 0.003094577929005027, 0.003383314935490489, 0.004738626070320606, 0.004077291581779718], [0.9911534190177917, 0.3732132315635681, 0.9773653745651245, 0.030642405152320862, 0.9012090563774109, 0.0187849011272192], [0.005522902123630047, 0.0039781625382602215, 0.004081265069544315, 0.005799894221127033, 0.003921819385141134, 0.004160923883318901], [0.9658510684967041, 0.04462030902504921, 0.11218392848968506, 0.08551524579524994, 0.4878633916378021, 0.6274802684783936], [0.9644376039505005, 0.025177326053380966, 0.868836522102356, 0.0023808968253433704, 0.34841492772102356, 0.011756528168916702], [0.06729181110858917, 0.002376006916165352, 0.00402823043987155, 0.006340943276882172, 0.005897947587072849, 0.003622607560828328], [0.020335447043180466, 0.002357728546485305, 0.007238162215799093, 0.0029188026674091816, 0.004249961115419865, 0.0027998655568808317], [0.9933617115020752, 0.12644100189208984, 0.9459807276725769, 0.012841327115893364, 0.739770770072937, 0.020096661522984505], [0.7735437154769897, 0.0026237894780933857, 0.030186263844370842, 0.00286730844527483, 0.13562753796577454, 0.0033736994955688715], [0.9776993989944458, 0.14787866175174713, 0.8940194845199585, 0.08907352387905121, 0.5534291863441467, 0.014178464189171791], [0.024020308628678322, 0.002185709308832884, 0.0038905127439647913, 0.0036571223754435778, 0.00508855888620019, 0.002991673769429326], [0.008239814080297947, 0.0034587641712278128, 0.00376825500279665, 0.005498035345226526, 0.003843141021206975, 0.00397743284702301], [0.8887428045272827, 0.011593902483582497, 0.021679461002349854, 0.033177848905324936, 0.11802724748849869, 0.20366202294826508], [0.8624997735023499, 0.006237788125872612, 0.4157612919807434, 0.002983399201184511, 0.08407537639141083, 0.004434988368302584], [0.008306228555738926, 0.0033168101217597723, 0.004121117759495974, 0.0054035186767578125, 0.0037815177347511053, 0.0038883292581886053], [0.007048680447041988, 0.0030281038489192724, 0.004163104109466076, 0.004020459484308958, 0.003946834709495306, 0.003945474047213793], [0.27206194400787354, 0.0019627204164862633, 0.004918084014207125, 0.004336226265877485, 0.015967609360814095, 0.0034647451248019934], [0.012807889841496944, 0.0029079958330839872, 0.003716221312060952, 0.005187337752431631, 0.003955433610826731, 0.0036191395483911037], [0.009087665006518364, 0.0030935879331082106, 0.003691597143188119, 0.005331732332706451, 0.003939107991755009, 0.0039450302720069885], [0.23872482776641846, 0.0018802842823788524, 0.005520438309758902, 0.003963173367083073, 0.010472841560840607, 0.003801714163273573], [0.7690269947052002, 0.00600412767380476, 0.024265935644507408, 0.01893458515405655, 0.03776480630040169, 0.05574723705649376], [0.009704296477138996, 0.0035605882294476032, 0.003978912718594074, 0.0063989474438130856, 0.0036425935104489326, 0.005169680342078209], [0.9899903535842896, 0.5436203479766846, 0.9703741669654846, 0.12952817976474762, 0.9316785335540771, 0.04119253158569336], [0.9690150022506714, 0.021599022671580315, 0.18811115622520447, 0.0883803740143776, 0.29066917300224304, 0.012139402329921722], [0.6775364875793457, 0.008050970733165741, 0.4865713119506836, 0.003684242255985737, 0.03438287228345871, 0.0048843324184417725], [0.8573800325393677, 0.003603613469749689, 0.014434692449867725, 0.012404645793139935, 0.08811087906360626, 0.006791385356336832], [0.007856082171201706, 0.003110158257186413, 0.0034436192363500595, 0.005235996562987566, 0.003883408149704337, 0.003925753757357597], [0.9914131164550781, 0.18008174002170563, 0.9792578816413879, 0.010844488628208637, 0.6225759983062744, 0.09909152239561081], [0.01815636083483696, 0.002909049391746521, 0.0031393240205943584, 0.005418666638433933, 0.004654272459447384, 0.007572433911263943], [0.015041732229292393, 0.0026560600381344557, 0.0037658719811588526, 0.004793843254446983, 0.0038612373173236847, 0.003590574488043785], [0.005817645229399204, 0.004055092576891184, 0.004075398202985525, 0.006391151808202267, 0.00386099168099463, 0.004410795867443085], [0.005508338566869497, 0.0037188613787293434, 0.003907185047864914, 0.005772750824689865, 0.0037987716495990753, 0.0044554551132023335], [0.9668114185333252, 0.10252530127763748, 0.9581543803215027, 0.0077041140757501125, 0.33210375905036926, 0.01094395387917757], [0.007304624188691378, 0.003053695661947131, 0.004063069354742765, 0.004584555979818106, 0.0038540249224752188, 0.0038162937853485346], [0.6925811767578125, 0.002489017089828849, 0.015287951566278934, 0.0038732229731976986, 0.08912854641675949, 0.0034098641481250525], [0.975945770740509, 0.27439096570014954, 0.9564757347106934, 0.0698159784078598, 0.6116522550582886, 0.019160309806466103], [0.9819834232330322, 0.02282397635281086, 0.817609429359436, 0.0018884632736444473, 0.4724087119102478, 0.010690267197787762], [0.6653434634208679, 0.00250478507950902, 0.03197567164897919, 0.00682947039604187, 0.028034234419465065, 0.003470163093879819], [0.9808686971664429, 0.03307884931564331, 0.6289494037628174, 0.009357697330415249, 0.8733559250831604, 0.023980766534805298], [0.8475472927093506, 0.002877862425521016, 0.01769663393497467, 0.005831169430166483, 0.11791092902421951, 0.011061107739806175], [0.9717976450920105, 0.08894575387239456, 0.42916181683540344, 0.05855106934905052, 0.7792257070541382, 0.8371241092681885], [0.007086869794875383, 0.0034339793492108583, 0.004351671319454908, 0.005179941188544035, 0.0037261545658111572, 0.004047687165439129], [0.9911355972290039, 0.32174474000930786, 0.9786738753318787, 0.0256324615329504, 0.8525485396385193, 0.018421592190861702], [0.7076465487480164, 0.0023985716979950666, 0.010189365595579147, 0.005940291564911604, 0.03842505067586899, 0.005595069844275713], [0.006996043026447296, 0.0040447525680065155, 0.0035627561155706644, 0.0070205191150307655, 0.003995836712419987, 0.004866758827120066], [0.005070003680884838, 0.003963685594499111, 0.0040875393897295, 0.006307944189757109, 0.003692547557875514, 0.004962073173373938], [0.9830744862556458, 0.2789080739021301, 0.9791945815086365, 0.02040749043226242, 0.630329430103302, 0.015077506192028522], [0.9479636549949646, 0.0041076913475990295, 0.0626884400844574, 0.00946767907589674, 0.11755506694316864, 0.009556248784065247], [0.05059078708291054, 0.0019452215638011694, 0.0036131383385509253, 0.0037799517158418894, 0.005757887382060289, 0.0033694389276206493], [0.005483082961291075, 0.0035907095298171043, 0.00364502239972353, 0.005484627094119787, 0.0037278684321790934, 0.00460628280416131], [0.01309141330420971, 0.002299505053088069, 0.0034775561653077602, 0.003798442892730236, 0.0041471850126981735, 0.0036915759555995464], [0.007232822012156248, 0.0035600773990154266, 0.0037032344844192266, 0.0055367182940244675, 0.003909484948962927, 0.004480329342186451], [0.9898236393928528, 0.7114720344543457, 0.9670124650001526, 0.6852836012840271, 0.9298173785209656, 0.33815017342567444], [0.9829760789871216, 0.19478526711463928, 0.9673759341239929, 0.03282554820179939, 0.608532190322876, 0.01360364630818367], [0.949490487575531, 0.32340630888938904, 0.7391985654830933, 0.6111013889312744, 0.5951833128929138, 0.08915188163518906], [0.9718785285949707, 0.2058975249528885, 0.9744476079940796, 0.017039861530065536, 0.4086611866950989, 0.016297515481710434], [0.014606421813368797, 0.002343825763091445, 0.003833119058981538, 0.0033817063085734844, 0.004122259095311165, 0.0036277989856898785], [0.9060673713684082, 0.03779957816004753, 0.050759896636009216, 0.13319244980812073, 0.20110979676246643, 0.5121332406997681], [0.9832916855812073, 0.12213288247585297, 0.9651144742965698, 0.007741217501461506, 0.7265967130661011, 0.008670864626765251], [0.8983708620071411, 0.0043237353675067425, 0.04463726282119751, 0.007682865019887686, 0.2756473422050476, 0.0041250670328736305], [0.005393313243985176, 0.004114917013794184, 0.0042625050991773605, 0.006110933609306812, 0.0038631027564406395, 0.004605180583894253], [0.9466234445571899, 0.006333829369395971, 0.07220795005559921, 0.008896945975720882, 0.42280179262161255, 0.005848113913089037], [0.9061222672462463, 0.005650986917316914, 0.03081321343779564, 0.011023906990885735, 0.3159792125225067, 0.008306393399834633], [0.7336301207542419, 0.0021751783788204193, 0.04226187616586685, 0.0024660290218889713, 0.05268734693527222, 0.0027607358060777187], [0.01060290914028883, 0.003036423120647669, 0.0036906448658555746, 0.005460076965391636, 0.0038506179116666317, 0.003974053077399731], [0.005562709178775549, 0.003541565965861082, 0.003970649559050798, 0.005169604439288378, 0.003912958782166243, 0.004336316604167223], [0.7527893781661987, 0.002206744160503149, 0.018272364512085915, 0.00215252791531384, 0.05854327604174614, 0.010506407357752323], [0.005120181478559971, 0.003849061904475093, 0.00415826914831996, 0.005760387983173132, 0.003890244523063302, 0.004177986644208431], [0.801418662071228, 0.013301219791173935, 0.6965343952178955, 0.002309886272996664, 0.08858923614025116, 0.0035087764263153076], [0.0057453252375125885, 0.003845545928925276, 0.004106458742171526, 0.0058463201858103275, 0.003900893498212099, 0.0041946666315197945], [0.008250856772065163, 0.0029545731376856565, 0.0033036230597645044, 0.004578093066811562, 0.003930746577680111, 0.004882831126451492], [0.005549922119826078, 0.003949734382331371, 0.004503451753407717, 0.0059059602208435535, 0.003830523695796728, 0.004274090752005577], [0.987028956413269, 0.13075445592403412, 0.9443351030349731, 0.02642483077943325, 0.7063919901847839, 0.010486423969268799], [0.006801002658903599, 0.003286659251898527, 0.0035672972444444895, 0.0051451679319143295, 0.0037229075096547604, 0.00438681012019515], [0.944699227809906, 0.017139863222837448, 0.0742587074637413, 0.09413015842437744, 0.37767258286476135, 0.011615227907896042], [0.006447684485465288, 0.0037121169734746218, 0.003970683552324772, 0.00572263402864337, 0.0038541913963854313, 0.004400213249027729], [0.0061256168410182, 0.0035456561017781496, 0.004534198436886072, 0.004956722259521484, 0.003928169142454863, 0.0036181716714054346], [0.9896195530891418, 0.06839554756879807, 0.7818135619163513, 0.023212818428874016, 0.7866891622543335, 0.01793663762509823], [0.012390609830617905, 0.0031231974717229605, 0.0042764293029904366, 0.005728983320295811, 0.0036558860447257757, 0.0038703083992004395], [0.05739482492208481, 0.002017742255702615, 0.003196506528183818, 0.00405378732830286, 0.007212341297417879, 0.003382670460268855], [0.848143458366394, 0.004966048989444971, 0.3277335464954376, 0.0016054062871262431, 0.13118664920330048, 0.0023873636964708567], [0.3059259355068207, 0.0027118229772895575, 0.006815140601247549, 0.011550662107765675, 0.010118980892002583, 0.0050443848595023155], [0.9589242339134216, 0.015882309526205063, 0.184217169880867, 0.008141938596963882, 0.7429298162460327, 0.1599101424217224], [0.8883213996887207, 0.004506648983806372, 0.07523969560861588, 0.0034465426579117775, 0.40394890308380127, 0.0048375204205513], [0.03905286267399788, 0.0019333341624587774, 0.003997112158685923, 0.0029656090773642063, 0.0069471993483603, 0.002705296268686652], [0.9818856120109558, 0.5967252254486084, 0.944661557674408, 0.479404091835022, 0.8853722214698792, 0.08014348149299622], [0.9856145977973938, 0.01590321958065033, 0.44884952902793884, 0.007856628857553005, 0.602821409702301, 0.016089538112282753], [0.005511113442480564, 0.0035516147036105394, 0.004097443539649248, 0.0053506228141486645, 0.003947262652218342, 0.004219679161906242], [0.9919064044952393, 0.21120142936706543, 0.9546008110046387, 0.03062734752893448, 0.7285882830619812, 0.3661124110221863], [0.9697773456573486, 0.024381525814533234, 0.246278315782547, 0.01723240688443184, 0.821545422077179, 0.012831882573664188], [0.9760320782661438, 0.02325638197362423, 0.8363920450210571, 0.0043276455253362656, 0.4202267825603485, 0.007457434199750423], [0.17488253116607666, 0.002052463823929429, 0.004504484590142965, 0.0050376360304653645, 0.00772646302357316, 0.004755405243486166], [0.969309389591217, 0.014784242026507854, 0.5121496915817261, 0.0035265875048935413, 0.7100422978401184, 0.0060178316198289394], [0.20966783165931702, 0.0016964609967544675, 0.02145286276936531, 0.0021204049699008465, 0.011066575534641743, 0.0026817733887583017], [0.0091373510658741, 0.0032099552918225527, 0.0040080309845507145, 0.00555766187608242, 0.00379694951698184, 0.00449360953643918], [0.9642461538314819, 0.019064556807279587, 0.2377537339925766, 0.015873493626713753, 0.7731987237930298, 0.00891898013651371], [0.01239798218011856, 0.0029489581938833, 0.0037143025547266006, 0.005056698340922594, 0.00402440968900919, 0.003738003084436059], [0.9937595725059509, 0.5132753849029541, 0.9562502503395081, 0.24854116141796112, 0.9218330383300781, 0.9088635444641113], [0.009517444297671318, 0.0034699682146310806, 0.0033358288928866386, 0.007252625655382872, 0.0036257123574614525, 0.00564836198464036], [0.18915900588035583, 0.0023402306251227856, 0.004650408867746592, 0.007570169400423765, 0.00977853313088417, 0.0037473447155207396], [0.09547249227762222, 0.0017559403786435723, 0.006256896536797285, 0.0029840487986803055, 0.006930429022759199, 0.0027064813766628504], [0.8708261251449585, 0.010937420651316643, 0.032601576298475266, 0.09332732856273651, 0.08087120205163956, 0.02295626513659954], [0.006356618367135525, 0.0036939603742212057, 0.00395289808511734, 0.005753074306994677, 0.003826838918030262, 0.004363162908703089], [0.24368911981582642, 0.001892676344141364, 0.011179759167134762, 0.0017471195897087455, 0.021412841975688934, 0.01259184256196022], [0.9209796786308289, 0.0131399380043149, 0.7172932624816895, 0.0034347204491496086, 0.12363873422145844, 0.006233122665435076], [0.005959031637758017, 0.003694707527756691, 0.004400685429573059, 0.005552547052502632, 0.003771222662180662, 0.004089176654815674], [0.9473122358322144, 0.004670712631195784, 0.055781640112400055, 0.004497867077589035, 0.34033623337745667, 0.008984065614640713], [0.20216189324855804, 0.001974227838218212, 0.00580744119361043, 0.0037450294476002455, 0.012558169662952423, 0.0032197255641222], [0.007027460262179375, 0.003361493581905961, 0.00367011409252882, 0.005215034820139408, 0.0038396792951971292, 0.0042221564799547195], [0.9916444420814514, 0.08021790534257889, 0.9162480235099792, 0.009966033510863781, 0.8945630192756653, 0.11040995270013809], [0.7998108863830566, 0.0030549282673746347, 0.01521454006433487, 0.005227412562817335, 0.13874763250350952, 0.008681576699018478], [0.008051145821809769, 0.0033201356418430805, 0.00386931374669075, 0.005745147820562124, 0.0037636361084878445, 0.004335357341915369], [0.005306040868163109, 0.00396326370537281, 0.004527692217379808, 0.005580333061516285, 0.003928782884031534, 0.004145546816289425], [0.006762764882296324, 0.003216385142877698, 0.003892837557941675, 0.004857449792325497, 0.003933007828891277, 0.003780888859182596], [0.8276956081390381, 0.0024315996561199427, 0.01880304515361786, 0.0036892949137836695, 0.09869638085365295, 0.005678151268512011], [0.9919303059577942, 0.10798817873001099, 0.9531469345092773, 0.006969350855797529, 0.6879246234893799, 0.09822311997413635], [0.007438818458467722, 0.0037361602298915386, 0.004185832105576992, 0.005906800739467144, 0.003994598053395748, 0.0042548272758722305], [0.9602580666542053, 0.06591992825269699, 0.9192134737968445, 0.012022746726870537, 0.26476988196372986, 0.00808291882276535], [0.025723930448293686, 0.0020553860813379288, 0.0037820138968527317, 0.0026371264830231667, 0.00638592429459095, 0.0033246392849832773], [0.9916751384735107, 0.22233054041862488, 0.9649887681007385, 0.024963991716504097, 0.8722715973854065, 0.016287244856357574], [0.007103880867362022, 0.0031178558710962534, 0.004115159623324871, 0.004503610078245401, 0.0037946163211017847, 0.0038100406527519226], [0.0078072622418403625, 0.0030497265979647636, 0.0036836345680058002, 0.005690491292625666, 0.0037152753211557865, 0.004402808379381895], [0.9296479821205139, 0.003392334096133709, 0.05095996707677841, 0.0050951335579156876, 0.15653647482395172, 0.012903924100100994], [0.9861981272697449, 0.0384308323264122, 0.42283642292022705, 0.028274014592170715, 0.8636616468429565, 0.018321583047509193], [0.031047461554408073, 0.002171574393287301, 0.0033419125247746706, 0.0035318664740771055, 0.005671082995831966, 0.0031800763681530952], [0.006027774419635534, 0.0036731406580656767, 0.003892466425895691, 0.005648456048220396, 0.0037324789445847273, 0.004290745593607426], [0.9840680956840515, 0.24046243727207184, 0.9758630990982056, 0.01764019951224327, 0.678523063659668, 0.011567986570298672], [0.02091178484261036, 0.0022945557720959187, 0.003260742872953415, 0.004418308846652508, 0.004178648814558983, 0.004298502113670111], [0.005345615558326244, 0.0043635498732328415, 0.0043431115336716175, 0.0066241915337741375, 0.003997184336185455, 0.004347433801740408], [0.007504871115088463, 0.002851999830454588, 0.0037597529590129852, 0.004178748466074467, 0.0038549096789211035, 0.004158897325396538], [0.0062699709087610245, 0.0038724506739526987, 0.0041399141773581505, 0.005812252871692181, 0.0038713891990482807, 0.004054992459714413], [0.9699381589889526, 0.08315208554267883, 0.5273319482803345, 0.29941704869270325, 0.45548444986343384, 0.03103352151811123], [0.010090448893606663, 0.0028333445079624653, 0.003913776949048042, 0.004074154421687126, 0.004089681431651115, 0.003764551831409335], [0.9836085438728333, 0.22810567915439606, 0.9677075743675232, 0.020995203405618668, 0.5763453841209412, 0.01613861881196499], [0.05786978080868721, 0.002376885386183858, 0.003872009227052331, 0.006439921446144581, 0.0046531748957931995, 0.004684463143348694], [0.989554762840271, 0.1061752438545227, 0.7671361565589905, 0.13841451704502106, 0.7583136558532715, 0.03986865654587746], [0.2047061175107956, 0.0017645437037572265, 0.00472598010674119, 0.003510954324156046, 0.016853168606758118, 0.0037595711182802916], [0.46637651324272156, 0.002468871884047985, 0.006234863307327032, 0.0091554531827569, 0.01583852246403694, 0.005577383562922478], [0.007225091103464365, 0.003290995489805937, 0.003752954537048936, 0.005135029554367065, 0.003863007528707385, 0.0038988441228866577], [0.9876857995986938, 0.09457522630691528, 0.8347780704498291, 0.04691284894943237, 0.7354013919830322, 0.01743769645690918], [0.02229759655892849, 0.0019639800302684307, 0.0037978854961693287, 0.002978913253173232, 0.00471871392801404, 0.003708522766828537], [0.9393120408058167, 0.014343615621328354, 0.14098919928073883, 0.07529178261756897, 0.11994373798370361, 0.012547567486763], [0.9315185546875, 0.006514689885079861, 0.17593742907047272, 0.0033414391800761223, 0.6341717839241028, 0.007301526144146919], [0.9837331175804138, 0.06405672430992126, 0.9302825331687927, 0.0036447052843868732, 0.7784898281097412, 0.012483854778110981], [0.9783236980438232, 0.05944499000906944, 0.8829936385154724, 0.01712038554251194, 0.4929717183113098, 0.008007042109966278], [0.005472403485327959, 0.0033083129674196243, 0.003903767792508006, 0.005026553757488728, 0.0040612113662064075, 0.0044399467296898365], [0.029471389949321747, 0.00210155313834548, 0.004369759000837803, 0.003349525621160865, 0.0045477887615561485, 0.0033979618456214666], [0.9291444420814514, 0.006310837808996439, 0.24795666337013245, 0.0020222794264554977, 0.3536500632762909, 0.06031306833028793], [0.9655551314353943, 0.01359699945896864, 0.7113385796546936, 0.0022906861267983913, 0.21100936830043793, 0.013155725784599781], [0.9436063170433044, 0.020525313913822174, 0.10066637396812439, 0.020456911996006966, 0.32831767201423645, 0.4767773747444153], [0.9881622195243835, 0.1646467000246048, 0.970177412033081, 0.01581742614507675, 0.6835394501686096, 0.011973941698670387], [0.9516649842262268, 0.009121842682361603, 0.03335297107696533, 0.03134540840983391, 0.2777217626571655, 0.09432101249694824], [0.9759917259216309, 0.010384040884673595, 0.27275174856185913, 0.005132145714014769, 0.46287092566490173, 0.06338737905025482], [0.952362596988678, 0.011739824898540974, 0.6154974699020386, 0.001696063089184463, 0.18958184123039246, 0.02887650392949581], [0.8503233194351196, 0.003716803854331374, 0.01440120767802, 0.012850106693804264, 0.0896625965833664, 0.005941415671259165], [0.014605659991502762, 0.002898635109886527, 0.0036191395483911037, 0.005105698015540838, 0.0040681432001292706, 0.004027698654681444], [0.005579493939876556, 0.003789447946473956, 0.00405322527512908, 0.005828944034874439, 0.0038598033133894205, 0.004490085411816835], [0.006771213375031948, 0.0032138696406036615, 0.004620862193405628, 0.004719134885817766, 0.003843936836346984, 0.003774215467274189], [0.9892677664756775, 0.5527477860450745, 0.9505250453948975, 0.22967317700386047, 0.9473652839660645, 0.941110372543335], [0.9908584952354431, 0.5198407173156738, 0.9777006506919861, 0.07731416821479797, 0.9228401780128479, 0.03386695310473442], [0.007691376842558384, 0.0032871796283870935, 0.00382460025139153, 0.0047595505602657795, 0.0038519257213920355, 0.0043190778233110905], [0.974090039730072, 0.013824035413563251, 0.6803411245346069, 0.0022896239534020424, 0.47834956645965576, 0.0066844807006418705], [0.050029102712869644, 0.0019157142378389835, 0.004250675905495882, 0.0027555173728615046, 0.00601079361513257, 0.0030119381844997406], [0.006401855498552322, 0.0033663564827293158, 0.0038320578169077635, 0.004781818948686123, 0.004094825591892004, 0.003897437360137701], [0.22859913110733032, 0.0016044435324147344, 0.009393597021698952, 0.0021920925937592983, 0.01406446099281311, 0.002765172626823187], [0.9832735061645508, 0.085447296500206, 0.9227603077888489, 0.008253112435340881, 0.8009670972824097, 0.009771959856152534], [0.9540634751319885, 0.03206032142043114, 0.902031421661377, 0.003977986518293619, 0.20846037566661835, 0.009755155071616173], [0.0221857912838459, 0.0022225407883524895, 0.0042331526055932045, 0.003493026364594698, 0.004049613606184721, 0.003320647170767188], [0.00763290748000145, 0.004015128128230572, 0.004485588055104017, 0.006798539310693741, 0.003816070733591914, 0.004344944842159748], [0.005977971944957972, 0.003605487057939172, 0.004095830954611301, 0.005414615850895643, 0.0038250742945820093, 0.0041478644125163555], [0.9605385661125183, 0.010993369854986668, 0.05706004425883293, 0.019228201359510422, 0.3893059194087982, 0.13542209565639496], [0.9013237953186035, 0.004246639087796211, 0.059880755841732025, 0.007348473183810711, 0.08069458603858948, 0.004961531609296799], [0.9939194917678833, 0.3112594485282898, 0.9873993396759033, 0.012681500054895878, 0.8946875333786011, 0.0392439067363739], [0.007215538527816534, 0.0030515012331306934, 0.004191120155155659, 0.004811433143913746, 0.0036926071625202894, 0.0037839312572032213], [0.9934865236282349, 0.5056998133659363, 0.9818211197853088, 0.05928559973835945, 0.944536566734314, 0.0411931574344635], [0.005551835522055626, 0.003909386694431305, 0.004187219310551882, 0.0060010007582604885, 0.003942160401493311, 0.004347510170191526], [0.8566627502441406, 0.011299819685518742, 0.02879250980913639, 0.030294744297862053, 0.07934281975030899, 0.19638057053089142], [0.009808450005948544, 0.0031716288067400455, 0.003816674230620265, 0.005366675090044737, 0.003804474603384733, 0.0038318338338285685], [0.9769033193588257, 0.09945112466812134, 0.9508034586906433, 0.016875194385647774, 0.3940771818161011, 0.010144091211259365], [0.01401855330914259, 0.0024640264455229044, 0.0036431229673326015, 0.004114438313990831, 0.00413779029622674, 0.003634563647210598], [0.9669556617736816, 0.016551461070775986, 0.1625543236732483, 0.018919687718153, 0.6891970038414001, 0.008728419430553913], [0.9876763820648193, 0.024059725925326347, 0.5846648812294006, 0.008965115994215012, 0.735529363155365, 0.011546066962182522], [0.006122386083006859, 0.0036420240066945553, 0.004018239211291075, 0.005426499992609024, 0.003905924968421459, 0.0041364701464772224], [0.32004931569099426, 0.002400700468569994, 0.005204968620091677, 0.00780165009200573, 0.01424001157283783, 0.0035388225223869085], [0.8413946032524109, 0.0034820986911654472, 0.016969934105873108, 0.011999331414699554, 0.04868689551949501, 0.007406311575323343], [0.067000612616539, 0.0018248518463224173, 0.004359922371804714, 0.003069890895858407, 0.007434739265590906, 0.0026701753959059715], [0.04271308332681656, 0.002281429711729288, 0.004483050666749477, 0.004439224023371935, 0.005210885778069496, 0.003295119618996978], [0.9844017624855042, 0.2260897010564804, 0.9751479625701904, 0.020951570942997932, 0.6181783676147461, 0.014257594011723995], [0.005515115801244974, 0.003716773819178343, 0.004118242301046848, 0.005538619589060545, 0.003932079765945673, 0.0042100087739527225], [0.8435999751091003, 0.002623257925733924, 0.01592066138982773, 0.006564426235854626, 0.055375467985868454, 0.009110731072723866], [0.9609799981117249, 0.006456989329308271, 0.08540894091129303, 0.00723523274064064, 0.36265820264816284, 0.01519650500267744], [0.007129916921257973, 0.003420273307710886, 0.004134075716137886, 0.0050687724724411964, 0.003981643822044134, 0.0036602895706892014], [0.9841403961181641, 0.11724495142698288, 0.9698132276535034, 0.008701901882886887, 0.5527056455612183, 0.010693167336285114], [0.9617928266525269, 0.032105300575494766, 0.7361878752708435, 0.00689536239951849, 0.7701500058174133, 0.008215176872909069], [0.011075878515839577, 0.0028354739770293236, 0.003602948971092701, 0.004801802337169647, 0.003910842817276716, 0.0034423477482050657], [0.006810714490711689, 0.004042080137878656, 0.004348443355411291, 0.006286984775215387, 0.0037692382466048002, 0.004345477558672428], [0.9698243141174316, 0.14914654195308685, 0.9597795009613037, 0.024714315310120583, 0.3930948078632355, 0.012078670784831047], [0.9895276427268982, 0.36308977007865906, 0.945174515247345, 0.09469865262508392, 0.9086326360702515, 0.8893154859542847], [0.868014931678772, 0.004258634988218546, 0.014597496017813683, 0.008385674096643925, 0.20734772086143494, 0.008916071616113186], [0.010881486348807812, 0.0027099752333015203, 0.0036173618864268064, 0.004381496459245682, 0.00421629473567009, 0.0038670171052217484], [0.6380703449249268, 0.0026970817707479, 0.00892145000398159, 0.007629069034010172, 0.03146782144904137, 0.00658426433801651], [0.872309148311615, 0.0036771863233298063, 0.01762174814939499, 0.01446232758462429, 0.0677499994635582, 0.010161428712308407], [0.9756124019622803, 0.052106693387031555, 0.5222921967506409, 0.013384836725890636, 0.8555595874786377, 0.4467608630657196], [0.009227927774190903, 0.0027502886950969696, 0.0037164699751883745, 0.0042244745418429375, 0.0041429451666772366, 0.0034854640252888203], [0.9923364520072937, 0.34806475043296814, 0.9732180237770081, 0.036646150052547455, 0.903715193271637, 0.02445339784026146], [0.9848009347915649, 0.10383123904466629, 0.931684136390686, 0.009923405013978481, 0.8343600034713745, 0.00744960643351078], [0.9921030402183533, 0.03179359436035156, 0.7192658185958862, 0.010223230347037315, 0.619912326335907, 0.035385046154260635], [0.9925968647003174, 0.48207414150238037, 0.9792917370796204, 0.06548557430505753, 0.9360918998718262, 0.03557761013507843], [0.007483396213501692, 0.003435874357819557, 0.004075092263519764, 0.005351061932742596, 0.0037018887232989073, 0.0039788102731108665], [0.00820668414235115, 0.0030043027363717556, 0.0034117994364351034, 0.004810905084013939, 0.004220358561724424, 0.003747486975044012], [0.0075034829787909985, 0.0032462412491440773, 0.003720414824783802, 0.005222180858254433, 0.003728082636371255, 0.0040178750641644], [0.053572069853544235, 0.0024505765177309513, 0.00449519045650959, 0.006300562992691994, 0.004924028646200895, 0.003729785094037652], [0.005475334357470274, 0.003740639192983508, 0.004403224214911461, 0.005610374268144369, 0.0037797309923917055, 0.0042344010435044765], [0.006621744949370623, 0.0032315384596586227, 0.003711600322276354, 0.005119258537888527, 0.003914013039320707, 0.0043894764967262745], [0.9898928999900818, 0.2550184428691864, 0.9793753027915955, 0.015427753329277039, 0.7932008504867554, 0.014493747614324093], [0.005448651500046253, 0.004062988329678774, 0.004351704381406307, 0.00599735276773572, 0.004009154625236988, 0.0042650639079511166], [0.006114931311458349, 0.0035441331565380096, 0.00369529752060771, 0.00563887320458889, 0.003659981768578291, 0.004991639405488968], [0.9352630376815796, 0.005192798562347889, 0.02275422029197216, 0.01656956411898136, 0.15280982851982117, 0.02921367436647415], [0.6668000817298889, 0.0019905639346688986, 0.03030756302177906, 0.001831289497204125, 0.03530425205826759, 0.006558459252119064], [0.00981692411005497, 0.0029106142465025187, 0.0033535787370055914, 0.004877486266195774, 0.004320682026445866, 0.003919048700481653], [0.006543392315506935, 0.003664441406726837, 0.004296836908906698, 0.0053504654206335545, 0.003875992726534605, 0.00407416420057416], [0.9859457612037659, 0.12078409641981125, 0.9235373735427856, 0.009817619808018208, 0.9149774312973022, 0.013724339194595814], [0.9723191857337952, 0.050681985914707184, 0.8632700443267822, 0.016904886811971664, 0.44486919045448303, 0.006065566558390856], [0.910130500793457, 0.08156426250934601, 0.21567995846271515, 0.5134889483451843, 0.2688409984111786, 0.04913673549890518], [0.849412739276886, 0.004512972664088011, 0.25601062178611755, 0.002265302464365959, 0.12713098526000977, 0.0024968464858829975], [0.9466389417648315, 0.011245239526033401, 0.688666582107544, 0.0013621359830722213, 0.2644389271736145, 0.009194275364279747], [0.9686337113380432, 0.031269870698451996, 0.46709802746772766, 0.00784752331674099, 0.8291429281234741, 0.2714674174785614], [0.005135697312653065, 0.003704816335812211, 0.004065028391778469, 0.005429569166153669, 0.003679423127323389, 0.004952761344611645], [0.011314996518194675, 0.002468105172738433, 0.004357277415692806, 0.003693487960845232, 0.003968880977481604, 0.0031890810932964087], [0.006451525259763002, 0.0033985916525125504, 0.00395938428118825, 0.0053405906073749065, 0.0036891496274620295, 0.003951736260205507], [0.8551093935966492, 0.0036579847801476717, 0.01414758525788784, 0.015572424046695232, 0.05968553572893143, 0.008479074575006962], [0.9953931570053101, 0.5140562057495117, 0.9778254628181458, 0.12334039062261581, 0.9483855962753296, 0.8313050866127014], [0.041815586388111115, 0.003040413837879896, 0.0037746333982795477, 0.010542437434196472, 0.004793776664882898, 0.00702560693025589], [0.9754042029380798, 0.5955354571342468, 0.9362609386444092, 0.5613678097724915, 0.8455548286437988, 0.10693852603435516], [0.0076874070800840855, 0.003167863469570875, 0.004011017270386219, 0.005077742971479893, 0.0037778550758957863, 0.0036718964111059904], [0.9539548754692078, 0.054311733692884445, 0.9279554486274719, 0.004736528266221285, 0.3466373682022095, 0.005440938752144575], [0.08946418017148972, 0.0017922190017998219, 0.004045574925839901, 0.00318726128898561, 0.008832004852592945, 0.0036735087633132935], [0.7954772710800171, 0.006034935358911753, 0.04094165936112404, 0.019816728308796883, 0.028754154220223427, 0.008128713816404343], [0.9468463659286499, 0.005275057628750801, 0.2764228880405426, 0.0022218325175344944, 0.30412039160728455, 0.008380163460969925], [0.010774554684758186, 0.0026941692922264338, 0.0036019477993249893, 0.004588339477777481, 0.003700868459418416, 0.00378426187671721], [0.007566964253783226, 0.0033306016121059656, 0.0035688909702003, 0.005605869460850954, 0.004091938957571983, 0.004001176916062832], [0.9799204468727112, 0.11204521358013153, 0.9434676766395569, 0.008175728842616081, 0.8172504901885986, 0.010747474618256092], [0.9893949627876282, 0.3677773177623749, 0.9857827425003052, 0.01994284614920616, 0.7895612120628357, 0.02078876830637455], [0.007169740274548531, 0.003279054770246148, 0.003877422073855996, 0.005087306257337332, 0.003653130494058132, 0.004177073482424021], [0.9859175086021423, 0.5096210241317749, 0.9852783679962158, 0.04064770042896271, 0.8242436647415161, 0.026087598875164986], [0.9640315175056458, 0.005412238650023937, 0.07919683307409286, 0.007231918629258871, 0.3559882938861847, 0.01651448756456375], [0.007135825697332621, 0.0031833050306886435, 0.004132152535021305, 0.0049131279811263084, 0.0037649308796972036, 0.003919119480997324], [0.9911551475524902, 0.09960020333528519, 0.9196215271949768, 0.015098147094249725, 0.9195836186408997, 0.030790437012910843], [0.006535885855555534, 0.0032538955565541983, 0.003694790182635188, 0.004957773722708225, 0.003863121382892132, 0.00419596116989851], [0.013052676804363728, 0.0027789738960564137, 0.004403264261782169, 0.004488344304263592, 0.0032677410636097193, 0.004160554613918066], [0.9641451835632324, 0.012578337453305721, 0.2995217442512512, 0.003538676304742694, 0.7498119473457336, 0.0406908243894577], [0.0060564856976270676, 0.003774559823796153, 0.004236561246216297, 0.005855740513652563, 0.0037083167117089033, 0.004413099959492683], [0.05478767678141594, 0.0021674062591046095, 0.004525457508862019, 0.003942917101085186, 0.005210526753216982, 0.0029574513901025057], [0.821472704410553, 0.005167909897863865, 0.02835179679095745, 0.0252190250903368, 0.03539590165019035, 0.00987034011632204], [0.008652905933558941, 0.0031909432727843523, 0.0034052717965096235, 0.005111470818519592, 0.003350125625729561, 0.004955381620675325], [0.9130907654762268, 0.023202095180749893, 0.7577444911003113, 0.00458197807893157, 0.0985729917883873, 0.010720542632043362], [0.21585382521152496, 0.0019791799131780863, 0.005095315165817738, 0.005545192398130894, 0.011579823680222034, 0.002909325994551182], [0.9939957857131958, 0.20644156634807587, 0.9645152688026428, 0.017749546095728874, 0.9025508165359497, 0.021990856155753136], [0.006770674604922533, 0.0034672091715037823, 0.003971466328948736, 0.0053356788121163845, 0.0037978459149599075, 0.004305573180317879], [0.006880550645291805, 0.003243946237489581, 0.0036203726194798946, 0.004688150715082884, 0.004430245142430067, 0.0036192978732287884], [0.013816801831126213, 0.002659385558217764, 0.0038507261779159307, 0.004369279835373163, 0.0039322832599282265, 0.003673114348202944], [0.0053304582834243774, 0.003994527738541365, 0.004325010813772678, 0.006023178808391094, 0.003733303863555193, 0.004347423557192087], [0.00790590699762106, 0.003393977414816618, 0.004015455953776836, 0.0051362523809075356, 0.003952512983232737, 0.003920718561857939], [0.0061545963399112225, 0.0034134406596422195, 0.004140997771173716, 0.0049999067559838295, 0.0038121971301734447, 0.0037883862387388945], [0.8393530249595642, 0.00892393384128809, 0.030288979411125183, 0.019654497504234314, 0.07376836985349655, 0.15965016186237335], [0.6546933650970459, 0.002562785055488348, 0.0066043962724506855, 0.007550835143774748, 0.04099176451563835, 0.010199081152677536], [0.006081365514546633, 0.0035915488842874765, 0.003912791609764099, 0.00563614908605814, 0.003910799976438284, 0.00408521294593811], [0.9488371014595032, 0.008743061684072018, 0.040391676127910614, 0.014541556127369404, 0.3719632029533386, 0.10834214091300964], [0.13354982435703278, 0.002106417901813984, 0.004592254292219877, 0.005068592727184296, 0.007511071395128965, 0.0034207524731755257], [0.014781039208173752, 0.0022850502282381058, 0.0035584401339292526, 0.003907674923539162, 0.004084623418748379, 0.00361129199154675], [0.9625023007392883, 0.05708827078342438, 0.28335314989089966, 0.24127787351608276, 0.4869327247142792, 0.019753776490688324], [0.006072471849620342, 0.0036090139765292406, 0.004028002731502056, 0.005517700687050819, 0.0038797101005911827, 0.004032726865261793], [0.0072488742880523205, 0.003194532124325633, 0.003324405523017049, 0.0050860075280070305, 0.003704300383105874, 0.004622979089617729], [0.008475543931126595, 0.0030301823280751705, 0.003507111221551895, 0.00458534574136138, 0.004673750139772892, 0.003488890826702118], [0.8419494032859802, 0.0026916477363556623, 0.07394213229417801, 0.0013531411532312632, 0.15361014008522034, 0.010809293016791344], [0.9904661178588867, 0.6086249947547913, 0.9885077476501465, 0.04926173761487007, 0.898777425289154, 0.03656096011400223], [0.9447658658027649, 0.013005590066313744, 0.40930816531181335, 0.005802614614367485, 0.6144803762435913, 0.00500544672831893], [0.005422764923423529, 0.00399944419041276, 0.004360063001513481, 0.00619268836453557, 0.0038249469362199306, 0.004313608165830374], [0.9967417120933533, 0.6065905094146729, 0.9904046058654785, 0.09220438450574875, 0.9319677352905273, 0.586251974105835], [0.9469680786132812, 0.009834177792072296, 0.5820571780204773, 0.0023841303773224354, 0.17260871827602386, 0.004889287985861301], [0.008135071024298668, 0.003342635231092572, 0.003401242895051837, 0.005583689082413912, 0.003717103973031044, 0.00527954800054431], [0.005723100621253252, 0.00402351189404726, 0.004324556794017553, 0.005932430271059275, 0.004021467640995979, 0.004037789534777403], [0.9690106511116028, 0.00985997635871172, 0.5272495746612549, 0.0029757723677903414, 0.24368809163570404, 0.007275082170963287], [0.008204801939427853, 0.003008148865774274, 0.0033401816617697477, 0.00482899509370327, 0.003926936071366072, 0.004008454270660877], [0.8150991201400757, 0.0026310193352401257, 0.015099537558853626, 0.004722009412944317, 0.07673881947994232, 0.005564790219068527], [0.9449328184127808, 0.01260905247181654, 0.1555827111005783, 0.011572959832847118, 0.6657169461250305, 0.006368614267557859], [0.8716403245925903, 0.0036646886728703976, 0.012716151773929596, 0.010755852796137333, 0.12974700331687927, 0.00857694260776043], [0.024168314412236214, 0.0023905911948531866, 0.0051811994053423405, 0.004110376350581646, 0.003679765621200204, 0.0038600964471697807], [0.008604875765740871, 0.0028890823014080524, 0.0036353874020278454, 0.004421739839017391, 0.0040924884378910065, 0.003673304570838809], [0.009286157786846161, 0.0027073812671005726, 0.004285810049623251, 0.003579802345484495, 0.003977810963988304, 0.0034140993375331163], [0.006067357026040554, 0.003563997335731983, 0.0035518896766006947, 0.005481319967657328, 0.003811117960140109, 0.00449028518050909], [0.041780129075050354, 0.0021511069498956203, 0.004461807198822498, 0.0033973921090364456, 0.005920502357184887, 0.003265814855694771], [0.008583723567426205, 0.003129728836938739, 0.0036082547158002853, 0.004806918557733297, 0.00398161169141531, 0.003656629007309675], [0.011268643662333488, 0.002696672687307, 0.004017180297523737, 0.004339477978646755, 0.0038124979473650455, 0.0035134393256157637], [0.9900045990943909, 0.5264104008674622, 0.9882064461708069, 0.029927263036370277, 0.8786277770996094, 0.028307370841503143], [0.8925163149833679, 0.007264438550919294, 0.4192243218421936, 0.0037780022248625755, 0.08235335350036621, 0.003981730900704861], [0.921563446521759, 0.04922473803162575, 0.11429780721664429, 0.4297747313976288, 0.2585183084011078, 0.03574177622795105], [0.6649650931358337, 0.0020722777117043734, 0.0554964505136013, 0.0017652224050834775, 0.025928178802132607, 0.004012577701359987], [0.013035737909376621, 0.0028396497946232557, 0.003552220296114683, 0.0052728308364748955, 0.0038308219518512487, 0.003625541925430298], [0.3867985010147095, 0.002263682195916772, 0.0049042608588933945, 0.005597216077148914, 0.02245795913040638, 0.004767747595906258], [0.24234479665756226, 0.00159513670951128, 0.008514421992003918, 0.002439687727019191, 0.014788713306188583, 0.0033281012438237667], [0.02160346321761608, 0.0023240235168486834, 0.0031081675551831722, 0.004571517929434776, 0.004686784464865923, 0.0035495057236403227], [0.08024970442056656, 0.0018183827633038163, 0.00495309941470623, 0.003319080453366041, 0.006551866419613361, 0.003699406050145626], [0.006454747635871172, 0.0037858569994568825, 0.0037800471764057875, 0.00609876774251461, 0.0039055359084159136, 0.0047592297196388245], [0.9694024920463562, 0.025545598939061165, 0.42050859332084656, 0.013777134008705616, 0.8276411890983582, 0.009312761016190052], [0.9387973546981812, 0.012587146833539009, 0.05595368519425392, 0.022009022533893585, 0.16513970494270325, 0.24384136497974396], [0.17897899448871613, 0.0018548611551523209, 0.0039542485028505325, 0.0045632426626980305, 0.010482807643711567, 0.004157238639891148], [0.00952264666557312, 0.0028208335861563683, 0.003066849894821644, 0.004842251073569059, 0.00416021840646863, 0.007791771553456783], [0.9906079769134521, 0.15913814306259155, 0.9762027859687805, 0.008719767443835735, 0.7618707418441772, 0.015090308152139187], [0.8372076749801636, 0.0029814508743584156, 0.014794564805924892, 0.005699024070054293, 0.09434735774993896, 0.007914356887340546], [0.005589755717664957, 0.0036465725861489773, 0.004064055625349283, 0.005230108741670847, 0.003740639192983508, 0.004438986070454121], [0.9871422052383423, 0.10498909652233124, 0.8770245909690857, 0.015246794559061527, 0.9470431208610535, 0.058892711997032166], [0.0075561003759503365, 0.0038413505535572767, 0.0047443825751543045, 0.0058402493596076965, 0.003791381837800145, 0.003930182661861181], [0.009124597534537315, 0.0031798086129128933, 0.003490957198664546, 0.0058058397844433784, 0.0037858604919165373, 0.00438145874068141], [0.00709706312045455, 0.003121859859675169, 0.0033019795082509518, 0.004782386124134064, 0.004303098656237125, 0.004593743477016687], [0.7278146743774414, 0.004746129736304283, 0.01166542898863554, 0.006983697414398193, 0.05677616223692894, 0.0634775161743164], [0.985562801361084, 0.09358066320419312, 0.9501520395278931, 0.00696616992354393, 0.7741574048995972, 0.010014951229095459], [0.012627558782696724, 0.0028254929929971695, 0.003884471021592617, 0.004716101102530956, 0.0037679707165807486, 0.0036341664381325245], [0.9831303358078003, 0.04090508818626404, 0.8345644474029541, 0.009036457166075706, 0.642941415309906, 0.0063252137042582035], [0.006376455072313547, 0.003957859706133604, 0.0047980439849197865, 0.0059004416689276695, 0.003908359911292791, 0.003964585717767477], [0.07351849228143692, 0.0019231197657063603, 0.0038785068318247795, 0.0037013681139796972, 0.006830806378275156, 0.0034381283912807703], [0.008044651709496975, 0.002901999745517969, 0.0038219846319407225, 0.0042987121269106865, 0.004089879337698221, 0.003573379013687372], [0.9551658034324646, 0.02041294425725937, 0.19896556437015533, 0.014986741356551647, 0.4565472900867462, 0.47857576608657837], [0.01103057898581028, 0.0030148904770612717, 0.0035087643191218376, 0.005112198647111654, 0.003726324299350381, 0.004387611523270607], [0.9661175012588501, 0.011680105701088905, 0.5378298759460449, 0.0014448692090809345, 0.5952275395393372, 0.019554346799850464], [0.013825648464262486, 0.002628801856189966, 0.0030333674512803555, 0.004661687649786472, 0.004168925806879997, 0.003787929192185402], [0.9896519780158997, 0.37675565481185913, 0.9130823612213135, 0.5278155207633972, 0.9061115980148315, 0.19821102917194366], [0.008110840804874897, 0.0033675627782940865, 0.004128273110836744, 0.00516378553584218, 0.004091973882168531, 0.0036344011314213276], [0.0056855701841413975, 0.003863557707518339, 0.004147580824792385, 0.00587420305237174, 0.003977357409894466, 0.004171963315457106], [0.016026237979531288, 0.0023765212390571833, 0.003337528556585312, 0.004000650718808174, 0.004208527971059084, 0.003596637863665819], [0.008697772398591042, 0.0032335093710571527, 0.004756418522447348, 0.004680669400840998, 0.004155176691710949, 0.0033808848820626736], [0.9899188280105591, 0.07773059606552124, 0.8751013875007629, 0.010940794833004475, 0.9154595732688904, 0.015315468423068523], [0.9881823658943176, 0.24745909869670868, 0.9638819694519043, 0.01728038303554058, 0.9169988036155701, 0.01465452928096056], [0.9766021370887756, 0.03517729043960571, 0.520725667476654, 0.008890422992408276, 0.6723999381065369, 0.46089494228363037], [0.5034816861152649, 0.002006351016461849, 0.007216576021164656, 0.0049711368046700954, 0.025988617911934853, 0.004881385248154402], [0.025617461651563644, 0.002093125134706497, 0.003808976849541068, 0.003675773274153471, 0.004557933192700148, 0.003201707499101758], [0.0066807083785533905, 0.0035702832974493504, 0.0037612200248986483, 0.005769432056695223, 0.0036399085074663162, 0.004323640838265419], [0.011396469548344612, 0.0031861616298556328, 0.0036094875540584326, 0.005458896514028311, 0.004040966741740704, 0.0036871645133942366], [0.007230582647025585, 0.0035238289274275303, 0.004186851903796196, 0.005074243992567062, 0.0038815883453935385, 0.0037773253861814737], [0.8334681987762451, 0.0038022773806005716, 0.12329050153493881, 0.004250936210155487, 0.05877358466386795, 0.0034298142418265343], [0.965370237827301, 0.05058712884783745, 0.4031555652618408, 0.019886335358023643, 0.4795375466346741, 0.6684883832931519], [0.007476142607629299, 0.0028213756158947945, 0.003690476529300213, 0.004103363025933504, 0.003938842564821243, 0.004165527876466513], [0.9099295735359192, 0.0032882315572351217, 0.030214622616767883, 0.008212437853217125, 0.08245915174484253, 0.01215872261673212], [0.9866735935211182, 0.6496058106422424, 0.9681103229522705, 0.3418133556842804, 0.9077324867248535, 0.06975194811820984], [0.6424093246459961, 0.006339279003441334, 0.01136111468076706, 0.021167505532503128, 0.040661949664354324, 0.09496865421533585], [0.8138336539268494, 0.0024449238553643227, 0.01772845908999443, 0.004171899985522032, 0.07185465097427368, 0.004820865113288164], [0.9143637418746948, 0.014065749943256378, 0.747401237487793, 0.0025768333580344915, 0.17518989741802216, 0.00341989123262465], [0.7722567319869995, 0.0037688622251152992, 0.1128944531083107, 0.0024039207492023706, 0.23509402573108673, 0.0033821607939898968], [0.9628274440765381, 0.009969671256840229, 0.4185803532600403, 0.002828509546816349, 0.5900341868400574, 0.004947335459291935], [0.00933874025940895, 0.003186319023370743, 0.0032147832680493593, 0.005988601595163345, 0.003929655998945236, 0.004426177125424147], [0.5505387783050537, 0.0019735742826014757, 0.008212251588702202, 0.00552838621661067, 0.023125430569052696, 0.004618746228516102], [0.009466874413192272, 0.0028715680819004774, 0.003887062193825841, 0.00403074873611331, 0.004022206645458937, 0.003600754775106907], [0.9700579047203064, 0.03583835810422897, 0.5850608348846436, 0.011131041683256626, 0.8600846529006958, 0.009839709848165512], [0.005063751712441444, 0.003964218311011791, 0.004188857972621918, 0.005958984140306711, 0.003885539248585701, 0.004207198973745108], [0.01064403634518385, 0.0026829151902347803, 0.004783003591001034, 0.0037501065526157618, 0.003923328593373299, 0.0033226206433027983], [0.006246987730264664, 0.0034601185470819473, 0.004144001752138138, 0.005196102429181337, 0.0038235660176724195, 0.003979742061346769], [0.4670777916908264, 0.003512973664328456, 0.007840925827622414, 0.017721310257911682, 0.01804419234395027, 0.005772263742983341], [0.004938692785799503, 0.003849953878670931, 0.004163161385804415, 0.005582024343311787, 0.004063254687935114, 0.004248936660587788], [0.009889433160424232, 0.00270485389046371, 0.004696722142398357, 0.0036129774525761604, 0.0036803637631237507, 0.0038359095342457294], [0.9511145949363708, 0.04595417529344559, 0.9113330841064453, 0.007210819516330957, 0.19497714936733246, 0.00658363476395607], [0.948585033416748, 0.008150649257004261, 0.04073888808488846, 0.038056451827287674, 0.11771218478679657, 0.05686194449663162], [0.991748571395874, 0.43327581882476807, 0.9860710501670837, 0.04467105120420456, 0.8513720631599426, 0.031043201684951782], [0.9768946170806885, 0.4966164231300354, 0.8894716501235962, 0.6162773966789246, 0.8515989184379578, 0.10163654386997223], [0.13803531229496002, 0.0022650668397545815, 0.002928046975284815, 0.005628017242997885, 0.009965305216610432, 0.0082699628546834], [0.8410356044769287, 0.0235951729118824, 0.030412547290325165, 0.053852830082178116, 0.1452844738960266, 0.47222813963890076], [0.009899172000586987, 0.002893263939768076, 0.003622442716732621, 0.005040078889578581, 0.00337578309699893, 0.005391341634094715], [0.988962709903717, 0.3384353816509247, 0.8658924698829651, 0.5495441555976868, 0.8508098125457764, 0.15403753519058228], [0.011270243674516678, 0.0026142671704292297, 0.004140123259276152, 0.004091194830834866, 0.004185184370726347, 0.0034474912099540234], [0.00566597655415535, 0.0038412627764046192, 0.0038313441909849644, 0.006216665264219046, 0.00400678813457489, 0.00447066267952323], [0.9704561233520508, 0.036704644560813904, 0.772374153137207, 0.00482513103634119, 0.8078271746635437, 0.01878535747528076], [0.006578119937330484, 0.003469096263870597, 0.0038816232699900866, 0.004907198250293732, 0.004136852920055389, 0.0039025626610964537], [0.03036852553486824, 0.0022988084238022566, 0.003437179373577237, 0.004717043600976467, 0.004168535582721233, 0.0038786225486546755], [0.9530700445175171, 0.006650377064943314, 0.11226042360067368, 0.006509004160761833, 0.5259374976158142, 0.011040996760129929], [0.006937761325389147, 0.003418141510337591, 0.003903474658727646, 0.005682091228663921, 0.0037440028972923756, 0.004073918331414461], [0.9705345630645752, 0.023472310975193977, 0.8122947812080383, 0.00287134968675673, 0.6167279481887817, 0.004897403065115213], [0.006653089541941881, 0.0033794392365962267, 0.004275081213563681, 0.0051695918664336205, 0.0036518985871225595, 0.004161593969911337], [0.8643550276756287, 0.004416086245328188, 0.21381767094135284, 0.0034744772128760815, 0.05900043994188309, 0.004162314813584089], [0.01948367990553379, 0.002267188625410199, 0.003934157080948353, 0.003882761113345623, 0.004161478951573372, 0.0034747631289064884], [0.9930564761161804, 0.24100156128406525, 0.975281298160553, 0.01737906038761139, 0.939071774482727, 0.03475525602698326], [0.013052165508270264, 0.003109768033027649, 0.0040427884086966515, 0.006130239926278591, 0.0036427422892302275, 0.004076354671269655], [0.006319033447653055, 0.0035577660892158747, 0.004281510598957539, 0.005341439042240381, 0.0038521639071404934, 0.004095990676432848], [0.9242796897888184, 0.005114658270031214, 0.03932929411530495, 0.02108510211110115, 0.17696766555309296, 0.007321101147681475], [0.979383647441864, 0.015203899703919888, 0.6641638875007629, 0.002423860365524888, 0.36572200059890747, 0.008075963705778122], [0.9746127724647522, 0.01680363155901432, 0.20960639417171478, 0.014247442595660686, 0.7561189532279968, 0.012967615388333797], [0.009453740902245045, 0.0027472747024148703, 0.00340612162835896, 0.004633921664208174, 0.003660891205072403, 0.004784252028912306], [0.9678118824958801, 0.09598515182733536, 0.9112098813056946, 0.025424791499972343, 0.3575442433357239, 0.008982316590845585], [0.9581974744796753, 0.046018972992897034, 0.8882086873054504, 0.008968560956418514, 0.24260962009429932, 0.005859494209289551], [0.9915115237236023, 0.6391178369522095, 0.9852865934371948, 0.09357237815856934, 0.9427276253700256, 0.05232800543308258], [0.015746604651212692, 0.002526390366256237, 0.0036212073173373938, 0.004671481437981129, 0.0038650373462587595, 0.003545886604115367], [0.9512828588485718, 0.006589650176465511, 0.19940915703773499, 0.0036236699670553207, 0.43219974637031555, 0.004405603744089603], [0.005999988876283169, 0.0035325612407177687, 0.0037482487969100475, 0.005884850397706032, 0.003696936182677746, 0.004317347891628742], [0.9444181323051453, 0.02006436698138714, 0.76171875, 0.007464192807674408, 0.19579219818115234, 0.005754195153713226], [0.9957101345062256, 0.4627271890640259, 0.9811125993728638, 0.0596134215593338, 0.971382200717926, 0.574602484703064], [0.009281753562390804, 0.003168914932757616, 0.005034142639487982, 0.004203245509415865, 0.003953125327825546, 0.003238492412492633], [0.9810226559638977, 0.05277678743004799, 0.49960601329803467, 0.054616011679172516, 0.7542375922203064, 0.010637068189680576], [0.007141903042793274, 0.0032271253876388073, 0.003888319944962859, 0.0048833428882062435, 0.0039350781589746475, 0.0037875205744057894], [0.009466556832194328, 0.002761861076578498, 0.0036401560064405203, 0.00454873638227582, 0.003657633438706398, 0.004153946880251169], [0.9559856653213501, 0.04212883859872818, 0.8548691868782043, 0.0041499328799545765, 0.6665244102478027, 0.007576681673526764], [0.882622480392456, 0.04479530453681946, 0.5873857736587524, 0.05161631107330322, 0.10139438509941101, 0.008766126818954945], [0.8963984847068787, 0.02306997962296009, 0.8076678514480591, 0.0024472111836075783, 0.349671334028244, 0.0056587704457342625], [0.6994511485099792, 0.002174496417865157, 0.026516590267419815, 0.0029862825758755207, 0.042579345405101776, 0.0027326387353241444], [0.9392750263214111, 0.024092666804790497, 0.8263652324676514, 0.006389074958860874, 0.20915478467941284, 0.0060005830600857735], [0.011862886138260365, 0.0025565882679075003, 0.0032232594676315784, 0.004539703018963337, 0.0038870566058903933, 0.004004906862974167], [0.9832525253295898, 0.2890225648880005, 0.9777514934539795, 0.019765200093388557, 0.6908997893333435, 0.013934597373008728], [0.007401756010949612, 0.003047306090593338, 0.00407452741637826, 0.0045877187512815, 0.0037526998203247786, 0.003805302083492279], [0.9845327734947205, 0.7176814079284668, 0.9770380258560181, 0.2615843117237091, 0.8723115921020508, 0.06212635710835457], [0.8647181391716003, 0.024821758270263672, 0.8351870775222778, 0.0049381256103515625, 0.1058570146560669, 0.005085155833512545], [0.9834362268447876, 0.10016003251075745, 0.9386017918586731, 0.018006455153226852, 0.6221026182174683, 0.00955138448625803], [0.9927977919578552, 0.25245970487594604, 0.9347676038742065, 0.06504463404417038, 0.8864102363586426, 0.7678610682487488], [0.009478488937020302, 0.002904546679928899, 0.0036287454422563314, 0.004862728528678417, 0.0034435486886650324, 0.005438614636659622], [0.20366811752319336, 0.0018590319668874145, 0.00711433170363307, 0.003352428786456585, 0.011677265167236328, 0.0027770334854722023], [0.9805212020874023, 0.16462303698062897, 0.9268084168434143, 0.0807613879442215, 0.5455102920532227, 0.020317157730460167], [0.014952513389289379, 0.0027876971289515495, 0.004488863982260227, 0.004445603583008051, 0.004213470499962568, 0.0030233615543693304], [0.13487356901168823, 0.0020916645880788565, 0.004307405091822147, 0.004461535718291998, 0.009803283959627151, 0.002839387860149145], [0.860266387462616, 0.003933379426598549, 0.016931310296058655, 0.013876634649932384, 0.059993110597133636, 0.02899741567671299], [0.9851868748664856, 0.15961791574954987, 0.974816083908081, 0.009911157190799713, 0.5708341598510742, 0.014472839422523975], [0.06644106656312943, 0.002359040081501007, 0.004925120156258345, 0.0056605152785778046, 0.004978649318218231, 0.0037039783783257008], [0.9847819209098816, 0.08658696711063385, 0.9524033665657043, 0.007893097586929798, 0.4738786220550537, 0.019161617383360863], [0.00438079284504056, 0.004577447660267353, 0.004170077852904797, 0.00690343277528882, 0.0038921746890991926, 0.004912866745144129], [0.01630198024213314, 0.0024640371557325125, 0.00340759614482522, 0.004186613019555807, 0.004378079902380705, 0.003314001951366663], [0.5839382410049438, 0.0032792920246720314, 0.007209132891148329, 0.016665330156683922, 0.019898226484656334, 0.00761816743761301], [0.9309678673744202, 0.034996625036001205, 0.8691655397415161, 0.0035006613470613956, 0.47946107387542725, 0.005316424649208784], [0.009083345532417297, 0.003144411137327552, 0.003820018842816353, 0.005269600544124842, 0.0037773759104311466, 0.0038702967576682568], [0.9299818277359009, 0.01755519211292267, 0.07195054739713669, 0.018735768273472786, 0.24271249771118164, 0.4225652813911438], [0.838516354560852, 0.0024307104758918285, 0.03569534793496132, 0.001982330111786723, 0.10095173865556717, 0.008314012549817562], [0.0062654768116772175, 0.003354618325829506, 0.00416309991851449, 0.0049899062141776085, 0.004000150598585606, 0.0037851426750421524], [0.15127824246883392, 0.00220242771320045, 0.005860446952283382, 0.005778196733444929, 0.00628350954502821, 0.004031491931527853], [0.9828422665596008, 0.1821863204240799, 0.9720860719680786, 0.0191348809748888, 0.5335975885391235, 0.015255223959684372], [0.008798358030617237, 0.002786024706438184, 0.0035263828467577696, 0.004564234986901283, 0.0038921062368899584, 0.0038276242557913065], [0.00670027919113636, 0.003653106512501836, 0.003977763466536999, 0.005955697037279606, 0.0038023514207452536, 0.004340042360126972], [0.967069685459137, 0.006924825254827738, 0.04727128893136978, 0.018125122413039207, 0.3717910051345825, 0.017389681190252304], [0.5061392188072205, 0.004300171509385109, 0.008259589783847332, 0.008990351110696793, 0.02901109866797924, 0.06541460752487183], [0.006306844763457775, 0.004004589281976223, 0.004412597045302391, 0.005971396807581186, 0.004091017879545689, 0.004075021017342806], [0.21320146322250366, 0.0020467648282647133, 0.0053938040509819984, 0.00488088745623827, 0.008534939959645271, 0.003609015606343746], [0.8898018002510071, 0.005248417612165213, 0.18425877392292023, 0.001900227158330381, 0.1101587563753128, 0.03281036764383316], [0.008293719962239265, 0.0030616638250648975, 0.00353374145925045, 0.004750535357743502, 0.003765986068174243, 0.004079850390553474], [0.005034592002630234, 0.004064285196363926, 0.0041864123195409775, 0.006152088288217783, 0.004034567624330521, 0.004337698221206665], [0.005312207620590925, 0.00422805268317461, 0.004421024117618799, 0.005846384447067976, 0.003947164863348007, 0.004287049639970064], [0.051398865878582, 0.0019609774462878704, 0.0037016829010099173, 0.004266779404133558, 0.005899021402001381, 0.003090054728090763], [0.9256758689880371, 0.00305138248950243, 0.04637870192527771, 0.00329285254701972, 0.15738637745380402, 0.007945548743009567], [0.9941457509994507, 0.48468029499053955, 0.9707621335983276, 0.08824388682842255, 0.9652907252311707, 0.8088738918304443], [0.9882428050041199, 0.15450094640254974, 0.9705646634101868, 0.007232274394482374, 0.758831799030304, 0.011349113658070564], [0.989325761795044, 0.11529801785945892, 0.93408203125, 0.011195389553904533, 0.8890569806098938, 0.01325233280658722], [0.9649748206138611, 0.02111496403813362, 0.7114391326904297, 0.004494580440223217, 0.548785924911499, 0.004861040040850639], [0.005336896050721407, 0.004077686462551355, 0.004343509674072266, 0.005887389183044434, 0.0039246706292033195, 0.0041049751453101635], [0.9485856890678406, 0.006219364702701569, 0.06042833998799324, 0.011098841205239296, 0.36592787504196167, 0.006383189931511879], [0.027564996853470802, 0.0020564435981214046, 0.003973609302192926, 0.003111980389803648, 0.005157310515642166, 0.0029232455417513847], [0.08301467448472977, 0.0019873834680765867, 0.00501383887603879, 0.004017754923552275, 0.005619892384856939, 0.0031264889985322952], [0.9461700916290283, 0.013065624982118607, 0.7366018891334534, 0.0029830981511622667, 0.1939004510641098, 0.00510012311860919], [0.46848928928375244, 0.0046707079745829105, 0.2719569206237793, 0.002269432879984379, 0.030181914567947388, 0.003255143528804183], [0.007752528414130211, 0.0034206018317490816, 0.004228496458381414, 0.005414741579443216, 0.003756193211302161, 0.003937757108360529], [0.961452066898346, 0.010882235132157803, 0.13605615496635437, 0.009681337513029575, 0.6163279414176941, 0.008564021438360214], [0.9961791038513184, 0.3782564103603363, 0.9818705320358276, 0.054097503423690796, 0.934077262878418, 0.4608963131904602], [0.015009339898824692, 0.002630333648994565, 0.003682857844978571, 0.004732472822070122, 0.003998137544840574, 0.003415403887629509], [0.9121371507644653, 0.0036197551526129246, 0.05089348927140236, 0.005541391670703888, 0.1144186481833458, 0.0049692923203110695], [0.9847203493118286, 0.04552781581878662, 0.8382279276847839, 0.006286558695137501, 0.760683000087738, 0.007197525352239609], [0.011039736680686474, 0.0031963244546204805, 0.0038796640001237392, 0.006580360233783722, 0.0037662957329303026, 0.004221014212816954], [0.8710552453994751, 0.01722990907728672, 0.03418927267193794, 0.030481498688459396, 0.14611634612083435, 0.33137521147727966], [0.00603489251807332, 0.00362715614028275, 0.0038070452865213156, 0.0059381527826189995, 0.0036435993388295174, 0.0045515443198382854], [0.0873427763581276, 0.002487526973709464, 0.0030839326791465282, 0.005508411675691605, 0.011473787017166615, 0.004064298700541258], [0.0062401266768574715, 0.003479232545942068, 0.004031018819659948, 0.005322669167071581, 0.003816647222265601, 0.004108440596610308], [0.8662267923355103, 0.0044704824686050415, 0.01344012375921011, 0.016233494505286217, 0.08901886641979218, 0.03313152864575386], [0.006594677455723286, 0.0035376171581447124, 0.003975833300501108, 0.005720694549381733, 0.003871463006362319, 0.004021746572107077], [0.9846237301826477, 0.42038774490356445, 0.9834563136100769, 0.04002402722835541, 0.6644889116287231, 0.02739088237285614], [0.9242714047431946, 0.023204868659377098, 0.09647264331579208, 0.020976658910512924, 0.25700536370277405, 0.4911167323589325], [0.9546530842781067, 0.014592352323234081, 0.7565711736679077, 0.0026383958756923676, 0.18732094764709473, 0.009345289319753647], [0.9909085631370544, 0.4141264855861664, 0.9877647757530212, 0.01759466901421547, 0.8556706309318542, 0.02681841515004635], [0.9011535048484802, 0.011880826205015182, 0.02670321613550186, 0.04955502972006798, 0.11982942372560501, 0.1546240597963333], [0.0059694889932870865, 0.0037072193808853626, 0.004313675686717033, 0.00516560347750783, 0.004115046001970768, 0.003716044593602419], [0.9455721378326416, 0.03355103358626366, 0.05324307829141617, 0.14017924666404724, 0.2802262306213379, 0.46961674094200134], [0.954026460647583, 0.040070097893476486, 0.8439143300056458, 0.016906358301639557, 0.18617677688598633, 0.0077282218262553215], [0.9766889810562134, 0.03809603676199913, 0.3741948902606964, 0.052798617631196976, 0.6998730301856995, 0.01014324463903904], [0.012137824669480324, 0.0026711977552622557, 0.0034761258866637945, 0.004204616881906986, 0.003964726813137531, 0.004282242152839899], [0.984217643737793, 0.1641809642314911, 0.9645389914512634, 0.014217452146112919, 0.6814586520195007, 0.008740194141864777], [0.9930718541145325, 0.3260720372200012, 0.9870326519012451, 0.013983027078211308, 0.9074152708053589, 0.04203559085726738], [0.01751507818698883, 0.002391008660197258, 0.0036118754651397467, 0.004045721143484116, 0.0038681302685290575, 0.003698880784213543], [0.9344591498374939, 0.0040876721031963825, 0.027617938816547394, 0.008884718641638756, 0.19024044275283813, 0.010992389172315598], [0.9018875956535339, 0.005205059889703989, 0.024103369563817978, 0.020744362846016884, 0.08707478642463684, 0.008438960649073124], [0.008259902708232403, 0.0032923612743616104, 0.003690162906423211, 0.0053388383239507675, 0.0038720103912055492, 0.0038384285289794207], [0.0053093209862709045, 0.003949529491364956, 0.003944466356188059, 0.0059692151844501495, 0.0038610498886555433, 0.004339560400694609], [0.9620928764343262, 0.011154801584780216, 0.15937776863574982, 0.010526472702622414, 0.6739353537559509, 0.008405585773289204], [0.009036989882588387, 0.003524809842929244, 0.003634978085756302, 0.00681200809776783, 0.003520280821248889, 0.006778149865567684], [0.9924135804176331, 0.1192420944571495, 0.9412815570831299, 0.011210157535970211, 0.8961454629898071, 0.16377420723438263], [0.0076401857659220695, 0.003108880016952753, 0.003344279946759343, 0.005138074979186058, 0.0035787904635071754, 0.006003632675856352], [0.005879468284547329, 0.003479544771835208, 0.004001944325864315, 0.005450729746371508, 0.003671296639367938, 0.004399588797241449], [0.007015721406787634, 0.0032168251927942038, 0.003318692557513714, 0.005301301833242178, 0.004109837580472231, 0.004495630506426096], [0.014032472856342793, 0.002724452642723918, 0.0034486791118979454, 0.005217140074819326, 0.0037781621795147657, 0.004780632443726063], [0.9895684123039246, 0.6316205859184265, 0.9784370064735413, 0.11340855807065964, 0.9227935075759888, 0.047350700944662094], [0.015853438526391983, 0.002258025575429201, 0.003767319256439805, 0.0031559921335428953, 0.00467527424916625, 0.0033842765260487795], [0.014368025586009026, 0.002871356438845396, 0.003301973221823573, 0.005078410729765892, 0.004165053367614746, 0.003640532959252596], [0.01192441675812006, 0.002662351820617914, 0.0030937998089939356, 0.004705365281552076, 0.003760705469176173, 0.004692607093602419], [0.9925105571746826, 0.48907703161239624, 0.9899951219558716, 0.024141637608408928, 0.8939006924629211, 0.03716202452778816], [0.8998901844024658, 0.005434909835457802, 0.16325728595256805, 0.0034051828552037477, 0.2896159291267395, 0.0029152645729482174], [0.051291774958372116, 0.0018198228208348155, 0.006085881032049656, 0.0026863228995352983, 0.005838366225361824, 0.0028820987790822983], [0.007570288144052029, 0.0038210968486964703, 0.004613194614648819, 0.005813049618154764, 0.0038292263634502888, 0.0038593485951423645], [0.9240149855613708, 0.003982290625572205, 0.08768218755722046, 0.001984079834073782, 0.34105244278907776, 0.01039849128574133], [0.9035851359367371, 0.0036695299204438925, 0.0825657770037651, 0.0034897909499704838, 0.13458320498466492, 0.0031761894933879375], [0.7074593901634216, 0.009945664554834366, 0.015688136219978333, 0.1037050187587738, 0.04134729877114296, 0.05532446503639221], [0.005876216571778059, 0.004069177433848381, 0.00440020440146327, 0.006568921264261007, 0.003536598989740014, 0.005150501616299152], [0.983082115650177, 0.05574007332324982, 0.7940627932548523, 0.010374823585152626, 0.7671809196472168, 0.36884623765945435], [0.9527906179428101, 0.06235970929265022, 0.932258129119873, 0.003778924699872732, 0.2700498402118683, 0.01325296238064766], [0.0066109164617955685, 0.0037367527838796377, 0.004149909596890211, 0.005847718100994825, 0.0039160847663879395, 0.0040390267968177795], [0.9908225536346436, 0.33352285623550415, 0.7103641629219055, 0.6738126873970032, 0.8125086426734924, 0.6971436142921448], [0.8477789163589478, 0.0024861879646778107, 0.025932829827070236, 0.005254754330962896, 0.04973068833351135, 0.005528994370251894], [0.016813678666949272, 0.0024080125149339437, 0.004095821175724268, 0.00426663551479578, 0.003862714162096381, 0.003362064016982913], [0.010014671832323074, 0.0028884613420814276, 0.003893200308084488, 0.003944586031138897, 0.004964593332260847, 0.005581846460700035], [0.012980302795767784, 0.0024618017487227917, 0.00320468214340508, 0.0044408743269741535, 0.004118593875318766, 0.00373146147467196], [0.006054198369383812, 0.003750202711671591, 0.00425290409475565, 0.005822247359901667, 0.0038973612245172262, 0.004216252826154232], [0.044148508459329605, 0.0021545239724218845, 0.004167285282164812, 0.004307711962610483, 0.005038280971348286, 0.0032706870697438717], [0.026187531650066376, 0.002615592675283551, 0.0034678138326853514, 0.006607488729059696, 0.0039941673167049885, 0.004641667474061251], [0.9397745132446289, 0.01444662269204855, 0.340425580739975, 0.005227324087172747, 0.15083612501621246, 0.15728823840618134], [0.7412830591201782, 0.0023256195709109306, 0.012034839019179344, 0.005513340700417757, 0.04089871048927307, 0.005878072697669268], [0.005855093244463205, 0.003911089617758989, 0.004079772625118494, 0.0062740156427025795, 0.0036574562545865774, 0.004513527732342482], [0.9720016121864319, 0.04863063246011734, 0.9324628114700317, 0.004249737598001957, 0.32721859216690063, 0.008577699773013592], [0.005946664605289698, 0.0035375717561692, 0.003639431204646826, 0.005586885381489992, 0.0039346241392195225, 0.0043547749519348145], [0.9094703793525696, 0.003367750206962228, 0.029778968542814255, 0.005378969945013523, 0.20899546146392822, 0.008246218785643578], [0.990800678730011, 0.25701451301574707, 0.9530484080314636, 0.0462772510945797, 0.8750542402267456, 0.016385909169912338], [0.9794751405715942, 0.3798287808895111, 0.9065741896629333, 0.280218243598938, 0.7288070321083069, 0.04941076412796974], [0.006925960537046194, 0.0034630512818694115, 0.003894348628818989, 0.005336280912160873, 0.003844155929982662, 0.003951381426304579], [0.9868696331977844, 0.059602104127407074, 0.8757867813110352, 0.006967680994421244, 0.8924736380577087, 0.1064341738820076], [0.8711812496185303, 0.004840553738176823, 0.25023725628852844, 0.0032466824632138014, 0.045761995017528534, 0.006729981862008572], [0.9476901292800903, 0.010850735008716583, 0.06984275579452515, 0.010205860249698162, 0.4309191405773163, 0.15560217201709747], [0.007621964905411005, 0.003271940629929304, 0.004287328105419874, 0.004705274011939764, 0.003993434831500053, 0.003757173428311944], [0.861965000629425, 0.005678164307028055, 0.18154454231262207, 0.004602528177201748, 0.041255973279476166, 0.010420682840049267], [0.019457288086414337, 0.0025645724963396788, 0.004289708565920591, 0.004860589746385813, 0.0039767115376889706, 0.003750311676412821], [0.9536794424057007, 0.05209364369511604, 0.18922434747219086, 0.4444049894809723, 0.3026069700717926, 0.05725240707397461], [0.00827669259160757, 0.003030507592484355, 0.0039024557918310165, 0.004875923972576857, 0.003939083777368069, 0.0035459273494780064], [0.0072999573312699795, 0.0036883170250803232, 0.0042303395457565784, 0.0056310417130589485, 0.003882045391947031, 0.0038445668760687113], [0.007830820046365261, 0.0031791755463927984, 0.004251495469361544, 0.004644408822059631, 0.004054080229252577, 0.0036338521167635918], [0.25989654660224915, 0.0018550731474533677, 0.009475651197135448, 0.004025224130600691, 0.01138947531580925, 0.0027679193299263716], [0.9759821891784668, 0.026133248582482338, 0.11927270889282227, 0.1074681431055069, 0.423333078622818, 0.22745177149772644], [0.007002273574471474, 0.002984248800203204, 0.004063719417899847, 0.004100054036825895, 0.003854784881696105, 0.004160580225288868], [0.006842877250164747, 0.0031560370698571205, 0.003258586162701249, 0.005130787380039692, 0.003946024924516678, 0.0045846146531403065], [0.0058068386279046535, 0.0043013193644583225, 0.004350698087364435, 0.006905296351760626, 0.0036977529525756836, 0.004723567049950361], [0.8226813673973083, 0.003766125999391079, 0.10696075856685638, 0.002429385669529438, 0.14831747114658356, 0.002966878470033407], [0.8222675323486328, 0.0059532043524086475, 0.3268117606639862, 0.0029480443336069584, 0.038246672600507736, 0.004976214841008186], [0.006653868593275547, 0.0035959987435489893, 0.00411627721041441, 0.005687004420906305, 0.003839874640107155, 0.003981651738286018], [0.0066583105362951756, 0.0037156438920646906, 0.003875365247949958, 0.005865221377462149, 0.003860795171931386, 0.004621861968189478], [0.01293271966278553, 0.002714661182835698, 0.0036734496243298054, 0.004627068527042866, 0.003786182263866067, 0.003850240958854556], [0.968377411365509, 0.021857179701328278, 0.7588598132133484, 0.009327638894319534, 0.2830321192741394, 0.00509203365072608], [0.012887481600046158, 0.0025744959712028503, 0.0037876826245337725, 0.004054237622767687, 0.003930693957954645, 0.003665471915155649], [0.36222535371780396, 0.0035513141192495823, 0.004316306207329035, 0.009755565784871578, 0.02254163660109043, 0.02650434710085392], [0.980194091796875, 0.057667702436447144, 0.9222156405448914, 0.0032907389104366302, 0.7994783520698547, 0.009874027222394943], [0.7200734615325928, 0.0020950164180248976, 0.012215442955493927, 0.004404725506901741, 0.04670871049165726, 0.0058331736363470554], [0.01314899418503046, 0.003449837677180767, 0.0049273171462118626, 0.00514925317838788, 0.004179236479103565, 0.0032098055817186832], [0.008809647522866726, 0.003164983121678233, 0.0034868884831666946, 0.005092164035886526, 0.0038366527296602726, 0.003918866161257029], [0.007654410786926746, 0.0030534311663359404, 0.00371262663975358, 0.004810585640370846, 0.0035070062149316072, 0.004060610197484493], [0.41507938504219055, 0.0026125716976821423, 0.004897944163531065, 0.01000964269042015, 0.01548855286091566, 0.006396313197910786], [0.008341834880411625, 0.003518732264637947, 0.003959091380238533, 0.005873468238860369, 0.003985613584518433, 0.0043158987537026405], [0.006243930198252201, 0.003812829265370965, 0.00394047237932682, 0.0058199153281748295, 0.003988446202129126, 0.004422489088028669], [0.9063224792480469, 0.0047167083248496056, 0.04600280523300171, 0.0065964460372924805, 0.3116951882839203, 0.005659355781972408], [0.006206507328897715, 0.0038769650273025036, 0.004353222902864218, 0.0059306081384420395, 0.0038076110649853945, 0.004310737829655409], [0.966394305229187, 0.008319353684782982, 0.19412338733673096, 0.004782218020409346, 0.6176421642303467, 0.009303154423832893], [0.0077561307698488235, 0.0029069092124700546, 0.003461307380348444, 0.004760865122079849, 0.003651098581030965, 0.004424410872161388], [0.9898828864097595, 0.35863104462623596, 0.9214165806770325, 0.25264376401901245, 0.9054980278015137, 0.05434268340468407], [0.018762150779366493, 0.002244651783257723, 0.003135297680273652, 0.0032101718243211508, 0.006076064892113209, 0.003296277020126581], [0.7349734902381897, 0.011096428148448467, 0.6149683594703674, 0.0025359131395816803, 0.04237061366438866, 0.005396734457463026], [0.020042823627591133, 0.0025684665888547897, 0.0033831752371042967, 0.005357801914215088, 0.0040004015900194645, 0.004434800706803799], [0.8145617842674255, 0.0023475305642932653, 0.03487219661474228, 0.003333484986796975, 0.04413094371557236, 0.004451903514564037], [0.007993229664862156, 0.0032286320347338915, 0.003554060822352767, 0.005196410696953535, 0.0038434858433902264, 0.004274233244359493], [0.005678629968315363, 0.0037806665059179068, 0.00412023114040494, 0.005988919176161289, 0.0037370885256677866, 0.004605025518685579], [0.9497326016426086, 0.0047310153022408485, 0.05387073755264282, 0.004893646575510502, 0.33001798391342163, 0.007791295647621155], [0.9288281202316284, 0.005559085868299007, 0.15564872324466705, 0.0026342521887272596, 0.48110267519950867, 0.03271818161010742], [0.8943222165107727, 0.003504405962303281, 0.019924774765968323, 0.010477990843355656, 0.10463828593492508, 0.005498974584043026], [0.005740418564528227, 0.003648879239335656, 0.003845911007374525, 0.00582874845713377, 0.003814083058387041, 0.004687720909714699], [0.0334148034453392, 0.0020118781831115484, 0.00421714736148715, 0.0033042544964700937, 0.004945816937834024, 0.003316472750157118], [0.007148158270865679, 0.003236927557736635, 0.003977272659540176, 0.004906231537461281, 0.0039917947724461555, 0.004017256665974855], [0.014253277331590652, 0.002648713765665889, 0.0039055284578353167, 0.004715463146567345, 0.00366979674436152, 0.004186758305877447], [0.9680401682853699, 0.035159554332494736, 0.8833694458007812, 0.0037686654832214117, 0.318455308675766, 0.006185839418321848], [0.013400380499660969, 0.0025568727869540453, 0.003736726474016905, 0.0043814401142299175, 0.0038418942131102085, 0.0036742365919053555], [0.8986892104148865, 0.0062238783575594425, 0.26442626118659973, 0.004500855226069689, 0.05356442555785179, 0.007071967236697674], [0.963019073009491, 0.016886914148926735, 0.24971505999565125, 0.011828248389065266, 0.7721798419952393, 0.00839998759329319], [0.9392014145851135, 0.01886158064007759, 0.15760481357574463, 0.10296178609132767, 0.11831658333539963, 0.017011132091283798], [0.592189371585846, 0.002710543805733323, 0.007755374535918236, 0.009215902537107468, 0.029523994773626328, 0.004396579694002867], [0.029245715588331223, 0.002489506034180522, 0.0037057329900562763, 0.004843791015446186, 0.004839956294745207, 0.0032664043828845024], [0.9161364436149597, 0.005236739758402109, 0.02218695543706417, 0.023031260818243027, 0.12471058964729309, 0.009416329674422741], [0.674376368522644, 0.0028881223406642675, 0.017935628071427345, 0.009739741683006287, 0.019589362666010857, 0.005567110143601894], [0.15303076803684235, 0.0019628757145255804, 0.004392113070935011, 0.004782297648489475, 0.008759677410125732, 0.003269459353759885], [0.02867371216416359, 0.002325286390259862, 0.0029732820112258196, 0.0046738809905946255, 0.004540582187473774, 0.0048410589806735516], [0.9948797225952148, 0.263904869556427, 0.9349740743637085, 0.03802978992462158, 0.9546770453453064, 0.36697039008140564], [0.019684763625264168, 0.0027527196798473597, 0.0033142082393169403, 0.004649159498512745, 0.00442933663725853, 0.010979996994137764], [0.008593919686973095, 0.0034822558518499136, 0.0035412281285971403, 0.005670475773513317, 0.004037638194859028, 0.004419928416609764], [0.1409226506948471, 0.004448474384844303, 0.0930590108036995, 0.0032767835073173046, 0.008949561044573784, 0.0029422109946608543], [0.006059497594833374, 0.0038320450112223625, 0.004142738413065672, 0.005828289780765772, 0.003875847440212965, 0.004378040321171284], [0.9126325249671936, 0.026253685355186462, 0.8260802030563354, 0.0031643828842788935, 0.17775964736938477, 0.004080826882272959], [0.9304932355880737, 0.0047370390966534615, 0.030732689425349236, 0.007845793850719929, 0.28359949588775635, 0.0256017055362463], [0.9081476330757141, 0.003866877406835556, 0.03198175132274628, 0.0045438529923558235, 0.283199667930603, 0.011598444543778896], [0.013778469525277615, 0.00233627506531775, 0.003877867478877306, 0.003173851640895009, 0.005187930539250374, 0.0032840485218912363], [0.03360632807016373, 0.002137160627171397, 0.004412873648107052, 0.0031951533164829016, 0.004967351909726858, 0.004563386086374521], [0.7483634352684021, 0.0025207141879945993, 0.01080023031681776, 0.005620433483272791, 0.07313646376132965, 0.004983995109796524], [0.9706351161003113, 0.023940494284033775, 0.2508736848831177, 0.02907072938978672, 0.7460064888000488, 0.009067988954484463], [0.789615273475647, 0.005418271757662296, 0.01727430894970894, 0.034340471029281616, 0.04066149517893791, 0.00838535651564598], [0.007839282043278217, 0.0035583404824137688, 0.004274048376828432, 0.005796521436423063, 0.003909132443368435, 0.004225469660013914], [0.9302946329116821, 0.01361741591244936, 0.7203373312950134, 0.0025886588264256716, 0.19070552289485931, 0.0034461268223822117], [0.9819024801254272, 0.28385961055755615, 0.9261396527290344, 0.05085081234574318, 0.8796480298042297, 0.8504822254180908], [0.9804573655128479, 0.16617131233215332, 0.9723532199859619, 0.01606346294283867, 0.5273555517196655, 0.01237587258219719], [0.006187003571540117, 0.0036673254799097776, 0.0038066687993705273, 0.005781287793070078, 0.003769068280234933, 0.004178632982075214], [0.06405573338270187, 0.002646356588229537, 0.0042031495831906796, 0.006370732560753822, 0.005241819191724062, 0.007725428324192762], [0.7137945890426636, 0.002370870904996991, 0.010474106296896935, 0.005066161509603262, 0.04651223495602608, 0.004667855799198151], [0.9517161846160889, 0.0533924475312233, 0.9159799814224243, 0.00760184321552515, 0.17779509723186493, 0.009275722317397594], [0.007877310737967491, 0.002957241842523217, 0.0033532825764268637, 0.004685961175709963, 0.004131683148443699, 0.004246346652507782], [0.006198841612786055, 0.003426969749853015, 0.003624534700065851, 0.0053002373315393925, 0.004041632637381554, 0.003953610081225634], [0.005092379171401262, 0.003844820661470294, 0.004132003523409367, 0.005464177578687668, 0.0039889877662062645, 0.004571776371449232], [0.9792715907096863, 0.013486548326909542, 0.4682605266571045, 0.004838061984628439, 0.5262578725814819, 0.006300566252321005], [0.06884437054395676, 0.0015861757565289736, 0.004982593469321728, 0.0023230675142258406, 0.008163202553987503, 0.0034521124325692654], [0.006673797033727169, 0.003528756322339177, 0.004031315445899963, 0.005534384865313768, 0.0036583547480404377, 0.004359371494501829], [0.024988137185573578, 0.002538712928071618, 0.003926423378288746, 0.004817235749214888, 0.004357670899480581, 0.004014916252344847], [0.005956586450338364, 0.0035452954471111298, 0.003950919955968857, 0.00537480041384697, 0.003851373214274645, 0.004130655899643898], [0.11665235459804535, 0.001807376858778298, 0.003580334596335888, 0.004077715799212456, 0.008222262375056744, 0.004707112442702055], [0.005585243459790945, 0.003941451199352741, 0.00419245008379221, 0.00606655515730381, 0.00393138499930501, 0.004087180830538273], [0.9216323494911194, 0.019040320068597794, 0.740870475769043, 0.0035978236701339483, 0.5052182078361511, 0.004155709408223629], [0.00742603512480855, 0.0036693767178803682, 0.003829293418675661, 0.005937108304351568, 0.003794888500124216, 0.004060874227434397], [0.007756439037621021, 0.0033780662342906, 0.004237219225615263, 0.005340919829905033, 0.0036393883638083935, 0.0038615106604993343], [0.6305133700370789, 0.002808733144775033, 0.0057937391102313995, 0.009518218226730824, 0.046356234699487686, 0.008117606863379478], [0.0053718010894954205, 0.003959070425480604, 0.004046230111271143, 0.005991196259856224, 0.0038537816144526005, 0.004604874644428492], [0.5323659777641296, 0.002256522187963128, 0.00888753216713667, 0.007150994148105383, 0.018816009163856506, 0.0044537694193422794], [0.01207045093178749, 0.0027114860713481903, 0.0032343240454792976, 0.004905465990304947, 0.0038642038125544786, 0.003949758596718311], [0.012745332904160023, 0.0026997250970453024, 0.0036860716063529253, 0.004748065024614334, 0.0036093073431402445, 0.0040078372694551945], [0.009279807098209858, 0.0029466080013662577, 0.0030558183789253235, 0.004997658543288708, 0.003697637002915144, 0.005663242656737566], [0.9295318126678467, 0.004311779979616404, 0.047750070691108704, 0.01021040789783001, 0.13643379509449005, 0.005808162968605757], [0.03481641784310341, 0.001997328596189618, 0.0030435360968112946, 0.0034083006903529167, 0.00512655870988965, 0.005466805770993233], [0.8926639556884766, 0.016756689175963402, 0.05957162752747536, 0.15052172541618347, 0.09157361090183258, 0.05104019120335579], [0.005989129189401865, 0.0035128132440149784, 0.0037776704411953688, 0.0052347080782055855, 0.003836707677692175, 0.004294365178793669], [0.020267749205231667, 0.0026145728770643473, 0.003213358111679554, 0.005609352607280016, 0.004224881995469332, 0.0038633395452052355], [0.9437116980552673, 0.08151077479124069, 0.9311240911483765, 0.009772139601409435, 0.18958938121795654, 0.010068110190331936], [0.00518210930749774, 0.00400474714115262, 0.004370352253317833, 0.005786406807601452, 0.003933123778551817, 0.004294336773455143], [0.008309752680361271, 0.0033331457525491714, 0.00399984885007143, 0.005278604105114937, 0.003843054873868823, 0.0036329717840999365], [0.006254137028008699, 0.003610135754570365, 0.004077262710779905, 0.005400858819484711, 0.0036998367868363857, 0.004005045630037785], [0.9144442677497864, 0.005690151825547218, 0.062290553003549576, 0.006363848689943552, 0.45275047421455383, 0.006591985002160072], [0.00569653557613492, 0.0036000467371195555, 0.003697440028190613, 0.005700593814253807, 0.0036070372443646193, 0.0051231528632342815], [0.015144463628530502, 0.0032006266992539167, 0.003186947898939252, 0.00602077879011631, 0.0041788555681705475, 0.011035109870135784], [0.005908130202442408, 0.003862339537590742, 0.004509946797043085, 0.005479536950588226, 0.003808557288721204, 0.004171345848590136], [0.989080011844635, 0.5110978484153748, 0.9788371324539185, 0.07445938140153885, 0.8871634006500244, 0.028944114223122597], [0.9394380450248718, 0.03787150979042053, 0.8892162442207336, 0.004846416879445314, 0.1394365131855011, 0.008838322944939137], [0.9892542362213135, 0.042817484587430954, 0.6847079396247864, 0.021622151136398315, 0.8303679823875427, 0.013786680996418], [0.9620487093925476, 0.16923849284648895, 0.9348098635673523, 0.03363741561770439, 0.4819605350494385, 0.009980738162994385], [0.8392791748046875, 0.0031481392215937376, 0.01955866999924183, 0.009339803829789162, 0.0522787980735302, 0.007006840314716101], [0.006214276887476444, 0.003454450750723481, 0.004208342172205448, 0.005404345691204071, 0.003835525130853057, 0.003927417099475861], [0.006464493926614523, 0.003519347868859768, 0.004129959270358086, 0.005517575424164534, 0.0038622976280748844, 0.004058427177369595], [0.9506624937057495, 0.0071193319745361805, 0.08877410739660263, 0.005987741518765688, 0.5508083701133728, 0.008175051771104336], [0.9760299921035767, 0.006935989949852228, 0.1991165578365326, 0.007182990200817585, 0.3475581109523773, 0.008126883767545223], [0.005347370635718107, 0.003756398567929864, 0.0037255771458148956, 0.0054658446460962296, 0.0040112705901265144, 0.0048851436004042625], [0.8631861805915833, 0.012126336805522442, 0.033346306532621384, 0.11212175339460373, 0.07443904131650925, 0.015216085128486156], [0.39427345991134644, 0.005079749971628189, 0.3094983994960785, 0.0022533584851771593, 0.0437118224799633, 0.003818212077021599], [0.9555741548538208, 0.008094258606433868, 0.08697016537189484, 0.0096280537545681, 0.5890601277351379, 0.00958332885056734], [0.012504033744335175, 0.0023343574721366167, 0.004198573995381594, 0.00328568322584033, 0.004181419964879751, 0.003257189877331257], [0.9876921772956848, 0.20771609246730804, 0.9561687707901001, 0.016257256269454956, 0.9226374626159668, 0.017110440880060196], [0.006469929590821266, 0.003450373886153102, 0.004246959928423166, 0.005138009320944548, 0.0037426105700433254, 0.003919471055269241], [0.8355920314788818, 0.005108159501105547, 0.014756227843463421, 0.021601198241114616, 0.04760264232754707, 0.028360731899738312], [0.975548505783081, 0.05071602016687393, 0.9289741516113281, 0.004827840253710747, 0.45460718870162964, 0.006734465714544058], [0.9948616623878479, 0.5055058002471924, 0.987621009349823, 0.030497534200549126, 0.9658465385437012, 0.07099872827529907], [0.9692363739013672, 0.013087182305753231, 0.20320259034633636, 0.00946982204914093, 0.7564322352409363, 0.012633237987756729], [0.9627315402030945, 0.00785861723124981, 0.055175185203552246, 0.013623706065118313, 0.4282897412776947, 0.010404680855572224], [0.010788979008793831, 0.002894546138122678, 0.0034883669577538967, 0.004766811151057482, 0.003965455573052168, 0.003701111301779747], [0.006244785152375698, 0.003784292610362172, 0.003983684815466404, 0.005930144339799881, 0.0038284496404230595, 0.0042443228885531425], [0.9937856197357178, 0.17884153127670288, 0.7948070764541626, 0.2454289048910141, 0.9051477313041687, 0.4248427152633667], [0.9949353337287903, 0.3822126090526581, 0.9785354733467102, 0.03604425862431526, 0.9457116723060608, 0.043392058461904526], [0.9295128583908081, 0.009158685803413391, 0.06576253473758698, 0.05497948080301285, 0.09723600745201111, 0.01139144692569971], [0.8256492018699646, 0.004300907254219055, 0.2602085471153259, 0.0023218474816530943, 0.053580451756715775, 0.003218912985175848], [0.008398673497140408, 0.0034128129482269287, 0.003984028939157724, 0.0055884625762701035, 0.0037059250753372908, 0.004414769820868969], [0.005954452324658632, 0.0035897851921617985, 0.0039345379918813705, 0.00566241005435586, 0.0037272856570780277, 0.004454742185771465], [0.04077571630477905, 0.0020373109728097916, 0.0033931771758943796, 0.003866671584546566, 0.005232764407992363, 0.0033539854921400547], [0.9101595282554626, 0.005089085083454847, 0.04905713349580765, 0.004651704337447882, 0.21331579983234406, 0.06600204110145569], [0.6599020957946777, 0.0026603771839290857, 0.118458591401577, 0.0018358731176704168, 0.04994196817278862, 0.002574438462033868], [0.06209582835435867, 0.001985087525099516, 0.004493799526244402, 0.0030757279600948095, 0.006131222005933523, 0.0037178071215748787], [0.962904691696167, 0.010688487440347672, 0.2964338958263397, 0.01911981962621212, 0.15828807651996613, 0.010112925432622433], [0.0069312299601733685, 0.0031294922810047865, 0.0039658923633396626, 0.0047607701271772385, 0.003613246837630868, 0.00409240135923028], [0.93892902135849, 0.010339598171412945, 0.02473803237080574, 0.03959112614393234, 0.19914276897907257, 0.14124850928783417], [0.9071389436721802, 0.005755783524364233, 0.052180495113134384, 0.006905175745487213, 0.3988293409347534, 0.005893732886761427], [0.9819793701171875, 0.03495336323976517, 0.7988943457603455, 0.00505420146510005, 0.8489729166030884, 0.01020913664251566], [0.9939355254173279, 0.20333842933177948, 0.9603636264801025, 0.02229558490216732, 0.9363714456558228, 0.3325295150279999], [0.8550812602043152, 0.005910962354391813, 0.025630854070186615, 0.02300667203962803, 0.05953441560268402, 0.03493684530258179], [0.00581425940617919, 0.0036940216086804867, 0.003919039387255907, 0.005803673528134823, 0.0038658692501485348, 0.004516590386629105], [0.008165593259036541, 0.0031324720475822687, 0.004237233195453882, 0.004530147183686495, 0.0037702929694205523, 0.003899772185832262], [0.9338374137878418, 0.049794312566518784, 0.9169129133224487, 0.006981370039284229, 0.1854919195175171, 0.006070742849260569], [0.01354565005749464, 0.002895719138905406, 0.0032858895137906075, 0.00592433987185359, 0.004084331914782524, 0.004245665390044451], [0.9762211441993713, 0.02362864837050438, 0.44403865933418274, 0.00912957452237606, 0.8538495898246765, 0.011783788911998272], [0.5930970907211304, 0.006967815570533276, 0.009210427291691303, 0.025392891839146614, 0.030322609469294548, 0.08935350179672241], [0.011817178688943386, 0.00253444560803473, 0.004334624391049147, 0.004088244400918484, 0.004413525108247995, 0.003129664808511734], [0.9883795976638794, 0.47617632150650024, 0.9386069178581238, 0.3801957964897156, 0.9100137948989868, 0.0749317929148674], [0.9738880395889282, 0.011063648387789726, 0.16711901128292084, 0.006588832475244999, 0.6855724453926086, 0.07868769019842148], [0.9742986559867859, 0.01547609455883503, 0.6765064001083374, 0.002657051896676421, 0.6021657586097717, 0.005403582472354174], [0.006678702309727669, 0.0035395591985434294, 0.004075555130839348, 0.005461669526994228, 0.003962520509958267, 0.003901930758729577], [0.005569061264395714, 0.00405569514259696, 0.004254128318279982, 0.005610584281384945, 0.004095638170838356, 0.004020738415420055], [0.011945514008402824, 0.0028644443955272436, 0.003492067102342844, 0.005171512719243765, 0.00390620157122612, 0.0037439335137605667], [0.9893165826797485, 0.10834020376205444, 0.9652432799339294, 0.011937109753489494, 0.605236291885376, 0.019780976697802544], [0.6256264448165894, 0.0030173668637871742, 0.0071182092651724815, 0.006017280742526054, 0.03634525462985039, 0.027075769379734993], [0.9576564431190491, 0.01743583381175995, 0.6690343618392944, 0.00349616096355021, 0.6090407371520996, 0.005139840301126242], [0.42348557710647583, 0.002072221366688609, 0.006363754626363516, 0.005575994960963726, 0.01568482257425785, 0.005272370763123035], [0.23340584337711334, 0.001784593565389514, 0.005085828714072704, 0.0035467897541821003, 0.014679958112537861, 0.0033590197563171387], [0.018797358497977257, 0.002611412899568677, 0.0031405212357640266, 0.005456297658383846, 0.0040947748348116875, 0.005339374765753746], [0.48913127183914185, 0.001935782260261476, 0.012803222984075546, 0.00327076343819499, 0.02558004856109619, 0.0030860695987939835], [0.9950443506240845, 0.49856793880462646, 0.9814241528511047, 0.06254532933235168, 0.9515325427055359, 0.05929921939969063], [0.014893666841089725, 0.0025641992688179016, 0.003456580452620983, 0.0039666141383349895, 0.004233169369399548, 0.0038914349861443043], [0.007900318130850792, 0.002917409874498844, 0.003513833275064826, 0.004778026137501001, 0.004005793482065201, 0.0038438583724200726], [0.973870038986206, 0.009782407432794571, 0.12483713775873184, 0.008705967105925083, 0.6452559232711792, 0.021632589399814606], [0.07020322978496552, 0.0018405723385512829, 0.004307491239160299, 0.0029157346580177546, 0.006967004854232073, 0.0033638186287134886], [0.7082972526550293, 0.017618495970964432, 0.03370339050889015, 0.18429891765117645, 0.055000804364681244, 0.02295329049229622], [0.00588100403547287, 0.003356683300808072, 0.003837879514321685, 0.005080366972833872, 0.003809047397226095, 0.004201092757284641], [0.2734995484352112, 0.002592103322967887, 0.013629327528178692, 0.0046096071600914, 0.008436687290668488, 0.004378042183816433], [0.008354850113391876, 0.003549787448719144, 0.003827333217486739, 0.006120605859905481, 0.003869688604027033, 0.0041269599460065365], [0.9942823648452759, 0.3099054992198944, 0.9730183482170105, 0.029287364333868027, 0.9592974185943604, 0.07143547385931015], [0.018021494150161743, 0.0025156321935355663, 0.0037487975787371397, 0.00469619408249855, 0.00401332275941968, 0.0033356971107423306], [0.31971263885498047, 0.0024174891877919436, 0.004075044300407171, 0.005818453151732683, 0.016926201060414314, 0.012959121726453304], [0.7873654365539551, 0.003932876978069544, 0.0157113466411829, 0.02209850586950779, 0.03998228907585144, 0.007727303076535463], [0.9896479249000549, 0.03755896911025047, 0.5874584913253784, 0.007470480632036924, 0.8263830542564392, 0.041609540581703186], [0.18800154328346252, 0.0021865435410290956, 0.005622310098260641, 0.005913358181715012, 0.007605099119246006, 0.004014537204056978], [0.005637579597532749, 0.0037573552690446377, 0.004077923018485308, 0.0058397832326591015, 0.003848165972158313, 0.004415513947606087], [0.008702103979885578, 0.003362538293004036, 0.004015665967017412, 0.005659105721861124, 0.0037468194495886564, 0.0039666155353188515], [0.9817923903465271, 0.027004985138773918, 0.5042188763618469, 0.008374257944524288, 0.8695288896560669, 0.09003376960754395], [0.9900487661361694, 0.231918603181839, 0.9667491316795349, 0.01447245106101036, 0.9033974409103394, 0.015338454395532608], [0.5645650029182434, 0.0018229116685688496, 0.013647980988025665, 0.00246442505158484, 0.04015285149216652, 0.003725785994902253], [0.9941017031669617, 0.10676112025976181, 0.9310915470123291, 0.015849405899643898, 0.8263095617294312, 0.261943519115448], [0.6534268260002136, 0.002430802909657359, 0.019239477813243866, 0.004938170313835144, 0.03188187628984451, 0.0029339150059968233], [0.007243090774863958, 0.0033493712544441223, 0.004520912189036608, 0.004877268802374601, 0.0034850221127271652, 0.004241790622472763], [0.8837419748306274, 0.005541178397834301, 0.017216278240084648, 0.03617338463664055, 0.11689875274896622, 0.011494134552776814], [0.009487321600317955, 0.003092194441705942, 0.003836383344605565, 0.005272140726447105, 0.0038502903189510107, 0.004274115432053804], [0.9680091738700867, 0.10344677418470383, 0.6955460906028748, 0.18606477975845337, 0.39543256163597107, 0.02602457068860531], [0.9738849997520447, 0.04450255632400513, 0.2081540822982788, 0.04030833765864372, 0.638840913772583, 0.6774550080299377], [0.7468563318252563, 0.002583071356639266, 0.031760938465595245, 0.0027827133890241385, 0.12983199954032898, 0.0030327013228088617], [0.009772527031600475, 0.002857581479474902, 0.0033164615742862225, 0.004700339399278164, 0.004323887173086405, 0.0035771059338003397], [0.9883490800857544, 0.2054763287305832, 0.9792882800102234, 0.011320454999804497, 0.7282497882843018, 0.014283967204391956], [0.008620338514447212, 0.0031292468775063753, 0.0037902386393398046, 0.005321490578353405, 0.003894731868058443, 0.0036744687240570784], [0.008742623031139374, 0.0031672148033976555, 0.0037611573934555054, 0.005038685165345669, 0.0037452944088727236, 0.004020140506327152], [0.9225886464118958, 0.007523928768932819, 0.05671968311071396, 0.009183713234961033, 0.5478890538215637, 0.00926029309630394], [0.9335471391677856, 0.017435720190405846, 0.10336636751890182, 0.0183721873909235, 0.2275904268026352, 0.37855708599090576], [0.0069883218966424465, 0.003713889978826046, 0.0037498893216252327, 0.0067581539042294025, 0.003707626136019826, 0.005395646207034588], [0.014928149059414864, 0.002514458727091551, 0.003168794559314847, 0.004362883046269417, 0.004792175721377134, 0.003525469684973359], [0.5787387490272522, 0.002826390555128455, 0.009329374879598618, 0.009170354343950748, 0.02443828620016575, 0.003812760580331087], [0.20001132786273956, 0.002837298670783639, 0.0055548567324876785, 0.009865062311291695, 0.008428222499787807, 0.004716875497251749], [0.3192581534385681, 0.0026864963583648205, 0.007227571681141853, 0.009064922109246254, 0.011293115094304085, 0.004128620028495789], [0.984731912612915, 0.2180701643228531, 0.9205814599990845, 0.035414934158325195, 0.8779417872428894, 0.7701454758644104], [0.006906774360686541, 0.003655713517218828, 0.004012267105281353, 0.005767641123384237, 0.0038277043495327234, 0.00411422923207283], [0.006749939639121294, 0.004301490727812052, 0.004153148271143436, 0.007141683250665665, 0.0037230614107102156, 0.005251296330243349], [0.0055784122087061405, 0.003742384957149625, 0.004145895130932331, 0.005459968466311693, 0.004081342834979296, 0.004301844164729118], [0.7907266616821289, 0.017961129546165466, 0.031010188162326813, 0.20738348364830017, 0.09079399704933167, 0.026733048260211945], [0.8643061518669128, 0.003982988651841879, 0.06259409338235855, 0.011437526904046535, 0.052240170538425446, 0.005340035539120436], [0.9130934476852417, 0.04603119194507599, 0.893083930015564, 0.007300306111574173, 0.13524113595485687, 0.006693386472761631], [0.9730176329612732, 0.019689446315169334, 0.34713736176490784, 0.009887471795082092, 0.7701014876365662, 0.1825159639120102], [0.007029333151876926, 0.003513262141495943, 0.0039720190688967705, 0.005687710829079151, 0.003978545777499676, 0.003982023801654577], [0.007938073016703129, 0.00375574198551476, 0.004050327464938164, 0.006033550947904587, 0.004039335530251265, 0.004356913268566132], [0.006407578941434622, 0.003740312298759818, 0.003747898153960705, 0.005867365747690201, 0.0041271597146987915, 0.003955031745135784], [0.009932830929756165, 0.003095411928370595, 0.003562691854313016, 0.005071851424872875, 0.003948269411921501, 0.0036323745734989643], [0.00862313061952591, 0.0030218528117984533, 0.0031765925232321024, 0.005191872362047434, 0.003713041078299284, 0.00526375463232398], [0.9718584418296814, 0.020725753158330917, 0.2272791564464569, 0.028117958456277847, 0.7630656957626343, 0.010305746458470821], [0.5790674686431885, 0.001980631845071912, 0.010501516051590443, 0.0037256977520883083, 0.022969314828515053, 0.004731965716928244], [0.47145843505859375, 0.0017412158194929361, 0.01035970076918602, 0.002552705118432641, 0.02266959473490715, 0.0031704504508525133], [0.032086100429296494, 0.0021233095321804285, 0.003983253613114357, 0.00408156169578433, 0.005119177978485823, 0.003032487817108631], [0.407802015542984, 0.0026461968664079905, 0.0062475260347127914, 0.004504668526351452, 0.02237883396446705, 0.026813127100467682], [0.9705331325531006, 0.008309449069201946, 0.08117737621068954, 0.03175327181816101, 0.21174843609333038, 0.01702244207262993], [0.9765780568122864, 0.19458571076393127, 0.9725292921066284, 0.024125751107931137, 0.41776353120803833, 0.017929306253790855], [0.9933661818504333, 0.289311945438385, 0.9739974141120911, 0.03183958679437637, 0.8778946399688721, 0.027959121391177177], [0.007217505946755409, 0.002970251254737377, 0.0034779829438775778, 0.004626723937690258, 0.004101463593542576, 0.0038503347896039486], [0.005347553174942732, 0.003862108336761594, 0.004011218901723623, 0.005613971967250109, 0.0038167249877005816, 0.004457972943782806], [0.21519987285137177, 0.0024948983918875456, 0.00441193301230669, 0.008480329997837543, 0.009599600918591022, 0.00953526608645916], [0.9933904409408569, 0.3551660478115082, 0.9822819232940674, 0.024681752547621727, 0.9453584551811218, 0.04590903967618942], [0.0863126665353775, 0.00208287569694221, 0.003209561575204134, 0.004260423127561808, 0.008434687741100788, 0.005313777830451727], [0.8197324275970459, 0.0025522462092339993, 0.02999115362763405, 0.0026734177954494953, 0.14316967129707336, 0.004031768999993801], [0.9887690544128418, 0.32768937945365906, 0.9143922328948975, 0.2310207635164261, 0.903255820274353, 0.04085804522037506], [0.006057817954570055, 0.0033994088880717754, 0.0036865267902612686, 0.005279372911900282, 0.0038988131564110518, 0.004590940196067095], [0.010418727062642574, 0.002739920048043132, 0.0031615474727004766, 0.0046044946648180485, 0.003731481032446027, 0.0048436508513987064], [0.0635652095079422, 0.002290115226060152, 0.003409912809729576, 0.005622624419629574, 0.006243170239031315, 0.0033152622636407614], [0.0066925399005413055, 0.0033053585793823004, 0.0038180435076355934, 0.0050997426733374596, 0.003714952152222395, 0.00421299459412694], [0.005689676851034164, 0.003858250332996249, 0.004469307139515877, 0.005708291195333004, 0.0039270962588489056, 0.003931986168026924], [0.9731029868125916, 0.012955456972122192, 0.5540741086006165, 0.0026145181618630886, 0.6194894313812256, 0.005479004234075546], [0.9601656198501587, 0.014911195263266563, 0.38634106516838074, 0.0052668447606265545, 0.7605984807014465, 0.011465916410088539], [0.9938667416572571, 0.3022477626800537, 0.9842888712882996, 0.030253523960709572, 0.8527227640151978, 0.04978790506720543], [0.005809694062918425, 0.003656363347545266, 0.004091997165232897, 0.00571920583024621, 0.003784691682085395, 0.0040804860182106495], [0.9923065304756165, 0.17719316482543945, 0.9517807364463806, 0.016503136605024338, 0.9529464244842529, 0.09314244985580444], [0.5876884460449219, 0.004879009444266558, 0.3519923686981201, 0.0017180927097797394, 0.048037655651569366, 0.002975817769765854], [0.005157181061804295, 0.0038132676854729652, 0.004018790554255247, 0.005184815730899572, 0.004061853978782892, 0.004296604543924332], [0.9647321105003357, 0.022626837715506554, 0.8381944298744202, 0.0024290112778544426, 0.2910463511943817, 0.004815603606402874], [0.9657279849052429, 0.016732774674892426, 0.2975553274154663, 0.00890424381941557, 0.8161652088165283, 0.01040570717304945], [0.8334737420082092, 0.003366359742358327, 0.04704801365733147, 0.0026760497130453587, 0.2745921015739441, 0.004229153040796518], [0.8049248456954956, 0.006828264333307743, 0.018744537606835365, 0.023289652541279793, 0.051232121884822845, 0.09478984773159027], [0.9573512077331543, 0.5270578861236572, 0.8681763410568237, 0.6793105006217957, 0.7590790390968323, 0.10828204452991486], [0.9565109014511108, 0.03227429836988449, 0.8809528350830078, 0.0023938787635415792, 0.45349445939064026, 0.005116344895213842], [0.9910266995429993, 0.252017080783844, 0.9725149869918823, 0.015117808245122433, 0.913161039352417, 0.016855522990226746], [0.5261706113815308, 0.00189698685426265, 0.00951344519853592, 0.0034501003101468086, 0.03870601952075958, 0.004098840989172459], [0.9513213634490967, 0.010436656884849072, 0.4500807225704193, 0.002080041915178299, 0.5479185581207275, 0.02059260755777359], [0.9631339907646179, 0.05758869647979736, 0.919975996017456, 0.01076290849596262, 0.20361565053462982, 0.013568555004894733], [0.01965181529521942, 0.0024792971089482307, 0.003587002633139491, 0.0047986130230128765, 0.004418527241796255, 0.003665157128125429], [0.008405212312936783, 0.003093339502811432, 0.0036137427669018507, 0.0047599500976502895, 0.003967247437685728, 0.0040021915920078754], [0.8950395584106445, 0.007971808314323425, 0.021334949880838394, 0.056957509368658066, 0.08558246493339539, 0.017896538600325584], [0.9837533235549927, 0.14025898277759552, 0.8229796886444092, 0.028469862416386604, 0.8758732676506042, 0.7240437269210815], [0.009421956725418568, 0.0030718075577169657, 0.0038372925482690334, 0.004984159022569656, 0.003755991579964757, 0.003999484237283468], [0.9320786595344543, 0.01547221653163433, 0.2740303575992584, 0.006297202315181494, 0.4645829498767853, 0.28941458463668823], [0.2586817443370819, 0.0015775331994518638, 0.0074809216894209385, 0.0024317605420947075, 0.014252749271690845, 0.0034429680090397596], [0.10698592662811279, 0.002583277877420187, 0.005040796007961035, 0.007498307153582573, 0.005613207817077637, 0.005649990402162075], [0.9937844276428223, 0.6888430714607239, 0.9827812314033508, 0.23637856543064117, 0.9721002578735352, 0.8954192399978638], [0.986966609954834, 0.08908959478139877, 0.9289093613624573, 0.006713026203215122, 0.8939658403396606, 0.11362120509147644], [0.17709678411483765, 0.0025824327021837234, 0.004927639849483967, 0.005419188644737005, 0.010023247450590134, 0.019693532958626747], [0.007421810645610094, 0.0033842911943793297, 0.004698663949966431, 0.004920674953609705, 0.003821899648755789, 0.003596104681491852], [0.006996804848313332, 0.00335366977378726, 0.004368734546005726, 0.004749496467411518, 0.0038536388892680407, 0.003766782348975539], [0.8740338683128357, 0.01929198019206524, 0.8132131695747375, 0.00259869871661067, 0.10833398252725601, 0.0046089221723377705], [0.008573094382882118, 0.003085840493440628, 0.0037365183234214783, 0.005044702906161547, 0.004064613487571478, 0.0035871954169124365], [0.08077773451805115, 0.0023444448597729206, 0.004204415250569582, 0.006457111332565546, 0.005376498680561781, 0.004102073144167662], [0.9875320792198181, 0.15664558112621307, 0.9656436443328857, 0.008328800089657307, 0.8603097200393677, 0.01260470226407051], [0.982492208480835, 0.016215479001402855, 0.26218628883361816, 0.011354892514646053, 0.7088250517845154, 0.010521641001105309], [0.9309825301170349, 0.020117763429880142, 0.8003613352775574, 0.0023913169279694557, 0.4060309827327728, 0.004921254236251116], [0.9180046319961548, 0.01971224509179592, 0.05325930938124657, 0.03300611302256584, 0.18405108153820038, 0.41717657446861267], [0.01020844280719757, 0.0027836861554533243, 0.003349000122398138, 0.004712061025202274, 0.0038120034150779247, 0.003893786808475852], [0.009096489287912846, 0.0032787304371595383, 0.0036958276759833097, 0.005404843483120203, 0.00411522202193737, 0.003820891957730055], [0.007229471113532782, 0.003047485835850239, 0.0036531880032271147, 0.004646161571145058, 0.0038705451879650354, 0.003972505684942007], [0.9027049541473389, 0.0049783592112362385, 0.024351326748728752, 0.018909573554992676, 0.20904362201690674, 0.007104388438165188], [0.9880395531654358, 0.2670835852622986, 0.9691628217697144, 0.015530431643128395, 0.8959367275238037, 0.01464854646474123], [0.007224520202726126, 0.0034105756785720587, 0.004019808489829302, 0.00515641737729311, 0.003771372837945819, 0.003881702432408929], [0.6331104040145874, 0.001926836441271007, 0.010712611488997936, 0.004067523404955864, 0.037746403366327286, 0.004296361468732357], [0.9944897890090942, 0.5562912225723267, 0.9815373420715332, 0.09785544872283936, 0.9733315110206604, 0.750252902507782], [0.012903924100100994, 0.002358573256060481, 0.003233411116525531, 0.0036406295839697123, 0.004136837087571621, 0.004434194415807724], [0.007419226225465536, 0.003536344738677144, 0.0037056151777505875, 0.00556710222736001, 0.004083673004060984, 0.003990293480455875], [0.9918279647827148, 0.5248976945877075, 0.9780017733573914, 0.08725013583898544, 0.937698245048523, 0.038675837218761444], [0.2141312062740326, 0.0017614798853173852, 0.023781584575772285, 0.0013055556919425726, 0.018122175708413124, 0.0037380720023065805], [0.9751325249671936, 0.2502707242965698, 0.9464231133460999, 0.10518825054168701, 0.5475580096244812, 0.020546400919556618], [0.01035370398312807, 0.00293042603880167, 0.003640450071543455, 0.005143108777701855, 0.0036400589160621166, 0.004044222645461559], [0.9525220394134521, 0.01423075795173645, 0.7043363451957703, 0.0032589533366262913, 0.23039263486862183, 0.0037002323660999537], [0.006453607231378555, 0.003342447569593787, 0.0038626259192824364, 0.005000749137252569, 0.0037676128558814526, 0.004508538171648979], [0.9912142157554626, 0.5126316547393799, 0.9768124222755432, 0.08252202719449997, 0.9294604063034058, 0.034911688417196274], [0.02048724889755249, 0.0024932234082370996, 0.003649724880233407, 0.004802110139280558, 0.004144398961216211, 0.00334995542652905], [0.008199387229979038, 0.0029308954253792763, 0.0038486705161631107, 0.004497156012803316, 0.0034995670430362225, 0.004821342881768942], [0.9910097122192383, 0.32415473461151123, 0.9820075631141663, 0.017624415457248688, 0.8647332787513733, 0.015755312517285347], [0.9460432529449463, 0.025904573500156403, 0.7156696319580078, 0.0035539495293051004, 0.47235822677612305, 0.14930163323879242], [0.037101972848176956, 0.0020498987287282944, 0.00412809057161212, 0.0036792533937841654, 0.005076820496469736, 0.0028858615551143885], [0.684436559677124, 0.002402059966698289, 0.027732891961932182, 0.0015840515261515975, 0.08334534615278244, 0.01765126734972], [0.006618712097406387, 0.0033814585767686367, 0.003914812579751015, 0.005286027677357197, 0.0037633483298122883, 0.0040654027834534645], [0.038555361330509186, 0.0021974986884742975, 0.003868751460686326, 0.004652649164199829, 0.004892367869615555, 0.0032031957525759935], [0.7488885521888733, 0.0024605398066341877, 0.09779664874076843, 0.001992247998714447, 0.04070747643709183, 0.0030164532363414764], [0.007165233604609966, 0.0030353651382029057, 0.00387147581204772, 0.004594356287270784, 0.0038312335964292288, 0.003941153176128864], [0.9945536851882935, 0.2665597200393677, 0.9696704149246216, 0.029525276273489, 0.9630816578865051, 0.1320696473121643], [0.006904802285134792, 0.0035691536031663418, 0.0037431030068546534, 0.005870515014976263, 0.003915764391422272, 0.004928215406835079], [0.006754237227141857, 0.0034620461519807577, 0.003900648793205619, 0.005548496264964342, 0.0038732874672859907, 0.00401725061237812], [0.008196092210710049, 0.002909590257331729, 0.004003218375146389, 0.004396145697683096, 0.0041792625561356544, 0.0034932352136820555], [0.006385461427271366, 0.003768239403143525, 0.004119832534343004, 0.005777922458946705, 0.0040016938000917435, 0.003955232445150614], [0.005933240056037903, 0.0035354462452232838, 0.0040908255614340305, 0.0053946636617183685, 0.0038697419222444296, 0.004041682463139296], [0.011524982750415802, 0.0035968308802694082, 0.0047438014298677444, 0.005203213542699814, 0.003927570302039385, 0.0036098421551287174], [0.0051596942357718945, 0.003992105834186077, 0.004211622290313244, 0.005764543544501066, 0.004044468514621258, 0.004196020774543285], [0.1881439983844757, 0.001858480740338564, 0.005598068702965975, 0.0037917601875960827, 0.008621295914053917, 0.003185177454724908], [0.9861404895782471, 0.051236871629953384, 0.6992965936660767, 0.012048998847603798, 0.9158352017402649, 0.1228187084197998], [0.9513720870018005, 0.006086414679884911, 0.0957460105419159, 0.003649636637419462, 0.459838330745697, 0.031004462391138077], [0.0068773808889091015, 0.0041268328204751015, 0.004160629585385323, 0.0059769949875772, 0.004157084506005049, 0.004189088940620422], [0.9243651032447815, 0.0031309996265918016, 0.06629332154989243, 0.003887775121256709, 0.11573535948991776, 0.0062270029447972775], [0.8614953756332397, 0.004558367654681206, 0.28709909319877625, 0.002200494287535548, 0.08931105583906174, 0.0029977813828736544], [0.9491034150123596, 0.007277365308254957, 0.09253310412168503, 0.007375188637524843, 0.5902433395385742, 0.008632291108369827], [0.9924321174621582, 0.09771279245615005, 0.9425756931304932, 0.00791235826909542, 0.8873599171638489, 0.10506438463926315], [0.015962867066264153, 0.0025872359983623028, 0.002954883500933647, 0.004625008907169104, 0.004850129596889019, 0.004020596854388714], [0.8744381666183472, 0.0043581631034612656, 0.20052532851696014, 0.004010055214166641, 0.08531952649354935, 0.0027155624702572823], [0.9900907278060913, 0.394676148891449, 0.9818198680877686, 0.020703766494989395, 0.9067137241363525, 0.01947861537337303], [0.9666378498077393, 0.005399007815867662, 0.11476586759090424, 0.0038349784445017576, 0.4000725746154785, 0.011176023632287979], [0.990928590297699, 0.19700679183006287, 0.9669387936592102, 0.011263439431786537, 0.9104591012001038, 0.01579488441348076], [0.009823763743042946, 0.0030235343147069216, 0.004308929201215506, 0.004876384511590004, 0.0037390117067843676, 0.003938460722565651], [0.8366259336471558, 0.0062523093074560165, 0.011454835534095764, 0.03057350218296051, 0.06854144483804703, 0.06350887566804886], [0.008430756628513336, 0.002922739600762725, 0.0048204646445810795, 0.0038036920595914125, 0.004075015429407358, 0.0031675007194280624], [0.9364597797393799, 0.03057054430246353, 0.08810852468013763, 0.05419376492500305, 0.23163993656635284, 0.5347597599029541], [0.994010329246521, 0.2666407823562622, 0.961687445640564, 0.034632060676813126, 0.9595122933387756, 0.44935375452041626], [0.9756953120231628, 0.024645671248435974, 0.11949975043535233, 0.10157757252454758, 0.41694357991218567, 0.2169726938009262], [0.8492262959480286, 0.017185509204864502, 0.747726559638977, 0.0059146457351744175, 0.0868663415312767, 0.004880991764366627], [0.9260740280151367, 0.005722330417484045, 0.4156944155693054, 0.0011675962014123797, 0.2027530074119568, 0.009682837873697281], [0.013841363601386547, 0.002556782914325595, 0.004022119101136923, 0.004174892790615559, 0.0037769866175949574, 0.0037256639916449785], [0.007787677459418774, 0.003264832077547908, 0.0040549119003117085, 0.005337437614798546, 0.003719697240740061, 0.004091087728738785], [0.21693283319473267, 0.002128212247043848, 0.004279204178601503, 0.004916611593216658, 0.009748524986207485, 0.009948965162038803], [0.9364904165267944, 0.011127352714538574, 0.5875084400177002, 0.0045054638758301735, 0.1733853667974472, 0.003291177097707987], [0.21045814454555511, 0.0020781285129487514, 0.008096283301711082, 0.004727944731712341, 0.007480422034859657, 0.007722408976405859], [0.9929914474487305, 0.2292066067457199, 0.9655365943908691, 0.021084269508719444, 0.9570959210395813, 0.07954930514097214], [0.008121703751385212, 0.003397839143872261, 0.0034938259050250053, 0.005985139403492212, 0.0037654980551451445, 0.004133669659495354], [0.974185049533844, 0.12586097419261932, 0.46292608976364136, 0.48141419887542725, 0.6418145298957825, 0.06634248048067093], [0.950821042060852, 0.019963281229138374, 0.8113418817520142, 0.004435356706380844, 0.15262018144130707, 0.008578397333621979], [0.07156465947628021, 0.0021326036658138037, 0.002973122289404273, 0.005142676178365946, 0.006445579696446657, 0.006642827298492193], [0.9781709313392639, 0.040457937866449356, 0.8964529037475586, 0.005055942572653294, 0.3614538311958313, 0.02359309419989586], [0.9901920557022095, 0.13811738789081573, 0.9596605896949768, 0.01302178855985403, 0.5577090978622437, 0.18484918773174286], [0.9837327599525452, 0.06897327303886414, 0.9504315853118896, 0.003851271001622081, 0.6849376559257507, 0.01267081219702959], [0.9544726610183716, 0.011246517300605774, 0.23236188292503357, 0.006369911599904299, 0.7170832753181458, 0.013791083358228207], [0.0063575939275324345, 0.0034118026960641146, 0.004350487608462572, 0.004776522982865572, 0.0038081880193203688, 0.003943880088627338], [0.006897628773003817, 0.0031430029775947332, 0.004501775838434696, 0.0044043720699846745, 0.0038883236702531576, 0.0036392100155353546], [0.00690018106251955, 0.0035127801820635796, 0.004198693670332432, 0.005015302449464798, 0.0039129010401666164, 0.0037208017893135548], [0.9860079884529114, 0.05682205408811569, 0.6200771927833557, 0.013442380353808403, 0.8802756667137146, 0.33287644386291504], [0.9561967849731445, 0.011977490969002247, 0.5808256268501282, 0.005857908166944981, 0.12663821876049042, 0.006547553464770317], [0.991511881351471, 0.33049023151397705, 0.9803200960159302, 0.016585148870944977, 0.8948808908462524, 0.018006354570388794], [0.019799577072262764, 0.0025711776688694954, 0.002920377068221569, 0.004828259814530611, 0.004270283505320549, 0.004796166438609362], [0.008100884035229683, 0.0030502278823405504, 0.0030944908503443003, 0.00508752278983593, 0.0037353599909693003, 0.004726701881736517], [0.9928054213523865, 0.5320183038711548, 0.9823048114776611, 0.055813129991292953, 0.9433380365371704, 0.041412271559238434], [0.048903726041316986, 0.0022471242118626833, 0.0033482781145721674, 0.005189161282032728, 0.006326406262814999, 0.0036268613766878843], [0.8961160778999329, 0.09431979060173035, 0.1758597046136856, 0.597999095916748, 0.2778541147708893, 0.06132663041353226], [0.8685325384140015, 0.016901329159736633, 0.07578461617231369, 0.13552257418632507, 0.07887660712003708, 0.024520253762602806], [0.01074929442256689, 0.0025441765319556, 0.0039946772158145905, 0.003887845203280449, 0.004026367329061031, 0.0033332218881696463], [0.9135428071022034, 0.004315009340643883, 0.14162854850292206, 0.00260527222417295, 0.3116106390953064, 0.003669288009405136], [0.04322972521185875, 0.001748326700180769, 0.0035538296215236187, 0.0026185251772403717, 0.00688569713383913, 0.003543047234416008], [0.006936125457286835, 0.0034329008776694536, 0.00420064153149724, 0.004741170443594456, 0.003647220553830266, 0.003959574270993471], [0.8101334571838379, 0.0027263564988970757, 0.01547757163643837, 0.0051829153671860695, 0.10142827033996582, 0.004552009049803019], [0.9876385927200317, 0.24140962958335876, 0.9770649671554565, 0.02841207943856716, 0.6483629941940308, 0.016794070601463318], [0.023869790136814117, 0.00218134094029665, 0.003546894295141101, 0.0042934357188642025, 0.004161664750427008, 0.0037496346049010754], [0.009440917521715164, 0.00312321656383574, 0.0037224600091576576, 0.005336050875484943, 0.0037816455587744713, 0.003894837573170662], [0.97565096616745, 0.039638176560401917, 0.5094270706176758, 0.020987654104828835, 0.8306594491004944, 0.00943667721003294], [0.9770733118057251, 0.01563391461968422, 0.33423054218292236, 0.007537661120295525, 0.826809823513031, 0.034946996718645096], [0.0065967547707259655, 0.004059561062604189, 0.004387118387967348, 0.006229107268154621, 0.0038942620158195496, 0.00428125262260437], [0.9817389845848083, 0.030730463564395905, 0.5331360697746277, 0.00948142260313034, 0.9094749689102173, 0.028522202745079994], [0.7324674725532532, 0.002281427616253495, 0.02619801089167595, 0.0019375188276171684, 0.058062996715307236, 0.017055315896868706], [0.9435455799102783, 0.007945869117975235, 0.07371736317873001, 0.012021750211715698, 0.5274273157119751, 0.008797451853752136], [0.9757394790649414, 0.01483115367591381, 0.3256329298019409, 0.004795740358531475, 0.7112928032875061, 0.017487498000264168], [0.12635864317417145, 0.002168515231460333, 0.004933629184961319, 0.0060649532824754715, 0.006456977222114801, 0.003678636159747839], [0.9902626276016235, 0.15877357125282288, 0.9058853387832642, 0.027335070073604584, 0.9132674336433411, 0.013802372850477695], [0.9683570861816406, 0.009307902306318283, 0.17506878077983856, 0.004808132071048021, 0.4890040457248688, 0.04865950718522072], [0.03496216610074043, 0.0023011905141174793, 0.0036865093279629946, 0.004947849549353123, 0.004720909520983696, 0.0032310837414115667], [0.9728081226348877, 0.08672872185707092, 0.6380454301834106, 0.02498265914618969, 0.831303596496582, 0.7599953413009644], [0.012390172109007835, 0.0025070414412766695, 0.004533868748694658, 0.0035795625299215317, 0.004045726731419563, 0.003314433852210641], [0.007868855260312557, 0.003193118842318654, 0.0036065541207790375, 0.005279835779219866, 0.0035769680980592966, 0.004346905741840601], [0.011736057698726654, 0.002933745039626956, 0.00419161980971694, 0.0052576567977666855, 0.003654373111203313, 0.003999594133347273], [0.9535589814186096, 0.050253868103027344, 0.9010916352272034, 0.007857702672481537, 0.24172620475292206, 0.006811498198658228], [0.9262800812721252, 0.005308124702423811, 0.22473421692848206, 0.0021992181427776814, 0.4674779176712036, 0.005822815466672182], [0.9960253238677979, 0.45928433537483215, 0.9881066083908081, 0.039716511964797974, 0.9450234174728394, 0.08625785261392593], [0.006255957297980785, 0.003788580885156989, 0.0036503595765680075, 0.006100797094404697, 0.0035339698661118746, 0.005758356768637896], [0.9040589928627014, 0.00420618848875165, 0.17325842380523682, 0.00163978710770607, 0.3457273542881012, 0.00670364685356617], [0.020133744925260544, 0.0023799140471965075, 0.0031002655159682035, 0.004807773977518082, 0.004063841421157122, 0.00408916873857379], [0.005934564862400293, 0.0037727707531303167, 0.003705008188262582, 0.006222601979970932, 0.0038147331215441227, 0.004500051960349083], [0.9900327920913696, 0.14670796692371368, 0.9447847604751587, 0.015901055186986923, 0.8722186088562012, 0.011311625130474567], [0.9684484004974365, 0.011718317866325378, 0.36361125111579895, 0.0034493315033614635, 0.6823709607124329, 0.07618045061826706], [0.007076609414070845, 0.0034903334453701973, 0.003958767745643854, 0.005454877391457558, 0.0038676802068948746, 0.004187796264886856], [0.006523036863654852, 0.0033150480594486, 0.00431752810254693, 0.0045415908098220825, 0.004048988688737154, 0.0037182748783379793], [0.0068768663331866264, 0.0036278250627219677, 0.004118527751415968, 0.00561598502099514, 0.0038183224387466908, 0.003943182993680239], [0.9416284561157227, 0.02304982952773571, 0.7537945508956909, 0.0074555957689881325, 0.14069578051567078, 0.0053456309251487255], [0.9810339212417603, 0.037610284984111786, 0.8735587000846863, 0.0029340460896492004, 0.7384650111198425, 0.014577665366232395], [0.00640717800706625, 0.0036837609950453043, 0.004147275350987911, 0.006147218402475119, 0.0033370736055076122, 0.005292899440973997], [0.007039829157292843, 0.0033942305017262697, 0.0038253520615398884, 0.005359860602766275, 0.0037751696072518826, 0.003980598412454128], [0.8492364883422852, 0.009040022268891335, 0.018926383927464485, 0.019717123359441757, 0.14394748210906982, 0.1924944818019867], [0.00853761937469244, 0.0030956079717725515, 0.003599603893235326, 0.004994354210793972, 0.0037634018808603287, 0.0038420658092945814], [0.031804487109184265, 0.002106538973748684, 0.003946077544242144, 0.004066315945237875, 0.0047086672857403755, 0.0032364632934331894], [0.988938570022583, 0.09719377011060715, 0.9546240568161011, 0.005571805872023106, 0.7147136330604553, 0.012369027361273766], [0.014221216551959515, 0.0024913563393056393, 0.00351734459400177, 0.004256824031472206, 0.0038641951978206635, 0.0035229665227234364], [0.006003339774906635, 0.0033027033787220716, 0.0038924829568713903, 0.004563299007713795, 0.004151730798184872, 0.0043978760950267315], [0.9898478388786316, 0.15054592490196228, 0.9470928907394409, 0.014280114322900772, 0.8080767393112183, 0.011045001447200775], [0.6353626847267151, 0.0019136428600177169, 0.013962134718894958, 0.0038746159989386797, 0.024150939658284187, 0.004773638676851988], [0.2654092013835907, 0.0019116728799417615, 0.00949344877153635, 0.0032343456987291574, 0.0186463650316, 0.0030498553533107042], [0.01045019831508398, 0.0026369572151452303, 0.003683375893160701, 0.00417177751660347, 0.0041200160048902035, 0.0032525022979825735], [0.9891841411590576, 0.24576377868652344, 0.9606460332870483, 0.019592110067605972, 0.9408307671546936, 0.02590269036591053], [0.005083112977445126, 0.003951865714043379, 0.004265715833753347, 0.005652150604873896, 0.0037719858810305595, 0.004467088263481855], [0.008857634849846363, 0.0030337811913341284, 0.0038647439796477556, 0.004376571159809828, 0.004124583210796118, 0.004372260067611933], [0.10447384417057037, 0.0018607545644044876, 0.004045515321195126, 0.0029554932843893766, 0.015826158225536346, 0.004213718697428703], [0.9938327074050903, 0.06206395477056503, 0.6921427249908447, 0.024758636951446533, 0.8446081876754761, 0.25912290811538696], [0.20286418497562408, 0.002078704070299864, 0.0037810795474797487, 0.004305156413465738, 0.010306530632078648, 0.006365163251757622], [0.8875921964645386, 0.014683780260384083, 0.047631438821554184, 0.14328056573867798, 0.10312559455633163, 0.01766250655055046], [0.9746428728103638, 0.07568315416574478, 0.9561554193496704, 0.004897295963019133, 0.42334967851638794, 0.008628390729427338], [0.9710445404052734, 0.02529078535735607, 0.08356696367263794, 0.08207052201032639, 0.4343640208244324, 0.34346091747283936], [0.9873694777488708, 0.39625832438468933, 0.9721469879150391, 0.10688648372888565, 0.8319413661956787, 0.026836441829800606], [0.9690533876419067, 0.021256491541862488, 0.8187461495399475, 0.0021401147823780775, 0.40108180046081543, 0.04566624388098717], [0.005677884444594383, 0.0034633048344403505, 0.003779748920351267, 0.005226394161581993, 0.003880723612383008, 0.004335223697125912], [0.694981038570404, 0.002644541207700968, 0.05990055575966835, 0.0040366146713495255, 0.025366943329572678, 0.0034014610573649406], [0.01934008300304413, 0.002269334625452757, 0.003400161862373352, 0.0036632961127907038, 0.003969676326960325, 0.004989236127585173], [0.9832565188407898, 0.05111329257488251, 0.8496923446655273, 0.006219692062586546, 0.8380823135375977, 0.007106723263859749], [0.630246639251709, 0.002217887667939067, 0.011339705437421799, 0.004551407881081104, 0.03704444691538811, 0.003108213422819972], [0.006731515284627676, 0.003603219287469983, 0.003948593512177467, 0.005697305779904127, 0.003770185401663184, 0.004105210769921541], [0.022715404629707336, 0.002426914172247052, 0.003475809935480356, 0.005098872352391481, 0.004425055347383022, 0.003315084148198366], [0.009645442478358746, 0.003456501755863428, 0.0036991480737924576, 0.006560410372912884, 0.0036430726759135723, 0.004844494629651308], [0.09084383398294449, 0.0019610500894486904, 0.0033847270533442497, 0.00440526707097888, 0.008241022005677223, 0.0032628029584884644], [0.059926148504018784, 0.002573183737695217, 0.0039328099228441715, 0.008503041230142117, 0.00498943729326129, 0.004265195690095425], [0.007564902771264315, 0.0027994117699563503, 0.0038723605684936047, 0.004177738446742296, 0.004224926233291626, 0.0036143797915428877], [0.01011893805116415, 0.0028418719302862883, 0.003576023504137993, 0.004711334127932787, 0.003834798466414213, 0.003567958250641823], [0.991333544254303, 0.3564036786556244, 0.9708884358406067, 0.03716176375746727, 0.9329817891120911, 0.025669341906905174], [0.005695126485079527, 0.003754951758310199, 0.004273687489330769, 0.0056600128300487995, 0.004003991838544607, 0.004229116719216108], [0.023399576544761658, 0.002572478959336877, 0.003440472297370434, 0.005274494178593159, 0.003877633484080434, 0.004662541672587395], [0.9473363161087036, 0.009780111722648144, 0.08188521862030029, 0.015263793990015984, 0.5726991295814514, 0.007650166284292936], [0.9868888854980469, 0.11720084398984909, 0.9544384479522705, 0.007975048385560513, 0.638679563999176, 0.2244211584329605], [0.12022415548563004, 0.001874475390650332, 0.004670989234000444, 0.0038630899507552385, 0.008143898099660873, 0.0033051306381821632], [0.0414324626326561, 0.002325171371921897, 0.0032114721834659576, 0.0055469935759902, 0.005607074126601219, 0.0033028852194547653], [0.00617946358397603, 0.0036330753937363625, 0.003807909321039915, 0.005848505534231663, 0.003938793670386076, 0.004230775870382786], [0.005251121707260609, 0.003825176041573286, 0.003930393606424332, 0.0056060850620269775, 0.003906210884451866, 0.004563524853438139], [0.007646116893738508, 0.0032559572719037533, 0.0036272869911044836, 0.005438847001641989, 0.003774486482143402, 0.004113770090043545], [0.11878360062837601, 0.0019262186251580715, 0.005750578828155994, 0.004047645255923271, 0.007108197081834078, 0.0030741652008146048], [0.6327828168869019, 0.001884445664472878, 0.01156348455697298, 0.003942729905247688, 0.03929327055811882, 0.00471344543620944], [0.9876912832260132, 0.13739082217216492, 0.9547145366668701, 0.012999782338738441, 0.8349643349647522, 0.011848597787320614], [0.945669412612915, 0.005039072595536709, 0.0533689521253109, 0.005516758654266596, 0.3853062093257904, 0.012809709645807743], [0.01104043424129486, 0.0027635253500193357, 0.0035022965166717768, 0.004208514001220465, 0.0037832194939255714, 0.0041622500866651535], [0.9658593535423279, 0.05777141451835632, 0.3656482696533203, 0.0336536169052124, 0.4619213938713074, 0.7567175030708313], [0.9282916784286499, 0.007357790134847164, 0.4472978115081787, 0.0038423140067607164, 0.11607684195041656, 0.00404076324775815], [0.0060021220706403255, 0.0032870282884687185, 0.0037400403525680304, 0.005141154397279024, 0.003940417896956205, 0.0041710506193339825], [0.009348034858703613, 0.0037225361447781324, 0.004112924449145794, 0.006477483548223972, 0.004206182435154915, 0.004459083545953035], [0.007477788254618645, 0.0033511496149003506, 0.0035428637638688087, 0.00560894887894392, 0.0035971179604530334, 0.004949058871716261], [0.08510331064462662, 0.002528015524148941, 0.004002592526376247, 0.008238820359110832, 0.005675817374140024, 0.004499097354710102], [0.009239173494279385, 0.002899553393945098, 0.003589239437133074, 0.004640958271920681, 0.0037489610258489847, 0.003783655818551779], [0.0073218634352087975, 0.003181076841428876, 0.003869087668135762, 0.0053276121616363525, 0.0035896929912269115, 0.0042777941562235355], [0.8097931146621704, 0.009409939870238304, 0.02425244078040123, 0.01847684010863304, 0.07365648448467255, 0.21557487547397614], [0.8955822587013245, 0.002985199447721243, 0.021702729165554047, 0.00573097774758935, 0.1324610710144043, 0.010250435210764408], [0.8954510688781738, 0.005398490000516176, 0.05622101575136185, 0.0034889390226453543, 0.33611518144607544, 0.05862126126885414], [0.8913794755935669, 0.0033744259271770716, 0.024859754368662834, 0.007940735667943954, 0.18090245127677917, 0.005985573399811983], [0.02975393459200859, 0.002144407946616411, 0.0037440862506628036, 0.003570225788280368, 0.0052892654202878475, 0.0028169145807623863], [0.9922792911529541, 0.2768821716308594, 0.9155348539352417, 0.09057783335447311, 0.8709625005722046, 0.8519588112831116], [0.9378644824028015, 0.041878096759319305, 0.8702964186668396, 0.007260553538799286, 0.1932125985622406, 0.005368294194340706], [0.05387265607714653, 0.0018581226468086243, 0.003944593481719494, 0.002748963190242648, 0.00636660773307085, 0.0031129703857004642], [0.0062258318066596985, 0.003471055068075657, 0.004075388889759779, 0.005310811568051577, 0.003936785273253918, 0.003868497908115387], [0.005879282020032406, 0.003645779099315405, 0.004018642008304596, 0.005428868345916271, 0.0038910857401788235, 0.0041329883970320225], [0.026846684515476227, 0.002517952350899577, 0.0033251652494072914, 0.005002595484256744, 0.004150244407355785, 0.004024203401058912], [0.9731823205947876, 0.03471292927861214, 0.17855902016162872, 0.1597176045179367, 0.4937816858291626, 0.022135300561785698], [0.012770960107445717, 0.002496876288205385, 0.00399851705878973, 0.004063330125063658, 0.003853762988001108, 0.003839402226731181], [0.014149886555969715, 0.002558293752372265, 0.003657247871160507, 0.00482282554730773, 0.003909977152943611, 0.004199429415166378], [0.8164359331130981, 0.0027570296078920364, 0.11120231449604034, 0.0018842733697965741, 0.05534287169575691, 0.0035191751085221767], [0.9478671550750732, 0.009257209487259388, 0.15794450044631958, 0.007410109508782625, 0.6228085160255432, 0.005506244022399187], [0.8866767883300781, 0.013173233717679977, 0.036099229007959366, 0.03354029357433319, 0.16572566330432892, 0.27190372347831726], [0.2829606235027313, 0.0021921780426055193, 0.004734054207801819, 0.005547036416828632, 0.014465359970927238, 0.004716276191174984], [0.9920473098754883, 0.4925546646118164, 0.9526700973510742, 0.17851762473583221, 0.9500719308853149, 0.9112785458564758], [0.005518579855561256, 0.003696328029036522, 0.0041893236339092255, 0.0055322907865047455, 0.003977323416620493, 0.00408199755474925], [0.7903766632080078, 0.018396630883216858, 0.7980254292488098, 0.003077835775911808, 0.07303935289382935, 0.005643353797495365], [0.9168750643730164, 0.0036531167570501566, 0.033249758183956146, 0.00959980022162199, 0.14968134462833405, 0.006023144815117121], [0.00710211182013154, 0.0032244916073977947, 0.004217860754579306, 0.004924486856907606, 0.0037552728317677975, 0.00405047507956624], [0.9884698390960693, 0.22701703011989594, 0.9705145955085754, 0.019038962200284004, 0.7917323112487793, 0.01182396337389946], [0.9946788549423218, 0.2409188449382782, 0.9779069423675537, 0.017295442521572113, 0.8846603631973267, 0.10722380131483078], [0.0061622015200555325, 0.0036893649958074093, 0.003988470882177353, 0.005739488173276186, 0.0038717996794730425, 0.004138186573982239], [0.9914922118186951, 0.4305768311023712, 0.977955162525177, 0.06088415905833244, 0.8995500206947327, 0.02712227776646614], [0.873577892780304, 0.005093904212117195, 0.10785411298274994, 0.012102865613996983, 0.046824097633361816, 0.005189257208257914], [0.013328821398317814, 0.0027136532589793205, 0.00397345470264554, 0.004034949000924826, 0.003978406079113483, 0.004074388649314642], [0.968605637550354, 0.0700119137763977, 0.43547314405441284, 0.3283194303512573, 0.3733752369880676, 0.03606032207608223], [0.8956615924835205, 0.006717631593346596, 0.03392014279961586, 0.04607991874217987, 0.08018996566534042, 0.013060281984508038], [0.0078805573284626, 0.0038123999256640673, 0.004041325766593218, 0.006717737298458815, 0.003743640147149563, 0.004989503417164087], [0.8547555208206177, 0.028854740783572197, 0.06222951412200928, 0.33304473757743835, 0.13013015687465668, 0.034256208688020706], [0.01524628046900034, 0.0024539558216929436, 0.00374720711261034, 0.0037208530120551586, 0.004025493748486042, 0.004245395306497812], [0.9720742702484131, 0.007610038388520479, 0.10341023653745651, 0.01020137220621109, 0.5183098912239075, 0.009973832406103611], [0.6565938591957092, 0.004166772589087486, 0.2567306160926819, 0.002066040178760886, 0.027408869937062263, 0.003664812073111534], [0.014943462796509266, 0.0024852976202964783, 0.003909865859895945, 0.004107143264263868, 0.004042888060212135, 0.003224379615858197], [0.9494379162788391, 0.010187923908233643, 0.161952942609787, 0.007376288529485464, 0.6364050507545471, 0.005498805083334446], [0.007443283684551716, 0.003317364724352956, 0.0038100318051874638, 0.005226428620517254, 0.003850892186164856, 0.004102252423763275], [0.9805311560630798, 0.04102247953414917, 0.9003141522407532, 0.0035075924824923277, 0.6641379594802856, 0.0065463935025036335], [0.01713200844824314, 0.0025453639682382345, 0.003006389131769538, 0.004727384075522423, 0.004169323947280645, 0.004249784164130688], [0.9801991581916809, 0.15871691703796387, 0.8993858695030212, 0.16785970330238342, 0.5061396956443787, 0.034709032624959946], [0.45325344800949097, 0.005759118124842644, 0.3514810800552368, 0.002237805165350437, 0.03228747472167015, 0.0035510393790900707], [0.9505231380462646, 0.0094830971211195, 0.14665034413337708, 0.008315523155033588, 0.6599456071853638, 0.007069982122629881], [0.9854735136032104, 0.04034050181508064, 0.8481225371360779, 0.01056734286248684, 0.44310638308525085, 0.01518537662923336], [0.022364675998687744, 0.0025330623611807823, 0.003709574928507209, 0.004685541614890099, 0.004292632453143597, 0.0039058602415025234], [0.006007048301398754, 0.0037731456104665995, 0.0038763959892094135, 0.00589374452829361, 0.0038163603749126196, 0.0049017081037163734], [0.32485660910606384, 0.0031761093996465206, 0.007729274220764637, 0.01143796369433403, 0.012156425043940544, 0.015514066442847252], [0.006770731881260872, 0.0034789182245731354, 0.0036900469567626715, 0.005396201740950346, 0.003745399182662368, 0.004311655182391405], [0.007966218516230583, 0.0031658345833420753, 0.0038553213234990835, 0.004769028164446354, 0.0037780527491122484, 0.0037360021378844976], [0.0060445708222687244, 0.003971615340560675, 0.004152387380599976, 0.006144606042653322, 0.004035263322293758, 0.00451924093067646], [0.006019665859639645, 0.0030917266849428415, 0.003819218836724758, 0.004180457442998886, 0.004398561082780361, 0.004147988278418779], [0.9777324199676514, 0.015427753329277039, 0.5859619379043579, 0.0050634536892175674, 0.2060130089521408, 0.03168616071343422], [0.007207747083157301, 0.003189114620909095, 0.0036671010311692953, 0.005330139305442572, 0.00352674163877964, 0.0046098195016384125], [0.007386700250208378, 0.003222438506782055, 0.003649532562121749, 0.005311549641191959, 0.004067579284310341, 0.003829843131825328], [0.00596329290419817, 0.00374423386529088, 0.003942016512155533, 0.005918299313634634, 0.003775800811126828, 0.00425810506567359], [0.5737813711166382, 0.0022619490046054125, 0.011100955307483673, 0.004890164826065302, 0.033397872000932693, 0.0033839987590909004], [0.015850799158215523, 0.002499137306585908, 0.0035406642127782106, 0.004308064002543688, 0.004063222091645002, 0.0035426937974989414], [0.005802534986287355, 0.0038301667664200068, 0.0044209654442965984, 0.0056937760673463345, 0.0038686043117195368, 0.004108177497982979], [0.12787458300590515, 0.0020942159462720156, 0.006934348493814468, 0.0045150876976549625, 0.007199139799922705, 0.0029108759481459856], [0.008868219330906868, 0.0028676753863692284, 0.0034723584540188313, 0.004753051791340113, 0.004189124796539545, 0.0036369592417031527], [0.7618493437767029, 0.0034917050506919622, 0.012626810930669308, 0.012646364979445934, 0.0453091561794281, 0.006328420713543892], [0.893936276435852, 0.005872371606528759, 0.055023834109306335, 0.015638142824172974, 0.08861608803272247, 0.0049658278003335], [0.00515321921557188, 0.004184399265795946, 0.004279457498341799, 0.0064075663685798645, 0.003982421010732651, 0.004167228005826473], [0.00787429604679346, 0.003188324859365821, 0.00405322527512908, 0.004995167255401611, 0.0038741116877645254, 0.003981676418334246], [0.013467716984450817, 0.0024349968880414963, 0.004176326096057892, 0.003600113559514284, 0.003943447023630142, 0.003616734640672803], [0.8613753318786621, 0.007315742317587137, 0.023830629885196686, 0.017312493175268173, 0.08072444796562195, 0.1282222419977188], [0.9750467538833618, 0.033353038132190704, 0.7945801019668579, 0.005606840364634991, 0.7493667602539062, 0.005901902448385954], [0.8303408622741699, 0.06750639528036118, 0.10479408502578735, 0.5768626928329468, 0.16493180394172668, 0.06807530671358109], [0.007581355050206184, 0.0033271193969994783, 0.003963523544371128, 0.0055371965281665325, 0.0038358510937541723, 0.004064113367348909], [0.010697290301322937, 0.0027527380734682083, 0.0032642176374793053, 0.004551010672003031, 0.003970820922404528, 0.0038143943529576063], [0.976446270942688, 0.04845067486166954, 0.8223952651023865, 0.008446704596281052, 0.8177059888839722, 0.008775283582508564], [0.992883563041687, 0.4634868800640106, 0.9841986894607544, 0.030742788687348366, 0.9375628232955933, 0.03440237045288086], [0.8033514022827148, 0.017574436962604523, 0.7640109062194824, 0.0031208626460283995, 0.07491406053304672, 0.004648373927921057], [0.9869788885116577, 0.3816300332546234, 0.9472907185554504, 0.17729595303535461, 0.8556198477745056, 0.03089931793510914], [0.01586025394499302, 0.0023391610011458397, 0.0033985658083111048, 0.0036368886940181255, 0.004232391249388456, 0.0035781871993094683], [0.9902125000953674, 0.28953108191490173, 0.961441159248352, 0.030760226771235466, 0.8461783528327942, 0.014883450232446194], [0.0181778222322464, 0.0023748904932290316, 0.0037213515024632215, 0.004406536463648081, 0.0041642445139586926, 0.0034296056255698204], [0.9321048259735107, 0.03138958290219307, 0.8674444556236267, 0.0030630952678620815, 0.40603208541870117, 0.005191623233258724], [0.6914419531822205, 0.002807769225910306, 0.010364302434027195, 0.0077542271465063095, 0.05200525373220444, 0.003767122747376561], [0.007652150467038155, 0.003519232152029872, 0.003984182607382536, 0.0054084537550807, 0.004007705952972174, 0.004318907856941223], [0.9924888610839844, 0.30810144543647766, 0.9637852907180786, 0.024706006050109863, 0.957242488861084, 0.030675964429974556], [0.9614080190658569, 0.008182947523891926, 0.0890333503484726, 0.0056922403164207935, 0.4454650580883026, 0.04933244735002518], [0.9769757390022278, 0.04000409319996834, 0.32021889090538025, 0.02832070179283619, 0.7077184319496155, 0.5900066494941711], [0.0844656303524971, 0.001861201017163694, 0.003842956153675914, 0.004136793781071901, 0.006773179862648249, 0.003817531978711486], [0.9839058518409729, 0.2318139225244522, 0.9737185835838318, 0.020422596484422684, 0.6090174913406372, 0.012330315075814724], [0.9686681628227234, 0.010245048440992832, 0.16244329512119293, 0.005692944396287203, 0.5673494935035706, 0.09919742494821548], [0.9709423780441284, 0.23256586492061615, 0.9620622992515564, 0.034165721386671066, 0.4410141110420227, 0.016030335798859596], [0.9138764142990112, 0.028611909598112106, 0.084992915391922, 0.2956545948982239, 0.16967016458511353, 0.03393606096506119], [0.9472303986549377, 0.011467413045465946, 0.04427642747759819, 0.05984286963939667, 0.3462727963924408, 0.0129309743642807], [0.006000966764986515, 0.00381049164570868, 0.0038908394053578377, 0.0062420968897640705, 0.003681166097521782, 0.004771593492478132], [0.7112045884132385, 0.002798032946884632, 0.010566693730652332, 0.009758062660694122, 0.037734489887952805, 0.005020394921302795], [0.983491837978363, 0.05698372423648834, 0.712498128414154, 0.013408389873802662, 0.9165049195289612, 0.0197122935205698], [0.9803289175033569, 0.04139583185315132, 0.7902117371559143, 0.005562022794038057, 0.8329023718833923, 0.007813082076609135], [0.9568558931350708, 0.015303968451917171, 0.15337246656417847, 0.02072950452566147, 0.6835163831710815, 0.008438964374363422], [0.9876382350921631, 0.07219380140304565, 0.7729123830795288, 0.016373325139284134, 0.9182599782943726, 0.014941954053938389], [0.006544610485434532, 0.0034564947709441185, 0.0038967521395534277, 0.005120392888784409, 0.003895903006196022, 0.004154911730438471], [0.006435961462557316, 0.0034841226879507303, 0.0036898734979331493, 0.005414063576608896, 0.003827462438493967, 0.004521215334534645], [0.1822679191827774, 0.003707807743921876, 0.005958865396678448, 0.018081264570355415, 0.008674266748130322, 0.00658012367784977], [0.2692791819572449, 0.0018167832167819142, 0.00540182227268815, 0.003234099829569459, 0.012544713914394379, 0.005293896421790123], [0.9709558486938477, 0.0844409242272377, 0.6577096581459045, 0.021681301295757294, 0.7096746563911438, 0.7474364042282104], [0.9351916909217834, 0.01055753044784069, 0.5197423696517944, 0.002821755362674594, 0.5437889099121094, 0.0047934153117239475], [0.9476566314697266, 0.005690934136509895, 0.03305388242006302, 0.01376547571271658, 0.2543668746948242, 0.008333034813404083], [0.9874290823936462, 0.5210740566253662, 0.9663017988204956, 0.2640076279640198, 0.8708028793334961, 0.05859406292438507], [0.00969152431935072, 0.0029326044023036957, 0.0034882707986980677, 0.004769926890730858, 0.003669850993901491, 0.00419609434902668], [0.0067170243710279465, 0.003399418666958809, 0.0039767054840922356, 0.004982808604836464, 0.003627612954005599, 0.004358903970569372], [0.7490888833999634, 0.003752335673198104, 0.009162654168903828, 0.020573465153574944, 0.048711348325014114, 0.006987558212131262], [0.007502137217670679, 0.003233863040804863, 0.0042179906740784645, 0.005006161984056234, 0.003765680128708482, 0.0038923867978155613], [0.013873050920665264, 0.0024546340573579073, 0.004496936686336994, 0.003648931160569191, 0.003722989000380039, 0.0036948341876268387], [0.9860296845436096, 0.09700730443000793, 0.936801552772522, 0.01581161469221115, 0.6533886790275574, 0.009724997915327549], [0.7860463261604309, 0.002629684517160058, 0.02779555879533291, 0.006343458313494921, 0.035150229930877686, 0.005753355100750923], [0.0062538618221879005, 0.003876908216625452, 0.004076780751347542, 0.006087491288781166, 0.0038578419480472803, 0.004311888944357634], [0.010287446901202202, 0.0027633863501250744, 0.003769845236092806, 0.003938999492675066, 0.004233872517943382, 0.0033525528851896524], [0.9967638254165649, 0.6202609539031982, 0.9879371523857117, 0.103734590113163, 0.9774291515350342, 0.5724113583564758], [0.005977708846330643, 0.004033408593386412, 0.004640050698071718, 0.005848250351846218, 0.003932445775717497, 0.004159132018685341], [0.9549907445907593, 0.007021284196525812, 0.2807340621948242, 0.0038183354772627354, 0.3892555832862854, 0.004288163036108017], [0.9621195793151855, 0.17393702268600464, 0.6954605579376221, 0.43079423904418945, 0.445970356464386, 0.04691973328590393], [0.8482288122177124, 0.008588518016040325, 0.6466684341430664, 0.001428444986231625, 0.15892775356769562, 0.005558049771934748], [0.9797423481941223, 0.02154485136270523, 0.8267932534217834, 0.0024634464643895626, 0.4313325583934784, 0.008554666303098202], [0.006737330462783575, 0.003581831930205226, 0.003916933201253414, 0.005661988630890846, 0.0038578419480472803, 0.004329655319452286], [0.9840802550315857, 0.02073143981397152, 0.7332918047904968, 0.0032486829441040754, 0.3778561055660248, 0.010101480409502983], [0.014078511856496334, 0.0023622955195605755, 0.002950296038761735, 0.004129608161747456, 0.003919949755072594, 0.004268203862011433], [0.018982769921422005, 0.0025921787600964308, 0.003214654978364706, 0.005153600592166185, 0.004399383906275034, 0.003700779052451253], [0.0064322915859520435, 0.0037446587812155485, 0.0036391615867614746, 0.006188888102769852, 0.004029212053865194, 0.005188627168536186], [0.5020028352737427, 0.0016940707573667169, 0.014702548272907734, 0.0017996380338445306, 0.030870040878653526, 0.005333257373422384], [0.014782462269067764, 0.0026623683515936136, 0.003600229974836111, 0.004173080902546644, 0.004771552514284849, 0.0033383711706846952], [0.005816098302602768, 0.003707687836140394, 0.0038365598302334547, 0.005581709090620279, 0.0040078978054225445, 0.004077279940247536], [0.8634097576141357, 0.0034635369665920734, 0.02078128047287464, 0.0053889695554971695, 0.22254876792430878, 0.010238759219646454], [0.14640963077545166, 0.0016560677904635668, 0.006061367690563202, 0.0025239752139896154, 0.009186303243041039, 0.003363184165209532], [0.11439470946788788, 0.0021122258622199297, 0.007115398999303579, 0.0040563675574958324, 0.008123505860567093, 0.0027315602637827396], [0.079061359167099, 0.002175653353333473, 0.003521400038152933, 0.004979696124792099, 0.006148320157080889, 0.004252561368048191], [0.926217257976532, 0.014052780345082283, 0.47560566663742065, 0.004049000330269337, 0.1790667623281479, 0.138478621840477], [0.011185597628355026, 0.0024783634580671787, 0.0034486972726881504, 0.003610881743952632, 0.0044259317219257355, 0.003478769678622484], [0.9911878108978271, 0.0712604969739914, 0.7912301421165466, 0.0347733274102211, 0.8060320615768433, 0.014257533475756645], [0.5145776271820068, 0.004559367895126343, 0.008976750075817108, 0.011636963114142418, 0.025020616129040718, 0.06291097402572632], [0.18738064169883728, 0.0018734863260760903, 0.0061400881968438625, 0.004107069224119186, 0.008833545260131359, 0.003058329690247774], [0.00794090423732996, 0.00293922470882535, 0.0034773466177284718, 0.004795640707015991, 0.0037200297228991985, 0.004389370325952768], [0.021590815857052803, 0.0022306744940578938, 0.0031763375736773014, 0.004129139706492424, 0.004456671420484781, 0.00367209711112082], [0.992630124092102, 0.2261524796485901, 0.9636971950531006, 0.020445235073566437, 0.9508825540542603, 0.04199318587779999], [0.8640603423118591, 0.0037609359715133905, 0.039357807487249374, 0.0034148115664720535, 0.2968306839466095, 0.006006456445902586], [0.9920336604118347, 0.11955729126930237, 0.9524563550949097, 0.007436681538820267, 0.9079667925834656, 0.01887068897485733], [0.03730342909693718, 0.0021409366745501757, 0.0036795767955482006, 0.0030923853628337383, 0.005621667485684156, 0.005720989778637886], [0.005717359017580748, 0.0036491546779870987, 0.003923272714018822, 0.005710548721253872, 0.003860057797282934, 0.004239390604197979], [0.13164936006069183, 0.001649430370889604, 0.0070061772130429745, 0.002314066980034113, 0.011495104990899563, 0.0025041799526661634], [0.9897243976593018, 0.0888083428144455, 0.9005526304244995, 0.007573871873319149, 0.8046230673789978, 0.012349516153335571], [0.6101988554000854, 0.0036393534392118454, 0.009184550493955612, 0.020862476900219917, 0.023968160152435303, 0.006486551836133003], [0.00760556710883975, 0.003435955848544836, 0.004262701142579317, 0.005256299860775471, 0.003842146135866642, 0.003754664910957217], [0.9949790835380554, 0.2134595811367035, 0.9644078016281128, 0.018833262845873833, 0.9520670771598816, 0.1960212141275406], [0.007536427117884159, 0.003652720944955945, 0.003946793731302023, 0.00604846840724349, 0.0038809834513813257, 0.004057757090777159], [0.1909540593624115, 0.0018716565100476146, 0.005882361903786659, 0.00362377823330462, 0.011367371305823326, 0.0028568545822054148], [0.3322850167751312, 0.0018681135261431336, 0.026068655773997307, 0.0023099412210285664, 0.011656691320240498, 0.003269004402682185], [0.07819141447544098, 0.0020748768001794815, 0.003842300968244672, 0.0036091511137783527, 0.006086982786655426, 0.008905969560146332], [0.9838312864303589, 0.45508256554603577, 0.9439888596534729, 0.3386477530002594, 0.8401524424552917, 0.04950395226478577], [0.9508036971092224, 0.01007159985601902, 0.040627434849739075, 0.0609033964574337, 0.157683864235878, 0.020461658015847206], [0.024893883615732193, 0.0020665996707975864, 0.0040895394049584866, 0.003474926808848977, 0.004894672892987728, 0.0030657523311674595], [0.0053366078063845634, 0.003990676254034042, 0.0041678291745483875, 0.005935098975896835, 0.004046499263495207, 0.004236452281475067], [0.39999666810035706, 0.0021779558155685663, 0.007942738011479378, 0.005086000543087721, 0.017373500391840935, 0.0033590083476155996], [0.9406324028968811, 0.021785743534564972, 0.6813488006591797, 0.004866034258157015, 0.6325337886810303, 0.00535520538687706], [0.00910683162510395, 0.0029306323267519474, 0.0036541318986564875, 0.004995717201381922, 0.0038407081738114357, 0.003785153618082404], [0.9849703311920166, 0.22264239192008972, 0.9715016484260559, 0.022527256980538368, 0.6735617518424988, 0.011496281251311302], [0.011878100223839283, 0.002777042565867305, 0.004420224577188492, 0.004366355948150158, 0.0038762285839766264, 0.00358094391413033], [0.06973126530647278, 0.002009807387366891, 0.00408592913299799, 0.004341213032603264, 0.005339564755558968, 0.0037819978315383196], [0.00840225163847208, 0.0029672211967408657, 0.00338056986220181, 0.00512899411842227, 0.003932378254830837, 0.0039939358830451965], [0.017162740230560303, 0.002365466672927141, 0.003161213593557477, 0.0041630566120147705, 0.004712432622909546, 0.003583951387554407], [0.9756916165351868, 0.05263098329305649, 0.9289801120758057, 0.006068528164178133, 0.2671268880367279, 0.012800987809896469], [0.0074506644159555435, 0.003822434926405549, 0.004024004563689232, 0.005864527076482773, 0.0037818127311766148, 0.004484042525291443], [0.005352736916393042, 0.004274770617485046, 0.003776799887418747, 0.006933360360562801, 0.0038012408185750246, 0.0053377943113446236], [0.017089057713747025, 0.002661897335201502, 0.003987637348473072, 0.004681586753576994, 0.0036881929263472557, 0.003795764409005642], [0.3425004780292511, 0.0019657996017485857, 0.005325547885149717, 0.004082119558006525, 0.01947771944105625, 0.003607891034334898], [0.987203061580658, 0.08165815472602844, 0.8621830344200134, 0.011983541771769524, 0.9172236323356628, 0.013166057877242565], [0.022656815126538277, 0.002441288670524955, 0.004820624832063913, 0.0037655928172171116, 0.003784344531595707, 0.0036853658966720104], [0.06442178785800934, 0.0019440490286797285, 0.003751245094463229, 0.004064342938363552, 0.007728496100753546, 0.0034682636614888906], [0.7943163514137268, 0.002288764575496316, 0.027175961062312126, 0.003406330244615674, 0.09241452068090439, 0.004145271144807339], [0.006812707521021366, 0.0038023025263100863, 0.004044380504637957, 0.006074225064367056, 0.004148362670093775, 0.004194612614810467], [0.014353987760841846, 0.0028917714953422546, 0.0035726355854421854, 0.00572065357118845, 0.004086577333509922, 0.004177403170615435], [0.0051144789904356, 0.004045750014483929, 0.004218629561364651, 0.005994647741317749, 0.003984129521995783, 0.004413139540702105], [0.5311123132705688, 0.0023025746922940016, 0.0061865863390266895, 0.007587531581521034, 0.026629852131009102, 0.0043529337272048], [0.20005643367767334, 0.002166288672015071, 0.005896295886486769, 0.005974006839096546, 0.008068281225860119, 0.003592837369069457], [0.9687598943710327, 0.052617110311985016, 0.6820849776268005, 0.01685149408876896, 0.3208453059196472, 0.012996465899050236], [0.012206781655550003, 0.002409481443464756, 0.0036309720017015934, 0.00325021636672318, 0.004831064958125353, 0.0034074019640684128], [0.48223671317100525, 0.003737381426617503, 0.008297556079924107, 0.020194729790091515, 0.017420172691345215, 0.0060630799271166325], [0.00545152835547924, 0.003500776132568717, 0.003981846384704113, 0.005297021009027958, 0.0038305926136672497, 0.004420329350978136], [0.8981613516807556, 0.0033209186512976885, 0.0813259556889534, 0.002483203774318099, 0.10551068931818008, 0.023640047758817673], [0.9846587181091309, 0.15229347348213196, 0.9712775945663452, 0.018660733476281166, 0.4940997362136841, 0.017035260796546936], [0.9818459153175354, 0.04643949121236801, 0.48029330372810364, 0.02867911197245121, 0.842174232006073, 0.01036679744720459], [0.006778085604310036, 0.0034258756786584854, 0.003899553557857871, 0.005292472429573536, 0.0040292078629136086, 0.0040878658182919025], [0.9836257100105286, 0.46822741627693176, 0.9276657700538635, 0.1459461897611618, 0.9212013483047485, 0.9389522671699524], [0.5589805841445923, 0.00283600389957428, 0.012907702475786209, 0.005022608209401369, 0.07441569119691849, 0.0030641816556453705], [0.24562014639377594, 0.002245056675747037, 0.01703316904604435, 0.00433522742241621, 0.009375178255140781, 0.0027176267467439175], [0.9424154758453369, 0.010846029035747051, 0.06552769243717194, 0.011547411791980267, 0.47260263562202454, 0.15445558726787567], [0.8875313997268677, 0.004854594822973013, 0.04087541997432709, 0.007036063354462385, 0.3283579647541046, 0.0053243255242705345], [0.9673192501068115, 0.062256839126348495, 0.9267487525939941, 0.0076521215960383415, 0.44580650329589844, 0.005626289173960686], [0.9484063982963562, 0.00471886433660984, 0.051255811005830765, 0.00775890564545989, 0.2806079387664795, 0.006206113379448652], [0.9906127452850342, 0.166113942861557, 0.9753225445747375, 0.008968701586127281, 0.7557328939437866, 0.0175559651106596], [0.4640792906284332, 0.001784089021384716, 0.015454640612006187, 0.0029125313740223646, 0.019302163273096085, 0.0038020696956664324], [0.02160346321761608, 0.0023240235168486834, 0.0031081675551831722, 0.004571517929434776, 0.004686784464865923, 0.0035495057236403227], [0.016029365360736847, 0.0023251669481396675, 0.003080745693296194, 0.003815419739112258, 0.005495468620210886, 0.003514729905873537], [0.012613434344530106, 0.00273489928804338, 0.0036718356423079967, 0.004838211461901665, 0.003921778406947851, 0.003725998569279909], [0.30463075637817383, 0.002361091086640954, 0.005104305688291788, 0.008078202605247498, 0.011448531411588192, 0.0055615720339119434], [0.007406929507851601, 0.0031786332838237286, 0.0036592811811715364, 0.004276573657989502, 0.004183481447398663, 0.003995026461780071], [0.006849983707070351, 0.0037314954679459333, 0.00386987766250968, 0.006159089505672455, 0.004060816019773483, 0.004082905128598213], [0.010704276151955128, 0.0027602659538388252, 0.0033907920587807894, 0.004835406318306923, 0.003846502862870693, 0.003741990076377988], [0.9887062311172485, 0.18556484580039978, 0.9521622061729431, 0.02409382164478302, 0.8294399976730347, 0.011002492159605026], [0.10503953695297241, 0.002206093166023493, 0.0033074875827878714, 0.006243427284061909, 0.007265566848218441, 0.004264474846422672], [0.01713348552584648, 0.002485482254996896, 0.0030030650086700916, 0.004697796888649464, 0.003840248566120863, 0.005580849014222622], [0.0072543867863714695, 0.003215652657672763, 0.004195492714643478, 0.004584412090480328, 0.003949859645217657, 0.0038380292244255543], [0.9653877019882202, 0.5509451627731323, 0.8983116149902344, 0.6705199480056763, 0.784813642501831, 0.10855486243963242], [0.9345999956130981, 0.011498681269586086, 0.5348513722419739, 0.002516085747629404, 0.5368187427520752, 0.0048060608096420765], [0.2522905468940735, 0.006200807634741068, 0.008075322024524212, 0.02096833847463131, 0.01635901629924774, 0.057083725929260254], [0.011276360601186752, 0.0029012218583375216, 0.0031147876288741827, 0.005503591615706682, 0.003965551499277353, 0.004586588591337204], [0.005819846410304308, 0.0038537706714123487, 0.0042698499746620655, 0.005748400930315256, 0.003929316531866789, 0.004037381615489721], [0.006740419659763575, 0.0030694357119500637, 0.0036705657839775085, 0.004528636112809181, 0.004822956398129463, 0.004756080452352762], [0.007673012558370829, 0.0029845833778381348, 0.0035999268293380737, 0.00482792966067791, 0.0038324473425745964, 0.00389429135248065], [0.899741530418396, 0.006229190155863762, 0.24777688086032867, 0.007873662747442722, 0.0840151235461235, 0.0036435453221201897], [0.8763020038604736, 0.04683103412389755, 0.858186662197113, 0.01026649959385395, 0.08671616017818451, 0.009279083460569382], [0.007078050170093775, 0.0033546709455549717, 0.004396582022309303, 0.005134939216077328, 0.003711023833602667, 0.003998289350420237], [0.005272120703011751, 0.0037221258971840143, 0.004328991752117872, 0.005339693743735552, 0.0037868963554501534, 0.004452023655176163], [0.008050000295042992, 0.0033578546717762947, 0.003977338783442974, 0.005342804826796055, 0.004007326904684305, 0.0037171747535467148], [0.009523852728307247, 0.002811576472595334, 0.00355533417314291, 0.004472042433917522, 0.003855152754113078, 0.0038758860900998116], [0.30431774258613586, 0.0017900783568620682, 0.007776174694299698, 0.003409436671063304, 0.012586330063641071, 0.003157614031806588], [0.9144663214683533, 0.0037858460564166307, 0.02103428728878498, 0.005568169057369232, 0.18418164551258087, 0.016191983595490456], [0.012215225026011467, 0.0023749717511236668, 0.0030012894421815872, 0.004039439372718334, 0.004432965535670519, 0.0038699626456946135], [0.8751721978187561, 0.007402757648378611, 0.02131255529820919, 0.05731510743498802, 0.060824137181043625, 0.03623952716588974], [0.6007153987884521, 0.0025122317019850016, 0.10074959695339203, 0.002004888840019703, 0.028213711455464363, 0.0029257202986627817], [0.972469687461853, 0.01704518124461174, 0.545082688331604, 0.005631231237202883, 0.6208618879318237, 0.004560317378491163], [0.06354890018701553, 0.0020627325866371393, 0.009583085775375366, 0.0028011519461870193, 0.0052923597395420074, 0.0033600192982703447], [0.011496449820697308, 0.0024900520220398903, 0.004796764347702265, 0.0033843135461211205, 0.003947916906327009, 0.0036524932365864515], [0.9813886880874634, 0.020940883085131645, 0.5402312278747559, 0.005432762671262026, 0.7425877451896667, 0.009392620995640755], [0.9484761953353882, 0.01072787307202816, 0.14309881627559662, 0.011428640224039555, 0.5668684244155884, 0.005302830599248409], [0.006372296251356602, 0.0034839294385164976, 0.003928916994482279, 0.0054204585030674934, 0.0036960612051188946, 0.004234994761645794], [0.9480372667312622, 0.0061261304654181, 0.045204129070043564, 0.006020755972713232, 0.2900850176811218, 0.05133705213665962], [0.5889217853546143, 0.0021366614382714033, 0.008698179386556149, 0.004544191528111696, 0.04030841961503029, 0.0036822122056037188], [0.7220094799995422, 0.012971167452633381, 0.5839954018592834, 0.0024556335993111134, 0.18738391995429993, 0.004390189424157143], [0.9866498112678528, 0.021808451041579247, 0.5389868021011353, 0.011867056600749493, 0.602607250213623, 0.009510578587651253], [0.006864843890070915, 0.003653166815638542, 0.004107174463570118, 0.005986697040498257, 0.0036514371167868376, 0.00429530069231987], [0.006491645704954863, 0.0033402149565517902, 0.003664383664727211, 0.005300471559166908, 0.003795337164774537, 0.004456464201211929], [0.9917255640029907, 0.11650598794221878, 0.8763003945350647, 0.01993512362241745, 0.951369047164917, 0.21910251677036285], [0.9664063453674316, 0.021883074194192886, 0.8234128355979919, 0.0029707527719438076, 0.3530140221118927, 0.0045653400011360645], [0.9923216700553894, 0.3793857991695404, 0.9842686653137207, 0.019449997693300247, 0.9233920574188232, 0.025161024183034897], [0.9141906499862671, 0.029321029782295227, 0.08558297157287598, 0.24104924499988556, 0.15933355689048767, 0.021616166457533836], [0.9266325235366821, 0.30729183554649353, 0.6112108826637268, 0.728897750377655, 0.46296289563179016, 0.10198580473661423], [0.0069332062266767025, 0.0034583616070449352, 0.0038504237309098244, 0.005193672608584166, 0.003844033693894744, 0.003923593554645777], [0.0059719509445130825, 0.003999322187155485, 0.004441144410520792, 0.006077075842767954, 0.0039147865027189255, 0.00449298694729805], [0.007448428776115179, 0.003239330369979143, 0.0037996936589479446, 0.004822800867259502, 0.0038686725310981274, 0.004108024761080742], [0.011830165982246399, 0.002835552440956235, 0.0028827690985053778, 0.00539942504838109, 0.004042429383844137, 0.007291865535080433], [0.9804470539093018, 0.013775761239230633, 0.6944887042045593, 0.0023909779265522957, 0.44776782393455505, 0.010746891610324383], [0.740540087223053, 0.006890339311212301, 0.018708068877458572, 0.0545923225581646, 0.03662557154893875, 0.009962313808500767], [0.8728680610656738, 0.005612516310065985, 0.0175409447401762, 0.011482308618724346, 0.1064143255352974, 0.08213043957948685], [0.007220793515443802, 0.0032541737891733646, 0.0038983148988336325, 0.005098797380924225, 0.0037477093283087015, 0.003997402731329203], [0.03338824212551117, 0.0020719640888273716, 0.003584780730307102, 0.0038120937533676624, 0.005030449014157057, 0.00306411599740386], [0.9778450727462769, 0.02453816682100296, 0.15188778936862946, 0.05500359088182449, 0.6279432773590088, 0.01721321977674961], [0.7687962055206299, 0.0030624368228018284, 0.010909447446465492, 0.006651114206761122, 0.09537477791309357, 0.005576431285589933], [0.010626625269651413, 0.0029648931231349707, 0.0029537458904087543, 0.005208334885537624, 0.004242050461471081, 0.008645791560411453], [0.8995344042778015, 0.007844720967113972, 0.07807229459285736, 0.005999707616865635, 0.13215263187885284, 0.1584380865097046], [0.9782024025917053, 0.059960827231407166, 0.8620404601097107, 0.007100011222064495, 0.6381465792655945, 0.33060967922210693], [0.01730435900390148, 0.002513260580599308, 0.0038416627794504166, 0.004346596077084541, 0.0038331826217472553, 0.00376669829711318], [0.980975866317749, 0.03747110813856125, 0.6442655920982361, 0.006839792709797621, 0.8821862936019897, 0.012225942686200142], [0.9972941279411316, 0.6017643809318542, 0.989704430103302, 0.11233995854854584, 0.9716805815696716, 0.3625774085521698], [0.010061658918857574, 0.002864393638446927, 0.004350677598267794, 0.0042390464805066586, 0.004049709998071194, 0.0030976200941950083], [0.033701092004776, 0.001999631989747286, 0.0035882045049220324, 0.0036078274715691805, 0.005604811944067478, 0.0029756349977105856], [0.7467297315597534, 0.004357056226581335, 0.07819200307130814, 0.00561280082911253, 0.02040528506040573, 0.00854257307946682], [0.7138285636901855, 0.007244102656841278, 0.011780989356338978, 0.01754121668636799, 0.05609019473195076, 0.11359104514122009], [0.005259577184915543, 0.003657983150333166, 0.004156437236815691, 0.005394784267991781, 0.003896267618983984, 0.004477465990930796], [0.3350180387496948, 0.002125008497387171, 0.004079621750861406, 0.006234124302864075, 0.016268033534288406, 0.005697791464626789], [0.9956057667732239, 0.35144415497779846, 0.985325276851654, 0.02447502873837948, 0.9183182716369629, 0.04583115875720978], [0.008956871926784515, 0.003158747451379895, 0.003933337051421404, 0.005537068005651236, 0.0036228506360203028, 0.0041677141562104225], [0.006865611299872398, 0.003416376421228051, 0.0035663447342813015, 0.005646292120218277, 0.003996237646788359, 0.00412251939997077], [0.9852412343025208, 0.07289882004261017, 0.9301918745040894, 0.0068150670267641544, 0.5573539733886719, 0.01043751835823059], [0.005595693364739418, 0.0040940479375422, 0.004541125148534775, 0.006279973313212395, 0.0038940678350627422, 0.004474921617656946], [0.008551099337637424, 0.0027092627715319395, 0.0034401332959532738, 0.0038796085864305496, 0.004047885071486235, 0.003960196860134602], [0.010870959609746933, 0.0027024184819310904, 0.00350809283554554, 0.004479370545595884, 0.004030178301036358, 0.0033728035632520914], [0.9802785515785217, 0.20018629729747772, 0.9757894277572632, 0.017823152244091034, 0.5444554686546326, 0.012285496108233929], [0.8338557481765747, 0.003268505446612835, 0.02737421542406082, 0.011007511056959629, 0.039388347417116165, 0.007967119105160236], [0.9874023795127869, 0.023742983117699623, 0.5374922156333923, 0.015428378246724606, 0.5363180637359619, 0.021292801946401596], [0.014782343991100788, 0.0028691033367067575, 0.0034144027158617973, 0.005926353391259909, 0.0040727052837610245, 0.003662276081740856], [0.005871372297406197, 0.0034802162554115057, 0.00385500630363822, 0.005141196306794882, 0.003647632896900177, 0.0047568813897669315], [0.9668235778808594, 0.04719642177224159, 0.9213780164718628, 0.0023158653639256954, 0.619286298751831, 0.009591992013156414], [0.9385409951210022, 0.052350275218486786, 0.23058786988258362, 0.3096047341823578, 0.19944222271442413, 0.03319874405860901], [0.6752315759658813, 0.0022959611378610134, 0.016331937164068222, 0.004149534739553928, 0.04927116259932518, 0.003102267626672983], [0.031398069113492966, 0.0019163067918270826, 0.00448507908731699, 0.0032527106814086437, 0.005457754712551832, 0.0028262885753065348], [0.9130141735076904, 0.004230102524161339, 0.04120846837759018, 0.005657662637531757, 0.20523841679096222, 0.008475367911159992], [0.9705209732055664, 0.041216712445020676, 0.885149359703064, 0.009351449087262154, 0.4264084994792938, 0.0059691015630960464], [0.13225418329238892, 0.0021934988908469677, 0.007075196132063866, 0.005038245115429163, 0.007912912406027317, 0.002895002020522952], [0.05576799809932709, 0.001858387142419815, 0.0036127420607954264, 0.0033847512677311897, 0.005437565501779318, 0.0056373681873083115], [0.856185257434845, 0.014343318529427052, 0.02984542027115822, 0.047240473330020905, 0.10967744141817093, 0.2767689824104309], [0.9238156080245972, 0.0038544642738997936, 0.037284065037965775, 0.005898358300328255, 0.26541638374328613, 0.006278821732848883], [0.8575259447097778, 0.0036175118293613195, 0.07467550784349442, 0.00602326774969697, 0.04399203136563301, 0.005555119831115007], [0.006118071265518665, 0.0034819613210856915, 0.0037810022477060556, 0.0056293117813766, 0.003817002521827817, 0.0046430667862296104], [0.009655199944972992, 0.0032416449394077063, 0.003705933690071106, 0.005584171041846275, 0.0037745723966509104, 0.005538630299270153], [0.025664737448096275, 0.0025482093915343285, 0.003555063623934984, 0.005302223842591047, 0.004149129148572683, 0.003982939757406712], [0.9898792505264282, 0.2969696521759033, 0.9808223843574524, 0.019997043535113335, 0.7910361289978027, 0.01653333194553852], [0.9345086812973022, 0.00555863231420517, 0.05043227598071098, 0.014706680551171303, 0.10752096027135849, 0.016441119834780693], [0.9679242968559265, 0.03674529865384102, 0.891467273235321, 0.002586747519671917, 0.6561022996902466, 0.011483434587717056], [0.006189938634634018, 0.0036598220467567444, 0.004025797825306654, 0.005727320909500122, 0.0038642443250864744, 0.004155215807259083], [0.007921896874904633, 0.0032397473696619272, 0.0035778929013758898, 0.005378013476729393, 0.003644326003268361, 0.0045242528431117535], [0.005808936897665262, 0.0035860619973391294, 0.0038594549987465143, 0.005367410834878683, 0.003851161105558276, 0.004489518236368895], [0.005153605714440346, 0.0039380998350679874, 0.0038752213586121798, 0.005377018824219704, 0.0042112586088478565, 0.004339846782386303], [0.9834195375442505, 0.0218276958912611, 0.43506452441215515, 0.011879113502800465, 0.7766165137290955, 0.01278576347976923], [0.935430645942688, 0.035970546305179596, 0.8327917456626892, 0.009517017751932144, 0.2337443083524704, 0.005429679527878761], [0.0051796832121908665, 0.003673643572255969, 0.0041028354316949844, 0.0050599961541593075, 0.004203654360026121, 0.004704805091023445], [0.987086296081543, 0.19927017390727997, 0.977095365524292, 0.007909633219242096, 0.8488021492958069, 0.012336477637290955], [0.013754901476204395, 0.002679969649761915, 0.003642650321125984, 0.004825108218938112, 0.004092539194971323, 0.003327728249132633], [0.007477876730263233, 0.003238035598769784, 0.0037679222878068686, 0.005081102717667818, 0.0038841792847961187, 0.003990160766988993], [0.6022533774375916, 0.005649267230182886, 0.3373751640319824, 0.0026848309207707644, 0.03924106806516647, 0.002993072150275111], [0.013936563394963741, 0.0024535320699214935, 0.0032119774259626865, 0.003991588484495878, 0.004275357350707054, 0.0037326847668737173], [0.008123697713017464, 0.0031934240832924843, 0.003552851965650916, 0.005086529068648815, 0.0038873651064932346, 0.004278539679944515], [0.01045173779129982, 0.0031550589483231306, 0.003706893417984247, 0.005906800739467144, 0.0038643728476017714, 0.0038649311754852533], [0.021305026486516, 0.002401134464889765, 0.0035788058303296566, 0.004579262342303991, 0.004095342475920916, 0.0033739928621798754], [0.9890646934509277, 0.3730827867984772, 0.9807451963424683, 0.032054152339696884, 0.7982808947563171, 0.020803123712539673], [0.9487356543540955, 0.02903701923787594, 0.17662166059017181, 0.19733117520809174, 0.19981706142425537, 0.024441327899694443], [0.9879119396209717, 0.40890565514564514, 0.9854485392570496, 0.028482729569077492, 0.7616668343544006, 0.022913828492164612], [0.8742244243621826, 0.01696978323161602, 0.0363045334815979, 0.045163918286561966, 0.13477131724357605, 0.3208361864089966], [0.009081942029297352, 0.0029564264696091413, 0.00406426377594471, 0.004322551190853119, 0.003944213502109051, 0.0032820263877511024], [0.9883175492286682, 0.35680562257766724, 0.9510578513145447, 0.059937767684459686, 0.9273764491081238, 0.8509664535522461], [0.9834167957305908, 0.06723154336214066, 0.7581416368484497, 0.04287886247038841, 0.7801058292388916, 0.011608523316681385], [0.9449211359024048, 0.010774738155305386, 0.10877123475074768, 0.014318067580461502, 0.56829434633255, 0.007075142115354538], [0.7879480123519897, 0.008255032822489738, 0.01813763566315174, 0.0264101754873991, 0.06149512529373169, 0.13481968641281128], [0.008332755416631699, 0.003421669825911522, 0.00355539470911026, 0.005747528746724129, 0.0037961110938340425, 0.004207994323223829], [0.010084929876029491, 0.003332664491608739, 0.0035971077159047127, 0.006545369978994131, 0.0038104772102087736, 0.004343839827924967], [0.005289483815431595, 0.004187432117760181, 0.00410278607159853, 0.0062473309226334095, 0.0037207540590316057, 0.004514975938946009], [0.9782846570014954, 0.09942270815372467, 0.945559561252594, 0.009682485833764076, 0.38805505633354187, 0.013013891875743866], [0.1415524184703827, 0.0019313277443870902, 0.004038328770548105, 0.0034018673468381166, 0.009033865295350552, 0.005905546247959137], [0.006970948074012995, 0.00347645441070199, 0.003792727366089821, 0.005643839947879314, 0.003823971375823021, 0.0043201628141105175], [0.005085095763206482, 0.004357940051704645, 0.004423847887665033, 0.006038700696080923, 0.003888506442308426, 0.004375239368528128], [0.9931972026824951, 0.28635337948799133, 0.9680699706077576, 0.025357866659760475, 0.9495153427124023, 0.029376676306128502], [0.7965874075889587, 0.007745668292045593, 0.5052005648612976, 0.0016440494218841195, 0.05251926928758621, 0.004253783263266087], [0.9340444207191467, 0.005252225324511528, 0.029060259461402893, 0.012072628363966942, 0.321328341960907, 0.01681230589747429], [0.011831771582365036, 0.0029470466542989016, 0.003737670835107565, 0.005005629733204842, 0.004127465654164553, 0.0036022078711539507], [0.007081003859639168, 0.0031939034815877676, 0.0036955890245735645, 0.0048111905343830585, 0.0037263333797454834, 0.004294783342629671], [0.006093153730034828, 0.0035190279595553875, 0.004118635319173336, 0.005115711595863104, 0.00372381997294724, 0.00424161134287715], [0.7156256437301636, 0.002916830126196146, 0.04586409404873848, 0.004878592677414417, 0.02070247195661068, 0.005913140252232552], [0.040855757892131805, 0.001894154236651957, 0.0035852459259331226, 0.002350642578676343, 0.00962519459426403, 0.004346888512372971], [0.9729210734367371, 0.012297461740672588, 0.24514582753181458, 0.006854475010186434, 0.669561505317688, 0.010610335506498814], [0.9680487513542175, 0.06418643891811371, 0.9315518140792847, 0.007008466403931379, 0.4013691842556, 0.005485051311552525], [0.009566426277160645, 0.002861566375941038, 0.0036370009183883667, 0.00475410558283329, 0.00370459770783782, 0.003965378273278475], [0.006163688376545906, 0.003429090604186058, 0.003543914295732975, 0.005694791208952665, 0.0037005168851464987, 0.004861616529524326], [0.007388029247522354, 0.00318878423422575, 0.0038772691041231155, 0.004915186669677496, 0.003871654160320759, 0.003778158687055111], [0.005542747676372528, 0.0036148810759186745, 0.004224386066198349, 0.005196607671678066, 0.003773781703785062, 0.004122693557292223], [0.944098174571991, 0.011590689420700073, 0.6996765732765198, 0.0016340649453923106, 0.23155725002288818, 0.007762144319713116], [0.7537695169448853, 0.002266788389533758, 0.015331428498029709, 0.0036365860141813755, 0.06756572425365448, 0.004112658556550741], [0.006143386010080576, 0.0033439460676163435, 0.003683486022055149, 0.00548887625336647, 0.0037901215255260468, 0.004488377831876278], [0.9119030237197876, 0.005364641547203064, 0.030222784727811813, 0.01497793197631836, 0.30919525027275085, 0.006655459757894278], [0.08097255975008011, 0.0019049630500376225, 0.008491218090057373, 0.0026848490815609694, 0.006902729626744986, 0.0028186871204525232], [0.8867167234420776, 0.00519968755543232, 0.02330305241048336, 0.028990354388952255, 0.12403174489736557, 0.007095705717802048], [0.9709605574607849, 0.20299021899700165, 0.9699753522872925, 0.024443112313747406, 0.4573759436607361, 0.013993234373629093], [0.03180661052465439, 0.002306170528754592, 0.003927212208509445, 0.004224203992635012, 0.004709284286946058, 0.003784667933359742], [0.9455888271331787, 0.07099895179271698, 0.9227023124694824, 0.008752935566008091, 0.31091704964637756, 0.006075601559132338], [0.03491898998618126, 0.002203922485932708, 0.0036136447452008724, 0.004727570340037346, 0.004693344235420227, 0.003480704268440604], [0.006099977996200323, 0.0035012150183320045, 0.004226709716022015, 0.005179956089705229, 0.0035732227843254805, 0.004311204422265291], [0.011203273199498653, 0.002692023990675807, 0.0035015512257814407, 0.004303891211748123, 0.003969929646700621, 0.0038374552968889475], [0.957797646522522, 0.011254075914621353, 0.24295887351036072, 0.005062193144112825, 0.762485682964325, 0.008712545037269592], [0.006075684912502766, 0.003836126299574971, 0.003242041217163205, 0.006627599708735943, 0.003798172576352954, 0.005457069259136915], [0.9199233651161194, 0.003517954843118787, 0.05094762146472931, 0.0038831664714962244, 0.1633004993200302, 0.010901319794356823], [0.9451692700386047, 0.037500545382499695, 0.1523914486169815, 0.03675473481416702, 0.37448546290397644, 0.6720235347747803], [0.006904570385813713, 0.004041553474962711, 0.004871789366006851, 0.005749850999563932, 0.0034852970857173204, 0.004607918206602335], [0.0056102704256772995, 0.0038978448137640953, 0.003877248615026474, 0.005934280809015036, 0.003694792278110981, 0.005259525030851364], [0.833453357219696, 0.06652789562940598, 0.09925821423530579, 0.5724009871482849, 0.18611635267734528, 0.06083514541387558], [0.010269585996866226, 0.003095032414421439, 0.003527789143845439, 0.005559267941862345, 0.003703337861225009, 0.004120341036468744], [0.006239260546863079, 0.00363217294216156, 0.004094335716217756, 0.005479895509779453, 0.0038736204151064157, 0.004042749758809805], [0.9424527287483215, 0.04045652598142624, 0.16262996196746826, 0.04111786186695099, 0.45809808373451233, 0.7238470315933228], [0.9334559440612793, 0.006507801823318005, 0.029513362795114517, 0.02013283595442772, 0.32776525616645813, 0.00913676805794239], [0.7816899418830872, 0.0034016924910247326, 0.009793725796043873, 0.015043660998344421, 0.06698499619960785, 0.007254810072481632], [0.14167799055576324, 0.002374848583713174, 0.003758656792342663, 0.007100074086338282, 0.006682213861495256, 0.008062899112701416], [0.9494109749794006, 0.0053589376620948315, 0.04648541659116745, 0.021332934498786926, 0.1994999647140503, 0.01038041990250349], [0.008437719196081161, 0.003203602507710457, 0.0033239866606891155, 0.005762002430856228, 0.00366199086420238, 0.0045578330755233765], [0.8959651589393616, 0.005835253279656172, 0.04538748413324356, 0.02961186319589615, 0.05896018445491791, 0.012343416921794415], [0.9432199001312256, 0.005780323408544064, 0.0342862568795681, 0.01660901866853237, 0.3509572446346283, 0.012875698506832123], [0.011633207090198994, 0.0028386253397911787, 0.004187284968793392, 0.004573284648358822, 0.004161048214882612, 0.0034680201206356287], [0.23678912222385406, 0.0021753832697868347, 0.00589519739151001, 0.005881478078663349, 0.008416315540671349, 0.004611684009432793], [0.03287088871002197, 0.0021365575958043337, 0.004021272994577885, 0.004674302414059639, 0.00428696209564805, 0.003751275595277548], [0.008119403384625912, 0.0030269455164670944, 0.0032816336024552584, 0.005329380743205547, 0.0035856261383742094, 0.00471183517947793], [0.02120276913046837, 0.0023040242958813906, 0.003610293148085475, 0.0038461321964859962, 0.004397084936499596, 0.003384578973054886], [0.9966543912887573, 0.7018916010856628, 0.9908261895179749, 0.15213149785995483, 0.9741248488426208, 0.7528896927833557], [0.9336333870887756, 0.00972409825772047, 0.03896433860063553, 0.07598742842674255, 0.12738123536109924, 0.045013222843408585], [0.8741766810417175, 0.005920280236750841, 0.10771941393613815, 0.0152773167937994, 0.050834085792303085, 0.005143396556377411], [0.15146411955356598, 0.003601240925490856, 0.004346882458776236, 0.007972268387675285, 0.011385686695575714, 0.03567644581198692], [0.9768536686897278, 0.1380937248468399, 0.9531364440917969, 0.023787932470440865, 0.37913763523101807, 0.012984470464289188], [0.9881554841995239, 0.04154731333255768, 0.6278901696205139, 0.009984428063035011, 0.7493531107902527, 0.32743361592292786], [0.00569754047319293, 0.00362959410995245, 0.004021790344268084, 0.005112923681735992, 0.0039080423302948475, 0.004297791980206966], [0.005326048005372286, 0.003615760477259755, 0.004004591144621372, 0.005268928129225969, 0.003955889958888292, 0.004509163089096546], [0.005989688914269209, 0.003901469288393855, 0.0038312787655740976, 0.006250976584851742, 0.0037971711717545986, 0.004851061850786209], [0.9538150429725647, 0.011315359733998775, 0.06863939017057419, 0.0326821468770504, 0.49941715598106384, 0.011308874934911728], [0.009324915707111359, 0.003308034734800458, 0.00369896343909204, 0.005211965646594763, 0.00395421264693141, 0.003827375127002597], [0.006418945267796516, 0.0031967847608029842, 0.0037060342729091644, 0.004858445376157761, 0.0039015028160065413, 0.004409865941852331], [0.7982802987098694, 0.0033538693096488714, 0.019479967653751373, 0.00754645187407732, 0.1130666583776474, 0.0042200842872262], [0.0059784227050840855, 0.003602087963372469, 0.003978428430855274, 0.005426757503300905, 0.0038930356968194246, 0.004405225161463022], [0.012637924402952194, 0.0030172120314091444, 0.004486560821533203, 0.004516459535807371, 0.004241323564201593, 0.0032862017396837473], [0.009840411134064198, 0.0030442597344517708, 0.004199083894491196, 0.005170273594558239, 0.0033931066282093525, 0.004432050045579672], [0.42582738399505615, 0.004153572488576174, 0.010797368362545967, 0.02144605480134487, 0.01670173555612564, 0.004764205776154995], [0.9830412864685059, 0.10931681841611862, 0.3328724205493927, 0.17733243107795715, 0.586818277835846, 0.7840077877044678], [0.9498317241668701, 0.05386759713292122, 0.9300800561904907, 0.0034362776204943657, 0.2976542115211487, 0.006959378253668547], [0.9874101281166077, 0.05979812890291214, 0.8473601341247559, 0.007039661984890699, 0.8932206034660339, 0.10814426839351654], [0.9653841257095337, 0.20284268260002136, 0.7029441595077515, 0.08784592896699905, 0.7651793956756592, 0.9216374754905701], [0.7266347408294678, 0.0024630879051983356, 0.00944586843252182, 0.005801574792712927, 0.064034104347229, 0.005716399755328894], [0.00748995877802372, 0.003097600769251585, 0.0040247561410069466, 0.004621625412255526, 0.003815757343545556, 0.00364210014231503], [0.9698526859283447, 0.02720728889107704, 0.8544458746910095, 0.002893478609621525, 0.43284085392951965, 0.004844522103667259], [0.0065007456578314304, 0.003194898134097457, 0.004136640578508377, 0.0047376095317304134, 0.0037735665682703257, 0.003952858503907919], [0.2366390973329544, 0.0035201285500079393, 0.004916233941912651, 0.013841845095157623, 0.009605513885617256, 0.017889240756630898], [0.015791000798344612, 0.0026294258423149586, 0.003311407519504428, 0.004764951765537262, 0.004319336265325546, 0.0036895719822496176], [0.0086292065680027, 0.0029551642946898937, 0.004370385780930519, 0.004464025609195232, 0.0040436903946101665, 0.003665513824671507], [0.436798095703125, 0.001807496533729136, 0.015725504606962204, 0.0031894741114228964, 0.023989038541913033, 0.003192548407241702], [0.007896402850747108, 0.0030417500529438257, 0.0045100064016878605, 0.0044928123243153095, 0.0037429037038236856, 0.003667001612484455], [0.15262702107429504, 0.0021348525770008564, 0.0042938594706356525, 0.0055709946900606155, 0.008810225874185562, 0.003378259250894189], [0.006430057808756828, 0.003459964180365205, 0.004085727035999298, 0.005430315621197224, 0.003810965921729803, 0.0038348783273249865], [0.005512927658855915, 0.003809436457231641, 0.003982120659202337, 0.0056303879246115685, 0.003927967511117458, 0.004252736922353506], [0.8057411313056946, 0.0033581708557903767, 0.1113552674651146, 0.004847755189985037, 0.03470339998602867, 0.004312078934162855], [0.9693004488945007, 0.031298793852329254, 0.5367722511291504, 0.007171994540840387, 0.8262946009635925, 0.25076383352279663], [0.9816204309463501, 0.34624674916267395, 0.8757823705673218, 0.4633271098136902, 0.8240525126457214, 0.07622561603784561], [0.008445126935839653, 0.0031793401576578617, 0.003893059678375721, 0.005277735646814108, 0.0037563524674624205, 0.0040807765908539295], [0.9960048794746399, 0.2546197175979614, 0.9609651565551758, 0.022561129182577133, 0.956838846206665, 0.2187391072511673], [0.8125624656677246, 0.003076187102124095, 0.00969616137444973, 0.008400003425776958, 0.05660577863454819, 0.00991867482662201], [0.00555846095085144, 0.004133324138820171, 0.003947952296584845, 0.0065359072759747505, 0.004155340138822794, 0.004264672752469778], [0.9173307418823242, 0.010534373112022877, 0.5586336255073547, 0.0021955505944788456, 0.47606855630874634, 0.004682895727455616], [0.008492828346788883, 0.0034856859128922224, 0.004374038893729448, 0.005701534915715456, 0.0037006244529038668, 0.004164790268987417], [0.0073400395922362804, 0.0031622552778571844, 0.003832804271951318, 0.0053984057158231735, 0.0037203156389296055, 0.004834587220102549], [0.006846636533737183, 0.003443029709160328, 0.003496862016618252, 0.005785394459962845, 0.003734018187969923, 0.004873995203524828], [0.874456524848938, 0.005753679201006889, 0.014161164872348309, 0.022538794204592705, 0.08197358250617981, 0.03973787650465965], [0.5966731309890747, 0.008300213143229485, 0.013022249564528465, 0.08003878593444824, 0.035937704145908356, 0.02088182233273983], [0.19426101446151733, 0.0018186649540439248, 0.028670862317085266, 0.002078802092000842, 0.012794469483196735, 0.002516512991860509], [0.007604624610394239, 0.0034460858441889286, 0.003580539021641016, 0.006144585087895393, 0.0038262391462922096, 0.004621508996933699], [0.9589498043060303, 0.00934750959277153, 0.0493459552526474, 0.016420505940914154, 0.4479377865791321, 0.10084253549575806], [0.9939927458763123, 0.17895330488681793, 0.9522620439529419, 0.032653216272592545, 0.9442352056503296, 0.19637595117092133], [0.9363692402839661, 0.04025023803114891, 0.8594591021537781, 0.01112641952931881, 0.233882337808609, 0.00499058049172163], [0.0614890456199646, 0.0023364415392279625, 0.0033400212414562702, 0.006125260144472122, 0.0054181660525500774, 0.004177208989858627], [0.5392115712165833, 0.0031856740824878216, 0.00899675115942955, 0.013912265188992023, 0.021655170246958733, 0.004404343198984861], [0.04258164018392563, 0.0024364707060158253, 0.0038340692408382893, 0.005994818173348904, 0.004429426975548267, 0.004023013170808554], [0.049786169081926346, 0.0021294420585036278, 0.003330045845359564, 0.004480259492993355, 0.005704394541680813, 0.003481908468529582], [0.011814918369054794, 0.0025202275719493628, 0.0038408837281167507, 0.0038119545206427574, 0.004333628341555595, 0.00486987316980958], [0.006553915329277515, 0.00364507595077157, 0.0044140322133898735, 0.005685397423803806, 0.0038254086393862963, 0.0037380754947662354], [0.9788457155227661, 0.037098631262779236, 0.6120779514312744, 0.011485096998512745, 0.8770174384117126, 0.009939087554812431], [0.006699098274111748, 0.0035000790376216173, 0.0038203441072255373, 0.006033396814018488, 0.003630133578553796, 0.0048156422562897205], [0.9909772872924805, 0.3449365198612213, 0.9786912202835083, 0.0202419962733984, 0.9028775095939636, 0.01778649538755417], [0.0075224158354103565, 0.003142690984532237, 0.003403993556275964, 0.0049885050393640995, 0.004188492428511381, 0.004371188580989838], [0.005504867993295193, 0.003610023995861411, 0.0038723715115338564, 0.005134164821356535, 0.0038098618388175964, 0.004394344985485077], [0.8120591044425964, 0.02284717559814453, 0.7988207936286926, 0.003906628582626581, 0.0769052505493164, 0.004622559994459152], [0.978011965751648, 0.21322651207447052, 0.9741670489311218, 0.017091237008571625, 0.5723782777786255, 0.011318186298012733], [0.006755287293344736, 0.0032418009359389544, 0.004237146582454443, 0.004667975474148989, 0.003871622961014509, 0.003675729501992464], [0.8959293365478516, 0.0031662320252507925, 0.0246110912412405, 0.004462552722543478, 0.1548202633857727, 0.010704897344112396], [0.9717682600021362, 0.017720414325594902, 0.13305649161338806, 0.0808994323015213, 0.4993499517440796, 0.020166650414466858], [0.1260470449924469, 0.001934277592226863, 0.011143351905047894, 0.0029040630906820297, 0.006583085749298334, 0.0028109776321798563], [0.9838465452194214, 0.03861746937036514, 0.9168344736099243, 0.0027725761756300926, 0.5313186645507812, 0.02445608377456665], [0.14483457803726196, 0.002239757450297475, 0.005242000799626112, 0.0037650438025593758, 0.016672857105731964, 0.003274076385423541], [0.007609290070831776, 0.003560266923159361, 0.0036246031522750854, 0.006191661115735769, 0.0037740524858236313, 0.00438419496640563], [0.020851295441389084, 0.0022748573683202267, 0.0038168157916516066, 0.003816380864009261, 0.004444645252078772, 0.003367361146956682], [0.9617907404899597, 0.5803126692771912, 0.8966656923294067, 0.7271569967269897, 0.7636150121688843, 0.14709968864917755], [0.007831738330423832, 0.0033248323015868664, 0.00437414925545454, 0.00520853977650404, 0.0036197686567902565, 0.0041006808169186115], [0.005038491450250149, 0.003976767882704735, 0.004070742521435022, 0.00576297240331769, 0.003924347925931215, 0.0043110656552016735], [0.9404659271240234, 0.006092544179409742, 0.15927910804748535, 0.006209761369973421, 0.13460104167461395, 0.006406109780073166], [0.9857553839683533, 0.10392679274082184, 0.8476044535636902, 0.016654618084430695, 0.9254701733589172, 0.015211483463644981], [0.009768148884177208, 0.0030440555419772863, 0.0036007429007440805, 0.005443677771836519, 0.0036118393763899803, 0.004124095663428307], [0.006886724848300219, 0.0031969519332051277, 0.003768727881833911, 0.004857459105551243, 0.003756652120500803, 0.004202431533485651], [0.846416175365448, 0.029837390407919884, 0.75184565782547, 0.009981864131987095, 0.08057396858930588, 0.005411040037870407], [0.006338741164654493, 0.0033271335996687412, 0.003896223148331046, 0.0051318584010005, 0.0039982059970498085, 0.003908567596226931], [0.514924168586731, 0.002675302792340517, 0.00597428111359477, 0.005791530478745699, 0.02760254219174385, 0.02377505414187908], [0.010159208439290524, 0.0026829191483557224, 0.0036746261175721884, 0.004127826076000929, 0.003952982369810343, 0.005412282422184944], [0.008294185623526573, 0.003150967415422201, 0.003710227319970727, 0.00526390690356493, 0.003941301256418228, 0.004260734189301729], [0.9177712202072144, 0.0038534540217369795, 0.09925176203250885, 0.0040932390838861465, 0.06853135675191879, 0.012426622211933136], [0.005421023815870285, 0.003916919697076082, 0.004266649950295687, 0.0058473851531744, 0.0038310750387609005, 0.004268994554877281], [0.008017300628125668, 0.003312306012958288, 0.0036287906114012003, 0.005433293990790844, 0.0037012395914644003, 0.004002486355602741], [0.9921397566795349, 0.16649803519248962, 0.9811832904815674, 0.008342983201146126, 0.7269045114517212, 0.05348143354058266], [0.010027529671788216, 0.002675690921023488, 0.0036903659347444773, 0.004011306446045637, 0.004034573212265968, 0.004090248607099056], [0.11719048023223877, 0.0018999343737959862, 0.006032744888216257, 0.0029537586960941553, 0.006915551610291004, 0.008567798882722855], [0.010257945396006107, 0.0026881720405071974, 0.004117769189178944, 0.0036250906996428967, 0.004138416610658169, 0.003636434208601713], [0.006192532833665609, 0.003598027629777789, 0.003680436871945858, 0.005771464202553034, 0.004023316781967878, 0.004609685856848955], [0.9020666480064392, 0.023658424615859985, 0.8359925150871277, 0.0020726751536130905, 0.30600589513778687, 0.004509632010012865], [0.7852895259857178, 0.002547705313190818, 0.018404116854071617, 0.003988714888691902, 0.07849206030368805, 0.00452674925327301], [0.00924510695040226, 0.002911520656198263, 0.0052078161388635635, 0.004208324011415243, 0.0038044617976993322, 0.0034254849888384342], [0.9639664888381958, 0.2061161994934082, 0.9704508185386658, 0.018635425716638565, 0.3506520986557007, 0.016286786645650864], [0.009702366776764393, 0.0026371453423053026, 0.0029908092692494392, 0.004495837260037661, 0.0037249841261655092, 0.005240434780716896], [0.9126325249671936, 0.026253685355186462, 0.8260802030563354, 0.0031643828842788935, 0.17775964736938477, 0.004080826882272959], [0.028451384976506233, 0.0029489430598914623, 0.0031522796489298344, 0.006151718087494373, 0.005584562662988901, 0.010784109123051167], [0.9590600728988647, 0.01900491490960121, 0.37259379029273987, 0.005616935435682535, 0.7833253741264343, 0.1362975835800171], [0.005736150313168764, 0.003864297643303871, 0.004288373049348593, 0.00587491923943162, 0.003716092323884368, 0.004420180339366198], [0.8212733864784241, 0.009126693941652775, 0.620649516582489, 0.0017197896959260106, 0.1793520301580429, 0.0038090308662503958], [0.05739530175924301, 0.0024857139214873314, 0.0037644458934664726, 0.006864430848509073, 0.005190788768231869, 0.004411704838275909], [0.7362276911735535, 0.0026181715074926615, 0.07406599819660187, 0.00261497450992465, 0.03343908488750458, 0.0029297738801687956], [0.8643348217010498, 0.005874891299754381, 0.3047870695590973, 0.003109382465481758, 0.04633539170026779, 0.007652805186808109], [0.007498715538531542, 0.003088219091296196, 0.0035042695235460997, 0.0051070526242256165, 0.0039651351980865, 0.003887021681293845], [0.018624046817421913, 0.002565161557868123, 0.002956364769488573, 0.005223454441875219, 0.004080402664840221, 0.004497055895626545], [0.03381717950105667, 0.002050125040113926, 0.004246171563863754, 0.00356793450191617, 0.0050050788559019566, 0.0028129792772233486], [0.9914065599441528, 0.1810750961303711, 0.9582012295722961, 0.018031248822808266, 0.9378750920295715, 0.03923923894762993], [0.008221985772252083, 0.0028496086597442627, 0.0037927436642348766, 0.004191185813397169, 0.0038689461071044207, 0.003695230931043625], [0.9433730244636536, 0.05678053945302963, 0.8734980821609497, 0.016935352236032486, 0.290340781211853, 0.006075319368392229], [0.017737487331032753, 0.002159972209483385, 0.00371813727542758, 0.003313888795673847, 0.004372087307274342, 0.0033502180594950914], [0.0251749400049448, 0.002134425798431039, 0.003706675488501787, 0.0037337096873670816, 0.004087462089955807, 0.004672878421843052], [0.9333784580230713, 0.05594105273485184, 0.1355055719614029, 0.4024295210838318, 0.4032067358493805, 0.031249113380908966], [0.9685114622116089, 0.011865554377436638, 0.37289801239967346, 0.004023856017738581, 0.6701199412345886, 0.005452847108244896], [0.0229675080627203, 0.0022516350727528334, 0.003831342328339815, 0.0039981659501791, 0.004370850045233965, 0.0033704512752592564], [0.012531057931482792, 0.0030936235561966896, 0.0035873842425644398, 0.005662673152983189, 0.00389116327278316, 0.00389509997330606], [0.9506624341011047, 0.04440482705831528, 0.8920550346374512, 0.011577880941331387, 0.17045319080352783, 0.008335206657648087], [0.005642548203468323, 0.003773880423977971, 0.004166885279119015, 0.005832427181303501, 0.003982572816312313, 0.004076612181961536], [0.006066813599318266, 0.0039981696754693985, 0.004436302464455366, 0.006192893721163273, 0.0038495920598506927, 0.004428484942764044], [0.05129585787653923, 0.0018426688620820642, 0.005163170862942934, 0.00254975282587111, 0.0054356749169528484, 0.003522241720929742], [0.006267541088163853, 0.0040306528098881245, 0.0041837929747998714, 0.006107791792601347, 0.004065338987857103, 0.004180119838565588], [0.014231895096600056, 0.0023616752587258816, 0.0037006083875894547, 0.003991823177784681, 0.0036980004515498877, 0.004026103764772415], [0.9911620616912842, 0.04200376197695732, 0.5556699633598328, 0.012525537982583046, 0.8904630541801453, 0.10954419523477554], [0.016504576429724693, 0.0023996159434318542, 0.003481260035187006, 0.004102651961147785, 0.004001053050160408, 0.003623071126639843], [0.21794621646404266, 0.003540156176313758, 0.006757005583494902, 0.01442755851894617, 0.011381778866052628, 0.0033140918239951134], [0.9913840293884277, 0.48361891508102417, 0.9848923683166504, 0.03146067261695862, 0.9485330581665039, 0.03079410269856453], [0.8883007764816284, 0.009715186432003975, 0.01779489405453205, 0.04533451050519943, 0.0986795574426651, 0.11339914053678513], [0.8271840214729309, 0.003349021077156067, 0.012862942181527615, 0.010511424392461777, 0.05443228408694267, 0.006353369913995266], [0.8757496476173401, 0.00597862945869565, 0.02809925377368927, 0.03171662613749504, 0.08271726220846176, 0.00990983285009861], [0.9226371645927429, 0.04592636227607727, 0.12711553275585175, 0.4192191958427429, 0.25082382559776306, 0.03629297390580177], [0.01068852748721838, 0.002541224705055356, 0.0034097945317626, 0.0037482932675629854, 0.004354487638920546, 0.003689256263896823], [0.9268052577972412, 0.006492577493190765, 0.03129514306783676, 0.014291960746049881, 0.34422850608825684, 0.010167406871914864], [0.6335605382919312, 0.0021365005522966385, 0.0082665104418993, 0.0038964066188782454, 0.04655952751636505, 0.005140905734151602], [0.9648745656013489, 0.014694780111312866, 0.1061219722032547, 0.06444977223873138, 0.41683411598205566, 0.009773232974112034], [0.9133458137512207, 0.0043427469208836555, 0.024675767868757248, 0.0162810031324625, 0.13608339428901672, 0.007006670814007521], [0.9906556010246277, 0.2753952741622925, 0.9145887494087219, 0.17709587514400482, 0.8971415162086487, 0.04491123557090759], [0.3881685435771942, 0.0027752378955483437, 0.005632529500871897, 0.008030170574784279, 0.01518206112086773, 0.016018478199839592], [0.023188553750514984, 0.0024639246985316277, 0.003334181848913431, 0.005093676503747702, 0.0041571795009076595, 0.0038380620535463095], [0.9305459260940552, 0.014583908021450043, 0.7448201775550842, 0.0033509680069983006, 0.14757922291755676, 0.004069119226187468], [0.007469394709914923, 0.0037062526680529118, 0.004065435845404863, 0.005787523929029703, 0.004008118528872728, 0.003974208142608404], [0.0050651454366743565, 0.004006963688880205, 0.00395847437903285, 0.005944799166172743, 0.004000682849436998, 0.00450496980920434], [0.9480147361755371, 0.007787758018821478, 0.04357806593179703, 0.015724854543805122, 0.43409445881843567, 0.008579707704484463], [0.930027186870575, 0.004825417418032885, 0.16501182317733765, 0.0066496520303189754, 0.09259921312332153, 0.004543945658951998], [0.39431363344192505, 0.00289899087511003, 0.012341336347162724, 0.005375422537326813, 0.019509030506014824, 0.003658067900687456], [0.9872156381607056, 0.32179683446884155, 0.9838222861289978, 0.011548135429620743, 0.8400833010673523, 0.016344688832759857], [0.036808356642723083, 0.00233117351308465, 0.003721049055457115, 0.004629742354154587, 0.004823572002351284, 0.003294889349490404], [0.007182690780609846, 0.0033761148806661367, 0.0037631909362971783, 0.0055564213544130325, 0.0038618575781583786, 0.004131681751459837], [0.010308387689292431, 0.002907004440203309, 0.003761473810300231, 0.004620805382728577, 0.0037737549282610416, 0.0037566397804766893], [0.907427966594696, 0.018553994596004486, 0.7710339426994324, 0.0026064557023346424, 0.3797631859779358, 0.005480433348566294], [0.06384850293397903, 0.003133136313408613, 0.021836936473846436, 0.0038967356085777283, 0.00542998593300581, 0.003097522770985961], [0.9938708543777466, 0.2253699153661728, 0.9598982930183411, 0.026659071445465088, 0.8200241923332214, 0.5865128040313721], [0.8654078841209412, 0.002965627470985055, 0.026485273614525795, 0.0033310430590063334, 0.16024284064769745, 0.006875264924019575], [0.9484539031982422, 0.0051299771293997765, 0.19960397481918335, 0.005746711511164904, 0.15705658495426178, 0.005288723390549421], [0.004980688448995352, 0.003837996395304799, 0.004033736418932676, 0.005644600372761488, 0.0037593389861285686, 0.004714821465313435], [0.9507867693901062, 0.006032624281942844, 0.03666727617383003, 0.010546054691076279, 0.36246758699417114, 0.011635076254606247], [0.9703047871589661, 0.009609992615878582, 0.49154794216156006, 0.003277914132922888, 0.3686214089393616, 0.0062057748436927795], [0.01482602022588253, 0.0024369980674237013, 0.0037334987428039312, 0.003728605108335614, 0.004196544643491507, 0.0031409182120114565], [0.008226308040320873, 0.0030732841696590185, 0.0037735237274318933, 0.0051794350147247314, 0.0037638652138412, 0.004029429983347654], [0.022823195904493332, 0.002168717561289668, 0.0037130604032427073, 0.0032900962978601456, 0.004961566999554634, 0.0031912769190967083], [0.9818143248558044, 0.09124672412872314, 0.9503352046012878, 0.005245560314506292, 0.5501697063446045, 0.0100100077688694], [0.007065595127642155, 0.0032168999314308167, 0.0038561327382922173, 0.00483448663726449, 0.00367583055049181, 0.0038667875342071056], [0.987551748752594, 0.22448010742664337, 0.9834445714950562, 0.009591634385287762, 0.708232581615448, 0.01674392633140087], [0.20019008219242096, 0.002428327454254031, 0.0067382012493908405, 0.005864492617547512, 0.00769728934392333, 0.00401223823428154], [0.041470885276794434, 0.0019178148359060287, 0.0031308105681091547, 0.0036502124276012182, 0.006040898617357016, 0.0035195632372051477], [0.9900240898132324, 0.3179091513156891, 0.9283270239830017, 0.10096912086009979, 0.9343554973602295, 0.028062332421541214], [0.9896520972251892, 0.1402946412563324, 0.9539700746536255, 0.008292526938021183, 0.9172196984291077, 0.024088136851787567], [0.7500673532485962, 0.006932884454727173, 0.35775336623191833, 0.003810764756053686, 0.039112191647291183, 0.0034029893577098846], [0.943527340888977, 0.00562443770468235, 0.12052043527364731, 0.0029050232842564583, 0.546849250793457, 0.012499990873038769], [0.876639187335968, 0.003546673571690917, 0.1822098046541214, 0.002006752882152796, 0.11194846034049988, 0.002790922997519374], [0.005039304494857788, 0.003945601638406515, 0.00418552802875638, 0.005435775499790907, 0.003781350562348962, 0.004620768129825592], [0.0054614911787211895, 0.0038285749033093452, 0.004035498946905136, 0.0058251903392374516, 0.0038316952995955944, 0.004379391670227051], [0.025168778374791145, 0.002364789368584752, 0.0036837973166257143, 0.004995034541934729, 0.004069202113896608, 0.003580401185899973], [0.9225655198097229, 0.004513686057180166, 0.22877249121665955, 0.00174332142341882, 0.2551606595516205, 0.004049515351653099], [0.0061544557102024555, 0.0033039338886737823, 0.0035971575416624546, 0.004912115633487701, 0.0038359786849468946, 0.004370263312011957], [0.9848905205726624, 0.42301058769226074, 0.9825716018676758, 0.03838352859020233, 0.7560217976570129, 0.01970975287258625], [0.8844197392463684, 0.004937464836984873, 0.10246431082487106, 0.0031262615229934454, 0.10531796514987946, 0.005435463506728411], [0.980628252029419, 0.055629197508096695, 0.8963980674743652, 0.0035971368197351694, 0.8150696754455566, 0.03749385103583336], [0.006586267147213221, 0.0037814280949532986, 0.004057331010699272, 0.006060250103473663, 0.0038474458269774914, 0.004103515297174454], [0.03408701345324516, 0.002122313715517521, 0.004056384786963463, 0.003929943777620792, 0.004564087837934494, 0.003445057664066553], [0.007935718633234501, 0.003166400594636798, 0.0035424160305410624, 0.005160433240234852, 0.003475621808320284, 0.004295914899557829], [0.007917191833257675, 0.0031599155627191067, 0.0037167067639529705, 0.004823791794478893, 0.00402225274592638, 0.0036012495402246714], [0.2472594678401947, 0.0016498129116371274, 0.007595711853355169, 0.002856914419680834, 0.014502113685011864, 0.002652699826285243], [0.972490668296814, 0.0270273145288229, 0.367677241563797, 0.012099627405405045, 0.592810332775116, 0.49555158615112305]]\n"
          ]
        }
      ]
    },
    {
      "cell_type": "code",
      "source": [
        "len(val_outputs)"
      ],
      "metadata": {
        "colab": {
          "base_uri": "https://localhost:8080/"
        },
        "id": "OmmEla6YzPwi",
        "outputId": "62f05175-fa20-41b2-e8fc-3a91e66fb58c"
      },
      "execution_count": null,
      "outputs": [
        {
          "output_type": "execute_result",
          "data": {
            "text/plain": [
              "3223"
            ]
          },
          "metadata": {},
          "execution_count": 37
        }
      ]
    },
    {
      "cell_type": "markdown",
      "source": [
        "#Evaluate Model"
      ],
      "metadata": {
        "id": "roYmFzAplcNP"
      }
    },
    {
      "cell_type": "code",
      "source": [
        "def convert(lst):\n",
        "  y_pred=[]\n",
        "  for sample in lst:\n",
        "    y_pred.append([1 if i>=0.3 else 0 for i in sample])\n",
        "  return y_pred"
      ],
      "metadata": {
        "id": "TzKwOoBoz-56"
      },
      "execution_count": null,
      "outputs": []
    },
    {
      "cell_type": "code",
      "source": [
        "y_pred= convert(val_outputs)"
      ],
      "metadata": {
        "id": "K4b2MbHskjgG"
      },
      "execution_count": null,
      "outputs": []
    },
    {
      "cell_type": "code",
      "source": [
        "print(y_pred)"
      ],
      "metadata": {
        "colab": {
          "base_uri": "https://localhost:8080/"
        },
        "id": "wToNQ504ksMA",
        "outputId": "c6f7ce4b-e40b-42f4-fed7-81833b436914"
      },
      "execution_count": null,
      "outputs": [
        {
          "output_type": "stream",
          "name": "stdout",
          "text": [
            "[[1, 0, 0, 0, 0, 0], [0, 0, 0, 0, 0, 0], [0, 0, 0, 0, 0, 0], [0, 0, 0, 0, 0, 0], [0, 0, 0, 0, 0, 0], [0, 0, 0, 0, 0, 0], [0, 0, 0, 0, 0, 0], [1, 0, 1, 0, 0, 0], [0, 0, 0, 0, 0, 0], [1, 0, 1, 0, 1, 0], [0, 0, 0, 0, 0, 0], [1, 0, 1, 0, 1, 0], [1, 0, 1, 0, 1, 0], [0, 0, 0, 0, 0, 0], [1, 0, 1, 0, 1, 0], [1, 0, 1, 0, 1, 0], [0, 0, 0, 0, 0, 0], [1, 0, 0, 0, 0, 0], [1, 0, 0, 0, 0, 0], [1, 0, 0, 0, 0, 0], [0, 0, 0, 0, 0, 0], [0, 0, 0, 0, 0, 0], [0, 0, 0, 0, 0, 0], [1, 0, 1, 0, 1, 1], [0, 0, 0, 0, 0, 0], [0, 0, 0, 0, 0, 0], [0, 0, 0, 0, 0, 0], [0, 0, 0, 0, 0, 0], [1, 1, 1, 0, 1, 1], [0, 0, 0, 0, 0, 0], [0, 0, 0, 0, 0, 0], [1, 0, 1, 0, 1, 0], [0, 0, 0, 0, 0, 0], [1, 1, 1, 0, 1, 0], [1, 1, 1, 0, 1, 0], [1, 0, 1, 0, 0, 0], [1, 0, 0, 0, 0, 0], [0, 0, 0, 0, 0, 0], [1, 0, 1, 0, 0, 0], [0, 0, 0, 0, 0, 0], [0, 0, 0, 0, 0, 0], [0, 0, 0, 0, 0, 0], [1, 0, 0, 0, 0, 0], [0, 0, 0, 0, 0, 0], [0, 0, 0, 0, 0, 0], [0, 0, 0, 0, 0, 0], [1, 0, 0, 0, 0, 0], [1, 0, 0, 0, 1, 0], [1, 0, 1, 0, 1, 1], [0, 0, 0, 0, 0, 0], [0, 0, 0, 0, 0, 0], [0, 0, 0, 0, 0, 0], [0, 0, 0, 0, 0, 0], [0, 0, 0, 0, 0, 0], [0, 0, 0, 0, 0, 0], [0, 0, 0, 0, 0, 0], [0, 0, 0, 0, 0, 0], [1, 0, 0, 0, 0, 0], [0, 0, 0, 0, 0, 0], [0, 0, 0, 0, 0, 0], [0, 0, 0, 0, 0, 0], [1, 0, 0, 0, 0, 0], [1, 0, 0, 0, 1, 0], [0, 0, 0, 0, 0, 0], [1, 0, 0, 0, 0, 0], [0, 0, 0, 0, 0, 0], [0, 0, 0, 0, 0, 0], [1, 1, 1, 0, 1, 0], [0, 0, 0, 0, 0, 0], [0, 0, 0, 0, 0, 0], [1, 0, 0, 0, 1, 0], [1, 0, 0, 0, 0, 0], [1, 1, 1, 0, 1, 0], [1, 0, 0, 0, 0, 0], [1, 0, 1, 0, 1, 0], [1, 0, 1, 0, 1, 0], [0, 0, 0, 0, 0, 0], [0, 0, 0, 0, 0, 0], [0, 0, 0, 0, 0, 0], [1, 0, 1, 0, 1, 0], [0, 0, 0, 0, 0, 0], [1, 0, 0, 0, 0, 0], [1, 0, 1, 0, 1, 0], [0, 0, 0, 0, 0, 0], [1, 0, 0, 0, 0, 0], [0, 0, 0, 0, 0, 0], [1, 1, 1, 0, 1, 1], [1, 0, 1, 0, 1, 1], [0, 0, 0, 0, 0, 0], [0, 0, 0, 0, 0, 0], [1, 0, 1, 0, 1, 0], [0, 0, 0, 0, 0, 0], [0, 0, 0, 0, 0, 0], [0, 0, 0, 0, 0, 0], [1, 0, 0, 0, 1, 0], [0, 0, 0, 0, 0, 0], [1, 0, 1, 0, 0, 0], [1, 0, 0, 0, 0, 1], [1, 0, 1, 0, 0, 0], [0, 0, 0, 0, 0, 0], [0, 0, 0, 0, 0, 0], [0, 0, 0, 0, 0, 0], [0, 0, 0, 0, 0, 0], [0, 0, 0, 0, 0, 0], [0, 0, 0, 0, 0, 0], [1, 0, 1, 0, 0, 0], [1, 1, 1, 1, 1, 0], [0, 0, 0, 0, 0, 0], [1, 0, 0, 0, 0, 0], [1, 0, 1, 0, 1, 0], [1, 0, 0, 0, 0, 0], [0, 0, 0, 0, 0, 0], [1, 0, 1, 1, 1, 0], [0, 0, 0, 0, 0, 0], [1, 0, 0, 0, 1, 0], [1, 1, 1, 0, 1, 0], [1, 0, 1, 0, 1, 0], [1, 0, 1, 0, 1, 0], [1, 0, 1, 0, 0, 0], [0, 0, 0, 0, 0, 0], [1, 1, 1, 0, 1, 0], [1, 0, 0, 0, 0, 0], [1, 0, 0, 0, 1, 0], [0, 0, 0, 0, 0, 0], [0, 0, 0, 0, 0, 0], [1, 0, 0, 0, 0, 0], [0, 0, 0, 0, 0, 0], [0, 0, 0, 0, 0, 0], [1, 1, 1, 0, 1, 0], [0, 0, 0, 0, 0, 0], [1, 1, 1, 0, 1, 0], [0, 0, 0, 0, 0, 0], [0, 0, 0, 0, 0, 0], [1, 0, 0, 0, 0, 0], [0, 0, 0, 0, 0, 0], [0, 0, 0, 0, 0, 0], [1, 1, 1, 0, 1, 0], [0, 0, 0, 0, 0, 0], [1, 0, 1, 0, 1, 0], [1, 0, 0, 0, 0, 0], [0, 0, 0, 0, 0, 0], [1, 0, 1, 0, 1, 0], [1, 0, 1, 0, 1, 0], [0, 0, 0, 0, 0, 0], [0, 0, 0, 0, 0, 0], [0, 0, 0, 0, 0, 0], [0, 0, 0, 0, 0, 0], [1, 0, 1, 0, 0, 0], [0, 0, 0, 0, 0, 0], [1, 0, 0, 0, 0, 0], [0, 0, 0, 0, 0, 0], [0, 0, 0, 0, 0, 0], [0, 0, 0, 0, 0, 0], [0, 0, 0, 0, 0, 0], [1, 0, 0, 0, 1, 0], [0, 0, 0, 0, 0, 0], [1, 0, 1, 0, 1, 0], [0, 0, 0, 0, 0, 0], [0, 0, 0, 0, 0, 0], [0, 0, 0, 0, 0, 0], [1, 0, 0, 0, 0, 0], [0, 0, 0, 0, 0, 0], [1, 1, 1, 0, 1, 0], [1, 1, 1, 0, 1, 0], [1, 1, 1, 0, 1, 1], [1, 0, 1, 0, 1, 0], [0, 0, 0, 0, 0, 0], [1, 0, 0, 0, 1, 0], [1, 0, 0, 0, 0, 0], [1, 0, 1, 0, 1, 0], [1, 0, 0, 0, 0, 0], [1, 0, 0, 0, 0, 0], [1, 0, 1, 0, 1, 0], [1, 0, 1, 0, 1, 0], [0, 0, 0, 0, 0, 0], [1, 0, 1, 0, 1, 0], [0, 0, 0, 0, 0, 0], [1, 0, 1, 0, 0, 0], [1, 1, 1, 0, 1, 0], [1, 0, 1, 0, 0, 0], [0, 0, 0, 0, 0, 0], [1, 0, 0, 0, 0, 0], [0, 0, 0, 0, 0, 0], [1, 0, 0, 0, 0, 0], [1, 0, 1, 0, 0, 0], [1, 0, 0, 0, 0, 0], [0, 0, 0, 0, 0, 0], [1, 0, 1, 0, 1, 0], [1, 1, 1, 0, 1, 1], [1, 0, 1, 0, 1, 1], [0, 0, 0, 0, 0, 0], [0, 0, 0, 0, 0, 0], [0, 0, 0, 0, 0, 0], [0, 0, 0, 0, 0, 0], [1, 0, 0, 0, 0, 0], [0, 0, 0, 0, 0, 0], [0, 0, 0, 0, 0, 0], [0, 0, 0, 0, 0, 0], [0, 0, 0, 0, 0, 0], [0, 0, 0, 0, 0, 0], [1, 0, 1, 0, 1, 0], [0, 0, 0, 0, 0, 0], [1, 0, 1, 0, 1, 0], [1, 0, 0, 0, 1, 0], [0, 0, 0, 0, 0, 0], [1, 0, 1, 0, 1, 0], [1, 0, 0, 0, 1, 0], [1, 1, 1, 0, 1, 0], [1, 1, 1, 0, 1, 0], [0, 0, 0, 0, 0, 0], [1, 1, 1, 0, 1, 1], [1, 1, 1, 0, 1, 0], [0, 0, 0, 0, 0, 0], [0, 0, 0, 0, 0, 0], [1, 0, 0, 0, 0, 0], [1, 0, 1, 0, 1, 0], [0, 0, 0, 0, 0, 0], [1, 1, 1, 0, 1, 0], [0, 0, 0, 0, 0, 0], [1, 0, 1, 0, 0, 0], [1, 0, 1, 0, 1, 0], [1, 0, 1, 0, 1, 0], [1, 0, 0, 0, 0, 0], [0, 0, 0, 0, 0, 0], [0, 0, 0, 0, 0, 0], [0, 0, 0, 0, 0, 0], [0, 0, 0, 0, 0, 0], [0, 0, 0, 0, 0, 0], [0, 0, 0, 0, 0, 0], [1, 0, 1, 0, 1, 0], [0, 0, 0, 0, 0, 0], [1, 0, 1, 0, 1, 0], [1, 0, 1, 0, 1, 0], [1, 0, 0, 0, 0, 0], [1, 0, 1, 0, 0, 0], [0, 0, 0, 0, 0, 0], [0, 0, 0, 0, 0, 0], [1, 1, 1, 0, 1, 1], [1, 0, 0, 0, 0, 0], [1, 0, 1, 0, 1, 0], [1, 0, 1, 0, 1, 0], [1, 0, 0, 0, 0, 0], [0, 0, 0, 0, 0, 0], [1, 0, 1, 0, 1, 0], [1, 0, 1, 0, 0, 0], [1, 0, 0, 0, 0, 0], [0, 0, 0, 0, 0, 0], [0, 0, 0, 0, 0, 0], [1, 1, 1, 0, 1, 0], [1, 0, 0, 0, 0, 0], [0, 0, 0, 0, 0, 0], [1, 1, 1, 0, 1, 0], [0, 0, 0, 0, 0, 0], [1, 0, 1, 0, 1, 0], [0, 0, 0, 0, 0, 0], [0, 0, 0, 0, 0, 0], [0, 0, 0, 0, 0, 0], [0, 0, 0, 0, 0, 0], [0, 0, 0, 0, 0, 0], [1, 0, 0, 0, 0, 0], [0, 0, 0, 0, 0, 0], [1, 0, 1, 0, 1, 0], [1, 0, 0, 0, 0, 0], [0, 0, 0, 0, 0, 0], [1, 1, 1, 0, 1, 0], [1, 0, 1, 0, 1, 0], [1, 0, 1, 0, 1, 0], [1, 0, 0, 0, 0, 0], [0, 0, 0, 0, 0, 0], [1, 0, 1, 0, 1, 0], [1, 0, 1, 0, 1, 0], [1, 0, 0, 0, 0, 0], [1, 1, 1, 0, 1, 0], [1, 0, 0, 0, 0, 0], [1, 0, 0, 0, 0, 0], [0, 0, 0, 0, 0, 0], [0, 0, 0, 0, 0, 0], [0, 0, 0, 0, 0, 0], [0, 0, 0, 0, 0, 0], [0, 0, 0, 0, 0, 0], [0, 0, 0, 0, 0, 0], [0, 0, 0, 0, 0, 0], [0, 0, 0, 0, 0, 0], [1, 1, 1, 0, 1, 0], [0, 0, 0, 0, 0, 0], [0, 0, 0, 0, 0, 0], [0, 0, 0, 0, 0, 0], [1, 0, 1, 0, 1, 0], [0, 0, 0, 0, 0, 0], [1, 0, 0, 0, 0, 0], [0, 0, 0, 0, 0, 0], [0, 0, 0, 0, 0, 0], [1, 0, 0, 0, 0, 0], [0, 0, 0, 0, 0, 0], [1, 0, 1, 0, 1, 0], [1, 0, 1, 0, 1, 0], [0, 0, 0, 0, 0, 0], [0, 0, 0, 0, 0, 0], [1, 1, 1, 0, 1, 0], [1, 0, 1, 0, 1, 0], [1, 0, 1, 0, 1, 0], [0, 0, 0, 0, 0, 0], [0, 0, 0, 0, 0, 0], [1, 0, 0, 0, 1, 0], [0, 0, 0, 0, 0, 0], [0, 0, 0, 0, 0, 0], [1, 0, 0, 0, 0, 0], [1, 0, 1, 0, 1, 0], [1, 0, 0, 0, 0, 0], [0, 0, 0, 0, 0, 0], [0, 0, 0, 0, 0, 0], [0, 0, 0, 0, 0, 0], [1, 1, 1, 0, 1, 0], [1, 0, 0, 0, 0, 0], [0, 0, 0, 0, 0, 0], [0, 0, 0, 0, 0, 0], [0, 0, 0, 0, 0, 0], [1, 0, 1, 0, 0, 0], [0, 0, 0, 0, 0, 0], [0, 0, 0, 0, 0, 0], [0, 0, 0, 0, 0, 0], [1, 0, 0, 0, 1, 0], [1, 0, 0, 0, 1, 0], [1, 1, 1, 0, 1, 0], [1, 0, 1, 0, 0, 0], [1, 0, 0, 0, 0, 0], [0, 0, 0, 0, 0, 0], [0, 0, 0, 0, 0, 0], [0, 0, 0, 0, 0, 0], [0, 0, 0, 0, 0, 0], [0, 0, 0, 0, 0, 0], [0, 0, 0, 0, 0, 0], [0, 0, 0, 0, 0, 0], [1, 0, 0, 0, 0, 0], [0, 0, 0, 0, 0, 0], [1, 0, 1, 0, 1, 0], [0, 0, 0, 0, 0, 0], [0, 0, 0, 0, 0, 0], [1, 0, 0, 0, 0, 0], [0, 0, 0, 0, 0, 0], [0, 0, 0, 0, 0, 0], [0, 0, 0, 0, 0, 0], [1, 0, 0, 0, 1, 1], [1, 1, 1, 0, 1, 0], [0, 0, 0, 0, 0, 0], [1, 0, 1, 0, 1, 0], [1, 1, 1, 0, 1, 0], [0, 0, 0, 0, 0, 0], [0, 0, 0, 0, 0, 0], [0, 0, 0, 0, 0, 0], [0, 0, 0, 0, 0, 0], [1, 0, 0, 0, 0, 0], [1, 0, 0, 0, 1, 0], [1, 0, 1, 0, 1, 0], [0, 0, 0, 0, 0, 0], [1, 0, 1, 0, 1, 0], [0, 0, 0, 0, 0, 0], [1, 0, 1, 0, 1, 0], [1, 0, 0, 0, 0, 0], [1, 0, 1, 0, 0, 0], [1, 0, 1, 0, 1, 0], [1, 0, 1, 0, 1, 0], [1, 1, 1, 0, 1, 0], [0, 0, 0, 0, 0, 0], [1, 1, 1, 0, 1, 0], [0, 0, 0, 0, 0, 0], [0, 0, 0, 0, 0, 0], [1, 0, 1, 0, 0, 0], [0, 0, 0, 0, 0, 0], [0, 0, 0, 0, 0, 0], [0, 0, 0, 0, 0, 0], [1, 0, 0, 0, 0, 0], [0, 0, 0, 0, 0, 0], [0, 0, 0, 0, 0, 0], [0, 0, 0, 0, 0, 0], [0, 0, 0, 0, 0, 0], [1, 0, 1, 0, 1, 0], [0, 0, 0, 0, 0, 0], [1, 0, 1, 0, 1, 1], [1, 0, 0, 0, 0, 0], [1, 1, 1, 0, 1, 1], [1, 0, 1, 0, 0, 0], [1, 0, 1, 0, 0, 0], [1, 0, 0, 0, 1, 0], [1, 0, 0, 0, 1, 0], [1, 0, 1, 0, 0, 0], [1, 0, 1, 0, 1, 1], [1, 0, 0, 0, 0, 0], [1, 0, 1, 0, 1, 0], [1, 0, 1, 0, 1, 0], [1, 0, 0, 0, 0, 0], [1, 0, 0, 0, 0, 0], [0, 0, 0, 0, 0, 0], [0, 0, 0, 0, 0, 0], [1, 0, 1, 0, 0, 0], [1, 1, 1, 0, 1, 0], [1, 0, 1, 0, 1, 0], [1, 0, 0, 0, 1, 0], [0, 0, 0, 0, 0, 0], [0, 0, 0, 0, 0, 0], [1, 0, 1, 0, 1, 1], [1, 0, 0, 0, 0, 0], [1, 0, 1, 0, 1, 0], [1, 0, 1, 0, 0, 0], [1, 0, 0, 0, 0, 0], [1, 0, 0, 0, 0, 0], [1, 0, 1, 0, 1, 0], [0, 0, 0, 0, 0, 0], [1, 1, 1, 0, 1, 0], [0, 0, 0, 0, 0, 0], [0, 0, 0, 0, 0, 0], [1, 0, 1, 0, 1, 0], [1, 1, 1, 0, 1, 0], [1, 1, 1, 1, 1, 0], [1, 1, 1, 0, 1, 0], [1, 0, 1, 0, 0, 0], [1, 0, 0, 0, 1, 0], [0, 0, 0, 0, 0, 0], [1, 0, 0, 0, 1, 0], [0, 0, 0, 0, 0, 0], [1, 0, 0, 0, 1, 1], [1, 0, 1, 0, 1, 0], [0, 0, 0, 0, 0, 0], [0, 0, 0, 0, 0, 0], [1, 0, 1, 0, 0, 0], [1, 0, 0, 0, 0, 1], [0, 0, 0, 0, 0, 0], [1, 1, 1, 0, 1, 0], [0, 0, 0, 0, 0, 0], [0, 0, 0, 0, 0, 0], [0, 0, 0, 0, 0, 0], [1, 1, 1, 1, 1, 0], [0, 0, 0, 0, 0, 0], [1, 1, 1, 0, 1, 0], [1, 1, 1, 1, 1, 0], [1, 1, 1, 0, 1, 0], [0, 0, 0, 0, 0, 0], [0, 0, 0, 0, 0, 0], [0, 0, 0, 0, 0, 0], [0, 0, 0, 0, 0, 0], [1, 0, 0, 0, 1, 0], [0, 0, 0, 0, 0, 0], [0, 0, 0, 0, 0, 0], [0, 0, 0, 0, 0, 0], [0, 0, 0, 0, 0, 0], [1, 1, 1, 0, 1, 0], [0, 0, 0, 0, 0, 0], [1, 0, 0, 0, 0, 0], [1, 0, 1, 0, 1, 0], [1, 0, 1, 0, 1, 0], [0, 0, 0, 0, 0, 0], [0, 0, 0, 0, 0, 0], [0, 0, 0, 0, 0, 0], [1, 0, 1, 0, 1, 0], [0, 0, 0, 0, 0, 0], [1, 0, 1, 0, 1, 1], [0, 0, 0, 0, 0, 0], [0, 0, 0, 0, 0, 0], [1, 0, 1, 1, 1, 0], [1, 0, 0, 0, 0, 0], [1, 0, 0, 0, 0, 0], [0, 0, 0, 0, 0, 0], [1, 0, 0, 0, 1, 1], [0, 0, 0, 0, 0, 0], [1, 0, 1, 0, 0, 0], [1, 1, 1, 0, 1, 0], [1, 1, 1, 0, 1, 1], [0, 0, 0, 0, 0, 0], [1, 0, 0, 0, 0, 0], [1, 0, 0, 0, 0, 0], [1, 0, 1, 0, 1, 0], [0, 0, 0, 0, 0, 0], [0, 0, 0, 0, 0, 0], [1, 0, 0, 0, 0, 0], [1, 0, 1, 0, 1, 0], [1, 0, 1, 0, 1, 0], [1, 0, 1, 1, 1, 0], [1, 0, 0, 0, 0, 0], [0, 0, 0, 0, 0, 0], [1, 0, 0, 0, 1, 0], [1, 0, 0, 0, 0, 0], [1, 0, 1, 0, 1, 0], [0, 0, 0, 0, 0, 0], [1, 0, 1, 0, 1, 0], [0, 0, 0, 0, 0, 0], [1, 0, 0, 0, 0, 0], [0, 0, 0, 0, 0, 0], [0, 0, 0, 0, 0, 0], [0, 0, 0, 0, 0, 0], [1, 0, 1, 0, 1, 0], [0, 0, 0, 0, 0, 0], [1, 0, 0, 0, 1, 0], [1, 0, 0, 0, 0, 0], [0, 0, 0, 0, 0, 0], [0, 0, 0, 0, 0, 0], [1, 0, 0, 0, 0, 0], [0, 0, 0, 0, 0, 0], [0, 0, 0, 0, 0, 0], [1, 0, 1, 0, 0, 0], [0, 0, 0, 0, 0, 0], [1, 0, 0, 0, 1, 0], [1, 0, 0, 0, 1, 0], [1, 0, 1, 0, 1, 0], [0, 0, 0, 0, 0, 0], [0, 0, 0, 0, 0, 0], [1, 0, 0, 0, 1, 0], [0, 0, 0, 0, 0, 0], [1, 0, 0, 0, 1, 0], [1, 0, 0, 0, 0, 0], [0, 0, 0, 0, 0, 0], [1, 0, 1, 0, 1, 0], [0, 0, 0, 0, 0, 0], [1, 1, 1, 0, 1, 0], [0, 0, 0, 0, 0, 0], [0, 0, 0, 0, 0, 0], [0, 0, 0, 0, 0, 0], [0, 0, 0, 0, 0, 0], [0, 0, 0, 0, 0, 0], [0, 0, 0, 0, 0, 0], [0, 0, 0, 0, 0, 0], [1, 1, 1, 0, 1, 0], [0, 0, 0, 0, 0, 0], [1, 0, 0, 0, 1, 0], [1, 0, 0, 0, 0, 0], [1, 0, 0, 0, 0, 1], [1, 0, 0, 0, 0, 0], [1, 0, 0, 0, 0, 0], [1, 0, 1, 0, 0, 0], [1, 0, 1, 0, 1, 0], [1, 0, 1, 0, 1, 1], [1, 0, 0, 0, 1, 0], [1, 0, 0, 0, 1, 0], [0, 0, 0, 0, 0, 0], [0, 0, 0, 0, 0, 0], [1, 0, 0, 0, 0, 0], [1, 0, 0, 0, 1, 0], [0, 0, 0, 0, 0, 0], [1, 0, 0, 0, 0, 0], [0, 0, 0, 0, 0, 0], [0, 0, 0, 0, 0, 0], [1, 1, 1, 0, 1, 0], [1, 0, 0, 0, 0, 0], [1, 0, 0, 0, 0, 0], [1, 0, 0, 0, 0, 1], [1, 0, 0, 0, 0, 0], [0, 0, 0, 0, 0, 0], [1, 0, 1, 0, 1, 0], [1, 0, 0, 0, 0, 0], [1, 0, 0, 0, 0, 0], [1, 0, 1, 0, 1, 0], [1, 0, 0, 0, 0, 0], [1, 0, 0, 0, 0, 0], [1, 0, 0, 0, 0, 0], [1, 0, 1, 0, 0, 0], [0, 0, 0, 0, 0, 0], [1, 0, 0, 0, 0, 0], [0, 0, 0, 0, 0, 0], [1, 0, 0, 0, 0, 0], [1, 0, 0, 0, 0, 0], [1, 0, 1, 0, 1, 0], [1, 0, 1, 0, 1, 1], [0, 0, 0, 0, 0, 0], [0, 0, 0, 0, 0, 0], [0, 0, 0, 0, 0, 0], [1, 1, 1, 1, 1, 1], [1, 0, 1, 0, 0, 0], [0, 0, 0, 0, 0, 0], [1, 1, 1, 1, 1, 0], [0, 0, 0, 0, 0, 0], [1, 0, 0, 0, 0, 0], [1, 0, 1, 0, 0, 0], [0, 0, 0, 0, 0, 0], [1, 0, 1, 0, 1, 0], [1, 1, 1, 0, 1, 1], [1, 0, 0, 0, 0, 1], [1, 1, 1, 1, 1, 0], [0, 0, 0, 0, 0, 0], [0, 0, 0, 0, 0, 0], [1, 0, 0, 0, 0, 0], [0, 0, 0, 0, 0, 0], [1, 0, 0, 0, 0, 0], [1, 0, 1, 0, 1, 0], [0, 0, 0, 0, 0, 0], [1, 0, 0, 0, 1, 0], [0, 0, 0, 0, 0, 0], [1, 0, 0, 0, 0, 0], [1, 0, 1, 0, 1, 0], [0, 0, 0, 0, 0, 0], [1, 0, 1, 0, 0, 0], [0, 0, 0, 0, 0, 0], [0, 0, 0, 0, 0, 0], [1, 0, 0, 0, 0, 0], [0, 0, 0, 0, 0, 0], [0, 0, 0, 0, 0, 0], [1, 0, 1, 0, 0, 0], [0, 0, 0, 0, 0, 0], [1, 0, 1, 0, 1, 0], [1, 1, 1, 1, 1, 0], [1, 1, 1, 0, 1, 0], [0, 0, 0, 0, 0, 0], [0, 0, 0, 0, 0, 0], [1, 0, 0, 0, 0, 0], [1, 0, 1, 0, 1, 0], [1, 0, 1, 0, 1, 0], [1, 0, 1, 1, 1, 0], [1, 0, 1, 0, 1, 1], [1, 0, 1, 0, 1, 0], [0, 0, 0, 0, 0, 0], [0, 0, 0, 0, 0, 0], [0, 0, 0, 0, 0, 0], [0, 0, 0, 0, 0, 0], [0, 0, 0, 0, 0, 0], [1, 0, 0, 0, 0, 0], [0, 0, 0, 0, 0, 0], [1, 1, 1, 0, 1, 0], [0, 0, 0, 0, 0, 0], [1, 0, 0, 0, 1, 0], [1, 0, 1, 0, 0, 0], [1, 0, 1, 0, 0, 0], [0, 0, 0, 0, 0, 0], [0, 0, 0, 0, 0, 0], [1, 1, 1, 0, 1, 0], [1, 0, 0, 0, 0, 0], [1, 0, 1, 0, 0, 0], [0, 0, 0, 0, 0, 0], [0, 0, 0, 0, 0, 0], [0, 0, 0, 0, 0, 0], [1, 0, 0, 0, 0, 0], [1, 0, 1, 0, 1, 0], [1, 0, 0, 0, 0, 0], [1, 0, 0, 0, 1, 0], [1, 0, 1, 0, 1, 1], [1, 0, 1, 0, 0, 0], [1, 0, 1, 0, 0, 0], [1, 1, 1, 1, 1, 0], [1, 0, 1, 0, 1, 0], [0, 0, 0, 0, 0, 0], [0, 0, 0, 0, 0, 0], [1, 0, 0, 0, 0, 0], [0, 0, 0, 0, 0, 0], [1, 1, 1, 1, 1, 1], [0, 0, 0, 0, 0, 0], [0, 0, 0, 0, 0, 0], [0, 0, 0, 0, 0, 0], [0, 0, 0, 0, 0, 0], [1, 0, 0, 0, 0, 0], [0, 0, 0, 0, 0, 0], [1, 1, 1, 1, 1, 0], [0, 0, 0, 0, 0, 0], [0, 0, 0, 0, 0, 0], [1, 0, 0, 0, 0, 0], [0, 0, 0, 0, 0, 0], [1, 0, 1, 0, 1, 0], [0, 0, 0, 0, 0, 0], [1, 0, 1, 0, 1, 0], [0, 0, 0, 0, 0, 0], [0, 0, 0, 0, 0, 0], [0, 0, 0, 0, 0, 0], [1, 0, 1, 0, 1, 0], [0, 0, 0, 0, 0, 0], [1, 0, 0, 0, 0, 0], [1, 0, 0, 0, 0, 0], [0, 0, 0, 0, 0, 0], [1, 0, 1, 0, 1, 1], [0, 0, 0, 0, 0, 0], [1, 0, 0, 0, 1, 1], [0, 0, 0, 0, 0, 0], [1, 0, 1, 0, 1, 0], [1, 0, 1, 0, 1, 0], [1, 0, 1, 0, 1, 0], [1, 0, 1, 0, 1, 0], [0, 0, 0, 0, 0, 0], [1, 0, 1, 0, 1, 0], [0, 0, 0, 0, 0, 0], [0, 0, 0, 0, 0, 0], [1, 0, 1, 0, 0, 0], [0, 0, 0, 0, 0, 0], [0, 0, 0, 0, 0, 0], [1, 0, 1, 0, 0, 0], [1, 0, 0, 0, 0, 0], [1, 0, 0, 0, 0, 0], [0, 0, 0, 0, 0, 0], [1, 0, 1, 0, 1, 0], [0, 0, 0, 0, 0, 0], [0, 0, 0, 0, 0, 0], [1, 0, 0, 0, 0, 0], [1, 0, 0, 0, 0, 0], [0, 0, 0, 0, 0, 0], [1, 1, 1, 1, 1, 0], [0, 0, 0, 0, 0, 0], [1, 1, 1, 1, 1, 1], [1, 1, 1, 1, 1, 0], [1, 0, 1, 0, 1, 0], [0, 0, 0, 0, 0, 0], [0, 0, 0, 0, 0, 0], [1, 0, 0, 0, 0, 0], [0, 0, 0, 0, 0, 0], [0, 0, 0, 0, 0, 0], [1, 0, 0, 0, 0, 1], [1, 1, 1, 0, 1, 0], [1, 0, 0, 0, 0, 0], [0, 0, 0, 0, 0, 0], [1, 0, 0, 0, 0, 0], [1, 0, 0, 0, 0, 0], [0, 0, 0, 0, 0, 0], [1, 0, 0, 0, 0, 0], [1, 0, 0, 0, 1, 0], [0, 0, 0, 0, 0, 0], [0, 0, 0, 0, 0, 0], [1, 0, 1, 0, 1, 0], [0, 0, 0, 0, 0, 0], [0, 0, 0, 0, 0, 0], [0, 0, 0, 0, 0, 0], [0, 0, 0, 0, 0, 0], [0, 0, 0, 0, 0, 0], [1, 0, 0, 0, 0, 0], [0, 0, 0, 0, 0, 0], [1, 1, 1, 0, 1, 0], [0, 0, 0, 0, 0, 0], [0, 0, 0, 0, 0, 0], [1, 0, 0, 0, 1, 1], [1, 0, 1, 0, 1, 0], [1, 1, 1, 0, 1, 0], [1, 0, 1, 0, 1, 0], [1, 0, 1, 0, 0, 0], [0, 0, 0, 0, 0, 0], [1, 0, 1, 0, 1, 0], [1, 0, 1, 0, 0, 0], [1, 0, 0, 0, 1, 0], [0, 0, 0, 0, 0, 0], [1, 0, 1, 0, 0, 0], [0, 0, 0, 0, 0, 0], [0, 0, 0, 0, 0, 0], [1, 0, 0, 0, 0, 0], [0, 0, 0, 0, 0, 0], [0, 0, 0, 0, 0, 0], [0, 0, 0, 0, 0, 0], [1, 0, 1, 0, 1, 0], [0, 0, 0, 0, 0, 0], [1, 0, 1, 0, 1, 0], [1, 0, 1, 0, 1, 1], [0, 0, 0, 0, 0, 0], [1, 0, 1, 0, 1, 0], [1, 0, 1, 0, 1, 1], [1, 0, 1, 0, 0, 0], [1, 0, 1, 0, 0, 0], [1, 1, 1, 0, 1, 1], [0, 0, 0, 0, 0, 0], [1, 0, 0, 0, 0, 0], [0, 0, 0, 0, 0, 0], [0, 0, 0, 0, 0, 0], [1, 0, 0, 0, 0, 0], [0, 0, 0, 0, 0, 0], [1, 0, 0, 0, 0, 0], [1, 0, 0, 0, 0, 0], [0, 0, 0, 0, 0, 0], [0, 0, 0, 0, 0, 0], [0, 0, 0, 0, 0, 0], [1, 0, 0, 0, 0, 0], [0, 0, 0, 0, 0, 0], [1, 0, 0, 0, 0, 0], [1, 0, 1, 0, 0, 0], [1, 0, 0, 0, 1, 0], [1, 0, 1, 0, 1, 0], [1, 0, 0, 0, 0, 0], [1, 0, 1, 0, 1, 0], [1, 0, 0, 0, 0, 0], [0, 0, 0, 0, 0, 0], [1, 0, 1, 0, 1, 0], [0, 0, 0, 0, 0, 0], [1, 0, 1, 0, 1, 0], [1, 0, 0, 0, 0, 0], [0, 0, 0, 0, 0, 0], [0, 0, 0, 0, 0, 0], [1, 0, 1, 0, 1, 1], [0, 0, 0, 0, 0, 0], [1, 0, 0, 0, 0, 0], [0, 0, 0, 0, 0, 0], [1, 0, 1, 0, 0, 0], [1, 0, 1, 0, 1, 0], [1, 0, 1, 0, 0, 0], [0, 0, 0, 0, 0, 0], [0, 0, 0, 0, 0, 0], [0, 0, 0, 0, 0, 0], [0, 0, 0, 0, 0, 0], [1, 0, 1, 0, 0, 0], [1, 0, 0, 0, 0, 0], [1, 0, 0, 0, 0, 0], [0, 0, 0, 0, 0, 0], [0, 0, 0, 0, 0, 0], [0, 0, 0, 0, 0, 0], [0, 0, 0, 0, 0, 0], [0, 0, 0, 0, 0, 0], [0, 0, 0, 0, 0, 0], [0, 0, 0, 0, 0, 0], [0, 0, 0, 0, 0, 0], [0, 0, 0, 0, 0, 0], [0, 0, 0, 0, 0, 0], [0, 0, 0, 0, 0, 0], [1, 0, 0, 0, 0, 0], [1, 0, 1, 0, 1, 1], [1, 1, 1, 0, 1, 1], [0, 0, 0, 0, 0, 0], [1, 0, 0, 0, 0, 0], [0, 0, 0, 0, 0, 0], [1, 0, 0, 0, 0, 0], [0, 0, 0, 0, 0, 0], [0, 0, 0, 0, 0, 0], [1, 1, 1, 0, 1, 0], [1, 0, 1, 0, 0, 0], [1, 0, 0, 0, 1, 0], [0, 0, 0, 0, 0, 0], [1, 0, 0, 0, 1, 0], [1, 0, 1, 0, 1, 0], [0, 0, 0, 0, 0, 0], [1, 0, 1, 0, 1, 0], [1, 0, 1, 0, 1, 0], [0, 0, 0, 0, 0, 0], [1, 0, 0, 0, 1, 0], [0, 0, 0, 0, 0, 0], [1, 0, 1, 0, 1, 0], [0, 0, 0, 0, 0, 0], [1, 0, 1, 0, 1, 0], [0, 0, 0, 0, 0, 0], [0, 0, 0, 0, 0, 0], [0, 0, 0, 0, 0, 0], [1, 1, 1, 0, 1, 0], [0, 0, 0, 0, 0, 0], [1, 0, 1, 0, 0, 0], [1, 0, 1, 0, 1, 0], [1, 0, 1, 0, 1, 0], [0, 0, 0, 0, 0, 0], [0, 0, 0, 0, 0, 0], [0, 0, 0, 0, 0, 0], [1, 0, 0, 0, 0, 0], [1, 0, 1, 0, 1, 0], [1, 0, 1, 0, 1, 0], [1, 0, 0, 0, 1, 0], [1, 0, 1, 0, 1, 0], [1, 0, 0, 0, 0, 0], [0, 0, 0, 0, 0, 0], [1, 0, 0, 0, 0, 0], [1, 0, 1, 0, 1, 0], [0, 0, 0, 0, 0, 0], [1, 1, 1, 0, 1, 0], [0, 0, 0, 0, 0, 0], [0, 0, 0, 0, 0, 0], [1, 0, 0, 0, 1, 0], [0, 0, 0, 0, 0, 0], [1, 0, 1, 0, 1, 0], [1, 0, 0, 0, 0, 0], [1, 0, 0, 0, 0, 0], [1, 0, 0, 0, 1, 0], [0, 0, 0, 0, 0, 0], [0, 0, 0, 0, 0, 0], [1, 0, 0, 0, 1, 0], [1, 0, 0, 0, 0, 0], [1, 0, 1, 0, 1, 0], [1, 0, 0, 0, 0, 0], [1, 0, 0, 0, 0, 0], [0, 0, 0, 0, 0, 0], [1, 1, 1, 0, 1, 0], [0, 0, 0, 0, 0, 0], [0, 0, 0, 0, 0, 0], [1, 0, 1, 0, 1, 0], [1, 1, 1, 0, 1, 0], [1, 0, 1, 0, 1, 0], [1, 0, 0, 1, 1, 0], [1, 0, 0, 0, 1, 0], [1, 0, 1, 0, 1, 0], [1, 0, 1, 0, 1, 0], [0, 0, 0, 0, 0, 0], [1, 0, 1, 0, 0, 0], [0, 0, 0, 0, 0, 0], [1, 0, 1, 0, 1, 0], [1, 0, 1, 0, 1, 0], [0, 0, 0, 0, 0, 0], [1, 0, 0, 0, 0, 0], [0, 0, 0, 0, 0, 0], [1, 0, 0, 0, 0, 0], [1, 0, 0, 0, 1, 0], [0, 0, 0, 0, 0, 0], [1, 0, 0, 1, 0, 0], [1, 0, 0, 0, 0, 0], [1, 0, 0, 0, 1, 0], [1, 0, 0, 0, 1, 0], [1, 0, 0, 0, 0, 0], [0, 0, 0, 0, 0, 0], [1, 1, 1, 0, 1, 1], [0, 0, 0, 0, 0, 0], [0, 0, 0, 0, 0, 0], [0, 0, 0, 0, 0, 0], [0, 0, 0, 0, 0, 0], [1, 0, 0, 0, 0, 0], [1, 0, 1, 0, 0, 0], [0, 0, 0, 0, 0, 0], [1, 0, 1, 0, 1, 0], [1, 1, 1, 0, 1, 0], [0, 0, 0, 0, 0, 0], [1, 0, 1, 0, 1, 0], [1, 0, 0, 0, 0, 0], [1, 0, 0, 0, 1, 0], [0, 0, 0, 0, 0, 0], [0, 0, 0, 0, 0, 0], [1, 0, 0, 0, 0, 0], [0, 0, 0, 0, 0, 0], [1, 0, 0, 0, 1, 0], [1, 0, 1, 0, 1, 0], [0, 0, 0, 0, 0, 0], [0, 0, 0, 0, 0, 0], [1, 0, 0, 0, 0, 0], [1, 0, 0, 0, 0, 0], [1, 0, 1, 0, 1, 0], [1, 0, 1, 0, 1, 0], [0, 0, 0, 0, 0, 0], [0, 0, 0, 0, 0, 0], [0, 0, 0, 0, 0, 0], [1, 0, 1, 0, 1, 0], [0, 0, 0, 0, 0, 0], [1, 0, 1, 0, 1, 0], [0, 0, 0, 0, 0, 0], [1, 1, 1, 0, 1, 0], [1, 0, 1, 0, 1, 0], [0, 0, 0, 0, 0, 0], [0, 0, 0, 0, 0, 0], [1, 0, 0, 0, 1, 0], [1, 0, 0, 0, 1, 1], [1, 0, 0, 0, 1, 0], [0, 0, 0, 0, 0, 0], [0, 0, 0, 0, 0, 0], [1, 0, 0, 0, 0, 0], [0, 0, 0, 0, 0, 0], [1, 0, 1, 0, 1, 0], [0, 0, 0, 0, 0, 0], [0, 0, 0, 0, 0, 0], [1, 0, 0, 0, 0, 0], [1, 0, 0, 0, 0, 0], [0, 0, 0, 0, 0, 0], [1, 0, 0, 0, 0, 0], [1, 0, 1, 0, 1, 0], [0, 0, 0, 0, 0, 0], [1, 0, 1, 0, 1, 0], [0, 0, 0, 0, 0, 0], [0, 0, 0, 0, 0, 0], [0, 0, 0, 0, 0, 0], [1, 1, 1, 0, 1, 0], [1, 0, 1, 0, 1, 0], [1, 1, 1, 0, 1, 1], [0, 0, 0, 0, 0, 0], [1, 0, 1, 0, 1, 0], [0, 0, 0, 0, 0, 0], [0, 0, 0, 0, 0, 0], [1, 0, 0, 0, 1, 1], [0, 0, 0, 0, 0, 0], [0, 0, 0, 0, 0, 0], [1, 0, 1, 0, 1, 0], [0, 0, 0, 0, 0, 0], [1, 0, 1, 0, 1, 0], [0, 0, 0, 0, 0, 0], [0, 0, 0, 0, 0, 0], [1, 0, 1, 0, 0, 0], [0, 0, 0, 0, 0, 0], [0, 0, 0, 0, 0, 0], [1, 0, 0, 0, 0, 0], [0, 0, 0, 0, 0, 0], [1, 0, 0, 0, 0, 0], [1, 0, 0, 0, 0, 0], [1, 1, 1, 0, 1, 0], [1, 1, 1, 0, 1, 0], [0, 0, 0, 0, 0, 0], [1, 0, 1, 0, 1, 0], [1, 0, 1, 0, 1, 0], [0, 0, 0, 0, 0, 0], [0, 0, 0, 0, 0, 0], [1, 0, 1, 0, 1, 0], [0, 0, 0, 0, 0, 0], [1, 0, 1, 0, 1, 0], [1, 0, 1, 0, 1, 0], [1, 0, 0, 0, 0, 0], [1, 0, 0, 0, 1, 0], [0, 0, 0, 0, 0, 0], [1, 0, 1, 0, 0, 0], [1, 0, 1, 0, 1, 0], [1, 1, 1, 0, 1, 0], [0, 0, 0, 0, 0, 0], [1, 0, 1, 0, 1, 0], [0, 0, 0, 0, 0, 0], [0, 0, 0, 0, 0, 0], [1, 0, 1, 0, 1, 0], [1, 0, 0, 0, 0, 0], [0, 0, 0, 0, 0, 0], [1, 0, 0, 1, 1, 0], [1, 0, 0, 0, 0, 0], [0, 0, 0, 0, 0, 0], [0, 0, 0, 0, 0, 0], [0, 0, 0, 0, 0, 0], [1, 0, 0, 0, 0, 0], [1, 0, 0, 0, 1, 0], [1, 0, 0, 0, 0, 0], [1, 0, 0, 0, 0, 0], [0, 0, 0, 0, 0, 0], [1, 1, 1, 0, 1, 0], [1, 0, 0, 0, 0, 0], [1, 0, 1, 0, 1, 0], [1, 0, 1, 0, 1, 1], [1, 0, 0, 0, 0, 0], [1, 0, 1, 0, 1, 0], [1, 0, 0, 0, 1, 0], [0, 0, 0, 0, 0, 0], [1, 0, 0, 0, 0, 1], [0, 0, 0, 0, 0, 0], [1, 0, 1, 0, 1, 1], [0, 0, 0, 0, 0, 0], [1, 0, 0, 0, 1, 1], [1, 0, 0, 0, 1, 0], [0, 0, 0, 0, 0, 0], [0, 0, 0, 0, 0, 0], [0, 0, 0, 0, 0, 0], [1, 0, 0, 1, 0, 0], [1, 1, 1, 0, 1, 0], [1, 0, 0, 0, 1, 1], [1, 0, 1, 0, 1, 0], [1, 0, 0, 0, 0, 0], [1, 0, 0, 0, 0, 0], [1, 0, 0, 0, 1, 0], [1, 1, 1, 0, 1, 0], [1, 0, 0, 0, 0, 0], [0, 0, 0, 0, 0, 0], [0, 0, 0, 0, 0, 0], [0, 0, 0, 0, 0, 0], [1, 0, 1, 0, 1, 0], [1, 0, 1, 0, 1, 0], [0, 0, 0, 0, 0, 0], [1, 0, 1, 0, 0, 0], [1, 0, 0, 0, 0, 0], [1, 1, 1, 0, 1, 0], [1, 0, 0, 0, 0, 0], [0, 0, 0, 0, 0, 0], [1, 0, 1, 0, 1, 0], [1, 0, 1, 0, 1, 1], [0, 0, 0, 0, 0, 0], [0, 0, 0, 0, 0, 0], [0, 0, 0, 0, 0, 0], [1, 0, 1, 0, 1, 0], [1, 0, 0, 0, 0, 0], [1, 0, 0, 0, 0, 0], [0, 0, 0, 0, 0, 0], [1, 0, 0, 0, 0, 0], [0, 0, 0, 0, 0, 0], [0, 0, 0, 0, 0, 0], [1, 0, 1, 0, 1, 0], [1, 0, 0, 0, 0, 1], [1, 0, 0, 0, 0, 0], [1, 0, 0, 0, 1, 0], [1, 0, 1, 0, 1, 0], [1, 1, 1, 0, 1, 0], [0, 0, 0, 0, 0, 0], [1, 0, 0, 0, 1, 0], [0, 0, 0, 0, 0, 0], [0, 0, 0, 0, 0, 0], [1, 0, 1, 0, 1, 0], [1, 1, 1, 1, 1, 0], [1, 0, 1, 0, 1, 0], [0, 0, 0, 0, 0, 0], [0, 0, 0, 0, 0, 0], [1, 1, 1, 0, 1, 0], [1, 0, 0, 0, 0, 0], [1, 0, 1, 0, 1, 0], [0, 0, 0, 0, 0, 0], [0, 0, 0, 0, 0, 0], [1, 0, 0, 0, 0, 0], [0, 0, 0, 0, 0, 0], [0, 0, 0, 0, 0, 0], [1, 0, 1, 0, 1, 0], [0, 0, 0, 0, 0, 0], [1, 0, 1, 0, 1, 0], [1, 0, 0, 0, 1, 0], [0, 0, 0, 0, 0, 0], [1, 0, 0, 0, 1, 0], [0, 0, 0, 0, 0, 0], [0, 0, 0, 0, 0, 0], [1, 0, 0, 0, 0, 0], [1, 0, 0, 0, 0, 0], [0, 0, 0, 0, 0, 0], [1, 0, 1, 0, 1, 0], [0, 0, 0, 0, 0, 0], [1, 0, 1, 0, 1, 0], [1, 0, 1, 0, 0, 0], [0, 0, 0, 0, 0, 0], [0, 0, 0, 0, 0, 0], [0, 0, 0, 0, 0, 0], [1, 0, 0, 0, 0, 0], [1, 0, 1, 0, 1, 0], [1, 0, 0, 0, 0, 0], [1, 0, 1, 0, 1, 0], [0, 0, 0, 0, 0, 0], [1, 0, 0, 0, 1, 1], [1, 0, 0, 0, 0, 0], [0, 0, 0, 0, 0, 0], [0, 0, 0, 0, 0, 0], [0, 0, 0, 0, 0, 0], [1, 0, 1, 0, 1, 0], [0, 0, 0, 0, 0, 0], [1, 0, 0, 0, 1, 0], [1, 1, 1, 0, 1, 0], [0, 0, 0, 0, 0, 0], [1, 0, 1, 0, 1, 0], [0, 0, 0, 0, 0, 0], [0, 0, 0, 0, 0, 0], [1, 0, 0, 0, 0, 0], [0, 0, 0, 0, 0, 0], [1, 0, 1, 0, 0, 0], [1, 0, 0, 0, 1, 0], [1, 1, 1, 0, 1, 0], [0, 0, 0, 0, 0, 0], [0, 0, 0, 0, 0, 0], [1, 0, 1, 0, 1, 0], [1, 0, 1, 0, 1, 0], [1, 0, 1, 0, 1, 0], [0, 0, 0, 0, 0, 0], [0, 0, 0, 0, 0, 0], [0, 0, 0, 0, 0, 0], [0, 0, 0, 0, 0, 0], [1, 0, 1, 0, 1, 0], [1, 0, 0, 0, 0, 0], [1, 0, 1, 0, 1, 0], [0, 0, 0, 0, 0, 0], [0, 0, 0, 0, 0, 0], [0, 0, 0, 0, 0, 0], [0, 0, 0, 0, 0, 0], [1, 0, 1, 0, 1, 0], [0, 0, 0, 0, 0, 0], [1, 0, 0, 0, 0, 0], [1, 1, 1, 0, 1, 1], [1, 0, 1, 0, 1, 0], [1, 0, 1, 0, 1, 0], [0, 0, 0, 0, 0, 0], [1, 1, 1, 0, 1, 1], [0, 0, 0, 0, 0, 0], [1, 0, 1, 0, 0, 0], [0, 0, 0, 0, 0, 0], [0, 0, 0, 0, 0, 0], [0, 0, 0, 0, 0, 0], [1, 0, 0, 0, 0, 0], [1, 0, 0, 0, 0, 0], [0, 0, 0, 0, 0, 0], [0, 0, 0, 0, 0, 0], [0, 0, 0, 0, 0, 0], [1, 0, 0, 0, 0, 0], [1, 0, 1, 0, 1, 0], [0, 0, 0, 0, 0, 0], [0, 0, 0, 0, 0, 0], [1, 0, 0, 0, 0, 0], [0, 0, 0, 0, 0, 0], [0, 0, 0, 0, 0, 0], [0, 0, 0, 0, 0, 0], [1, 1, 1, 0, 1, 0], [0, 0, 0, 0, 0, 0], [0, 0, 0, 0, 0, 0], [0, 0, 0, 0, 0, 0], [1, 0, 0, 0, 1, 0], [1, 0, 0, 0, 0, 0], [1, 0, 1, 0, 1, 0], [0, 0, 0, 0, 0, 0], [1, 1, 1, 0, 1, 0], [0, 0, 0, 0, 0, 0], [0, 0, 0, 0, 0, 0], [0, 0, 0, 0, 0, 0], [1, 0, 0, 1, 0, 0], [1, 0, 1, 0, 1, 0], [0, 0, 0, 0, 0, 0], [1, 0, 1, 1, 1, 0], [0, 0, 0, 0, 0, 0], [1, 0, 1, 0, 1, 0], [1, 0, 0, 0, 0, 0], [0, 0, 0, 0, 0, 0], [0, 0, 0, 0, 0, 0], [0, 0, 0, 0, 0, 0], [1, 0, 0, 0, 1, 0], [0, 0, 0, 0, 0, 0], [1, 0, 1, 0, 1, 0], [1, 1, 1, 0, 1, 0], [1, 0, 0, 0, 1, 0], [0, 0, 0, 0, 0, 0], [0, 0, 0, 0, 0, 0], [0, 0, 0, 0, 0, 0], [0, 0, 0, 0, 0, 0], [0, 0, 0, 0, 0, 0], [0, 0, 0, 0, 0, 0], [0, 0, 0, 0, 0, 0], [0, 0, 0, 0, 0, 0], [0, 0, 0, 0, 0, 0], [0, 0, 0, 0, 0, 0], [1, 0, 0, 0, 1, 1], [0, 0, 0, 0, 0, 0], [1, 0, 1, 0, 1, 0], [0, 0, 0, 0, 0, 0], [0, 0, 0, 0, 0, 0], [0, 0, 0, 0, 0, 0], [1, 0, 1, 0, 1, 0], [0, 0, 0, 0, 0, 0], [0, 0, 0, 0, 0, 0], [0, 0, 0, 0, 0, 0], [1, 0, 1, 0, 1, 0], [0, 0, 0, 0, 0, 0], [0, 0, 0, 0, 0, 0], [0, 0, 0, 0, 0, 0], [1, 0, 0, 0, 0, 0], [1, 0, 0, 0, 0, 0], [0, 0, 0, 0, 0, 0], [0, 0, 0, 0, 0, 0], [0, 0, 0, 0, 0, 0], [1, 0, 1, 0, 1, 0], [1, 0, 1, 0, 0, 0], [1, 0, 1, 0, 1, 0], [0, 0, 0, 0, 0, 0], [1, 0, 1, 0, 1, 0], [1, 0, 1, 0, 1, 0], [0, 0, 0, 0, 0, 0], [0, 0, 0, 0, 0, 0], [1, 0, 0, 0, 0, 0], [1, 0, 1, 0, 1, 0], [0, 0, 0, 0, 0, 0], [0, 0, 0, 0, 0, 0], [0, 0, 0, 0, 0, 0], [0, 0, 0, 0, 0, 0], [0, 0, 0, 0, 0, 0], [1, 0, 0, 0, 0, 0], [1, 0, 1, 0, 1, 0], [0, 0, 0, 0, 0, 0], [1, 0, 0, 0, 0, 0], [1, 0, 1, 0, 1, 0], [1, 0, 1, 0, 1, 0], [0, 0, 0, 0, 0, 0], [1, 0, 0, 0, 0, 0], [0, 0, 0, 0, 0, 0], [0, 0, 0, 0, 0, 0], [0, 0, 0, 0, 0, 0], [1, 0, 0, 0, 0, 0], [0, 0, 0, 0, 0, 0], [1, 0, 1, 0, 1, 0], [0, 0, 0, 0, 0, 0], [1, 0, 0, 0, 0, 0], [0, 0, 0, 0, 0, 0], [0, 0, 0, 0, 0, 0], [1, 0, 0, 0, 0, 0], [0, 0, 0, 0, 0, 0], [0, 0, 0, 0, 0, 0], [1, 0, 1, 0, 0, 0], [1, 1, 1, 0, 1, 0], [1, 0, 0, 0, 0, 0], [1, 0, 1, 0, 1, 0], [1, 0, 1, 0, 1, 0], [1, 0, 1, 0, 0, 0], [1, 0, 0, 0, 0, 0], [0, 0, 0, 0, 0, 0], [1, 0, 0, 0, 0, 0], [1, 0, 1, 0, 0, 0], [0, 0, 0, 0, 0, 0], [0, 0, 0, 0, 0, 0], [1, 0, 1, 0, 1, 1], [1, 0, 1, 0, 1, 1], [0, 0, 0, 0, 0, 0], [1, 0, 0, 0, 0, 1], [1, 0, 0, 0, 0, 0], [1, 0, 0, 0, 0, 0], [1, 0, 1, 0, 1, 0], [0, 0, 0, 0, 0, 0], [1, 0, 0, 0, 1, 0], [1, 0, 0, 0, 1, 0], [1, 0, 0, 0, 0, 0], [0, 0, 0, 0, 0, 0], [1, 0, 0, 0, 0, 0], [0, 0, 0, 0, 0, 0], [0, 0, 0, 0, 0, 0], [0, 0, 0, 0, 0, 0], [1, 0, 0, 0, 0, 0], [0, 0, 0, 0, 0, 0], [0, 0, 0, 0, 0, 0], [0, 0, 0, 0, 0, 0], [0, 0, 0, 0, 0, 0], [0, 0, 0, 0, 0, 0], [1, 0, 0, 0, 1, 1], [1, 1, 1, 1, 1, 1], [1, 1, 1, 1, 1, 0], [0, 0, 0, 0, 0, 0], [0, 0, 0, 0, 0, 0], [0, 0, 0, 0, 0, 0], [0, 0, 0, 0, 0, 0], [1, 0, 0, 0, 1, 0], [0, 0, 0, 0, 0, 0], [1, 0, 0, 0, 0, 0], [0, 0, 0, 0, 0, 0], [0, 0, 0, 0, 0, 0], [0, 0, 0, 0, 0, 0], [0, 0, 0, 0, 0, 0], [1, 0, 0, 0, 0, 0], [0, 0, 0, 0, 0, 0], [0, 0, 0, 0, 0, 0], [0, 0, 0, 0, 0, 0], [0, 0, 0, 0, 0, 0], [1, 0, 0, 0, 0, 0], [0, 0, 0, 0, 0, 0], [1, 0, 1, 0, 1, 0], [1, 0, 0, 1, 1, 0], [0, 0, 0, 0, 0, 0], [1, 0, 0, 0, 1, 0], [1, 1, 1, 0, 1, 1], [1, 1, 1, 0, 1, 0], [1, 0, 1, 0, 1, 0], [0, 0, 0, 0, 0, 0], [1, 0, 1, 0, 0, 0], [0, 0, 0, 0, 0, 0], [0, 0, 0, 0, 0, 0], [0, 0, 0, 0, 0, 0], [0, 0, 0, 0, 0, 0], [1, 0, 1, 0, 1, 0], [1, 0, 0, 0, 0, 0], [1, 0, 1, 0, 1, 0], [1, 0, 0, 0, 0, 0], [1, 0, 1, 0, 0, 0], [1, 0, 0, 0, 1, 0], [1, 1, 1, 0, 1, 0], [1, 0, 0, 0, 0, 0], [1, 0, 0, 0, 0, 0], [1, 0, 1, 0, 1, 0], [1, 1, 1, 0, 1, 0], [0, 0, 0, 0, 0, 0], [0, 0, 0, 0, 0, 0], [1, 1, 1, 1, 1, 0], [1, 0, 0, 0, 0, 0], [1, 0, 0, 0, 0, 0], [1, 0, 0, 1, 0, 0], [1, 0, 0, 0, 0, 0], [1, 0, 1, 0, 1, 0], [1, 1, 1, 0, 1, 0], [1, 0, 1, 0, 1, 0], [1, 0, 0, 1, 0, 0], [1, 0, 0, 0, 1, 0], [0, 0, 0, 0, 0, 0], [1, 0, 1, 0, 1, 1], [1, 1, 1, 1, 1, 1], [0, 0, 0, 0, 0, 0], [1, 0, 0, 0, 0, 0], [0, 0, 0, 0, 0, 0], [1, 0, 0, 0, 1, 0], [0, 0, 0, 0, 0, 0], [1, 0, 0, 0, 0, 0], [0, 0, 0, 0, 0, 0], [1, 0, 1, 0, 1, 0], [0, 0, 0, 0, 0, 0], [1, 1, 1, 0, 1, 0], [0, 0, 0, 0, 0, 0], [0, 0, 0, 0, 0, 0], [1, 0, 1, 0, 0, 0], [1, 0, 1, 0, 1, 0], [1, 1, 1, 0, 1, 0], [0, 0, 0, 0, 0, 0], [1, 0, 1, 0, 1, 0], [0, 0, 0, 0, 0, 0], [0, 0, 0, 0, 0, 0], [1, 1, 1, 0, 1, 0], [0, 0, 0, 0, 0, 0], [1, 1, 1, 0, 1, 0], [1, 0, 0, 0, 0, 0], [0, 0, 0, 0, 0, 0], [1, 0, 1, 0, 1, 0], [1, 0, 1, 1, 1, 0], [1, 1, 1, 0, 1, 0], [0, 0, 0, 0, 0, 0], [0, 0, 0, 0, 0, 0], [1, 1, 1, 1, 1, 0], [0, 0, 0, 0, 0, 0], [0, 0, 0, 0, 0, 0], [1, 0, 1, 0, 1, 0], [0, 0, 0, 0, 0, 0], [0, 0, 0, 0, 0, 0], [1, 0, 1, 0, 1, 0], [1, 0, 1, 0, 1, 0], [1, 1, 1, 0, 1, 0], [0, 0, 0, 0, 0, 0], [1, 0, 1, 0, 0, 0], [1, 0, 1, 0, 1, 0], [1, 0, 1, 0, 1, 0], [1, 0, 1, 0, 0, 0], [1, 0, 0, 0, 1, 0], [0, 0, 0, 0, 0, 0], [1, 0, 0, 0, 0, 0], [0, 0, 0, 0, 0, 0], [1, 0, 0, 0, 0, 0], [0, 0, 0, 0, 0, 0], [0, 0, 0, 0, 0, 0], [1, 0, 0, 0, 1, 0], [0, 0, 0, 0, 0, 0], [1, 0, 0, 1, 1, 0], [1, 1, 1, 0, 1, 0], [0, 0, 0, 0, 0, 0], [0, 0, 0, 0, 0, 0], [0, 0, 0, 0, 0, 0], [1, 0, 0, 0, 1, 0], [0, 0, 0, 0, 0, 0], [1, 0, 0, 0, 0, 0], [0, 0, 0, 0, 0, 0], [1, 0, 0, 0, 0, 0], [1, 0, 1, 0, 0, 0], [0, 0, 0, 0, 0, 0], [0, 0, 0, 0, 0, 0], [0, 0, 0, 0, 0, 0], [0, 0, 0, 0, 0, 0], [0, 0, 0, 0, 0, 0], [0, 0, 0, 0, 0, 0], [0, 0, 0, 0, 0, 0], [0, 0, 0, 0, 0, 0], [0, 0, 0, 0, 0, 0], [1, 1, 1, 0, 1, 1], [0, 0, 0, 0, 0, 0], [1, 0, 1, 0, 1, 0], [0, 0, 0, 0, 0, 0], [0, 0, 0, 0, 0, 0], [0, 0, 0, 0, 0, 0], [0, 0, 0, 0, 0, 0], [1, 0, 1, 0, 1, 0], [0, 0, 0, 0, 0, 0], [0, 0, 0, 0, 0, 0], [1, 0, 0, 0, 0, 0], [1, 0, 1, 0, 1, 1], [1, 0, 0, 0, 1, 0], [1, 0, 1, 0, 1, 0], [1, 1, 1, 0, 1, 0], [1, 0, 1, 0, 0, 0], [1, 0, 1, 0, 0, 0], [1, 0, 1, 0, 0, 0], [1, 0, 0, 0, 0, 0], [1, 0, 0, 0, 0, 0], [0, 0, 0, 0, 0, 0], [0, 0, 0, 0, 0, 0], [0, 0, 0, 0, 0, 0], [1, 0, 0, 0, 0, 0], [0, 0, 0, 0, 0, 0], [0, 0, 0, 0, 0, 0], [1, 0, 1, 0, 1, 0], [0, 0, 0, 0, 0, 0], [1, 1, 1, 0, 1, 0], [1, 1, 1, 0, 1, 0], [1, 0, 0, 0, 1, 0], [0, 0, 0, 0, 0, 0], [0, 0, 0, 0, 0, 0], [1, 0, 0, 0, 0, 0], [0, 0, 0, 0, 0, 0], [0, 0, 0, 0, 0, 0], [0, 0, 0, 0, 0, 0], [1, 0, 1, 0, 1, 0], [1, 1, 1, 1, 1, 0], [1, 0, 1, 0, 1, 0], [0, 0, 0, 0, 0, 0], [1, 0, 0, 0, 0, 0], [1, 0, 0, 0, 1, 0], [1, 0, 0, 0, 1, 0], [1, 0, 1, 0, 1, 0], [0, 0, 0, 0, 0, 0], [1, 0, 0, 0, 0, 0], [1, 0, 0, 0, 0, 0], [0, 0, 0, 0, 0, 0], [0, 0, 0, 0, 0, 0], [0, 0, 0, 0, 0, 0], [0, 0, 0, 0, 0, 0], [1, 0, 0, 0, 1, 0], [0, 0, 0, 0, 0, 0], [1, 0, 0, 0, 0, 0], [0, 0, 0, 0, 0, 0], [0, 0, 0, 0, 0, 0], [1, 1, 1, 0, 1, 0], [0, 0, 0, 0, 0, 0], [1, 1, 1, 1, 1, 0], [0, 0, 0, 0, 0, 0], [1, 0, 0, 0, 0, 0], [1, 0, 1, 0, 0, 0], [1, 0, 0, 0, 1, 0], [1, 1, 1, 0, 1, 0], [0, 0, 0, 0, 0, 0], [1, 1, 1, 0, 1, 0], [0, 0, 0, 0, 0, 0], [0, 0, 0, 0, 0, 0], [0, 0, 0, 0, 0, 0], [0, 0, 0, 0, 0, 0], [1, 0, 1, 0, 1, 0], [0, 0, 0, 0, 0, 0], [1, 1, 1, 1, 1, 0], [0, 0, 0, 0, 0, 0], [0, 0, 0, 0, 0, 0], [1, 0, 0, 0, 1, 0], [1, 0, 0, 0, 0, 0], [0, 0, 0, 0, 0, 0], [0, 0, 0, 0, 0, 0], [0, 0, 0, 0, 0, 0], [1, 0, 1, 0, 1, 0], [1, 0, 0, 0, 0, 0], [1, 1, 1, 0, 1, 0], [1, 0, 1, 0, 1, 0], [0, 0, 0, 0, 0, 0], [0, 0, 0, 0, 0, 0], [1, 0, 1, 0, 1, 0], [0, 0, 0, 0, 0, 0], [1, 0, 0, 0, 0, 0], [1, 0, 0, 0, 0, 0], [0, 0, 0, 0, 0, 0], [0, 0, 0, 0, 0, 0], [1, 0, 0, 1, 0, 0], [0, 0, 0, 0, 0, 0], [1, 0, 0, 0, 1, 0], [1, 1, 1, 0, 1, 0], [0, 0, 0, 0, 0, 0], [0, 0, 0, 0, 0, 0], [0, 0, 0, 0, 0, 0], [1, 0, 0, 0, 0, 0], [0, 0, 0, 0, 0, 0], [0, 0, 0, 0, 0, 0], [0, 0, 0, 0, 0, 0], [1, 1, 1, 0, 1, 0], [1, 1, 1, 0, 1, 0], [0, 0, 0, 0, 0, 0], [1, 0, 0, 0, 1, 1], [1, 0, 0, 0, 0, 0], [0, 0, 0, 0, 0, 0], [1, 0, 0, 0, 0, 0], [0, 0, 0, 0, 0, 0], [1, 0, 1, 0, 1, 0], [0, 0, 0, 0, 0, 0], [0, 0, 0, 0, 0, 0], [1, 0, 0, 0, 0, 0], [0, 0, 0, 0, 0, 0], [1, 0, 1, 0, 1, 1], [0, 0, 0, 0, 0, 0], [1, 0, 1, 0, 1, 1], [0, 0, 0, 0, 0, 0], [1, 0, 0, 0, 0, 0], [0, 0, 0, 0, 0, 0], [1, 1, 1, 0, 1, 0], [0, 0, 0, 0, 0, 0], [1, 0, 0, 0, 0, 0], [0, 0, 0, 0, 0, 0], [1, 0, 0, 0, 0, 0], [1, 0, 1, 0, 1, 0], [0, 0, 0, 0, 0, 0], [0, 0, 0, 0, 0, 0], [1, 0, 1, 0, 1, 0], [1, 0, 0, 1, 1, 0], [1, 0, 0, 0, 0, 0], [0, 0, 0, 0, 0, 0], [1, 0, 1, 0, 0, 0], [1, 0, 1, 0, 1, 0], [0, 0, 0, 0, 0, 0], [0, 0, 0, 0, 0, 0], [0, 0, 0, 0, 0, 0], [1, 0, 0, 0, 0, 0], [1, 0, 1, 0, 1, 0], [1, 0, 1, 0, 1, 0], [1, 0, 1, 0, 1, 1], [0, 0, 0, 0, 0, 0], [0, 0, 0, 0, 0, 0], [1, 0, 1, 0, 0, 0], [1, 0, 1, 0, 1, 0], [0, 0, 0, 0, 0, 0], [0, 0, 0, 0, 0, 0], [1, 1, 1, 0, 1, 0], [1, 0, 0, 0, 1, 0], [1, 0, 1, 0, 1, 1], [1, 0, 1, 0, 1, 1], [0, 0, 0, 0, 0, 0], [0, 0, 0, 0, 0, 0], [1, 0, 1, 0, 1, 0], [0, 0, 0, 0, 0, 0], [0, 0, 0, 0, 0, 0], [1, 1, 1, 0, 1, 0], [1, 0, 1, 0, 1, 0], [0, 0, 0, 0, 0, 0], [1, 1, 1, 0, 1, 0], [0, 0, 0, 0, 0, 0], [0, 0, 0, 0, 0, 0], [0, 0, 0, 0, 0, 0], [1, 1, 1, 0, 1, 0], [1, 1, 1, 0, 1, 0], [0, 0, 0, 0, 0, 0], [0, 0, 0, 0, 0, 0], [0, 0, 0, 0, 0, 0], [1, 0, 1, 0, 1, 0], [1, 1, 1, 1, 1, 1], [1, 0, 1, 0, 1, 0], [1, 0, 1, 0, 1, 0], [0, 0, 0, 0, 0, 0], [1, 1, 1, 0, 1, 0], [0, 0, 0, 0, 0, 0], [1, 0, 0, 0, 0, 0], [1, 0, 1, 0, 1, 0], [1, 0, 1, 0, 1, 0], [0, 0, 0, 0, 0, 0], [1, 0, 1, 0, 1, 1], [0, 0, 0, 0, 0, 0], [0, 0, 0, 0, 0, 0], [1, 0, 0, 0, 0, 0], [1, 1, 1, 0, 1, 0], [0, 0, 0, 0, 0, 0], [1, 0, 1, 0, 1, 0], [1, 0, 1, 0, 1, 0], [0, 0, 0, 0, 0, 0], [1, 0, 0, 0, 0, 1], [1, 0, 0, 0, 0, 0], [0, 0, 0, 0, 0, 0], [1, 1, 1, 0, 1, 0], [0, 0, 0, 0, 0, 0], [0, 0, 0, 0, 0, 0], [0, 0, 0, 0, 0, 0], [1, 0, 0, 0, 0, 0], [0, 0, 0, 0, 0, 0], [1, 0, 1, 0, 1, 0], [1, 0, 1, 0, 0, 0], [1, 0, 1, 0, 1, 0], [1, 0, 0, 0, 1, 0], [1, 0, 1, 0, 1, 0], [0, 0, 0, 0, 0, 0], [1, 0, 0, 0, 0, 1], [1, 1, 1, 0, 1, 0], [1, 0, 1, 0, 1, 0], [0, 0, 0, 0, 0, 0], [1, 0, 1, 0, 1, 0], [0, 0, 0, 0, 0, 0], [0, 0, 0, 0, 0, 0], [0, 0, 0, 0, 0, 0], [0, 0, 0, 0, 0, 0], [1, 0, 0, 0, 0, 0], [1, 0, 1, 0, 1, 1], [0, 0, 0, 0, 0, 0], [0, 0, 0, 0, 0, 0], [0, 0, 0, 0, 0, 0], [0, 0, 0, 0, 0, 0], [1, 0, 1, 0, 0, 0], [1, 0, 1, 0, 0, 0], [1, 0, 0, 0, 1, 0], [0, 0, 0, 0, 0, 0], [0, 0, 0, 0, 0, 0], [0, 0, 0, 0, 0, 0], [1, 0, 0, 0, 0, 0], [1, 0, 0, 0, 0, 0], [0, 0, 0, 0, 0, 0], [0, 0, 0, 0, 0, 0], [1, 0, 0, 0, 0, 0], [1, 1, 1, 0, 1, 0], [0, 0, 0, 0, 0, 0], [1, 1, 1, 0, 1, 0], [0, 0, 0, 0, 0, 0], [1, 0, 0, 0, 0, 0], [1, 0, 0, 0, 1, 0], [1, 1, 1, 0, 1, 0], [0, 0, 0, 0, 0, 0], [1, 0, 0, 1, 1, 0], [1, 0, 0, 0, 0, 0], [0, 0, 0, 0, 0, 0], [1, 0, 1, 0, 1, 0], [1, 0, 1, 0, 1, 1], [0, 0, 0, 0, 0, 0], [1, 1, 1, 0, 1, 0], [0, 0, 0, 0, 0, 0], [0, 0, 0, 0, 0, 0], [0, 0, 0, 0, 0, 0], [1, 0, 1, 0, 1, 0], [0, 0, 0, 0, 0, 0], [1, 0, 1, 0, 0, 0], [0, 0, 0, 0, 0, 0], [1, 0, 0, 0, 1, 0], [0, 0, 0, 0, 0, 0], [1, 0, 1, 0, 1, 0], [0, 0, 0, 0, 0, 0], [0, 0, 0, 0, 0, 0], [0, 0, 0, 0, 0, 0], [1, 0, 1, 0, 1, 0], [0, 0, 0, 0, 0, 0], [1, 0, 1, 0, 1, 0], [1, 0, 0, 1, 1, 0], [0, 0, 0, 0, 0, 0], [1, 0, 1, 0, 1, 0], [1, 1, 1, 0, 1, 0], [1, 0, 0, 0, 0, 0], [0, 0, 0, 0, 0, 0], [1, 0, 0, 0, 0, 0], [1, 1, 1, 0, 1, 0], [0, 0, 0, 0, 0, 0], [1, 0, 0, 0, 1, 0], [1, 0, 1, 0, 1, 0], [1, 0, 1, 0, 1, 0], [0, 0, 0, 0, 0, 0], [1, 1, 1, 0, 1, 0], [0, 0, 0, 0, 0, 0], [1, 0, 0, 0, 1, 1], [1, 0, 1, 0, 1, 0], [0, 0, 0, 0, 0, 0], [0, 0, 0, 0, 0, 0], [1, 0, 1, 0, 1, 0], [1, 0, 0, 0, 0, 0], [1, 0, 1, 0, 1, 0], [0, 0, 0, 0, 0, 0], [0, 0, 0, 0, 0, 0], [1, 0, 0, 0, 0, 1], [1, 0, 1, 0, 0, 0], [0, 0, 0, 0, 0, 0], [0, 0, 0, 0, 0, 0], [1, 0, 0, 0, 0, 0], [0, 0, 0, 0, 0, 0], [0, 0, 0, 0, 0, 0], [1, 0, 0, 0, 0, 0], [1, 0, 0, 0, 0, 0], [0, 0, 0, 0, 0, 0], [1, 1, 1, 0, 1, 0], [1, 0, 0, 0, 1, 0], [1, 0, 1, 0, 0, 0], [1, 0, 0, 0, 0, 0], [0, 0, 0, 0, 0, 0], [1, 0, 1, 0, 1, 0], [0, 0, 0, 0, 0, 0], [0, 0, 0, 0, 0, 0], [0, 0, 0, 0, 0, 0], [0, 0, 0, 0, 0, 0], [1, 0, 1, 0, 1, 0], [0, 0, 0, 0, 0, 0], [1, 0, 0, 0, 0, 0], [1, 1, 1, 0, 1, 0], [1, 0, 1, 0, 1, 0], [1, 0, 0, 0, 0, 0], [1, 0, 1, 0, 1, 0], [1, 0, 0, 0, 0, 0], [1, 0, 1, 0, 1, 1], [0, 0, 0, 0, 0, 0], [1, 1, 1, 0, 1, 0], [1, 0, 0, 0, 0, 0], [0, 0, 0, 0, 0, 0], [0, 0, 0, 0, 0, 0], [1, 1, 1, 0, 1, 0], [1, 0, 0, 0, 0, 0], [0, 0, 0, 0, 0, 0], [0, 0, 0, 0, 0, 0], [0, 0, 0, 0, 0, 0], [0, 0, 0, 0, 0, 0], [1, 1, 1, 1, 1, 1], [1, 0, 1, 0, 1, 0], [1, 1, 1, 1, 1, 0], [1, 1, 1, 0, 1, 0], [0, 0, 0, 0, 0, 0], [1, 0, 0, 0, 1, 1], [1, 0, 1, 0, 1, 0], [1, 0, 0, 0, 1, 0], [0, 0, 0, 0, 0, 0], [1, 0, 0, 0, 1, 0], [1, 0, 0, 0, 1, 0], [1, 0, 0, 0, 0, 0], [0, 0, 0, 0, 0, 0], [0, 0, 0, 0, 0, 0], [1, 0, 0, 0, 0, 0], [0, 0, 0, 0, 0, 0], [1, 0, 1, 0, 0, 0], [0, 0, 0, 0, 0, 0], [0, 0, 0, 0, 0, 0], [0, 0, 0, 0, 0, 0], [1, 0, 1, 0, 1, 0], [0, 0, 0, 0, 0, 0], [1, 0, 0, 0, 1, 0], [0, 0, 0, 0, 0, 0], [0, 0, 0, 0, 0, 0], [1, 0, 1, 0, 1, 0], [0, 0, 0, 0, 0, 0], [0, 0, 0, 0, 0, 0], [1, 0, 1, 0, 0, 0], [1, 0, 0, 0, 0, 0], [1, 0, 0, 0, 1, 0], [1, 0, 0, 0, 1, 0], [0, 0, 0, 0, 0, 0], [1, 1, 1, 1, 1, 0], [1, 0, 1, 0, 1, 0], [0, 0, 0, 0, 0, 0], [1, 1, 1, 0, 1, 1], [1, 0, 1, 0, 1, 0], [1, 0, 1, 0, 1, 0], [0, 0, 0, 0, 0, 0], [1, 0, 1, 0, 1, 0], [1, 0, 0, 0, 0, 0], [0, 0, 0, 0, 0, 0], [1, 0, 1, 0, 1, 0], [0, 0, 0, 0, 0, 0], [1, 1, 1, 1, 1, 1], [0, 0, 0, 0, 0, 0], [0, 0, 0, 0, 0, 0], [0, 0, 0, 0, 0, 0], [1, 0, 0, 0, 0, 0], [0, 0, 0, 0, 0, 0], [1, 0, 0, 0, 0, 0], [1, 0, 1, 0, 0, 0], [0, 0, 0, 0, 0, 0], [1, 0, 0, 0, 1, 0], [1, 0, 0, 0, 0, 0], [0, 0, 0, 0, 0, 0], [1, 0, 1, 0, 1, 0], [1, 0, 0, 0, 0, 0], [0, 0, 0, 0, 0, 0], [0, 0, 0, 0, 0, 0], [0, 0, 0, 0, 0, 0], [1, 0, 0, 0, 0, 0], [1, 0, 1, 0, 1, 0], [0, 0, 0, 0, 0, 0], [1, 0, 1, 0, 1, 0], [0, 0, 0, 0, 0, 0], [1, 1, 1, 0, 1, 0], [0, 0, 0, 0, 0, 0], [0, 0, 0, 0, 0, 0], [1, 0, 0, 0, 0, 0], [1, 0, 1, 0, 1, 0], [0, 0, 0, 0, 0, 0], [0, 0, 0, 0, 0, 0], [1, 1, 1, 0, 1, 0], [0, 0, 0, 0, 0, 0], [0, 0, 0, 0, 0, 0], [0, 0, 0, 0, 0, 0], [0, 0, 0, 0, 0, 0], [1, 0, 1, 1, 1, 0], [0, 0, 0, 0, 0, 0], [1, 1, 1, 0, 1, 0], [0, 0, 0, 0, 0, 0], [1, 0, 1, 0, 1, 0], [1, 0, 0, 0, 0, 0], [1, 0, 0, 0, 0, 0], [0, 0, 0, 0, 0, 0], [1, 0, 1, 0, 1, 0], [0, 0, 0, 0, 0, 0], [1, 0, 0, 0, 0, 0], [1, 0, 0, 0, 1, 0], [1, 0, 1, 0, 1, 0], [1, 0, 1, 0, 1, 0], [0, 0, 0, 0, 0, 0], [0, 0, 0, 0, 0, 0], [1, 0, 1, 0, 1, 0], [1, 0, 1, 0, 1, 0], [1, 0, 0, 0, 1, 1], [1, 0, 1, 0, 1, 0], [1, 0, 0, 0, 1, 0], [1, 0, 1, 0, 1, 0], [1, 0, 1, 0, 0, 0], [1, 0, 0, 0, 0, 0], [0, 0, 0, 0, 0, 0], [0, 0, 0, 0, 0, 0], [0, 0, 0, 0, 0, 0], [1, 1, 1, 1, 1, 1], [1, 1, 1, 0, 1, 0], [0, 0, 0, 0, 0, 0], [1, 0, 1, 0, 1, 0], [0, 0, 0, 0, 0, 0], [0, 0, 0, 0, 0, 0], [1, 0, 0, 0, 0, 0], [1, 0, 1, 0, 1, 0], [1, 0, 1, 0, 1, 0], [0, 0, 0, 0, 0, 0], [0, 0, 0, 0, 0, 0], [0, 0, 0, 0, 0, 0], [1, 0, 0, 0, 1, 0], [1, 0, 0, 0, 0, 0], [1, 1, 1, 0, 1, 0], [0, 0, 0, 0, 0, 0], [1, 1, 1, 0, 1, 0], [0, 0, 0, 0, 0, 0], [1, 0, 0, 0, 0, 0], [0, 0, 0, 0, 0, 0], [1, 0, 1, 0, 1, 0], [0, 0, 0, 0, 0, 0], [1, 0, 0, 0, 1, 0], [1, 0, 1, 0, 1, 0], [0, 0, 0, 0, 0, 0], [1, 0, 0, 0, 0, 0], [1, 0, 0, 0, 0, 0], [0, 0, 0, 0, 0, 0], [0, 0, 0, 0, 0, 0], [1, 1, 1, 0, 1, 0], [0, 0, 0, 0, 0, 0], [1, 0, 0, 0, 0, 0], [1, 0, 0, 0, 1, 0], [0, 0, 0, 0, 0, 0], [1, 0, 1, 0, 1, 0], [1, 0, 1, 0, 1, 0], [0, 0, 0, 0, 0, 0], [0, 0, 0, 0, 0, 0], [1, 0, 1, 0, 1, 0], [1, 1, 1, 0, 1, 1], [1, 0, 0, 0, 1, 0], [0, 0, 0, 0, 0, 0], [1, 0, 0, 0, 0, 0], [1, 0, 0, 0, 0, 0], [1, 0, 1, 0, 1, 1], [0, 0, 0, 0, 0, 0], [1, 1, 1, 0, 1, 0], [1, 0, 1, 0, 1, 0], [1, 0, 1, 0, 1, 0], [1, 1, 1, 0, 1, 0], [0, 0, 0, 0, 0, 0], [0, 0, 0, 0, 0, 0], [0, 0, 0, 0, 0, 0], [0, 0, 0, 0, 0, 0], [0, 0, 0, 0, 0, 0], [0, 0, 0, 0, 0, 0], [1, 1, 1, 0, 1, 0], [0, 0, 0, 0, 0, 0], [0, 0, 0, 0, 0, 0], [1, 0, 0, 0, 0, 0], [1, 0, 0, 0, 0, 0], [0, 0, 0, 0, 0, 0], [0, 0, 0, 0, 0, 0], [1, 0, 1, 0, 1, 0], [1, 0, 1, 0, 1, 0], [1, 0, 1, 1, 1, 0], [1, 0, 1, 0, 0, 0], [1, 0, 1, 0, 1, 0], [1, 0, 1, 0, 1, 1], [0, 0, 0, 0, 0, 0], [0, 0, 0, 0, 0, 0], [0, 0, 0, 0, 0, 0], [1, 0, 0, 0, 0, 0], [1, 1, 1, 0, 1, 1], [0, 0, 0, 0, 0, 0], [1, 1, 1, 1, 1, 0], [0, 0, 0, 0, 0, 0], [1, 0, 1, 0, 1, 0], [0, 0, 0, 0, 0, 0], [1, 0, 0, 0, 0, 0], [1, 0, 1, 0, 1, 0], [0, 0, 0, 0, 0, 0], [0, 0, 0, 0, 0, 0], [1, 0, 1, 0, 1, 0], [1, 1, 1, 0, 1, 0], [0, 0, 0, 0, 0, 0], [1, 1, 1, 0, 1, 0], [1, 0, 0, 0, 1, 0], [0, 0, 0, 0, 0, 0], [1, 0, 1, 0, 1, 0], [0, 0, 0, 0, 0, 0], [0, 0, 0, 0, 0, 0], [1, 0, 1, 0, 1, 0], [0, 0, 0, 0, 0, 0], [0, 0, 0, 0, 0, 0], [1, 0, 0, 0, 0, 0], [0, 0, 0, 0, 0, 0], [1, 0, 1, 0, 0, 0], [1, 0, 0, 0, 0, 0], [1, 1, 1, 0, 1, 0], [0, 0, 0, 0, 0, 0], [0, 0, 0, 0, 0, 0], [0, 0, 0, 0, 0, 0], [0, 0, 0, 0, 0, 0], [0, 0, 0, 0, 0, 0], [0, 0, 0, 0, 0, 0], [1, 0, 0, 0, 0, 0], [1, 0, 0, 0, 0, 0], [0, 0, 0, 0, 0, 0], [1, 0, 0, 0, 1, 0], [0, 0, 0, 0, 0, 0], [0, 0, 0, 0, 0, 0], [1, 0, 1, 1, 1, 0], [0, 0, 0, 0, 0, 0], [0, 0, 0, 0, 0, 0], [0, 0, 0, 0, 0, 0], [1, 0, 0, 0, 0, 0], [1, 1, 1, 0, 1, 0], [1, 0, 1, 0, 1, 0], [0, 0, 0, 0, 0, 0], [1, 1, 1, 0, 1, 1], [1, 0, 1, 0, 0, 0], [0, 0, 0, 0, 0, 0], [0, 0, 0, 0, 0, 0], [1, 0, 1, 0, 1, 0], [0, 0, 0, 0, 0, 0], [1, 0, 0, 0, 0, 0], [1, 0, 0, 0, 1, 0], [1, 0, 0, 0, 0, 0], [0, 0, 0, 0, 0, 0], [0, 0, 0, 0, 0, 0], [0, 0, 0, 0, 0, 0], [0, 0, 0, 0, 0, 0], [0, 0, 0, 0, 0, 0], [0, 0, 0, 0, 0, 0], [0, 0, 0, 0, 0, 0], [1, 1, 1, 0, 1, 0], [1, 0, 1, 0, 0, 0], [1, 0, 0, 1, 1, 0], [1, 0, 0, 0, 0, 0], [0, 0, 0, 0, 0, 0], [1, 0, 0, 0, 0, 0], [1, 0, 0, 0, 0, 0], [0, 0, 0, 0, 0, 0], [0, 0, 0, 0, 0, 0], [0, 0, 0, 0, 0, 0], [1, 0, 1, 0, 1, 0], [1, 0, 0, 0, 0, 1], [0, 0, 0, 0, 0, 0], [0, 0, 0, 0, 0, 0], [1, 0, 1, 0, 1, 0], [1, 0, 0, 0, 0, 0], [0, 0, 0, 0, 0, 0], [1, 0, 1, 0, 1, 0], [0, 0, 0, 0, 0, 0], [0, 0, 0, 0, 0, 0], [0, 0, 0, 0, 0, 0], [1, 0, 0, 0, 0, 0], [1, 0, 1, 0, 1, 0], [0, 0, 0, 0, 0, 0], [1, 0, 1, 0, 1, 0], [0, 0, 0, 0, 0, 0], [0, 0, 0, 0, 0, 0], [0, 0, 0, 0, 0, 0], [1, 0, 0, 0, 1, 1], [0, 0, 0, 0, 0, 0], [1, 0, 1, 0, 1, 0], [0, 0, 0, 0, 0, 0], [1, 1, 1, 1, 1, 0], [0, 0, 0, 0, 0, 0], [0, 0, 0, 0, 0, 0], [0, 0, 0, 0, 0, 0], [0, 0, 0, 0, 0, 0], [1, 0, 1, 0, 1, 0], [1, 1, 1, 0, 1, 0], [1, 0, 1, 0, 1, 1], [1, 0, 0, 0, 0, 0], [0, 0, 0, 0, 0, 0], [0, 0, 0, 0, 0, 0], [0, 0, 0, 0, 0, 0], [0, 0, 0, 0, 0, 0], [1, 0, 0, 0, 0, 0], [1, 0, 1, 0, 1, 1], [0, 0, 0, 0, 0, 0], [1, 0, 0, 0, 0, 0], [1, 1, 1, 1, 1, 0], [1, 0, 0, 0, 0, 0], [1, 0, 0, 0, 0, 0], [1, 0, 1, 0, 0, 0], [1, 0, 0, 0, 1, 0], [1, 0, 1, 0, 1, 0], [0, 0, 0, 0, 0, 0], [1, 0, 0, 0, 0, 0], [0, 0, 0, 0, 0, 0], [1, 0, 1, 0, 1, 0], [0, 0, 0, 0, 0, 0], [0, 0, 0, 0, 0, 0], [0, 0, 0, 0, 0, 0], [1, 0, 0, 0, 0, 0], [0, 0, 0, 0, 0, 0], [0, 0, 0, 0, 0, 0], [1, 0, 1, 0, 0, 0], [1, 0, 0, 0, 0, 0], [1, 1, 1, 0, 1, 0], [1, 1, 1, 1, 1, 0], [1, 0, 0, 0, 0, 0], [1, 0, 0, 0, 0, 1], [0, 0, 0, 0, 0, 0], [1, 1, 1, 1, 1, 0], [0, 0, 0, 0, 0, 0], [0, 0, 0, 0, 0, 0], [1, 0, 1, 0, 1, 0], [0, 0, 0, 0, 0, 0], [0, 0, 0, 0, 0, 0], [1, 0, 0, 0, 1, 0], [0, 0, 0, 0, 0, 0], [1, 0, 1, 0, 1, 0], [0, 0, 0, 0, 0, 0], [1, 0, 1, 0, 0, 0], [0, 0, 0, 0, 0, 0], [1, 1, 1, 0, 1, 0], [0, 0, 0, 0, 0, 0], [0, 0, 0, 0, 0, 0], [1, 0, 0, 0, 0, 0], [1, 0, 1, 0, 1, 0], [1, 0, 1, 0, 1, 0], [0, 0, 0, 0, 0, 0], [1, 0, 1, 0, 1, 0], [1, 0, 1, 0, 1, 0], [1, 1, 1, 0, 1, 0], [0, 0, 0, 0, 0, 0], [1, 0, 0, 0, 1, 0], [0, 0, 0, 0, 0, 0], [1, 0, 1, 0, 0, 0], [1, 1, 1, 0, 1, 1], [0, 0, 0, 0, 0, 0], [1, 0, 1, 0, 1, 0], [0, 0, 0, 0, 0, 0], [0, 0, 0, 0, 0, 0], [1, 0, 1, 0, 1, 0], [1, 0, 1, 0, 0, 0], [1, 0, 1, 0, 1, 0], [1, 0, 0, 0, 0, 0], [1, 0, 1, 0, 1, 0], [0, 0, 0, 0, 0, 0], [1, 1, 1, 0, 1, 0], [0, 0, 0, 0, 0, 0], [1, 1, 1, 1, 1, 0], [1, 0, 1, 0, 0, 0], [1, 0, 1, 0, 1, 0], [1, 1, 1, 0, 1, 1], [0, 0, 0, 0, 0, 0], [1, 0, 0, 0, 0, 0], [1, 0, 1, 0, 1, 0], [0, 0, 0, 0, 0, 0], [0, 0, 0, 0, 0, 0], [1, 0, 0, 0, 0, 0], [1, 0, 1, 0, 1, 0], [0, 0, 0, 0, 0, 0], [1, 0, 1, 0, 1, 0], [0, 0, 0, 0, 0, 0], [0, 0, 0, 0, 0, 0], [1, 0, 0, 0, 0, 0], [1, 0, 1, 0, 1, 0], [0, 0, 0, 0, 0, 0], [1, 0, 0, 0, 1, 1], [1, 0, 0, 0, 0, 0], [0, 0, 0, 0, 0, 0], [0, 0, 0, 0, 0, 0], [1, 0, 1, 0, 1, 0], [0, 0, 0, 0, 0, 0], [0, 0, 0, 0, 0, 0], [1, 0, 0, 0, 1, 0], [1, 0, 0, 0, 0, 0], [0, 0, 0, 0, 0, 0], [1, 0, 0, 0, 0, 0], [1, 0, 1, 0, 1, 0], [0, 0, 0, 0, 0, 0], [0, 0, 0, 0, 0, 0], [0, 0, 0, 0, 0, 0], [0, 0, 0, 0, 0, 0], [1, 0, 0, 0, 0, 0], [1, 1, 1, 0, 1, 1], [1, 0, 1, 0, 1, 0], [1, 0, 1, 0, 1, 0], [1, 0, 1, 0, 1, 0], [0, 0, 0, 0, 0, 0], [1, 0, 0, 0, 1, 0], [0, 0, 0, 0, 0, 0], [0, 0, 0, 0, 0, 0], [1, 0, 1, 0, 0, 0], [1, 0, 1, 0, 0, 0], [0, 0, 0, 0, 0, 0], [1, 0, 0, 0, 1, 0], [1, 1, 1, 0, 1, 1], [0, 0, 0, 0, 0, 0], [1, 0, 0, 0, 0, 0], [1, 0, 1, 0, 1, 0], [0, 0, 0, 0, 0, 0], [1, 0, 0, 0, 0, 1], [0, 0, 0, 0, 0, 0], [0, 0, 0, 0, 0, 0], [0, 0, 0, 0, 0, 0], [1, 0, 0, 0, 0, 0], [0, 0, 0, 0, 0, 0], [1, 1, 1, 0, 1, 0], [1, 0, 0, 0, 1, 1], [1, 0, 1, 0, 0, 0], [1, 1, 1, 0, 1, 0], [1, 0, 0, 0, 0, 0], [0, 0, 0, 0, 0, 0], [1, 0, 0, 0, 1, 1], [1, 0, 1, 0, 0, 0], [1, 0, 1, 0, 1, 0], [0, 0, 0, 0, 0, 0], [1, 0, 1, 0, 1, 0], [1, 1, 1, 0, 1, 0], [0, 0, 0, 0, 0, 0], [1, 0, 0, 0, 0, 0], [1, 0, 0, 0, 0, 0], [0, 0, 0, 0, 0, 0], [0, 0, 0, 0, 0, 0], [1, 0, 0, 0, 1, 0], [0, 0, 0, 0, 0, 0], [1, 0, 1, 0, 1, 0], [0, 0, 0, 0, 0, 0], [0, 0, 0, 0, 0, 0], [0, 0, 0, 0, 0, 0], [0, 0, 0, 0, 0, 0], [1, 1, 1, 0, 1, 0], [0, 0, 0, 0, 0, 0], [0, 0, 0, 0, 0, 0], [0, 0, 0, 0, 0, 0], [1, 1, 1, 0, 1, 0], [1, 0, 0, 0, 1, 0], [0, 0, 0, 0, 0, 0], [0, 0, 0, 0, 0, 0], [1, 0, 0, 0, 1, 0], [1, 0, 0, 0, 0, 0], [1, 0, 0, 0, 0, 0], [0, 0, 0, 0, 0, 0], [1, 0, 1, 0, 1, 1], [1, 0, 1, 0, 1, 0], [0, 0, 0, 0, 0, 0], [1, 1, 1, 1, 1, 1], [1, 0, 0, 0, 0, 0], [0, 0, 0, 0, 0, 0], [0, 0, 0, 0, 0, 0], [0, 0, 0, 0, 0, 0], [0, 0, 0, 0, 0, 0], [0, 0, 0, 0, 0, 0], [0, 0, 0, 0, 0, 0], [1, 0, 1, 0, 0, 0], [1, 0, 0, 0, 0, 0], [0, 0, 0, 0, 0, 0], [1, 0, 1, 0, 1, 0], [0, 0, 0, 0, 0, 0], [1, 0, 0, 0, 1, 0], [1, 1, 1, 0, 1, 0], [1, 1, 1, 1, 1, 0], [0, 0, 0, 0, 0, 0], [1, 0, 1, 0, 1, 0], [1, 0, 1, 0, 0, 0], [1, 0, 0, 0, 1, 0], [0, 0, 0, 0, 0, 0], [1, 0, 0, 0, 0, 0], [0, 0, 0, 0, 0, 0], [1, 0, 0, 1, 1, 0], [0, 0, 0, 0, 0, 0], [0, 0, 0, 0, 0, 0], [0, 0, 0, 0, 0, 0], [1, 0, 0, 0, 0, 0], [1, 0, 0, 0, 1, 1], [0, 0, 0, 0, 0, 0], [0, 0, 0, 0, 0, 0], [0, 0, 0, 0, 0, 0], [1, 0, 0, 0, 0, 0], [1, 0, 1, 0, 0, 0], [0, 0, 0, 0, 0, 0], [0, 0, 0, 0, 0, 0], [0, 0, 0, 0, 0, 0], [1, 0, 1, 0, 1, 0], [0, 0, 0, 0, 0, 0], [1, 0, 0, 0, 0, 0], [1, 0, 1, 0, 1, 0], [1, 0, 0, 0, 0, 0], [0, 0, 0, 0, 0, 0], [0, 0, 0, 0, 0, 0], [0, 0, 0, 0, 0, 0], [1, 0, 0, 0, 0, 0], [0, 0, 0, 0, 0, 0], [0, 0, 0, 0, 0, 0], [1, 0, 0, 0, 1, 0], [0, 0, 0, 0, 0, 0], [1, 0, 0, 0, 1, 0], [0, 0, 0, 0, 0, 0], [1, 1, 1, 1, 1, 0], [0, 0, 0, 0, 0, 0], [1, 0, 1, 0, 0, 0], [0, 0, 0, 0, 0, 0], [1, 0, 0, 0, 0, 0], [0, 0, 0, 0, 0, 0], [0, 0, 0, 0, 0, 0], [1, 0, 0, 0, 1, 0], [1, 0, 0, 0, 1, 0], [1, 0, 0, 0, 0, 0], [0, 0, 0, 0, 0, 0], [0, 0, 0, 0, 0, 0], [0, 0, 0, 0, 0, 0], [0, 0, 0, 0, 0, 0], [1, 0, 1, 0, 1, 0], [0, 0, 0, 0, 0, 0], [1, 0, 1, 0, 0, 0], [1, 0, 1, 0, 1, 0], [1, 0, 0, 0, 0, 0], [1, 0, 0, 0, 0, 0], [0, 0, 0, 0, 0, 0], [1, 0, 0, 0, 0, 0], [1, 0, 0, 0, 0, 0], [0, 0, 0, 0, 0, 0], [0, 0, 0, 0, 0, 0], [1, 1, 1, 0, 1, 1], [0, 0, 0, 0, 0, 0], [0, 0, 0, 0, 0, 0], [0, 0, 0, 0, 0, 0], [0, 0, 0, 0, 0, 0], [1, 0, 1, 0, 0, 0], [1, 0, 0, 0, 1, 0], [1, 0, 0, 0, 1, 0], [0, 0, 0, 0, 0, 0], [0, 0, 0, 0, 0, 0], [1, 0, 0, 0, 0, 0], [1, 0, 1, 0, 1, 0], [1, 0, 0, 0, 0, 0], [0, 0, 0, 0, 0, 0], [1, 0, 1, 0, 0, 0], [1, 1, 1, 0, 1, 1], [1, 0, 1, 0, 1, 0], [0, 0, 0, 0, 0, 0], [0, 0, 0, 0, 0, 0], [1, 0, 0, 0, 0, 0], [1, 0, 1, 0, 0, 0], [0, 0, 0, 0, 0, 0], [0, 0, 0, 0, 0, 0], [0, 0, 0, 0, 0, 0], [1, 0, 1, 0, 1, 0], [0, 0, 0, 0, 0, 0], [0, 0, 0, 0, 0, 0], [0, 0, 0, 0, 0, 0], [0, 0, 0, 0, 0, 0], [0, 0, 0, 0, 0, 0], [0, 0, 0, 0, 0, 0], [1, 0, 1, 0, 1, 0], [0, 0, 0, 0, 0, 0], [0, 0, 0, 0, 0, 0], [1, 0, 0, 0, 0, 0], [0, 0, 0, 0, 0, 0], [1, 0, 0, 0, 0, 0], [0, 0, 0, 0, 0, 0], [0, 0, 0, 0, 0, 0], [0, 0, 0, 0, 0, 0], [1, 0, 0, 0, 0, 0], [0, 0, 0, 0, 0, 0], [1, 0, 0, 0, 0, 0], [0, 0, 0, 0, 0, 0], [0, 0, 0, 0, 0, 0], [1, 0, 1, 0, 0, 0], [0, 0, 0, 0, 0, 0], [0, 0, 0, 0, 0, 0], [0, 0, 0, 0, 0, 0], [1, 0, 0, 0, 1, 0], [0, 0, 0, 0, 0, 0], [0, 0, 0, 0, 0, 0], [0, 0, 0, 0, 0, 0], [1, 1, 1, 0, 1, 0], [1, 0, 1, 0, 0, 0], [1, 0, 1, 0, 1, 0], [1, 0, 1, 0, 1, 0], [1, 0, 0, 0, 0, 0], [0, 0, 0, 0, 0, 0], [0, 0, 0, 0, 0, 0], [1, 0, 0, 0, 1, 0], [1, 0, 0, 0, 1, 0], [0, 0, 0, 0, 0, 0], [1, 0, 0, 0, 0, 0], [1, 0, 1, 0, 0, 0], [1, 0, 0, 0, 1, 0], [0, 0, 0, 0, 0, 0], [1, 1, 1, 0, 1, 0], [0, 0, 0, 0, 0, 0], [1, 0, 0, 0, 0, 0], [1, 0, 1, 0, 1, 0], [1, 1, 1, 0, 1, 0], [1, 0, 1, 0, 1, 0], [1, 0, 0, 0, 1, 0], [0, 0, 0, 0, 0, 0], [0, 0, 0, 0, 0, 0], [1, 0, 1, 1, 1, 1], [1, 1, 1, 0, 1, 0], [1, 0, 0, 0, 0, 0], [1, 0, 1, 0, 0, 0], [0, 0, 0, 0, 0, 0], [0, 0, 0, 0, 0, 0], [0, 0, 0, 0, 0, 0], [1, 0, 0, 0, 0, 0], [1, 0, 0, 0, 0, 0], [0, 0, 0, 0, 0, 0], [1, 0, 1, 0, 0, 0], [0, 0, 0, 0, 0, 0], [1, 0, 0, 0, 0, 0], [1, 0, 0, 0, 1, 0], [1, 0, 1, 0, 1, 0], [1, 1, 1, 0, 1, 1], [1, 0, 0, 0, 0, 0], [0, 0, 0, 0, 0, 0], [0, 0, 0, 0, 0, 0], [1, 0, 1, 0, 0, 0], [0, 0, 0, 0, 0, 0], [1, 0, 1, 0, 1, 0], [1, 0, 0, 0, 0, 0], [0, 0, 0, 0, 0, 0], [1, 1, 1, 1, 1, 0], [1, 0, 0, 0, 1, 0], [1, 0, 1, 0, 1, 0], [0, 0, 0, 0, 0, 0], [0, 0, 0, 0, 0, 0], [0, 0, 0, 0, 0, 0], [1, 0, 1, 0, 1, 0], [1, 0, 0, 0, 0, 0], [1, 0, 1, 0, 1, 0], [1, 0, 0, 0, 0, 0], [1, 0, 0, 0, 0, 0], [0, 0, 0, 0, 0, 0], [1, 0, 0, 0, 0, 0], [1, 1, 1, 0, 1, 0], [0, 0, 0, 0, 0, 0], [0, 0, 0, 0, 0, 0], [1, 0, 0, 0, 1, 0], [0, 0, 0, 0, 0, 0], [1, 0, 0, 0, 0, 0], [0, 0, 0, 0, 0, 0], [0, 0, 0, 0, 0, 0], [0, 0, 0, 0, 0, 0], [1, 1, 1, 0, 1, 0], [0, 0, 0, 0, 0, 0], [1, 0, 0, 0, 0, 0], [1, 0, 0, 0, 0, 0], [1, 0, 1, 0, 1, 0], [0, 0, 0, 0, 0, 0], [0, 0, 0, 0, 0, 0], [0, 0, 0, 0, 0, 0], [1, 0, 1, 0, 1, 0], [1, 1, 1, 0, 1, 0], [1, 0, 0, 0, 0, 0], [1, 0, 1, 0, 1, 1], [1, 0, 0, 0, 0, 0], [0, 0, 0, 0, 0, 0], [1, 0, 0, 0, 0, 0], [0, 0, 0, 0, 0, 0], [1, 0, 1, 1, 1, 0], [1, 0, 1, 0, 1, 1], [1, 0, 0, 0, 0, 0], [0, 0, 0, 0, 0, 0], [1, 1, 1, 0, 1, 0], [0, 0, 0, 0, 0, 0], [0, 0, 0, 0, 0, 0], [1, 0, 0, 0, 1, 0], [1, 0, 0, 0, 1, 1], [0, 0, 0, 0, 0, 0], [0, 0, 0, 0, 0, 0], [1, 0, 0, 0, 0, 0], [1, 0, 0, 0, 0, 0], [1, 0, 0, 0, 0, 0], [1, 1, 1, 0, 1, 1], [0, 0, 0, 0, 0, 0], [0, 0, 0, 0, 0, 0], [0, 0, 0, 0, 0, 0], [1, 0, 0, 1, 0, 0], [1, 0, 0, 0, 0, 0], [1, 0, 1, 0, 0, 0], [1, 0, 1, 0, 1, 0], [0, 0, 0, 0, 0, 0], [0, 0, 0, 0, 0, 0], [0, 0, 0, 0, 0, 0], [0, 0, 0, 0, 0, 0], [0, 0, 0, 0, 0, 0], [1, 0, 1, 0, 1, 0], [1, 0, 0, 0, 0, 0], [1, 0, 0, 0, 0, 0], [0, 0, 0, 0, 0, 0], [1, 0, 0, 0, 0, 0], [1, 0, 0, 0, 1, 0], [1, 0, 1, 0, 1, 0], [1, 1, 1, 0, 1, 0], [0, 0, 0, 0, 0, 0], [0, 0, 0, 0, 0, 0], [1, 0, 0, 0, 0, 0], [1, 1, 1, 0, 1, 0], [0, 0, 0, 0, 0, 0], [1, 0, 0, 0, 0, 0], [1, 1, 1, 1, 1, 0], [0, 0, 0, 0, 0, 0], [0, 0, 0, 0, 0, 0], [0, 0, 0, 0, 0, 0], [0, 0, 0, 0, 0, 0], [0, 0, 0, 0, 0, 0], [1, 0, 1, 0, 1, 0], [1, 0, 1, 0, 1, 0], [1, 1, 1, 0, 1, 0], [0, 0, 0, 0, 0, 0], [1, 0, 1, 0, 1, 0], [1, 0, 1, 0, 0, 0], [0, 0, 0, 0, 0, 0], [1, 0, 1, 0, 1, 0], [1, 0, 1, 0, 1, 0], [1, 0, 0, 0, 1, 0], [1, 0, 0, 0, 0, 0], [1, 1, 1, 1, 1, 0], [1, 0, 1, 0, 1, 0], [1, 1, 1, 0, 1, 0], [1, 0, 0, 0, 0, 0], [1, 0, 1, 0, 1, 0], [1, 0, 1, 0, 1, 0], [0, 0, 0, 0, 0, 0], [0, 0, 0, 0, 0, 0], [1, 0, 0, 0, 0, 0], [1, 0, 1, 0, 1, 1], [0, 0, 0, 0, 0, 0], [1, 0, 1, 0, 1, 1], [1, 0, 0, 0, 0, 0], [0, 0, 0, 0, 0, 0], [1, 1, 1, 1, 1, 1], [1, 0, 1, 0, 1, 0], [0, 0, 0, 0, 0, 0], [0, 0, 0, 0, 0, 0], [0, 0, 0, 0, 0, 0], [1, 0, 1, 0, 0, 0], [0, 0, 0, 0, 0, 0], [0, 0, 0, 0, 0, 0], [1, 0, 1, 0, 1, 0], [1, 0, 1, 0, 1, 0], [1, 0, 1, 0, 1, 0], [1, 0, 0, 0, 0, 1], [0, 0, 0, 0, 0, 0], [0, 0, 0, 0, 0, 0], [0, 0, 0, 0, 0, 0], [1, 0, 0, 0, 1, 0], [1, 1, 1, 0, 1, 0], [0, 0, 0, 0, 0, 0], [1, 0, 0, 0, 0, 0], [1, 1, 1, 0, 1, 1], [0, 0, 0, 0, 0, 0], [0, 0, 0, 0, 0, 0], [1, 1, 1, 0, 1, 0], [1, 0, 0, 0, 0, 0], [1, 1, 1, 0, 1, 0], [0, 0, 0, 0, 0, 0], [1, 0, 1, 0, 1, 0], [0, 0, 0, 0, 0, 0], [1, 1, 1, 0, 1, 0], [0, 0, 0, 0, 0, 0], [0, 0, 0, 0, 0, 0], [1, 1, 1, 0, 1, 0], [1, 0, 1, 0, 1, 0], [0, 0, 0, 0, 0, 0], [1, 0, 0, 0, 0, 0], [0, 0, 0, 0, 0, 0], [0, 0, 0, 0, 0, 0], [1, 0, 1, 0, 1, 0], [0, 0, 0, 0, 0, 0], [1, 1, 1, 0, 1, 0], [0, 0, 0, 0, 0, 0], [0, 0, 0, 0, 0, 0], [0, 0, 0, 0, 0, 0], [0, 0, 0, 0, 0, 0], [0, 0, 0, 0, 0, 0], [0, 0, 0, 0, 0, 0], [0, 0, 0, 0, 0, 0], [0, 0, 0, 0, 0, 0], [1, 0, 1, 0, 1, 0], [1, 0, 0, 0, 1, 0], [0, 0, 0, 0, 0, 0], [1, 0, 0, 0, 0, 0], [1, 0, 1, 0, 0, 0], [1, 0, 0, 0, 1, 0], [1, 0, 1, 0, 1, 0], [0, 0, 0, 0, 0, 0], [1, 0, 1, 0, 0, 0], [1, 1, 1, 0, 1, 0], [1, 0, 0, 0, 1, 0], [1, 0, 1, 0, 1, 0], [0, 0, 0, 0, 0, 0], [1, 0, 0, 0, 0, 0], [0, 0, 0, 0, 0, 0], [1, 0, 0, 0, 1, 1], [1, 1, 1, 0, 1, 1], [1, 0, 0, 0, 1, 1], [1, 0, 1, 0, 0, 0], [1, 0, 1, 0, 1, 0], [0, 0, 0, 0, 0, 0], [0, 0, 0, 0, 0, 0], [1, 0, 0, 0, 0, 0], [1, 0, 1, 0, 0, 0], [1, 0, 0, 0, 0, 0], [1, 1, 1, 0, 1, 0], [0, 0, 0, 0, 0, 0], [1, 0, 1, 1, 1, 0], [1, 0, 1, 0, 0, 0], [0, 0, 0, 0, 0, 0], [1, 0, 1, 0, 1, 0], [1, 0, 1, 0, 1, 0], [1, 0, 1, 0, 1, 0], [1, 0, 1, 0, 1, 0], [0, 0, 0, 0, 0, 0], [0, 0, 0, 0, 0, 0], [0, 0, 0, 0, 0, 0], [1, 0, 1, 0, 1, 1], [1, 0, 1, 0, 0, 0], [1, 1, 1, 0, 1, 0], [0, 0, 0, 0, 0, 0], [0, 0, 0, 0, 0, 0], [1, 1, 1, 0, 1, 0], [0, 0, 0, 0, 0, 0], [1, 0, 0, 1, 1, 0], [1, 0, 0, 0, 0, 0], [0, 0, 0, 0, 0, 0], [1, 0, 0, 0, 1, 0], [0, 0, 0, 0, 0, 0], [0, 0, 0, 0, 0, 0], [1, 0, 0, 0, 0, 0], [1, 1, 1, 0, 1, 0], [0, 0, 0, 0, 0, 0], [0, 0, 0, 0, 0, 0], [1, 0, 1, 0, 1, 0], [1, 0, 1, 0, 1, 0], [0, 0, 0, 0, 0, 0], [1, 0, 1, 0, 1, 0], [1, 0, 0, 0, 0, 0], [1, 0, 0, 0, 1, 0], [1, 0, 1, 0, 1, 0], [0, 0, 0, 0, 0, 0], [1, 0, 1, 0, 1, 0], [1, 0, 0, 0, 1, 0], [0, 0, 0, 0, 0, 0], [1, 0, 1, 0, 1, 1], [0, 0, 0, 0, 0, 0], [0, 0, 0, 0, 0, 0], [0, 0, 0, 0, 0, 0], [1, 0, 1, 0, 1, 0], [1, 0, 1, 0, 1, 0], [1, 1, 1, 0, 1, 0], [0, 0, 0, 0, 0, 0], [1, 0, 0, 0, 1, 0], [0, 0, 0, 0, 0, 0], [0, 0, 0, 0, 0, 0], [1, 0, 1, 0, 1, 0], [1, 0, 1, 0, 1, 0], [0, 0, 0, 0, 0, 0], [0, 0, 0, 0, 0, 0], [0, 0, 0, 0, 0, 0], [1, 0, 1, 0, 0, 0], [1, 0, 1, 0, 1, 0], [0, 0, 0, 0, 0, 0], [0, 0, 0, 0, 0, 0], [1, 0, 0, 0, 0, 1], [0, 0, 0, 0, 0, 0], [0, 0, 0, 0, 0, 0], [1, 0, 1, 0, 1, 0], [0, 0, 0, 0, 0, 0], [0, 0, 0, 0, 0, 0], [1, 0, 1, 0, 1, 0], [1, 0, 0, 0, 0, 0], [1, 0, 0, 0, 0, 0], [0, 0, 0, 0, 0, 0], [1, 1, 1, 0, 1, 0], [0, 0, 0, 0, 0, 0], [0, 0, 0, 0, 0, 0], [0, 0, 0, 0, 0, 0], [1, 0, 1, 0, 1, 1], [1, 0, 0, 0, 0, 0], [1, 0, 0, 0, 0, 0], [1, 0, 1, 0, 1, 0], [1, 0, 0, 0, 1, 1], [1, 1, 1, 1, 1, 0], [1, 0, 1, 0, 1, 0], [0, 0, 0, 0, 0, 0], [1, 0, 0, 0, 0, 0], [0, 0, 0, 0, 0, 0], [1, 0, 1, 0, 1, 0], [1, 0, 0, 0, 0, 0], [0, 0, 0, 0, 0, 0], [0, 0, 0, 0, 0, 0], [0, 0, 0, 0, 0, 0], [0, 0, 0, 0, 0, 0], [0, 0, 0, 0, 0, 0], [0, 0, 0, 0, 0, 0], [0, 0, 0, 0, 0, 0], [1, 1, 1, 0, 1, 0], [0, 0, 0, 0, 0, 0], [0, 0, 0, 0, 0, 0], [1, 0, 0, 0, 1, 0], [1, 0, 1, 0, 1, 1], [0, 0, 0, 0, 0, 0], [0, 0, 0, 0, 0, 0], [0, 0, 0, 0, 0, 0], [0, 0, 0, 0, 0, 0], [1, 0, 0, 0, 0, 0], [0, 0, 0, 0, 0, 0], [1, 0, 0, 0, 0, 0], [1, 0, 1, 0, 1, 0], [1, 0, 0, 0, 1, 0], [0, 0, 0, 0, 0, 0], [1, 0, 1, 0, 1, 1], [1, 0, 1, 0, 0, 0], [0, 0, 0, 0, 0, 0], [0, 0, 0, 0, 0, 0], [0, 0, 0, 0, 0, 0], [0, 0, 0, 0, 0, 0], [0, 0, 0, 0, 0, 0], [0, 0, 0, 0, 0, 0], [1, 0, 0, 0, 0, 0], [1, 0, 0, 0, 0, 0], [1, 0, 0, 0, 1, 0], [1, 0, 0, 0, 0, 0], [0, 0, 0, 0, 0, 0], [1, 1, 1, 0, 1, 1], [1, 0, 1, 0, 0, 0], [0, 0, 0, 0, 0, 0], [0, 0, 0, 0, 0, 0], [0, 0, 0, 0, 0, 0], [0, 0, 0, 0, 0, 0], [1, 0, 0, 0, 1, 0], [0, 0, 0, 0, 0, 0], [0, 0, 0, 0, 0, 0], [1, 0, 0, 0, 0, 0], [1, 0, 0, 0, 1, 0], [1, 0, 0, 0, 0, 1], [1, 0, 0, 0, 0, 0], [1, 1, 1, 0, 1, 1], [0, 0, 0, 0, 0, 0], [1, 0, 1, 0, 0, 0], [1, 0, 0, 0, 0, 0], [0, 0, 0, 0, 0, 0], [1, 1, 1, 0, 1, 0], [1, 0, 1, 0, 1, 0], [0, 0, 0, 0, 0, 0], [1, 1, 1, 0, 1, 0], [1, 0, 0, 0, 0, 0], [0, 0, 0, 0, 0, 0], [1, 0, 1, 1, 1, 0], [1, 0, 0, 0, 0, 0], [0, 0, 0, 0, 0, 0], [1, 0, 0, 1, 0, 0], [0, 0, 0, 0, 0, 0], [1, 0, 0, 0, 1, 0], [1, 0, 1, 0, 0, 0], [0, 0, 0, 0, 0, 0], [1, 0, 0, 0, 1, 0], [0, 0, 0, 0, 0, 0], [1, 0, 1, 0, 1, 0], [0, 0, 0, 0, 0, 0], [1, 0, 1, 0, 1, 0], [1, 0, 1, 0, 0, 0], [1, 0, 0, 0, 1, 0], [1, 0, 1, 0, 1, 0], [0, 0, 0, 0, 0, 0], [0, 0, 0, 0, 0, 0], [1, 0, 0, 0, 0, 0], [0, 0, 0, 0, 0, 0], [0, 0, 0, 0, 0, 0], [0, 0, 0, 0, 0, 0], [0, 0, 0, 0, 0, 0], [1, 0, 1, 0, 1, 0], [0, 0, 0, 0, 0, 0], [0, 0, 0, 0, 0, 0], [0, 0, 0, 0, 0, 0], [1, 0, 0, 0, 0, 0], [0, 0, 0, 0, 0, 0], [0, 0, 0, 0, 0, 0], [0, 0, 0, 0, 0, 0], [0, 0, 0, 0, 0, 0], [1, 0, 0, 0, 0, 0], [1, 0, 0, 0, 0, 0], [0, 0, 0, 0, 0, 0], [0, 0, 0, 0, 0, 0], [0, 0, 0, 0, 0, 0], [1, 0, 0, 0, 0, 0], [1, 0, 1, 0, 1, 0], [1, 0, 0, 1, 0, 0], [0, 0, 0, 0, 0, 0], [0, 0, 0, 0, 0, 0], [1, 0, 1, 0, 1, 0], [1, 1, 1, 0, 1, 0], [1, 0, 1, 0, 0, 0], [1, 1, 1, 0, 1, 0], [0, 0, 0, 0, 0, 0], [1, 1, 1, 0, 1, 0], [0, 0, 0, 0, 0, 0], [1, 0, 1, 0, 1, 0], [1, 0, 0, 0, 0, 0], [0, 0, 0, 0, 0, 0], [1, 1, 1, 0, 1, 0], [1, 0, 0, 0, 1, 0], [1, 0, 1, 0, 1, 1], [0, 0, 0, 0, 0, 0], [1, 1, 1, 0, 1, 0], [1, 0, 0, 0, 1, 0], [1, 1, 1, 0, 1, 0], [1, 0, 0, 1, 0, 0], [1, 0, 0, 0, 1, 0], [0, 0, 0, 0, 0, 0], [1, 0, 0, 0, 0, 0], [1, 0, 1, 0, 1, 0], [1, 0, 1, 0, 1, 0], [1, 0, 0, 0, 1, 0], [1, 0, 1, 0, 1, 0], [0, 0, 0, 0, 0, 0], [0, 0, 0, 0, 0, 0], [0, 0, 0, 0, 0, 0], [1, 0, 0, 0, 0, 0], [1, 0, 1, 0, 1, 1], [1, 0, 1, 0, 1, 0], [1, 0, 0, 0, 1, 0], [1, 1, 1, 1, 1, 0], [0, 0, 0, 0, 0, 0], [0, 0, 0, 0, 0, 0], [1, 0, 0, 0, 0, 0], [0, 0, 0, 0, 0, 0], [0, 0, 0, 0, 0, 0], [1, 0, 1, 0, 1, 0], [1, 0, 0, 0, 0, 0], [0, 0, 0, 0, 0, 0], [0, 0, 0, 0, 0, 0], [1, 1, 1, 0, 1, 1], [0, 0, 0, 0, 0, 0], [1, 0, 1, 0, 1, 0], [1, 0, 1, 1, 1, 0], [1, 0, 1, 0, 0, 0], [1, 0, 1, 0, 1, 0], [0, 0, 0, 0, 0, 0], [1, 0, 1, 0, 1, 0], [0, 0, 0, 0, 0, 0], [0, 0, 0, 0, 0, 0], [0, 0, 0, 0, 0, 0], [1, 0, 0, 0, 0, 0], [0, 0, 0, 0, 0, 0], [0, 0, 0, 0, 0, 0], [1, 0, 0, 0, 1, 0], [1, 0, 0, 0, 0, 0], [0, 0, 0, 0, 0, 0], [0, 0, 0, 0, 0, 0], [1, 0, 1, 0, 0, 0], [0, 0, 0, 0, 0, 0], [1, 0, 1, 0, 1, 0], [1, 0, 0, 0, 0, 0], [0, 0, 0, 0, 0, 0], [0, 0, 0, 0, 0, 0], [0, 0, 0, 0, 0, 0], [1, 1, 1, 0, 1, 0], [1, 0, 0, 0, 1, 0], [1, 0, 1, 0, 1, 0], [0, 0, 0, 0, 0, 0], [0, 0, 0, 0, 0, 0], [0, 0, 0, 0, 0, 0], [1, 0, 1, 0, 1, 0], [1, 0, 0, 0, 0, 0], [0, 0, 0, 0, 0, 0], [1, 1, 1, 0, 1, 0], [0, 0, 0, 0, 0, 0], [0, 0, 0, 0, 0, 0], [1, 0, 0, 0, 0, 0], [0, 0, 0, 0, 0, 0], [1, 1, 1, 1, 1, 0], [1, 0, 0, 0, 0, 0], [0, 0, 0, 0, 0, 0], [0, 0, 0, 0, 0, 0], [1, 0, 0, 0, 0, 0], [1, 0, 1, 0, 1, 0], [0, 0, 0, 0, 0, 0], [1, 1, 1, 0, 1, 0], [0, 0, 0, 0, 0, 0], [0, 0, 0, 0, 0, 0], [0, 0, 0, 0, 0, 0], [0, 0, 0, 0, 0, 0], [1, 0, 1, 0, 1, 0], [0, 0, 0, 0, 0, 0], [0, 0, 0, 0, 0, 0], [0, 0, 0, 0, 0, 0], [1, 0, 0, 0, 0, 0], [1, 0, 1, 0, 1, 0], [0, 0, 0, 0, 0, 0], [0, 0, 0, 0, 0, 0], [1, 0, 0, 0, 0, 0], [0, 0, 0, 0, 0, 0], [0, 0, 0, 0, 0, 0], [0, 0, 0, 0, 0, 0], [1, 0, 0, 0, 0, 0], [1, 0, 0, 0, 0, 0], [1, 0, 1, 0, 1, 0], [0, 0, 0, 0, 0, 0], [1, 0, 0, 0, 0, 0], [0, 0, 0, 0, 0, 0], [1, 0, 0, 0, 0, 0], [1, 0, 1, 0, 1, 0], [1, 0, 1, 0, 1, 0], [0, 0, 0, 0, 0, 0], [1, 1, 1, 0, 1, 1], [1, 0, 0, 0, 0, 0], [1, 0, 0, 0, 0, 0], [1, 0, 0, 0, 1, 0], [1, 0, 0, 0, 1, 0], [1, 0, 1, 0, 1, 0], [1, 0, 0, 0, 1, 0], [1, 0, 1, 0, 1, 0], [1, 0, 1, 0, 0, 0], [0, 0, 0, 0, 0, 0], [0, 0, 0, 0, 0, 0], [0, 0, 0, 0, 0, 0], [1, 0, 0, 0, 0, 0], [0, 0, 0, 0, 0, 0], [0, 0, 0, 0, 0, 0], [0, 0, 0, 0, 0, 0], [1, 0, 1, 0, 1, 0], [0, 0, 0, 0, 0, 0], [0, 0, 0, 0, 0, 0], [0, 0, 0, 0, 0, 0], [1, 1, 1, 1, 1, 0], [1, 0, 1, 0, 1, 0], [1, 0, 0, 0, 0, 0], [0, 0, 0, 0, 0, 0], [0, 0, 0, 0, 0, 0], [0, 0, 0, 0, 0, 0], [0, 0, 0, 0, 0, 0], [1, 0, 1, 0, 0, 0], [1, 0, 1, 0, 0, 0], [0, 0, 0, 0, 0, 0], [0, 0, 0, 0, 0, 0], [0, 0, 0, 0, 0, 0], [0, 0, 0, 0, 0, 0], [1, 0, 0, 0, 0, 0], [1, 0, 0, 0, 0, 0], [0, 0, 0, 0, 0, 0], [1, 0, 0, 0, 0, 0], [1, 0, 0, 0, 0, 0], [1, 0, 1, 0, 1, 0], [0, 0, 0, 0, 0, 0], [0, 0, 0, 0, 0, 0], [1, 0, 1, 0, 1, 0], [1, 0, 0, 0, 1, 0], [0, 0, 0, 0, 0, 0], [1, 0, 0, 0, 1, 0], [1, 0, 0, 0, 0, 0], [1, 0, 1, 0, 0, 0], [1, 0, 1, 0, 1, 0], [0, 0, 0, 0, 0, 0], [0, 0, 0, 0, 0, 0], [1, 0, 1, 0, 1, 1], [1, 0, 1, 0, 1, 0], [1, 1, 1, 0, 1, 0], [1, 0, 0, 1, 0, 0], [1, 1, 1, 1, 1, 0], [0, 0, 0, 0, 0, 0], [0, 0, 0, 0, 0, 0], [0, 0, 0, 0, 0, 0], [0, 0, 0, 0, 0, 0], [1, 0, 1, 0, 1, 0], [1, 0, 0, 0, 0, 0], [1, 0, 0, 0, 0, 0], [0, 0, 0, 0, 0, 0], [0, 0, 0, 0, 0, 0], [1, 0, 0, 0, 1, 0], [1, 0, 0, 0, 0, 0], [0, 0, 0, 0, 0, 0], [1, 0, 0, 0, 0, 0], [1, 0, 1, 0, 1, 1], [0, 0, 0, 0, 0, 0], [1, 0, 1, 0, 1, 0], [1, 1, 1, 0, 1, 1], [0, 0, 0, 0, 0, 0], [0, 0, 0, 0, 0, 0], [1, 0, 0, 0, 0, 0], [1, 0, 0, 0, 0, 0], [0, 0, 0, 0, 0, 0], [1, 0, 0, 0, 0, 0], [1, 1, 1, 0, 1, 0], [0, 0, 0, 0, 0, 0], [0, 0, 0, 0, 0, 0], [1, 0, 1, 0, 1, 0], [0, 0, 0, 0, 0, 0], [0, 0, 0, 0, 0, 0], [0, 0, 0, 0, 0, 0], [1, 1, 1, 0, 1, 0], [1, 0, 0, 0, 0, 0], [1, 0, 1, 0, 1, 0], [0, 0, 0, 0, 0, 0], [0, 0, 0, 0, 0, 0], [1, 0, 1, 0, 1, 0], [1, 0, 1, 1, 0, 0], [1, 0, 0, 0, 0, 0], [0, 0, 0, 0, 0, 0], [1, 0, 0, 0, 1, 0], [1, 0, 1, 0, 1, 0], [0, 0, 0, 0, 0, 0], [0, 0, 0, 0, 0, 0], [1, 0, 0, 0, 0, 1], [1, 0, 0, 0, 1, 0], [1, 0, 0, 0, 0, 0], [0, 0, 0, 0, 0, 0], [0, 0, 0, 0, 0, 0], [0, 0, 0, 0, 0, 0], [1, 1, 1, 0, 1, 0], [1, 0, 0, 0, 0, 0], [1, 0, 1, 0, 1, 0], [0, 0, 0, 0, 0, 0], [0, 0, 0, 0, 0, 0], [0, 0, 0, 0, 0, 0], [0, 0, 0, 0, 0, 0], [1, 0, 1, 0, 1, 0], [1, 0, 1, 0, 1, 0], [0, 0, 0, 0, 0, 0], [1, 0, 1, 0, 1, 0], [0, 0, 0, 0, 0, 0], [0, 0, 0, 0, 0, 0], [1, 0, 1, 0, 0, 0], [0, 0, 0, 0, 0, 0], [0, 0, 0, 0, 0, 0], [0, 0, 0, 0, 0, 0], [0, 0, 0, 0, 0, 0], [1, 1, 1, 0, 1, 0], [1, 0, 0, 0, 0, 0], [1, 1, 1, 0, 1, 0], [1, 0, 0, 0, 0, 1], [0, 0, 0, 0, 0, 0], [1, 1, 1, 0, 1, 1], [1, 0, 1, 0, 1, 0], [1, 0, 0, 0, 1, 0], [1, 0, 0, 0, 0, 0], [0, 0, 0, 0, 0, 0], [0, 0, 0, 0, 0, 0], [0, 0, 0, 0, 0, 0], [1, 0, 1, 0, 1, 0], [0, 0, 0, 0, 0, 0], [0, 0, 0, 0, 0, 0], [0, 0, 0, 0, 0, 0], [1, 1, 1, 0, 1, 0], [1, 0, 1, 0, 0, 0], [1, 0, 0, 0, 1, 0], [0, 0, 0, 0, 0, 0], [0, 0, 0, 0, 0, 0], [0, 0, 0, 0, 0, 0], [1, 0, 0, 0, 0, 0], [0, 0, 0, 0, 0, 0], [1, 0, 1, 0, 1, 0], [1, 0, 1, 0, 1, 0], [0, 0, 0, 0, 0, 0], [0, 0, 0, 0, 0, 0], [0, 0, 0, 0, 0, 0], [0, 0, 0, 0, 0, 0], [1, 0, 1, 0, 1, 0], [1, 0, 0, 0, 0, 0], [0, 0, 0, 0, 0, 0], [1, 0, 0, 0, 1, 0], [0, 0, 0, 0, 0, 0], [1, 0, 0, 0, 0, 0], [1, 1, 1, 0, 1, 0], [0, 0, 0, 0, 0, 0], [1, 0, 1, 0, 1, 0], [0, 0, 0, 0, 0, 0], [0, 0, 0, 0, 0, 0], [0, 0, 0, 0, 0, 0], [1, 0, 1, 0, 1, 0], [0, 0, 0, 0, 0, 0], [1, 0, 0, 0, 0, 0], [1, 0, 0, 0, 1, 1], [0, 0, 0, 0, 0, 0], [0, 0, 0, 0, 0, 0], [1, 0, 0, 1, 0, 0], [0, 0, 0, 0, 0, 0], [0, 0, 0, 0, 0, 0], [1, 0, 0, 0, 1, 1], [1, 0, 0, 0, 1, 0], [1, 0, 0, 0, 0, 0], [0, 0, 0, 0, 0, 0], [1, 0, 0, 0, 0, 0], [0, 0, 0, 0, 0, 0], [1, 0, 0, 0, 0, 0], [1, 0, 0, 0, 1, 0], [0, 0, 0, 0, 0, 0], [1, 0, 0, 0, 0, 0], [0, 0, 0, 0, 0, 0], [0, 0, 0, 0, 0, 0], [0, 0, 0, 0, 0, 0], [1, 1, 1, 0, 1, 1], [1, 0, 0, 0, 0, 0], [1, 0, 0, 0, 0, 0], [1, 0, 0, 0, 0, 0], [1, 0, 1, 0, 1, 0], [1, 0, 1, 0, 1, 1], [0, 0, 0, 0, 0, 0], [0, 0, 0, 0, 0, 0], [0, 0, 0, 0, 0, 0], [1, 0, 0, 0, 1, 0], [0, 0, 0, 0, 0, 0], [0, 0, 0, 0, 0, 0], [1, 0, 0, 0, 0, 0], [0, 0, 0, 0, 0, 0], [0, 0, 0, 0, 0, 0], [0, 0, 0, 0, 0, 0], [1, 0, 0, 0, 0, 0], [1, 0, 1, 0, 1, 1], [1, 0, 1, 0, 1, 0], [1, 0, 1, 0, 1, 0], [1, 1, 1, 0, 1, 1], [1, 0, 1, 0, 0, 0], [0, 0, 0, 0, 0, 0], [1, 0, 1, 0, 1, 0], [0, 0, 0, 0, 0, 0], [1, 0, 0, 0, 0, 0], [0, 0, 0, 0, 0, 0], [0, 0, 0, 0, 0, 0], [1, 0, 0, 0, 0, 0], [0, 0, 0, 0, 0, 0], [1, 0, 0, 0, 0, 0], [0, 0, 0, 0, 0, 0], [0, 0, 0, 0, 0, 0], [1, 0, 0, 0, 0, 0], [1, 0, 1, 0, 1, 1], [1, 1, 1, 1, 1, 0], [0, 0, 0, 0, 0, 0], [1, 1, 1, 0, 1, 1], [1, 0, 0, 0, 0, 0], [0, 0, 0, 0, 0, 0], [1, 0, 1, 0, 1, 0], [0, 0, 0, 0, 0, 0], [0, 0, 0, 0, 0, 0], [0, 0, 0, 0, 0, 0], [1, 0, 0, 0, 0, 0], [1, 0, 0, 0, 0, 0], [1, 0, 1, 0, 0, 0], [0, 0, 0, 0, 0, 0], [1, 0, 0, 0, 1, 0], [1, 0, 1, 0, 1, 0], [1, 0, 1, 0, 1, 0], [0, 0, 0, 0, 0, 0], [1, 0, 0, 0, 0, 0], [0, 0, 0, 0, 0, 0], [0, 0, 0, 0, 0, 0], [0, 0, 0, 0, 0, 0], [0, 0, 0, 0, 0, 0], [1, 0, 1, 0, 1, 0], [0, 0, 0, 0, 0, 0], [1, 1, 1, 0, 1, 0], [0, 0, 0, 0, 0, 0], [0, 0, 0, 0, 0, 0], [1, 0, 1, 0, 0, 0], [1, 1, 1, 0, 1, 0], [0, 0, 0, 0, 0, 0], [1, 0, 0, 0, 0, 0], [1, 0, 0, 0, 1, 0], [0, 0, 0, 0, 0, 0], [1, 0, 1, 0, 1, 0], [0, 0, 0, 0, 0, 0], [0, 0, 0, 0, 0, 0], [0, 0, 0, 0, 0, 0], [1, 1, 1, 1, 1, 0], [0, 0, 0, 0, 0, 0], [0, 0, 0, 0, 0, 0], [1, 0, 0, 0, 0, 0], [1, 0, 1, 0, 1, 0], [0, 0, 0, 0, 0, 0], [0, 0, 0, 0, 0, 0], [1, 0, 1, 0, 0, 0], [0, 0, 0, 0, 0, 0], [1, 0, 0, 0, 0, 0], [0, 0, 0, 0, 0, 0], [0, 0, 0, 0, 0, 0], [1, 0, 0, 0, 0, 0], [0, 0, 0, 0, 0, 0], [0, 0, 0, 0, 0, 0], [1, 0, 1, 0, 1, 0], [0, 0, 0, 0, 0, 0], [0, 0, 0, 0, 0, 0], [0, 0, 0, 0, 0, 0], [0, 0, 0, 0, 0, 0], [1, 0, 1, 0, 1, 0], [1, 0, 0, 0, 0, 0], [0, 0, 0, 0, 0, 0], [1, 1, 1, 0, 1, 0], [0, 0, 0, 0, 0, 0], [1, 0, 1, 0, 0, 0], [0, 0, 0, 0, 0, 0], [1, 0, 1, 0, 1, 0], [0, 0, 0, 0, 0, 0], [1, 0, 1, 0, 0, 0], [0, 0, 0, 0, 0, 0], [1, 0, 0, 0, 0, 0], [1, 0, 1, 0, 0, 0], [0, 0, 0, 0, 0, 0], [0, 0, 0, 0, 0, 0], [0, 0, 0, 0, 0, 0], [1, 0, 1, 0, 1, 0], [0, 0, 0, 0, 0, 0], [1, 0, 1, 0, 1, 0], [0, 0, 0, 0, 0, 0], [0, 0, 0, 0, 0, 0], [1, 0, 0, 1, 1, 0], [1, 0, 1, 0, 1, 0], [0, 0, 0, 0, 0, 0], [0, 0, 0, 0, 0, 0], [1, 0, 1, 0, 0, 0], [0, 0, 0, 0, 0, 0], [0, 0, 0, 0, 0, 0], [0, 0, 0, 0, 0, 0], [0, 0, 0, 0, 0, 0], [0, 0, 0, 0, 0, 0], [1, 0, 1, 0, 1, 0], [0, 0, 0, 0, 0, 0], [1, 0, 0, 0, 0, 0], [1, 1, 1, 0, 1, 0], [1, 0, 0, 0, 0, 0], [1, 0, 0, 0, 0, 0], [1, 0, 0, 0, 0, 0], [1, 0, 0, 1, 1, 0], [0, 0, 0, 0, 0, 0], [1, 0, 0, 0, 1, 0], [1, 0, 0, 0, 0, 0], [1, 0, 0, 0, 1, 0], [1, 0, 0, 0, 0, 0], [1, 1, 1, 0, 1, 0], [1, 0, 0, 0, 0, 0], [0, 0, 0, 0, 0, 0], [1, 0, 1, 0, 0, 0], [0, 0, 0, 0, 0, 0], [0, 0, 0, 0, 0, 0], [1, 0, 0, 0, 1, 0], [1, 0, 0, 0, 0, 0], [1, 0, 0, 0, 0, 0], [1, 1, 1, 0, 1, 0], [0, 0, 0, 0, 0, 0], [0, 0, 0, 0, 0, 0], [0, 0, 0, 0, 0, 0], [1, 0, 1, 0, 1, 0], [0, 0, 0, 0, 0, 0], [1, 1, 1, 0, 1, 1], [1, 0, 0, 0, 0, 0], [1, 0, 0, 0, 0, 0], [0, 0, 0, 0, 0, 0], [1, 0, 0, 0, 1, 0], [1, 0, 1, 0, 1, 0], [0, 0, 0, 0, 0, 0], [0, 0, 0, 0, 0, 0], [0, 0, 0, 0, 0, 0], [1, 0, 1, 0, 1, 0], [0, 0, 0, 0, 0, 0], [1, 1, 1, 0, 1, 0], [1, 0, 0, 0, 0, 0], [0, 0, 0, 0, 0, 0], [1, 1, 1, 0, 1, 0], [1, 0, 1, 0, 1, 0], [1, 0, 1, 0, 0, 0], [1, 0, 0, 0, 1, 0], [1, 0, 0, 0, 0, 0], [0, 0, 0, 0, 0, 0], [0, 0, 0, 0, 0, 0], [0, 0, 0, 0, 0, 0], [1, 0, 1, 0, 1, 0], [0, 0, 0, 0, 0, 0], [1, 1, 1, 0, 1, 0], [1, 0, 0, 0, 0, 0], [1, 0, 1, 0, 1, 0], [0, 0, 0, 0, 0, 0], [0, 0, 0, 0, 0, 0], [0, 0, 0, 0, 0, 0], [0, 0, 0, 0, 0, 0], [1, 0, 0, 0, 0, 0], [1, 0, 1, 0, 1, 1]]\n"
          ]
        }
      ]
    },
    {
      "cell_type": "code",
      "source": [
        "multilabel_confusion_matrix(y_true, y_pred)"
      ],
      "metadata": {
        "colab": {
          "base_uri": "https://localhost:8080/"
        },
        "id": "7cV1h6oTz3yS",
        "outputId": "eaca5616-90c4-49c1-b204-0e79734e3266"
      },
      "execution_count": null,
      "outputs": [
        {
          "output_type": "execute_result",
          "data": {
            "text/plain": [
              "array([[[1484,  264],\n",
              "        [  23, 1452]],\n",
              "\n",
              "       [[2903,  171],\n",
              "        [  38,  111]],\n",
              "\n",
              "       [[2189,  211],\n",
              "        [  62,  761]],\n",
              "\n",
              "       [[3124,   56],\n",
              "        [  11,   32]],\n",
              "\n",
              "       [[2099,  356],\n",
              "        [  83,  685]],\n",
              "\n",
              "       [[3018,   67],\n",
              "        [  50,   88]]])"
            ]
          },
          "metadata": {},
          "execution_count": 42
        }
      ]
    },
    {
      "cell_type": "code",
      "source": [
        "print(classification_report(y_true, y_pred,target_names=TARGETS))"
      ],
      "metadata": {
        "colab": {
          "base_uri": "https://localhost:8080/"
        },
        "id": "XIWk9O8toJZH",
        "outputId": "0efbc302-1f57-4642-a491-5a201fb25baf"
      },
      "execution_count": null,
      "outputs": [
        {
          "output_type": "stream",
          "name": "stdout",
          "text": [
            "               precision    recall  f1-score   support\n",
            "\n",
            "        toxic       0.85      0.98      0.91      1475\n",
            " severe_toxic       0.39      0.74      0.52       149\n",
            "      obscene       0.78      0.92      0.85       823\n",
            "       threat       0.36      0.74      0.49        43\n",
            "       insult       0.66      0.89      0.76       768\n",
            "identity_hate       0.57      0.64      0.60       138\n",
            "\n",
            "    micro avg       0.74      0.92      0.82      3396\n",
            "    macro avg       0.60      0.82      0.69      3396\n",
            " weighted avg       0.75      0.92      0.83      3396\n",
            "  samples avg       0.38      0.45      0.39      3396\n",
            "\n"
          ]
        },
        {
          "output_type": "stream",
          "name": "stderr",
          "text": [
            "/usr/local/lib/python3.7/dist-packages/sklearn/metrics/_classification.py:1318: UndefinedMetricWarning: Precision and F-score are ill-defined and being set to 0.0 in samples with no predicted labels. Use `zero_division` parameter to control this behavior.\n",
            "  _warn_prf(average, modifier, msg_start, len(result))\n",
            "/usr/local/lib/python3.7/dist-packages/sklearn/metrics/_classification.py:1318: UndefinedMetricWarning: Recall and F-score are ill-defined and being set to 0.0 in samples with no true labels. Use `zero_division` parameter to control this behavior.\n",
            "  _warn_prf(average, modifier, msg_start, len(result))\n"
          ]
        }
      ]
    },
    {
      "cell_type": "code",
      "source": [
        "i=0\n",
        "for label in TARGETS:\n",
        "  plt.figure(figsize=(5,20))\n",
        "  print(label)\n",
        "  plt.subplot(6,1,i+1)\n",
        "  true= [values[i] for values in y_true]\n",
        "  pred= [values[i] for values in y_pred]\n",
        "  i+=1\n",
        "  print(classification_report(true,pred))\n",
        "  ax=sns.heatmap(confusion_matrix(true,pred), annot=True)\n",
        "  ax.set_title(f'Validation Data Confusion Matrix for label {label}')\n",
        "  ax.set_xlabel('\\nPredicted Values')\n",
        "  ax.set_ylabel('Actual Values ')\n",
        "\n",
        "  ax.xaxis.set_ticklabels(['False','True'])\n",
        "  ax.yaxis.set_ticklabels(['False','True'])\n",
        "  # plt.tight_layout(pad=0.54, w_pad=2)\n",
        "  plt.show()\n",
        "  print(\"\\n\\n\")"
      ],
      "metadata": {
        "colab": {
          "base_uri": "https://localhost:8080/",
          "height": 1000
        },
        "id": "TvjM00aWk5-_",
        "outputId": "799386c1-7bc5-47b5-be16-67dcf343103f"
      },
      "execution_count": null,
      "outputs": [
        {
          "output_type": "stream",
          "name": "stdout",
          "text": [
            "toxic\n",
            "              precision    recall  f1-score   support\n",
            "\n",
            "         0.0       0.98      0.85      0.91      1748\n",
            "         1.0       0.85      0.98      0.91      1475\n",
            "\n",
            "    accuracy                           0.91      3223\n",
            "   macro avg       0.91      0.91      0.91      3223\n",
            "weighted avg       0.92      0.91      0.91      3223\n",
            "\n"
          ]
        },
        {
          "output_type": "display_data",
          "data": {
            "text/plain": [
              "<Figure size 360x1440 with 2 Axes>"
            ],
            "image/png": "[encoded data removed]"
          },
          "metadata": {
            "needs_background": "light"
          }
        },
        {
          "output_type": "stream",
          "name": "stdout",
          "text": [
            "\n",
            "\n",
            "\n",
            "severe_toxic\n",
            "              precision    recall  f1-score   support\n",
            "\n",
            "         0.0       0.99      0.94      0.97      3074\n",
            "         1.0       0.40      0.74      0.52       149\n",
            "\n",
            "    accuracy                           0.94      3223\n",
            "   macro avg       0.69      0.84      0.74      3223\n",
            "weighted avg       0.96      0.94      0.94      3223\n",
            "\n"
          ]
        },
        {
          "output_type": "display_data",
          "data": {
            "text/plain": [
              "<Figure size 360x1440 with 2 Axes>"
            ],
            "image/png": "[encoded data removed]"
          },
          "metadata": {
            "needs_background": "light"
          }
        },
        {
          "output_type": "stream",
          "name": "stdout",
          "text": [
            "\n",
            "\n",
            "\n",
            "obscene\n",
            "              precision    recall  f1-score   support\n",
            "\n",
            "         0.0       0.97      0.91      0.94      2400\n",
            "         1.0       0.78      0.92      0.85       823\n",
            "\n",
            "    accuracy                           0.91      3223\n",
            "   macro avg       0.88      0.92      0.89      3223\n",
            "weighted avg       0.92      0.91      0.92      3223\n",
            "\n"
          ]
        },
        {
          "output_type": "display_data",
          "data": {
            "text/plain": [
              "<Figure size 360x1440 with 2 Axes>"
            ],
            "image/png": "[encoded data removed]"
          },
          "metadata": {
            "needs_background": "light"
          }
        },
        {
          "output_type": "stream",
          "name": "stdout",
          "text": [
            "\n",
            "\n",
            "\n",
            "threat\n",
            "              precision    recall  f1-score   support\n",
            "\n",
            "         0.0       1.00      0.98      0.99      3180\n",
            "         1.0       0.36      0.72      0.48        43\n",
            "\n",
            "    accuracy                           0.98      3223\n",
            "   macro avg       0.68      0.85      0.74      3223\n",
            "weighted avg       0.99      0.98      0.98      3223\n",
            "\n"
          ]
        },
        {
          "output_type": "display_data",
          "data": {
            "text/plain": [
              "<Figure size 360x1440 with 2 Axes>"
            ],
            "image/png": "[encoded data removed]"
          },
          "metadata": {
            "needs_background": "light"
          }
        },
        {
          "output_type": "stream",
          "name": "stdout",
          "text": [
            "\n",
            "\n",
            "\n",
            "insult\n",
            "              precision    recall  f1-score   support\n",
            "\n",
            "         0.0       0.96      0.86      0.90      2455\n",
            "         1.0       0.66      0.89      0.75       768\n",
            "\n",
            "    accuracy                           0.86      3223\n",
            "   macro avg       0.81      0.87      0.83      3223\n",
            "weighted avg       0.89      0.86      0.87      3223\n",
            "\n"
          ]
        },
        {
          "output_type": "display_data",
          "data": {
            "text/plain": [
              "<Figure size 360x1440 with 2 Axes>"
            ],
            "image/png": "[encoded data removed]"
          },
          "metadata": {
            "needs_background": "light"
          }
        },
        {
          "output_type": "stream",
          "name": "stdout",
          "text": [
            "\n",
            "\n",
            "\n",
            "identity_hate\n",
            "              precision    recall  f1-score   support\n",
            "\n",
            "         0.0       0.98      0.98      0.98      3085\n",
            "         1.0       0.57      0.64      0.60       138\n",
            "\n",
            "    accuracy                           0.96      3223\n",
            "   macro avg       0.78      0.81      0.79      3223\n",
            "weighted avg       0.97      0.96      0.96      3223\n",
            "\n"
          ]
        },
        {
          "output_type": "display_data",
          "data": {
            "text/plain": [
              "<Figure size 360x1440 with 2 Axes>"
            ],
            "image/png": "[encoded data removed]"
          },
          "metadata": {
            "needs_background": "light"
          }
        },
        {
          "output_type": "stream",
          "name": "stdout",
          "text": [
            "\n",
            "\n",
            "\n"
          ]
        }
      ]
    },
    {
      "cell_type": "markdown",
      "source": [
        "#Test"
      ],
      "metadata": {
        "id": "_gRZMaWd372z"
      }
    },
    {
      "cell_type": "code",
      "source": [
        "example = \"fk you\"\n",
        "encodings = tokenizer.encode_plus(\n",
        "    example,\n",
        "    None,\n",
        "    add_special_tokens=True,\n",
        "    max_length=MAX_LEN,\n",
        "    padding='max_length',\n",
        "    return_token_type_ids=True,\n",
        "    truncation=True,\n",
        "    return_attention_mask=True,\n",
        "    return_tensors='pt'\n",
        ")\n",
        "final_model.eval()\n",
        "with torch.no_grad():\n",
        "    input_ids = encodings['input_ids'].to(device, dtype=torch.long)\n",
        "    attention_mask = encodings['attention_mask'].to(device, dtype=torch.long)\n",
        "    token_type_ids = encodings['token_type_ids'].to(device, dtype=torch.long)\n",
        "    output = model(input_ids, attention_mask, token_type_ids)\n",
        "    final_output = torch.sigmoid(output).cpu().detach().numpy().flatten().tolist()\n",
        "    # print(final_output)\n",
        "    # print(TARGETS[y for y in final_output if y>=0.2])\n",
        "    predictions = []\n",
        "    for idx, label in enumerate(TARGETS):\n",
        "      if final_output[idx] >= 0.2:\n",
        "        predictions.append((label, round(final_output[idx]*100, 2)))\n",
        "\n",
        "if(len(predictions) ==0 ): print(\"Clean Comment\")\n",
        "else: print(predictions)"
      ],
      "metadata": {
        "colab": {
          "base_uri": "https://localhost:8080/"
        },
        "id": "14QP11_C5bqo",
        "outputId": "fd9ff7f4-871b-4898-9358-2b62cb227d90"
      },
      "execution_count": null,
      "outputs": [
        {
          "output_type": "stream",
          "name": "stdout",
          "text": [
            "Clean Comment\n"
          ]
        }
      ]
    },
    {
      "cell_type": "markdown",
      "source": [
        "#FINISH\n",
        "\n",
        "================================================================================================================================================================="
      ],
      "metadata": {
        "id": "_SmK-BoxqB8G"
      }
    },
    {
      "cell_type": "markdown",
      "source": [
        "#Archive"
      ],
      "metadata": {
        "id": "AdnJ5DdRzVzl"
      }
    },
    {
      "cell_type": "code",
      "source": [
        "plot_roc_curve\n",
        "i=0\n",
        "for label in TARGETS:\n",
        "  plt.figure(figsize=(5,18))\n",
        "  print(label)\n",
        "  true= [values[i] for values in y_true]\n",
        "  pred= [values[i] for values in y_pred]\n",
        "  i+=1\n",
        "  plot_roc_curve(final_model,true,pred )\n",
        "  plt.show()\n",
        "  print(\"\\n\\n\")"
      ],
      "metadata": {
        "id": "buwNBNdH08N1"
      },
      "execution_count": null,
      "outputs": []
    },
    {
      "cell_type": "code",
      "source": [
        "!nvidia-smi"
      ],
      "metadata": {
        "colab": {
          "base_uri": "https://localhost:8080/"
        },
        "id": "5aO1yHBHIra4",
        "outputId": "09023974-39c4-4be6-8ca6-0302dadb4c03"
      },
      "execution_count": null,
      "outputs": [
        {
          "output_type": "stream",
          "name": "stdout",
          "text": [
            "Mon Jun 20 17:22:06 2022       \n",
            "+-----------------------------------------------------------------------------+\n",
            "| NVIDIA-SMI 460.32.03    Driver Version: 460.32.03    CUDA Version: 11.2     |\n",
            "|-------------------------------+----------------------+----------------------+\n",
            "| GPU  Name        Persistence-M| Bus-Id        Disp.A | Volatile Uncorr. ECC |\n",
            "| Fan  Temp  Perf  Pwr:Usage/Cap|         Memory-Usage | GPU-Util  Compute M. |\n",
            "|                               |                      |               MIG M. |\n",
            "|===============================+======================+======================|\n",
            "|   0  Tesla T4            Off  | 00000000:00:04.0 Off |                    0 |\n",
            "| N/A   54C    P0    28W /  70W |   5460MiB / 15109MiB |      0%      Default |\n",
            "|                               |                      |                  N/A |\n",
            "+-------------------------------+----------------------+----------------------+\n",
            "                                                                               \n",
            "+-----------------------------------------------------------------------------+\n",
            "| Processes:                                                                  |\n",
            "|  GPU   GI   CI        PID   Type   Process name                  GPU Memory |\n",
            "|        ID   ID                                                   Usage      |\n",
            "|=============================================================================|\n",
            "+-----------------------------------------------------------------------------+\n"
          ]
        }
      ]
    },
    {
      "cell_type": "code",
      "source": [
        "trained_model = train_model(EPOCHS,train_data_loader,val_data_loader,model,checkpoint,bestModel,optimizer)"
      ],
      "metadata": {
        "colab": {
          "base_uri": "https://localhost:8080/",
          "height": 328
        },
        "id": "gTOHDoSPdST9",
        "outputId": "bc62f933-f56e-468c-a513-6a9644d8fc42"
      },
      "execution_count": null,
      "outputs": [
        {
          "output_type": "stream",
          "name": "stdout",
          "text": [
            "Epoch: 1 \tAvgerage Training Loss: 0.00002 \tAverage Validation Loss: 0.00019 acurracy score = 0.96463\n"
          ]
        },
        {
          "output_type": "error",
          "ename": "IsADirectoryError",
          "evalue": "ignored",
          "traceback": [
            "\u001b[0;31m---------------------------------------------------------------------------\u001b[0m",
            "\u001b[0;31mIsADirectoryError\u001b[0m                         Traceback (most recent call last)",
            "\u001b[0;32m<ipython-input-28-2154e3a80794>\u001b[0m in \u001b[0;36m<module>\u001b[0;34m()\u001b[0m\n\u001b[0;32m----> 1\u001b[0;31m \u001b[0mtrained_model\u001b[0m\u001b[0;34m,\u001b[0m\u001b[0mtrue\u001b[0m\u001b[0;34m,\u001b[0m\u001b[0mpred\u001b[0m \u001b[0;34m=\u001b[0m \u001b[0mtrain_model\u001b[0m\u001b[0;34m(\u001b[0m\u001b[0mEPOCHS\u001b[0m\u001b[0;34m,\u001b[0m\u001b[0mtrain_data_loader\u001b[0m\u001b[0;34m,\u001b[0m\u001b[0mval_data_loader\u001b[0m\u001b[0;34m,\u001b[0m\u001b[0mmodel\u001b[0m\u001b[0;34m,\u001b[0m\u001b[0mcheckpoint\u001b[0m\u001b[0;34m,\u001b[0m\u001b[0mbestModel\u001b[0m\u001b[0;34m,\u001b[0m\u001b[0moptimizer\u001b[0m\u001b[0;34m)\u001b[0m\u001b[0;34m\u001b[0m\u001b[0;34m\u001b[0m\u001b[0m\n\u001b[0m",
            "\u001b[0;32m<ipython-input-27-641579388be7>\u001b[0m in \u001b[0;36mtrain_model\u001b[0;34m(n_epochs, training_loader, validation_loader, model, checkpoint_path, best_model_path, optimizer)\u001b[0m\n\u001b[1;32m     80\u001b[0m \u001b[0;34m\u001b[0m\u001b[0m\n\u001b[1;32m     81\u001b[0m         \u001b[0;31m# save checkpoint\u001b[0m\u001b[0;34m\u001b[0m\u001b[0;34m\u001b[0m\u001b[0;34m\u001b[0m\u001b[0m\n\u001b[0;32m---> 82\u001b[0;31m       \u001b[0msave_ckp\u001b[0m\u001b[0;34m(\u001b[0m\u001b[0mcheckpoint\u001b[0m\u001b[0;34m,\u001b[0m \u001b[0;32mFalse\u001b[0m\u001b[0;34m,\u001b[0m \u001b[0mcheckpoint_path\u001b[0m\u001b[0;34m,\u001b[0m \u001b[0mbest_model_path\u001b[0m\u001b[0;34m)\u001b[0m\u001b[0;34m\u001b[0m\u001b[0;34m\u001b[0m\u001b[0m\n\u001b[0m\u001b[1;32m     83\u001b[0m \u001b[0;34m\u001b[0m\u001b[0m\n\u001b[1;32m     84\u001b[0m       \u001b[0;31m## TODO: save the model if validation loss has decreased\u001b[0m\u001b[0;34m\u001b[0m\u001b[0;34m\u001b[0m\u001b[0;34m\u001b[0m\u001b[0m\n",
            "\u001b[0;32m<ipython-input-22-b95e6b93021b>\u001b[0m in \u001b[0;36msave_ckp\u001b[0;34m(state, is_best, checkpoint_path, best_model_path)\u001b[0m\n\u001b[1;32m     25\u001b[0m     \u001b[0mf_path\u001b[0m \u001b[0;34m=\u001b[0m \u001b[0mcheckpoint_path\u001b[0m\u001b[0;34m\u001b[0m\u001b[0;34m\u001b[0m\u001b[0m\n\u001b[1;32m     26\u001b[0m     \u001b[0;31m# save checkpoint data to the path given, checkpoint_path\u001b[0m\u001b[0;34m\u001b[0m\u001b[0;34m\u001b[0m\u001b[0;34m\u001b[0m\u001b[0m\n\u001b[0;32m---> 27\u001b[0;31m     \u001b[0mtorch\u001b[0m\u001b[0;34m.\u001b[0m\u001b[0msave\u001b[0m\u001b[0;34m(\u001b[0m\u001b[0mstate\u001b[0m\u001b[0;34m,\u001b[0m \u001b[0mf_path\u001b[0m\u001b[0;34m)\u001b[0m\u001b[0;34m\u001b[0m\u001b[0;34m\u001b[0m\u001b[0m\n\u001b[0m\u001b[1;32m     28\u001b[0m     \u001b[0;31m# if it is a best model, min validation loss\u001b[0m\u001b[0;34m\u001b[0m\u001b[0;34m\u001b[0m\u001b[0;34m\u001b[0m\u001b[0m\n\u001b[1;32m     29\u001b[0m     \u001b[0;32mif\u001b[0m \u001b[0mis_best\u001b[0m\u001b[0;34m:\u001b[0m\u001b[0;34m\u001b[0m\u001b[0;34m\u001b[0m\u001b[0m\n",
            "\u001b[0;32m/usr/local/lib/python3.7/dist-packages/torch/serialization.py\u001b[0m in \u001b[0;36msave\u001b[0;34m(obj, f, pickle_module, pickle_protocol, _use_new_zipfile_serialization)\u001b[0m\n\u001b[1;32m    375\u001b[0m     \u001b[0m_check_dill_version\u001b[0m\u001b[0;34m(\u001b[0m\u001b[0mpickle_module\u001b[0m\u001b[0;34m)\u001b[0m\u001b[0;34m\u001b[0m\u001b[0;34m\u001b[0m\u001b[0m\n\u001b[1;32m    376\u001b[0m \u001b[0;34m\u001b[0m\u001b[0m\n\u001b[0;32m--> 377\u001b[0;31m     \u001b[0;32mwith\u001b[0m \u001b[0m_open_file_like\u001b[0m\u001b[0;34m(\u001b[0m\u001b[0mf\u001b[0m\u001b[0;34m,\u001b[0m \u001b[0;34m'wb'\u001b[0m\u001b[0;34m)\u001b[0m \u001b[0;32mas\u001b[0m \u001b[0mopened_file\u001b[0m\u001b[0;34m:\u001b[0m\u001b[0;34m\u001b[0m\u001b[0;34m\u001b[0m\u001b[0m\n\u001b[0m\u001b[1;32m    378\u001b[0m         \u001b[0;32mif\u001b[0m \u001b[0m_use_new_zipfile_serialization\u001b[0m\u001b[0;34m:\u001b[0m\u001b[0;34m\u001b[0m\u001b[0;34m\u001b[0m\u001b[0m\n\u001b[1;32m    379\u001b[0m             \u001b[0;32mwith\u001b[0m \u001b[0m_open_zipfile_writer\u001b[0m\u001b[0;34m(\u001b[0m\u001b[0mopened_file\u001b[0m\u001b[0;34m)\u001b[0m \u001b[0;32mas\u001b[0m \u001b[0mopened_zipfile\u001b[0m\u001b[0;34m:\u001b[0m\u001b[0;34m\u001b[0m\u001b[0;34m\u001b[0m\u001b[0m\n",
            "\u001b[0;32m/usr/local/lib/python3.7/dist-packages/torch/serialization.py\u001b[0m in \u001b[0;36m_open_file_like\u001b[0;34m(name_or_buffer, mode)\u001b[0m\n\u001b[1;32m    229\u001b[0m \u001b[0;32mdef\u001b[0m \u001b[0m_open_file_like\u001b[0m\u001b[0;34m(\u001b[0m\u001b[0mname_or_buffer\u001b[0m\u001b[0;34m,\u001b[0m \u001b[0mmode\u001b[0m\u001b[0;34m)\u001b[0m\u001b[0;34m:\u001b[0m\u001b[0;34m\u001b[0m\u001b[0;34m\u001b[0m\u001b[0m\n\u001b[1;32m    230\u001b[0m     \u001b[0;32mif\u001b[0m \u001b[0m_is_path\u001b[0m\u001b[0;34m(\u001b[0m\u001b[0mname_or_buffer\u001b[0m\u001b[0;34m)\u001b[0m\u001b[0;34m:\u001b[0m\u001b[0;34m\u001b[0m\u001b[0;34m\u001b[0m\u001b[0m\n\u001b[0;32m--> 231\u001b[0;31m         \u001b[0;32mreturn\u001b[0m \u001b[0m_open_file\u001b[0m\u001b[0;34m(\u001b[0m\u001b[0mname_or_buffer\u001b[0m\u001b[0;34m,\u001b[0m \u001b[0mmode\u001b[0m\u001b[0;34m)\u001b[0m\u001b[0;34m\u001b[0m\u001b[0;34m\u001b[0m\u001b[0m\n\u001b[0m\u001b[1;32m    232\u001b[0m     \u001b[0;32melse\u001b[0m\u001b[0;34m:\u001b[0m\u001b[0;34m\u001b[0m\u001b[0;34m\u001b[0m\u001b[0m\n\u001b[1;32m    233\u001b[0m         \u001b[0;32mif\u001b[0m \u001b[0;34m'w'\u001b[0m \u001b[0;32min\u001b[0m \u001b[0mmode\u001b[0m\u001b[0;34m:\u001b[0m\u001b[0;34m\u001b[0m\u001b[0;34m\u001b[0m\u001b[0m\n",
            "\u001b[0;32m/usr/local/lib/python3.7/dist-packages/torch/serialization.py\u001b[0m in \u001b[0;36m__init__\u001b[0;34m(self, name, mode)\u001b[0m\n\u001b[1;32m    210\u001b[0m \u001b[0;32mclass\u001b[0m \u001b[0m_open_file\u001b[0m\u001b[0;34m(\u001b[0m\u001b[0m_opener\u001b[0m\u001b[0;34m)\u001b[0m\u001b[0;34m:\u001b[0m\u001b[0;34m\u001b[0m\u001b[0;34m\u001b[0m\u001b[0m\n\u001b[1;32m    211\u001b[0m     \u001b[0;32mdef\u001b[0m \u001b[0m__init__\u001b[0m\u001b[0;34m(\u001b[0m\u001b[0mself\u001b[0m\u001b[0;34m,\u001b[0m \u001b[0mname\u001b[0m\u001b[0;34m,\u001b[0m \u001b[0mmode\u001b[0m\u001b[0;34m)\u001b[0m\u001b[0;34m:\u001b[0m\u001b[0;34m\u001b[0m\u001b[0;34m\u001b[0m\u001b[0m\n\u001b[0;32m--> 212\u001b[0;31m         \u001b[0msuper\u001b[0m\u001b[0;34m(\u001b[0m\u001b[0m_open_file\u001b[0m\u001b[0;34m,\u001b[0m \u001b[0mself\u001b[0m\u001b[0;34m)\u001b[0m\u001b[0;34m.\u001b[0m\u001b[0m__init__\u001b[0m\u001b[0;34m(\u001b[0m\u001b[0mopen\u001b[0m\u001b[0;34m(\u001b[0m\u001b[0mname\u001b[0m\u001b[0;34m,\u001b[0m \u001b[0mmode\u001b[0m\u001b[0;34m)\u001b[0m\u001b[0;34m)\u001b[0m\u001b[0;34m\u001b[0m\u001b[0;34m\u001b[0m\u001b[0m\n\u001b[0m\u001b[1;32m    213\u001b[0m \u001b[0;34m\u001b[0m\u001b[0m\n\u001b[1;32m    214\u001b[0m     \u001b[0;32mdef\u001b[0m \u001b[0m__exit__\u001b[0m\u001b[0;34m(\u001b[0m\u001b[0mself\u001b[0m\u001b[0;34m,\u001b[0m \u001b[0;34m*\u001b[0m\u001b[0margs\u001b[0m\u001b[0;34m)\u001b[0m\u001b[0;34m:\u001b[0m\u001b[0;34m\u001b[0m\u001b[0;34m\u001b[0m\u001b[0m\n",
            "\u001b[0;31mIsADirectoryError\u001b[0m: [Errno 21] Is a directory: '/content/drive/MyDrive'"
          ]
        }
      ]
    },
    {
      "cell_type": "code",
      "source": [
        "trained_model = train_model(EPOCHS,train_data_loader,val_data_loader,model,checkpoint,bestModel,optimizer)"
      ],
      "metadata": {
        "colab": {
          "base_uri": "https://localhost:8080/"
        },
        "id": "YGLOWXSHKPwt",
        "outputId": "79a7b161-a967-420f-a4eb-bd426557e394"
      },
      "execution_count": null,
      "outputs": [
        {
          "output_type": "stream",
          "name": "stdout",
          "text": [
            "############# Epoch 1: Training Start   #############\n",
            "############# Epoch 1: Training End     #############\n",
            "############# Epoch 1: Validation Start   #############\n",
            "############# Epoch 1: Validation End     #############\n",
            "Epoch: 1 \tAvgerage Training Loss: 0.000024 \tAverage Validation Loss: 0.000180\n",
            "Validation loss decreased (inf --> 0.000180).  Saving model ...\n",
            "############# Epoch 1  Done   #############\n",
            "\n",
            "############# Epoch 2: Training Start   #############\n",
            "############# Epoch 2: Training End     #############\n",
            "############# Epoch 2: Validation Start   #############\n",
            "############# Epoch 2: Validation End     #############\n",
            "Epoch: 2 \tAvgerage Training Loss: 0.000018 \tAverage Validation Loss: 0.000181\n",
            "############# Epoch 2  Done   #############\n",
            "\n"
          ]
        }
      ]
    },
    {
      "cell_type": "code",
      "source": [
        "trained_model = train_model(EPOCHS,train_data_loader,val_data_loader,model,checkpoint,bestModel,optimizer)"
      ],
      "metadata": {
        "colab": {
          "base_uri": "https://localhost:8080/"
        },
        "id": "ZEeIBAvGLrc9",
        "outputId": "73b3213e-8ed6-47a1-b37b-39e7134e60b1"
      },
      "execution_count": null,
      "outputs": [
        {
          "output_type": "stream",
          "name": "stdout",
          "text": [
            "############# Epoch 1: Training Start   #############\n",
            "############# Epoch 1: Training End     #############\n",
            "############# Epoch 1: Validation Start   #############\n",
            "############# Epoch 1: Validation End     #############\n",
            "Epoch: 1 \tAvgerage Training Loss: 0.000015 \tAverage Validation Loss: 0.000187\n",
            "Validation loss decreased (inf --> 0.000187).  Saving model ...\n",
            "############# Epoch 1  Done   #############\n",
            "\n",
            "############# Epoch 2: Training Start   #############\n",
            "############# Epoch 2: Training End     #############\n",
            "############# Epoch 2: Validation Start   #############\n",
            "############# Epoch 2: Validation End     #############\n",
            "Epoch: 2 \tAvgerage Training Loss: 0.000012 \tAverage Validation Loss: 0.000218\n",
            "############# Epoch 2  Done   #############\n",
            "\n"
          ]
        }
      ]
    },
    {
      "cell_type": "code",
      "source": [
        "valll[:][1]"
      ],
      "metadata": {
        "colab": {
          "base_uri": "https://localhost:8080/"
        },
        "id": "nFtnhGlHnr6-",
        "outputId": "39e7da39-f8bb-4cbb-8af7-f923740f1933"
      },
      "execution_count": null,
      "outputs": [
        {
          "output_type": "execute_result",
          "data": {
            "text/plain": [
              "[0.0074258483946323395,\n",
              " 0.0018216728931292892,\n",
              " 0.0048935022205114365,\n",
              " 0.002250320976600051,\n",
              " 0.003229815512895584,\n",
              " 0.002004582667723298]"
            ]
          },
          "metadata": {},
          "execution_count": 10
        }
      ]
    },
    {
      "cell_type": "code",
      "source": [
        "len(valll[0])"
      ],
      "metadata": {
        "colab": {
          "base_uri": "https://localhost:8080/"
        },
        "id": "TeEBz9PMoQQL",
        "outputId": "96ee30a1-651a-48b0-8872-7c48689ba0cf"
      },
      "execution_count": null,
      "outputs": [
        {
          "output_type": "execute_result",
          "data": {
            "text/plain": [
              "6"
            ]
          },
          "metadata": {},
          "execution_count": 13
        }
      ]
    },
    {
      "cell_type": "code",
      "source": [
        "import numpy as np\n",
        "ab= np.array(val)"
      ],
      "metadata": {
        "id": "Hpy0h909nsII"
      },
      "execution_count": null,
      "outputs": []
    },
    {
      "cell_type": "code",
      "source": [
        "az= list(zip(*val))"
      ],
      "metadata": {
        "id": "SVVYpDmbPUBu"
      },
      "execution_count": null,
      "outputs": []
    },
    {
      "cell_type": "code",
      "source": [
        "for i in az:\n",
        "  print(i)"
      ],
      "metadata": {
        "colab": {
          "base_uri": "https://localhost:8080/"
        },
        "id": "pfBRi52kPWM5",
        "outputId": "25238b97-0044-4d4f-8bde-3e5490956086"
      },
      "execution_count": null,
      "outputs": [
        {
          "output_type": "stream",
          "name": "stdout",
          "text": [
            "(0.22512079775333405, 0.0074258483946323395, 0.016126811504364014, 0.004862876143306494, 0.0037531331181526184, 0.0048414976336061954, 0.0039496347308158875, 0.8042276501655579)\n",
            "(0.0016097503248602152, 0.0018216728931292892, 0.002177012152969837, 0.0023378345649689436, 0.0029421006329357624, 0.002185107208788395, 0.0028362965676933527, 0.021203121170401573)\n",
            "(0.02532624825835228, 0.0048935022205114365, 0.009638953022658825, 0.005229161586612463, 0.004083527252078056, 0.004328157287091017, 0.005099293310195208, 0.8245008587837219)\n",
            "(0.001790619338862598, 0.002250320976600051, 0.0022431209217756987, 0.0024816379882395267, 0.0037498893216252327, 0.0026724354829639196, 0.00306038954295218, 0.0024180354084819555)\n",
            "(0.04227235168218613, 0.003229815512895584, 0.005189451854676008, 0.0033527505584061146, 0.0031946050003170967, 0.002907524351030588, 0.002960606710985303, 0.13679172098636627)\n",
            "(0.007051749154925346, 0.002004582667723298, 0.0026523920241743326, 0.0026229238137602806, 0.003019704483449459, 0.0023278165608644485, 0.0026841172948479652, 0.004623518791049719)\n"
          ]
        }
      ]
    },
    {
      "cell_type": "code",
      "source": [
        "ab"
      ],
      "metadata": {
        "colab": {
          "base_uri": "https://localhost:8080/"
        },
        "id": "Rwona_SAPOS4",
        "outputId": "d7309b9f-9cb3-48cf-892b-6b92cf905e0b"
      },
      "execution_count": null,
      "outputs": [
        {
          "output_type": "execute_result",
          "data": {
            "text/plain": [
              "array([[0.2251208 , 0.00160975, 0.02532625, 0.00179062, 0.04227235,\n",
              "        0.00705175],\n",
              "       [0.00742585, 0.00182167, 0.0048935 , 0.00225032, 0.00322982,\n",
              "        0.00200458],\n",
              "       [0.01612681, 0.00217701, 0.00963895, 0.00224312, 0.00518945,\n",
              "        0.00265239],\n",
              "       [0.00486288, 0.00233783, 0.00522916, 0.00248164, 0.00335275,\n",
              "        0.00262292],\n",
              "       [0.00375313, 0.0029421 , 0.00408353, 0.00374989, 0.00319461,\n",
              "        0.0030197 ],\n",
              "       [0.0048415 , 0.00218511, 0.00432816, 0.00267244, 0.00290752,\n",
              "        0.00232782],\n",
              "       [0.00394963, 0.0028363 , 0.00509929, 0.00306039, 0.00296061,\n",
              "        0.00268412],\n",
              "       [0.80422765, 0.02120312, 0.82450086, 0.00241804, 0.13679172,\n",
              "        0.00462352]])"
            ]
          },
          "metadata": {},
          "execution_count": 7
        }
      ]
    },
    {
      "cell_type": "code",
      "source": [
        "ab[:,0].tolist()"
      ],
      "metadata": {
        "colab": {
          "base_uri": "https://localhost:8080/"
        },
        "id": "OeWVzUzpPJO2",
        "outputId": "cb716ef3-fd39-4084-e1f5-4f06e52e44c4"
      },
      "execution_count": null,
      "outputs": [
        {
          "output_type": "execute_result",
          "data": {
            "text/plain": [
              "[0.22512079775333405,\n",
              " 0.0074258483946323395,\n",
              " 0.016126811504364014,\n",
              " 0.004862876143306494,\n",
              " 0.0037531331181526184,\n",
              " 0.0048414976336061954,\n",
              " 0.0039496347308158875,\n",
              " 0.8042276501655579]"
            ]
          },
          "metadata": {},
          "execution_count": 8
        }
      ]
    },
    {
      "cell_type": "markdown",
      "source": [
        "##Remove stopwords"
      ],
      "metadata": {
        "id": "BAbDBZkd6QZ-"
      }
    },
    {
      "cell_type": "code",
      "execution_count": null,
      "metadata": {
        "id": "qRGjDDARIuFf"
      },
      "outputs": [],
      "source": [
        "nltk.download('stopwords')"
      ]
    },
    {
      "cell_type": "code",
      "execution_count": null,
      "metadata": {
        "id": "QJ0utkcEaO9k"
      },
      "outputs": [],
      "source": [
        "stop= stopwords.words('english')"
      ]
    },
    {
      "cell_type": "code",
      "execution_count": null,
      "metadata": {
        "id": "0ZAIKstFBY8v"
      },
      "outputs": [],
      "source": [
        "df['comment_text'][0]"
      ]
    },
    {
      "cell_type": "markdown",
      "metadata": {
        "id": "CZP-QKj01AgK"
      },
      "source": [
        "###Cleaning the texts"
      ]
    },
    {
      "cell_type": "code",
      "execution_count": null,
      "metadata": {
        "id": "Uqo2hNGU2A06"
      },
      "outputs": [],
      "source": [
        "# remove all numbers with letters attached to them\n",
        "alphanumeric = lambda x: re.sub('\\w*\\d\\w*', ' ', x)\n",
        "\n",
        "# '[%s]' % re.escape(string.punctuation),' ' - replace punctuation with white space\n",
        "# .lower() - convert all strings to lowercase \n",
        "punc_lower = lambda x: re.sub('[%s]' % re.escape(string.punctuation), ' ', x.lower())\n",
        "\n",
        "# Remove all '\\n' in the string and replace it with a space\n",
        "remove_n = lambda x: re.sub(\"\\n\", \" \", x)\n",
        "\n",
        "# Remove all non-ascii characters \n",
        "remove_non_ascii = lambda x: re.sub(r'[^\\x00-\\x7f]',r' ', x)\n",
        "\n",
        "# Remove all double spaces\n",
        "remove_double_space = lambda x: re.sub(r'  ',r' ', x)\n",
        "\n",
        "# remove stopwords first\n",
        "concat_df['comment_text']=concat_df['comment_text'].apply(lambda x: ' '.join([word for word in x.split() if word not in (stop)]))\n",
        "\n",
        "# Apply all the lambda functions wrote previously through .map on the comments column\n",
        "concat_df['comment_text'] = concat_df['comment_text'].map(alphanumeric).map(punc_lower).map(remove_n).map(remove_non_ascii).map(remove_double_space)\n",
        "\n",
        "concat_df['comment_text'][0]"
      ]
    },
    {
      "cell_type": "markdown",
      "metadata": {
        "id": "zbRkWWpM99Uq"
      },
      "source": [
        "##Getting the BERT TensorFlow"
      ]
    },
    {
      "cell_type": "code",
      "execution_count": null,
      "metadata": {
        "id": "1oMNHUw3-B0a"
      },
      "outputs": [],
      "source": [
        "bert_preprocess = hub.KerasLayer(\"https://tfhub.dev/tensorflow/bert_en_uncased_preprocess/3\")\n",
        "bert_encoder = hub.KerasLayer(\"https://tfhub.dev/tensorflow/bert_en_uncased_L-12_H-768_A-12/4\")"
      ]
    },
    {
      "cell_type": "code",
      "execution_count": null,
      "metadata": {
        "id": "vCgQMwXG_hKx"
      },
      "outputs": [],
      "source": [
        "def getEmbedding(sentences):\n",
        "  preprocessed_text= bert_preprocess(sentences)\n",
        "  return bert_encoder(preprocessed_text)['pooled_output']"
      ]
    },
    {
      "cell_type": "code",
      "source": [
        "tst_preproc= bert_preprocess(['I Love Natural Language Processing.'])\n",
        "tst_preproc"
      ],
      "metadata": {
        "colab": {
          "base_uri": "https://localhost:8080/"
        },
        "id": "veTrKda_TGwv",
        "outputId": "e2dca969-edb3-49f6-d645-4f3867474a10"
      },
      "execution_count": null,
      "outputs": [
        {
          "output_type": "execute_result",
          "data": {
            "text/plain": [
              "{'input_mask': <tf.Tensor: shape=(1, 128), dtype=int32, numpy=\n",
              " array([[1, 1, 1, 1, 1, 1, 1, 0, 0, 0, 0, 0, 0, 0, 0, 0, 0, 0, 0, 0, 0, 0,\n",
              "         0, 0, 0, 0, 0, 0, 0, 0, 0, 0, 0, 0, 0, 0, 0, 0, 0, 0, 0, 0, 0, 0,\n",
              "         0, 0, 0, 0, 0, 0, 0, 0, 0, 0, 0, 0, 0, 0, 0, 0, 0, 0, 0, 0, 0, 0,\n",
              "         0, 0, 0, 0, 0, 0, 0, 0, 0, 0, 0, 0, 0, 0, 0, 0, 0, 0, 0, 0, 0, 0,\n",
              "         0, 0, 0, 0, 0, 0, 0, 0, 0, 0, 0, 0, 0, 0, 0, 0, 0, 0, 0, 0, 0, 0,\n",
              "         0, 0, 0, 0, 0, 0, 0, 0, 0, 0, 0, 0, 0, 0, 0, 0, 0, 0]],\n",
              "       dtype=int32)>,\n",
              " 'input_type_ids': <tf.Tensor: shape=(1, 128), dtype=int32, numpy=\n",
              " array([[0, 0, 0, 0, 0, 0, 0, 0, 0, 0, 0, 0, 0, 0, 0, 0, 0, 0, 0, 0, 0, 0,\n",
              "         0, 0, 0, 0, 0, 0, 0, 0, 0, 0, 0, 0, 0, 0, 0, 0, 0, 0, 0, 0, 0, 0,\n",
              "         0, 0, 0, 0, 0, 0, 0, 0, 0, 0, 0, 0, 0, 0, 0, 0, 0, 0, 0, 0, 0, 0,\n",
              "         0, 0, 0, 0, 0, 0, 0, 0, 0, 0, 0, 0, 0, 0, 0, 0, 0, 0, 0, 0, 0, 0,\n",
              "         0, 0, 0, 0, 0, 0, 0, 0, 0, 0, 0, 0, 0, 0, 0, 0, 0, 0, 0, 0, 0, 0,\n",
              "         0, 0, 0, 0, 0, 0, 0, 0, 0, 0, 0, 0, 0, 0, 0, 0, 0, 0]],\n",
              "       dtype=int32)>,\n",
              " 'input_word_ids': <tf.Tensor: shape=(1, 128), dtype=int32, numpy=\n",
              " array([[ 101, 1045, 2293, 3019, 2653, 6364,  102,    0,    0,    0,    0,\n",
              "            0,    0,    0,    0,    0,    0,    0,    0,    0,    0,    0,\n",
              "            0,    0,    0,    0,    0,    0,    0,    0,    0,    0,    0,\n",
              "            0,    0,    0,    0,    0,    0,    0,    0,    0,    0,    0,\n",
              "            0,    0,    0,    0,    0,    0,    0,    0,    0,    0,    0,\n",
              "            0,    0,    0,    0,    0,    0,    0,    0,    0,    0,    0,\n",
              "            0,    0,    0,    0,    0,    0,    0,    0,    0,    0,    0,\n",
              "            0,    0,    0,    0,    0,    0,    0,    0,    0,    0,    0,\n",
              "            0,    0,    0,    0,    0,    0,    0,    0,    0,    0,    0,\n",
              "            0,    0,    0,    0,    0,    0,    0,    0,    0,    0,    0,\n",
              "            0,    0,    0,    0,    0,    0,    0,    0,    0,    0,    0,\n",
              "            0,    0,    0,    0,    0,    0,    0]], dtype=int32)>}"
            ]
          },
          "metadata": {},
          "execution_count": 32
        }
      ]
    },
    {
      "cell_type": "code",
      "execution_count": null,
      "metadata": {
        "id": "K2MI5Cn6SYbl",
        "colab": {
          "base_uri": "https://localhost:8080/"
        },
        "outputId": "1c6b2f18-a2bb-4b58-a444-a14647392552"
      },
      "outputs": [
        {
          "output_type": "execute_result",
          "data": {
            "text/plain": [
              "<tf.Tensor: shape=(1, 128), dtype=int32, numpy=\n",
              "array([[ 101, 1045, 2293, 3019, 2653, 6364,  102,    0,    0,    0,    0,\n",
              "           0,    0,    0,    0,    0,    0,    0,    0,    0,    0,    0,\n",
              "           0,    0,    0,    0,    0,    0,    0,    0,    0,    0,    0,\n",
              "           0,    0,    0,    0,    0,    0,    0,    0,    0,    0,    0,\n",
              "           0,    0,    0,    0,    0,    0,    0,    0,    0,    0,    0,\n",
              "           0,    0,    0,    0,    0,    0,    0,    0,    0,    0,    0,\n",
              "           0,    0,    0,    0,    0,    0,    0,    0,    0,    0,    0,\n",
              "           0,    0,    0,    0,    0,    0,    0,    0,    0,    0,    0,\n",
              "           0,    0,    0,    0,    0,    0,    0,    0,    0,    0,    0,\n",
              "           0,    0,    0,    0,    0,    0,    0,    0,    0,    0,    0,\n",
              "           0,    0,    0,    0,    0,    0,    0,    0,    0,    0,    0,\n",
              "           0,    0,    0,    0,    0,    0,    0]], dtype=int32)>"
            ]
          },
          "metadata": {},
          "execution_count": 33
        }
      ],
      "source": [
        "tst_preproc['input_word_ids']"
      ]
    },
    {
      "cell_type": "code",
      "source": [
        "bert_encoder(tst_preproc)"
      ],
      "metadata": {
        "id": "hBEaJgc8TitL"
      },
      "execution_count": null,
      "outputs": []
    },
    {
      "cell_type": "code",
      "execution_count": null,
      "metadata": {
        "id": "5k0wN3s7-oNu",
        "colab": {
          "base_uri": "https://localhost:8080/"
        },
        "outputId": "d291bcca-c413-4307-dbaa-965eecd53d64"
      },
      "outputs": [
        {
          "output_type": "execute_result",
          "data": {
            "text/plain": [
              "<tf.Tensor: shape=(2, 768), dtype=float32, numpy=\n",
              "array([[-0.79857767, -0.22563332,  0.30046916, ...,  0.07815453,\n",
              "        -0.540463  ,  0.8255246 ],\n",
              "       [-0.8693729 , -0.3164801 , -0.0955715 , ...,  0.09811448,\n",
              "        -0.54874235,  0.8176817 ]], dtype=float32)>"
            ]
          },
          "metadata": {},
          "execution_count": 37
        }
      ],
      "source": [
        "getEmbedding([\"I love Natural Language Processing\",\"Final Project\"])"
      ]
    },
    {
      "cell_type": "code",
      "execution_count": null,
      "metadata": {
        "id": "HrXcDHOw5Cje"
      },
      "outputs": [],
      "source": [
        "# getEmbedding(df.comment_text)"
      ]
    },
    {
      "cell_type": "code",
      "execution_count": null,
      "metadata": {
        "id": "bApqyIiZANww"
      },
      "outputs": [],
      "source": [
        "check_bert= getEmbedding([\n",
        "                          \"Audia studying for the exam\",\n",
        "                          \"Joseph is reviewing for the test\",\n",
        "                          \"Nicholas is playing games\",\n",
        "                          \"Book\",\n",
        "                          \"Cars are getting cheaper, but expensive at the same time\",\n",
        "                          \"pc components are so expensive this days\",\n",
        "                          \"class\",\n",
        "                          \"toyota\",\n",
        "                          'work',\n",
        "                          \"war\",\n",
        "                          \"apple were eaten by monkeys\",\n",
        "                          \"banana\",\n",
        "                          \"Elon Musk\",\n",
        "                          \"Jeff Bezos\"\n",
        "])"
      ]
    },
    {
      "cell_type": "code",
      "execution_count": null,
      "metadata": {
        "id": "WNU6No4CAEUu",
        "colab": {
          "base_uri": "https://localhost:8080/"
        },
        "outputId": "cc90fecb-5e7a-40a6-f556-ad0f10b2770b"
      },
      "outputs": [
        {
          "output_type": "stream",
          "name": "stdout",
          "text": [
            "[[0.9238905]]\n",
            "[[0.46023497]]\n",
            "[[0.6123694]]\n",
            "[[0.9872035]]\n",
            "[[0.89336324]]\n"
          ]
        }
      ],
      "source": [
        "print(cosine_similarity([check_bert[0]], [check_bert[1]]))\n",
        "print(cosine_similarity([check_bert[2]], [check_bert[4]]))\n",
        "print(cosine_similarity([check_bert[3]], [check_bert[4]]))\n",
        "print(cosine_similarity([check_bert[-1]], [check_bert[-2]]))\n",
        "print(cosine_similarity([check_bert[-2]], [check_bert[-3]]))"
      ]
    }
  ],
  "metadata": {
    "colab": {
      "collapsed_sections": [
        "YH8iARzqON1X",
        "VLhpxe-FFfuo",
        "A9yA2vLDT6jX",
        "tks3C4W6UtS5",
        "BAbDBZkd6QZ-",
        "CZP-QKj01AgK",
        "FBgG-B73bsZ3",
        "zbRkWWpM99Uq",
        "Sj046qkCVzdi",
        "hglZvy4oQdhG",
        "kiA6atdhQhPG",
        "2nxWRRifQktj",
        "vg_dByi5jR4f",
        "roYmFzAplcNP"
      ],
      "provenance": [],
      "include_colab_link": true
    },
    "kernelspec": {
      "display_name": "Python 3",
      "name": "python3"
    },
    "language_info": {
      "name": "python"
    },
    "accelerator": "GPU",
    "widgets": {
      "application/vnd.jupyter.widget-state+json": {
        "25a18d8100894cc5966bac92d2243656": {
          "model_module": "@jupyter-widgets/controls",
          "model_name": "HBoxModel",
          "model_module_version": "1.5.0",
          "state": {
            "_dom_classes": [],
            "_model_module": "@jupyter-widgets/controls",
            "_model_module_version": "1.5.0",
            "_model_name": "HBoxModel",
            "_view_count": null,
            "_view_module": "@jupyter-widgets/controls",
            "_view_module_version": "1.5.0",
            "_view_name": "HBoxView",
            "box_style": "",
            "children": [
              "IPY_MODEL_edcece48a3174eefbc5cd45dd3becd11",
              "IPY_MODEL_fe95250312dd49b19fe4c11291b23122",
              "IPY_MODEL_1292052d02f64ceea3f4843d247da3e6"
            ],
            "layout": "IPY_MODEL_c6eea9e709c4471eac9e9c9abff3e9fb"
          }
        },
        "edcece48a3174eefbc5cd45dd3becd11": {
          "model_module": "@jupyter-widgets/controls",
          "model_name": "HTMLModel",
          "model_module_version": "1.5.0",
          "state": {
            "_dom_classes": [],
            "_model_module": "@jupyter-widgets/controls",
            "_model_module_version": "1.5.0",
            "_model_name": "HTMLModel",
            "_view_count": null,
            "_view_module": "@jupyter-widgets/controls",
            "_view_module_version": "1.5.0",
            "_view_name": "HTMLView",
            "description": "",
            "description_tooltip": null,
            "layout": "IPY_MODEL_048ca3c0a69a4ee1b3c190bfaae0b5e5",
            "placeholder": "​",
            "style": "IPY_MODEL_1311cfa72a5943bd81e52d662a366aa3",
            "value": "Downloading: 100%"
          }
        },
        "fe95250312dd49b19fe4c11291b23122": {
          "model_module": "@jupyter-widgets/controls",
          "model_name": "FloatProgressModel",
          "model_module_version": "1.5.0",
          "state": {
            "_dom_classes": [],
            "_model_module": "@jupyter-widgets/controls",
            "_model_module_version": "1.5.0",
            "_model_name": "FloatProgressModel",
            "_view_count": null,
            "_view_module": "@jupyter-widgets/controls",
            "_view_module_version": "1.5.0",
            "_view_name": "ProgressView",
            "bar_style": "success",
            "description": "",
            "description_tooltip": null,
            "layout": "IPY_MODEL_c3efeb225bfa44bd9a528b4202894e51",
            "max": 231508,
            "min": 0,
            "orientation": "horizontal",
            "style": "IPY_MODEL_63332df76f014025ac067ae095a7456d",
            "value": 231508
          }
        },
        "1292052d02f64ceea3f4843d247da3e6": {
          "model_module": "@jupyter-widgets/controls",
          "model_name": "HTMLModel",
          "model_module_version": "1.5.0",
          "state": {
            "_dom_classes": [],
            "_model_module": "@jupyter-widgets/controls",
            "_model_module_version": "1.5.0",
            "_model_name": "HTMLModel",
            "_view_count": null,
            "_view_module": "@jupyter-widgets/controls",
            "_view_module_version": "1.5.0",
            "_view_name": "HTMLView",
            "description": "",
            "description_tooltip": null,
            "layout": "IPY_MODEL_b6347c0fb9ac41329590fbab580dae47",
            "placeholder": "​",
            "style": "IPY_MODEL_876ce776db1648e69351059ea6f2ff41",
            "value": " 226k/226k [00:00&lt;00:00, 354kB/s]"
          }
        },
        "c6eea9e709c4471eac9e9c9abff3e9fb": {
          "model_module": "@jupyter-widgets/base",
          "model_name": "LayoutModel",
          "model_module_version": "1.2.0",
          "state": {
            "_model_module": "@jupyter-widgets/base",
            "_model_module_version": "1.2.0",
            "_model_name": "LayoutModel",
            "_view_count": null,
            "_view_module": "@jupyter-widgets/base",
            "_view_module_version": "1.2.0",
            "_view_name": "LayoutView",
            "align_content": null,
            "align_items": null,
            "align_self": null,
            "border": null,
            "bottom": null,
            "display": null,
            "flex": null,
            "flex_flow": null,
            "grid_area": null,
            "grid_auto_columns": null,
            "grid_auto_flow": null,
            "grid_auto_rows": null,
            "grid_column": null,
            "grid_gap": null,
            "grid_row": null,
            "grid_template_areas": null,
            "grid_template_columns": null,
            "grid_template_rows": null,
            "height": null,
            "justify_content": null,
            "justify_items": null,
            "left": null,
            "margin": null,
            "max_height": null,
            "max_width": null,
            "min_height": null,
            "min_width": null,
            "object_fit": null,
            "object_position": null,
            "order": null,
            "overflow": null,
            "overflow_x": null,
            "overflow_y": null,
            "padding": null,
            "right": null,
            "top": null,
            "visibility": null,
            "width": null
          }
        },
        "048ca3c0a69a4ee1b3c190bfaae0b5e5": {
          "model_module": "@jupyter-widgets/base",
          "model_name": "LayoutModel",
          "model_module_version": "1.2.0",
          "state": {
            "_model_module": "@jupyter-widgets/base",
            "_model_module_version": "1.2.0",
            "_model_name": "LayoutModel",
            "_view_count": null,
            "_view_module": "@jupyter-widgets/base",
            "_view_module_version": "1.2.0",
            "_view_name": "LayoutView",
            "align_content": null,
            "align_items": null,
            "align_self": null,
            "border": null,
            "bottom": null,
            "display": null,
            "flex": null,
            "flex_flow": null,
            "grid_area": null,
            "grid_auto_columns": null,
            "grid_auto_flow": null,
            "grid_auto_rows": null,
            "grid_column": null,
            "grid_gap": null,
            "grid_row": null,
            "grid_template_areas": null,
            "grid_template_columns": null,
            "grid_template_rows": null,
            "height": null,
            "justify_content": null,
            "justify_items": null,
            "left": null,
            "margin": null,
            "max_height": null,
            "max_width": null,
            "min_height": null,
            "min_width": null,
            "object_fit": null,
            "object_position": null,
            "order": null,
            "overflow": null,
            "overflow_x": null,
            "overflow_y": null,
            "padding": null,
            "right": null,
            "top": null,
            "visibility": null,
            "width": null
          }
        },
        "1311cfa72a5943bd81e52d662a366aa3": {
          "model_module": "@jupyter-widgets/controls",
          "model_name": "DescriptionStyleModel",
          "model_module_version": "1.5.0",
          "state": {
            "_model_module": "@jupyter-widgets/controls",
            "_model_module_version": "1.5.0",
            "_model_name": "DescriptionStyleModel",
            "_view_count": null,
            "_view_module": "@jupyter-widgets/base",
            "_view_module_version": "1.2.0",
            "_view_name": "StyleView",
            "description_width": ""
          }
        },
        "c3efeb225bfa44bd9a528b4202894e51": {
          "model_module": "@jupyter-widgets/base",
          "model_name": "LayoutModel",
          "model_module_version": "1.2.0",
          "state": {
            "_model_module": "@jupyter-widgets/base",
            "_model_module_version": "1.2.0",
            "_model_name": "LayoutModel",
            "_view_count": null,
            "_view_module": "@jupyter-widgets/base",
            "_view_module_version": "1.2.0",
            "_view_name": "LayoutView",
            "align_content": null,
            "align_items": null,
            "align_self": null,
            "border": null,
            "bottom": null,
            "display": null,
            "flex": null,
            "flex_flow": null,
            "grid_area": null,
            "grid_auto_columns": null,
            "grid_auto_flow": null,
            "grid_auto_rows": null,
            "grid_column": null,
            "grid_gap": null,
            "grid_row": null,
            "grid_template_areas": null,
            "grid_template_columns": null,
            "grid_template_rows": null,
            "height": null,
            "justify_content": null,
            "justify_items": null,
            "left": null,
            "margin": null,
            "max_height": null,
            "max_width": null,
            "min_height": null,
            "min_width": null,
            "object_fit": null,
            "object_position": null,
            "order": null,
            "overflow": null,
            "overflow_x": null,
            "overflow_y": null,
            "padding": null,
            "right": null,
            "top": null,
            "visibility": null,
            "width": null
          }
        },
        "63332df76f014025ac067ae095a7456d": {
          "model_module": "@jupyter-widgets/controls",
          "model_name": "ProgressStyleModel",
          "model_module_version": "1.5.0",
          "state": {
            "_model_module": "@jupyter-widgets/controls",
            "_model_module_version": "1.5.0",
            "_model_name": "ProgressStyleModel",
            "_view_count": null,
            "_view_module": "@jupyter-widgets/base",
            "_view_module_version": "1.2.0",
            "_view_name": "StyleView",
            "bar_color": null,
            "description_width": ""
          }
        },
        "b6347c0fb9ac41329590fbab580dae47": {
          "model_module": "@jupyter-widgets/base",
          "model_name": "LayoutModel",
          "model_module_version": "1.2.0",
          "state": {
            "_model_module": "@jupyter-widgets/base",
            "_model_module_version": "1.2.0",
            "_model_name": "LayoutModel",
            "_view_count": null,
            "_view_module": "@jupyter-widgets/base",
            "_view_module_version": "1.2.0",
            "_view_name": "LayoutView",
            "align_content": null,
            "align_items": null,
            "align_self": null,
            "border": null,
            "bottom": null,
            "display": null,
            "flex": null,
            "flex_flow": null,
            "grid_area": null,
            "grid_auto_columns": null,
            "grid_auto_flow": null,
            "grid_auto_rows": null,
            "grid_column": null,
            "grid_gap": null,
            "grid_row": null,
            "grid_template_areas": null,
            "grid_template_columns": null,
            "grid_template_rows": null,
            "height": null,
            "justify_content": null,
            "justify_items": null,
            "left": null,
            "margin": null,
            "max_height": null,
            "max_width": null,
            "min_height": null,
            "min_width": null,
            "object_fit": null,
            "object_position": null,
            "order": null,
            "overflow": null,
            "overflow_x": null,
            "overflow_y": null,
            "padding": null,
            "right": null,
            "top": null,
            "visibility": null,
            "width": null
          }
        },
        "876ce776db1648e69351059ea6f2ff41": {
          "model_module": "@jupyter-widgets/controls",
          "model_name": "DescriptionStyleModel",
          "model_module_version": "1.5.0",
          "state": {
            "_model_module": "@jupyter-widgets/controls",
            "_model_module_version": "1.5.0",
            "_model_name": "DescriptionStyleModel",
            "_view_count": null,
            "_view_module": "@jupyter-widgets/base",
            "_view_module_version": "1.2.0",
            "_view_name": "StyleView",
            "description_width": ""
          }
        },
        "aee0e085f37a4674ac4f62029a841de2": {
          "model_module": "@jupyter-widgets/controls",
          "model_name": "HBoxModel",
          "model_module_version": "1.5.0",
          "state": {
            "_dom_classes": [],
            "_model_module": "@jupyter-widgets/controls",
            "_model_module_version": "1.5.0",
            "_model_name": "HBoxModel",
            "_view_count": null,
            "_view_module": "@jupyter-widgets/controls",
            "_view_module_version": "1.5.0",
            "_view_name": "HBoxView",
            "box_style": "",
            "children": [
              "IPY_MODEL_928ce86323ad4b3186e123f108e87a96",
              "IPY_MODEL_65be22ce88b745c6a3be6f28f4f9a61f",
              "IPY_MODEL_7d317ac1ae6840c286e1b8f36dfad84c"
            ],
            "layout": "IPY_MODEL_3a6f388e907d4d45839de644e3db0f80"
          }
        },
        "928ce86323ad4b3186e123f108e87a96": {
          "model_module": "@jupyter-widgets/controls",
          "model_name": "HTMLModel",
          "model_module_version": "1.5.0",
          "state": {
            "_dom_classes": [],
            "_model_module": "@jupyter-widgets/controls",
            "_model_module_version": "1.5.0",
            "_model_name": "HTMLModel",
            "_view_count": null,
            "_view_module": "@jupyter-widgets/controls",
            "_view_module_version": "1.5.0",
            "_view_name": "HTMLView",
            "description": "",
            "description_tooltip": null,
            "layout": "IPY_MODEL_a2251f14a5de48caa65bac8c48113545",
            "placeholder": "​",
            "style": "IPY_MODEL_40511fbd733c400fb76dabf985cb7a07",
            "value": "Downloading: 100%"
          }
        },
        "65be22ce88b745c6a3be6f28f4f9a61f": {
          "model_module": "@jupyter-widgets/controls",
          "model_name": "FloatProgressModel",
          "model_module_version": "1.5.0",
          "state": {
            "_dom_classes": [],
            "_model_module": "@jupyter-widgets/controls",
            "_model_module_version": "1.5.0",
            "_model_name": "FloatProgressModel",
            "_view_count": null,
            "_view_module": "@jupyter-widgets/controls",
            "_view_module_version": "1.5.0",
            "_view_name": "ProgressView",
            "bar_style": "success",
            "description": "",
            "description_tooltip": null,
            "layout": "IPY_MODEL_c1a62116d98547618700e67d1a77c99a",
            "max": 28,
            "min": 0,
            "orientation": "horizontal",
            "style": "IPY_MODEL_eb6fe4fa8a3d47fbb6571c1686879a05",
            "value": 28
          }
        },
        "7d317ac1ae6840c286e1b8f36dfad84c": {
          "model_module": "@jupyter-widgets/controls",
          "model_name": "HTMLModel",
          "model_module_version": "1.5.0",
          "state": {
            "_dom_classes": [],
            "_model_module": "@jupyter-widgets/controls",
            "_model_module_version": "1.5.0",
            "_model_name": "HTMLModel",
            "_view_count": null,
            "_view_module": "@jupyter-widgets/controls",
            "_view_module_version": "1.5.0",
            "_view_name": "HTMLView",
            "description": "",
            "description_tooltip": null,
            "layout": "IPY_MODEL_b4c3b42a1393439284b583e8ee5b1bbb",
            "placeholder": "​",
            "style": "IPY_MODEL_804529020fff4799aa6e0c0a9b782e6a",
            "value": " 28.0/28.0 [00:00&lt;00:00, 147B/s]"
          }
        },
        "3a6f388e907d4d45839de644e3db0f80": {
          "model_module": "@jupyter-widgets/base",
          "model_name": "LayoutModel",
          "model_module_version": "1.2.0",
          "state": {
            "_model_module": "@jupyter-widgets/base",
            "_model_module_version": "1.2.0",
            "_model_name": "LayoutModel",
            "_view_count": null,
            "_view_module": "@jupyter-widgets/base",
            "_view_module_version": "1.2.0",
            "_view_name": "LayoutView",
            "align_content": null,
            "align_items": null,
            "align_self": null,
            "border": null,
            "bottom": null,
            "display": null,
            "flex": null,
            "flex_flow": null,
            "grid_area": null,
            "grid_auto_columns": null,
            "grid_auto_flow": null,
            "grid_auto_rows": null,
            "grid_column": null,
            "grid_gap": null,
            "grid_row": null,
            "grid_template_areas": null,
            "grid_template_columns": null,
            "grid_template_rows": null,
            "height": null,
            "justify_content": null,
            "justify_items": null,
            "left": null,
            "margin": null,
            "max_height": null,
            "max_width": null,
            "min_height": null,
            "min_width": null,
            "object_fit": null,
            "object_position": null,
            "order": null,
            "overflow": null,
            "overflow_x": null,
            "overflow_y": null,
            "padding": null,
            "right": null,
            "top": null,
            "visibility": null,
            "width": null
          }
        },
        "a2251f14a5de48caa65bac8c48113545": {
          "model_module": "@jupyter-widgets/base",
          "model_name": "LayoutModel",
          "model_module_version": "1.2.0",
          "state": {
            "_model_module": "@jupyter-widgets/base",
            "_model_module_version": "1.2.0",
            "_model_name": "LayoutModel",
            "_view_count": null,
            "_view_module": "@jupyter-widgets/base",
            "_view_module_version": "1.2.0",
            "_view_name": "LayoutView",
            "align_content": null,
            "align_items": null,
            "align_self": null,
            "border": null,
            "bottom": null,
            "display": null,
            "flex": null,
            "flex_flow": null,
            "grid_area": null,
            "grid_auto_columns": null,
            "grid_auto_flow": null,
            "grid_auto_rows": null,
            "grid_column": null,
            "grid_gap": null,
            "grid_row": null,
            "grid_template_areas": null,
            "grid_template_columns": null,
            "grid_template_rows": null,
            "height": null,
            "justify_content": null,
            "justify_items": null,
            "left": null,
            "margin": null,
            "max_height": null,
            "max_width": null,
            "min_height": null,
            "min_width": null,
            "object_fit": null,
            "object_position": null,
            "order": null,
            "overflow": null,
            "overflow_x": null,
            "overflow_y": null,
            "padding": null,
            "right": null,
            "top": null,
            "visibility": null,
            "width": null
          }
        },
        "40511fbd733c400fb76dabf985cb7a07": {
          "model_module": "@jupyter-widgets/controls",
          "model_name": "DescriptionStyleModel",
          "model_module_version": "1.5.0",
          "state": {
            "_model_module": "@jupyter-widgets/controls",
            "_model_module_version": "1.5.0",
            "_model_name": "DescriptionStyleModel",
            "_view_count": null,
            "_view_module": "@jupyter-widgets/base",
            "_view_module_version": "1.2.0",
            "_view_name": "StyleView",
            "description_width": ""
          }
        },
        "c1a62116d98547618700e67d1a77c99a": {
          "model_module": "@jupyter-widgets/base",
          "model_name": "LayoutModel",
          "model_module_version": "1.2.0",
          "state": {
            "_model_module": "@jupyter-widgets/base",
            "_model_module_version": "1.2.0",
            "_model_name": "LayoutModel",
            "_view_count": null,
            "_view_module": "@jupyter-widgets/base",
            "_view_module_version": "1.2.0",
            "_view_name": "LayoutView",
            "align_content": null,
            "align_items": null,
            "align_self": null,
            "border": null,
            "bottom": null,
            "display": null,
            "flex": null,
            "flex_flow": null,
            "grid_area": null,
            "grid_auto_columns": null,
            "grid_auto_flow": null,
            "grid_auto_rows": null,
            "grid_column": null,
            "grid_gap": null,
            "grid_row": null,
            "grid_template_areas": null,
            "grid_template_columns": null,
            "grid_template_rows": null,
            "height": null,
            "justify_content": null,
            "justify_items": null,
            "left": null,
            "margin": null,
            "max_height": null,
            "max_width": null,
            "min_height": null,
            "min_width": null,
            "object_fit": null,
            "object_position": null,
            "order": null,
            "overflow": null,
            "overflow_x": null,
            "overflow_y": null,
            "padding": null,
            "right": null,
            "top": null,
            "visibility": null,
            "width": null
          }
        },
        "eb6fe4fa8a3d47fbb6571c1686879a05": {
          "model_module": "@jupyter-widgets/controls",
          "model_name": "ProgressStyleModel",
          "model_module_version": "1.5.0",
          "state": {
            "_model_module": "@jupyter-widgets/controls",
            "_model_module_version": "1.5.0",
            "_model_name": "ProgressStyleModel",
            "_view_count": null,
            "_view_module": "@jupyter-widgets/base",
            "_view_module_version": "1.2.0",
            "_view_name": "StyleView",
            "bar_color": null,
            "description_width": ""
          }
        },
        "b4c3b42a1393439284b583e8ee5b1bbb": {
          "model_module": "@jupyter-widgets/base",
          "model_name": "LayoutModel",
          "model_module_version": "1.2.0",
          "state": {
            "_model_module": "@jupyter-widgets/base",
            "_model_module_version": "1.2.0",
            "_model_name": "LayoutModel",
            "_view_count": null,
            "_view_module": "@jupyter-widgets/base",
            "_view_module_version": "1.2.0",
            "_view_name": "LayoutView",
            "align_content": null,
            "align_items": null,
            "align_self": null,
            "border": null,
            "bottom": null,
            "display": null,
            "flex": null,
            "flex_flow": null,
            "grid_area": null,
            "grid_auto_columns": null,
            "grid_auto_flow": null,
            "grid_auto_rows": null,
            "grid_column": null,
            "grid_gap": null,
            "grid_row": null,
            "grid_template_areas": null,
            "grid_template_columns": null,
            "grid_template_rows": null,
            "height": null,
            "justify_content": null,
            "justify_items": null,
            "left": null,
            "margin": null,
            "max_height": null,
            "max_width": null,
            "min_height": null,
            "min_width": null,
            "object_fit": null,
            "object_position": null,
            "order": null,
            "overflow": null,
            "overflow_x": null,
            "overflow_y": null,
            "padding": null,
            "right": null,
            "top": null,
            "visibility": null,
            "width": null
          }
        },
        "804529020fff4799aa6e0c0a9b782e6a": {
          "model_module": "@jupyter-widgets/controls",
          "model_name": "DescriptionStyleModel",
          "model_module_version": "1.5.0",
          "state": {
            "_model_module": "@jupyter-widgets/controls",
            "_model_module_version": "1.5.0",
            "_model_name": "DescriptionStyleModel",
            "_view_count": null,
            "_view_module": "@jupyter-widgets/base",
            "_view_module_version": "1.2.0",
            "_view_name": "StyleView",
            "description_width": ""
          }
        },
        "db89d8e972744e7fb59e6a461e54c65d": {
          "model_module": "@jupyter-widgets/controls",
          "model_name": "HBoxModel",
          "model_module_version": "1.5.0",
          "state": {
            "_dom_classes": [],
            "_model_module": "@jupyter-widgets/controls",
            "_model_module_version": "1.5.0",
            "_model_name": "HBoxModel",
            "_view_count": null,
            "_view_module": "@jupyter-widgets/controls",
            "_view_module_version": "1.5.0",
            "_view_name": "HBoxView",
            "box_style": "",
            "children": [
              "IPY_MODEL_761791c4b5e84f1e9bcd318fd4417eb5",
              "IPY_MODEL_9515e083dbcb4bb595f80dfb1cf12289",
              "IPY_MODEL_78fc4a94a71443a1bcf37649362e8e0a"
            ],
            "layout": "IPY_MODEL_db96070ac9fb4aa4968c669c2a045e44"
          }
        },
        "761791c4b5e84f1e9bcd318fd4417eb5": {
          "model_module": "@jupyter-widgets/controls",
          "model_name": "HTMLModel",
          "model_module_version": "1.5.0",
          "state": {
            "_dom_classes": [],
            "_model_module": "@jupyter-widgets/controls",
            "_model_module_version": "1.5.0",
            "_model_name": "HTMLModel",
            "_view_count": null,
            "_view_module": "@jupyter-widgets/controls",
            "_view_module_version": "1.5.0",
            "_view_name": "HTMLView",
            "description": "",
            "description_tooltip": null,
            "layout": "IPY_MODEL_388998610e1b4bc8a8e021892b64933d",
            "placeholder": "​",
            "style": "IPY_MODEL_4bd652e7a6de49b09f828cae35b526a7",
            "value": "Downloading: 100%"
          }
        },
        "9515e083dbcb4bb595f80dfb1cf12289": {
          "model_module": "@jupyter-widgets/controls",
          "model_name": "FloatProgressModel",
          "model_module_version": "1.5.0",
          "state": {
            "_dom_classes": [],
            "_model_module": "@jupyter-widgets/controls",
            "_model_module_version": "1.5.0",
            "_model_name": "FloatProgressModel",
            "_view_count": null,
            "_view_module": "@jupyter-widgets/controls",
            "_view_module_version": "1.5.0",
            "_view_name": "ProgressView",
            "bar_style": "success",
            "description": "",
            "description_tooltip": null,
            "layout": "IPY_MODEL_b67f53d88c47404ab091c89bf29f61eb",
            "max": 570,
            "min": 0,
            "orientation": "horizontal",
            "style": "IPY_MODEL_d202a7f740454419b822cf5e14b996fe",
            "value": 570
          }
        },
        "78fc4a94a71443a1bcf37649362e8e0a": {
          "model_module": "@jupyter-widgets/controls",
          "model_name": "HTMLModel",
          "model_module_version": "1.5.0",
          "state": {
            "_dom_classes": [],
            "_model_module": "@jupyter-widgets/controls",
            "_model_module_version": "1.5.0",
            "_model_name": "HTMLModel",
            "_view_count": null,
            "_view_module": "@jupyter-widgets/controls",
            "_view_module_version": "1.5.0",
            "_view_name": "HTMLView",
            "description": "",
            "description_tooltip": null,
            "layout": "IPY_MODEL_1a728b86d8f94fa8bc8f8d903479abde",
            "placeholder": "​",
            "style": "IPY_MODEL_def359a9da574dbbacfd1a75aeb9b40a",
            "value": " 570/570 [00:00&lt;00:00, 4.41kB/s]"
          }
        },
        "db96070ac9fb4aa4968c669c2a045e44": {
          "model_module": "@jupyter-widgets/base",
          "model_name": "LayoutModel",
          "model_module_version": "1.2.0",
          "state": {
            "_model_module": "@jupyter-widgets/base",
            "_model_module_version": "1.2.0",
            "_model_name": "LayoutModel",
            "_view_count": null,
            "_view_module": "@jupyter-widgets/base",
            "_view_module_version": "1.2.0",
            "_view_name": "LayoutView",
            "align_content": null,
            "align_items": null,
            "align_self": null,
            "border": null,
            "bottom": null,
            "display": null,
            "flex": null,
            "flex_flow": null,
            "grid_area": null,
            "grid_auto_columns": null,
            "grid_auto_flow": null,
            "grid_auto_rows": null,
            "grid_column": null,
            "grid_gap": null,
            "grid_row": null,
            "grid_template_areas": null,
            "grid_template_columns": null,
            "grid_template_rows": null,
            "height": null,
            "justify_content": null,
            "justify_items": null,
            "left": null,
            "margin": null,
            "max_height": null,
            "max_width": null,
            "min_height": null,
            "min_width": null,
            "object_fit": null,
            "object_position": null,
            "order": null,
            "overflow": null,
            "overflow_x": null,
            "overflow_y": null,
            "padding": null,
            "right": null,
            "top": null,
            "visibility": null,
            "width": null
          }
        },
        "388998610e1b4bc8a8e021892b64933d": {
          "model_module": "@jupyter-widgets/base",
          "model_name": "LayoutModel",
          "model_module_version": "1.2.0",
          "state": {
            "_model_module": "@jupyter-widgets/base",
            "_model_module_version": "1.2.0",
            "_model_name": "LayoutModel",
            "_view_count": null,
            "_view_module": "@jupyter-widgets/base",
            "_view_module_version": "1.2.0",
            "_view_name": "LayoutView",
            "align_content": null,
            "align_items": null,
            "align_self": null,
            "border": null,
            "bottom": null,
            "display": null,
            "flex": null,
            "flex_flow": null,
            "grid_area": null,
            "grid_auto_columns": null,
            "grid_auto_flow": null,
            "grid_auto_rows": null,
            "grid_column": null,
            "grid_gap": null,
            "grid_row": null,
            "grid_template_areas": null,
            "grid_template_columns": null,
            "grid_template_rows": null,
            "height": null,
            "justify_content": null,
            "justify_items": null,
            "left": null,
            "margin": null,
            "max_height": null,
            "max_width": null,
            "min_height": null,
            "min_width": null,
            "object_fit": null,
            "object_position": null,
            "order": null,
            "overflow": null,
            "overflow_x": null,
            "overflow_y": null,
            "padding": null,
            "right": null,
            "top": null,
            "visibility": null,
            "width": null
          }
        },
        "4bd652e7a6de49b09f828cae35b526a7": {
          "model_module": "@jupyter-widgets/controls",
          "model_name": "DescriptionStyleModel",
          "model_module_version": "1.5.0",
          "state": {
            "_model_module": "@jupyter-widgets/controls",
            "_model_module_version": "1.5.0",
            "_model_name": "DescriptionStyleModel",
            "_view_count": null,
            "_view_module": "@jupyter-widgets/base",
            "_view_module_version": "1.2.0",
            "_view_name": "StyleView",
            "description_width": ""
          }
        },
        "b67f53d88c47404ab091c89bf29f61eb": {
          "model_module": "@jupyter-widgets/base",
          "model_name": "LayoutModel",
          "model_module_version": "1.2.0",
          "state": {
            "_model_module": "@jupyter-widgets/base",
            "_model_module_version": "1.2.0",
            "_model_name": "LayoutModel",
            "_view_count": null,
            "_view_module": "@jupyter-widgets/base",
            "_view_module_version": "1.2.0",
            "_view_name": "LayoutView",
            "align_content": null,
            "align_items": null,
            "align_self": null,
            "border": null,
            "bottom": null,
            "display": null,
            "flex": null,
            "flex_flow": null,
            "grid_area": null,
            "grid_auto_columns": null,
            "grid_auto_flow": null,
            "grid_auto_rows": null,
            "grid_column": null,
            "grid_gap": null,
            "grid_row": null,
            "grid_template_areas": null,
            "grid_template_columns": null,
            "grid_template_rows": null,
            "height": null,
            "justify_content": null,
            "justify_items": null,
            "left": null,
            "margin": null,
            "max_height": null,
            "max_width": null,
            "min_height": null,
            "min_width": null,
            "object_fit": null,
            "object_position": null,
            "order": null,
            "overflow": null,
            "overflow_x": null,
            "overflow_y": null,
            "padding": null,
            "right": null,
            "top": null,
            "visibility": null,
            "width": null
          }
        },
        "d202a7f740454419b822cf5e14b996fe": {
          "model_module": "@jupyter-widgets/controls",
          "model_name": "ProgressStyleModel",
          "model_module_version": "1.5.0",
          "state": {
            "_model_module": "@jupyter-widgets/controls",
            "_model_module_version": "1.5.0",
            "_model_name": "ProgressStyleModel",
            "_view_count": null,
            "_view_module": "@jupyter-widgets/base",
            "_view_module_version": "1.2.0",
            "_view_name": "StyleView",
            "bar_color": null,
            "description_width": ""
          }
        },
        "1a728b86d8f94fa8bc8f8d903479abde": {
          "model_module": "@jupyter-widgets/base",
          "model_name": "LayoutModel",
          "model_module_version": "1.2.0",
          "state": {
            "_model_module": "@jupyter-widgets/base",
            "_model_module_version": "1.2.0",
            "_model_name": "LayoutModel",
            "_view_count": null,
            "_view_module": "@jupyter-widgets/base",
            "_view_module_version": "1.2.0",
            "_view_name": "LayoutView",
            "align_content": null,
            "align_items": null,
            "align_self": null,
            "border": null,
            "bottom": null,
            "display": null,
            "flex": null,
            "flex_flow": null,
            "grid_area": null,
            "grid_auto_columns": null,
            "grid_auto_flow": null,
            "grid_auto_rows": null,
            "grid_column": null,
            "grid_gap": null,
            "grid_row": null,
            "grid_template_areas": null,
            "grid_template_columns": null,
            "grid_template_rows": null,
            "height": null,
            "justify_content": null,
            "justify_items": null,
            "left": null,
            "margin": null,
            "max_height": null,
            "max_width": null,
            "min_height": null,
            "min_width": null,
            "object_fit": null,
            "object_position": null,
            "order": null,
            "overflow": null,
            "overflow_x": null,
            "overflow_y": null,
            "padding": null,
            "right": null,
            "top": null,
            "visibility": null,
            "width": null
          }
        },
        "def359a9da574dbbacfd1a75aeb9b40a": {
          "model_module": "@jupyter-widgets/controls",
          "model_name": "DescriptionStyleModel",
          "model_module_version": "1.5.0",
          "state": {
            "_model_module": "@jupyter-widgets/controls",
            "_model_module_version": "1.5.0",
            "_model_name": "DescriptionStyleModel",
            "_view_count": null,
            "_view_module": "@jupyter-widgets/base",
            "_view_module_version": "1.2.0",
            "_view_name": "StyleView",
            "description_width": ""
          }
        },
        "e41efde8ae51465fb7717ba59bc8a140": {
          "model_module": "@jupyter-widgets/controls",
          "model_name": "HBoxModel",
          "model_module_version": "1.5.0",
          "state": {
            "_dom_classes": [],
            "_model_module": "@jupyter-widgets/controls",
            "_model_module_version": "1.5.0",
            "_model_name": "HBoxModel",
            "_view_count": null,
            "_view_module": "@jupyter-widgets/controls",
            "_view_module_version": "1.5.0",
            "_view_name": "HBoxView",
            "box_style": "",
            "children": [
              "IPY_MODEL_a8e32e5422204a5c858ef9721be7ad05",
              "IPY_MODEL_856628149c6748ecadd7123123991a37",
              "IPY_MODEL_ec33c9d2075f45ceb3d52b6d0be5c30f"
            ],
            "layout": "IPY_MODEL_9b4eef8cd2d74f439cdecd4c199522dc"
          }
        },
        "a8e32e5422204a5c858ef9721be7ad05": {
          "model_module": "@jupyter-widgets/controls",
          "model_name": "HTMLModel",
          "model_module_version": "1.5.0",
          "state": {
            "_dom_classes": [],
            "_model_module": "@jupyter-widgets/controls",
            "_model_module_version": "1.5.0",
            "_model_name": "HTMLModel",
            "_view_count": null,
            "_view_module": "@jupyter-widgets/controls",
            "_view_module_version": "1.5.0",
            "_view_name": "HTMLView",
            "description": "",
            "description_tooltip": null,
            "layout": "IPY_MODEL_15f6a6265be142289ca5d21d1f3043c3",
            "placeholder": "​",
            "style": "IPY_MODEL_3cc79283b3e348338a2dc4c6e9f236ea",
            "value": "Downloading: 100%"
          }
        },
        "856628149c6748ecadd7123123991a37": {
          "model_module": "@jupyter-widgets/controls",
          "model_name": "FloatProgressModel",
          "model_module_version": "1.5.0",
          "state": {
            "_dom_classes": [],
            "_model_module": "@jupyter-widgets/controls",
            "_model_module_version": "1.5.0",
            "_model_name": "FloatProgressModel",
            "_view_count": null,
            "_view_module": "@jupyter-widgets/controls",
            "_view_module_version": "1.5.0",
            "_view_name": "ProgressView",
            "bar_style": "success",
            "description": "",
            "description_tooltip": null,
            "layout": "IPY_MODEL_c82e2d751a98458881624458bc5da504",
            "max": 440473133,
            "min": 0,
            "orientation": "horizontal",
            "style": "IPY_MODEL_6ff79343f2b14ea48f4c13ca8dc67b04",
            "value": 440473133
          }
        },
        "ec33c9d2075f45ceb3d52b6d0be5c30f": {
          "model_module": "@jupyter-widgets/controls",
          "model_name": "HTMLModel",
          "model_module_version": "1.5.0",
          "state": {
            "_dom_classes": [],
            "_model_module": "@jupyter-widgets/controls",
            "_model_module_version": "1.5.0",
            "_model_name": "HTMLModel",
            "_view_count": null,
            "_view_module": "@jupyter-widgets/controls",
            "_view_module_version": "1.5.0",
            "_view_name": "HTMLView",
            "description": "",
            "description_tooltip": null,
            "layout": "IPY_MODEL_c371f2aef07449c981222b38461e4ead",
            "placeholder": "​",
            "style": "IPY_MODEL_1936d217535840b9a9216d2a7d1d5cb4",
            "value": " 420M/420M [00:14&lt;00:00, 30.2MB/s]"
          }
        },
        "9b4eef8cd2d74f439cdecd4c199522dc": {
          "model_module": "@jupyter-widgets/base",
          "model_name": "LayoutModel",
          "model_module_version": "1.2.0",
          "state": {
            "_model_module": "@jupyter-widgets/base",
            "_model_module_version": "1.2.0",
            "_model_name": "LayoutModel",
            "_view_count": null,
            "_view_module": "@jupyter-widgets/base",
            "_view_module_version": "1.2.0",
            "_view_name": "LayoutView",
            "align_content": null,
            "align_items": null,
            "align_self": null,
            "border": null,
            "bottom": null,
            "display": null,
            "flex": null,
            "flex_flow": null,
            "grid_area": null,
            "grid_auto_columns": null,
            "grid_auto_flow": null,
            "grid_auto_rows": null,
            "grid_column": null,
            "grid_gap": null,
            "grid_row": null,
            "grid_template_areas": null,
            "grid_template_columns": null,
            "grid_template_rows": null,
            "height": null,
            "justify_content": null,
            "justify_items": null,
            "left": null,
            "margin": null,
            "max_height": null,
            "max_width": null,
            "min_height": null,
            "min_width": null,
            "object_fit": null,
            "object_position": null,
            "order": null,
            "overflow": null,
            "overflow_x": null,
            "overflow_y": null,
            "padding": null,
            "right": null,
            "top": null,
            "visibility": null,
            "width": null
          }
        },
        "15f6a6265be142289ca5d21d1f3043c3": {
          "model_module": "@jupyter-widgets/base",
          "model_name": "LayoutModel",
          "model_module_version": "1.2.0",
          "state": {
            "_model_module": "@jupyter-widgets/base",
            "_model_module_version": "1.2.0",
            "_model_name": "LayoutModel",
            "_view_count": null,
            "_view_module": "@jupyter-widgets/base",
            "_view_module_version": "1.2.0",
            "_view_name": "LayoutView",
            "align_content": null,
            "align_items": null,
            "align_self": null,
            "border": null,
            "bottom": null,
            "display": null,
            "flex": null,
            "flex_flow": null,
            "grid_area": null,
            "grid_auto_columns": null,
            "grid_auto_flow": null,
            "grid_auto_rows": null,
            "grid_column": null,
            "grid_gap": null,
            "grid_row": null,
            "grid_template_areas": null,
            "grid_template_columns": null,
            "grid_template_rows": null,
            "height": null,
            "justify_content": null,
            "justify_items": null,
            "left": null,
            "margin": null,
            "max_height": null,
            "max_width": null,
            "min_height": null,
            "min_width": null,
            "object_fit": null,
            "object_position": null,
            "order": null,
            "overflow": null,
            "overflow_x": null,
            "overflow_y": null,
            "padding": null,
            "right": null,
            "top": null,
            "visibility": null,
            "width": null
          }
        },
        "3cc79283b3e348338a2dc4c6e9f236ea": {
          "model_module": "@jupyter-widgets/controls",
          "model_name": "DescriptionStyleModel",
          "model_module_version": "1.5.0",
          "state": {
            "_model_module": "@jupyter-widgets/controls",
            "_model_module_version": "1.5.0",
            "_model_name": "DescriptionStyleModel",
            "_view_count": null,
            "_view_module": "@jupyter-widgets/base",
            "_view_module_version": "1.2.0",
            "_view_name": "StyleView",
            "description_width": ""
          }
        },
        "c82e2d751a98458881624458bc5da504": {
          "model_module": "@jupyter-widgets/base",
          "model_name": "LayoutModel",
          "model_module_version": "1.2.0",
          "state": {
            "_model_module": "@jupyter-widgets/base",
            "_model_module_version": "1.2.0",
            "_model_name": "LayoutModel",
            "_view_count": null,
            "_view_module": "@jupyter-widgets/base",
            "_view_module_version": "1.2.0",
            "_view_name": "LayoutView",
            "align_content": null,
            "align_items": null,
            "align_self": null,
            "border": null,
            "bottom": null,
            "display": null,
            "flex": null,
            "flex_flow": null,
            "grid_area": null,
            "grid_auto_columns": null,
            "grid_auto_flow": null,
            "grid_auto_rows": null,
            "grid_column": null,
            "grid_gap": null,
            "grid_row": null,
            "grid_template_areas": null,
            "grid_template_columns": null,
            "grid_template_rows": null,
            "height": null,
            "justify_content": null,
            "justify_items": null,
            "left": null,
            "margin": null,
            "max_height": null,
            "max_width": null,
            "min_height": null,
            "min_width": null,
            "object_fit": null,
            "object_position": null,
            "order": null,
            "overflow": null,
            "overflow_x": null,
            "overflow_y": null,
            "padding": null,
            "right": null,
            "top": null,
            "visibility": null,
            "width": null
          }
        },
        "6ff79343f2b14ea48f4c13ca8dc67b04": {
          "model_module": "@jupyter-widgets/controls",
          "model_name": "ProgressStyleModel",
          "model_module_version": "1.5.0",
          "state": {
            "_model_module": "@jupyter-widgets/controls",
            "_model_module_version": "1.5.0",
            "_model_name": "ProgressStyleModel",
            "_view_count": null,
            "_view_module": "@jupyter-widgets/base",
            "_view_module_version": "1.2.0",
            "_view_name": "StyleView",
            "bar_color": null,
            "description_width": ""
          }
        },
        "c371f2aef07449c981222b38461e4ead": {
          "model_module": "@jupyter-widgets/base",
          "model_name": "LayoutModel",
          "model_module_version": "1.2.0",
          "state": {
            "_model_module": "@jupyter-widgets/base",
            "_model_module_version": "1.2.0",
            "_model_name": "LayoutModel",
            "_view_count": null,
            "_view_module": "@jupyter-widgets/base",
            "_view_module_version": "1.2.0",
            "_view_name": "LayoutView",
            "align_content": null,
            "align_items": null,
            "align_self": null,
            "border": null,
            "bottom": null,
            "display": null,
            "flex": null,
            "flex_flow": null,
            "grid_area": null,
            "grid_auto_columns": null,
            "grid_auto_flow": null,
            "grid_auto_rows": null,
            "grid_column": null,
            "grid_gap": null,
            "grid_row": null,
            "grid_template_areas": null,
            "grid_template_columns": null,
            "grid_template_rows": null,
            "height": null,
            "justify_content": null,
            "justify_items": null,
            "left": null,
            "margin": null,
            "max_height": null,
            "max_width": null,
            "min_height": null,
            "min_width": null,
            "object_fit": null,
            "object_position": null,
            "order": null,
            "overflow": null,
            "overflow_x": null,
            "overflow_y": null,
            "padding": null,
            "right": null,
            "top": null,
            "visibility": null,
            "width": null
          }
        },
        "1936d217535840b9a9216d2a7d1d5cb4": {
          "model_module": "@jupyter-widgets/controls",
          "model_name": "DescriptionStyleModel",
          "model_module_version": "1.5.0",
          "state": {
            "_model_module": "@jupyter-widgets/controls",
            "_model_module_version": "1.5.0",
            "_model_name": "DescriptionStyleModel",
            "_view_count": null,
            "_view_module": "@jupyter-widgets/base",
            "_view_module_version": "1.2.0",
            "_view_name": "StyleView",
            "description_width": ""
          }
        }
      }
    },
    "gpuClass": "standard"
  },
  "nbformat": 4,
  "nbformat_minor": 0
}