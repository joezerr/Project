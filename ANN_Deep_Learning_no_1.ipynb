{
  "nbformat": 4,
  "nbformat_minor": 0,
  "metadata": {
    "colab": {
      "provenance": [],
      "collapsed_sections": [
        "PMeKm9SuzbBU",
        "NFHmXH3Cz7tK",
        "ztY621t30q6Z",
        "5pKndu091FlC",
        "aZbTixYM1xXs",
        "Z8HgAzk12TT2",
        "W7CVXFbT1j0v",
        "IdJlTFP23HQy",
        "sBJdaCQz3ZGZ"
      ],
      "authorship_tag": "ABX9TyNxMIe9/SGRJKrWf+tksyAl",
      "include_colab_link": true
    },
    "kernelspec": {
      "name": "python3",
      "display_name": "Python 3"
    },
    "language_info": {
      "name": "python"
    },
    "gpuClass": "standard",
    "accelerator": "GPU"
  },
  "cells": [
    {
      "cell_type": "markdown",
      "metadata": {
        "id": "view-in-github",
        "colab_type": "text"
      },
      "source": [
        "<a href=\"https://colab.research.google.com/github/joezerr/Project/blob/main/ANN_Deep_Learning_no_1.ipynb\" target=\"_parent\"><img src=\"https://colab.research.google.com/assets/colab-badge.svg\" alt=\"Open In Colab\"/></a>"
      ]
    },
    {
      "cell_type": "markdown",
      "source": [
        "referensi:\n",
        "- https://towardsdatascience.com/a-guide-to-an-efficient-way-to-build-neural-network-architectures-part-i-hyper-parameter-8129009f131b\n",
        "- https://towardsdatascience.com/pytorch-switching-to-the-gpu-a7c0b21e8a99\n",
        "- https://neptune.ai/blog/hyperparameter-tuning-in-python-complete-guide\n",
        "- https://www.tensorflow.org/tutorials/keras/keras_tuner\n",
        "- https://stackoverflow.com/questions/68642923/typeerror-inputs-to-a-layer-should-be-tensors-got-prefetchdataset-shapes\n",
        "- https://machinelearningmastery.com/how-to-improve-neural-network-stability-and-modeling-performance-with-data-scaling/\n",
        "- udemy course"
      ],
      "metadata": {
        "id": "iVNjyxdRCk0V"
      }
    },
    {
      "cell_type": "code",
      "source": [
        "import numpy as np\n",
        "import math\n",
        "import pandas as pd"
      ],
      "metadata": {
        "id": "Ib-sanaInpLL"
      },
      "execution_count": null,
      "outputs": []
    },
    {
      "cell_type": "markdown",
      "source": [
        "**Import the dataset**\n",
        "\n",
        "*dataset yang akan kita gunakan adalah dataset creditcard.csv*"
      ],
      "metadata": {
        "id": "MzZPgikhKCda"
      }
    },
    {
      "cell_type": "code",
      "source": [
        "data = pd.read_csv('creditcard.csv')"
      ],
      "metadata": {
        "id": "IwPWjPPoT7gS"
      },
      "execution_count": null,
      "outputs": []
    },
    {
      "cell_type": "code",
      "source": [
        "data.head()"
      ],
      "metadata": {
        "colab": {
          "base_uri": "https://localhost:8080/",
          "height": 206
        },
        "id": "tDo8Uj2XWLDl",
        "outputId": "d05e3c01-3bfc-418e-e612-f24bf5bb6676"
      },
      "execution_count": null,
      "outputs": [
        {
          "output_type": "execute_result",
          "data": {
            "text/plain": [
              "         V1        V2        V3        V4        V5        V6        V7  \\\n",
              "0 -1.359807 -0.072781  2.536347  1.378155 -0.338321  0.462388  0.239599   \n",
              "1  1.191857  0.266151  0.166480  0.448154  0.060018 -0.082361 -0.078803   \n",
              "2 -1.358354 -1.340163  1.773209  0.379780 -0.503198  1.800499  0.791461   \n",
              "3 -0.966272 -0.185226  1.792993 -0.863291 -0.010309  1.247203  0.237609   \n",
              "4       NaN  0.877737  1.548718  0.403034 -0.407193  0.095921  0.592941   \n",
              "\n",
              "         V8        V9       V10  Class  \n",
              "0  0.098698  0.363787  0.090794    0.0  \n",
              "1  0.085102 -0.255425 -0.166974    0.0  \n",
              "2  0.247676 -1.514654  0.207643    0.0  \n",
              "3  0.377436 -1.387024 -0.054952    0.0  \n",
              "4 -0.270533  0.817739  0.753074    0.0  "
            ],
            "text/html": [
              "\n",
              "  <div id=\"df-b3085796-9171-4b06-9c1d-acaa426cf70c\">\n",
              "    <div class=\"colab-df-container\">\n",
              "      <div>\n",
              "<style scoped>\n",
              "    .dataframe tbody tr th:only-of-type {\n",
              "        vertical-align: middle;\n",
              "    }\n",
              "\n",
              "    .dataframe tbody tr th {\n",
              "        vertical-align: top;\n",
              "    }\n",
              "\n",
              "    .dataframe thead th {\n",
              "        text-align: right;\n",
              "    }\n",
              "</style>\n",
              "<table border=\"1\" class=\"dataframe\">\n",
              "  <thead>\n",
              "    <tr style=\"text-align: right;\">\n",
              "      <th></th>\n",
              "      <th>V1</th>\n",
              "      <th>V2</th>\n",
              "      <th>V3</th>\n",
              "      <th>V4</th>\n",
              "      <th>V5</th>\n",
              "      <th>V6</th>\n",
              "      <th>V7</th>\n",
              "      <th>V8</th>\n",
              "      <th>V9</th>\n",
              "      <th>V10</th>\n",
              "      <th>Class</th>\n",
              "    </tr>\n",
              "  </thead>\n",
              "  <tbody>\n",
              "    <tr>\n",
              "      <th>0</th>\n",
              "      <td>-1.359807</td>\n",
              "      <td>-0.072781</td>\n",
              "      <td>2.536347</td>\n",
              "      <td>1.378155</td>\n",
              "      <td>-0.338321</td>\n",
              "      <td>0.462388</td>\n",
              "      <td>0.239599</td>\n",
              "      <td>0.098698</td>\n",
              "      <td>0.363787</td>\n",
              "      <td>0.090794</td>\n",
              "      <td>0.0</td>\n",
              "    </tr>\n",
              "    <tr>\n",
              "      <th>1</th>\n",
              "      <td>1.191857</td>\n",
              "      <td>0.266151</td>\n",
              "      <td>0.166480</td>\n",
              "      <td>0.448154</td>\n",
              "      <td>0.060018</td>\n",
              "      <td>-0.082361</td>\n",
              "      <td>-0.078803</td>\n",
              "      <td>0.085102</td>\n",
              "      <td>-0.255425</td>\n",
              "      <td>-0.166974</td>\n",
              "      <td>0.0</td>\n",
              "    </tr>\n",
              "    <tr>\n",
              "      <th>2</th>\n",
              "      <td>-1.358354</td>\n",
              "      <td>-1.340163</td>\n",
              "      <td>1.773209</td>\n",
              "      <td>0.379780</td>\n",
              "      <td>-0.503198</td>\n",
              "      <td>1.800499</td>\n",
              "      <td>0.791461</td>\n",
              "      <td>0.247676</td>\n",
              "      <td>-1.514654</td>\n",
              "      <td>0.207643</td>\n",
              "      <td>0.0</td>\n",
              "    </tr>\n",
              "    <tr>\n",
              "      <th>3</th>\n",
              "      <td>-0.966272</td>\n",
              "      <td>-0.185226</td>\n",
              "      <td>1.792993</td>\n",
              "      <td>-0.863291</td>\n",
              "      <td>-0.010309</td>\n",
              "      <td>1.247203</td>\n",
              "      <td>0.237609</td>\n",
              "      <td>0.377436</td>\n",
              "      <td>-1.387024</td>\n",
              "      <td>-0.054952</td>\n",
              "      <td>0.0</td>\n",
              "    </tr>\n",
              "    <tr>\n",
              "      <th>4</th>\n",
              "      <td>NaN</td>\n",
              "      <td>0.877737</td>\n",
              "      <td>1.548718</td>\n",
              "      <td>0.403034</td>\n",
              "      <td>-0.407193</td>\n",
              "      <td>0.095921</td>\n",
              "      <td>0.592941</td>\n",
              "      <td>-0.270533</td>\n",
              "      <td>0.817739</td>\n",
              "      <td>0.753074</td>\n",
              "      <td>0.0</td>\n",
              "    </tr>\n",
              "  </tbody>\n",
              "</table>\n",
              "</div>\n",
              "      <button class=\"colab-df-convert\" onclick=\"convertToInteractive('df-b3085796-9171-4b06-9c1d-acaa426cf70c')\"\n",
              "              title=\"Convert this dataframe to an interactive table.\"\n",
              "              style=\"display:none;\">\n",
              "        \n",
              "  <svg xmlns=\"http://www.w3.org/2000/svg\" height=\"24px\"viewBox=\"0 0 24 24\"\n",
              "       width=\"24px\">\n",
              "    <path d=\"M0 0h24v24H0V0z\" fill=\"none\"/>\n",
              "    <path d=\"M18.56 5.44l.94 2.06.94-2.06 2.06-.94-2.06-.94-.94-2.06-.94 2.06-2.06.94zm-11 1L8.5 8.5l.94-2.06 2.06-.94-2.06-.94L8.5 2.5l-.94 2.06-2.06.94zm10 10l.94 2.06.94-2.06 2.06-.94-2.06-.94-.94-2.06-.94 2.06-2.06.94z\"/><path d=\"M17.41 7.96l-1.37-1.37c-.4-.4-.92-.59-1.43-.59-.52 0-1.04.2-1.43.59L10.3 9.45l-7.72 7.72c-.78.78-.78 2.05 0 2.83L4 21.41c.39.39.9.59 1.41.59.51 0 1.02-.2 1.41-.59l7.78-7.78 2.81-2.81c.8-.78.8-2.07 0-2.86zM5.41 20L4 18.59l7.72-7.72 1.47 1.35L5.41 20z\"/>\n",
              "  </svg>\n",
              "      </button>\n",
              "      \n",
              "  <style>\n",
              "    .colab-df-container {\n",
              "      display:flex;\n",
              "      flex-wrap:wrap;\n",
              "      gap: 12px;\n",
              "    }\n",
              "\n",
              "    .colab-df-convert {\n",
              "      background-color: #E8F0FE;\n",
              "      border: none;\n",
              "      border-radius: 50%;\n",
              "      cursor: pointer;\n",
              "      display: none;\n",
              "      fill: #1967D2;\n",
              "      height: 32px;\n",
              "      padding: 0 0 0 0;\n",
              "      width: 32px;\n",
              "    }\n",
              "\n",
              "    .colab-df-convert:hover {\n",
              "      background-color: #E2EBFA;\n",
              "      box-shadow: 0px 1px 2px rgba(60, 64, 67, 0.3), 0px 1px 3px 1px rgba(60, 64, 67, 0.15);\n",
              "      fill: #174EA6;\n",
              "    }\n",
              "\n",
              "    [theme=dark] .colab-df-convert {\n",
              "      background-color: #3B4455;\n",
              "      fill: #D2E3FC;\n",
              "    }\n",
              "\n",
              "    [theme=dark] .colab-df-convert:hover {\n",
              "      background-color: #434B5C;\n",
              "      box-shadow: 0px 1px 3px 1px rgba(0, 0, 0, 0.15);\n",
              "      filter: drop-shadow(0px 1px 2px rgba(0, 0, 0, 0.3));\n",
              "      fill: #FFFFFF;\n",
              "    }\n",
              "  </style>\n",
              "\n",
              "      <script>\n",
              "        const buttonEl =\n",
              "          document.querySelector('#df-b3085796-9171-4b06-9c1d-acaa426cf70c button.colab-df-convert');\n",
              "        buttonEl.style.display =\n",
              "          google.colab.kernel.accessAllowed ? 'block' : 'none';\n",
              "\n",
              "        async function convertToInteractive(key) {\n",
              "          const element = document.querySelector('#df-b3085796-9171-4b06-9c1d-acaa426cf70c');\n",
              "          const dataTable =\n",
              "            await google.colab.kernel.invokeFunction('convertToInteractive',\n",
              "                                                     [key], {});\n",
              "          if (!dataTable) return;\n",
              "\n",
              "          const docLinkHtml = 'Like what you see? Visit the ' +\n",
              "            '<a target=\"_blank\" href=https://colab.research.google.com/notebooks/data_table.ipynb>data table notebook</a>'\n",
              "            + ' to learn more about interactive tables.';\n",
              "          element.innerHTML = '';\n",
              "          dataTable['output_type'] = 'display_data';\n",
              "          await google.colab.output.renderOutput(dataTable, element);\n",
              "          const docLink = document.createElement('div');\n",
              "          docLink.innerHTML = docLinkHtml;\n",
              "          element.appendChild(docLink);\n",
              "        }\n",
              "      </script>\n",
              "    </div>\n",
              "  </div>\n",
              "  "
            ]
          },
          "metadata": {},
          "execution_count": 3
        }
      ]
    },
    {
      "cell_type": "code",
      "source": [
        "data.info()"
      ],
      "metadata": {
        "colab": {
          "base_uri": "https://localhost:8080/"
        },
        "id": "AJZvvfiC9F_F",
        "outputId": "1e6c87fb-3d4a-44d3-bce0-856f9a64364a"
      },
      "execution_count": null,
      "outputs": [
        {
          "output_type": "stream",
          "name": "stdout",
          "text": [
            "<class 'pandas.core.frame.DataFrame'>\n",
            "RangeIndex: 8297 entries, 0 to 8296\n",
            "Data columns (total 11 columns):\n",
            " #   Column  Non-Null Count  Dtype  \n",
            "---  ------  --------------  -----  \n",
            " 0   V1      8295 non-null   float64\n",
            " 1   V2      8292 non-null   float64\n",
            " 2   V3      8292 non-null   float64\n",
            " 3   V4      8290 non-null   float64\n",
            " 4   V5      8290 non-null   float64\n",
            " 5   V6      8295 non-null   float64\n",
            " 6   V7      8292 non-null   float64\n",
            " 7   V8      8292 non-null   float64\n",
            " 8   V9      8291 non-null   float64\n",
            " 9   V10     8293 non-null   float64\n",
            " 10  Class   8296 non-null   float64\n",
            "dtypes: float64(11)\n",
            "memory usage: 713.1 KB\n"
          ]
        }
      ]
    },
    {
      "cell_type": "markdown",
      "source": [
        "## **1a. Data Preprocessing**"
      ],
      "metadata": {
        "id": "zdABkHoeNnIm"
      }
    },
    {
      "cell_type": "code",
      "source": [
        "#split menjadi features(independent) dan target(dependent)\n",
        "X = data.iloc[:, :-1].values\n",
        "y = data.iloc[:, -1].values"
      ],
      "metadata": {
        "id": "kGNlu337WJdy"
      },
      "execution_count": null,
      "outputs": []
    },
    {
      "cell_type": "code",
      "source": [
        "print(X)"
      ],
      "metadata": {
        "colab": {
          "base_uri": "https://localhost:8080/"
        },
        "id": "dop78c5fXTXX",
        "outputId": "0e2d28e9-7eb6-43d3-f165-21d35bf89132"
      },
      "execution_count": null,
      "outputs": [
        {
          "output_type": "stream",
          "name": "stdout",
          "text": [
            "[[-1.35980713e+00 -7.27811730e-02  2.53634674e+00 ...  9.86979010e-02\n",
            "   3.63786970e-01  9.07941720e-02]\n",
            " [ 1.19185711e+00  2.66150712e-01  1.66480113e-01 ...  8.51016550e-02\n",
            "  -2.55425128e-01 -1.66974414e-01]\n",
            " [-1.35835406e+00 -1.34016307e+00  1.77320934e+00 ...  2.47675787e-01\n",
            "  -1.51465432e+00  2.07642865e-01]\n",
            " ...\n",
            " [ 1.32592981e+00 -3.92763680e-02  1.84188710e-01 ...  1.14488460e-02\n",
            "   1.47721040e+00 -3.71683168e-01]\n",
            " [ 1.37298315e+00 -3.82353569e-01  6.46021920e-02 ... -5.18603930e-02\n",
            "   3.88560941e-01  9.51552000e-04]\n",
            " [-2.12548983e+00             nan             nan ...             nan\n",
            "              nan             nan]]\n"
          ]
        }
      ]
    },
    {
      "cell_type": "code",
      "source": [
        "print(y)"
      ],
      "metadata": {
        "colab": {
          "base_uri": "https://localhost:8080/"
        },
        "id": "GZ24FRPIVsbf",
        "outputId": "bc960ac7-fa55-4e01-8f15-7dfc10a393c0"
      },
      "execution_count": null,
      "outputs": [
        {
          "output_type": "stream",
          "name": "stdout",
          "text": [
            "[ 0.  0.  0. ...  0.  0. nan]\n"
          ]
        }
      ]
    },
    {
      "cell_type": "markdown",
      "source": [
        "Langkah selanjutnya adalah check apakah ada masalah yang terdapat dalam dataset ini seperti null dll"
      ],
      "metadata": {
        "id": "b6YZ9GGTKqu6"
      }
    },
    {
      "cell_type": "code",
      "source": [
        "#check apakah ada null\n",
        "data.isnull().sum()"
      ],
      "metadata": {
        "colab": {
          "base_uri": "https://localhost:8080/"
        },
        "id": "T0rQWomPKg8X",
        "outputId": "c20fa26d-1113-4b91-f4a5-826623232a25"
      },
      "execution_count": null,
      "outputs": [
        {
          "output_type": "execute_result",
          "data": {
            "text/plain": [
              "V1       2\n",
              "V2       5\n",
              "V3       5\n",
              "V4       7\n",
              "V5       7\n",
              "V6       2\n",
              "V7       5\n",
              "V8       5\n",
              "V9       6\n",
              "V10      4\n",
              "Class    1\n",
              "dtype: int64"
            ]
          },
          "metadata": {},
          "execution_count": 8
        }
      ]
    },
    {
      "cell_type": "markdown",
      "source": [
        "seperti yang bisa kita lihat, terdapat masalah null values pada dataset kita. "
      ],
      "metadata": {
        "id": "8lWUkXldLFj6"
      }
    },
    {
      "cell_type": "markdown",
      "source": [
        "**Mengcheck variasi missing values selain (NaN)**"
      ],
      "metadata": {
        "id": "OCQf37s2LS8u"
      }
    },
    {
      "cell_type": "markdown",
      "source": [
        "Kita tau bahwa terdapat missing values berupa (NaN), akan tetapi, ada kemungkinan terdapat missing values dalam bentuk yang lain seperti N/a, na, maupun np.nan. Untuk mengatasinya, saya akan membuat variable yang menampung bentuk missing values yang mungkin tidak terdeteksi kemudian membaca ulang datasetnya dengan menyertakan missing values tambahan."
      ],
      "metadata": {
        "id": "Wc_UEWkNLl8G"
      }
    },
    {
      "cell_type": "code",
      "source": [
        "path = '/content/creditcard.csv'"
      ],
      "metadata": {
        "id": "yoqzmwHIZJTc"
      },
      "execution_count": null,
      "outputs": []
    },
    {
      "cell_type": "code",
      "source": [
        "missing_vals = ['N/a', 'na', np.nan]\n",
        "data = pd.read_csv(path, na_values=missing_vals)"
      ],
      "metadata": {
        "id": "E7jrvCMFMWVU"
      },
      "execution_count": null,
      "outputs": []
    },
    {
      "cell_type": "code",
      "source": [
        "#check apakah ada null\n",
        "data.isnull().sum()"
      ],
      "metadata": {
        "colab": {
          "base_uri": "https://localhost:8080/"
        },
        "id": "pzZKpdz1M8KB",
        "outputId": "388261ef-1c72-4aaf-dd3e-e897a79a90cf"
      },
      "execution_count": null,
      "outputs": [
        {
          "output_type": "execute_result",
          "data": {
            "text/plain": [
              "V1       2\n",
              "V2       4\n",
              "V3       4\n",
              "V4       6\n",
              "V5       7\n",
              "V6       2\n",
              "V7       5\n",
              "V8       5\n",
              "V9       6\n",
              "V10      4\n",
              "Class    1\n",
              "dtype: int64"
            ]
          },
          "metadata": {},
          "execution_count": 11
        }
      ]
    },
    {
      "cell_type": "markdown",
      "source": [
        "ternyata, tidak ada missing values dalam bentuk lain yang berarti hanya terdapat missing values dalam bentuk NaN"
      ],
      "metadata": {
        "id": "GH0Jx3AyNNOF"
      }
    },
    {
      "cell_type": "markdown",
      "source": [
        "**Menghilangkan missing_values (NaN)**"
      ],
      "metadata": {
        "id": "C8QHMvhtOKoL"
      }
    },
    {
      "cell_type": "markdown",
      "source": [
        "values yang kosong akan saya isi dengan mediannya daripada di drop, alasannya adalah jika value null tersebut didrop, akan timbul kemungkinan kehilangan banyak data dan juga bias tertentu "
      ],
      "metadata": {
        "id": "mKXLf32lgaao"
      }
    },
    {
      "cell_type": "code",
      "source": [
        "print(X)"
      ],
      "metadata": {
        "colab": {
          "base_uri": "https://localhost:8080/"
        },
        "id": "zPP9abf2XTrC",
        "outputId": "7e7524a4-ff27-40d4-9293-8d357c2d966a"
      },
      "execution_count": null,
      "outputs": [
        {
          "output_type": "stream",
          "name": "stdout",
          "text": [
            "[[-1.35980713e+00 -7.27811730e-02  2.53634674e+00 ...  9.86979010e-02\n",
            "   3.63786970e-01  9.07941720e-02]\n",
            " [ 1.19185711e+00  2.66150712e-01  1.66480113e-01 ...  8.51016550e-02\n",
            "  -2.55425128e-01 -1.66974414e-01]\n",
            " [-1.35835406e+00 -1.34016307e+00  1.77320934e+00 ...  2.47675787e-01\n",
            "  -1.51465432e+00  2.07642865e-01]\n",
            " ...\n",
            " [ 1.32592981e+00 -3.92763680e-02  1.84188710e-01 ...  1.14488460e-02\n",
            "   1.47721040e+00 -3.71683168e-01]\n",
            " [ 1.37298315e+00 -3.82353569e-01  6.46021920e-02 ... -5.18603930e-02\n",
            "   3.88560941e-01  9.51552000e-04]\n",
            " [-2.12548983e+00             nan             nan ...             nan\n",
            "              nan             nan]]\n"
          ]
        }
      ]
    },
    {
      "cell_type": "markdown",
      "source": [
        "Null values (missing values) yang ada akan diisi dengan mediannya. Median dipilih dibandingkan dengan mean karena penggunaan mean mempunyai kemungkinan terdapat outlier. Jadi, median digunakan untuk memperkecil kemungkinan adanya outlier"
      ],
      "metadata": {
        "id": "5EODgyGjewQL"
      }
    },
    {
      "cell_type": "code",
      "source": [
        "from sklearn.impute import SimpleImputer\n",
        "imp = SimpleImputer(missing_values=np.nan,strategy='median',verbose=0)"
      ],
      "metadata": {
        "id": "LIgmMSzqYRSv"
      },
      "execution_count": null,
      "outputs": []
    },
    {
      "cell_type": "code",
      "source": [
        "imp = imp.fit(X[:,:])\n",
        "X[:,:] = imp.transform(X[:,:])"
      ],
      "metadata": {
        "id": "KC32L3aiYeiD"
      },
      "execution_count": null,
      "outputs": []
    },
    {
      "cell_type": "code",
      "source": [
        "print(X)"
      ],
      "metadata": {
        "colab": {
          "base_uri": "https://localhost:8080/"
        },
        "id": "D1zQz2jTZJ2g",
        "outputId": "2cfefb80-80a7-46b7-8fed-5e41e0fec049"
      },
      "execution_count": null,
      "outputs": [
        {
          "output_type": "stream",
          "name": "stdout",
          "text": [
            "[[-1.35980713e+00 -7.27811730e-02  2.53634674e+00 ...  9.86979010e-02\n",
            "   3.63786970e-01  9.07941720e-02]\n",
            " [ 1.19185711e+00  2.66150712e-01  1.66480113e-01 ...  8.51016550e-02\n",
            "  -2.55425128e-01 -1.66974414e-01]\n",
            " [-1.35835406e+00 -1.34016307e+00  1.77320934e+00 ...  2.47675787e-01\n",
            "  -1.51465432e+00  2.07642865e-01]\n",
            " ...\n",
            " [ 1.32592981e+00 -3.92763680e-02  1.84188710e-01 ...  1.14488460e-02\n",
            "   1.47721040e+00 -3.71683168e-01]\n",
            " [ 1.37298315e+00 -3.82353569e-01  6.46021920e-02 ... -5.18603930e-02\n",
            "   3.88560941e-01  9.51552000e-04]\n",
            " [-2.12548983e+00  3.14873657e-01  9.39410571e-01 ...  9.93581950e-03\n",
            "   6.60369234e-01 -2.86126809e-01]]\n"
          ]
        }
      ]
    },
    {
      "cell_type": "code",
      "source": [
        "#check kembali apakah masih terdapat null\n",
        "np.isnan(X).any()"
      ],
      "metadata": {
        "colab": {
          "base_uri": "https://localhost:8080/"
        },
        "id": "SqlDkyR14n2I",
        "outputId": "9834c515-2b06-4f7a-d448-71207945da4c"
      },
      "execution_count": null,
      "outputs": [
        {
          "output_type": "execute_result",
          "data": {
            "text/plain": [
              "False"
            ]
          },
          "metadata": {},
          "execution_count": 16
        }
      ]
    },
    {
      "cell_type": "markdown",
      "source": [
        "null values sudah diisi dengan median dan sudah tidak ada null values lagi"
      ],
      "metadata": {
        "id": "qUsRKEUVtCtt"
      }
    },
    {
      "cell_type": "markdown",
      "source": [
        "saya tidak akan melakukan hot-encoding karena tidak terdapat categorical features pada datasetnya"
      ],
      "metadata": {
        "id": "97zXFY0CbVEe"
      }
    },
    {
      "cell_type": "markdown",
      "source": [
        "# **1b. Split dataset menjadi train, test, val**"
      ],
      "metadata": {
        "id": "fDQm-LLWcdHs"
      }
    },
    {
      "cell_type": "code",
      "source": [
        "#pertama split data menjadi training dan data sisa\n",
        "from sklearn.model_selection import train_test_split\n",
        "X_train, X_rem, y_train, y_rem = train_test_split(X, y, train_size=0.8, random_state=1)"
      ],
      "metadata": {
        "id": "ZL-wwPlBcsQ2"
      },
      "execution_count": null,
      "outputs": []
    },
    {
      "cell_type": "code",
      "source": [
        "#define val test = 0.5 (setengah dari data sisa)\n",
        "test_size=0.5\n",
        "X_valid, X_test, y_valid, y_test = train_test_split(X_rem, y_rem, test_size=0.5, random_state=1)"
      ],
      "metadata": {
        "id": "zWywbs2weuH3"
      },
      "execution_count": null,
      "outputs": []
    },
    {
      "cell_type": "code",
      "source": [
        "print(X_train.shape), print(y_train.shape)\n",
        "print(X_valid.shape), print(y_valid.shape)\n",
        "print(X_test.shape), print(y_test.shape)"
      ],
      "metadata": {
        "colab": {
          "base_uri": "https://localhost:8080/"
        },
        "id": "7OU8uMDMfPtY",
        "outputId": "d9224532-8c8b-4a60-e033-fc96fb47626d"
      },
      "execution_count": null,
      "outputs": [
        {
          "output_type": "stream",
          "name": "stdout",
          "text": [
            "(6637, 10)\n",
            "(6637,)\n",
            "(830, 10)\n",
            "(830,)\n",
            "(830, 10)\n",
            "(830,)\n"
          ]
        },
        {
          "output_type": "execute_result",
          "data": {
            "text/plain": [
              "(None, None)"
            ]
          },
          "metadata": {},
          "execution_count": 19
        }
      ]
    },
    {
      "cell_type": "markdown",
      "source": [
        "**Feature Scalling**"
      ],
      "metadata": {
        "id": "hiJKWoSucQez"
      }
    },
    {
      "cell_type": "markdown",
      "source": [
        "saya akan menggunakan salah satu jenis feature scalling yaitu Standard Scaller"
      ],
      "metadata": {
        "id": "hzotEY2OcSrG"
      }
    },
    {
      "cell_type": "code",
      "source": [
        "from sklearn.preprocessing import StandardScaler\n",
        "sc = StandardScaler()\n",
        "X_train = sc.fit_transform(X_train)\n",
        "X_valid = sc.transform(X_valid)\n",
        "X_test = sc.transform(X_test)"
      ],
      "metadata": {
        "id": "tt91_5SscZQm"
      },
      "execution_count": null,
      "outputs": []
    },
    {
      "cell_type": "code",
      "source": [
        "print(np.any(np.isnan(X_test)))\n",
        "print(np.any(np.isnan(y_test)))"
      ],
      "metadata": {
        "colab": {
          "base_uri": "https://localhost:8080/"
        },
        "id": "TzETCtud6E4f",
        "outputId": "be700599-ecea-487c-8c5e-3522b3391058"
      },
      "execution_count": null,
      "outputs": [
        {
          "output_type": "stream",
          "name": "stdout",
          "text": [
            "False\n",
            "False\n"
          ]
        }
      ]
    },
    {
      "cell_type": "code",
      "source": [
        "print(X_train)"
      ],
      "metadata": {
        "colab": {
          "base_uri": "https://localhost:8080/"
        },
        "id": "41hGaHSodTlw",
        "outputId": "b55d5700-e866-4ac5-ca4e-efb9922e39fc"
      },
      "execution_count": null,
      "outputs": [
        {
          "output_type": "stream",
          "name": "stdout",
          "text": [
            "[[ 1.01209597  0.09467242 -0.18117219 ... -0.07907141  0.65856756\n",
            "  -0.22474287]\n",
            " [-0.57951486  0.07603959  0.63431434 ...  0.92224636 -1.05001121\n",
            "   1.19361436]\n",
            " [-0.95563935 -0.96193615  0.96955175 ...  0.41513011  0.65434602\n",
            "  -1.66837416]\n",
            " ...\n",
            " [ 0.92500699 -0.11188883 -0.10323252 ...  0.06296954 -0.22848967\n",
            "  -0.00287492]\n",
            " [ 1.04399108 -0.09431792 -1.89455017 ...  0.5969556   0.45603856\n",
            "  -0.38149333]\n",
            " [-2.12776158 -2.45298926  0.68648194 ...  0.1701497   0.0093062\n",
            "  -0.36065286]]\n"
          ]
        }
      ]
    },
    {
      "cell_type": "code",
      "source": [
        "print(X_test)"
      ],
      "metadata": {
        "colab": {
          "base_uri": "https://localhost:8080/"
        },
        "id": "LLfaIGqhdVx0",
        "outputId": "ef09c304-8128-4ea9-de16-4e9366776b61"
      },
      "execution_count": null,
      "outputs": [
        {
          "output_type": "stream",
          "name": "stdout",
          "text": [
            "[[ 0.83797129 -0.78392556 -1.37269714 ... -0.03941315  0.10987524\n",
            "  -0.701136  ]\n",
            " [ 1.0271177  -0.29604599 -0.87963249 ... -0.07192835  0.37618621\n",
            "  -0.71093434]\n",
            " [ 0.38515244  0.4279249  -0.08079038 ... -0.73379922  0.37680409\n",
            "  -0.63423277]\n",
            " ...\n",
            " [ 0.67705212 -0.50521265 -0.69496446 ... -0.22183499  0.51066579\n",
            "  -0.27013325]\n",
            " [ 1.12449727 -0.43923091 -0.50757889 ... -0.19544833 -0.25864876\n",
            "   0.39490973]\n",
            " [ 0.89865829 -0.41945029 -0.43123514 ... -0.01140213 -0.03664804\n",
            "  -0.01713616]]\n"
          ]
        }
      ]
    },
    {
      "cell_type": "markdown",
      "source": [
        "# **1c. Base arsitektur**"
      ],
      "metadata": {
        "id": "i6bntIB0fr16"
      }
    },
    {
      "cell_type": "markdown",
      "source": [
        "*Saya akan membuat arsitektur ANN* "
      ],
      "metadata": {
        "id": "1IWlRaM-taWu"
      }
    },
    {
      "cell_type": "markdown",
      "source": [
        "### **ANN**"
      ],
      "metadata": {
        "id": "eh0dO7ZPwttD"
      }
    },
    {
      "cell_type": "markdown",
      "source": [
        "### inisialiasi ANN"
      ],
      "metadata": {
        "id": "SeOTJm-qtkSu"
      }
    },
    {
      "cell_type": "code",
      "source": [
        "import tensorflow as tf #backpropagation\n",
        "annmodel = tf.keras.models.Sequential()"
      ],
      "metadata": {
        "id": "nrrldKNlfq14"
      },
      "execution_count": null,
      "outputs": []
    },
    {
      "cell_type": "markdown",
      "source": [
        "#### Buat baseline arsitektur"
      ],
      "metadata": {
        "id": "farZHrzmtvh6"
      }
    },
    {
      "cell_type": "markdown",
      "source": [
        "*n nodes input layer, 2 buah*\n",
        "*hidden layer =  𝟐 × 𝒏 nodes awal dan layer akhir banyak kelas nya*\n",
        "*(𝒏, 𝟐 × 𝒏, 𝟐 × 𝒏, 𝒏𝒖𝒎_𝒄𝒍𝒂𝒔𝒔). Activation function = ReLU.*"
      ],
      "metadata": {
        "id": "pB7OBv_Pt0xN"
      }
    },
    {
      "cell_type": "markdown",
      "source": [
        "input layer"
      ],
      "metadata": {
        "id": "gFbn6mjzx5TY"
      }
    },
    {
      "cell_type": "code",
      "source": [
        "annmodel.add(tf.keras.layers.Dense(units=10, activation='relu'))"
      ],
      "metadata": {
        "id": "pNjnalfix6hM"
      },
      "execution_count": null,
      "outputs": []
    },
    {
      "cell_type": "markdown",
      "source": [
        "*hidden layer pertama*"
      ],
      "metadata": {
        "id": "8134eLGKyHVH"
      }
    },
    {
      "cell_type": "code",
      "source": [
        "annmodel.add(tf.keras.layers.Dense(units=20, activation='relu'))"
      ],
      "metadata": {
        "id": "hvDtsMeIyJkZ"
      },
      "execution_count": null,
      "outputs": []
    },
    {
      "cell_type": "markdown",
      "source": [
        "*hidden layar kedua*"
      ],
      "metadata": {
        "id": "JaTgVPPuyfmb"
      }
    },
    {
      "cell_type": "code",
      "source": [
        "annmodel.add(tf.keras.layers.Dense(units=20, activation='relu'))"
      ],
      "metadata": {
        "id": "JZznKe0cyhXu"
      },
      "execution_count": null,
      "outputs": []
    },
    {
      "cell_type": "markdown",
      "source": [
        "*output layer*"
      ],
      "metadata": {
        "id": "h8HkaDtOzcul"
      }
    },
    {
      "cell_type": "markdown",
      "source": [
        "*activation function untuk output layer terakhir adalah sigmoid karena hasil yang diinginkan adalah true or false / fraud or not fraud*"
      ],
      "metadata": {
        "id": "hyZbDu67u4tZ"
      }
    },
    {
      "cell_type": "code",
      "source": [
        "annmodel.add(tf.keras.layers.Dense(units=1, activation='sigmoid'))"
      ],
      "metadata": {
        "id": "qwaWKNtKzeQc"
      },
      "execution_count": null,
      "outputs": []
    },
    {
      "cell_type": "code",
      "source": [
        "np.isnan(X_train).any()"
      ],
      "metadata": {
        "colab": {
          "base_uri": "https://localhost:8080/"
        },
        "id": "ymAXGXVB4XZe",
        "outputId": "7022a99d-9aec-4dd4-884f-fe756aea61a3"
      },
      "execution_count": null,
      "outputs": [
        {
          "output_type": "execute_result",
          "data": {
            "text/plain": [
              "False"
            ]
          },
          "metadata": {},
          "execution_count": 69
        }
      ]
    },
    {
      "cell_type": "code",
      "source": [
        "np.isnan(y_train).any()"
      ],
      "metadata": {
        "colab": {
          "base_uri": "https://localhost:8080/"
        },
        "id": "4hf9AmXy4hPC",
        "outputId": "6dd2d18d-6af3-427e-d202-0587d6ee7a50"
      },
      "execution_count": null,
      "outputs": [
        {
          "output_type": "execute_result",
          "data": {
            "text/plain": [
              "True"
            ]
          },
          "metadata": {},
          "execution_count": 31
        }
      ]
    },
    {
      "cell_type": "code",
      "source": [],
      "metadata": {
        "id": "4Lw4vXI34hMk"
      },
      "execution_count": null,
      "outputs": []
    },
    {
      "cell_type": "markdown",
      "source": [
        "###Train ANN"
      ],
      "metadata": {
        "id": "EqF5HIGZzcsu"
      }
    },
    {
      "cell_type": "markdown",
      "source": [
        "*Compile ann*"
      ],
      "metadata": {
        "id": "-fXFJqGo0Qdy"
      }
    },
    {
      "cell_type": "code",
      "source": [
        "from tensorflow.python.ops.clip_ops import clip_by_global_norm\n",
        "opt = tf.keras.optimizers.Adam(learning_rate=0.001) #clip_by_global_norm="
      ],
      "metadata": {
        "id": "BAbEDa4A8DA_"
      },
      "execution_count": null,
      "outputs": []
    },
    {
      "cell_type": "code",
      "source": [
        "annmodel.compile(optimizer= 'adam', loss= 'binary_crossentropy', metrics= ['accuracy'])"
      ],
      "metadata": {
        "id": "L6ffm8W30NZy"
      },
      "execution_count": null,
      "outputs": []
    },
    {
      "cell_type": "code",
      "source": [
        "annmodel.fit(X_train, y_train, batch_size=128, epochs=100)"
      ],
      "metadata": {
        "colab": {
          "base_uri": "https://localhost:8080/"
        },
        "id": "DspQnuIq0bMk",
        "outputId": "17ff366f-638f-4436-8476-fc32a75db7ba"
      },
      "execution_count": null,
      "outputs": [
        {
          "output_type": "stream",
          "name": "stdout",
          "text": [
            "Epoch 1/100\n",
            "52/52 [==============================] - 3s 3ms/step - loss: nan - accuracy: 0.9797\n",
            "Epoch 2/100\n",
            "52/52 [==============================] - 0s 3ms/step - loss: nan - accuracy: 0.9968\n",
            "Epoch 3/100\n",
            "52/52 [==============================] - 0s 3ms/step - loss: nan - accuracy: 0.9968\n",
            "Epoch 4/100\n",
            "52/52 [==============================] - 0s 3ms/step - loss: nan - accuracy: 0.9968\n",
            "Epoch 5/100\n",
            "52/52 [==============================] - 0s 3ms/step - loss: nan - accuracy: 0.9968\n",
            "Epoch 6/100\n",
            "52/52 [==============================] - 0s 3ms/step - loss: nan - accuracy: 0.9968\n",
            "Epoch 7/100\n",
            "52/52 [==============================] - 0s 3ms/step - loss: nan - accuracy: 0.9968\n",
            "Epoch 8/100\n",
            "52/52 [==============================] - 0s 3ms/step - loss: nan - accuracy: 0.9968\n",
            "Epoch 9/100\n",
            "52/52 [==============================] - 0s 3ms/step - loss: nan - accuracy: 0.9968\n",
            "Epoch 10/100\n",
            "52/52 [==============================] - 0s 3ms/step - loss: nan - accuracy: 0.9968\n",
            "Epoch 11/100\n",
            "52/52 [==============================] - 0s 3ms/step - loss: nan - accuracy: 0.9968\n",
            "Epoch 12/100\n",
            "52/52 [==============================] - 0s 3ms/step - loss: nan - accuracy: 0.9968\n",
            "Epoch 13/100\n",
            "52/52 [==============================] - 0s 3ms/step - loss: nan - accuracy: 0.9968\n",
            "Epoch 14/100\n",
            "52/52 [==============================] - 0s 3ms/step - loss: nan - accuracy: 0.9968\n",
            "Epoch 15/100\n",
            "52/52 [==============================] - 0s 3ms/step - loss: nan - accuracy: 0.9968\n",
            "Epoch 16/100\n",
            "52/52 [==============================] - 0s 3ms/step - loss: nan - accuracy: 0.9968\n",
            "Epoch 17/100\n",
            "52/52 [==============================] - 0s 3ms/step - loss: nan - accuracy: 0.9968\n",
            "Epoch 18/100\n",
            "52/52 [==============================] - 0s 3ms/step - loss: nan - accuracy: 0.9968\n",
            "Epoch 19/100\n",
            "52/52 [==============================] - 0s 3ms/step - loss: nan - accuracy: 0.9968\n",
            "Epoch 20/100\n",
            "52/52 [==============================] - 0s 3ms/step - loss: nan - accuracy: 0.9968\n",
            "Epoch 21/100\n",
            "52/52 [==============================] - 0s 3ms/step - loss: nan - accuracy: 0.9968\n",
            "Epoch 22/100\n",
            "52/52 [==============================] - 0s 3ms/step - loss: nan - accuracy: 0.9968\n",
            "Epoch 23/100\n",
            "52/52 [==============================] - 0s 3ms/step - loss: nan - accuracy: 0.9968\n",
            "Epoch 24/100\n",
            "52/52 [==============================] - 0s 3ms/step - loss: nan - accuracy: 0.9968\n",
            "Epoch 25/100\n",
            "52/52 [==============================] - 0s 3ms/step - loss: nan - accuracy: 0.9968\n",
            "Epoch 26/100\n",
            "52/52 [==============================] - 0s 3ms/step - loss: nan - accuracy: 0.9968\n",
            "Epoch 27/100\n",
            "52/52 [==============================] - 0s 3ms/step - loss: nan - accuracy: 0.9968\n",
            "Epoch 28/100\n",
            "52/52 [==============================] - 0s 3ms/step - loss: nan - accuracy: 0.9968\n",
            "Epoch 29/100\n",
            "52/52 [==============================] - 0s 3ms/step - loss: nan - accuracy: 0.9968\n",
            "Epoch 30/100\n",
            "52/52 [==============================] - 0s 3ms/step - loss: nan - accuracy: 0.9968\n",
            "Epoch 31/100\n",
            "52/52 [==============================] - 0s 3ms/step - loss: nan - accuracy: 0.9968\n",
            "Epoch 32/100\n",
            "52/52 [==============================] - 0s 3ms/step - loss: nan - accuracy: 0.9968\n",
            "Epoch 33/100\n",
            "52/52 [==============================] - 0s 3ms/step - loss: nan - accuracy: 0.9968\n",
            "Epoch 34/100\n",
            "52/52 [==============================] - 0s 3ms/step - loss: nan - accuracy: 0.9968\n",
            "Epoch 35/100\n",
            "52/52 [==============================] - 0s 3ms/step - loss: nan - accuracy: 0.9968\n",
            "Epoch 36/100\n",
            "52/52 [==============================] - 0s 3ms/step - loss: nan - accuracy: 0.9968\n",
            "Epoch 37/100\n",
            "52/52 [==============================] - 0s 3ms/step - loss: nan - accuracy: 0.9968\n",
            "Epoch 38/100\n",
            "52/52 [==============================] - 0s 3ms/step - loss: nan - accuracy: 0.9968\n",
            "Epoch 39/100\n",
            "52/52 [==============================] - 0s 3ms/step - loss: nan - accuracy: 0.9968\n",
            "Epoch 40/100\n",
            "52/52 [==============================] - 0s 3ms/step - loss: nan - accuracy: 0.9968\n",
            "Epoch 41/100\n",
            "52/52 [==============================] - 0s 3ms/step - loss: nan - accuracy: 0.9968\n",
            "Epoch 42/100\n",
            "52/52 [==============================] - 0s 3ms/step - loss: nan - accuracy: 0.9968\n",
            "Epoch 43/100\n",
            "52/52 [==============================] - 0s 3ms/step - loss: nan - accuracy: 0.9968\n",
            "Epoch 44/100\n",
            "52/52 [==============================] - 0s 3ms/step - loss: nan - accuracy: 0.9968\n",
            "Epoch 45/100\n",
            "52/52 [==============================] - 0s 3ms/step - loss: nan - accuracy: 0.9968\n",
            "Epoch 46/100\n",
            "52/52 [==============================] - 0s 3ms/step - loss: nan - accuracy: 0.9968\n",
            "Epoch 47/100\n",
            "52/52 [==============================] - 0s 3ms/step - loss: nan - accuracy: 0.9968\n",
            "Epoch 48/100\n",
            "52/52 [==============================] - 0s 3ms/step - loss: nan - accuracy: 0.9968\n",
            "Epoch 49/100\n",
            "52/52 [==============================] - 0s 3ms/step - loss: nan - accuracy: 0.9968\n",
            "Epoch 50/100\n",
            "52/52 [==============================] - 0s 3ms/step - loss: nan - accuracy: 0.9968\n",
            "Epoch 51/100\n",
            "52/52 [==============================] - 0s 3ms/step - loss: nan - accuracy: 0.9968\n",
            "Epoch 52/100\n",
            "52/52 [==============================] - 0s 3ms/step - loss: nan - accuracy: 0.9968\n",
            "Epoch 53/100\n",
            "52/52 [==============================] - 0s 3ms/step - loss: nan - accuracy: 0.9968\n",
            "Epoch 54/100\n",
            "52/52 [==============================] - 0s 3ms/step - loss: nan - accuracy: 0.9968\n",
            "Epoch 55/100\n",
            "52/52 [==============================] - 0s 3ms/step - loss: nan - accuracy: 0.9968\n",
            "Epoch 56/100\n",
            "52/52 [==============================] - 0s 3ms/step - loss: nan - accuracy: 0.9968\n",
            "Epoch 57/100\n",
            "52/52 [==============================] - 0s 3ms/step - loss: nan - accuracy: 0.9968\n",
            "Epoch 58/100\n",
            "52/52 [==============================] - 0s 3ms/step - loss: nan - accuracy: 0.9968\n",
            "Epoch 59/100\n",
            "52/52 [==============================] - 0s 3ms/step - loss: nan - accuracy: 0.9968\n",
            "Epoch 60/100\n",
            "52/52 [==============================] - 0s 3ms/step - loss: nan - accuracy: 0.9968\n",
            "Epoch 61/100\n",
            "52/52 [==============================] - 0s 3ms/step - loss: nan - accuracy: 0.9968\n",
            "Epoch 62/100\n",
            "52/52 [==============================] - 0s 3ms/step - loss: nan - accuracy: 0.9968\n",
            "Epoch 63/100\n",
            "52/52 [==============================] - 0s 3ms/step - loss: nan - accuracy: 0.9968\n",
            "Epoch 64/100\n",
            "52/52 [==============================] - 0s 3ms/step - loss: nan - accuracy: 0.9968\n",
            "Epoch 65/100\n",
            "52/52 [==============================] - 0s 3ms/step - loss: nan - accuracy: 0.9968\n",
            "Epoch 66/100\n",
            "52/52 [==============================] - 0s 3ms/step - loss: nan - accuracy: 0.9968\n",
            "Epoch 67/100\n",
            "52/52 [==============================] - 0s 3ms/step - loss: nan - accuracy: 0.9968\n",
            "Epoch 68/100\n",
            "52/52 [==============================] - 0s 3ms/step - loss: nan - accuracy: 0.9968\n",
            "Epoch 69/100\n",
            "52/52 [==============================] - 0s 3ms/step - loss: nan - accuracy: 0.9968\n",
            "Epoch 70/100\n",
            "52/52 [==============================] - 0s 3ms/step - loss: nan - accuracy: 0.9968\n",
            "Epoch 71/100\n",
            "52/52 [==============================] - 0s 3ms/step - loss: nan - accuracy: 0.9968\n",
            "Epoch 72/100\n",
            "52/52 [==============================] - 0s 3ms/step - loss: nan - accuracy: 0.9968\n",
            "Epoch 73/100\n",
            "52/52 [==============================] - 0s 3ms/step - loss: nan - accuracy: 0.9968\n",
            "Epoch 74/100\n",
            "52/52 [==============================] - 0s 3ms/step - loss: nan - accuracy: 0.9968\n",
            "Epoch 75/100\n",
            "52/52 [==============================] - 0s 3ms/step - loss: nan - accuracy: 0.9968\n",
            "Epoch 76/100\n",
            "52/52 [==============================] - 0s 3ms/step - loss: nan - accuracy: 0.9968\n",
            "Epoch 77/100\n",
            "52/52 [==============================] - 0s 3ms/step - loss: nan - accuracy: 0.9968\n",
            "Epoch 78/100\n",
            "52/52 [==============================] - 0s 3ms/step - loss: nan - accuracy: 0.9968\n",
            "Epoch 79/100\n",
            "52/52 [==============================] - 0s 3ms/step - loss: nan - accuracy: 0.9968\n",
            "Epoch 80/100\n",
            "52/52 [==============================] - 0s 3ms/step - loss: nan - accuracy: 0.9968\n",
            "Epoch 81/100\n",
            "52/52 [==============================] - 0s 3ms/step - loss: nan - accuracy: 0.9968\n",
            "Epoch 82/100\n",
            "52/52 [==============================] - 0s 3ms/step - loss: nan - accuracy: 0.9968\n",
            "Epoch 83/100\n",
            "52/52 [==============================] - 0s 3ms/step - loss: nan - accuracy: 0.9968\n",
            "Epoch 84/100\n",
            "52/52 [==============================] - 0s 3ms/step - loss: nan - accuracy: 0.9968\n",
            "Epoch 85/100\n",
            "52/52 [==============================] - 0s 3ms/step - loss: nan - accuracy: 0.9968\n",
            "Epoch 86/100\n",
            "52/52 [==============================] - 0s 3ms/step - loss: nan - accuracy: 0.9968\n",
            "Epoch 87/100\n",
            "52/52 [==============================] - 0s 3ms/step - loss: nan - accuracy: 0.9968\n",
            "Epoch 88/100\n",
            "52/52 [==============================] - 0s 3ms/step - loss: nan - accuracy: 0.9968\n",
            "Epoch 89/100\n",
            "52/52 [==============================] - 0s 3ms/step - loss: nan - accuracy: 0.9968\n",
            "Epoch 90/100\n",
            "52/52 [==============================] - 0s 3ms/step - loss: nan - accuracy: 0.9968\n",
            "Epoch 91/100\n",
            "52/52 [==============================] - 0s 3ms/step - loss: nan - accuracy: 0.9968\n",
            "Epoch 92/100\n",
            "52/52 [==============================] - 0s 3ms/step - loss: nan - accuracy: 0.9968\n",
            "Epoch 93/100\n",
            "52/52 [==============================] - 0s 3ms/step - loss: nan - accuracy: 0.9968\n",
            "Epoch 94/100\n",
            "52/52 [==============================] - 0s 3ms/step - loss: nan - accuracy: 0.9968\n",
            "Epoch 95/100\n",
            "52/52 [==============================] - 0s 3ms/step - loss: nan - accuracy: 0.9968\n",
            "Epoch 96/100\n",
            "52/52 [==============================] - 0s 3ms/step - loss: nan - accuracy: 0.9968\n",
            "Epoch 97/100\n",
            "52/52 [==============================] - 0s 3ms/step - loss: nan - accuracy: 0.9968\n",
            "Epoch 98/100\n",
            "52/52 [==============================] - 0s 3ms/step - loss: nan - accuracy: 0.9968\n",
            "Epoch 99/100\n",
            "52/52 [==============================] - 0s 3ms/step - loss: nan - accuracy: 0.9968\n",
            "Epoch 100/100\n",
            "52/52 [==============================] - 0s 3ms/step - loss: nan - accuracy: 0.9968\n"
          ]
        },
        {
          "output_type": "execute_result",
          "data": {
            "text/plain": [
              "<keras.callbacks.History at 0x7f757104a2d0>"
            ]
          },
          "metadata": {},
          "execution_count": 31
        }
      ]
    },
    {
      "cell_type": "markdown",
      "source": [
        "seperti yang bisa kita lihat diatas, mulai dari epoch 1, akurasi yang dihasilkan sudah mencapai 99% dan validation loss yang dihasilkan adalah nan. Nan berarti validation mempunyai loss yang sangat besar (keluar dari range 0-1). Hal ini menandakan adanya overfitting pada saat mentraining data kita.\n",
        "\n",
        "Penyebabnya adalah ketika menggunakan cross-entropy loss untuk klasifikasi, prediksi yang jelek akan mendapatkan punishment yang lebih kuat dibandigkan dengan prediksi yang bagus. Ini berarti ketika kita mempunyai banyak image dengan loss yang rendah namun terdapat satu image lain yang mempunyai loss yang sangat tinggi, maka loss validation kita akan tiba-tiba spiking-up. Hasil yang ditunjukan pada awal epoch ke-1 yaitu accuracy dan val loss kedua-duanya naik menyebabkan overfit. Hal ini menyebabkan network hanya belajar pada pola tertentu yang relevan untuk training set dan kurang baik untuk generalisasi. Namun disaat yang bersamaan, network tetap mempelajari pattern yang berguna untuk generalisasi karena makin banyak image untuk diklasifikasi\n",
        "\n",
        "referensi: - https://stats.stackexchange.com/questions/282160/how-is-it-possible-that-validation-loss-is-increasing-while-validation-accuracy"
      ],
      "metadata": {
        "id": "dbgZL593vb5t"
      }
    },
    {
      "cell_type": "markdown",
      "source": [
        "# 1d. modifikasi arsitektur"
      ],
      "metadata": {
        "id": "uItiQ2gmxcU3"
      }
    },
    {
      "cell_type": "markdown",
      "source": [
        "pendekatan modifikasi yang saya pilih adalah hyperparameter tuning. hyperparameter tuning adalah proses test untuk tuning konfigurasi hyperparameter yang berbeda-beda pada saat training data dan memilih yang terbaik"
      ],
      "metadata": {
        "id": "SUuV37f64YYw"
      }
    },
    {
      "cell_type": "markdown",
      "source": [
        "alasan saya memilih hyperparameter tuning khususnya batchnormalization dan dropout adalah:\n",
        "\n",
        "Penambahan layer dropout mengatasi masalah overfitting yang ada. Overfitting disebabkan oleh adanya pattern palsu yang dipelajari network dalam training data. Untuk mengenali pola ini, weight dijadikan patokan untuk mengukur. Dropout layer berfungsi untuk mendrop sedikit random layer unit pada saat training. Hal ini membuat pattern yang palsu lebih sulit dipelajari oleh network pada saat mentraining data sehingga network dipaksa untuk mencari patternyang lebih luas, umum, dan mempunyai bobot yang kuat.\n",
        "\n",
        "Selain dropout layer, penambahan batch normalization dilakukan untuk menormalisasi data didalam layer network. Batch_normalization dilakukan pada setiap kali batch datang. Hal pertama yang dilakukan adalah menormalisasi dengan mean dan standard deviation masing-masing, kemudian juga akan membuat data memiliki scale yang baru dengan dua trainable rescaling parameter.\n",
        "\n",
        "referensi: -https://www.kaggle.com/code/ryanholbrook/dropout-and-batch-normalization"
      ],
      "metadata": {
        "id": "7T4h1jEk7AL6"
      }
    },
    {
      "cell_type": "markdown",
      "source": [],
      "metadata": {
        "id": "beXWU2bQ4YWq"
      }
    },
    {
      "cell_type": "markdown",
      "source": [
        "##Retrain ann"
      ],
      "metadata": {
        "id": "lTFUfInQy9Z1"
      }
    },
    {
      "cell_type": "markdown",
      "source": [
        "##percobaan ke-1"
      ],
      "metadata": {
        "id": "PMeKm9SuzbBU"
      }
    },
    {
      "cell_type": "code",
      "source": [
        "import tensorflow as tf #backpropagation\n",
        "annmodelrework = tf.keras.models.Sequential()"
      ],
      "metadata": {
        "id": "ydVhv1XDx0mr"
      },
      "execution_count": null,
      "outputs": []
    },
    {
      "cell_type": "code",
      "source": [
        "annmodelrework.add(tf.keras.layers.Dense(units=10, activation='relu'))\n",
        "annmodelrework.add(tf.keras.layers.BatchNormalization())\n",
        "annmodelrework.add(tf.keras.layers.Dropout(0.4))"
      ],
      "metadata": {
        "id": "_bnfskeFx91k"
      },
      "execution_count": null,
      "outputs": []
    },
    {
      "cell_type": "code",
      "source": [
        "annmodelrework.add(tf.keras.layers.Dense(units=20, activation='relu'))\n",
        "annmodelrework.add(tf.keras.layers.BatchNormalization())\n",
        "annmodelrework.add(tf.keras.layers.Dropout(0.4))"
      ],
      "metadata": {
        "id": "Z97nAi41yBOe"
      },
      "execution_count": null,
      "outputs": []
    },
    {
      "cell_type": "code",
      "source": [
        "annmodelrework.add(tf.keras.layers.Dense(units=20, activation='relu'))\n",
        "annmodelrework.add(tf.keras.layers.BatchNormalization())\n",
        "annmodelrework.add(tf.keras.layers.Dropout(0.4))"
      ],
      "metadata": {
        "id": "xEr4e9kVyF10"
      },
      "execution_count": null,
      "outputs": []
    },
    {
      "cell_type": "code",
      "source": [
        "annmodelrework.add(tf.keras.layers.Dense(units=1, activation='sigmoid'))"
      ],
      "metadata": {
        "id": "GpwB15A7yEry"
      },
      "execution_count": null,
      "outputs": []
    },
    {
      "cell_type": "code",
      "source": [
        "annmodelrework.fit(X_train, y_train, batch_size=128, epochs=100)"
      ],
      "metadata": {
        "colab": {
          "base_uri": "https://localhost:8080/"
        },
        "id": "wfSdFij3zOBm",
        "outputId": "b8ce8753-94f3-4f88-8537-8be8f0f4af16"
      },
      "execution_count": null,
      "outputs": [
        {
          "output_type": "stream",
          "name": "stdout",
          "text": [
            "Epoch 1/100\n",
            "52/52 [==============================] - 1s 5ms/step - loss: nan - accuracy: 0.6387\n",
            "Epoch 2/100\n",
            "52/52 [==============================] - 0s 5ms/step - loss: nan - accuracy: 0.9968\n",
            "Epoch 3/100\n",
            "52/52 [==============================] - 0s 5ms/step - loss: nan - accuracy: 0.9968\n",
            "Epoch 4/100\n",
            "52/52 [==============================] - 0s 5ms/step - loss: nan - accuracy: 0.9968\n",
            "Epoch 5/100\n",
            "52/52 [==============================] - 0s 5ms/step - loss: nan - accuracy: 0.9968\n",
            "Epoch 6/100\n",
            "52/52 [==============================] - 0s 5ms/step - loss: nan - accuracy: 0.9968\n",
            "Epoch 7/100\n",
            "52/52 [==============================] - 0s 5ms/step - loss: nan - accuracy: 0.9968\n",
            "Epoch 8/100\n",
            "52/52 [==============================] - 0s 5ms/step - loss: nan - accuracy: 0.9968\n",
            "Epoch 9/100\n",
            "52/52 [==============================] - 0s 5ms/step - loss: nan - accuracy: 0.9968\n",
            "Epoch 10/100\n",
            "52/52 [==============================] - 0s 5ms/step - loss: nan - accuracy: 0.9968\n",
            "Epoch 11/100\n",
            "52/52 [==============================] - 0s 5ms/step - loss: nan - accuracy: 0.9968\n",
            "Epoch 12/100\n",
            "52/52 [==============================] - 0s 5ms/step - loss: nan - accuracy: 0.9968\n",
            "Epoch 13/100\n",
            "52/52 [==============================] - 0s 5ms/step - loss: nan - accuracy: 0.9968\n",
            "Epoch 14/100\n",
            "52/52 [==============================] - 0s 5ms/step - loss: nan - accuracy: 0.9968\n",
            "Epoch 15/100\n",
            "52/52 [==============================] - 0s 5ms/step - loss: nan - accuracy: 0.9968\n",
            "Epoch 16/100\n",
            "52/52 [==============================] - 0s 5ms/step - loss: nan - accuracy: 0.9968\n",
            "Epoch 17/100\n",
            "52/52 [==============================] - 0s 5ms/step - loss: nan - accuracy: 0.9968\n",
            "Epoch 18/100\n",
            "52/52 [==============================] - 0s 5ms/step - loss: nan - accuracy: 0.9968\n",
            "Epoch 19/100\n",
            "52/52 [==============================] - 0s 5ms/step - loss: nan - accuracy: 0.9968\n",
            "Epoch 20/100\n",
            "52/52 [==============================] - 0s 5ms/step - loss: nan - accuracy: 0.9968\n",
            "Epoch 21/100\n",
            "52/52 [==============================] - 0s 5ms/step - loss: nan - accuracy: 0.9968\n",
            "Epoch 22/100\n",
            "52/52 [==============================] - 0s 5ms/step - loss: nan - accuracy: 0.9968\n",
            "Epoch 23/100\n",
            "52/52 [==============================] - 0s 5ms/step - loss: nan - accuracy: 0.9968\n",
            "Epoch 24/100\n",
            "52/52 [==============================] - 0s 5ms/step - loss: nan - accuracy: 0.9968\n",
            "Epoch 25/100\n",
            "52/52 [==============================] - 0s 5ms/step - loss: nan - accuracy: 0.9968\n",
            "Epoch 26/100\n",
            "52/52 [==============================] - 0s 5ms/step - loss: nan - accuracy: 0.9968\n",
            "Epoch 27/100\n",
            "52/52 [==============================] - 0s 5ms/step - loss: nan - accuracy: 0.9968\n",
            "Epoch 28/100\n",
            "52/52 [==============================] - 0s 5ms/step - loss: nan - accuracy: 0.9968\n",
            "Epoch 29/100\n",
            "52/52 [==============================] - 0s 5ms/step - loss: nan - accuracy: 0.9968\n",
            "Epoch 30/100\n",
            "52/52 [==============================] - 0s 5ms/step - loss: nan - accuracy: 0.9968\n",
            "Epoch 31/100\n",
            "52/52 [==============================] - 0s 5ms/step - loss: nan - accuracy: 0.9968\n",
            "Epoch 32/100\n",
            "52/52 [==============================] - 0s 5ms/step - loss: nan - accuracy: 0.9968\n",
            "Epoch 33/100\n",
            "52/52 [==============================] - 0s 5ms/step - loss: nan - accuracy: 0.9968\n",
            "Epoch 34/100\n",
            "52/52 [==============================] - 0s 5ms/step - loss: nan - accuracy: 0.9968\n",
            "Epoch 35/100\n",
            "52/52 [==============================] - 0s 5ms/step - loss: nan - accuracy: 0.9968\n",
            "Epoch 36/100\n",
            "52/52 [==============================] - 0s 5ms/step - loss: nan - accuracy: 0.9968\n",
            "Epoch 37/100\n",
            "52/52 [==============================] - 0s 5ms/step - loss: nan - accuracy: 0.9968\n",
            "Epoch 38/100\n",
            "52/52 [==============================] - 0s 5ms/step - loss: nan - accuracy: 0.9968\n",
            "Epoch 39/100\n",
            "52/52 [==============================] - 0s 5ms/step - loss: nan - accuracy: 0.9968\n",
            "Epoch 40/100\n",
            "52/52 [==============================] - 0s 5ms/step - loss: nan - accuracy: 0.9968\n",
            "Epoch 41/100\n",
            "52/52 [==============================] - 0s 5ms/step - loss: nan - accuracy: 0.9968\n",
            "Epoch 42/100\n",
            "52/52 [==============================] - 0s 5ms/step - loss: nan - accuracy: 0.9968\n",
            "Epoch 43/100\n",
            "52/52 [==============================] - 0s 5ms/step - loss: nan - accuracy: 0.9968\n",
            "Epoch 44/100\n",
            "52/52 [==============================] - 0s 5ms/step - loss: nan - accuracy: 0.9968\n",
            "Epoch 45/100\n",
            "52/52 [==============================] - 0s 5ms/step - loss: nan - accuracy: 0.9968\n",
            "Epoch 46/100\n",
            "52/52 [==============================] - 0s 5ms/step - loss: nan - accuracy: 0.9968\n",
            "Epoch 47/100\n",
            "52/52 [==============================] - 0s 5ms/step - loss: nan - accuracy: 0.9968\n",
            "Epoch 48/100\n",
            "52/52 [==============================] - 0s 5ms/step - loss: nan - accuracy: 0.9968\n",
            "Epoch 49/100\n",
            "52/52 [==============================] - 0s 5ms/step - loss: nan - accuracy: 0.9968\n",
            "Epoch 50/100\n",
            "52/52 [==============================] - 0s 5ms/step - loss: nan - accuracy: 0.9968\n",
            "Epoch 51/100\n",
            "52/52 [==============================] - 0s 5ms/step - loss: nan - accuracy: 0.9968\n",
            "Epoch 52/100\n",
            "52/52 [==============================] - 0s 5ms/step - loss: nan - accuracy: 0.9968\n",
            "Epoch 53/100\n",
            "52/52 [==============================] - 0s 5ms/step - loss: nan - accuracy: 0.9968\n",
            "Epoch 54/100\n",
            "52/52 [==============================] - 0s 5ms/step - loss: nan - accuracy: 0.9968\n",
            "Epoch 55/100\n",
            "52/52 [==============================] - 0s 5ms/step - loss: nan - accuracy: 0.9968\n",
            "Epoch 56/100\n",
            "52/52 [==============================] - 0s 5ms/step - loss: nan - accuracy: 0.9968\n",
            "Epoch 57/100\n",
            "52/52 [==============================] - 0s 5ms/step - loss: nan - accuracy: 0.9968\n",
            "Epoch 58/100\n",
            "52/52 [==============================] - 0s 5ms/step - loss: nan - accuracy: 0.9968\n",
            "Epoch 59/100\n",
            "52/52 [==============================] - 0s 5ms/step - loss: nan - accuracy: 0.9968\n",
            "Epoch 60/100\n",
            "52/52 [==============================] - 0s 5ms/step - loss: nan - accuracy: 0.9968\n",
            "Epoch 61/100\n",
            "52/52 [==============================] - 0s 5ms/step - loss: nan - accuracy: 0.9968\n",
            "Epoch 62/100\n",
            "52/52 [==============================] - 0s 5ms/step - loss: nan - accuracy: 0.9968\n",
            "Epoch 63/100\n",
            "52/52 [==============================] - 0s 5ms/step - loss: nan - accuracy: 0.9968\n",
            "Epoch 64/100\n",
            "52/52 [==============================] - 0s 5ms/step - loss: nan - accuracy: 0.9968\n",
            "Epoch 65/100\n",
            "52/52 [==============================] - 0s 5ms/step - loss: nan - accuracy: 0.9968\n",
            "Epoch 66/100\n",
            "52/52 [==============================] - 0s 5ms/step - loss: nan - accuracy: 0.9968\n",
            "Epoch 67/100\n",
            "52/52 [==============================] - 0s 5ms/step - loss: nan - accuracy: 0.9968\n",
            "Epoch 68/100\n",
            "52/52 [==============================] - 0s 5ms/step - loss: nan - accuracy: 0.9968\n",
            "Epoch 69/100\n",
            "52/52 [==============================] - 0s 5ms/step - loss: nan - accuracy: 0.9968\n",
            "Epoch 70/100\n",
            "52/52 [==============================] - 0s 5ms/step - loss: nan - accuracy: 0.9968\n",
            "Epoch 71/100\n",
            "52/52 [==============================] - 0s 5ms/step - loss: nan - accuracy: 0.9968\n",
            "Epoch 72/100\n",
            "52/52 [==============================] - 0s 5ms/step - loss: nan - accuracy: 0.9968\n",
            "Epoch 73/100\n",
            "52/52 [==============================] - 0s 5ms/step - loss: nan - accuracy: 0.9968\n",
            "Epoch 74/100\n",
            "52/52 [==============================] - 0s 5ms/step - loss: nan - accuracy: 0.9968\n",
            "Epoch 75/100\n",
            "52/52 [==============================] - 0s 5ms/step - loss: nan - accuracy: 0.9968\n",
            "Epoch 76/100\n",
            "52/52 [==============================] - 0s 5ms/step - loss: nan - accuracy: 0.9968\n",
            "Epoch 77/100\n",
            "52/52 [==============================] - 0s 5ms/step - loss: nan - accuracy: 0.9968\n",
            "Epoch 78/100\n",
            "52/52 [==============================] - 0s 5ms/step - loss: nan - accuracy: 0.9968\n",
            "Epoch 79/100\n",
            "52/52 [==============================] - 0s 5ms/step - loss: nan - accuracy: 0.9968\n",
            "Epoch 80/100\n",
            "52/52 [==============================] - 0s 5ms/step - loss: nan - accuracy: 0.9968\n",
            "Epoch 81/100\n",
            "52/52 [==============================] - 0s 5ms/step - loss: nan - accuracy: 0.9968\n",
            "Epoch 82/100\n",
            "52/52 [==============================] - 0s 5ms/step - loss: nan - accuracy: 0.9968\n",
            "Epoch 83/100\n",
            "52/52 [==============================] - 0s 5ms/step - loss: nan - accuracy: 0.9968\n",
            "Epoch 84/100\n",
            "52/52 [==============================] - 0s 5ms/step - loss: nan - accuracy: 0.9968\n",
            "Epoch 85/100\n",
            "52/52 [==============================] - 0s 5ms/step - loss: nan - accuracy: 0.9968\n",
            "Epoch 86/100\n",
            "52/52 [==============================] - 0s 6ms/step - loss: nan - accuracy: 0.9968\n",
            "Epoch 87/100\n",
            "52/52 [==============================] - 0s 5ms/step - loss: nan - accuracy: 0.9968\n",
            "Epoch 88/100\n",
            "52/52 [==============================] - 0s 5ms/step - loss: nan - accuracy: 0.9968\n",
            "Epoch 89/100\n",
            "52/52 [==============================] - 0s 5ms/step - loss: nan - accuracy: 0.9968\n",
            "Epoch 90/100\n",
            "52/52 [==============================] - 0s 5ms/step - loss: nan - accuracy: 0.9968\n",
            "Epoch 91/100\n",
            "52/52 [==============================] - 0s 5ms/step - loss: nan - accuracy: 0.9968\n",
            "Epoch 92/100\n",
            "52/52 [==============================] - 0s 5ms/step - loss: nan - accuracy: 0.9968\n",
            "Epoch 93/100\n",
            "52/52 [==============================] - 0s 5ms/step - loss: nan - accuracy: 0.9968\n",
            "Epoch 94/100\n",
            "52/52 [==============================] - 0s 5ms/step - loss: nan - accuracy: 0.9968\n",
            "Epoch 95/100\n",
            "52/52 [==============================] - 0s 5ms/step - loss: nan - accuracy: 0.9968\n",
            "Epoch 96/100\n",
            "52/52 [==============================] - 0s 5ms/step - loss: nan - accuracy: 0.9968\n",
            "Epoch 97/100\n",
            "52/52 [==============================] - 0s 5ms/step - loss: nan - accuracy: 0.9968\n",
            "Epoch 98/100\n",
            "52/52 [==============================] - 0s 5ms/step - loss: nan - accuracy: 0.9968\n",
            "Epoch 99/100\n",
            "52/52 [==============================] - 0s 5ms/step - loss: nan - accuracy: 0.9968\n",
            "Epoch 100/100\n",
            "52/52 [==============================] - 0s 5ms/step - loss: nan - accuracy: 0.9968\n"
          ]
        },
        {
          "output_type": "execute_result",
          "data": {
            "text/plain": [
              "<keras.callbacks.History at 0x7f75702b7950>"
            ]
          },
          "metadata": {},
          "execution_count": 39
        }
      ]
    },
    {
      "cell_type": "markdown",
      "source": [
        "sepertinya nilai loss masih tetap nan dan akurasi masih 0.99.\n",
        "sesuaikan kembali hyperparameternya"
      ],
      "metadata": {
        "id": "Vn4SqHjMznqw"
      }
    },
    {
      "cell_type": "markdown",
      "source": [
        "##percobaan ke-2"
      ],
      "metadata": {
        "id": "NFHmXH3Cz7tK"
      }
    },
    {
      "cell_type": "code",
      "source": [
        "#ganti dropout rate ke 0.3\n",
        "annmodelrework.add(tf.keras.layers.Dense(units=10, activation='relu'))\n",
        "annmodelrework.add(tf.keras.layers.BatchNormalization())\n",
        "annmodelrework.add(tf.keras.layers.Dropout(0.3))\n",
        "annmodelrework.add(tf.keras.layers.Dense(units=20, activation='relu'))\n",
        "annmodelrework.add(tf.keras.layers.BatchNormalization())\n",
        "annmodelrework.add(tf.keras.layers.Dropout(0.3))\n",
        "annmodelrework.add(tf.keras.layers.Dense(units=20, activation='relu'))\n",
        "annmodelrework.add(tf.keras.layers.BatchNormalization())\n",
        "annmodelrework.add(tf.keras.layers.Dropout(0.3))\n",
        "annmodelrework.add(tf.keras.layers.Dense(units=1, activation='sigmoid'))"
      ],
      "metadata": {
        "id": "D8shtZL30PRI"
      },
      "execution_count": null,
      "outputs": []
    },
    {
      "cell_type": "code",
      "source": [
        "annmodelrework.fit(X_train, y_train, batch_size=128, epochs=100)"
      ],
      "metadata": {
        "colab": {
          "base_uri": "https://localhost:8080/"
        },
        "id": "S83Sa0JD0Pzx",
        "outputId": "72d3de0a-3581-4555-d86f-3ffa1d26974f"
      },
      "execution_count": null,
      "outputs": [
        {
          "output_type": "stream",
          "name": "stdout",
          "text": [
            "Epoch 1/100\n",
            "52/52 [==============================] - 0s 5ms/step - loss: nan - accuracy: 0.9968\n",
            "Epoch 2/100\n",
            "52/52 [==============================] - 0s 5ms/step - loss: nan - accuracy: 0.9968\n",
            "Epoch 3/100\n",
            "52/52 [==============================] - 0s 5ms/step - loss: nan - accuracy: 0.9968\n",
            "Epoch 4/100\n",
            "52/52 [==============================] - 0s 5ms/step - loss: nan - accuracy: 0.9968\n",
            "Epoch 5/100\n",
            "52/52 [==============================] - 0s 5ms/step - loss: nan - accuracy: 0.9968\n",
            "Epoch 6/100\n",
            "52/52 [==============================] - 0s 5ms/step - loss: nan - accuracy: 0.9968\n",
            "Epoch 7/100\n",
            "52/52 [==============================] - 0s 5ms/step - loss: nan - accuracy: 0.9968\n",
            "Epoch 8/100\n",
            "52/52 [==============================] - 0s 5ms/step - loss: nan - accuracy: 0.9968\n",
            "Epoch 9/100\n",
            "52/52 [==============================] - 0s 5ms/step - loss: nan - accuracy: 0.9968\n",
            "Epoch 10/100\n",
            "52/52 [==============================] - 0s 5ms/step - loss: nan - accuracy: 0.9968\n",
            "Epoch 11/100\n",
            "52/52 [==============================] - 0s 5ms/step - loss: nan - accuracy: 0.9968\n",
            "Epoch 12/100\n",
            "52/52 [==============================] - 0s 5ms/step - loss: nan - accuracy: 0.9968\n",
            "Epoch 13/100\n",
            "52/52 [==============================] - 0s 5ms/step - loss: nan - accuracy: 0.9968\n",
            "Epoch 14/100\n",
            "52/52 [==============================] - 0s 5ms/step - loss: nan - accuracy: 0.9968\n",
            "Epoch 15/100\n",
            "52/52 [==============================] - 0s 5ms/step - loss: nan - accuracy: 0.9968\n",
            "Epoch 16/100\n",
            "52/52 [==============================] - 0s 5ms/step - loss: nan - accuracy: 0.9968\n",
            "Epoch 17/100\n",
            "52/52 [==============================] - 0s 5ms/step - loss: nan - accuracy: 0.9968\n",
            "Epoch 18/100\n",
            "52/52 [==============================] - 0s 5ms/step - loss: nan - accuracy: 0.9968\n",
            "Epoch 19/100\n",
            "52/52 [==============================] - 0s 5ms/step - loss: nan - accuracy: 0.9968\n",
            "Epoch 20/100\n",
            "52/52 [==============================] - 0s 5ms/step - loss: nan - accuracy: 0.9968\n",
            "Epoch 21/100\n",
            "52/52 [==============================] - 0s 5ms/step - loss: nan - accuracy: 0.9968\n",
            "Epoch 22/100\n",
            "52/52 [==============================] - 0s 5ms/step - loss: nan - accuracy: 0.9968\n",
            "Epoch 23/100\n",
            "52/52 [==============================] - 0s 5ms/step - loss: nan - accuracy: 0.9968\n",
            "Epoch 24/100\n",
            "52/52 [==============================] - 0s 5ms/step - loss: nan - accuracy: 0.9968\n",
            "Epoch 25/100\n",
            "52/52 [==============================] - 0s 6ms/step - loss: nan - accuracy: 0.9968\n",
            "Epoch 26/100\n",
            "52/52 [==============================] - 0s 5ms/step - loss: nan - accuracy: 0.9968\n",
            "Epoch 27/100\n",
            "52/52 [==============================] - 0s 5ms/step - loss: nan - accuracy: 0.9968\n",
            "Epoch 28/100\n",
            "52/52 [==============================] - 0s 5ms/step - loss: nan - accuracy: 0.9968\n",
            "Epoch 29/100\n",
            "52/52 [==============================] - 0s 5ms/step - loss: nan - accuracy: 0.9968\n",
            "Epoch 30/100\n",
            "52/52 [==============================] - 0s 5ms/step - loss: nan - accuracy: 0.9968\n",
            "Epoch 31/100\n",
            "52/52 [==============================] - 0s 5ms/step - loss: nan - accuracy: 0.9968\n",
            "Epoch 32/100\n",
            "52/52 [==============================] - 0s 5ms/step - loss: nan - accuracy: 0.9968\n",
            "Epoch 33/100\n",
            "52/52 [==============================] - 0s 5ms/step - loss: nan - accuracy: 0.9968\n",
            "Epoch 34/100\n",
            "52/52 [==============================] - 0s 5ms/step - loss: nan - accuracy: 0.9968\n",
            "Epoch 35/100\n",
            "52/52 [==============================] - 0s 5ms/step - loss: nan - accuracy: 0.9968\n",
            "Epoch 36/100\n",
            "52/52 [==============================] - 0s 5ms/step - loss: nan - accuracy: 0.9968\n",
            "Epoch 37/100\n",
            "52/52 [==============================] - 0s 6ms/step - loss: nan - accuracy: 0.9968\n",
            "Epoch 38/100\n",
            "52/52 [==============================] - 0s 5ms/step - loss: nan - accuracy: 0.9968\n",
            "Epoch 39/100\n",
            "52/52 [==============================] - 0s 5ms/step - loss: nan - accuracy: 0.9968\n",
            "Epoch 40/100\n",
            "52/52 [==============================] - 0s 5ms/step - loss: nan - accuracy: 0.9968\n",
            "Epoch 41/100\n",
            "52/52 [==============================] - 0s 5ms/step - loss: nan - accuracy: 0.9968\n",
            "Epoch 42/100\n",
            "52/52 [==============================] - 0s 5ms/step - loss: nan - accuracy: 0.9968\n",
            "Epoch 43/100\n",
            "52/52 [==============================] - 0s 5ms/step - loss: nan - accuracy: 0.9968\n",
            "Epoch 44/100\n",
            "52/52 [==============================] - 0s 5ms/step - loss: nan - accuracy: 0.9968\n",
            "Epoch 45/100\n",
            "52/52 [==============================] - 0s 5ms/step - loss: nan - accuracy: 0.9968\n",
            "Epoch 46/100\n",
            "52/52 [==============================] - 0s 5ms/step - loss: nan - accuracy: 0.9968\n",
            "Epoch 47/100\n",
            "52/52 [==============================] - 0s 5ms/step - loss: nan - accuracy: 0.9968\n",
            "Epoch 48/100\n",
            "52/52 [==============================] - 0s 5ms/step - loss: nan - accuracy: 0.9968\n",
            "Epoch 49/100\n",
            "52/52 [==============================] - 0s 6ms/step - loss: nan - accuracy: 0.9968\n",
            "Epoch 50/100\n",
            "52/52 [==============================] - 0s 8ms/step - loss: nan - accuracy: 0.9968\n",
            "Epoch 51/100\n",
            "52/52 [==============================] - 0s 6ms/step - loss: nan - accuracy: 0.9968\n",
            "Epoch 52/100\n",
            "52/52 [==============================] - 0s 8ms/step - loss: nan - accuracy: 0.9968\n",
            "Epoch 53/100\n",
            "52/52 [==============================] - 0s 7ms/step - loss: nan - accuracy: 0.9968\n",
            "Epoch 54/100\n",
            "52/52 [==============================] - 0s 5ms/step - loss: nan - accuracy: 0.9968\n",
            "Epoch 55/100\n",
            "52/52 [==============================] - 0s 5ms/step - loss: nan - accuracy: 0.9968\n",
            "Epoch 56/100\n",
            "52/52 [==============================] - 0s 5ms/step - loss: nan - accuracy: 0.9968\n",
            "Epoch 57/100\n",
            "52/52 [==============================] - 0s 5ms/step - loss: nan - accuracy: 0.9968\n",
            "Epoch 58/100\n",
            "52/52 [==============================] - 0s 6ms/step - loss: nan - accuracy: 0.9968\n",
            "Epoch 59/100\n",
            "52/52 [==============================] - 0s 5ms/step - loss: nan - accuracy: 0.9968\n",
            "Epoch 60/100\n",
            "52/52 [==============================] - 0s 5ms/step - loss: nan - accuracy: 0.9968\n",
            "Epoch 61/100\n",
            "52/52 [==============================] - 0s 5ms/step - loss: nan - accuracy: 0.9968\n",
            "Epoch 62/100\n",
            "52/52 [==============================] - 0s 5ms/step - loss: nan - accuracy: 0.9968\n",
            "Epoch 63/100\n",
            "52/52 [==============================] - 0s 5ms/step - loss: nan - accuracy: 0.9968\n",
            "Epoch 64/100\n",
            "52/52 [==============================] - 0s 6ms/step - loss: nan - accuracy: 0.9968\n",
            "Epoch 65/100\n",
            "52/52 [==============================] - 0s 5ms/step - loss: nan - accuracy: 0.9968\n",
            "Epoch 66/100\n",
            "52/52 [==============================] - 0s 5ms/step - loss: nan - accuracy: 0.9968\n",
            "Epoch 67/100\n",
            "52/52 [==============================] - 0s 5ms/step - loss: nan - accuracy: 0.9968\n",
            "Epoch 68/100\n",
            "52/52 [==============================] - 0s 5ms/step - loss: nan - accuracy: 0.9968\n",
            "Epoch 69/100\n",
            "52/52 [==============================] - 0s 5ms/step - loss: nan - accuracy: 0.9968\n",
            "Epoch 70/100\n",
            "52/52 [==============================] - 0s 5ms/step - loss: nan - accuracy: 0.9968\n",
            "Epoch 71/100\n",
            "52/52 [==============================] - 0s 5ms/step - loss: nan - accuracy: 0.9968\n",
            "Epoch 72/100\n",
            "52/52 [==============================] - 0s 5ms/step - loss: nan - accuracy: 0.9968\n",
            "Epoch 73/100\n",
            "52/52 [==============================] - 0s 5ms/step - loss: nan - accuracy: 0.9968\n",
            "Epoch 74/100\n",
            "52/52 [==============================] - 0s 5ms/step - loss: nan - accuracy: 0.9968\n",
            "Epoch 75/100\n",
            "52/52 [==============================] - 0s 5ms/step - loss: nan - accuracy: 0.9968\n",
            "Epoch 76/100\n",
            "52/52 [==============================] - 0s 5ms/step - loss: nan - accuracy: 0.9968\n",
            "Epoch 77/100\n",
            "52/52 [==============================] - 0s 5ms/step - loss: nan - accuracy: 0.9968\n",
            "Epoch 78/100\n",
            "52/52 [==============================] - 0s 5ms/step - loss: nan - accuracy: 0.9968\n",
            "Epoch 79/100\n",
            "52/52 [==============================] - 0s 5ms/step - loss: nan - accuracy: 0.9968\n",
            "Epoch 80/100\n",
            "52/52 [==============================] - 0s 5ms/step - loss: nan - accuracy: 0.9968\n",
            "Epoch 81/100\n",
            "52/52 [==============================] - 0s 5ms/step - loss: nan - accuracy: 0.9968\n",
            "Epoch 82/100\n",
            "52/52 [==============================] - 0s 5ms/step - loss: nan - accuracy: 0.9968\n",
            "Epoch 83/100\n",
            "52/52 [==============================] - 0s 5ms/step - loss: nan - accuracy: 0.9968\n",
            "Epoch 84/100\n",
            "52/52 [==============================] - 0s 5ms/step - loss: nan - accuracy: 0.9968\n",
            "Epoch 85/100\n",
            "52/52 [==============================] - 0s 5ms/step - loss: nan - accuracy: 0.9968\n",
            "Epoch 86/100\n",
            "52/52 [==============================] - 0s 5ms/step - loss: nan - accuracy: 0.9968\n",
            "Epoch 87/100\n",
            "52/52 [==============================] - 0s 5ms/step - loss: nan - accuracy: 0.9968\n",
            "Epoch 88/100\n",
            "52/52 [==============================] - 0s 5ms/step - loss: nan - accuracy: 0.9968\n",
            "Epoch 89/100\n",
            "52/52 [==============================] - 0s 5ms/step - loss: nan - accuracy: 0.9968\n",
            "Epoch 90/100\n",
            "52/52 [==============================] - 0s 5ms/step - loss: nan - accuracy: 0.9968\n",
            "Epoch 91/100\n",
            "52/52 [==============================] - 0s 5ms/step - loss: nan - accuracy: 0.9968\n",
            "Epoch 92/100\n",
            "52/52 [==============================] - 0s 5ms/step - loss: nan - accuracy: 0.9968\n",
            "Epoch 93/100\n",
            "52/52 [==============================] - 0s 5ms/step - loss: nan - accuracy: 0.9968\n",
            "Epoch 94/100\n",
            "52/52 [==============================] - 0s 5ms/step - loss: nan - accuracy: 0.9968\n",
            "Epoch 95/100\n",
            "52/52 [==============================] - 0s 5ms/step - loss: nan - accuracy: 0.9968\n",
            "Epoch 96/100\n",
            "52/52 [==============================] - 0s 5ms/step - loss: nan - accuracy: 0.9968\n",
            "Epoch 97/100\n",
            "52/52 [==============================] - 0s 5ms/step - loss: nan - accuracy: 0.9968\n",
            "Epoch 98/100\n",
            "52/52 [==============================] - 0s 5ms/step - loss: nan - accuracy: 0.9968\n",
            "Epoch 99/100\n",
            "52/52 [==============================] - 0s 5ms/step - loss: nan - accuracy: 0.9968\n",
            "Epoch 100/100\n",
            "52/52 [==============================] - 0s 5ms/step - loss: nan - accuracy: 0.9968\n"
          ]
        },
        {
          "output_type": "execute_result",
          "data": {
            "text/plain": [
              "<keras.callbacks.History at 0x7f757052d690>"
            ]
          },
          "metadata": {},
          "execution_count": 41
        }
      ]
    },
    {
      "cell_type": "markdown",
      "source": [
        "sepertinya nilai loss masih tetap nan dan akurasi masih 0.99.\n",
        "sesuaikan kembali **hyperparameternya**"
      ],
      "metadata": {
        "id": "RKjaHFON0nCo"
      }
    },
    {
      "cell_type": "markdown",
      "source": [
        "##percobaan ke-3"
      ],
      "metadata": {
        "id": "ztY621t30q6Z"
      }
    },
    {
      "cell_type": "code",
      "source": [
        "annmodelrework.add(tf.keras.layers.Dense(units=10, activation='relu'))\n",
        "annmodelrework.add(tf.keras.layers.BatchNormalization())\n",
        "annmodelrework.add(tf.keras.layers.Dropout(0.25))\n",
        "annmodelrework.add(tf.keras.layers.Dense(units=20, activation='relu'))\n",
        "annmodelrework.add(tf.keras.layers.BatchNormalization())\n",
        "annmodelrework.add(tf.keras.layers.Dropout(0.25))\n",
        "annmodelrework.add(tf.keras.layers.Dense(units=20, activation='relu'))\n",
        "annmodelrework.add(tf.keras.layers.BatchNormalization())\n",
        "annmodelrework.add(tf.keras.layers.Dropout(0.25))\n",
        "annmodelrework.add(tf.keras.layers.Dense(units=1, activation='sigmoid'))"
      ],
      "metadata": {
        "id": "JQ2drUlNz-eg"
      },
      "execution_count": null,
      "outputs": []
    },
    {
      "cell_type": "code",
      "source": [
        "annmodelrework.fit(X_train, y_train, batch_size=128, epochs=100)"
      ],
      "metadata": {
        "colab": {
          "base_uri": "https://localhost:8080/"
        },
        "id": "lv9QzMgBznWp",
        "outputId": "81107ff2-b4eb-4d47-b44a-d51d751060d1"
      },
      "execution_count": null,
      "outputs": [
        {
          "output_type": "stream",
          "name": "stdout",
          "text": [
            "Epoch 1/100\n",
            "52/52 [==============================] - 4s 11ms/step - loss: nan - accuracy: 0.9968\n",
            "Epoch 2/100\n",
            "52/52 [==============================] - 1s 12ms/step - loss: nan - accuracy: 0.9968\n",
            "Epoch 3/100\n",
            "52/52 [==============================] - 1s 12ms/step - loss: nan - accuracy: 0.9968\n",
            "Epoch 4/100\n",
            "52/52 [==============================] - 1s 11ms/step - loss: nan - accuracy: 0.9968\n",
            "Epoch 5/100\n",
            "52/52 [==============================] - 1s 11ms/step - loss: nan - accuracy: 0.9968\n",
            "Epoch 6/100\n",
            "52/52 [==============================] - 1s 11ms/step - loss: nan - accuracy: 0.9968\n",
            "Epoch 7/100\n",
            "52/52 [==============================] - 1s 12ms/step - loss: nan - accuracy: 0.9968\n",
            "Epoch 8/100\n",
            "52/52 [==============================] - 1s 12ms/step - loss: nan - accuracy: 0.9968\n",
            "Epoch 9/100\n",
            "52/52 [==============================] - 1s 12ms/step - loss: nan - accuracy: 0.9968\n",
            "Epoch 10/100\n",
            "52/52 [==============================] - 1s 12ms/step - loss: nan - accuracy: 0.9968\n",
            "Epoch 11/100\n",
            "52/52 [==============================] - 1s 12ms/step - loss: nan - accuracy: 0.9968\n",
            "Epoch 12/100\n",
            "52/52 [==============================] - 1s 12ms/step - loss: nan - accuracy: 0.9968\n",
            "Epoch 13/100\n",
            "52/52 [==============================] - 1s 11ms/step - loss: nan - accuracy: 0.9968\n",
            "Epoch 14/100\n",
            "52/52 [==============================] - 1s 11ms/step - loss: nan - accuracy: 0.9968\n",
            "Epoch 15/100\n",
            "52/52 [==============================] - 1s 12ms/step - loss: nan - accuracy: 0.9968\n",
            "Epoch 16/100\n",
            "52/52 [==============================] - 1s 12ms/step - loss: nan - accuracy: 0.9968\n",
            "Epoch 17/100\n",
            "52/52 [==============================] - 1s 12ms/step - loss: nan - accuracy: 0.9968\n",
            "Epoch 18/100\n",
            "52/52 [==============================] - 1s 16ms/step - loss: nan - accuracy: 0.9968\n",
            "Epoch 19/100\n",
            "52/52 [==============================] - 1s 16ms/step - loss: nan - accuracy: 0.9968\n",
            "Epoch 20/100\n",
            "52/52 [==============================] - 1s 13ms/step - loss: nan - accuracy: 0.9968\n",
            "Epoch 21/100\n",
            "52/52 [==============================] - 1s 12ms/step - loss: nan - accuracy: 0.9968\n",
            "Epoch 22/100\n",
            "52/52 [==============================] - 1s 12ms/step - loss: nan - accuracy: 0.9968\n",
            "Epoch 23/100\n",
            "52/52 [==============================] - 1s 11ms/step - loss: nan - accuracy: 0.9968\n",
            "Epoch 24/100\n",
            "52/52 [==============================] - 1s 12ms/step - loss: nan - accuracy: 0.9968\n",
            "Epoch 25/100\n",
            "52/52 [==============================] - 1s 12ms/step - loss: nan - accuracy: 0.9968\n",
            "Epoch 26/100\n",
            "52/52 [==============================] - 1s 12ms/step - loss: nan - accuracy: 0.9968\n",
            "Epoch 27/100\n",
            "52/52 [==============================] - 1s 12ms/step - loss: nan - accuracy: 0.9968\n",
            "Epoch 28/100\n",
            "52/52 [==============================] - 1s 11ms/step - loss: nan - accuracy: 0.9968\n",
            "Epoch 29/100\n",
            "52/52 [==============================] - 1s 12ms/step - loss: nan - accuracy: 0.9968\n",
            "Epoch 30/100\n",
            "52/52 [==============================] - 1s 11ms/step - loss: nan - accuracy: 0.9968\n",
            "Epoch 31/100\n",
            "52/52 [==============================] - 1s 12ms/step - loss: nan - accuracy: 0.9968\n",
            "Epoch 32/100\n",
            "52/52 [==============================] - 1s 11ms/step - loss: nan - accuracy: 0.9968\n",
            "Epoch 33/100\n",
            "52/52 [==============================] - 1s 12ms/step - loss: nan - accuracy: 0.9968\n",
            "Epoch 34/100\n",
            "52/52 [==============================] - 1s 11ms/step - loss: nan - accuracy: 0.9968\n",
            "Epoch 35/100\n",
            "52/52 [==============================] - 1s 11ms/step - loss: nan - accuracy: 0.9968\n",
            "Epoch 36/100\n",
            "52/52 [==============================] - 1s 11ms/step - loss: nan - accuracy: 0.9968\n",
            "Epoch 37/100\n",
            "52/52 [==============================] - 1s 11ms/step - loss: nan - accuracy: 0.9968\n",
            "Epoch 38/100\n",
            "52/52 [==============================] - 1s 11ms/step - loss: nan - accuracy: 0.9968\n",
            "Epoch 39/100\n",
            "52/52 [==============================] - 1s 12ms/step - loss: nan - accuracy: 0.9968\n",
            "Epoch 40/100\n",
            "52/52 [==============================] - 1s 11ms/step - loss: nan - accuracy: 0.9968\n",
            "Epoch 41/100\n",
            "52/52 [==============================] - 1s 11ms/step - loss: nan - accuracy: 0.9968\n",
            "Epoch 42/100\n",
            "52/52 [==============================] - 1s 12ms/step - loss: nan - accuracy: 0.9968\n",
            "Epoch 43/100\n",
            "52/52 [==============================] - 1s 11ms/step - loss: nan - accuracy: 0.9968\n",
            "Epoch 44/100\n",
            "52/52 [==============================] - 1s 11ms/step - loss: nan - accuracy: 0.9968\n",
            "Epoch 45/100\n",
            "52/52 [==============================] - 1s 11ms/step - loss: nan - accuracy: 0.9968\n",
            "Epoch 46/100\n",
            "52/52 [==============================] - 1s 12ms/step - loss: nan - accuracy: 0.9968\n",
            "Epoch 47/100\n",
            "52/52 [==============================] - 1s 12ms/step - loss: nan - accuracy: 0.9968\n",
            "Epoch 48/100\n",
            "52/52 [==============================] - 1s 12ms/step - loss: nan - accuracy: 0.9968\n",
            "Epoch 49/100\n",
            "52/52 [==============================] - 1s 12ms/step - loss: nan - accuracy: 0.9968\n",
            "Epoch 50/100\n",
            "52/52 [==============================] - 1s 12ms/step - loss: nan - accuracy: 0.9968\n",
            "Epoch 51/100\n",
            "52/52 [==============================] - 1s 12ms/step - loss: nan - accuracy: 0.9968\n",
            "Epoch 52/100\n",
            "52/52 [==============================] - 1s 12ms/step - loss: nan - accuracy: 0.9968\n",
            "Epoch 53/100\n",
            "52/52 [==============================] - 1s 12ms/step - loss: nan - accuracy: 0.9968\n",
            "Epoch 54/100\n",
            "52/52 [==============================] - 1s 12ms/step - loss: nan - accuracy: 0.9968\n",
            "Epoch 55/100\n",
            "52/52 [==============================] - 1s 13ms/step - loss: nan - accuracy: 0.9968\n",
            "Epoch 56/100\n",
            "52/52 [==============================] - 1s 12ms/step - loss: nan - accuracy: 0.9968\n",
            "Epoch 57/100\n",
            "52/52 [==============================] - 1s 12ms/step - loss: nan - accuracy: 0.9968\n",
            "Epoch 58/100\n",
            "52/52 [==============================] - 1s 12ms/step - loss: nan - accuracy: 0.9968\n",
            "Epoch 59/100\n",
            "52/52 [==============================] - 1s 12ms/step - loss: nan - accuracy: 0.9968\n",
            "Epoch 60/100\n",
            "52/52 [==============================] - 1s 11ms/step - loss: nan - accuracy: 0.9968\n",
            "Epoch 61/100\n",
            "52/52 [==============================] - 1s 12ms/step - loss: nan - accuracy: 0.9968\n",
            "Epoch 62/100\n",
            "52/52 [==============================] - 1s 12ms/step - loss: nan - accuracy: 0.9968\n",
            "Epoch 63/100\n",
            "52/52 [==============================] - 1s 14ms/step - loss: nan - accuracy: 0.9968\n",
            "Epoch 64/100\n",
            "52/52 [==============================] - 1s 22ms/step - loss: nan - accuracy: 0.9968\n",
            "Epoch 65/100\n",
            "52/52 [==============================] - 1s 16ms/step - loss: nan - accuracy: 0.9968\n",
            "Epoch 66/100\n",
            "52/52 [==============================] - 1s 19ms/step - loss: nan - accuracy: 0.9968\n",
            "Epoch 67/100\n",
            "52/52 [==============================] - 1s 24ms/step - loss: nan - accuracy: 0.9968\n",
            "Epoch 68/100\n",
            "52/52 [==============================] - 1s 19ms/step - loss: nan - accuracy: 0.9968\n",
            "Epoch 69/100\n",
            "52/52 [==============================] - 1s 19ms/step - loss: nan - accuracy: 0.9968\n",
            "Epoch 70/100\n",
            "52/52 [==============================] - 1s 18ms/step - loss: nan - accuracy: 0.9968\n",
            "Epoch 71/100\n",
            "52/52 [==============================] - 1s 12ms/step - loss: nan - accuracy: 0.9968\n",
            "Epoch 72/100\n",
            "52/52 [==============================] - 1s 21ms/step - loss: nan - accuracy: 0.9968\n",
            "Epoch 73/100\n",
            "52/52 [==============================] - 1s 12ms/step - loss: nan - accuracy: 0.9968\n",
            "Epoch 74/100\n",
            "52/52 [==============================] - 1s 11ms/step - loss: nan - accuracy: 0.9968\n",
            "Epoch 75/100\n",
            "52/52 [==============================] - 1s 12ms/step - loss: nan - accuracy: 0.9968\n",
            "Epoch 76/100\n",
            "52/52 [==============================] - 1s 12ms/step - loss: nan - accuracy: 0.9968\n",
            "Epoch 77/100\n",
            "52/52 [==============================] - 1s 11ms/step - loss: nan - accuracy: 0.9968\n",
            "Epoch 78/100\n",
            "52/52 [==============================] - 1s 12ms/step - loss: nan - accuracy: 0.9968\n",
            "Epoch 79/100\n",
            "52/52 [==============================] - 1s 12ms/step - loss: nan - accuracy: 0.9968\n",
            "Epoch 80/100\n",
            "52/52 [==============================] - 1s 11ms/step - loss: nan - accuracy: 0.9968\n",
            "Epoch 81/100\n",
            "52/52 [==============================] - 1s 12ms/step - loss: nan - accuracy: 0.9968\n",
            "Epoch 82/100\n",
            "52/52 [==============================] - 1s 12ms/step - loss: nan - accuracy: 0.9968\n",
            "Epoch 83/100\n",
            "52/52 [==============================] - 1s 11ms/step - loss: nan - accuracy: 0.9968\n",
            "Epoch 84/100\n",
            "52/52 [==============================] - 1s 11ms/step - loss: nan - accuracy: 0.9968\n",
            "Epoch 85/100\n",
            "52/52 [==============================] - 1s 12ms/step - loss: nan - accuracy: 0.9968\n",
            "Epoch 86/100\n",
            "52/52 [==============================] - 1s 12ms/step - loss: nan - accuracy: 0.9968\n",
            "Epoch 87/100\n",
            "52/52 [==============================] - 1s 11ms/step - loss: nan - accuracy: 0.9968\n",
            "Epoch 88/100\n",
            "52/52 [==============================] - 1s 11ms/step - loss: nan - accuracy: 0.9968\n",
            "Epoch 89/100\n",
            "52/52 [==============================] - 1s 11ms/step - loss: nan - accuracy: 0.9968\n",
            "Epoch 90/100\n",
            "52/52 [==============================] - 1s 12ms/step - loss: nan - accuracy: 0.9968\n",
            "Epoch 91/100\n",
            "52/52 [==============================] - 1s 12ms/step - loss: nan - accuracy: 0.9968\n",
            "Epoch 92/100\n",
            "52/52 [==============================] - 1s 12ms/step - loss: nan - accuracy: 0.9968\n",
            "Epoch 93/100\n",
            "52/52 [==============================] - 1s 12ms/step - loss: nan - accuracy: 0.9968\n",
            "Epoch 94/100\n",
            "52/52 [==============================] - 1s 12ms/step - loss: nan - accuracy: 0.9968\n",
            "Epoch 95/100\n",
            "52/52 [==============================] - 1s 12ms/step - loss: nan - accuracy: 0.9968\n",
            "Epoch 96/100\n",
            "52/52 [==============================] - 1s 12ms/step - loss: nan - accuracy: 0.9968\n",
            "Epoch 97/100\n",
            "52/52 [==============================] - 1s 12ms/step - loss: nan - accuracy: 0.9968\n",
            "Epoch 98/100\n",
            "52/52 [==============================] - 1s 12ms/step - loss: nan - accuracy: 0.9968\n",
            "Epoch 99/100\n",
            "52/52 [==============================] - 1s 12ms/step - loss: nan - accuracy: 0.9968\n",
            "Epoch 100/100\n",
            "52/52 [==============================] - 1s 12ms/step - loss: nan - accuracy: 0.9968\n"
          ]
        },
        {
          "output_type": "execute_result",
          "data": {
            "text/plain": [
              "<keras.callbacks.History at 0x7f751c4bcd10>"
            ]
          },
          "metadata": {},
          "execution_count": 48
        }
      ]
    },
    {
      "cell_type": "markdown",
      "source": [
        "sepertinya nilai loss masih tetap nan dan akurasi masih 0.99.\n",
        "sesuaikan kembali **hyperparameternya**"
      ],
      "metadata": {
        "id": "TpyZMwYL1fbP"
      }
    },
    {
      "cell_type": "markdown",
      "source": [
        "##percobaan ke-4"
      ],
      "metadata": {
        "id": "5pKndu091FlC"
      }
    },
    {
      "cell_type": "code",
      "source": [
        "annmodelrework.add(tf.keras.layers.Dense(units=10, activation='relu'))\n",
        "annmodelrework.add(tf.keras.layers.BatchNormalization())\n",
        "annmodelrework.add(tf.keras.layers.Dropout(0.5))\n",
        "annmodelrework.add(tf.keras.layers.Dense(units=20, activation='relu'))\n",
        "annmodelrework.add(tf.keras.layers.BatchNormalization())\n",
        "annmodelrework.add(tf.keras.layers.Dropout(0.5))\n",
        "annmodelrework.add(tf.keras.layers.Dense(units=20, activation='relu'))\n",
        "annmodelrework.add(tf.keras.layers.BatchNormalization())\n",
        "annmodelrework.add(tf.keras.layers.Dropout(0.5))\n",
        "annmodelrework.add(tf.keras.layers.Dense(units=1, activation='sigmoid'))"
      ],
      "metadata": {
        "id": "33fpsx621Hq6"
      },
      "execution_count": null,
      "outputs": []
    },
    {
      "cell_type": "code",
      "source": [
        "annmodelrework.fit(X_train, y_train, batch_size=128, epochs=100)"
      ],
      "metadata": {
        "colab": {
          "base_uri": "https://localhost:8080/"
        },
        "id": "hrgql6E61p0W",
        "outputId": "101c4a1d-0bba-41d2-83b9-88f11a2feabd"
      },
      "execution_count": null,
      "outputs": [
        {
          "output_type": "stream",
          "name": "stdout",
          "text": [
            "Epoch 1/100\n",
            "52/52 [==============================] - 1s 12ms/step - loss: nan - accuracy: 0.9968\n",
            "Epoch 2/100\n",
            "52/52 [==============================] - 1s 11ms/step - loss: nan - accuracy: 0.9968\n",
            "Epoch 3/100\n",
            "52/52 [==============================] - 1s 21ms/step - loss: nan - accuracy: 0.9968\n",
            "Epoch 4/100\n",
            "52/52 [==============================] - 1s 12ms/step - loss: nan - accuracy: 0.9968\n",
            "Epoch 5/100\n",
            "52/52 [==============================] - 1s 12ms/step - loss: nan - accuracy: 0.9968\n",
            "Epoch 6/100\n",
            "52/52 [==============================] - 1s 12ms/step - loss: nan - accuracy: 0.9968\n",
            "Epoch 7/100\n",
            "52/52 [==============================] - 1s 12ms/step - loss: nan - accuracy: 0.9968\n",
            "Epoch 8/100\n",
            "52/52 [==============================] - 1s 12ms/step - loss: nan - accuracy: 0.9968\n",
            "Epoch 9/100\n",
            "52/52 [==============================] - 1s 12ms/step - loss: nan - accuracy: 0.9968\n",
            "Epoch 10/100\n",
            "52/52 [==============================] - 1s 12ms/step - loss: nan - accuracy: 0.9968\n",
            "Epoch 11/100\n",
            "52/52 [==============================] - 1s 11ms/step - loss: nan - accuracy: 0.9968\n",
            "Epoch 12/100\n",
            "52/52 [==============================] - 1s 12ms/step - loss: nan - accuracy: 0.9968\n",
            "Epoch 13/100\n",
            "52/52 [==============================] - 1s 12ms/step - loss: nan - accuracy: 0.9968\n",
            "Epoch 14/100\n",
            "52/52 [==============================] - 1s 12ms/step - loss: nan - accuracy: 0.9968\n",
            "Epoch 15/100\n",
            "52/52 [==============================] - 1s 12ms/step - loss: nan - accuracy: 0.9968\n",
            "Epoch 16/100\n",
            "52/52 [==============================] - 1s 12ms/step - loss: nan - accuracy: 0.9968\n",
            "Epoch 17/100\n",
            "52/52 [==============================] - 1s 12ms/step - loss: nan - accuracy: 0.9968\n",
            "Epoch 18/100\n",
            "52/52 [==============================] - 1s 12ms/step - loss: nan - accuracy: 0.9968\n",
            "Epoch 19/100\n",
            "52/52 [==============================] - 1s 12ms/step - loss: nan - accuracy: 0.9968\n",
            "Epoch 20/100\n",
            "52/52 [==============================] - 1s 12ms/step - loss: nan - accuracy: 0.9968\n",
            "Epoch 21/100\n",
            "52/52 [==============================] - 1s 14ms/step - loss: nan - accuracy: 0.9968\n",
            "Epoch 22/100\n",
            "52/52 [==============================] - 1s 16ms/step - loss: nan - accuracy: 0.9968\n",
            "Epoch 23/100\n",
            "52/52 [==============================] - 1s 16ms/step - loss: nan - accuracy: 0.9968\n",
            "Epoch 24/100\n",
            "52/52 [==============================] - 1s 12ms/step - loss: nan - accuracy: 0.9968\n",
            "Epoch 25/100\n",
            "52/52 [==============================] - 1s 12ms/step - loss: nan - accuracy: 0.9968\n",
            "Epoch 26/100\n",
            "52/52 [==============================] - 1s 12ms/step - loss: nan - accuracy: 0.9968\n",
            "Epoch 27/100\n",
            "52/52 [==============================] - 1s 12ms/step - loss: nan - accuracy: 0.9968\n",
            "Epoch 28/100\n",
            "52/52 [==============================] - 1s 12ms/step - loss: nan - accuracy: 0.9968\n",
            "Epoch 29/100\n",
            "52/52 [==============================] - 1s 12ms/step - loss: nan - accuracy: 0.9968\n",
            "Epoch 30/100\n",
            "52/52 [==============================] - 1s 12ms/step - loss: nan - accuracy: 0.9968\n",
            "Epoch 31/100\n",
            "52/52 [==============================] - 1s 12ms/step - loss: nan - accuracy: 0.9968\n",
            "Epoch 32/100\n",
            "52/52 [==============================] - 1s 12ms/step - loss: nan - accuracy: 0.9968\n",
            "Epoch 33/100\n",
            "52/52 [==============================] - 1s 12ms/step - loss: nan - accuracy: 0.9968\n",
            "Epoch 34/100\n",
            "52/52 [==============================] - 1s 12ms/step - loss: nan - accuracy: 0.9968\n",
            "Epoch 35/100\n",
            "52/52 [==============================] - 1s 12ms/step - loss: nan - accuracy: 0.9968\n",
            "Epoch 36/100\n",
            "52/52 [==============================] - 1s 12ms/step - loss: nan - accuracy: 0.9968\n",
            "Epoch 37/100\n",
            "52/52 [==============================] - 1s 12ms/step - loss: nan - accuracy: 0.9968\n",
            "Epoch 38/100\n",
            "52/52 [==============================] - 1s 12ms/step - loss: nan - accuracy: 0.9968\n",
            "Epoch 39/100\n",
            "52/52 [==============================] - 1s 19ms/step - loss: nan - accuracy: 0.9968\n",
            "Epoch 40/100\n",
            "52/52 [==============================] - 1s 18ms/step - loss: nan - accuracy: 0.9968\n",
            "Epoch 41/100\n",
            "52/52 [==============================] - 1s 17ms/step - loss: nan - accuracy: 0.9968\n",
            "Epoch 42/100\n",
            "52/52 [==============================] - 1s 18ms/step - loss: nan - accuracy: 0.9968\n",
            "Epoch 43/100\n",
            "52/52 [==============================] - 1s 16ms/step - loss: nan - accuracy: 0.9968\n",
            "Epoch 44/100\n",
            "52/52 [==============================] - 1s 15ms/step - loss: nan - accuracy: 0.9968\n",
            "Epoch 45/100\n",
            "52/52 [==============================] - 1s 15ms/step - loss: nan - accuracy: 0.9968\n",
            "Epoch 46/100\n",
            "52/52 [==============================] - 1s 17ms/step - loss: nan - accuracy: 0.9968\n",
            "Epoch 47/100\n",
            "52/52 [==============================] - 1s 14ms/step - loss: nan - accuracy: 0.9968\n",
            "Epoch 48/100\n",
            "52/52 [==============================] - 1s 11ms/step - loss: nan - accuracy: 0.9968\n",
            "Epoch 49/100\n",
            "52/52 [==============================] - 1s 16ms/step - loss: nan - accuracy: 0.9968\n",
            "Epoch 50/100\n",
            "52/52 [==============================] - 1s 13ms/step - loss: nan - accuracy: 0.9968\n",
            "Epoch 51/100\n",
            "52/52 [==============================] - 1s 11ms/step - loss: nan - accuracy: 0.9968\n",
            "Epoch 52/100\n",
            "52/52 [==============================] - 1s 11ms/step - loss: nan - accuracy: 0.9968\n",
            "Epoch 53/100\n",
            "52/52 [==============================] - 1s 11ms/step - loss: nan - accuracy: 0.9968\n",
            "Epoch 54/100\n",
            "52/52 [==============================] - 1s 12ms/step - loss: nan - accuracy: 0.9968\n",
            "Epoch 55/100\n",
            "52/52 [==============================] - 1s 12ms/step - loss: nan - accuracy: 0.9968\n",
            "Epoch 56/100\n",
            "52/52 [==============================] - 1s 12ms/step - loss: nan - accuracy: 0.9968\n",
            "Epoch 57/100\n",
            "52/52 [==============================] - 1s 12ms/step - loss: nan - accuracy: 0.9968\n",
            "Epoch 58/100\n",
            "52/52 [==============================] - 1s 12ms/step - loss: nan - accuracy: 0.9968\n",
            "Epoch 59/100\n",
            "52/52 [==============================] - 1s 11ms/step - loss: nan - accuracy: 0.9968\n",
            "Epoch 60/100\n",
            "52/52 [==============================] - 1s 12ms/step - loss: nan - accuracy: 0.9968\n",
            "Epoch 61/100\n",
            "52/52 [==============================] - 1s 12ms/step - loss: nan - accuracy: 0.9968\n",
            "Epoch 62/100\n",
            "52/52 [==============================] - 1s 12ms/step - loss: nan - accuracy: 0.9968\n",
            "Epoch 63/100\n",
            "52/52 [==============================] - 1s 12ms/step - loss: nan - accuracy: 0.9968\n",
            "Epoch 64/100\n",
            "52/52 [==============================] - 1s 12ms/step - loss: nan - accuracy: 0.9968\n",
            "Epoch 65/100\n",
            "52/52 [==============================] - 1s 11ms/step - loss: nan - accuracy: 0.9968\n",
            "Epoch 66/100\n",
            "52/52 [==============================] - 1s 12ms/step - loss: nan - accuracy: 0.9968\n",
            "Epoch 67/100\n",
            "52/52 [==============================] - 1s 12ms/step - loss: nan - accuracy: 0.9968\n",
            "Epoch 68/100\n",
            "52/52 [==============================] - 1s 11ms/step - loss: nan - accuracy: 0.9968\n",
            "Epoch 69/100\n",
            "52/52 [==============================] - 1s 12ms/step - loss: nan - accuracy: 0.9968\n",
            "Epoch 70/100\n",
            "52/52 [==============================] - 1s 13ms/step - loss: nan - accuracy: 0.9968\n",
            "Epoch 71/100\n",
            "52/52 [==============================] - 1s 12ms/step - loss: nan - accuracy: 0.9968\n",
            "Epoch 72/100\n",
            "52/52 [==============================] - 1s 12ms/step - loss: nan - accuracy: 0.9968\n",
            "Epoch 73/100\n",
            "52/52 [==============================] - 1s 12ms/step - loss: nan - accuracy: 0.9968\n",
            "Epoch 74/100\n",
            "52/52 [==============================] - 1s 12ms/step - loss: nan - accuracy: 0.9968\n",
            "Epoch 75/100\n",
            "52/52 [==============================] - 1s 12ms/step - loss: nan - accuracy: 0.9968\n",
            "Epoch 76/100\n",
            "52/52 [==============================] - 1s 12ms/step - loss: nan - accuracy: 0.9968\n",
            "Epoch 77/100\n",
            "52/52 [==============================] - 1s 12ms/step - loss: nan - accuracy: 0.9968\n",
            "Epoch 78/100\n",
            "52/52 [==============================] - 1s 12ms/step - loss: nan - accuracy: 0.9968\n",
            "Epoch 79/100\n",
            "52/52 [==============================] - 1s 12ms/step - loss: nan - accuracy: 0.9968\n",
            "Epoch 80/100\n",
            "52/52 [==============================] - 1s 13ms/step - loss: nan - accuracy: 0.9968\n",
            "Epoch 81/100\n",
            "52/52 [==============================] - 1s 12ms/step - loss: nan - accuracy: 0.9968\n",
            "Epoch 82/100\n",
            "52/52 [==============================] - 1s 12ms/step - loss: nan - accuracy: 0.9968\n",
            "Epoch 83/100\n",
            "52/52 [==============================] - 1s 12ms/step - loss: nan - accuracy: 0.9968\n",
            "Epoch 84/100\n",
            "52/52 [==============================] - 1s 12ms/step - loss: nan - accuracy: 0.9968\n",
            "Epoch 85/100\n",
            "52/52 [==============================] - 1s 13ms/step - loss: nan - accuracy: 0.9968\n",
            "Epoch 86/100\n",
            "52/52 [==============================] - 1s 12ms/step - loss: nan - accuracy: 0.9968\n",
            "Epoch 87/100\n",
            "52/52 [==============================] - 1s 12ms/step - loss: nan - accuracy: 0.9968\n",
            "Epoch 88/100\n",
            "52/52 [==============================] - 1s 12ms/step - loss: nan - accuracy: 0.9968\n",
            "Epoch 89/100\n",
            "52/52 [==============================] - 1s 11ms/step - loss: nan - accuracy: 0.9968\n",
            "Epoch 90/100\n",
            "52/52 [==============================] - 1s 12ms/step - loss: nan - accuracy: 0.9968\n",
            "Epoch 91/100\n",
            "52/52 [==============================] - 1s 12ms/step - loss: nan - accuracy: 0.9968\n",
            "Epoch 92/100\n",
            "52/52 [==============================] - 1s 11ms/step - loss: nan - accuracy: 0.9968\n",
            "Epoch 93/100\n",
            "52/52 [==============================] - 1s 12ms/step - loss: nan - accuracy: 0.9968\n",
            "Epoch 94/100\n",
            "52/52 [==============================] - 1s 12ms/step - loss: nan - accuracy: 0.9968\n",
            "Epoch 95/100\n",
            "52/52 [==============================] - 1s 12ms/step - loss: nan - accuracy: 0.9968\n",
            "Epoch 96/100\n",
            "52/52 [==============================] - 1s 12ms/step - loss: nan - accuracy: 0.9968\n",
            "Epoch 97/100\n",
            "52/52 [==============================] - 1s 11ms/step - loss: nan - accuracy: 0.9968\n",
            "Epoch 98/100\n",
            "52/52 [==============================] - 1s 12ms/step - loss: nan - accuracy: 0.9968\n",
            "Epoch 99/100\n",
            "52/52 [==============================] - 1s 12ms/step - loss: nan - accuracy: 0.9968\n",
            "Epoch 100/100\n",
            "52/52 [==============================] - 1s 12ms/step - loss: nan - accuracy: 0.9968\n"
          ]
        },
        {
          "output_type": "execute_result",
          "data": {
            "text/plain": [
              "<keras.callbacks.History at 0x7f7506c7b110>"
            ]
          },
          "metadata": {},
          "execution_count": 51
        }
      ]
    },
    {
      "cell_type": "markdown",
      "source": [
        "sepertinya nilai loss masih tetap nan dan akurasi masih 0.99.\n",
        "sesuaikan kembali **hyperparameternya**"
      ],
      "metadata": {
        "id": "cE-SKdXD1j3K"
      }
    },
    {
      "cell_type": "markdown",
      "source": [
        "##percobaan ke -5"
      ],
      "metadata": {
        "id": "aZbTixYM1xXs"
      }
    },
    {
      "cell_type": "code",
      "source": [
        "annmodelrework.add(tf.keras.layers.Dense(units=10, activation='relu'))\n",
        "annmodelrework.add(tf.keras.layers.BatchNormalization())\n",
        "annmodelrework.add(tf.keras.layers.Dropout(0.2))\n",
        "annmodelrework.add(tf.keras.layers.Dense(units=20, activation='relu'))\n",
        "annmodelrework.add(tf.keras.layers.BatchNormalization())\n",
        "annmodelrework.add(tf.keras.layers.Dropout(0.2))\n",
        "annmodelrework.add(tf.keras.layers.Dense(units=20, activation='relu'))\n",
        "annmodelrework.add(tf.keras.layers.BatchNormalization())\n",
        "annmodelrework.add(tf.keras.layers.Dropout(0.2))\n",
        "annmodelrework.add(tf.keras.layers.Dense(units=1, activation='sigmoid'))"
      ],
      "metadata": {
        "id": "a4FtO_Pi1zh6"
      },
      "execution_count": null,
      "outputs": []
    },
    {
      "cell_type": "code",
      "source": [
        "annmodelrework.fit(X_train, y_train, batch_size=128, epochs=100)"
      ],
      "metadata": {
        "colab": {
          "base_uri": "https://localhost:8080/"
        },
        "id": "HhNHVGAa2B0T",
        "outputId": "c88507bf-aa2d-4174-b135-00fd85007bb1"
      },
      "execution_count": null,
      "outputs": [
        {
          "output_type": "stream",
          "name": "stdout",
          "text": [
            "Epoch 1/100\n",
            "52/52 [==============================] - 1s 11ms/step - loss: nan - accuracy: 0.9968\n",
            "Epoch 2/100\n",
            "52/52 [==============================] - 1s 12ms/step - loss: nan - accuracy: 0.9968\n",
            "Epoch 3/100\n",
            "52/52 [==============================] - 1s 12ms/step - loss: nan - accuracy: 0.9968\n",
            "Epoch 4/100\n",
            "52/52 [==============================] - 1s 12ms/step - loss: nan - accuracy: 0.9968\n",
            "Epoch 5/100\n",
            "52/52 [==============================] - 1s 12ms/step - loss: nan - accuracy: 0.9968\n",
            "Epoch 6/100\n",
            "52/52 [==============================] - 1s 12ms/step - loss: nan - accuracy: 0.9968\n",
            "Epoch 7/100\n",
            "52/52 [==============================] - 1s 12ms/step - loss: nan - accuracy: 0.9968\n",
            "Epoch 8/100\n",
            "52/52 [==============================] - 1s 12ms/step - loss: nan - accuracy: 0.9968\n",
            "Epoch 9/100\n",
            "52/52 [==============================] - 1s 12ms/step - loss: nan - accuracy: 0.9968\n",
            "Epoch 10/100\n",
            "52/52 [==============================] - 1s 12ms/step - loss: nan - accuracy: 0.9968\n",
            "Epoch 11/100\n",
            "52/52 [==============================] - 1s 12ms/step - loss: nan - accuracy: 0.9968\n",
            "Epoch 12/100\n",
            "52/52 [==============================] - 1s 12ms/step - loss: nan - accuracy: 0.9968\n",
            "Epoch 13/100\n",
            "52/52 [==============================] - 1s 12ms/step - loss: nan - accuracy: 0.9968\n",
            "Epoch 14/100\n",
            "52/52 [==============================] - 1s 12ms/step - loss: nan - accuracy: 0.9968\n",
            "Epoch 15/100\n",
            "52/52 [==============================] - 1s 12ms/step - loss: nan - accuracy: 0.9968\n",
            "Epoch 16/100\n",
            "52/52 [==============================] - 1s 12ms/step - loss: nan - accuracy: 0.9968\n",
            "Epoch 17/100\n",
            "52/52 [==============================] - 1s 12ms/step - loss: nan - accuracy: 0.9968\n",
            "Epoch 18/100\n",
            "52/52 [==============================] - 1s 12ms/step - loss: nan - accuracy: 0.9968\n",
            "Epoch 19/100\n",
            "52/52 [==============================] - 1s 12ms/step - loss: nan - accuracy: 0.9968\n",
            "Epoch 20/100\n",
            "52/52 [==============================] - 1s 12ms/step - loss: nan - accuracy: 0.9968\n",
            "Epoch 21/100\n",
            "52/52 [==============================] - 1s 12ms/step - loss: nan - accuracy: 0.9968\n",
            "Epoch 22/100\n",
            "52/52 [==============================] - 1s 12ms/step - loss: nan - accuracy: 0.9968\n",
            "Epoch 23/100\n",
            "52/52 [==============================] - 1s 12ms/step - loss: nan - accuracy: 0.9968\n",
            "Epoch 24/100\n",
            "52/52 [==============================] - 1s 12ms/step - loss: nan - accuracy: 0.9968\n",
            "Epoch 25/100\n",
            "52/52 [==============================] - 1s 12ms/step - loss: nan - accuracy: 0.9968\n",
            "Epoch 26/100\n",
            "52/52 [==============================] - 1s 12ms/step - loss: nan - accuracy: 0.9968\n",
            "Epoch 27/100\n",
            "52/52 [==============================] - 1s 12ms/step - loss: nan - accuracy: 0.9968\n",
            "Epoch 28/100\n",
            "52/52 [==============================] - 1s 12ms/step - loss: nan - accuracy: 0.9968\n",
            "Epoch 29/100\n",
            "52/52 [==============================] - 1s 17ms/step - loss: nan - accuracy: 0.9968\n",
            "Epoch 30/100\n",
            "52/52 [==============================] - 1s 16ms/step - loss: nan - accuracy: 0.9968\n",
            "Epoch 31/100\n",
            "52/52 [==============================] - 1s 12ms/step - loss: nan - accuracy: 0.9968\n",
            "Epoch 32/100\n",
            "52/52 [==============================] - 1s 12ms/step - loss: nan - accuracy: 0.9968\n",
            "Epoch 33/100\n",
            "52/52 [==============================] - 1s 12ms/step - loss: nan - accuracy: 0.9968\n",
            "Epoch 34/100\n",
            "52/52 [==============================] - 1s 12ms/step - loss: nan - accuracy: 0.9968\n",
            "Epoch 35/100\n",
            "52/52 [==============================] - 1s 12ms/step - loss: nan - accuracy: 0.9968\n",
            "Epoch 36/100\n",
            "52/52 [==============================] - 1s 12ms/step - loss: nan - accuracy: 0.9968\n",
            "Epoch 37/100\n",
            "52/52 [==============================] - 1s 13ms/step - loss: nan - accuracy: 0.9968\n",
            "Epoch 38/100\n",
            "52/52 [==============================] - 1s 12ms/step - loss: nan - accuracy: 0.9968\n",
            "Epoch 39/100\n",
            "52/52 [==============================] - 1s 12ms/step - loss: nan - accuracy: 0.9968\n",
            "Epoch 40/100\n",
            "52/52 [==============================] - 1s 12ms/step - loss: nan - accuracy: 0.9968\n",
            "Epoch 41/100\n",
            "52/52 [==============================] - 1s 12ms/step - loss: nan - accuracy: 0.9968\n",
            "Epoch 42/100\n",
            "52/52 [==============================] - 1s 12ms/step - loss: nan - accuracy: 0.9968\n",
            "Epoch 43/100\n",
            "52/52 [==============================] - 1s 12ms/step - loss: nan - accuracy: 0.9968\n",
            "Epoch 44/100\n",
            "52/52 [==============================] - 1s 16ms/step - loss: nan - accuracy: 0.9968\n",
            "Epoch 45/100\n",
            "52/52 [==============================] - 1s 16ms/step - loss: nan - accuracy: 0.9968\n",
            "Epoch 46/100\n",
            "52/52 [==============================] - 1s 14ms/step - loss: nan - accuracy: 0.9968\n",
            "Epoch 47/100\n",
            "52/52 [==============================] - 1s 13ms/step - loss: nan - accuracy: 0.9968\n",
            "Epoch 48/100\n",
            "52/52 [==============================] - 1s 12ms/step - loss: nan - accuracy: 0.9968\n",
            "Epoch 49/100\n",
            "52/52 [==============================] - 1s 12ms/step - loss: nan - accuracy: 0.9968\n",
            "Epoch 50/100\n",
            "52/52 [==============================] - 1s 12ms/step - loss: nan - accuracy: 0.9968\n",
            "Epoch 51/100\n",
            "52/52 [==============================] - 1s 12ms/step - loss: nan - accuracy: 0.9968\n",
            "Epoch 52/100\n",
            "52/52 [==============================] - 1s 12ms/step - loss: nan - accuracy: 0.9968\n",
            "Epoch 53/100\n",
            "52/52 [==============================] - 1s 12ms/step - loss: nan - accuracy: 0.9968\n",
            "Epoch 54/100\n",
            "52/52 [==============================] - 1s 12ms/step - loss: nan - accuracy: 0.9968\n",
            "Epoch 55/100\n",
            "52/52 [==============================] - 1s 12ms/step - loss: nan - accuracy: 0.9968\n",
            "Epoch 56/100\n",
            "52/52 [==============================] - 1s 12ms/step - loss: nan - accuracy: 0.9968\n",
            "Epoch 57/100\n",
            "52/52 [==============================] - 1s 12ms/step - loss: nan - accuracy: 0.9968\n",
            "Epoch 58/100\n",
            "52/52 [==============================] - 1s 12ms/step - loss: nan - accuracy: 0.9968\n",
            "Epoch 59/100\n",
            "52/52 [==============================] - 1s 12ms/step - loss: nan - accuracy: 0.9968\n",
            "Epoch 60/100\n",
            "52/52 [==============================] - 1s 12ms/step - loss: nan - accuracy: 0.9968\n",
            "Epoch 61/100\n",
            "52/52 [==============================] - 1s 12ms/step - loss: nan - accuracy: 0.9968\n",
            "Epoch 62/100\n",
            "52/52 [==============================] - 1s 12ms/step - loss: nan - accuracy: 0.9968\n",
            "Epoch 63/100\n",
            "52/52 [==============================] - 1s 12ms/step - loss: nan - accuracy: 0.9968\n",
            "Epoch 64/100\n",
            "52/52 [==============================] - 1s 12ms/step - loss: nan - accuracy: 0.9968\n",
            "Epoch 65/100\n",
            "52/52 [==============================] - 1s 12ms/step - loss: nan - accuracy: 0.9968\n",
            "Epoch 66/100\n",
            "52/52 [==============================] - 1s 13ms/step - loss: nan - accuracy: 0.9968\n",
            "Epoch 67/100\n",
            "52/52 [==============================] - 1s 12ms/step - loss: nan - accuracy: 0.9968\n",
            "Epoch 68/100\n",
            "52/52 [==============================] - 1s 12ms/step - loss: nan - accuracy: 0.9968\n",
            "Epoch 69/100\n",
            "52/52 [==============================] - 1s 12ms/step - loss: nan - accuracy: 0.9968\n",
            "Epoch 70/100\n",
            "52/52 [==============================] - 1s 12ms/step - loss: nan - accuracy: 0.9968\n",
            "Epoch 71/100\n",
            "52/52 [==============================] - 1s 12ms/step - loss: nan - accuracy: 0.9968\n",
            "Epoch 72/100\n",
            "52/52 [==============================] - 1s 12ms/step - loss: nan - accuracy: 0.9968\n",
            "Epoch 73/100\n",
            "52/52 [==============================] - 1s 12ms/step - loss: nan - accuracy: 0.9968\n",
            "Epoch 74/100\n",
            "52/52 [==============================] - 1s 12ms/step - loss: nan - accuracy: 0.9968\n",
            "Epoch 75/100\n",
            "52/52 [==============================] - 1s 12ms/step - loss: nan - accuracy: 0.9968\n",
            "Epoch 76/100\n",
            "52/52 [==============================] - 1s 12ms/step - loss: nan - accuracy: 0.9968\n",
            "Epoch 77/100\n",
            "52/52 [==============================] - 1s 12ms/step - loss: nan - accuracy: 0.9968\n",
            "Epoch 78/100\n",
            "52/52 [==============================] - 1s 12ms/step - loss: nan - accuracy: 0.9968\n",
            "Epoch 79/100\n",
            "52/52 [==============================] - 1s 12ms/step - loss: nan - accuracy: 0.9968\n",
            "Epoch 80/100\n",
            "52/52 [==============================] - 1s 12ms/step - loss: nan - accuracy: 0.9968\n",
            "Epoch 81/100\n",
            "52/52 [==============================] - 1s 12ms/step - loss: nan - accuracy: 0.9968\n",
            "Epoch 82/100\n",
            "52/52 [==============================] - 1s 12ms/step - loss: nan - accuracy: 0.9968\n",
            "Epoch 83/100\n",
            "52/52 [==============================] - 1s 12ms/step - loss: nan - accuracy: 0.9968\n",
            "Epoch 84/100\n",
            "52/52 [==============================] - 1s 12ms/step - loss: nan - accuracy: 0.9968\n",
            "Epoch 85/100\n",
            "52/52 [==============================] - 1s 12ms/step - loss: nan - accuracy: 0.9968\n",
            "Epoch 86/100\n",
            "52/52 [==============================] - 1s 12ms/step - loss: nan - accuracy: 0.9968\n",
            "Epoch 87/100\n",
            "52/52 [==============================] - 1s 12ms/step - loss: nan - accuracy: 0.9968\n",
            "Epoch 88/100\n",
            "52/52 [==============================] - 1s 12ms/step - loss: nan - accuracy: 0.9968\n",
            "Epoch 89/100\n",
            "52/52 [==============================] - 1s 12ms/step - loss: nan - accuracy: 0.9968\n",
            "Epoch 90/100\n",
            "52/52 [==============================] - 1s 12ms/step - loss: nan - accuracy: 0.9968\n",
            "Epoch 91/100\n",
            "52/52 [==============================] - 1s 12ms/step - loss: nan - accuracy: 0.9968\n",
            "Epoch 92/100\n",
            "52/52 [==============================] - 1s 12ms/step - loss: nan - accuracy: 0.9968\n",
            "Epoch 93/100\n",
            "52/52 [==============================] - 1s 12ms/step - loss: nan - accuracy: 0.9968\n",
            "Epoch 94/100\n",
            "52/52 [==============================] - 1s 12ms/step - loss: nan - accuracy: 0.9968\n",
            "Epoch 95/100\n",
            "52/52 [==============================] - 1s 12ms/step - loss: nan - accuracy: 0.9968\n",
            "Epoch 96/100\n",
            "52/52 [==============================] - 1s 12ms/step - loss: nan - accuracy: 0.9968\n",
            "Epoch 97/100\n",
            "52/52 [==============================] - 1s 12ms/step - loss: nan - accuracy: 0.9968\n",
            "Epoch 98/100\n",
            "52/52 [==============================] - 1s 12ms/step - loss: nan - accuracy: 0.9968\n",
            "Epoch 99/100\n",
            "52/52 [==============================] - 1s 12ms/step - loss: nan - accuracy: 0.9968\n",
            "Epoch 100/100\n",
            "52/52 [==============================] - 1s 12ms/step - loss: nan - accuracy: 0.9968\n"
          ]
        },
        {
          "output_type": "execute_result",
          "data": {
            "text/plain": [
              "<keras.callbacks.History at 0x7f7506381790>"
            ]
          },
          "metadata": {},
          "execution_count": 53
        }
      ]
    },
    {
      "cell_type": "markdown",
      "source": [
        "sepertinya nilai loss masih tetap nan dan akurasi masih 0.99. sesuaikan kembali hyperparameternya"
      ],
      "metadata": {
        "id": "ei7_JDTx2o-J"
      }
    },
    {
      "cell_type": "markdown",
      "source": [
        "##percobaan ke-6"
      ],
      "metadata": {
        "id": "Z8HgAzk12TT2"
      }
    },
    {
      "cell_type": "code",
      "source": [
        "annmodelrework.add(tf.keras.layers.Dense(units=10, activation='relu'))\n",
        "annmodelrework.add(tf.keras.layers.BatchNormalization())\n",
        "annmodelrework.add(tf.keras.layers.Dropout(0.2))\n",
        "annmodelrework.add(tf.keras.layers.Dense(units=20, activation='relu'))\n",
        "annmodelrework.add(tf.keras.layers.BatchNormalization())\n",
        "annmodelrework.add(tf.keras.layers.Dropout(0.2))\n",
        "annmodelrework.add(tf.keras.layers.Dense(units=30, activation='relu'))\n",
        "annmodelrework.add(tf.keras.layers.BatchNormalization())\n",
        "annmodelrework.add(tf.keras.layers.Dropout(0.2))\n",
        "annmodelrework.add(tf.keras.layers.Dense(units=1, activation='sigmoid'))"
      ],
      "metadata": {
        "id": "RRfj8uJM2VVk"
      },
      "execution_count": null,
      "outputs": []
    },
    {
      "cell_type": "code",
      "source": [
        "annmodelrework.fit(X_train, y_train, batch_size=128, epochs=100)"
      ],
      "metadata": {
        "colab": {
          "base_uri": "https://localhost:8080/"
        },
        "id": "kCcgRiyd2d1V",
        "outputId": "08538ca4-599f-4c24-a9e2-44ed508c342b"
      },
      "execution_count": null,
      "outputs": [
        {
          "output_type": "stream",
          "name": "stdout",
          "text": [
            "Epoch 1/100\n",
            "52/52 [==============================] - 1s 12ms/step - loss: nan - accuracy: 0.9968\n",
            "Epoch 2/100\n",
            "52/52 [==============================] - 1s 12ms/step - loss: nan - accuracy: 0.9968\n",
            "Epoch 3/100\n",
            "52/52 [==============================] - 1s 14ms/step - loss: nan - accuracy: 0.9968\n",
            "Epoch 4/100\n",
            "52/52 [==============================] - 1s 12ms/step - loss: nan - accuracy: 0.9968\n",
            "Epoch 5/100\n",
            "52/52 [==============================] - 1s 12ms/step - loss: nan - accuracy: 0.9968\n",
            "Epoch 6/100\n",
            "52/52 [==============================] - 1s 12ms/step - loss: nan - accuracy: 0.9968\n",
            "Epoch 7/100\n",
            "52/52 [==============================] - 1s 12ms/step - loss: nan - accuracy: 0.9968\n",
            "Epoch 8/100\n",
            "52/52 [==============================] - 1s 12ms/step - loss: nan - accuracy: 0.9968\n",
            "Epoch 9/100\n",
            "52/52 [==============================] - 1s 12ms/step - loss: nan - accuracy: 0.9968\n",
            "Epoch 10/100\n",
            "52/52 [==============================] - 1s 12ms/step - loss: nan - accuracy: 0.9968\n",
            "Epoch 11/100\n",
            "52/52 [==============================] - 1s 12ms/step - loss: nan - accuracy: 0.9968\n",
            "Epoch 12/100\n",
            "52/52 [==============================] - 1s 12ms/step - loss: nan - accuracy: 0.9968\n",
            "Epoch 13/100\n",
            "52/52 [==============================] - 1s 12ms/step - loss: nan - accuracy: 0.9968\n",
            "Epoch 14/100\n",
            "52/52 [==============================] - 1s 12ms/step - loss: nan - accuracy: 0.9968\n",
            "Epoch 15/100\n",
            "52/52 [==============================] - 1s 11ms/step - loss: nan - accuracy: 0.9968\n",
            "Epoch 16/100\n",
            "52/52 [==============================] - 1s 12ms/step - loss: nan - accuracy: 0.9968\n",
            "Epoch 17/100\n",
            "52/52 [==============================] - 1s 12ms/step - loss: nan - accuracy: 0.9968\n",
            "Epoch 18/100\n",
            "52/52 [==============================] - 1s 12ms/step - loss: nan - accuracy: 0.9968\n",
            "Epoch 19/100\n",
            "52/52 [==============================] - 1s 12ms/step - loss: nan - accuracy: 0.9968\n",
            "Epoch 20/100\n",
            "52/52 [==============================] - 1s 12ms/step - loss: nan - accuracy: 0.9968\n",
            "Epoch 21/100\n",
            "52/52 [==============================] - 1s 12ms/step - loss: nan - accuracy: 0.9968\n",
            "Epoch 22/100\n",
            "52/52 [==============================] - 1s 12ms/step - loss: nan - accuracy: 0.9968\n",
            "Epoch 23/100\n",
            "52/52 [==============================] - 1s 12ms/step - loss: nan - accuracy: 0.9968\n",
            "Epoch 24/100\n",
            "52/52 [==============================] - 1s 12ms/step - loss: nan - accuracy: 0.9968\n",
            "Epoch 25/100\n",
            "52/52 [==============================] - 1s 12ms/step - loss: nan - accuracy: 0.9968\n",
            "Epoch 26/100\n",
            "52/52 [==============================] - 1s 12ms/step - loss: nan - accuracy: 0.9968\n",
            "Epoch 27/100\n",
            "52/52 [==============================] - 1s 12ms/step - loss: nan - accuracy: 0.9968\n",
            "Epoch 28/100\n",
            "52/52 [==============================] - 1s 12ms/step - loss: nan - accuracy: 0.9968\n",
            "Epoch 29/100\n",
            "52/52 [==============================] - 1s 12ms/step - loss: nan - accuracy: 0.9968\n",
            "Epoch 30/100\n",
            "52/52 [==============================] - 1s 12ms/step - loss: nan - accuracy: 0.9968\n",
            "Epoch 31/100\n",
            "52/52 [==============================] - 1s 12ms/step - loss: nan - accuracy: 0.9968\n",
            "Epoch 32/100\n",
            "52/52 [==============================] - 1s 12ms/step - loss: nan - accuracy: 0.9968\n",
            "Epoch 33/100\n",
            "52/52 [==============================] - 1s 12ms/step - loss: nan - accuracy: 0.9968\n",
            "Epoch 34/100\n",
            "52/52 [==============================] - 1s 12ms/step - loss: nan - accuracy: 0.9968\n",
            "Epoch 35/100\n",
            "52/52 [==============================] - 1s 12ms/step - loss: nan - accuracy: 0.9968\n",
            "Epoch 36/100\n",
            "52/52 [==============================] - 1s 12ms/step - loss: nan - accuracy: 0.9968\n",
            "Epoch 37/100\n",
            "52/52 [==============================] - 1s 12ms/step - loss: nan - accuracy: 0.9968\n",
            "Epoch 38/100\n",
            "52/52 [==============================] - 1s 12ms/step - loss: nan - accuracy: 0.9968\n",
            "Epoch 39/100\n",
            "52/52 [==============================] - 1s 12ms/step - loss: nan - accuracy: 0.9968\n",
            "Epoch 40/100\n",
            "52/52 [==============================] - 1s 12ms/step - loss: nan - accuracy: 0.9968\n",
            "Epoch 41/100\n",
            "52/52 [==============================] - 1s 12ms/step - loss: nan - accuracy: 0.9968\n",
            "Epoch 42/100\n",
            "52/52 [==============================] - 1s 12ms/step - loss: nan - accuracy: 0.9968\n",
            "Epoch 43/100\n",
            "52/52 [==============================] - 1s 12ms/step - loss: nan - accuracy: 0.9968\n",
            "Epoch 44/100\n",
            "52/52 [==============================] - 1s 12ms/step - loss: nan - accuracy: 0.9968\n",
            "Epoch 45/100\n",
            "52/52 [==============================] - 1s 12ms/step - loss: nan - accuracy: 0.9968\n",
            "Epoch 46/100\n",
            "52/52 [==============================] - 1s 12ms/step - loss: nan - accuracy: 0.9968\n",
            "Epoch 47/100\n",
            "52/52 [==============================] - 1s 12ms/step - loss: nan - accuracy: 0.9968\n",
            "Epoch 48/100\n",
            "52/52 [==============================] - 1s 12ms/step - loss: nan - accuracy: 0.9968\n",
            "Epoch 49/100\n",
            "52/52 [==============================] - 1s 12ms/step - loss: nan - accuracy: 0.9968\n",
            "Epoch 50/100\n",
            "52/52 [==============================] - 1s 12ms/step - loss: nan - accuracy: 0.9968\n",
            "Epoch 51/100\n",
            "52/52 [==============================] - 1s 12ms/step - loss: nan - accuracy: 0.9968\n",
            "Epoch 52/100\n",
            "52/52 [==============================] - 1s 12ms/step - loss: nan - accuracy: 0.9968\n",
            "Epoch 53/100\n",
            "52/52 [==============================] - 1s 13ms/step - loss: nan - accuracy: 0.9968\n",
            "Epoch 54/100\n",
            "52/52 [==============================] - 1s 13ms/step - loss: nan - accuracy: 0.9968\n",
            "Epoch 55/100\n",
            "52/52 [==============================] - 1s 12ms/step - loss: nan - accuracy: 0.9968\n",
            "Epoch 56/100\n",
            "52/52 [==============================] - 1s 12ms/step - loss: nan - accuracy: 0.9968\n",
            "Epoch 57/100\n",
            "52/52 [==============================] - 1s 12ms/step - loss: nan - accuracy: 0.9968\n",
            "Epoch 58/100\n",
            "52/52 [==============================] - 1s 12ms/step - loss: nan - accuracy: 0.9968\n",
            "Epoch 59/100\n",
            "52/52 [==============================] - 1s 12ms/step - loss: nan - accuracy: 0.9968\n",
            "Epoch 60/100\n",
            "52/52 [==============================] - 1s 12ms/step - loss: nan - accuracy: 0.9968\n",
            "Epoch 61/100\n",
            "52/52 [==============================] - 1s 13ms/step - loss: nan - accuracy: 0.9968\n",
            "Epoch 62/100\n",
            "52/52 [==============================] - 1s 13ms/step - loss: nan - accuracy: 0.9968\n",
            "Epoch 63/100\n",
            "52/52 [==============================] - 1s 12ms/step - loss: nan - accuracy: 0.9968\n",
            "Epoch 64/100\n",
            "52/52 [==============================] - 1s 16ms/step - loss: nan - accuracy: 0.9968\n",
            "Epoch 65/100\n",
            "52/52 [==============================] - 1s 12ms/step - loss: nan - accuracy: 0.9968\n",
            "Epoch 66/100\n",
            "52/52 [==============================] - 1s 16ms/step - loss: nan - accuracy: 0.9968\n",
            "Epoch 67/100\n",
            "52/52 [==============================] - 1s 16ms/step - loss: nan - accuracy: 0.9968\n",
            "Epoch 68/100\n",
            "52/52 [==============================] - 1s 12ms/step - loss: nan - accuracy: 0.9968\n",
            "Epoch 69/100\n",
            "52/52 [==============================] - 1s 12ms/step - loss: nan - accuracy: 0.9968\n",
            "Epoch 70/100\n",
            "52/52 [==============================] - 1s 12ms/step - loss: nan - accuracy: 0.9968\n",
            "Epoch 71/100\n",
            "52/52 [==============================] - 1s 12ms/step - loss: nan - accuracy: 0.9968\n",
            "Epoch 72/100\n",
            "52/52 [==============================] - 1s 12ms/step - loss: nan - accuracy: 0.9968\n",
            "Epoch 73/100\n",
            "52/52 [==============================] - 1s 12ms/step - loss: nan - accuracy: 0.9968\n",
            "Epoch 74/100\n",
            "52/52 [==============================] - 1s 12ms/step - loss: nan - accuracy: 0.9968\n",
            "Epoch 75/100\n",
            "52/52 [==============================] - 1s 12ms/step - loss: nan - accuracy: 0.9968\n",
            "Epoch 76/100\n",
            "52/52 [==============================] - 1s 12ms/step - loss: nan - accuracy: 0.9968\n",
            "Epoch 77/100\n",
            "52/52 [==============================] - 1s 13ms/step - loss: nan - accuracy: 0.9968\n",
            "Epoch 78/100\n",
            "52/52 [==============================] - 1s 13ms/step - loss: nan - accuracy: 0.9968\n",
            "Epoch 79/100\n",
            "52/52 [==============================] - 1s 19ms/step - loss: nan - accuracy: 0.9968\n",
            "Epoch 80/100\n",
            "52/52 [==============================] - 1s 12ms/step - loss: nan - accuracy: 0.9968\n",
            "Epoch 81/100\n",
            "52/52 [==============================] - 1s 12ms/step - loss: nan - accuracy: 0.9968\n",
            "Epoch 82/100\n",
            "52/52 [==============================] - 1s 12ms/step - loss: nan - accuracy: 0.9968\n",
            "Epoch 83/100\n",
            "52/52 [==============================] - 1s 12ms/step - loss: nan - accuracy: 0.9968\n",
            "Epoch 84/100\n",
            "52/52 [==============================] - 1s 12ms/step - loss: nan - accuracy: 0.9968\n",
            "Epoch 85/100\n",
            "52/52 [==============================] - 1s 12ms/step - loss: nan - accuracy: 0.9968\n",
            "Epoch 86/100\n",
            "52/52 [==============================] - 1s 12ms/step - loss: nan - accuracy: 0.9968\n",
            "Epoch 87/100\n",
            "52/52 [==============================] - 1s 12ms/step - loss: nan - accuracy: 0.9968\n",
            "Epoch 88/100\n",
            "52/52 [==============================] - 1s 12ms/step - loss: nan - accuracy: 0.9968\n",
            "Epoch 89/100\n",
            "52/52 [==============================] - 1s 12ms/step - loss: nan - accuracy: 0.9968\n",
            "Epoch 90/100\n",
            "52/52 [==============================] - 1s 12ms/step - loss: nan - accuracy: 0.9968\n",
            "Epoch 91/100\n",
            "52/52 [==============================] - 1s 12ms/step - loss: nan - accuracy: 0.9968\n",
            "Epoch 92/100\n",
            "52/52 [==============================] - 1s 12ms/step - loss: nan - accuracy: 0.9968\n",
            "Epoch 93/100\n",
            "52/52 [==============================] - 1s 12ms/step - loss: nan - accuracy: 0.9968\n",
            "Epoch 94/100\n",
            "52/52 [==============================] - 1s 13ms/step - loss: nan - accuracy: 0.9968\n",
            "Epoch 95/100\n",
            "52/52 [==============================] - 1s 12ms/step - loss: nan - accuracy: 0.9968\n",
            "Epoch 96/100\n",
            "52/52 [==============================] - 1s 12ms/step - loss: nan - accuracy: 0.9968\n",
            "Epoch 97/100\n",
            "52/52 [==============================] - 1s 11ms/step - loss: nan - accuracy: 0.9968\n",
            "Epoch 98/100\n",
            "52/52 [==============================] - 1s 12ms/step - loss: nan - accuracy: 0.9968\n",
            "Epoch 99/100\n",
            "52/52 [==============================] - 1s 12ms/step - loss: nan - accuracy: 0.9968\n",
            "Epoch 100/100\n",
            "52/52 [==============================] - 1s 12ms/step - loss: nan - accuracy: 0.9968\n"
          ]
        },
        {
          "output_type": "execute_result",
          "data": {
            "text/plain": [
              "<keras.callbacks.History at 0x7f75063b9690>"
            ]
          },
          "metadata": {},
          "execution_count": 55
        }
      ]
    },
    {
      "cell_type": "markdown",
      "source": [
        "sepertinya nilai loss masih tetap nan dan akurasi masih 0.99. sesuaikan kembali hyperparameternya"
      ],
      "metadata": {
        "id": "K8A90HV91-hp"
      }
    },
    {
      "cell_type": "markdown",
      "source": [
        "##percobaan ke-7"
      ],
      "metadata": {
        "id": "W7CVXFbT1j0v"
      }
    },
    {
      "cell_type": "code",
      "source": [
        "annmodelrework.add(tf.keras.layers.Dense(units=20, activation='relu'))\n",
        "annmodelrework.add(tf.keras.layers.BatchNormalization())\n",
        "annmodelrework.add(tf.keras.layers.Dropout(0.2))\n",
        "annmodelrework.add(tf.keras.layers.Dense(units=30, activation='relu'))\n",
        "annmodelrework.add(tf.keras.layers.BatchNormalization())\n",
        "annmodelrework.add(tf.keras.layers.Dropout(0.2))\n",
        "annmodelrework.add(tf.keras.layers.Dense(units=40, activation='relu'))\n",
        "annmodelrework.add(tf.keras.layers.BatchNormalization())\n",
        "annmodelrework.add(tf.keras.layers.Dropout(0.2))\n",
        "annmodelrework.add(tf.keras.layers.Dense(units=1, activation='sigmoid'))"
      ],
      "metadata": {
        "id": "fhaOIzi620EN"
      },
      "execution_count": null,
      "outputs": []
    },
    {
      "cell_type": "code",
      "source": [
        "annmodelrework.fit(X_train, y_train, batch_size=128, epochs=100)"
      ],
      "metadata": {
        "colab": {
          "base_uri": "https://localhost:8080/"
        },
        "id": "1cHzj3H4265g",
        "outputId": "b287bf40-59d7-41dc-83ea-a3d40f290791"
      },
      "execution_count": null,
      "outputs": [
        {
          "output_type": "stream",
          "name": "stdout",
          "text": [
            "Epoch 1/100\n",
            "52/52 [==============================] - 1s 11ms/step - loss: nan - accuracy: 0.9968\n",
            "Epoch 2/100\n",
            "52/52 [==============================] - 1s 12ms/step - loss: nan - accuracy: 0.9968\n",
            "Epoch 3/100\n",
            "52/52 [==============================] - 1s 11ms/step - loss: nan - accuracy: 0.9968\n",
            "Epoch 4/100\n",
            "52/52 [==============================] - 1s 12ms/step - loss: nan - accuracy: 0.9968\n",
            "Epoch 5/100\n",
            "52/52 [==============================] - 1s 12ms/step - loss: nan - accuracy: 0.9968\n",
            "Epoch 6/100\n",
            "52/52 [==============================] - 1s 12ms/step - loss: nan - accuracy: 0.9968\n",
            "Epoch 7/100\n",
            "52/52 [==============================] - 1s 12ms/step - loss: nan - accuracy: 0.9968\n",
            "Epoch 8/100\n",
            "52/52 [==============================] - 1s 11ms/step - loss: nan - accuracy: 0.9968\n",
            "Epoch 9/100\n",
            "52/52 [==============================] - 1s 12ms/step - loss: nan - accuracy: 0.9968\n",
            "Epoch 10/100\n",
            "52/52 [==============================] - 1s 12ms/step - loss: nan - accuracy: 0.9968\n",
            "Epoch 11/100\n",
            "52/52 [==============================] - 1s 12ms/step - loss: nan - accuracy: 0.9968\n",
            "Epoch 12/100\n",
            "52/52 [==============================] - 1s 12ms/step - loss: nan - accuracy: 0.9968\n",
            "Epoch 13/100\n",
            "52/52 [==============================] - 1s 12ms/step - loss: nan - accuracy: 0.9968\n",
            "Epoch 14/100\n",
            "52/52 [==============================] - 1s 12ms/step - loss: nan - accuracy: 0.9968\n",
            "Epoch 15/100\n",
            "52/52 [==============================] - 1s 11ms/step - loss: nan - accuracy: 0.9968\n",
            "Epoch 16/100\n",
            "52/52 [==============================] - 1s 12ms/step - loss: nan - accuracy: 0.9968\n",
            "Epoch 17/100\n",
            "52/52 [==============================] - 1s 12ms/step - loss: nan - accuracy: 0.9968\n",
            "Epoch 18/100\n",
            "52/52 [==============================] - 1s 12ms/step - loss: nan - accuracy: 0.9968\n",
            "Epoch 19/100\n",
            "52/52 [==============================] - 1s 12ms/step - loss: nan - accuracy: 0.9968\n",
            "Epoch 20/100\n",
            "52/52 [==============================] - 1s 12ms/step - loss: nan - accuracy: 0.9968\n",
            "Epoch 21/100\n",
            "52/52 [==============================] - 1s 12ms/step - loss: nan - accuracy: 0.9968\n",
            "Epoch 22/100\n",
            "52/52 [==============================] - 1s 12ms/step - loss: nan - accuracy: 0.9968\n",
            "Epoch 23/100\n",
            "52/52 [==============================] - 1s 12ms/step - loss: nan - accuracy: 0.9968\n",
            "Epoch 24/100\n",
            "52/52 [==============================] - 1s 12ms/step - loss: nan - accuracy: 0.9968\n",
            "Epoch 25/100\n",
            "52/52 [==============================] - 1s 12ms/step - loss: nan - accuracy: 0.9968\n",
            "Epoch 26/100\n",
            "52/52 [==============================] - 1s 12ms/step - loss: nan - accuracy: 0.9968\n",
            "Epoch 27/100\n",
            "52/52 [==============================] - 1s 12ms/step - loss: nan - accuracy: 0.9968\n",
            "Epoch 28/100\n",
            "52/52 [==============================] - 1s 12ms/step - loss: nan - accuracy: 0.9968\n",
            "Epoch 29/100\n",
            "52/52 [==============================] - 1s 12ms/step - loss: nan - accuracy: 0.9968\n",
            "Epoch 30/100\n",
            "52/52 [==============================] - 1s 12ms/step - loss: nan - accuracy: 0.9968\n",
            "Epoch 31/100\n",
            "52/52 [==============================] - 1s 11ms/step - loss: nan - accuracy: 0.9968\n",
            "Epoch 32/100\n",
            "52/52 [==============================] - 1s 12ms/step - loss: nan - accuracy: 0.9968\n",
            "Epoch 33/100\n",
            "52/52 [==============================] - 1s 12ms/step - loss: nan - accuracy: 0.9968\n",
            "Epoch 34/100\n",
            "52/52 [==============================] - 1s 12ms/step - loss: nan - accuracy: 0.9968\n",
            "Epoch 35/100\n",
            "52/52 [==============================] - 1s 12ms/step - loss: nan - accuracy: 0.9968\n",
            "Epoch 36/100\n",
            "52/52 [==============================] - 1s 12ms/step - loss: nan - accuracy: 0.9968\n",
            "Epoch 37/100\n",
            "52/52 [==============================] - 1s 12ms/step - loss: nan - accuracy: 0.9968\n",
            "Epoch 38/100\n",
            "52/52 [==============================] - 1s 12ms/step - loss: nan - accuracy: 0.9968\n",
            "Epoch 39/100\n",
            "52/52 [==============================] - 1s 12ms/step - loss: nan - accuracy: 0.9968\n",
            "Epoch 40/100\n",
            "52/52 [==============================] - 1s 12ms/step - loss: nan - accuracy: 0.9968\n",
            "Epoch 41/100\n",
            "52/52 [==============================] - 1s 12ms/step - loss: nan - accuracy: 0.9968\n",
            "Epoch 42/100\n",
            "52/52 [==============================] - 1s 12ms/step - loss: nan - accuracy: 0.9968\n",
            "Epoch 43/100\n",
            "52/52 [==============================] - 1s 12ms/step - loss: nan - accuracy: 0.9968\n",
            "Epoch 44/100\n",
            "52/52 [==============================] - 1s 11ms/step - loss: nan - accuracy: 0.9968\n",
            "Epoch 45/100\n",
            "52/52 [==============================] - 1s 12ms/step - loss: nan - accuracy: 0.9968\n",
            "Epoch 46/100\n",
            "52/52 [==============================] - 1s 11ms/step - loss: nan - accuracy: 0.9968\n",
            "Epoch 47/100\n",
            "52/52 [==============================] - 1s 12ms/step - loss: nan - accuracy: 0.9968\n",
            "Epoch 48/100\n",
            "52/52 [==============================] - 1s 12ms/step - loss: nan - accuracy: 0.9968\n",
            "Epoch 49/100\n",
            "52/52 [==============================] - 1s 12ms/step - loss: nan - accuracy: 0.9968\n",
            "Epoch 50/100\n",
            "52/52 [==============================] - 1s 12ms/step - loss: nan - accuracy: 0.9968\n",
            "Epoch 51/100\n",
            "52/52 [==============================] - 1s 12ms/step - loss: nan - accuracy: 0.9968\n",
            "Epoch 52/100\n",
            "52/52 [==============================] - 1s 12ms/step - loss: nan - accuracy: 0.9968\n",
            "Epoch 53/100\n",
            "52/52 [==============================] - 1s 12ms/step - loss: nan - accuracy: 0.9968\n",
            "Epoch 54/100\n",
            "52/52 [==============================] - 1s 12ms/step - loss: nan - accuracy: 0.9968\n",
            "Epoch 55/100\n",
            "52/52 [==============================] - 1s 13ms/step - loss: nan - accuracy: 0.9968\n",
            "Epoch 56/100\n",
            "52/52 [==============================] - 1s 12ms/step - loss: nan - accuracy: 0.9968\n",
            "Epoch 57/100\n",
            "52/52 [==============================] - 1s 11ms/step - loss: nan - accuracy: 0.9968\n",
            "Epoch 58/100\n",
            "52/52 [==============================] - 1s 12ms/step - loss: nan - accuracy: 0.9968\n",
            "Epoch 59/100\n",
            "52/52 [==============================] - 1s 12ms/step - loss: nan - accuracy: 0.9968\n",
            "Epoch 60/100\n",
            "52/52 [==============================] - 1s 12ms/step - loss: nan - accuracy: 0.9968\n",
            "Epoch 61/100\n",
            "52/52 [==============================] - 1s 12ms/step - loss: nan - accuracy: 0.9968\n",
            "Epoch 62/100\n",
            "52/52 [==============================] - 1s 11ms/step - loss: nan - accuracy: 0.9968\n",
            "Epoch 63/100\n",
            "52/52 [==============================] - 1s 15ms/step - loss: nan - accuracy: 0.9968\n",
            "Epoch 64/100\n",
            "52/52 [==============================] - 1s 15ms/step - loss: nan - accuracy: 0.9968\n",
            "Epoch 65/100\n",
            "52/52 [==============================] - 1s 16ms/step - loss: nan - accuracy: 0.9968\n",
            "Epoch 66/100\n",
            "52/52 [==============================] - 1s 20ms/step - loss: nan - accuracy: 0.9968\n",
            "Epoch 67/100\n",
            "52/52 [==============================] - 1s 17ms/step - loss: nan - accuracy: 0.9968\n",
            "Epoch 68/100\n",
            "52/52 [==============================] - 1s 16ms/step - loss: nan - accuracy: 0.9968\n",
            "Epoch 69/100\n",
            "52/52 [==============================] - 1s 18ms/step - loss: nan - accuracy: 0.9968\n",
            "Epoch 70/100\n",
            "52/52 [==============================] - 1s 16ms/step - loss: nan - accuracy: 0.9968\n",
            "Epoch 71/100\n",
            "52/52 [==============================] - 1s 16ms/step - loss: nan - accuracy: 0.9968\n",
            "Epoch 72/100\n",
            "52/52 [==============================] - 1s 18ms/step - loss: nan - accuracy: 0.9968\n",
            "Epoch 73/100\n",
            "52/52 [==============================] - 1s 16ms/step - loss: nan - accuracy: 0.9968\n",
            "Epoch 74/100\n",
            "52/52 [==============================] - 1s 12ms/step - loss: nan - accuracy: 0.9968\n",
            "Epoch 75/100\n",
            "52/52 [==============================] - 1s 12ms/step - loss: nan - accuracy: 0.9968\n",
            "Epoch 76/100\n",
            "52/52 [==============================] - 1s 11ms/step - loss: nan - accuracy: 0.9968\n",
            "Epoch 77/100\n",
            "52/52 [==============================] - 1s 12ms/step - loss: nan - accuracy: 0.9968\n",
            "Epoch 78/100\n",
            "52/52 [==============================] - 1s 12ms/step - loss: nan - accuracy: 0.9968\n",
            "Epoch 79/100\n",
            "52/52 [==============================] - 1s 13ms/step - loss: nan - accuracy: 0.9968\n",
            "Epoch 80/100\n",
            "52/52 [==============================] - 1s 16ms/step - loss: nan - accuracy: 0.9968\n",
            "Epoch 81/100\n",
            "52/52 [==============================] - 1s 12ms/step - loss: nan - accuracy: 0.9968\n",
            "Epoch 82/100\n",
            "52/52 [==============================] - 1s 12ms/step - loss: nan - accuracy: 0.9968\n",
            "Epoch 83/100\n",
            "52/52 [==============================] - 1s 12ms/step - loss: nan - accuracy: 0.9968\n",
            "Epoch 84/100\n",
            "52/52 [==============================] - 1s 12ms/step - loss: nan - accuracy: 0.9968\n",
            "Epoch 85/100\n",
            "52/52 [==============================] - 1s 12ms/step - loss: nan - accuracy: 0.9968\n",
            "Epoch 86/100\n",
            "52/52 [==============================] - 1s 12ms/step - loss: nan - accuracy: 0.9968\n",
            "Epoch 87/100\n",
            "52/52 [==============================] - 1s 13ms/step - loss: nan - accuracy: 0.9968\n",
            "Epoch 88/100\n",
            "52/52 [==============================] - 1s 12ms/step - loss: nan - accuracy: 0.9968\n",
            "Epoch 89/100\n",
            "52/52 [==============================] - 1s 12ms/step - loss: nan - accuracy: 0.9968\n",
            "Epoch 90/100\n",
            "52/52 [==============================] - 1s 12ms/step - loss: nan - accuracy: 0.9968\n",
            "Epoch 91/100\n",
            "52/52 [==============================] - 1s 12ms/step - loss: nan - accuracy: 0.9968\n",
            "Epoch 92/100\n",
            "52/52 [==============================] - 1s 12ms/step - loss: nan - accuracy: 0.9968\n",
            "Epoch 93/100\n",
            "52/52 [==============================] - 1s 12ms/step - loss: nan - accuracy: 0.9968\n",
            "Epoch 94/100\n",
            "52/52 [==============================] - 1s 12ms/step - loss: nan - accuracy: 0.9968\n",
            "Epoch 95/100\n",
            "52/52 [==============================] - 1s 11ms/step - loss: nan - accuracy: 0.9968\n",
            "Epoch 96/100\n",
            "52/52 [==============================] - 1s 12ms/step - loss: nan - accuracy: 0.9968\n",
            "Epoch 97/100\n",
            "52/52 [==============================] - 1s 12ms/step - loss: nan - accuracy: 0.9968\n",
            "Epoch 98/100\n",
            "52/52 [==============================] - 1s 12ms/step - loss: nan - accuracy: 0.9968\n",
            "Epoch 99/100\n",
            "52/52 [==============================] - 1s 12ms/step - loss: nan - accuracy: 0.9968\n",
            "Epoch 100/100\n",
            "52/52 [==============================] - 1s 12ms/step - loss: nan - accuracy: 0.9968\n"
          ]
        },
        {
          "output_type": "execute_result",
          "data": {
            "text/plain": [
              "<keras.callbacks.History at 0x7f75063810d0>"
            ]
          },
          "metadata": {},
          "execution_count": 57
        }
      ]
    },
    {
      "cell_type": "markdown",
      "source": [
        "sepertinya nilai loss masih tetap nan dan akurasi masih 0.99. sesuaikan kembali hyperparameternya"
      ],
      "metadata": {
        "id": "Lq2-5hoX25q0"
      }
    },
    {
      "cell_type": "markdown",
      "source": [
        "## percobaan ke - 8"
      ],
      "metadata": {
        "id": "IdJlTFP23HQy"
      }
    },
    {
      "cell_type": "code",
      "source": [
        "annmodelrework.add(tf.keras.layers.Dense(units=20, activation='relu'))\n",
        "annmodelrework.add(tf.keras.layers.BatchNormalization())\n",
        "annmodelrework.add(tf.keras.layers.Dropout(0.2))\n",
        "annmodelrework.add(tf.keras.layers.Dense(units=40, activation='relu'))\n",
        "annmodelrework.add(tf.keras.layers.BatchNormalization())\n",
        "annmodelrework.add(tf.keras.layers.Dropout(0.2))\n",
        "annmodelrework.add(tf.keras.layers.Dense(units=40, activation='relu'))\n",
        "annmodelrework.add(tf.keras.layers.BatchNormalization())\n",
        "annmodelrework.add(tf.keras.layers.Dropout(0.2))\n",
        "annmodelrework.add(tf.keras.layers.Dense(units=1, activation='sigmoid'))"
      ],
      "metadata": {
        "id": "mAo8v9bg3KUS"
      },
      "execution_count": null,
      "outputs": []
    },
    {
      "cell_type": "code",
      "source": [
        "annmodelrework.fit(X_train, y_train, batch_size=128, epochs=100)"
      ],
      "metadata": {
        "colab": {
          "base_uri": "https://localhost:8080/"
        },
        "id": "p0z2I1uC3Qpl",
        "outputId": "01fd97a3-1bf4-4dd8-b177-ae2c0c7f9464"
      },
      "execution_count": null,
      "outputs": [
        {
          "output_type": "stream",
          "name": "stdout",
          "text": [
            "Epoch 1/100\n",
            "52/52 [==============================] - 1s 12ms/step - loss: nan - accuracy: 0.9968\n",
            "Epoch 2/100\n",
            "52/52 [==============================] - 1s 12ms/step - loss: nan - accuracy: 0.9968\n",
            "Epoch 3/100\n",
            "52/52 [==============================] - 1s 12ms/step - loss: nan - accuracy: 0.9968\n",
            "Epoch 4/100\n",
            "52/52 [==============================] - 1s 12ms/step - loss: nan - accuracy: 0.9968\n",
            "Epoch 5/100\n",
            "52/52 [==============================] - 1s 12ms/step - loss: nan - accuracy: 0.9968\n",
            "Epoch 6/100\n",
            "52/52 [==============================] - 1s 12ms/step - loss: nan - accuracy: 0.9968\n",
            "Epoch 7/100\n",
            "52/52 [==============================] - 1s 12ms/step - loss: nan - accuracy: 0.9968\n",
            "Epoch 8/100\n",
            "52/52 [==============================] - 1s 12ms/step - loss: nan - accuracy: 0.9968\n",
            "Epoch 9/100\n",
            "52/52 [==============================] - 1s 12ms/step - loss: nan - accuracy: 0.9968\n",
            "Epoch 10/100\n",
            "52/52 [==============================] - 1s 12ms/step - loss: nan - accuracy: 0.9968\n",
            "Epoch 11/100\n",
            "52/52 [==============================] - 1s 12ms/step - loss: nan - accuracy: 0.9968\n",
            "Epoch 12/100\n",
            "52/52 [==============================] - 1s 12ms/step - loss: nan - accuracy: 0.9968\n",
            "Epoch 13/100\n",
            "52/52 [==============================] - 1s 12ms/step - loss: nan - accuracy: 0.9968\n",
            "Epoch 14/100\n",
            "52/52 [==============================] - 1s 12ms/step - loss: nan - accuracy: 0.9968\n",
            "Epoch 15/100\n",
            "52/52 [==============================] - 1s 12ms/step - loss: nan - accuracy: 0.9968\n",
            "Epoch 16/100\n",
            "52/52 [==============================] - 1s 12ms/step - loss: nan - accuracy: 0.9968\n",
            "Epoch 17/100\n",
            "52/52 [==============================] - 1s 12ms/step - loss: nan - accuracy: 0.9968\n",
            "Epoch 18/100\n",
            "52/52 [==============================] - 1s 12ms/step - loss: nan - accuracy: 0.9968\n",
            "Epoch 19/100\n",
            "52/52 [==============================] - 1s 12ms/step - loss: nan - accuracy: 0.9968\n",
            "Epoch 20/100\n",
            "52/52 [==============================] - 1s 12ms/step - loss: nan - accuracy: 0.9968\n",
            "Epoch 21/100\n",
            "52/52 [==============================] - 1s 12ms/step - loss: nan - accuracy: 0.9968\n",
            "Epoch 22/100\n",
            "52/52 [==============================] - 1s 12ms/step - loss: nan - accuracy: 0.9968\n",
            "Epoch 23/100\n",
            "52/52 [==============================] - 1s 12ms/step - loss: nan - accuracy: 0.9968\n",
            "Epoch 24/100\n",
            "52/52 [==============================] - 1s 12ms/step - loss: nan - accuracy: 0.9968\n",
            "Epoch 25/100\n",
            "52/52 [==============================] - 1s 12ms/step - loss: nan - accuracy: 0.9968\n",
            "Epoch 26/100\n",
            "52/52 [==============================] - 1s 12ms/step - loss: nan - accuracy: 0.9968\n",
            "Epoch 27/100\n",
            "52/52 [==============================] - 1s 12ms/step - loss: nan - accuracy: 0.9968\n",
            "Epoch 28/100\n",
            "52/52 [==============================] - 1s 13ms/step - loss: nan - accuracy: 0.9968\n",
            "Epoch 29/100\n",
            "52/52 [==============================] - 1s 12ms/step - loss: nan - accuracy: 0.9968\n",
            "Epoch 30/100\n",
            "52/52 [==============================] - 1s 12ms/step - loss: nan - accuracy: 0.9968\n",
            "Epoch 31/100\n",
            "52/52 [==============================] - 1s 12ms/step - loss: nan - accuracy: 0.9968\n",
            "Epoch 32/100\n",
            "52/52 [==============================] - 1s 13ms/step - loss: nan - accuracy: 0.9968\n",
            "Epoch 33/100\n",
            "52/52 [==============================] - 1s 12ms/step - loss: nan - accuracy: 0.9968\n",
            "Epoch 34/100\n",
            "52/52 [==============================] - 1s 12ms/step - loss: nan - accuracy: 0.9968\n",
            "Epoch 35/100\n",
            "52/52 [==============================] - 1s 12ms/step - loss: nan - accuracy: 0.9968\n",
            "Epoch 36/100\n",
            "52/52 [==============================] - 1s 12ms/step - loss: nan - accuracy: 0.9968\n",
            "Epoch 37/100\n",
            "52/52 [==============================] - 1s 12ms/step - loss: nan - accuracy: 0.9968\n",
            "Epoch 38/100\n",
            "52/52 [==============================] - 1s 12ms/step - loss: nan - accuracy: 0.9968\n",
            "Epoch 39/100\n",
            "52/52 [==============================] - 1s 12ms/step - loss: nan - accuracy: 0.9968\n",
            "Epoch 40/100\n",
            "52/52 [==============================] - 1s 12ms/step - loss: nan - accuracy: 0.9968\n",
            "Epoch 41/100\n",
            "52/52 [==============================] - 1s 14ms/step - loss: nan - accuracy: 0.9968\n",
            "Epoch 42/100\n",
            "52/52 [==============================] - 1s 16ms/step - loss: nan - accuracy: 0.9968\n",
            "Epoch 43/100\n",
            "52/52 [==============================] - 1s 17ms/step - loss: nan - accuracy: 0.9968\n",
            "Epoch 44/100\n",
            "52/52 [==============================] - 1s 19ms/step - loss: nan - accuracy: 0.9968\n",
            "Epoch 45/100\n",
            "52/52 [==============================] - 1s 16ms/step - loss: nan - accuracy: 0.9968\n",
            "Epoch 46/100\n",
            "52/52 [==============================] - 1s 16ms/step - loss: nan - accuracy: 0.9968\n",
            "Epoch 47/100\n",
            "52/52 [==============================] - 1s 17ms/step - loss: nan - accuracy: 0.9968\n",
            "Epoch 48/100\n",
            "52/52 [==============================] - 1s 17ms/step - loss: nan - accuracy: 0.9968\n",
            "Epoch 49/100\n",
            "52/52 [==============================] - 1s 12ms/step - loss: nan - accuracy: 0.9968\n",
            "Epoch 50/100\n",
            "52/52 [==============================] - 1s 16ms/step - loss: nan - accuracy: 0.9968\n",
            "Epoch 51/100\n",
            "52/52 [==============================] - 1s 12ms/step - loss: nan - accuracy: 0.9968\n",
            "Epoch 52/100\n",
            "52/52 [==============================] - 1s 12ms/step - loss: nan - accuracy: 0.9968\n",
            "Epoch 53/100\n",
            "52/52 [==============================] - 1s 12ms/step - loss: nan - accuracy: 0.9968\n",
            "Epoch 54/100\n",
            "52/52 [==============================] - 1s 12ms/step - loss: nan - accuracy: 0.9968\n",
            "Epoch 55/100\n",
            "52/52 [==============================] - 1s 12ms/step - loss: nan - accuracy: 0.9968\n",
            "Epoch 56/100\n",
            "52/52 [==============================] - 1s 12ms/step - loss: nan - accuracy: 0.9968\n",
            "Epoch 57/100\n",
            "52/52 [==============================] - 1s 12ms/step - loss: nan - accuracy: 0.9968\n",
            "Epoch 58/100\n",
            "52/52 [==============================] - 1s 12ms/step - loss: nan - accuracy: 0.9968\n",
            "Epoch 59/100\n",
            "52/52 [==============================] - 1s 12ms/step - loss: nan - accuracy: 0.9968\n",
            "Epoch 60/100\n",
            "52/52 [==============================] - 1s 12ms/step - loss: nan - accuracy: 0.9968\n",
            "Epoch 61/100\n",
            "52/52 [==============================] - 1s 12ms/step - loss: nan - accuracy: 0.9968\n",
            "Epoch 62/100\n",
            "52/52 [==============================] - 1s 12ms/step - loss: nan - accuracy: 0.9968\n",
            "Epoch 63/100\n",
            "52/52 [==============================] - 1s 12ms/step - loss: nan - accuracy: 0.9968\n",
            "Epoch 64/100\n",
            "52/52 [==============================] - 1s 12ms/step - loss: nan - accuracy: 0.9968\n",
            "Epoch 65/100\n",
            "52/52 [==============================] - 1s 12ms/step - loss: nan - accuracy: 0.9968\n",
            "Epoch 66/100\n",
            "52/52 [==============================] - 1s 12ms/step - loss: nan - accuracy: 0.9968\n",
            "Epoch 67/100\n",
            "52/52 [==============================] - 1s 12ms/step - loss: nan - accuracy: 0.9968\n",
            "Epoch 68/100\n",
            "52/52 [==============================] - 1s 12ms/step - loss: nan - accuracy: 0.9968\n",
            "Epoch 69/100\n",
            "52/52 [==============================] - 1s 11ms/step - loss: nan - accuracy: 0.9968\n",
            "Epoch 70/100\n",
            "52/52 [==============================] - 1s 12ms/step - loss: nan - accuracy: 0.9968\n",
            "Epoch 71/100\n",
            "52/52 [==============================] - 1s 12ms/step - loss: nan - accuracy: 0.9968\n",
            "Epoch 72/100\n",
            "52/52 [==============================] - 1s 11ms/step - loss: nan - accuracy: 0.9968\n",
            "Epoch 73/100\n",
            "52/52 [==============================] - 1s 12ms/step - loss: nan - accuracy: 0.9968\n",
            "Epoch 74/100\n",
            "52/52 [==============================] - 1s 12ms/step - loss: nan - accuracy: 0.9968\n",
            "Epoch 75/100\n",
            "52/52 [==============================] - 1s 12ms/step - loss: nan - accuracy: 0.9968\n",
            "Epoch 76/100\n",
            "52/52 [==============================] - 1s 12ms/step - loss: nan - accuracy: 0.9968\n",
            "Epoch 77/100\n",
            "52/52 [==============================] - 1s 12ms/step - loss: nan - accuracy: 0.9968\n",
            "Epoch 78/100\n",
            "52/52 [==============================] - 1s 15ms/step - loss: nan - accuracy: 0.9968\n",
            "Epoch 79/100\n",
            "52/52 [==============================] - 1s 14ms/step - loss: nan - accuracy: 0.9968\n",
            "Epoch 80/100\n",
            "52/52 [==============================] - 1s 12ms/step - loss: nan - accuracy: 0.9968\n",
            "Epoch 81/100\n",
            "52/52 [==============================] - 1s 15ms/step - loss: nan - accuracy: 0.9968\n",
            "Epoch 82/100\n",
            "52/52 [==============================] - 1s 16ms/step - loss: nan - accuracy: 0.9968\n",
            "Epoch 83/100\n",
            "52/52 [==============================] - 1s 14ms/step - loss: nan - accuracy: 0.9968\n",
            "Epoch 84/100\n",
            "52/52 [==============================] - 1s 13ms/step - loss: nan - accuracy: 0.9968\n",
            "Epoch 85/100\n",
            "52/52 [==============================] - 1s 16ms/step - loss: nan - accuracy: 0.9968\n",
            "Epoch 86/100\n",
            "52/52 [==============================] - 1s 14ms/step - loss: nan - accuracy: 0.9968\n",
            "Epoch 87/100\n",
            "52/52 [==============================] - 1s 17ms/step - loss: nan - accuracy: 0.9968\n",
            "Epoch 88/100\n",
            "52/52 [==============================] - 1s 13ms/step - loss: nan - accuracy: 0.9968\n",
            "Epoch 89/100\n",
            "52/52 [==============================] - 1s 16ms/step - loss: nan - accuracy: 0.9968\n",
            "Epoch 90/100\n",
            "52/52 [==============================] - 1s 13ms/step - loss: nan - accuracy: 0.9968\n",
            "Epoch 91/100\n",
            "52/52 [==============================] - 1s 17ms/step - loss: nan - accuracy: 0.9968\n",
            "Epoch 92/100\n",
            "52/52 [==============================] - 1s 12ms/step - loss: nan - accuracy: 0.9968\n",
            "Epoch 93/100\n",
            "52/52 [==============================] - 1s 15ms/step - loss: nan - accuracy: 0.9968\n",
            "Epoch 94/100\n",
            "52/52 [==============================] - 1s 13ms/step - loss: nan - accuracy: 0.9968\n",
            "Epoch 95/100\n",
            "52/52 [==============================] - 1s 13ms/step - loss: nan - accuracy: 0.9968\n",
            "Epoch 96/100\n",
            "52/52 [==============================] - 1s 12ms/step - loss: nan - accuracy: 0.9968\n",
            "Epoch 97/100\n",
            "52/52 [==============================] - 1s 12ms/step - loss: nan - accuracy: 0.9968\n",
            "Epoch 98/100\n",
            "52/52 [==============================] - 1s 17ms/step - loss: nan - accuracy: 0.9968\n",
            "Epoch 99/100\n",
            "52/52 [==============================] - 1s 12ms/step - loss: nan - accuracy: 0.9968\n",
            "Epoch 100/100\n",
            "52/52 [==============================] - 1s 12ms/step - loss: nan - accuracy: 0.9968\n"
          ]
        },
        {
          "output_type": "execute_result",
          "data": {
            "text/plain": [
              "<keras.callbacks.History at 0x7f7506c52c50>"
            ]
          },
          "metadata": {},
          "execution_count": 59
        }
      ]
    },
    {
      "cell_type": "markdown",
      "source": [
        "sepertinya nilai loss masih tetap nan dan akurasi masih 0.99. sesuaikan kembali hyperparameternya"
      ],
      "metadata": {
        "id": "OY1jHkHv3P78"
      }
    },
    {
      "cell_type": "markdown",
      "source": [
        "## percobaan ke-9"
      ],
      "metadata": {
        "id": "sBJdaCQz3ZGZ"
      }
    },
    {
      "cell_type": "code",
      "source": [
        "annmodelrework.add(tf.keras.layers.Dense(units=40, activation='relu'))\n",
        "annmodelrework.add(tf.keras.layers.BatchNormalization())\n",
        "annmodelrework.add(tf.keras.layers.Dropout(0.2))\n",
        "annmodelrework.add(tf.keras.layers.Dense(units=30, activation='relu'))\n",
        "annmodelrework.add(tf.keras.layers.BatchNormalization())\n",
        "annmodelrework.add(tf.keras.layers.Dropout(0.2))\n",
        "annmodelrework.add(tf.keras.layers.Dense(units=20, activation='relu'))\n",
        "annmodelrework.add(tf.keras.layers.BatchNormalization())\n",
        "annmodelrework.add(tf.keras.layers.Dropout(0.2))\n",
        "annmodelrework.add(tf.keras.layers.Dense(units=1, activation='sigmoid'))"
      ],
      "metadata": {
        "id": "L-cjm7t63a2F"
      },
      "execution_count": null,
      "outputs": []
    },
    {
      "cell_type": "code",
      "source": [
        "annmodelrework.fit(X_train, y_train, batch_size=128, epochs=100)"
      ],
      "metadata": {
        "colab": {
          "base_uri": "https://localhost:8080/"
        },
        "id": "nuWvUFRF3gh5",
        "outputId": "ba1a7f20-0fa5-4597-8ef0-dc325fe16284"
      },
      "execution_count": null,
      "outputs": [
        {
          "output_type": "stream",
          "name": "stdout",
          "text": [
            "Epoch 1/100\n",
            "52/52 [==============================] - 1s 11ms/step - loss: nan - accuracy: 0.9968\n",
            "Epoch 2/100\n",
            "52/52 [==============================] - 1s 12ms/step - loss: nan - accuracy: 0.9968\n",
            "Epoch 3/100\n",
            "52/52 [==============================] - 1s 12ms/step - loss: nan - accuracy: 0.9968\n",
            "Epoch 4/100\n",
            "52/52 [==============================] - 1s 12ms/step - loss: nan - accuracy: 0.9968\n",
            "Epoch 5/100\n",
            "52/52 [==============================] - 1s 12ms/step - loss: nan - accuracy: 0.9968\n",
            "Epoch 6/100\n",
            "52/52 [==============================] - 1s 12ms/step - loss: nan - accuracy: 0.9968\n",
            "Epoch 7/100\n",
            "52/52 [==============================] - 1s 13ms/step - loss: nan - accuracy: 0.9968\n",
            "Epoch 8/100\n",
            "52/52 [==============================] - 1s 12ms/step - loss: nan - accuracy: 0.9968\n",
            "Epoch 9/100\n",
            "52/52 [==============================] - 1s 12ms/step - loss: nan - accuracy: 0.9968\n",
            "Epoch 10/100\n",
            "52/52 [==============================] - 1s 12ms/step - loss: nan - accuracy: 0.9968\n",
            "Epoch 11/100\n",
            "52/52 [==============================] - 1s 12ms/step - loss: nan - accuracy: 0.9968\n",
            "Epoch 12/100\n",
            "52/52 [==============================] - 1s 12ms/step - loss: nan - accuracy: 0.9968\n",
            "Epoch 13/100\n",
            "52/52 [==============================] - 1s 12ms/step - loss: nan - accuracy: 0.9968\n",
            "Epoch 14/100\n",
            "52/52 [==============================] - 1s 12ms/step - loss: nan - accuracy: 0.9968\n",
            "Epoch 15/100\n",
            "52/52 [==============================] - 1s 12ms/step - loss: nan - accuracy: 0.9968\n",
            "Epoch 16/100\n",
            "52/52 [==============================] - 1s 12ms/step - loss: nan - accuracy: 0.9968\n",
            "Epoch 17/100\n",
            "52/52 [==============================] - 1s 12ms/step - loss: nan - accuracy: 0.9968\n",
            "Epoch 18/100\n",
            "52/52 [==============================] - 1s 12ms/step - loss: nan - accuracy: 0.9968\n",
            "Epoch 19/100\n",
            "52/52 [==============================] - 1s 12ms/step - loss: nan - accuracy: 0.9968\n",
            "Epoch 20/100\n",
            "52/52 [==============================] - 1s 12ms/step - loss: nan - accuracy: 0.9968\n",
            "Epoch 21/100\n",
            "52/52 [==============================] - 1s 11ms/step - loss: nan - accuracy: 0.9968\n",
            "Epoch 22/100\n",
            "52/52 [==============================] - 1s 13ms/step - loss: nan - accuracy: 0.9968\n",
            "Epoch 23/100\n",
            "52/52 [==============================] - 1s 14ms/step - loss: nan - accuracy: 0.9968\n",
            "Epoch 24/100\n",
            "52/52 [==============================] - 1s 13ms/step - loss: nan - accuracy: 0.9968\n",
            "Epoch 25/100\n",
            "52/52 [==============================] - 1s 16ms/step - loss: nan - accuracy: 0.9968\n",
            "Epoch 26/100\n",
            "52/52 [==============================] - 1s 12ms/step - loss: nan - accuracy: 0.9968\n",
            "Epoch 27/100\n",
            "52/52 [==============================] - 1s 16ms/step - loss: nan - accuracy: 0.9968\n",
            "Epoch 28/100\n",
            "52/52 [==============================] - 1s 21ms/step - loss: nan - accuracy: 0.9968\n",
            "Epoch 29/100\n",
            "52/52 [==============================] - 1s 17ms/step - loss: nan - accuracy: 0.9968\n",
            "Epoch 30/100\n",
            "52/52 [==============================] - 1s 14ms/step - loss: nan - accuracy: 0.9968\n",
            "Epoch 31/100\n",
            "52/52 [==============================] - 1s 16ms/step - loss: nan - accuracy: 0.9968\n",
            "Epoch 32/100\n",
            "52/52 [==============================] - 1s 18ms/step - loss: nan - accuracy: 0.9968\n",
            "Epoch 33/100\n",
            "52/52 [==============================] - 1s 12ms/step - loss: nan - accuracy: 0.9968\n",
            "Epoch 34/100\n",
            "52/52 [==============================] - 1s 13ms/step - loss: nan - accuracy: 0.9968\n",
            "Epoch 35/100\n",
            "52/52 [==============================] - 1s 16ms/step - loss: nan - accuracy: 0.9968\n",
            "Epoch 36/100\n",
            "52/52 [==============================] - 1s 12ms/step - loss: nan - accuracy: 0.9968\n",
            "Epoch 37/100\n",
            "52/52 [==============================] - 1s 12ms/step - loss: nan - accuracy: 0.9968\n",
            "Epoch 38/100\n",
            "52/52 [==============================] - 1s 12ms/step - loss: nan - accuracy: 0.9968\n",
            "Epoch 39/100\n",
            "52/52 [==============================] - 1s 12ms/step - loss: nan - accuracy: 0.9968\n",
            "Epoch 40/100\n",
            "52/52 [==============================] - 1s 12ms/step - loss: nan - accuracy: 0.9968\n",
            "Epoch 41/100\n",
            "52/52 [==============================] - 1s 14ms/step - loss: nan - accuracy: 0.9968\n",
            "Epoch 42/100\n",
            "52/52 [==============================] - 1s 12ms/step - loss: nan - accuracy: 0.9968\n",
            "Epoch 43/100\n",
            "52/52 [==============================] - 1s 12ms/step - loss: nan - accuracy: 0.9968\n",
            "Epoch 44/100\n",
            "52/52 [==============================] - 1s 12ms/step - loss: nan - accuracy: 0.9968\n",
            "Epoch 45/100\n",
            "52/52 [==============================] - 1s 12ms/step - loss: nan - accuracy: 0.9968\n",
            "Epoch 46/100\n",
            "52/52 [==============================] - 1s 11ms/step - loss: nan - accuracy: 0.9968\n",
            "Epoch 47/100\n",
            "52/52 [==============================] - 1s 12ms/step - loss: nan - accuracy: 0.9968\n",
            "Epoch 48/100\n",
            "52/52 [==============================] - 1s 12ms/step - loss: nan - accuracy: 0.9968\n",
            "Epoch 49/100\n",
            "52/52 [==============================] - 1s 12ms/step - loss: nan - accuracy: 0.9968\n",
            "Epoch 50/100\n",
            "52/52 [==============================] - 1s 12ms/step - loss: nan - accuracy: 0.9968\n",
            "Epoch 51/100\n",
            "52/52 [==============================] - 1s 12ms/step - loss: nan - accuracy: 0.9968\n",
            "Epoch 52/100\n",
            "52/52 [==============================] - 1s 12ms/step - loss: nan - accuracy: 0.9968\n",
            "Epoch 53/100\n",
            "52/52 [==============================] - 1s 12ms/step - loss: nan - accuracy: 0.9968\n",
            "Epoch 54/100\n",
            "52/52 [==============================] - 1s 17ms/step - loss: nan - accuracy: 0.9968\n",
            "Epoch 55/100\n",
            "52/52 [==============================] - 1s 12ms/step - loss: nan - accuracy: 0.9968\n",
            "Epoch 56/100\n",
            "52/52 [==============================] - 1s 12ms/step - loss: nan - accuracy: 0.9968\n",
            "Epoch 57/100\n",
            "52/52 [==============================] - 1s 12ms/step - loss: nan - accuracy: 0.9968\n",
            "Epoch 58/100\n",
            "52/52 [==============================] - 1s 12ms/step - loss: nan - accuracy: 0.9968\n",
            "Epoch 59/100\n",
            "52/52 [==============================] - 1s 12ms/step - loss: nan - accuracy: 0.9968\n",
            "Epoch 60/100\n",
            "52/52 [==============================] - 1s 12ms/step - loss: nan - accuracy: 0.9968\n",
            "Epoch 61/100\n",
            "52/52 [==============================] - 1s 15ms/step - loss: nan - accuracy: 0.9968\n",
            "Epoch 62/100\n",
            "52/52 [==============================] - 1s 12ms/step - loss: nan - accuracy: 0.9968\n",
            "Epoch 63/100\n",
            "52/52 [==============================] - 1s 12ms/step - loss: nan - accuracy: 0.9968\n",
            "Epoch 64/100\n",
            "52/52 [==============================] - 1s 14ms/step - loss: nan - accuracy: 0.9968\n",
            "Epoch 65/100\n",
            "52/52 [==============================] - 1s 14ms/step - loss: nan - accuracy: 0.9968\n",
            "Epoch 66/100\n",
            "52/52 [==============================] - 1s 17ms/step - loss: nan - accuracy: 0.9968\n",
            "Epoch 67/100\n",
            "52/52 [==============================] - 1s 13ms/step - loss: nan - accuracy: 0.9968\n",
            "Epoch 68/100\n",
            "52/52 [==============================] - 1s 12ms/step - loss: nan - accuracy: 0.9968\n",
            "Epoch 69/100\n",
            "52/52 [==============================] - 1s 11ms/step - loss: nan - accuracy: 0.9968\n",
            "Epoch 70/100\n",
            "52/52 [==============================] - 1s 12ms/step - loss: nan - accuracy: 0.9968\n",
            "Epoch 71/100\n",
            "52/52 [==============================] - 1s 16ms/step - loss: nan - accuracy: 0.9968\n",
            "Epoch 72/100\n",
            "52/52 [==============================] - 1s 14ms/step - loss: nan - accuracy: 0.9968\n",
            "Epoch 73/100\n",
            "52/52 [==============================] - 1s 12ms/step - loss: nan - accuracy: 0.9968\n",
            "Epoch 74/100\n",
            "52/52 [==============================] - 1s 15ms/step - loss: nan - accuracy: 0.9968\n",
            "Epoch 75/100\n",
            "52/52 [==============================] - 1s 14ms/step - loss: nan - accuracy: 0.9968\n",
            "Epoch 76/100\n",
            "52/52 [==============================] - 1s 17ms/step - loss: nan - accuracy: 0.9968\n",
            "Epoch 77/100\n",
            "52/52 [==============================] - 1s 12ms/step - loss: nan - accuracy: 0.9968\n",
            "Epoch 78/100\n",
            "52/52 [==============================] - 1s 12ms/step - loss: nan - accuracy: 0.9968\n",
            "Epoch 79/100\n",
            "52/52 [==============================] - 1s 12ms/step - loss: nan - accuracy: 0.9968\n",
            "Epoch 80/100\n",
            "52/52 [==============================] - 1s 12ms/step - loss: nan - accuracy: 0.9968\n",
            "Epoch 81/100\n",
            "52/52 [==============================] - 1s 12ms/step - loss: nan - accuracy: 0.9968\n",
            "Epoch 82/100\n",
            "52/52 [==============================] - 1s 12ms/step - loss: nan - accuracy: 0.9968\n",
            "Epoch 83/100\n",
            "52/52 [==============================] - 1s 13ms/step - loss: nan - accuracy: 0.9968\n",
            "Epoch 84/100\n",
            "52/52 [==============================] - 1s 12ms/step - loss: nan - accuracy: 0.9968\n",
            "Epoch 85/100\n",
            "52/52 [==============================] - 1s 12ms/step - loss: nan - accuracy: 0.9968\n",
            "Epoch 86/100\n",
            "52/52 [==============================] - 1s 12ms/step - loss: nan - accuracy: 0.9968\n",
            "Epoch 87/100\n",
            "52/52 [==============================] - 1s 12ms/step - loss: nan - accuracy: 0.9968\n",
            "Epoch 88/100\n",
            "52/52 [==============================] - 1s 12ms/step - loss: nan - accuracy: 0.9968\n",
            "Epoch 89/100\n",
            "52/52 [==============================] - 1s 12ms/step - loss: nan - accuracy: 0.9968\n",
            "Epoch 90/100\n",
            "52/52 [==============================] - 1s 12ms/step - loss: nan - accuracy: 0.9968\n",
            "Epoch 91/100\n",
            "52/52 [==============================] - 1s 12ms/step - loss: nan - accuracy: 0.9968\n",
            "Epoch 92/100\n",
            "52/52 [==============================] - 1s 12ms/step - loss: nan - accuracy: 0.9968\n",
            "Epoch 93/100\n",
            "52/52 [==============================] - 1s 12ms/step - loss: nan - accuracy: 0.9968\n",
            "Epoch 94/100\n",
            "52/52 [==============================] - 1s 13ms/step - loss: nan - accuracy: 0.9968\n",
            "Epoch 95/100\n",
            "52/52 [==============================] - 1s 12ms/step - loss: nan - accuracy: 0.9968\n",
            "Epoch 96/100\n",
            "52/52 [==============================] - 1s 12ms/step - loss: nan - accuracy: 0.9968\n",
            "Epoch 97/100\n",
            "52/52 [==============================] - 1s 13ms/step - loss: nan - accuracy: 0.9968\n",
            "Epoch 98/100\n",
            "52/52 [==============================] - 1s 12ms/step - loss: nan - accuracy: 0.9968\n",
            "Epoch 99/100\n",
            "52/52 [==============================] - 1s 12ms/step - loss: nan - accuracy: 0.9968\n",
            "Epoch 100/100\n",
            "52/52 [==============================] - 1s 12ms/step - loss: nan - accuracy: 0.9968\n"
          ]
        },
        {
          "output_type": "execute_result",
          "data": {
            "text/plain": [
              "<keras.callbacks.History at 0x7f7506c66990>"
            ]
          },
          "metadata": {},
          "execution_count": 61
        }
      ]
    },
    {
      "cell_type": "markdown",
      "source": [
        "sepertinya nilai loss masih tetap nan dan akurasi masih 0.99. sesuaikan kembali hyperparameternya"
      ],
      "metadata": {
        "id": "dluVkrdG3hAc"
      }
    },
    {
      "cell_type": "markdown",
      "source": [
        "## percobaan ke-10"
      ],
      "metadata": {
        "id": "fCQ007NQ3sCj"
      }
    },
    {
      "cell_type": "code",
      "source": [
        "annmodelrework.add(tf.keras.layers.Dense(units=30, activation='relu'))\n",
        "annmodelrework.add(tf.keras.layers.BatchNormalization())\n",
        "annmodelrework.add(tf.keras.layers.Dropout(0.2))\n",
        "annmodelrework.add(tf.keras.layers.Dense(units=30, activation='relu'))\n",
        "annmodelrework.add(tf.keras.layers.BatchNormalization())\n",
        "annmodelrework.add(tf.keras.layers.Dropout(0.2))\n",
        "annmodelrework.add(tf.keras.layers.Dense(units=30, activation='relu'))\n",
        "annmodelrework.add(tf.keras.layers.BatchNormalization())\n",
        "annmodelrework.add(tf.keras.layers.Dropout(0.2))\n",
        "annmodelrework.add(tf.keras.layers.Dense(units=1, activation='sigmoid'))"
      ],
      "metadata": {
        "id": "Cxx3HAc13t-J"
      },
      "execution_count": null,
      "outputs": []
    },
    {
      "cell_type": "code",
      "source": [
        "annmodelrework.fit(X_train, y_train, batch_size=128, epochs=100)"
      ],
      "metadata": {
        "colab": {
          "base_uri": "https://localhost:8080/"
        },
        "id": "fyfG2qOF30fV",
        "outputId": "948d61e3-79f8-4543-f855-bde50e82ad60"
      },
      "execution_count": null,
      "outputs": [
        {
          "output_type": "stream",
          "name": "stdout",
          "text": [
            "Epoch 1/100\n",
            "52/52 [==============================] - 1s 12ms/step - loss: nan - accuracy: 0.9968\n",
            "Epoch 2/100\n",
            "52/52 [==============================] - 1s 12ms/step - loss: nan - accuracy: 0.9968\n",
            "Epoch 3/100\n",
            "52/52 [==============================] - 1s 12ms/step - loss: nan - accuracy: 0.9968\n",
            "Epoch 4/100\n",
            "52/52 [==============================] - 1s 13ms/step - loss: nan - accuracy: 0.9968\n",
            "Epoch 5/100\n",
            "52/52 [==============================] - 1s 12ms/step - loss: nan - accuracy: 0.9968\n",
            "Epoch 6/100\n",
            "52/52 [==============================] - 1s 12ms/step - loss: nan - accuracy: 0.9968\n",
            "Epoch 7/100\n",
            "52/52 [==============================] - 1s 13ms/step - loss: nan - accuracy: 0.9968\n",
            "Epoch 8/100\n",
            "52/52 [==============================] - 1s 17ms/step - loss: nan - accuracy: 0.9968\n",
            "Epoch 9/100\n",
            "52/52 [==============================] - 1s 13ms/step - loss: nan - accuracy: 0.9968\n",
            "Epoch 10/100\n",
            "52/52 [==============================] - 1s 12ms/step - loss: nan - accuracy: 0.9968\n",
            "Epoch 11/100\n",
            "52/52 [==============================] - 1s 12ms/step - loss: nan - accuracy: 0.9968\n",
            "Epoch 12/100\n",
            "52/52 [==============================] - 1s 12ms/step - loss: nan - accuracy: 0.9968\n",
            "Epoch 13/100\n",
            "52/52 [==============================] - 1s 12ms/step - loss: nan - accuracy: 0.9968\n",
            "Epoch 14/100\n",
            "52/52 [==============================] - 1s 12ms/step - loss: nan - accuracy: 0.9968\n",
            "Epoch 15/100\n",
            "52/52 [==============================] - 1s 12ms/step - loss: nan - accuracy: 0.9968\n",
            "Epoch 16/100\n",
            "52/52 [==============================] - 1s 13ms/step - loss: nan - accuracy: 0.9968\n",
            "Epoch 17/100\n",
            "52/52 [==============================] - 1s 13ms/step - loss: nan - accuracy: 0.9968\n",
            "Epoch 18/100\n",
            "52/52 [==============================] - 1s 12ms/step - loss: nan - accuracy: 0.9968\n",
            "Epoch 19/100\n",
            "52/52 [==============================] - 1s 12ms/step - loss: nan - accuracy: 0.9968\n",
            "Epoch 20/100\n",
            "52/52 [==============================] - 1s 12ms/step - loss: nan - accuracy: 0.9968\n",
            "Epoch 21/100\n",
            "52/52 [==============================] - 1s 12ms/step - loss: nan - accuracy: 0.9968\n",
            "Epoch 22/100\n",
            "52/52 [==============================] - 1s 16ms/step - loss: nan - accuracy: 0.9968\n",
            "Epoch 23/100\n",
            "52/52 [==============================] - 1s 16ms/step - loss: nan - accuracy: 0.9968\n",
            "Epoch 24/100\n",
            "52/52 [==============================] - 1s 12ms/step - loss: nan - accuracy: 0.9968\n",
            "Epoch 25/100\n",
            "52/52 [==============================] - 1s 12ms/step - loss: nan - accuracy: 0.9968\n",
            "Epoch 26/100\n",
            "52/52 [==============================] - 1s 12ms/step - loss: nan - accuracy: 0.9968\n",
            "Epoch 27/100\n",
            "52/52 [==============================] - 1s 12ms/step - loss: nan - accuracy: 0.9968\n",
            "Epoch 28/100\n",
            "52/52 [==============================] - 1s 12ms/step - loss: nan - accuracy: 0.9968\n",
            "Epoch 29/100\n",
            "52/52 [==============================] - 1s 12ms/step - loss: nan - accuracy: 0.9968\n",
            "Epoch 30/100\n",
            "52/52 [==============================] - 1s 12ms/step - loss: nan - accuracy: 0.9968\n",
            "Epoch 31/100\n",
            "52/52 [==============================] - 1s 12ms/step - loss: nan - accuracy: 0.9968\n",
            "Epoch 32/100\n",
            "52/52 [==============================] - 1s 12ms/step - loss: nan - accuracy: 0.9968\n",
            "Epoch 33/100\n",
            "52/52 [==============================] - 1s 12ms/step - loss: nan - accuracy: 0.9968\n",
            "Epoch 34/100\n",
            "52/52 [==============================] - 1s 12ms/step - loss: nan - accuracy: 0.9968\n",
            "Epoch 35/100\n",
            "52/52 [==============================] - 1s 12ms/step - loss: nan - accuracy: 0.9968\n",
            "Epoch 36/100\n",
            "52/52 [==============================] - 1s 12ms/step - loss: nan - accuracy: 0.9968\n",
            "Epoch 37/100\n",
            "52/52 [==============================] - 1s 13ms/step - loss: nan - accuracy: 0.9968\n",
            "Epoch 38/100\n",
            "52/52 [==============================] - 1s 12ms/step - loss: nan - accuracy: 0.9968\n",
            "Epoch 39/100\n",
            "52/52 [==============================] - 1s 13ms/step - loss: nan - accuracy: 0.9968\n",
            "Epoch 40/100\n",
            "52/52 [==============================] - 1s 12ms/step - loss: nan - accuracy: 0.9968\n",
            "Epoch 41/100\n",
            "52/52 [==============================] - 1s 12ms/step - loss: nan - accuracy: 0.9968\n",
            "Epoch 42/100\n",
            "52/52 [==============================] - 1s 12ms/step - loss: nan - accuracy: 0.9968\n",
            "Epoch 43/100\n",
            "52/52 [==============================] - 1s 12ms/step - loss: nan - accuracy: 0.9968\n",
            "Epoch 44/100\n",
            "52/52 [==============================] - 1s 12ms/step - loss: nan - accuracy: 0.9968\n",
            "Epoch 45/100\n",
            "52/52 [==============================] - 1s 12ms/step - loss: nan - accuracy: 0.9968\n",
            "Epoch 46/100\n",
            "52/52 [==============================] - 1s 12ms/step - loss: nan - accuracy: 0.9968\n",
            "Epoch 47/100\n",
            "52/52 [==============================] - 1s 12ms/step - loss: nan - accuracy: 0.9968\n",
            "Epoch 48/100\n",
            "52/52 [==============================] - 1s 12ms/step - loss: nan - accuracy: 0.9968\n",
            "Epoch 49/100\n",
            "52/52 [==============================] - 1s 12ms/step - loss: nan - accuracy: 0.9968\n",
            "Epoch 50/100\n",
            "52/52 [==============================] - 1s 12ms/step - loss: nan - accuracy: 0.9968\n",
            "Epoch 51/100\n",
            "52/52 [==============================] - 1s 12ms/step - loss: nan - accuracy: 0.9968\n",
            "Epoch 52/100\n",
            "52/52 [==============================] - 1s 12ms/step - loss: nan - accuracy: 0.9968\n",
            "Epoch 53/100\n",
            "52/52 [==============================] - 1s 12ms/step - loss: nan - accuracy: 0.9968\n",
            "Epoch 54/100\n",
            "52/52 [==============================] - 1s 12ms/step - loss: nan - accuracy: 0.9968\n",
            "Epoch 55/100\n",
            "52/52 [==============================] - 1s 12ms/step - loss: nan - accuracy: 0.9968\n",
            "Epoch 56/100\n",
            "52/52 [==============================] - 1s 12ms/step - loss: nan - accuracy: 0.9968\n",
            "Epoch 57/100\n",
            "52/52 [==============================] - 1s 12ms/step - loss: nan - accuracy: 0.9968\n",
            "Epoch 58/100\n",
            "52/52 [==============================] - 1s 12ms/step - loss: nan - accuracy: 0.9968\n",
            "Epoch 59/100\n",
            "52/52 [==============================] - 1s 12ms/step - loss: nan - accuracy: 0.9968\n",
            "Epoch 60/100\n",
            "52/52 [==============================] - 1s 12ms/step - loss: nan - accuracy: 0.9968\n",
            "Epoch 61/100\n",
            "52/52 [==============================] - 1s 12ms/step - loss: nan - accuracy: 0.9968\n",
            "Epoch 62/100\n",
            "52/52 [==============================] - 1s 12ms/step - loss: nan - accuracy: 0.9968\n",
            "Epoch 63/100\n",
            "52/52 [==============================] - 1s 14ms/step - loss: nan - accuracy: 0.9968\n",
            "Epoch 64/100\n",
            "52/52 [==============================] - 1s 13ms/step - loss: nan - accuracy: 0.9968\n",
            "Epoch 65/100\n",
            "52/52 [==============================] - 1s 13ms/step - loss: nan - accuracy: 0.9968\n",
            "Epoch 66/100\n",
            "52/52 [==============================] - 1s 12ms/step - loss: nan - accuracy: 0.9968\n",
            "Epoch 67/100\n",
            "52/52 [==============================] - 1s 11ms/step - loss: nan - accuracy: 0.9968\n",
            "Epoch 68/100\n",
            "52/52 [==============================] - 1s 13ms/step - loss: nan - accuracy: 0.9968\n",
            "Epoch 69/100\n",
            "52/52 [==============================] - 1s 13ms/step - loss: nan - accuracy: 0.9968\n",
            "Epoch 70/100\n",
            "52/52 [==============================] - 1s 12ms/step - loss: nan - accuracy: 0.9968\n",
            "Epoch 71/100\n",
            "52/52 [==============================] - 1s 12ms/step - loss: nan - accuracy: 0.9968\n",
            "Epoch 72/100\n",
            "52/52 [==============================] - 1s 12ms/step - loss: nan - accuracy: 0.9968\n",
            "Epoch 73/100\n",
            "52/52 [==============================] - 1s 12ms/step - loss: nan - accuracy: 0.9968\n",
            "Epoch 74/100\n",
            "52/52 [==============================] - 1s 12ms/step - loss: nan - accuracy: 0.9968\n",
            "Epoch 75/100\n",
            "52/52 [==============================] - 1s 12ms/step - loss: nan - accuracy: 0.9968\n",
            "Epoch 76/100\n",
            "52/52 [==============================] - 1s 12ms/step - loss: nan - accuracy: 0.9968\n",
            "Epoch 77/100\n",
            "52/52 [==============================] - 1s 12ms/step - loss: nan - accuracy: 0.9968\n",
            "Epoch 78/100\n",
            "52/52 [==============================] - 1s 12ms/step - loss: nan - accuracy: 0.9968\n",
            "Epoch 79/100\n",
            "52/52 [==============================] - 1s 12ms/step - loss: nan - accuracy: 0.9968\n",
            "Epoch 80/100\n",
            "52/52 [==============================] - 1s 12ms/step - loss: nan - accuracy: 0.9968\n",
            "Epoch 81/100\n",
            "52/52 [==============================] - 1s 12ms/step - loss: nan - accuracy: 0.9968\n",
            "Epoch 82/100\n",
            "52/52 [==============================] - 1s 12ms/step - loss: nan - accuracy: 0.9968\n",
            "Epoch 83/100\n",
            "52/52 [==============================] - 1s 12ms/step - loss: nan - accuracy: 0.9968\n",
            "Epoch 84/100\n",
            "52/52 [==============================] - 1s 12ms/step - loss: nan - accuracy: 0.9968\n",
            "Epoch 85/100\n",
            "52/52 [==============================] - 1s 12ms/step - loss: nan - accuracy: 0.9968\n",
            "Epoch 86/100\n",
            "52/52 [==============================] - 1s 12ms/step - loss: nan - accuracy: 0.9968\n",
            "Epoch 87/100\n",
            "52/52 [==============================] - 1s 12ms/step - loss: nan - accuracy: 0.9968\n",
            "Epoch 88/100\n",
            "52/52 [==============================] - 1s 15ms/step - loss: nan - accuracy: 0.9968\n",
            "Epoch 89/100\n",
            "52/52 [==============================] - 1s 17ms/step - loss: nan - accuracy: 0.9968\n",
            "Epoch 90/100\n",
            "52/52 [==============================] - 1s 24ms/step - loss: nan - accuracy: 0.9968\n",
            "Epoch 91/100\n",
            "52/52 [==============================] - 1s 23ms/step - loss: nan - accuracy: 0.9968\n",
            "Epoch 92/100\n",
            "52/52 [==============================] - 1s 12ms/step - loss: nan - accuracy: 0.9968\n",
            "Epoch 93/100\n",
            "52/52 [==============================] - 1s 12ms/step - loss: nan - accuracy: 0.9968\n",
            "Epoch 94/100\n",
            "52/52 [==============================] - 1s 18ms/step - loss: nan - accuracy: 0.9968\n",
            "Epoch 95/100\n",
            "52/52 [==============================] - 1s 17ms/step - loss: nan - accuracy: 0.9968\n",
            "Epoch 96/100\n",
            "52/52 [==============================] - 1s 16ms/step - loss: nan - accuracy: 0.9968\n",
            "Epoch 97/100\n",
            "52/52 [==============================] - 1s 21ms/step - loss: nan - accuracy: 0.9968\n",
            "Epoch 98/100\n",
            "52/52 [==============================] - 1s 16ms/step - loss: nan - accuracy: 0.9968\n",
            "Epoch 99/100\n",
            "52/52 [==============================] - 1s 17ms/step - loss: nan - accuracy: 0.9968\n",
            "Epoch 100/100\n",
            "52/52 [==============================] - 1s 15ms/step - loss: nan - accuracy: 0.9968\n"
          ]
        },
        {
          "output_type": "execute_result",
          "data": {
            "text/plain": [
              "<keras.callbacks.History at 0x7f7506412d50>"
            ]
          },
          "metadata": {},
          "execution_count": 63
        }
      ]
    },
    {
      "cell_type": "markdown",
      "source": [
        "hasil akhir percobaan ke-10 nilai loss masih tetap nan dan akurasi masih 0.99."
      ],
      "metadata": {
        "id": "00m00Ecy3yw6"
      }
    },
    {
      "cell_type": "markdown",
      "source": [
        "hasil yang didapatkan adalah model belum dapat memprediksi val loss dan accuray yang baik. Ini dikarenakan mungkin masih terdapat data yang overfit sehingga setelah dinormalisasi dan dropout layer pun masih menghasilkan model yang kurang bagus"
      ],
      "metadata": {
        "id": "P-99RCFM7hKO"
      }
    },
    {
      "cell_type": "markdown",
      "source": [
        "compile ann"
      ],
      "metadata": {
        "id": "mTJ82aVbzG14"
      }
    },
    {
      "cell_type": "code",
      "source": [
        "annmodelrework.compile(optimizer= 'adam', loss= 'binary_crossentropy', metrics= ['accuracy'])"
      ],
      "metadata": {
        "id": "0ZWqhRNgzEq0"
      },
      "execution_count": null,
      "outputs": []
    },
    {
      "cell_type": "markdown",
      "source": [
        "# 1e. performa analisis"
      ],
      "metadata": {
        "id": "DuxiCmQnIkdk"
      }
    },
    {
      "cell_type": "code",
      "source": [
        "y_pred = annmodel.predict(X_test)\n",
        "y_pred = (y_pred > 0.5)\n",
        "print(np.concatenate((y_pred.reshape(len(y_pred),1), y_test.reshape(len(y_test),1)),1))"
      ],
      "metadata": {
        "colab": {
          "base_uri": "https://localhost:8080/"
        },
        "id": "geufvzGSJpPk",
        "outputId": "6fe10531-44c3-4e81-8dba-fef0a9e69692"
      },
      "execution_count": null,
      "outputs": [
        {
          "output_type": "stream",
          "name": "stdout",
          "text": [
            "26/26 [==============================] - 0s 1ms/step\n",
            "[[0. 0.]\n",
            " [0. 0.]\n",
            " [0. 0.]\n",
            " ...\n",
            " [0. 0.]\n",
            " [0. 0.]\n",
            " [0. 0.]]\n"
          ]
        }
      ]
    },
    {
      "cell_type": "code",
      "source": [
        "#print confusion matrix and classification report\n",
        "from sklearn.metrics import classification_report, confusion_matrix, accuracy_score\n",
        "print(confusion_matrix(y_test, y_pred))\n",
        "print(classification_report(y_test, y_pred))"
      ],
      "metadata": {
        "colab": {
          "base_uri": "https://localhost:8080/"
        },
        "id": "SbJOU8NjIjqg",
        "outputId": "95a76739-8394-4b8b-daf6-91ab5bfabe45"
      },
      "execution_count": null,
      "outputs": [
        {
          "output_type": "stream",
          "name": "stdout",
          "text": [
            "[[825   0]\n",
            " [  5   0]]\n",
            "              precision    recall  f1-score   support\n",
            "\n",
            "         0.0       0.99      1.00      1.00       825\n",
            "         1.0       0.00      0.00      0.00         5\n",
            "\n",
            "    accuracy                           0.99       830\n",
            "   macro avg       0.50      0.50      0.50       830\n",
            "weighted avg       0.99      0.99      0.99       830\n",
            "\n"
          ]
        },
        {
          "output_type": "stream",
          "name": "stderr",
          "text": [
            "/usr/local/lib/python3.7/dist-packages/sklearn/metrics/_classification.py:1318: UndefinedMetricWarning: Precision and F-score are ill-defined and being set to 0.0 in labels with no predicted samples. Use `zero_division` parameter to control this behavior.\n",
            "  _warn_prf(average, modifier, msg_start, len(result))\n",
            "/usr/local/lib/python3.7/dist-packages/sklearn/metrics/_classification.py:1318: UndefinedMetricWarning: Precision and F-score are ill-defined and being set to 0.0 in labels with no predicted samples. Use `zero_division` parameter to control this behavior.\n",
            "  _warn_prf(average, modifier, msg_start, len(result))\n",
            "/usr/local/lib/python3.7/dist-packages/sklearn/metrics/_classification.py:1318: UndefinedMetricWarning: Precision and F-score are ill-defined and being set to 0.0 in labels with no predicted samples. Use `zero_division` parameter to control this behavior.\n",
            "  _warn_prf(average, modifier, msg_start, len(result))\n"
          ]
        }
      ]
    },
    {
      "cell_type": "markdown",
      "source": [],
      "metadata": {
        "id": "h2rI2hX59p_j"
      }
    },
    {
      "cell_type": "code",
      "source": [
        "cm = confusion_matrix(y_test, y_pred)\n",
        "print(cm)\n",
        "accuracy_score(y_test, y_pred)"
      ],
      "metadata": {
        "colab": {
          "base_uri": "https://localhost:8080/"
        },
        "id": "SULJ3-_NJWVF",
        "outputId": "6e271a2f-938f-4865-c7aa-9f343100fd82"
      },
      "execution_count": null,
      "outputs": [
        {
          "output_type": "stream",
          "name": "stdout",
          "text": [
            "[[825   0]\n",
            " [  5   0]]\n"
          ]
        },
        {
          "output_type": "execute_result",
          "data": {
            "text/plain": [
              "0.9939759036144579"
            ]
          },
          "metadata": {},
          "execution_count": 47
        }
      ]
    },
    {
      "cell_type": "markdown",
      "source": [
        "analisis:\n",
        "performa dari arsitektur yang terdapat pada 1e dapat dikatakan belum memiliki performa yang baik sama juga dengan arstiktur pada 1d. Keduanya mempunyai val loss nan dan accuracy yang tinggi. Masih terdapat overfitting problem yang tidak terdeteksi. Penambahan dropout layer dan batch normalization sepertinya belum mampu untuk meingkatkan performa dari model"
      ],
      "metadata": {
        "id": "3xWPR0N69Dsq"
      }
    }
  ]
}