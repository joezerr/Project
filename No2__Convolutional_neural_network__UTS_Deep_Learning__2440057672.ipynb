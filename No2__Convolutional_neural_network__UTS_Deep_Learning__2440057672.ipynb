{
  "cells": [
    {
      "cell_type": "markdown",
      "metadata": {
        "id": "view-in-github",
        "colab_type": "text"
      },
      "source": [
        "<a href=\"https://colab.research.google.com/github/joezerr/Project/blob/main/No2__Convolutional_neural_network__UTS_Deep_Learning__2440057672.ipynb\" target=\"_parent\"><img src=\"https://colab.research.google.com/assets/colab-badge.svg\" alt=\"Open In Colab\"/></a>"
      ]
    },
    {
      "cell_type": "markdown",
      "id": "51fa2893",
      "metadata": {
        "id": "51fa2893"
      },
      "source": [
        "reference: \n",
        "- https://keras.io/api/models/model_training_apis/\n",
        "- https://www.tensorflow.org/api_docs/python/tf/keras/layers/Dense\n",
        "- https://keras.io/api/layers/convolution_layers/convolution2d/\n",
        "- https://towardsdatascience.com/a-guide-to-an-efficient-way-to-build-neural-network-architectures-part-ii-hyper-parameter-42efca01e5d7\n",
        "- https://stackoverflow.com/questions/71704268/using-tf-keras-utils-image-dataset-from-directory-with-label-list\n",
        "- https://towardsdatascience.com/how-to-predict-an-image-with-keras-ca97d9cd4817\n",
        "- https://towardsdatascience.com/handling-overfitting-in-deep-learning-models-c760ee047c6e"
      ]
    },
    {
      "cell_type": "code",
      "execution_count": null,
      "id": "2b4aaea7",
      "metadata": {
        "scrolled": true,
        "id": "2b4aaea7",
        "outputId": "4833575f-327b-4eeb-86c5-e49c96382894"
      },
      "outputs": [
        {
          "name": "stdout",
          "output_type": "stream",
          "text": [
            "Requirement already satisfied: tensorflow in d:\\programs\\anaconda\\lib\\site-packages (2.11.0)\n",
            "Collecting tensorflow-gpu\n",
            "  Using cached tensorflow_gpu-2.10.1-cp39-cp39-win_amd64.whl (455.9 MB)\n",
            "Collecting opencv-python\n",
            "  Using cached opencv_python-4.6.0.66-cp36-abi3-win_amd64.whl (35.6 MB)\n",
            "Note: you may need to restart the kernel to use updated packages.\n"
          ]
        },
        {
          "name": "stderr",
          "output_type": "stream",
          "text": [
            "ERROR: Could not find a version that satisfies the requirement matpotlib (from versions: none)\n",
            "ERROR: No matching distribution found for matpotlib\n"
          ]
        }
      ],
      "source": [
        "pip install tensorflow tensorflow-gpu opencv-python matpotlib"
      ]
    },
    {
      "cell_type": "markdown",
      "id": "378c7569",
      "metadata": {
        "id": "378c7569"
      },
      "source": [
        "# IMPORT LIBRARIES"
      ]
    },
    {
      "cell_type": "code",
      "execution_count": null,
      "id": "c83e248c",
      "metadata": {
        "id": "c83e248c"
      },
      "outputs": [],
      "source": [
        "import tensorflow as tf\n",
        "import os"
      ]
    },
    {
      "cell_type": "code",
      "execution_count": null,
      "id": "03290d96",
      "metadata": {
        "id": "03290d96",
        "outputId": "6439b369-1ab0-469f-d9d9-9055a9a4f843"
      },
      "outputs": [
        {
          "name": "stdout",
          "output_type": "stream",
          "text": [
            "Package                            Version\n",
            "---------------------------------- --------------------\n",
            "absl-py                            1.3.0\n",
            "alabaster                          0.7.12\n",
            "anaconda-client                    1.9.0\n",
            "anaconda-navigator                 2.1.1\n",
            "anaconda-project                   0.10.1\n",
            "anyio                              2.2.0\n",
            "appdirs                            1.4.4\n",
            "argh                               0.26.2\n",
            "argon2-cffi                        20.1.0\n",
            "arrow                              0.13.1\n",
            "asn1crypto                         1.4.0\n",
            "astroid                            2.6.6\n",
            "astropy                            4.3.1\n",
            "astunparse                         1.6.3\n",
            "async-generator                    1.10\n",
            "atomicwrites                       1.4.0\n",
            "attrs                              21.2.0\n",
            "autopep8                           1.5.7\n",
            "Babel                              2.9.1\n",
            "backcall                           0.2.0\n",
            "backports.functools-lru-cache      1.6.4\n",
            "backports.shutil-get-terminal-size 1.0.0\n",
            "backports.tempfile                 1.0\n",
            "backports.weakref                  1.0.post1\n",
            "bcrypt                             3.2.0\n",
            "beautifulsoup4                     4.10.0\n",
            "binaryornot                        0.4.4\n",
            "bitarray                           2.3.0\n",
            "bkcharts                           0.2\n",
            "black                              19.10b0\n",
            "bleach                             4.0.0\n",
            "bokeh                              2.4.1\n",
            "boto                               2.49.0\n",
            "Bottleneck                         1.3.2\n",
            "brotlipy                           0.7.0\n",
            "cached-property                    1.5.2\n",
            "cachetools                         5.2.0\n",
            "certifi                            2021.10.8\n",
            "cffi                               1.14.6\n",
            "chardet                            4.0.0\n",
            "charset-normalizer                 2.0.4\n",
            "click                              8.0.3\n",
            "cloudpickle                        2.0.0\n",
            "clyent                             1.2.2\n",
            "colorama                           0.4.4\n",
            "comtypes                           1.1.10\n",
            "conda                              4.10.3\n",
            "conda-build                        3.21.6\n",
            "conda-content-trust                0+unknown\n",
            "conda-pack                         0.6.0\n",
            "conda-package-handling             1.7.3\n",
            "conda-repo-cli                     1.0.4\n",
            "conda-token                        0.3.0\n",
            "conda-verify                       3.4.2\n",
            "contextlib2                        0.6.0.post1\n",
            "cookiecutter                       1.7.2\n",
            "cryptography                       3.4.8\n",
            "cycler                             0.10.0\n",
            "Cython                             0.29.24\n",
            "cytoolz                            0.11.0\n",
            "daal4py                            2021.3.0\n",
            "dask                               2021.10.0\n",
            "debugpy                            1.4.1\n",
            "decorator                          5.1.0\n",
            "defusedxml                         0.7.1\n",
            "diff-match-patch                   20200713\n",
            "distributed                        2021.10.0\n",
            "docutils                           0.17.1\n",
            "entrypoints                        0.3\n",
            "et-xmlfile                         1.1.0\n",
            "fastcache                          1.1.0\n",
            "filelock                           3.3.1\n",
            "flake8                             3.9.2\n",
            "Flask                              1.1.2\n",
            "flatbuffers                        22.10.26\n",
            "fonttools                          4.25.0\n",
            "fsspec                             2021.10.1\n",
            "future                             0.18.2\n",
            "gast                               0.4.0\n",
            "gevent                             21.8.0\n",
            "glob2                              0.7\n",
            "google-auth                        2.14.1\n",
            "google-auth-oauthlib               0.4.6\n",
            "google-pasta                       0.2.0\n",
            "greenlet                           1.1.1\n",
            "grpcio                             1.50.0\n",
            "h5py                               3.2.1\n",
            "HeapDict                           1.0.1\n",
            "html5lib                           1.1\n",
            "idna                               3.2\n",
            "imagecodecs                        2021.8.26\n",
            "imageio                            2.9.0\n",
            "imagesize                          1.2.0\n",
            "importlib-metadata                 4.8.1\n",
            "inflection                         0.5.1\n",
            "iniconfig                          1.1.1\n",
            "intervaltree                       3.1.0\n",
            "ipykernel                          6.4.1\n",
            "ipython                            7.29.0\n",
            "ipython-genutils                   0.2.0\n",
            "ipywidgets                         7.6.5\n",
            "isort                              5.9.3\n",
            "itsdangerous                       2.0.1\n",
            "jdcal                              1.4.1\n",
            "jedi                               0.18.0\n",
            "Jinja2                             2.11.3\n",
            "jinja2-time                        0.2.0\n",
            "joblib                             1.1.0\n",
            "json5                              0.9.6\n",
            "jsonschema                         3.2.0\n",
            "jupyter                            1.0.0\n",
            "jupyter-client                     6.1.12\n",
            "jupyter-console                    6.4.0\n",
            "jupyter-core                       4.8.1\n",
            "jupyter-server                     1.4.1\n",
            "jupyterlab                         3.2.1\n",
            "jupyterlab-pygments                0.1.2\n",
            "jupyterlab-server                  2.8.2\n",
            "jupyterlab-widgets                 1.0.0\n",
            "keras                              2.11.0\n",
            "keras-tuner                        1.1.3\n",
            "keyring                            23.1.0\n",
            "kiwisolver                         1.3.1\n",
            "kt-legacy                          1.0.4\n",
            "lazy-object-proxy                  1.6.0\n",
            "libarchive-c                       2.9\n",
            "libclang                           14.0.6\n",
            "llvmlite                           0.37.0\n",
            "locket                             0.2.1\n",
            "lxml                               4.6.3\n",
            "Markdown                           3.4.1\n",
            "MarkupSafe                         1.1.1\n",
            "matplotlib                         3.4.3\n",
            "matplotlib-inline                  0.1.2\n",
            "mccabe                             0.6.1\n",
            "menuinst                           1.4.18\n",
            "mistune                            0.8.4\n",
            "mkl-fft                            1.3.1\n",
            "mkl-random                         1.2.2\n",
            "mkl-service                        2.4.0\n",
            "mock                               4.0.3\n",
            "more-itertools                     8.10.0\n",
            "mpmath                             1.2.1\n",
            "msgpack                            1.0.2\n",
            "multipledispatch                   0.6.0\n",
            "munkres                            1.1.4\n",
            "mypy-extensions                    0.4.3\n",
            "navigator-updater                  0.2.1\n",
            "nbclassic                          0.2.6\n",
            "nbclient                           0.5.3\n",
            "nbconvert                          6.1.0\n",
            "nbformat                           5.1.3\n",
            "nest-asyncio                       1.5.1\n",
            "networkx                           2.6.3\n",
            "nltk                               3.6.5\n",
            "nose                               1.3.7\n",
            "notebook                           6.4.5\n",
            "numba                              0.54.1\n",
            "numexpr                            2.7.3\n",
            "numpy                              1.20.3\n",
            "numpydoc                           1.1.0\n",
            "Note: you may need to restart the kernel to use updated packages.\n",
            "oauthlib                           3.2.2\n",
            "olefile                            0.46\n",
            "openpyxl                           3.0.9\n",
            "opt-einsum                         3.3.0\n",
            "packaging                          21.0\n",
            "pandas                             1.3.4\n",
            "pandocfilters                      1.4.3\n",
            "paramiko                           2.7.2\n",
            "parso                              0.8.2\n",
            "partd                              1.2.0\n",
            "path                               16.0.0\n",
            "pathlib2                           2.3.6\n",
            "pathspec                           0.7.0\n",
            "patsy                              0.5.2\n",
            "pep8                               1.7.1\n",
            "pexpect                            4.8.0\n",
            "pickleshare                        0.7.5\n",
            "Pillow                             8.4.0\n",
            "pip                                21.2.4\n",
            "pkginfo                            1.7.1\n",
            "pluggy                             0.13.1\n",
            "ply                                3.11\n",
            "poyo                               0.5.0\n",
            "prometheus-client                  0.11.0\n",
            "prompt-toolkit                     3.0.20\n",
            "protobuf                           3.19.6\n",
            "psutil                             5.8.0\n",
            "ptyprocess                         0.7.0\n",
            "py                                 1.10.0\n",
            "pyasn1                             0.4.8\n",
            "pyasn1-modules                     0.2.8\n",
            "pycodestyle                        2.7.0\n",
            "pycosat                            0.6.3\n",
            "pycparser                          2.20\n",
            "pycurl                             7.44.1\n",
            "pydocstyle                         6.1.1\n",
            "pyerfa                             2.0.0\n",
            "pyflakes                           2.3.1\n",
            "Pygments                           2.10.0\n",
            "PyJWT                              2.1.0\n",
            "pylint                             2.9.6\n",
            "pyls-spyder                        0.4.0\n",
            "PyNaCl                             1.4.0\n",
            "pyodbc                             4.0.0-unsupported\n",
            "pyOpenSSL                          21.0.0\n",
            "pyparsing                          3.0.4\n",
            "pyreadline                         2.1\n",
            "pyrsistent                         0.18.0\n",
            "PySocks                            1.7.1\n",
            "pytest                             6.2.4"
          ]
        }
      ],
      "source": [
        "pip list"
      ]
    },
    {
      "cell_type": "code",
      "execution_count": null,
      "id": "eff55297",
      "metadata": {
        "id": "eff55297",
        "outputId": "d673a474-7813-4417-90a2-a2c6bf2d79fe"
      },
      "outputs": [
        {
          "name": "stdout",
          "output_type": "stream",
          "text": [
            "\n",
            "python-dateutil                    2.8.2\n",
            "python-lsp-black                   1.0.0\n",
            "python-lsp-jsonrpc                 1.0.0\n",
            "python-lsp-server                  1.2.4\n",
            "python-slugify                     5.0.2\n",
            "pytz                               2021.3\n",
            "PyWavelets                         1.1.1\n",
            "pywin32                            228\n",
            "pywin32-ctypes                     0.2.0\n",
            "pywinpty                           0.5.7\n",
            "PyYAML                             6.0\n",
            "pyzmq                              22.2.1\n",
            "QDarkStyle                         3.0.2\n",
            "qstylizer                          0.1.10\n",
            "QtAwesome                          1.0.2\n",
            "qtconsole                          5.1.1\n",
            "QtPy                               1.10.0\n",
            "regex                              2021.8.3\n",
            "requests                           2.26.0\n",
            "requests-oauthlib                  1.3.1\n",
            "rope                               0.19.0\n",
            "rsa                                4.9\n",
            "Rtree                              0.9.7\n",
            "ruamel-yaml-conda                  0.15.100\n",
            "scikit-image                       0.18.3\n",
            "scikit-learn                       0.24.2\n",
            "scikit-learn-intelex               2021.20210714.120553\n",
            "scipy                              1.7.1\n",
            "seaborn                            0.11.2\n",
            "Send2Trash                         1.8.0\n",
            "setuptools                         58.0.4\n",
            "simplegeneric                      0.8.1\n",
            "singledispatch                     3.7.0\n",
            "sip                                4.19.13\n",
            "six                                1.16.0\n",
            "sniffio                            1.2.0\n",
            "snowballstemmer                    2.1.0\n",
            "sortedcollections                  2.1.0\n",
            "sortedcontainers                   2.4.0\n",
            "soupsieve                          2.2.1\n",
            "Sphinx                             4.2.0\n",
            "sphinxcontrib-applehelp            1.0.2\n",
            "sphinxcontrib-devhelp              1.0.2\n",
            "sphinxcontrib-htmlhelp             2.0.0\n",
            "sphinxcontrib-jsmath               1.0.1\n",
            "sphinxcontrib-qthelp               1.0.3\n",
            "sphinxcontrib-serializinghtml      1.1.5\n",
            "sphinxcontrib-websupport           1.2.4\n",
            "spyder                             5.1.5\n",
            "spyder-kernels                     2.1.3\n",
            "SQLAlchemy                         1.4.22\n",
            "statsmodels                        0.12.2\n",
            "sympy                              1.9\n",
            "tables                             3.6.1\n",
            "TBB                                0.2\n",
            "tblib                              1.7.0\n",
            "tensorboard                        2.11.0\n",
            "tensorboard-data-server            0.6.1\n",
            "tensorboard-plugin-wit             1.8.1\n",
            "tensorflow                         2.11.0\n",
            "tensorflow-estimator               2.11.0\n",
            "tensorflow-intel                   2.11.0\n",
            "tensorflow-io-gcs-filesystem       0.27.0\n",
            "termcolor                          2.1.1\n",
            "terminado                          0.9.4\n",
            "testpath                           0.5.0\n",
            "text-unidecode                     1.3\n",
            "textdistance                       4.2.1\n",
            "threadpoolctl                      2.2.0\n",
            "three-merge                        0.1.1\n",
            "tifffile                           2021.7.2\n",
            "tinycss                            0.4\n",
            "toml                               0.10.2\n",
            "toolz                              0.11.1\n",
            "tornado                            6.1\n",
            "tqdm                               4.62.3\n",
            "traitlets                          5.1.0\n",
            "typed-ast                          1.4.3\n",
            "typing-extensions                  3.10.0.2\n",
            "ujson                              4.0.2\n",
            "unicodecsv                         0.14.1\n",
            "Unidecode                          1.2.0\n",
            "urllib3                            1.26.7\n",
            "watchdog                           2.1.3\n",
            "wcwidth                            0.2.5\n",
            "webencodings                       0.5.1\n",
            "Werkzeug                           2.0.2\n",
            "wheel                              0.37.0\n",
            "whichcraft                         0.6.1\n",
            "widgetsnbextension                 3.5.1\n",
            "win-inet-pton                      1.1.0\n",
            "win-unicode-console                0.5\n",
            "wincertstore                       0.2\n",
            "wrapt                              1.12.1\n",
            "xlrd                               2.0.1\n",
            "XlsxWriter                         3.0.1\n",
            "xlwings                            0.24.9\n",
            "xlwt                               1.3.0\n",
            "xmltodict                          0.12.0\n",
            "yapf                               0.31.0\n",
            "zict                               2.0.0\n",
            "zipp                               3.6.0\n",
            "zope.event                         4.5.0\n",
            "zope.interface                     5.4.0\n"
          ]
        }
      ],
      "source": [
        "# Avoid OOM errors by setting GPU Memory Consumption Growth\n",
        "gpus = tf.config.experimental.list_physical_devices('GPU')\n",
        "for gpu in gpus: \n",
        "    tf.config.experimental.set_memory_growth(gpu, True)"
      ]
    },
    {
      "cell_type": "code",
      "execution_count": null,
      "id": "012bc1f8",
      "metadata": {
        "scrolled": true,
        "id": "012bc1f8",
        "outputId": "0cfb15e8-5d5f-42db-d2ea-1d3f476241c8"
      },
      "outputs": [
        {
          "data": {
            "text/plain": [
              "0"
            ]
          },
          "execution_count": 5,
          "metadata": {},
          "output_type": "execute_result"
        }
      ],
      "source": [
        "len(gpus)"
      ]
    },
    {
      "cell_type": "markdown",
      "id": "cd565995",
      "metadata": {
        "id": "cd565995"
      },
      "source": [
        "# 1a. inisialisasi hyperparameter, augmentasi data, dan resize image"
      ]
    },
    {
      "cell_type": "markdown",
      "id": "8594a3e2",
      "metadata": {
        "id": "8594a3e2"
      },
      "source": [
        "**Problem  pertama adalah image yang tidak seragam**\n",
        "\n",
        "= feature scaling dilakukan supaya setiap image memiliki skala dan distribusi yang seragam. Perbedaan pada skala pada input image dapat meningkatkan kesulitan model yang sedang dikerjakan\n",
        "\n",
        "referensi : - https://machinelearningmastery.com/how-to-improve-neural-network-stability-and-modeling-performance-with-data-scaling/"
      ]
    },
    {
      "cell_type": "markdown",
      "id": "44138265",
      "metadata": {
        "id": "44138265"
      },
      "source": [
        "**Problem kedua adalah kurangnya variasi image (augmentasi data)**\n",
        "\n",
        "= variasi image / augmentasi data dilakukan untuk meningkatkan keberagaman training data dengan mengaplikasikan random transformasi. \n",
        "\n",
        "Transformasi image dapat berupa:\n",
        "- image resize\n",
        "- image rotation\n",
        "- image zoom\n",
        "- image flip\n",
        "- dll\n",
        "\n",
        "Dengan transformasi / augmentasi data, training set yang dihasilkan akan menjadi lebih variatif dan juga berdampak pada performa trained-model yang lebih baik\n",
        "\n",
        "referensi: - https://www.analyticsvidhya.com/blog/2021/05/image-classification-with-tensorflow-data-augmentation-on-streaming-data-part-2/"
      ]
    },
    {
      "cell_type": "code",
      "execution_count": null,
      "id": "0d4a5af9",
      "metadata": {
        "id": "0d4a5af9"
      },
      "outputs": [],
      "source": [
        "import numpy as np\n",
        "from matplotlib import pyplot as plt"
      ]
    },
    {
      "cell_type": "code",
      "execution_count": null,
      "id": "062337a4",
      "metadata": {
        "id": "062337a4"
      },
      "outputs": [],
      "source": [
        "tf.keras.utils.image_dataset_from_directory??"
      ]
    },
    {
      "cell_type": "markdown",
      "id": "aeb0b19b",
      "metadata": {
        "id": "aeb0b19b"
      },
      "source": [
        "### import the dataset"
      ]
    },
    {
      "cell_type": "code",
      "execution_count": null,
      "id": "80134c3e",
      "metadata": {
        "id": "80134c3e",
        "outputId": "b3941eec-ff2a-4b54-ad1c-c3d3d7e19238"
      },
      "outputs": [
        {
          "name": "stdout",
          "output_type": "stream",
          "text": [
            "Found 26000 files belonging to 26 classes.\n"
          ]
        }
      ],
      "source": [
        "#tf.keras.utils by default akan mempreprocess image input kita, beberapa diantaranya adalah: labels=inferred, label_mode=int, color_mode=rgb, batch_size=32, shuffle=true, image_size(256, 256)\n",
        "#oleh karena itu, saya akan memakai default preprocessing kecuali image_sizenya\n",
        "# karena image_size yang diinginkan adalah 64 x 64, maka akan saya ubah menjadi image_size(64, 64)\n",
        "data = tf.keras.utils.image_dataset_from_directory('ALS/asl_alphabet_train/asl_alphabet_train', image_size=(64, 64))"
      ]
    },
    {
      "cell_type": "code",
      "execution_count": null,
      "id": "4689cdca",
      "metadata": {
        "id": "4689cdca"
      },
      "outputs": [],
      "source": [
        "#loop sebanyak data\n",
        "data_iterator = data.as_numpy_iterator()"
      ]
    },
    {
      "cell_type": "code",
      "execution_count": null,
      "id": "36bd3157",
      "metadata": {
        "id": "36bd3157"
      },
      "outputs": [],
      "source": [
        "#ambil batch dari iterator\n",
        "batch = data_iterator.next()"
      ]
    },
    {
      "cell_type": "code",
      "execution_count": null,
      "id": "bb39f67e",
      "metadata": {
        "id": "bb39f67e",
        "outputId": "179f80f8-b276-4127-90a4-665a4069cb5e"
      },
      "outputs": [
        {
          "data": {
            "text/plain": [
              "(32, 64, 64, 3)"
            ]
          },
          "execution_count": 11,
          "metadata": {},
          "output_type": "execute_result"
        }
      ],
      "source": [
        "#image di np array\n",
        "#by default, batchsize adalah 32, saya akan menggunakan default size\n",
        "#image juga sudah diresize menjadi 64x64\n",
        "# 3 berarti bahwa gambarnya sudah dalam format rgb\n",
        "batch[0].shape"
      ]
    },
    {
      "cell_type": "code",
      "execution_count": null,
      "id": "ff5ce50e",
      "metadata": {
        "id": "ff5ce50e",
        "outputId": "d20511f0-cb43-483e-8596-4fb5cbac307f"
      },
      "outputs": [
        {
          "data": {
            "text/plain": [
              "array([22, 16, 22, 20, 13, 12, 17,  8, 22,  6, 11, 22, 16, 16, 13, 11, 24,\n",
              "       24, 15, 14,  2,  6,  7,  6,  7,  3, 11, 20, 18,  5, 25,  9])"
            ]
          },
          "execution_count": 12,
          "metadata": {},
          "output_type": "execute_result"
        }
      ],
      "source": [
        "#setiap angka merepresentasikan alfabet, dimulai dari 0\n",
        "# 0 = a\n",
        "# 1 = b\n",
        "# 2 = c\n",
        "# 3 = ..\n",
        "# ..\n",
        "# ..\n",
        "# 25 = z\n",
        "batch[1]"
      ]
    },
    {
      "cell_type": "code",
      "execution_count": null,
      "id": "1e902f01",
      "metadata": {
        "id": "1e902f01",
        "outputId": "7dd56b34-677e-4572-f2f0-83585ca9a452"
      },
      "outputs": [
        {
          "data": {
            "image/png": "[encoded data removed]",
            "text/plain": [
              "<Figure size 1440x1440 with 4 Axes>"
            ]
          },
          "metadata": {
            "needs_background": "light"
          },
          "output_type": "display_data"
        }
      ],
      "source": [
        "fig, ax = plt.subplots(ncols=4, figsize=(20,20))\n",
        "for idx, img in enumerate(batch[0][:4]):\n",
        "    ax[idx].imshow(img.astype(int))\n",
        "    ax[idx].title.set_text(batch[1][idx])"
      ]
    },
    {
      "cell_type": "markdown",
      "id": "d4c825b5",
      "metadata": {
        "id": "d4c825b5"
      },
      "source": [
        "preprocessing the data"
      ]
    },
    {
      "cell_type": "markdown",
      "id": "30bc0e9a",
      "metadata": {
        "id": "30bc0e9a"
      },
      "source": [
        "scale "
      ]
    },
    {
      "cell_type": "markdown",
      "id": "3553bc70",
      "metadata": {
        "id": "3553bc70"
      },
      "source": [
        "dilakukan supaya ukuran min dan max nya dalam rentang 0 dan 1"
      ]
    },
    {
      "cell_type": "code",
      "execution_count": null,
      "id": "7a636017",
      "metadata": {
        "id": "7a636017",
        "outputId": "17ffa540-f1c2-490c-fba5-b252a9245fbe"
      },
      "outputs": [
        {
          "name": "stdout",
          "output_type": "stream",
          "text": [
            "WARNING:tensorflow:From D:\\Programs\\Anaconda\\lib\\site-packages\\tensorflow\\python\\autograph\\pyct\\static_analysis\\liveness.py:83: Analyzer.lamba_check (from tensorflow.python.autograph.pyct.static_analysis.liveness) is deprecated and will be removed after 2023-09-23.\n",
            "Instructions for updating:\n",
            "Lambda fuctions will be no more assumed to be used in the statement where they are used, or at least in the same block. https://github.com/tensorflow/tensorflow/issues/56089\n"
          ]
        }
      ],
      "source": [
        "#transformasi map digunakan pada setiap  element dari dataset yang berfungsi untuk mereturn dataset baru yang telah ditransformasi, dalam hal ini adalah transformasi scaling\n",
        "\n",
        "# referensi: - https://www.tensorflow.org/api_docs/python/tf/data/Dataset#map\n",
        "data = data.map(lambda x,y: (x/255, y))"
      ]
    },
    {
      "cell_type": "code",
      "execution_count": null,
      "id": "f4efdd70",
      "metadata": {
        "id": "f4efdd70"
      },
      "outputs": [],
      "source": [
        "scaled_iterator = data.as_numpy_iterator()"
      ]
    },
    {
      "cell_type": "code",
      "execution_count": null,
      "id": "34d6d64f",
      "metadata": {
        "id": "34d6d64f"
      },
      "outputs": [],
      "source": [
        "batch = scaled_iterator.next()"
      ]
    },
    {
      "cell_type": "code",
      "execution_count": null,
      "id": "8ddbb33d",
      "metadata": {
        "id": "8ddbb33d",
        "outputId": "6eb80da0-0018-46ea-e462-23de6759152c"
      },
      "outputs": [
        {
          "data": {
            "text/plain": [
              "1.0"
            ]
          },
          "execution_count": 17,
          "metadata": {},
          "output_type": "execute_result"
        }
      ],
      "source": [
        "batch[0].max()"
      ]
    },
    {
      "cell_type": "code",
      "execution_count": null,
      "id": "25e03493",
      "metadata": {
        "id": "25e03493",
        "outputId": "b15ad9dd-05b9-4589-b0a8-ce3990504cb6"
      },
      "outputs": [
        {
          "data": {
            "text/plain": [
              "(array([[[[0.00261949, 0.0051777 , 0.88598347],\n",
              "          [0.05171569, 0.0397212 , 0.71937805],\n",
              "          [0.04960172, 0.0513174 , 0.72659314],\n",
              "          ...,\n",
              "          [0.070481  , 0.03002451, 0.72037375],\n",
              "          [0.04299939, 0.04344363, 0.70543814],\n",
              "          [0.07696079, 0.04607843, 0.8216605 ]],\n",
              " \n",
              "         [[0.05258885, 0.06263787, 0.7606771 ],\n",
              "          [0.51383275, 0.5676164 , 0.5391544 ],\n",
              "          [0.5342065 , 0.57538295, 0.5445159 ],\n",
              "          ...,\n",
              "          [0.33088234, 0.2044424 , 0.13679534],\n",
              "          [0.27832416, 0.17489277, 0.1176777 ],\n",
              "          [0.24727328, 0.15948223, 0.42340687]],\n",
              " \n",
              "         [[0.0588848 , 0.08017769, 0.7699908 ],\n",
              "          [0.7320772 , 0.809038  , 0.7994792 ],\n",
              "          [0.7435968 , 0.8240962 , 0.8329197 ],\n",
              "          ...,\n",
              "          [0.49857536, 0.357644  , 0.27791053],\n",
              "          [0.4546722 , 0.3296722 , 0.2539522 ],\n",
              "          [0.36864278, 0.27486214, 0.5665441 ]],\n",
              " \n",
              "         ...,\n",
              " \n",
              "         [[0.021875  , 0.02841605, 0.7343597 ],\n",
              "          [0.13432905, 0.13802083, 0.15644914],\n",
              "          [0.14640012, 0.15287991, 0.18924633],\n",
              "          ...,\n",
              "          [0.2876685 , 0.18655024, 0.12941177],\n",
              "          [0.27915135, 0.19166666, 0.14632353],\n",
              "          [0.23121937, 0.16602328, 0.44151348]],\n",
              " \n",
              "         [[0.03431373, 0.03161765, 0.7469516 ],\n",
              "          [0.15759803, 0.12916666, 0.18665747],\n",
              "          [0.15266544, 0.12398897, 0.17273284],\n",
              "          ...,\n",
              "          [0.2647059 , 0.15960477, 0.10932904],\n",
              "          [0.25217524, 0.1732843 , 0.15451899],\n",
              "          [0.2065717 , 0.13961397, 0.43616727]],\n",
              " \n",
              "         [[0.01009498, 0.02729779, 0.81303614],\n",
              "          [0.06107537, 0.04828431, 0.37627146],\n",
              "          [0.06813726, 0.04640012, 0.36937806],\n",
              "          ...,\n",
              "          [0.20890012, 0.125     , 0.40840992],\n",
              "          [0.20984988, 0.12965687, 0.4464614 ],\n",
              "          [0.16597733, 0.1120864 , 0.60350794]]],\n",
              " \n",
              " \n",
              "        [[[0.00398284, 0.0037837 , 0.8689951 ],\n",
              "          [0.04520527, 0.04201899, 0.7259957 ],\n",
              "          [0.04469975, 0.04715073, 0.72233456],\n",
              "          ...,\n",
              "          [0.04701287, 0.03818934, 0.73180145],\n",
              "          [0.04569547, 0.04123775, 0.7294118 ],\n",
              "          [0.05507047, 0.04480699, 0.8250766 ]],\n",
              " \n",
              "         [[0.03324142, 0.04132966, 0.7290135 ],\n",
              "          [0.3843597 , 0.44048715, 0.41009498],\n",
              "          [0.40101102, 0.44664523, 0.4198989 ],\n",
              "          ...,\n",
              "          [0.21619178, 0.15736826, 0.17550552],\n",
              "          [0.20836397, 0.15545343, 0.19782476],\n",
              "          [0.1424326 , 0.11992954, 0.41404718]],\n",
              " \n",
              "         [[0.03327206, 0.08028492, 0.7473958 ],\n",
              "          [0.5568168 , 0.66024816, 0.6350031 ],\n",
              "          [0.54987746, 0.6497702 , 0.64963233],\n",
              "          ...,\n",
              "          [0.29888174, 0.23031557, 0.22947304],\n",
              "          [0.28164828, 0.21573223, 0.21793811],\n",
              "          [0.22827819, 0.18350184, 0.5048407 ]],\n",
              " \n",
              "         ...,\n",
              " \n",
              "         [[0.00716912, 0.02849265, 0.73500305],\n",
              "          [0.12858456, 0.14183517, 0.20044424],\n",
              "          [0.15281862, 0.17637868, 0.2276348 ],\n",
              "          ...,\n",
              "          [0.50759804, 0.48385417, 0.4110294 ],\n",
              "          [0.49019608, 0.4703891 , 0.39241728],\n",
              "          [0.44002756, 0.4257353 , 0.7084099 ]],\n",
              " \n",
              "         [[0.03434436, 0.04106924, 0.75693935],\n",
              "          [0.1820006 , 0.17037377, 0.24397978],\n",
              "          [0.15405944, 0.1462163 , 0.21358763],\n",
              "          ...,\n",
              "          [0.4811887 , 0.45004594, 0.40965074],\n",
              "          [0.4814185 , 0.45179227, 0.4093597 ],\n",
              "          [0.43075982, 0.41639093, 0.7181526 ]],\n",
              " \n",
              "         [[0.011106  , 0.01752451, 0.80252755],\n",
              "          [0.01838235, 0.01858149, 0.33587623],\n",
              "          [0.01979167, 0.01953125, 0.35266545],\n",
              "          ...,\n",
              "          [0.43457416, 0.43056065, 0.69494486],\n",
              "          [0.42323837, 0.4235907 , 0.6877451 ],\n",
              "          [0.38711703, 0.3964614 , 0.8797947 ]]],\n",
              " \n",
              " \n",
              "        [[[0.00343137, 0.00418199, 0.86773896],\n",
              "          [0.0502451 , 0.03602941, 0.71770835],\n",
              "          [0.03226103, 0.04044118, 0.72567403],\n",
              "          ...,\n",
              "          [0.04715073, 0.03782169, 0.71632963],\n",
              "          [0.05251225, 0.05226716, 0.715242  ],\n",
              "          [0.05214461, 0.04090074, 0.82907474]],\n",
              " \n",
              "         [[0.03707108, 0.04246324, 0.7407476 ],\n",
              "          [0.37322304, 0.4146446 , 0.38180146],\n",
              "          [0.38253677, 0.43062192, 0.38696384],\n",
              "          ...,\n",
              "          [0.17432599, 0.1333793 , 0.123606  ],\n",
              "          [0.17048101, 0.11372549, 0.13567708],\n",
              "          [0.13316482, 0.09640012, 0.39453125]],\n",
              " \n",
              "         [[0.04024203, 0.08046875, 0.75778186],\n",
              "          [0.5906403 , 0.68451285, 0.6656403 ],\n",
              "          [0.5782935 , 0.6651654 , 0.66870403],\n",
              "          ...,\n",
              "          [0.2675092 , 0.19923407, 0.16841298],\n",
              "          [0.24715073, 0.17953432, 0.15332414],\n",
              "          [0.15686275, 0.12230392, 0.43481925]],\n",
              " \n",
              "         ...,\n",
              " \n",
              "         [[0.02234988, 0.02029718, 0.74682903],\n",
              "          [0.0756587 , 0.08452819, 0.13555454],\n",
              "          [0.09895834, 0.11099877, 0.17110907],\n",
              "          ...,\n",
              "          [0.46453738, 0.47002146, 0.3728707 ],\n",
              "          [0.45104167, 0.44347426, 0.3848805 ],\n",
              "          [0.40597427, 0.42132354, 0.67041975]],\n",
              " \n",
              "         [[0.02470895, 0.03780637, 0.75298715],\n",
              "          [0.12990196, 0.12279411, 0.17598039],\n",
              "          [0.12133885, 0.11522672, 0.16568628],\n",
              "          ...,\n",
              "          [0.4529565 , 0.4319087 , 0.37233457],\n",
              "          [0.45992646, 0.42518383, 0.4167892 ],\n",
              "          [0.3927696 , 0.39296874, 0.666345  ]],\n",
              " \n",
              "         [[0.01334252, 0.02071078, 0.80621934],\n",
              "          [0.02239583, 0.00989583, 0.3384191 ],\n",
              "          [0.02057292, 0.00237439, 0.33066788],\n",
              "          ...,\n",
              "          [0.4023131 , 0.40899202, 0.6640625 ],\n",
              "          [0.40589768, 0.4054075 , 0.6776501 ],\n",
              "          [0.35775122, 0.37539828, 0.8617188 ]]],\n",
              " \n",
              " \n",
              "        ...,\n",
              " \n",
              " \n",
              "        [[[0.00363051, 0.00245098, 0.8775276 ],\n",
              "          [0.04561887, 0.04748775, 0.7294884 ],\n",
              "          [0.04217218, 0.04209559, 0.72449446],\n",
              "          ...,\n",
              "          [0.05675551, 0.03125   , 0.7314185 ],\n",
              "          [0.05382966, 0.03952206, 0.7143076 ],\n",
              "          [0.05776655, 0.04382659, 0.8238664 ]],\n",
              " \n",
              "         [[0.04018076, 0.04227941, 0.74321383],\n",
              "          [0.37247244, 0.4176777 , 0.38941482],\n",
              "          [0.40922183, 0.43079045, 0.39108455],\n",
              "          ...,\n",
              "          [0.19558823, 0.12328431, 0.11299019],\n",
              "          [0.20430453, 0.13339461, 0.13799019],\n",
              "          [0.1463848 , 0.09404106, 0.3837929 ]],\n",
              " \n",
              "         [[0.05064338, 0.06712622, 0.7594669 ],\n",
              "          [0.6027267 , 0.6703738 , 0.66006434],\n",
              "          [0.622549  , 0.6783548 , 0.69460785],\n",
              "          ...,\n",
              "          [0.28722426, 0.20136335, 0.16400123],\n",
              "          [0.28235295, 0.18285845, 0.14754902],\n",
              "          [0.21420036, 0.13390012, 0.4384191 ]],\n",
              " \n",
              "         ...,\n",
              " \n",
              "         [[0.00471814, 0.03275122, 0.75347733],\n",
              "          [0.07689951, 0.07227328, 0.13163297],\n",
              "          [0.08579963, 0.09489889, 0.14195772],\n",
              "          ...,\n",
              "          [0.49940258, 0.46386334, 0.41190258],\n",
              "          [0.48163298, 0.44780943, 0.41178003],\n",
              "          [0.43014705, 0.4015472 , 0.68563116]],\n",
              " \n",
              "         [[0.03357843, 0.03843443, 0.7525429 ],\n",
              "          [0.12783395, 0.10503983, 0.15798101],\n",
              "          [0.11616115, 0.10638787, 0.15539216],\n",
              "          ...,\n",
              "          [0.4779412 , 0.4421109 , 0.3913756 ],\n",
              "          [0.46439952, 0.44293812, 0.397595  ],\n",
              "          [0.42349878, 0.39664522, 0.6863358 ]],\n",
              " \n",
              "         [[0.01473652, 0.02115502, 0.8091146 ],\n",
              "          [0.0323989 , 0.02431066, 0.33416054],\n",
              "          [0.00686275, 0.00799632, 0.33662683],\n",
              "          ...,\n",
              "          [0.43016237, 0.39845282, 0.7006587 ],\n",
              "          [0.42127758, 0.4096201 , 0.6944087 ],\n",
              "          [0.38639706, 0.37659314, 0.87561274]]],\n",
              " \n",
              " \n",
              "        [[[0.00340074, 0.00540748, 0.86597735],\n",
              "          [0.03098958, 0.03869485, 0.72045034],\n",
              "          [0.04356617, 0.04633885, 0.72414213],\n",
              "          ...,\n",
              "          [0.04905025, 0.04430147, 0.7394761 ],\n",
              "          [0.06204044, 0.05439645, 0.7602635 ],\n",
              "          [0.05687806, 0.04658395, 0.8267004 ]],\n",
              " \n",
              "         [[0.03653493, 0.04937194, 0.736826  ],\n",
              "          [0.4425858 , 0.5080576 , 0.48218444],\n",
              "          [0.47026655, 0.49747244, 0.48570773],\n",
              "          ...,\n",
              "          [0.30170035, 0.24338235, 0.25562194],\n",
              "          [0.2755055 , 0.22452512, 0.29339767],\n",
              "          [0.255913  , 0.23233762, 0.5505668 ]],\n",
              " \n",
              "         [[0.04905025, 0.07607231, 0.7578891 ],\n",
              "          [0.59238666, 0.70510113, 0.68570775],\n",
              "          [0.5927543 , 0.6960784 , 0.7060968 ],\n",
              "          ...,\n",
              "          [0.38246018, 0.30441177, 0.33020833],\n",
              "          [0.3573223 , 0.29016545, 0.3268995 ],\n",
              "          [0.28284314, 0.2627451 , 0.5772212 ]],\n",
              " \n",
              "         ...,\n",
              " \n",
              "         [[0.02751225, 0.02797181, 0.7520374 ],\n",
              "          [0.10163909, 0.12369791, 0.19946384],\n",
              "          [0.13060662, 0.14806986, 0.23671874],\n",
              "          ...,\n",
              "          [0.4869332 , 0.4981005 , 0.43990502],\n",
              "          [0.48877144, 0.4792126 , 0.41913298],\n",
              "          [0.43530944, 0.43570772, 0.72761947]],\n",
              " \n",
              "         [[0.03353247, 0.03927696, 0.7556372 ],\n",
              "          [0.16743259, 0.16245404, 0.23924632],\n",
              "          [0.1509038 , 0.15704657, 0.2227022 ],\n",
              "          ...,\n",
              "          [0.48255208, 0.47671568, 0.4413756 ],\n",
              "          [0.48313418, 0.46148896, 0.4241728 ],\n",
              "          [0.42340687, 0.42492342, 0.7348652 ]],\n",
              " \n",
              "         [[0.01161152, 0.01758578, 0.80799633],\n",
              "          [0.03069853, 0.03025429, 0.36329657],\n",
              "          [0.03429841, 0.03584559, 0.3629902 ],\n",
              "          ...,\n",
              "          [0.43746936, 0.44923407, 0.7223805 ],\n",
              "          [0.43368566, 0.44083947, 0.71450675],\n",
              "          [0.38638175, 0.40404412, 0.88468134]]],\n",
              " \n",
              " \n",
              "        [[[0.00435049, 0.00415135, 0.8762255 ],\n",
              "          [0.0433364 , 0.04010417, 0.72431064],\n",
              "          [0.04355086, 0.04575674, 0.72257966],\n",
              "          ...,\n",
              "          [0.04348958, 0.0410386 , 0.73442096],\n",
              "          [0.05909926, 0.04445466, 0.73635113],\n",
              "          [0.05879289, 0.03304228, 0.83060664]],\n",
              " \n",
              "         [[0.03590686, 0.0450674 , 0.71875   ],\n",
              "          [0.3724418 , 0.4199908 , 0.39989278],\n",
              "          [0.37856925, 0.42420343, 0.39698222],\n",
              "          ...,\n",
              "          [0.20632659, 0.14211091, 0.15166973],\n",
              "          [0.19165134, 0.13209252, 0.1645527 ],\n",
              "          [0.13904718, 0.10644914, 0.41968444]],\n",
              " \n",
              "         [[0.04005821, 0.07882965, 0.76904106],\n",
              "          [0.540916  , 0.6340533 , 0.6191023 ],\n",
              "          [0.5365196 , 0.62611824, 0.636106  ],\n",
              "          ...,\n",
              "          [0.29808518, 0.20868567, 0.19898897],\n",
              "          [0.2796875 , 0.19342831, 0.21030943],\n",
              "          [0.21259192, 0.17149204, 0.48336396]],\n",
              " \n",
              "         ...,\n",
              " \n",
              "         [[0.02478554, 0.02863052, 0.7442096 ],\n",
              "          [0.16286765, 0.15381435, 0.21804534],\n",
              "          [0.1653799 , 0.18316483, 0.23872548],\n",
              "          ...,\n",
              "          [0.49607843, 0.47478554, 0.40111825],\n",
              "          [0.47552082, 0.46053922, 0.40712315],\n",
              "          [0.42967218, 0.4123468 , 0.69208026]],\n",
              " \n",
              "         [[0.03385417, 0.05007659, 0.75736827],\n",
              "          [0.18151042, 0.18238358, 0.22587316],\n",
              "          [0.15185355, 0.15605086, 0.20260416],\n",
              "          ...,\n",
              "          [0.48460478, 0.4390472 , 0.40695465],\n",
              "          [0.4703891 , 0.43523285, 0.4273897 ],\n",
              "          [0.4374234 , 0.4016391 , 0.6951593 ]],\n",
              " \n",
              "         [[0.01429228, 0.01706495, 0.8025582 ],\n",
              "          [0.02107843, 0.0247549 , 0.3320619 ],\n",
              "          [0.01599265, 0.02098652, 0.34698224],\n",
              "          ...,\n",
              "          [0.4248315 , 0.41485906, 0.68275124],\n",
              "          [0.4219669 , 0.42167586, 0.6873468 ],\n",
              "          [0.38783702, 0.37734374, 0.8829963 ]]]], dtype=float32),\n",
              " array([12,  9, 16, 21, 21,  5, 22, 25, 23, 25, 22, 19, 10, 17,  5,  7, 19,\n",
              "         8,  6,  9, 11,  1,  9,  1, 11, 11, 17, 13,  5, 15, 22,  8]))"
            ]
          },
          "execution_count": 18,
          "metadata": {},
          "output_type": "execute_result"
        }
      ],
      "source": [
        "data.as_numpy_iterator().next()"
      ]
    },
    {
      "cell_type": "markdown",
      "id": "c5c9a5c4",
      "metadata": {
        "id": "c5c9a5c4"
      },
      "source": [
        "# 1b. split the data into train and validation data"
      ]
    },
    {
      "cell_type": "code",
      "execution_count": null,
      "id": "e381b1c2",
      "metadata": {
        "id": "e381b1c2",
        "outputId": "b6b4ef5f-81e6-4377-f7c9-b0819972eb8c"
      },
      "outputs": [
        {
          "data": {
            "text/plain": [
              "813"
            ]
          },
          "execution_count": 19,
          "metadata": {},
          "output_type": "execute_result"
        }
      ],
      "source": [
        "# tiap batch berisi 813 data\n",
        "len(data)"
      ]
    },
    {
      "cell_type": "code",
      "execution_count": null,
      "id": "2e822e8b",
      "metadata": {
        "id": "2e822e8b"
      },
      "outputs": [],
      "source": [
        "#bagi dengan proporsi 80:20 \n",
        "train_size = int(len(data)*.8)\n",
        "val_size = int(len(data)*.2)+1"
      ]
    },
    {
      "cell_type": "code",
      "execution_count": null,
      "id": "ceb1b36a",
      "metadata": {
        "id": "ceb1b36a",
        "outputId": "e7bbd3e4-be47-4fa5-fd05-59f9f4b516f1"
      },
      "outputs": [
        {
          "data": {
            "text/plain": [
              "650"
            ]
          },
          "execution_count": 21,
          "metadata": {},
          "output_type": "execute_result"
        }
      ],
      "source": [
        "train_size"
      ]
    },
    {
      "cell_type": "code",
      "execution_count": null,
      "id": "8845e125",
      "metadata": {
        "id": "8845e125",
        "outputId": "aa543ed9-a91a-4598-b438-c59123508e70"
      },
      "outputs": [
        {
          "data": {
            "text/plain": [
              "163"
            ]
          },
          "execution_count": 22,
          "metadata": {},
          "output_type": "execute_result"
        }
      ],
      "source": [
        "val_size"
      ]
    },
    {
      "cell_type": "code",
      "execution_count": null,
      "id": "a4604ee2",
      "metadata": {
        "id": "a4604ee2"
      },
      "outputs": [],
      "source": [
        "#transformasi take dan skip digunakan untuk mengambil dan mengskip jumlah data dengan ketentuan yang diperlukan\n",
        "train = data.take(train_size)\n",
        "val = data.skip(train_size).take(val_size)\n",
        "\n",
        "#referensi : https://www.tensorflow.org/api_docs/python/tf/data/Dataset#take"
      ]
    },
    {
      "cell_type": "code",
      "execution_count": null,
      "id": "2a77a8f3",
      "metadata": {
        "id": "2a77a8f3",
        "outputId": "85d7f904-b09f-49ee-84a5-36dcfaf86acc"
      },
      "outputs": [
        {
          "data": {
            "text/plain": [
              "650"
            ]
          },
          "execution_count": 24,
          "metadata": {},
          "output_type": "execute_result"
        }
      ],
      "source": [
        "len(train)"
      ]
    },
    {
      "cell_type": "markdown",
      "id": "4797eee2",
      "metadata": {
        "id": "4797eee2"
      },
      "source": [
        "dataset telah dibagi dengan proporsi training:validation = 80:20\n",
        "training [80] = 650\n",
        "validation [20] = 163"
      ]
    },
    {
      "cell_type": "markdown",
      "id": "ca31fcfa",
      "metadata": {
        "id": "ca31fcfa"
      },
      "source": [
        "# 1c. arsitektur baseline"
      ]
    },
    {
      "cell_type": "markdown",
      "id": "f7b5e3bb",
      "metadata": {
        "id": "f7b5e3bb"
      },
      "source": [
        "*Saya akan menggunakan keras untuk membuat arsitektur CNN* "
      ]
    },
    {
      "cell_type": "markdown",
      "id": "1cce7459",
      "metadata": {
        "id": "1cce7459"
      },
      "source": [
        "### inisialiasi CNN"
      ]
    },
    {
      "cell_type": "code",
      "execution_count": null,
      "id": "a5695497",
      "metadata": {
        "id": "a5695497"
      },
      "outputs": [],
      "source": [
        "cnn = tf.keras.models.Sequential()"
      ]
    },
    {
      "cell_type": "markdown",
      "id": "a1e42fcc",
      "metadata": {
        "id": "a1e42fcc"
      },
      "source": [
        "#### Buat baseline arsitektur"
      ]
    },
    {
      "cell_type": "markdown",
      "id": "202b6360",
      "metadata": {
        "id": "202b6360"
      },
      "source": [
        "= baseline arsitektur dibuat dengan ketentuan sebagai berikut:"
      ]
    },
    {
      "cell_type": "markdown",
      "id": "2d07f265",
      "metadata": {
        "id": "2d07f265"
      },
      "source": [
        "*Convolutional layer pertama dengan kernel size = 5, activation function = ReLu, dan input shape sesuai dengan gambar (n=64)*. Convolutional digunakan untuk membuat features "
      ]
    },
    {
      "cell_type": "code",
      "execution_count": null,
      "id": "827515b1",
      "metadata": {
        "id": "827515b1"
      },
      "outputs": [],
      "source": [
        "#Convolutional2D\n",
        "cnn.add(tf.keras.layers.Conv2D(filters=32, kernel_size=5, activation='relu', input_shape=[64, 64, 3]))"
      ]
    },
    {
      "cell_type": "markdown",
      "id": "ecdb129e",
      "metadata": {
        "id": "ecdb129e"
      },
      "source": [
        "Pooling dilakukan untuk mengurangi dimensi dengan mengextract important features dari convolutional layer. Pooling yang digunakan = MaxPool2D by keras"
      ]
    },
    {
      "cell_type": "code",
      "execution_count": null,
      "id": "de94e373",
      "metadata": {
        "id": "de94e373"
      },
      "outputs": [],
      "source": [
        "#Pooling\n",
        "cnn.add(tf.keras.layers.MaxPool2D(pool_size=2, strides=2))"
      ]
    },
    {
      "cell_type": "markdown",
      "id": "97462634",
      "metadata": {
        "id": "97462634"
      },
      "source": [
        "*Convolutional layer kedua dengan kernel size = 3, activation function = ReLu, dan input shape sesuai = (n/2=32)*"
      ]
    },
    {
      "cell_type": "code",
      "execution_count": null,
      "id": "cbde2607",
      "metadata": {
        "id": "cbde2607"
      },
      "outputs": [],
      "source": [
        "#Convolutional2D\n",
        "cnn.add(tf.keras.layers.Conv2D(filters=32, kernel_size=3, activation='relu', input_shape=[32, 32, 3]))\n",
        "\n",
        "#Pooling\n",
        "cnn.add(tf.keras.layers.MaxPool2D(pool_size=2, strides=2))"
      ]
    },
    {
      "cell_type": "markdown",
      "id": "dbd69188",
      "metadata": {
        "id": "dbd69188"
      },
      "source": [
        "*Convolutional layer ketiga dengan kernel size = 3, activation function = ReLu, dan input shape sesuai = (n/2=32)*"
      ]
    },
    {
      "cell_type": "code",
      "execution_count": null,
      "id": "4c14a758",
      "metadata": {
        "id": "4c14a758"
      },
      "outputs": [],
      "source": [
        "#Convolutional2D\n",
        "cnn.add(tf.keras.layers.Conv2D(filters=32, kernel_size=3, activation='relu', input_shape=[32, 32, 3]))\n",
        "\n",
        "#Pooling\n",
        "cnn.add(tf.keras.layers.MaxPool2D(pool_size=2, strides=2))"
      ]
    },
    {
      "cell_type": "markdown",
      "id": "720016f3",
      "metadata": {
        "id": "720016f3"
      },
      "source": [
        "*Flatten layer digunakan untuk mengubah matrix menjadi satu array*\n",
        "\n",
        "referensi : - https://stackoverflow.com/questions/43237124/what-is-the-role-of-flatten-in-keras"
      ]
    },
    {
      "cell_type": "code",
      "execution_count": null,
      "id": "ef9b188a",
      "metadata": {
        "id": "ef9b188a"
      },
      "outputs": [],
      "source": [
        "#Flatten\n",
        "cnn.add(tf.keras.layers.Flatten())"
      ]
    },
    {
      "cell_type": "markdown",
      "id": "42a2eedb",
      "metadata": {
        "id": "42a2eedb"
      },
      "source": [
        "Full connection layer"
      ]
    },
    {
      "cell_type": "code",
      "execution_count": null,
      "id": "a33d8d8a",
      "metadata": {
        "id": "a33d8d8a"
      },
      "outputs": [],
      "source": [
        "cnn.add(tf.keras.layers.Dense(units=128, activation='relu'))"
      ]
    },
    {
      "cell_type": "code",
      "execution_count": null,
      "id": "453d55c8",
      "metadata": {
        "id": "453d55c8"
      },
      "outputs": [],
      "source": [
        "cnn.add(tf.keras.layers.Dense(units=26, activation='softmax'))"
      ]
    },
    {
      "cell_type": "markdown",
      "id": "17663044",
      "metadata": {
        "id": "17663044"
      },
      "source": [
        "### Train cnn model"
      ]
    },
    {
      "cell_type": "markdown",
      "id": "15dbb03c",
      "metadata": {
        "id": "15dbb03c"
      },
      "source": [
        "compile the model"
      ]
    },
    {
      "cell_type": "code",
      "execution_count": null,
      "id": "e1aee31e",
      "metadata": {
        "id": "e1aee31e"
      },
      "outputs": [],
      "source": [
        "cnn.compile(optimizer='adam', loss = 'sparse_categorical_crossentropy', metrics = ['accuracy'])"
      ]
    },
    {
      "cell_type": "markdown",
      "id": "267f8fc3",
      "metadata": {
        "id": "267f8fc3"
      },
      "source": [
        "tampung pada variable history agar bisa plotting accuracy dan loss"
      ]
    },
    {
      "cell_type": "code",
      "execution_count": null,
      "id": "341202f4",
      "metadata": {
        "scrolled": false,
        "id": "341202f4",
        "outputId": "cc2bbd55-9a65-4e5f-afab-b1da4cbeeac1"
      },
      "outputs": [
        {
          "name": "stdout",
          "output_type": "stream",
          "text": [
            "Epoch 1/20\n",
            "650/650 [==============================] - 72s 110ms/step - loss: 0.8533 - accuracy: 0.7402 - val_loss: 0.1191 - val_accuracy: 0.9652\n",
            "Epoch 2/20\n",
            "650/650 [==============================] - 68s 104ms/step - loss: 0.0871 - accuracy: 0.9728 - val_loss: 0.0468 - val_accuracy: 0.9858\n",
            "Epoch 3/20\n",
            "650/650 [==============================] - 64s 99ms/step - loss: 0.0296 - accuracy: 0.9921 - val_loss: 0.0175 - val_accuracy: 0.9950\n",
            "Epoch 4/20\n",
            "650/650 [==============================] - 66s 101ms/step - loss: 0.0316 - accuracy: 0.9905 - val_loss: 0.0018 - val_accuracy: 0.9996\n",
            "Epoch 5/20\n",
            "650/650 [==============================] - 66s 101ms/step - loss: 0.0285 - accuracy: 0.9912 - val_loss: 0.0307 - val_accuracy: 0.9896\n",
            "Epoch 6/20\n",
            "650/650 [==============================] - 66s 102ms/step - loss: 0.0366 - accuracy: 0.9900 - val_loss: 0.0100 - val_accuracy: 0.9983\n",
            "Epoch 7/20\n",
            "650/650 [==============================] - 67s 104ms/step - loss: 0.0035 - accuracy: 0.9991 - val_loss: 0.0174 - val_accuracy: 0.9960\n",
            "Epoch 8/20\n",
            "650/650 [==============================] - 67s 103ms/step - loss: 0.0258 - accuracy: 0.9923 - val_loss: 0.0096 - val_accuracy: 0.9969\n",
            "Epoch 9/20\n",
            "650/650 [==============================] - 67s 103ms/step - loss: 0.0038 - accuracy: 0.9988 - val_loss: 3.3520e-04 - val_accuracy: 1.0000\n",
            "Epoch 10/20\n",
            "650/650 [==============================] - 68s 104ms/step - loss: 7.3735e-05 - accuracy: 1.0000 - val_loss: 1.9866e-04 - val_accuracy: 1.0000\n",
            "Epoch 11/20\n",
            "650/650 [==============================] - 69s 106ms/step - loss: 3.9788e-05 - accuracy: 1.0000 - val_loss: 1.2396e-04 - val_accuracy: 1.0000\n",
            "Epoch 12/20\n",
            "650/650 [==============================] - 68s 104ms/step - loss: 2.5223e-05 - accuracy: 1.0000 - val_loss: 9.0587e-05 - val_accuracy: 1.0000\n",
            "Epoch 13/20\n",
            "650/650 [==============================] - 69s 105ms/step - loss: 1.7161e-05 - accuracy: 1.0000 - val_loss: 6.5270e-05 - val_accuracy: 1.0000\n",
            "Epoch 14/20\n",
            "650/650 [==============================] - 68s 104ms/step - loss: 1.1896e-05 - accuracy: 1.0000 - val_loss: 4.9194e-05 - val_accuracy: 1.0000\n",
            "Epoch 15/20\n",
            "650/650 [==============================] - 67s 103ms/step - loss: 8.4142e-06 - accuracy: 1.0000 - val_loss: 3.5855e-05 - val_accuracy: 1.0000\n",
            "Epoch 16/20\n",
            "650/650 [==============================] - 67s 103ms/step - loss: 5.9680e-06 - accuracy: 1.0000 - val_loss: 2.7384e-05 - val_accuracy: 1.0000\n",
            "Epoch 17/20\n",
            "650/650 [==============================] - 67s 103ms/step - loss: 4.2369e-06 - accuracy: 1.0000 - val_loss: 2.0602e-05 - val_accuracy: 1.0000\n",
            "Epoch 18/20\n",
            "650/650 [==============================] - 67s 102ms/step - loss: 3.0273e-06 - accuracy: 1.0000 - val_loss: 1.6093e-05 - val_accuracy: 1.0000\n",
            "Epoch 19/20\n",
            "650/650 [==============================] - 68s 105ms/step - loss: 2.1432e-06 - accuracy: 1.0000 - val_loss: 1.2212e-05 - val_accuracy: 1.0000\n",
            "Epoch 20/20\n",
            "650/650 [==============================] - 67s 103ms/step - loss: 1.5483e-06 - accuracy: 1.0000 - val_loss: 9.8161e-06 - val_accuracy: 1.0000\n"
          ]
        }
      ],
      "source": [
        "history = cnn.fit(x = train, validation_data = val , shuffle=True,epochs = 20)"
      ]
    },
    {
      "cell_type": "code",
      "execution_count": null,
      "id": "62df0815",
      "metadata": {
        "id": "62df0815",
        "outputId": "08dcc535-d595-4e69-c76c-0353753e7a7d"
      },
      "outputs": [
        {
          "data": {
            "image/png": "[encoded data removed]",
            "text/plain": [
              "<Figure size 432x288 with 1 Axes>"
            ]
          },
          "metadata": {
            "needs_background": "light"
          },
          "output_type": "display_data"
        }
      ],
      "source": [
        "fig = plt.figure()\n",
        "plt.plot(history.history['loss'], color='teal', label='loss')\n",
        "plt.plot(history.history['val_loss'], color='orange', label='val_loss')\n",
        "fig.suptitle('Loss', fontsize=20)\n",
        "plt.legend(loc=\"upper left\")\n",
        "plt.show()"
      ]
    },
    {
      "cell_type": "code",
      "execution_count": null,
      "id": "9e48f22d",
      "metadata": {
        "scrolled": true,
        "id": "9e48f22d",
        "outputId": "d37a134b-7d0c-4e59-bc19-82d350d534fd"
      },
      "outputs": [
        {
          "data": {
            "image/png": "[encoded data removed]",
            "text/plain": [
              "<Figure size 432x288 with 1 Axes>"
            ]
          },
          "metadata": {
            "needs_background": "light"
          },
          "output_type": "display_data"
        }
      ],
      "source": [
        "fig = plt.figure()\n",
        "plt.plot(history.history['accuracy'], color='teal', label='accuracy')\n",
        "plt.plot(history.history['val_accuracy'], color='orange', label='val_accuracy')\n",
        "fig.suptitle('Accuracy', fontsize=20)\n",
        "plt.legend(loc=\"upper left\")\n",
        "plt.show()"
      ]
    },
    {
      "cell_type": "markdown",
      "id": "1558586b",
      "metadata": {
        "id": "1558586b"
      },
      "source": [
        "seperti yang bisa kita lihat diatas, pada epoch 1-7 , akurasi dan validation loss yang dihasilkan mempunnyai hasil yang bagus. Tetapi, meskipun mempunyai accuracy yang bagus, validation loss pada epoch ke-8 sampai 20  mempunyai loss yang sangat besar (keluar dari range 0-1). Hal ini menandakan adanya overfitting pada saat mentraining data kita.\n",
        "\n",
        "Penyebabnya adalah ketika menggunakan cross-entropy loss untuk klasifikasi, prediksi yang jelek akan mendapatkan punishment yang lebih kuat dibandigkan dengan prediksi yang bagus. Ini berarti ketika kita mempunyai banyak image dengan loss yang rendah namun terdapat satu image lain yang mempunyai loss yang sangat tinggi, maka loss validation kita akan tiba-tiba spiking-up. Hasil yang ditunjukan pada epoch ke-20 yaitu accuracy dan val loss kedua-duanya naik menyebabkan overfit. Hal ini menyebabkan network hanya belajar pada pola tertentu yang relevan untuk training set dan kurang baik untuk generalisasi. Namun disaat yang bersamaan, network tetap mempelajari pattern yang berguna untuk generalisasi karena makin banyak image untuk diklasifikasi\n",
        "\n",
        "referensi: - https://stats.stackexchange.com/questions/282160/how-is-it-possible-that-validation-loss-is-increasing-while-validation-accuracy"
      ]
    },
    {
      "cell_type": "code",
      "execution_count": null,
      "id": "0a74f22a",
      "metadata": {
        "id": "0a74f22a",
        "outputId": "0af47f73-3f78-4bed-86dd-a50ef4864e20"
      },
      "outputs": [
        {
          "name": "stdout",
          "output_type": "stream",
          "text": [
            "Model: \"sequential\"\n",
            "_________________________________________________________________\n",
            " Layer (type)                Output Shape              Param #   \n",
            "=================================================================\n",
            " conv2d (Conv2D)             (None, 60, 60, 32)        2432      \n",
            "                                                                 \n",
            " max_pooling2d (MaxPooling2D  (None, 30, 30, 32)       0         \n",
            " )                                                               \n",
            "                                                                 \n",
            " conv2d_1 (Conv2D)           (None, 28, 28, 32)        9248      \n",
            "                                                                 \n",
            " max_pooling2d_1 (MaxPooling  (None, 14, 14, 32)       0         \n",
            " 2D)                                                             \n",
            "                                                                 \n",
            " conv2d_2 (Conv2D)           (None, 12, 12, 32)        9248      \n",
            "                                                                 \n",
            " max_pooling2d_2 (MaxPooling  (None, 6, 6, 32)         0         \n",
            " 2D)                                                             \n",
            "                                                                 \n",
            " flatten (Flatten)           (None, 1152)              0         \n",
            "                                                                 \n",
            " dense (Dense)               (None, 128)               147584    \n",
            "                                                                 \n",
            " dense_1 (Dense)             (None, 26)                3354      \n",
            "                                                                 \n",
            "=================================================================\n",
            "Total params: 171,866\n",
            "Trainable params: 171,866\n",
            "Non-trainable params: 0\n",
            "_________________________________________________________________\n"
          ]
        }
      ],
      "source": [
        "cnn.summary()"
      ]
    },
    {
      "cell_type": "code",
      "execution_count": null,
      "id": "dec843c0",
      "metadata": {
        "id": "dec843c0"
      },
      "outputs": [],
      "source": [
        "tuner = kt.Hyperband(cnn1,\n",
        "                     objective='val_accuracy',\n",
        "                     max_epochs=10,\n",
        "                     factor=3,\n",
        "                     directory='my_dir',\n",
        "                     project_name='intro_to_kt')"
      ]
    },
    {
      "cell_type": "code",
      "execution_count": null,
      "id": "f658a66d",
      "metadata": {
        "id": "f658a66d"
      },
      "outputs": [],
      "source": [
        "from tensorflow.keras.models import Sequential\n",
        "from tensorflow.keras.layers import Conv2D, MaxPooling2D, Dense, Flatten, Dropout"
      ]
    },
    {
      "cell_type": "markdown",
      "id": "5f9243ed",
      "metadata": {
        "id": "5f9243ed"
      },
      "source": [
        "https://stats.stackexchange.com/questions/282160/how-is-it-possible-that-validation-loss-is-increasing-while-validation-accuracy"
      ]
    },
    {
      "cell_type": "markdown",
      "id": "476693d2",
      "metadata": {
        "id": "476693d2"
      },
      "source": [
        "# 1d. dropout, batch normalization, tuning hyperparameter\n"
      ]
    },
    {
      "cell_type": "code",
      "execution_count": null,
      "id": "cd78b7df",
      "metadata": {
        "id": "cd78b7df"
      },
      "outputs": [],
      "source": [
        "from keras.layers import BatchNormalization\n",
        "from keras.layers import Dropout"
      ]
    },
    {
      "cell_type": "code",
      "execution_count": null,
      "id": "54c9ec32",
      "metadata": {
        "id": "54c9ec32"
      },
      "outputs": [],
      "source": [
        "!pip install -q -U keras-tuner\n",
        "import keras_tuner as kt"
      ]
    },
    {
      "cell_type": "code",
      "execution_count": null,
      "id": "6a15d543",
      "metadata": {
        "id": "6a15d543"
      },
      "outputs": [],
      "source": [
        "cnnrework = tf.keras.models.Sequential()"
      ]
    },
    {
      "cell_type": "code",
      "execution_count": null,
      "id": "2d51e44b",
      "metadata": {
        "id": "2d51e44b"
      },
      "outputs": [],
      "source": [
        "cnnrework.add(Dropout(0.25))"
      ]
    },
    {
      "cell_type": "code",
      "execution_count": null,
      "id": "896c97e8",
      "metadata": {
        "id": "896c97e8"
      },
      "outputs": [],
      "source": [
        "cnnrework.add(BatchNormalization())"
      ]
    },
    {
      "cell_type": "code",
      "execution_count": null,
      "id": "5f1d1987",
      "metadata": {
        "id": "5f1d1987"
      },
      "outputs": [],
      "source": [
        "cnnrework.add(tf.keras.layers.Conv2D(filters=16, kernel_size=5, activation='relu', input_shape=[64, 64, 3]))"
      ]
    },
    {
      "cell_type": "code",
      "execution_count": null,
      "id": "5bd27e74",
      "metadata": {
        "id": "5bd27e74"
      },
      "outputs": [],
      "source": [
        "cnnrework.add(tf.keras.layers.MaxPool2D(pool_size=2, strides=2))"
      ]
    },
    {
      "cell_type": "code",
      "execution_count": null,
      "id": "a2b27bad",
      "metadata": {
        "id": "a2b27bad"
      },
      "outputs": [],
      "source": [
        "cnnrework.add(Dropout(0.25))"
      ]
    },
    {
      "cell_type": "code",
      "execution_count": null,
      "id": "a4f8bf39",
      "metadata": {
        "id": "a4f8bf39"
      },
      "outputs": [],
      "source": [
        "cnnrework.add(BatchNormalization())"
      ]
    },
    {
      "cell_type": "code",
      "execution_count": null,
      "id": "5255f3a6",
      "metadata": {
        "id": "5255f3a6"
      },
      "outputs": [],
      "source": [
        "cnnrework.add(tf.keras.layers.Conv2D(filters=32, kernel_size=3, activation='relu', input_shape=[32, 32, 3]))\n",
        "cnnrework.add(tf.keras.layers.MaxPool2D(pool_size=2, strides=2))"
      ]
    },
    {
      "cell_type": "code",
      "execution_count": null,
      "id": "de8d8e7b",
      "metadata": {
        "id": "de8d8e7b"
      },
      "outputs": [],
      "source": [
        "cnnrework.add(Dropout(0.25))"
      ]
    },
    {
      "cell_type": "code",
      "execution_count": null,
      "id": "4e96b167",
      "metadata": {
        "id": "4e96b167"
      },
      "outputs": [],
      "source": [
        "cnnrework.add(BatchNormalization())"
      ]
    },
    {
      "cell_type": "code",
      "execution_count": null,
      "id": "fdedcdcc",
      "metadata": {
        "id": "fdedcdcc"
      },
      "outputs": [],
      "source": [
        "cnnrework.add(tf.keras.layers.Conv2D(filters=16, kernel_size=3, activation='relu', input_shape=[32, 32, 3]))\n",
        "cnnrework.add(tf.keras.layers.MaxPool2D(pool_size=2, strides=2))"
      ]
    },
    {
      "cell_type": "code",
      "execution_count": null,
      "id": "f6b0790b",
      "metadata": {
        "scrolled": true,
        "id": "f6b0790b"
      },
      "outputs": [],
      "source": [
        "cnnrework.add(Dropout(0.25))"
      ]
    },
    {
      "cell_type": "code",
      "execution_count": null,
      "id": "c1f21bd8",
      "metadata": {
        "id": "c1f21bd8"
      },
      "outputs": [],
      "source": [
        "cnnrework.add(BatchNormalization())"
      ]
    },
    {
      "cell_type": "code",
      "execution_count": null,
      "id": "da4a52ab",
      "metadata": {
        "id": "da4a52ab"
      },
      "outputs": [],
      "source": [
        "cnnrework.add(tf.keras.layers.Flatten())"
      ]
    },
    {
      "cell_type": "code",
      "execution_count": null,
      "id": "7db7e38f",
      "metadata": {
        "id": "7db7e38f"
      },
      "outputs": [],
      "source": [
        "cnnrework.add(tf.keras.layers.Dense(units=128, activation='relu'))"
      ]
    },
    {
      "cell_type": "code",
      "execution_count": null,
      "id": "125bf3d7",
      "metadata": {
        "id": "125bf3d7"
      },
      "outputs": [],
      "source": [
        "cnnrework.add(tf.keras.layers.Dense(units=26, activation='softmax'))"
      ]
    },
    {
      "cell_type": "markdown",
      "id": "163debeb",
      "metadata": {
        "id": "163debeb"
      },
      "source": [
        "### compile the cnn"
      ]
    },
    {
      "cell_type": "code",
      "execution_count": null,
      "id": "7f7bc98d",
      "metadata": {
        "id": "7f7bc98d"
      },
      "outputs": [],
      "source": [
        "cnnrework.compile(optimizer='adam', loss = 'sparse_categorical_crossentropy' , metrics = ['accuracy'])"
      ]
    },
    {
      "cell_type": "code",
      "execution_count": null,
      "id": "5e16e3da",
      "metadata": {
        "id": "5e16e3da"
      },
      "outputs": [],
      "source": [
        "logdir='logs'"
      ]
    },
    {
      "cell_type": "code",
      "execution_count": null,
      "id": "f38a247e",
      "metadata": {
        "id": "f38a247e"
      },
      "outputs": [],
      "source": [
        "tensorboard_callback = tf.keras.callbacks.TensorBoard(log_dir=logdir)"
      ]
    },
    {
      "cell_type": "code",
      "execution_count": null,
      "id": "210b296b",
      "metadata": {
        "scrolled": true,
        "id": "210b296b",
        "outputId": "ad37ed28-0c85-41e9-e9d8-7492f9ffacba"
      },
      "outputs": [
        {
          "name": "stdout",
          "output_type": "stream",
          "text": [
            "Epoch 1/20\n",
            "650/650 [==============================] - 76s 115ms/step - loss: 1.3852 - accuracy: 0.5395 - val_loss: 9.2688 - val_accuracy: 0.0715\n",
            "Epoch 2/20\n",
            "650/650 [==============================] - 74s 114ms/step - loss: 0.4690 - accuracy: 0.8339 - val_loss: 11.2017 - val_accuracy: 0.1117\n",
            "Epoch 3/20\n",
            "650/650 [==============================] - 73s 112ms/step - loss: 0.2655 - accuracy: 0.9061 - val_loss: 12.4718 - val_accuracy: 0.1104\n",
            "Epoch 4/20\n",
            "650/650 [==============================] - 74s 114ms/step - loss: 0.1782 - accuracy: 0.9389 - val_loss: 14.3477 - val_accuracy: 0.0946\n",
            "Epoch 5/20\n",
            "650/650 [==============================] - 74s 114ms/step - loss: 0.1318 - accuracy: 0.9525 - val_loss: 14.1881 - val_accuracy: 0.1198\n",
            "Epoch 6/20\n",
            "650/650 [==============================] - 75s 114ms/step - loss: 0.1146 - accuracy: 0.9602 - val_loss: 15.3686 - val_accuracy: 0.1235\n",
            "Epoch 7/20\n",
            "650/650 [==============================] - 74s 114ms/step - loss: 0.0912 - accuracy: 0.9682 - val_loss: 12.5394 - val_accuracy: 0.1435\n",
            "Epoch 8/20\n",
            "650/650 [==============================] - 76s 117ms/step - loss: 0.0821 - accuracy: 0.9707 - val_loss: 14.1267 - val_accuracy: 0.1325\n",
            "Epoch 9/20\n",
            "650/650 [==============================] - 94s 144ms/step - loss: 0.0683 - accuracy: 0.9754 - val_loss: 14.6507 - val_accuracy: 0.1288\n",
            "Epoch 10/20\n",
            "650/650 [==============================] - 98s 150ms/step - loss: 0.0684 - accuracy: 0.9748 - val_loss: 13.8345 - val_accuracy: 0.1465\n",
            "Epoch 11/20\n",
            "650/650 [==============================] - 101s 155ms/step - loss: 0.0564 - accuracy: 0.9803 - val_loss: 14.7610 - val_accuracy: 0.1387\n",
            "Epoch 12/20\n",
            "650/650 [==============================] - 91s 140ms/step - loss: 0.0596 - accuracy: 0.9793 - val_loss: 14.2401 - val_accuracy: 0.1490\n",
            "Epoch 13/20\n",
            "650/650 [==============================] - 77s 119ms/step - loss: 0.0427 - accuracy: 0.9853 - val_loss: 14.1489 - val_accuracy: 0.1462\n",
            "Epoch 14/20\n",
            "650/650 [==============================] - 74s 114ms/step - loss: 0.0479 - accuracy: 0.9841 - val_loss: 13.3973 - val_accuracy: 0.1756\n",
            "Epoch 15/20\n",
            "650/650 [==============================] - 76s 117ms/step - loss: 0.0424 - accuracy: 0.9852 - val_loss: 16.2157 - val_accuracy: 0.0990\n",
            "Epoch 16/20\n",
            "650/650 [==============================] - 75s 115ms/step - loss: 0.0414 - accuracy: 0.9861 - val_loss: 12.8319 - val_accuracy: 0.2002\n",
            "Epoch 17/20\n",
            "650/650 [==============================] - 76s 116ms/step - loss: 0.0393 - accuracy: 0.9859 - val_loss: 15.2171 - val_accuracy: 0.1490\n",
            "Epoch 18/20\n",
            "650/650 [==============================] - 75s 115ms/step - loss: 0.0392 - accuracy: 0.9872 - val_loss: 16.9523 - val_accuracy: 0.1531\n",
            "Epoch 19/20\n",
            "650/650 [==============================] - 74s 114ms/step - loss: 0.0325 - accuracy: 0.9888 - val_loss: 16.1470 - val_accuracy: 0.1467\n",
            "Epoch 20/20\n",
            "650/650 [==============================] - 75s 115ms/step - loss: 0.0311 - accuracy: 0.9900 - val_loss: 17.2143 - val_accuracy: 0.1235\n"
          ]
        }
      ],
      "source": [
        "hist = cnnrework.fit(train, epochs=20, validation_data=val, callbacks=[tensorboard_callback])"
      ]
    },
    {
      "cell_type": "code",
      "execution_count": null,
      "id": "beb89f60",
      "metadata": {
        "id": "beb89f60",
        "outputId": "8316942b-5f95-4ebf-d714-f9a8f243a277"
      },
      "outputs": [
        {
          "name": "stdout",
          "output_type": "stream",
          "text": [
            "Model: \"sequential_1\"\n",
            "_________________________________________________________________\n",
            " Layer (type)                Output Shape              Param #   \n",
            "=================================================================\n",
            " dropout (Dropout)           (None, 64, 64, 3)         0         \n",
            "                                                                 \n",
            " batch_normalization (BatchN  (None, 64, 64, 3)        12        \n",
            " ormalization)                                                   \n",
            "                                                                 \n",
            " conv2d_3 (Conv2D)           (None, 60, 60, 16)        1216      \n",
            "                                                                 \n",
            " max_pooling2d_3 (MaxPooling  (None, 30, 30, 16)       0         \n",
            " 2D)                                                             \n",
            "                                                                 \n",
            " dropout_1 (Dropout)         (None, 30, 30, 16)        0         \n",
            "                                                                 \n",
            " batch_normalization_1 (Batc  (None, 30, 30, 16)       64        \n",
            " hNormalization)                                                 \n",
            "                                                                 \n",
            " conv2d_4 (Conv2D)           (None, 28, 28, 32)        4640      \n",
            "                                                                 \n",
            " max_pooling2d_4 (MaxPooling  (None, 14, 14, 32)       0         \n",
            " 2D)                                                             \n",
            "                                                                 \n",
            " dropout_2 (Dropout)         (None, 14, 14, 32)        0         \n",
            "                                                                 \n",
            " batch_normalization_2 (Batc  (None, 14, 14, 32)       128       \n",
            " hNormalization)                                                 \n",
            "                                                                 \n",
            " conv2d_5 (Conv2D)           (None, 12, 12, 16)        4624      \n",
            "                                                                 \n",
            " max_pooling2d_5 (MaxPooling  (None, 6, 6, 16)         0         \n",
            " 2D)                                                             \n",
            "                                                                 \n",
            " dropout_3 (Dropout)         (None, 6, 6, 16)          0         \n",
            "                                                                 \n",
            " batch_normalization_3 (Batc  (None, 6, 6, 16)         64        \n",
            " hNormalization)                                                 \n",
            "                                                                 \n",
            " flatten_1 (Flatten)         (None, 576)               0         \n",
            "                                                                 \n",
            " dense_2 (Dense)             (None, 128)               73856     \n",
            "                                                                 \n",
            " dense_3 (Dense)             (None, 26)                3354      \n",
            "                                                                 \n",
            "=================================================================\n",
            "Total params: 87,958\n",
            "Trainable params: 87,824\n",
            "Non-trainable params: 134\n",
            "_________________________________________________________________\n"
          ]
        }
      ],
      "source": [
        "cnnrework.summary()"
      ]
    },
    {
      "cell_type": "code",
      "execution_count": null,
      "id": "20990b17",
      "metadata": {
        "id": "20990b17",
        "outputId": "9c3a3365-45d5-45da-cf78-b7492b5f9ced"
      },
      "outputs": [
        {
          "data": {
            "image/png": "[encoded data removed]",
            "text/plain": [
              "<Figure size 432x288 with 1 Axes>"
            ]
          },
          "metadata": {
            "needs_background": "light"
          },
          "output_type": "display_data"
        }
      ],
      "source": [
        "fig = plt.figure()\n",
        "plt.plot(hist.history['loss'], color='teal', label='loss')\n",
        "plt.plot(hist.history['val_loss'], color='orange', label='val_loss')\n",
        "fig.suptitle('Loss', fontsize=20)\n",
        "plt.legend(loc=\"upper left\")\n",
        "plt.show()"
      ]
    },
    {
      "cell_type": "code",
      "execution_count": null,
      "id": "d1e71353",
      "metadata": {
        "scrolled": true,
        "id": "d1e71353",
        "outputId": "d9c0be6b-8d0a-4199-bb25-cd4076ea8a7a"
      },
      "outputs": [
        {
          "data": {
            "image/png": "[encoded data removed]",
            "text/plain": [
              "<Figure size 432x288 with 1 Axes>"
            ]
          },
          "metadata": {
            "needs_background": "light"
          },
          "output_type": "display_data"
        }
      ],
      "source": [
        "fig = plt.figure()\n",
        "plt.plot(hist.history['accuracy'], color='teal', label='accuracy')\n",
        "plt.plot(hist.history['val_accuracy'], color='orange', label='val_accuracy')\n",
        "fig.suptitle('Accuracy', fontsize=20)\n",
        "plt.legend(loc=\"upper left\")\n",
        "plt.show()"
      ]
    },
    {
      "cell_type": "markdown",
      "id": "52752846",
      "metadata": {
        "id": "52752846"
      },
      "source": [
        "arsitektur cnn telah dilakukan modifikasi. Modifikasi yang dilakukan adalah adanya penambahan layer dropout dan juga layer batchnormalization. Penambahan layer dropout mengatasi masalah overfitting yang ada. Overfitting disebabkan oleh adanya pattern palsu yang dipelajari network dalam training data. Untuk mengenali pola ini, weight dijadikan patokan untuk mengukur. Dropout layer berfungsi untuk mendrop sedikit random layer unit pada saat training. Hal ini membuat pattern yang palsu lebih sulit dipelajari oleh network pada saat mentraining data sehingga network dipaksa untuk mencari patternyang lebih luas, umum, dan mempunyai bobot yang kuat.\n",
        "\n",
        "Selain dropout layer, penambahan batch normalization dilakukan untuk menormalisasi data didalam layer network. Batch_normalization dilakukan pada setiap kali batch datang. Hal pertama yang dilakukan adalah menormalisasi dengan mean dan standard deviation masing-masing, kemudian juga akan membuat data memiliki scale yang baru dengan dua trainable rescaling parameter.\n",
        "\n",
        "referensi: -https://www.kaggle.com/code/ryanholbrook/dropout-and-batch-normalization\n",
        "\n",
        "Kedua hal tersebut adalah alasan mengapa arsitektur cnnrework lebih baik daripada arsitektur asli"
      ]
    },
    {
      "cell_type": "markdown",
      "id": "4ac2722c",
      "metadata": {
        "id": "4ac2722c"
      },
      "source": [
        "# 1e. evaluation"
      ]
    },
    {
      "cell_type": "code",
      "execution_count": null,
      "id": "c3717d79",
      "metadata": {
        "scrolled": true,
        "id": "c3717d79",
        "outputId": "071efbc4-9262-4eca-bf05-4ea4e9a98c64"
      },
      "outputs": [
        {
          "name": "stdout",
          "output_type": "stream",
          "text": [
            "1/1 [==============================] - 0s 20ms/step\n"
          ]
        }
      ],
      "source": [
        "import numpy as np\n",
        "#from keras.preprocessing import image\n",
        "from keras.utils import load_img, img_to_array\n",
        "test_image = load_img('test/asl_alphabet_test/asl_alphabet_test/B_test.jpg', target_size = (64, 64))\n",
        "test_image = img_to_array(test_image)\n",
        "test_image = np.expand_dims(test_image, axis = 0)\n",
        "result = cnn.predict(test_image)"
      ]
    },
    {
      "cell_type": "code",
      "execution_count": null,
      "id": "36f4848e",
      "metadata": {
        "id": "36f4848e",
        "outputId": "483da3cc-aa2c-4cf4-9905-7dedf3febdf2"
      },
      "outputs": [
        {
          "name": "stdout",
          "output_type": "stream",
          "text": [
            "[[0. 1. 0. 0. 0. 0. 0. 0. 0. 0. 0. 0. 0. 0. 0. 0. 0. 0. 0. 0. 0. 0. 0. 0.\n",
            "  0. 0.]]\n"
          ]
        }
      ],
      "source": [
        "print(result)"
      ]
    },
    {
      "cell_type": "code",
      "execution_count": null,
      "id": "98ad12a0",
      "metadata": {
        "id": "98ad12a0"
      },
      "outputs": [],
      "source": [
        "res = np.array2string(result)"
      ]
    },
    {
      "cell_type": "markdown",
      "id": "1a26aa91",
      "metadata": {
        "id": "1a26aa91"
      },
      "source": [
        "model cnn sukses memprediksi bahwa gambar yang dinput adalah alphabet B. "
      ]
    },
    {
      "cell_type": "code",
      "execution_count": null,
      "id": "195da2c8",
      "metadata": {
        "id": "195da2c8",
        "outputId": "32c52c0f-c5f4-4488-f6cb-9e28ddd2a92a"
      },
      "outputs": [
        {
          "name": "stdout",
          "output_type": "stream",
          "text": [
            "1/1 [==============================] - 0s 19ms/step\n"
          ]
        }
      ],
      "source": [
        "import numpy as np\n",
        "#from keras.preprocessing import image\n",
        "from keras.utils import load_img, img_to_array\n",
        "test_image = load_img('test/asl_alphabet_test/asl_alphabet_test/J_test.jpg', target_size = (64, 64))\n",
        "test_image = img_to_array(test_image)\n",
        "test_image = np.expand_dims(test_image, axis = 0)\n",
        "result = cnn.predict(test_image)"
      ]
    },
    {
      "cell_type": "code",
      "execution_count": null,
      "id": "466ba3b9",
      "metadata": {
        "scrolled": true,
        "id": "466ba3b9",
        "outputId": "192ea8a9-d5d9-4e4f-e635-a68621cb21ed"
      },
      "outputs": [
        {
          "name": "stdout",
          "output_type": "stream",
          "text": [
            "[[0. 0. 0. 0. 0. 0. 0. 0. 0. 1. 0. 0. 0. 0. 0. 0. 0. 0. 0. 0. 0. 0. 0. 0.\n",
            "  0. 0.]]\n"
          ]
        }
      ],
      "source": [
        "print(result)"
      ]
    },
    {
      "cell_type": "markdown",
      "id": "3f453dda",
      "metadata": {
        "id": "3f453dda"
      },
      "source": [
        "model cnn berhasil memprediksi bahwa gambar yang diinput adalah aphabet J"
      ]
    },
    {
      "cell_type": "markdown",
      "id": "c52635ce",
      "metadata": {
        "id": "c52635ce"
      },
      "source": [
        "analisis:\n",
        "performa dari arsitektur yang terdapat pada 2d dapat dikatakan memiliki performa yang lebih baik dibandingkan dengan arstiktur pada 2c. meskipun mempunyai nilai akurasi yang sedikit lebih kecil dari pada arsitektur 2c (asli), tetapi arsitektur 2d dapat mengatasi permasalahan overfitting pada arsitektur 2c sehingga dapat menghasilkan prediksi yang lebih akurat. Penambahan droput layer dan batch normalization sesudah conv2d dan maaxpooling layer terbukti dapat meningkatkan akurasi dari model. "
      ]
    }
  ],
  "metadata": {
    "kernelspec": {
      "display_name": "Python 3 (ipykernel)",
      "language": "python",
      "name": "python3"
    },
    "language_info": {
      "codemirror_mode": {
        "name": "ipython",
        "version": 3
      },
      "file_extension": ".py",
      "mimetype": "text/x-python",
      "name": "python",
      "nbconvert_exporter": "python",
      "pygments_lexer": "ipython3",
      "version": "3.9.7"
    },
    "colab": {
      "provenance": [],
      "include_colab_link": true
    }
  },
  "nbformat": 4,
  "nbformat_minor": 5
}