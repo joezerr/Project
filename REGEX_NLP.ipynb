{
  "nbformat": 4,
  "nbformat_minor": 0,
  "metadata": {
    "colab": {
      "provenance": [],
      "authorship_tag": "ABX9TyN5Mj8eJ1U69a3n3zoxTbOY",
      "include_colab_link": true
    },
    "kernelspec": {
      "name": "python3",
      "display_name": "Python 3"
    },
    "language_info": {
      "name": "python"
    }
  },
  "cells": [
    {
      "cell_type": "markdown",
      "metadata": {
        "id": "view-in-github",
        "colab_type": "text"
      },
      "source": [
        "<a href=\"https://colab.research.google.com/github/joezerr/Project/blob/main/REGEX_NLP.ipynb\" target=\"_parent\"><img src=\"https://colab.research.google.com/assets/colab-badge.svg\" alt=\"Open In Colab\"/></a>"
      ]
    },
    {
      "cell_type": "code",
      "execution_count": null,
      "metadata": {
        "id": "qDd1a8rsabjE"
      },
      "outputs": [],
      "source": [
        "import re"
      ]
    },
    {
      "cell_type": "code",
      "source": [
        "sentence = \"Indonesian, Singaporean and Malaysian Phone Number pattern (examples: +62215262578, +60358577, +60388888000).\" "
      ],
      "metadata": {
        "id": "AD-0j8M8a8_n"
      },
      "execution_count": null,
      "outputs": []
    },
    {
      "cell_type": "code",
      "source": [
        "sentence2 = \"jojo@bee.edu.au \"\n"
      ],
      "metadata": {
        "id": "Hx1wE-SjdNgn"
      },
      "execution_count": null,
      "outputs": []
    },
    {
      "cell_type": "code",
      "source": [
        "sentence3 = \"jolly.wanda@bee.edu, \""
      ],
      "metadata": {
        "id": "VZo2N0UjMphr"
      },
      "execution_count": null,
      "outputs": []
    },
    {
      "cell_type": "code",
      "source": [
        "pattern = r\"\\(?(?:\\+62|\\+60|\\+65)(?:\\d{2,3})?\\)?[ .-]?\\d{2,4}[ .-]?\\d{2,4}[ .-]?\\d{2,4}\""
      ],
      "metadata": {
        "id": "7SfjhCElbSd1"
      },
      "execution_count": null,
      "outputs": []
    },
    {
      "cell_type": "code",
      "source": [
        "pattern2 = r\"([a-z\\d\\.]+)@bee\\.([a-z]{1,3})(\\.[a-z]{1,3})?\""
      ],
      "metadata": {
        "id": "mI4AgGXZdaQZ"
      },
      "execution_count": null,
      "outputs": []
    },
    {
      "cell_type": "code",
      "source": [
        "phone_numbers = re.findall(pattern,sentence)"
      ],
      "metadata": {
        "id": "0TkQ1M68bdvv"
      },
      "execution_count": null,
      "outputs": []
    },
    {
      "cell_type": "code",
      "source": [
        "email = re.search(pattern2,sentence2)\n"
      ],
      "metadata": {
        "id": "6M6UZ10mdkL_"
      },
      "execution_count": null,
      "outputs": []
    },
    {
      "cell_type": "code",
      "source": [
        "email2 = re.search(pattern2,sentence3)"
      ],
      "metadata": {
        "id": "pQPbz_BUM8xY"
      },
      "execution_count": null,
      "outputs": []
    },
    {
      "cell_type": "code",
      "source": [
        "print(phone_numbers)"
      ],
      "metadata": {
        "colab": {
          "base_uri": "https://localhost:8080/"
        },
        "id": "fvZBCcYgbntH",
        "outputId": "83a37485-def1-4945-86a3-959489c6b1e5"
      },
      "execution_count": null,
      "outputs": [
        {
          "output_type": "stream",
          "name": "stdout",
          "text": [
            "['+62215262578', '+60358577', '+60388888000']\n"
          ]
        }
      ]
    },
    {
      "cell_type": "code",
      "source": [
        "print(email)"
      ],
      "metadata": {
        "colab": {
          "base_uri": "https://localhost:8080/"
        },
        "id": "qUPmsTEXdu7M",
        "outputId": "a05e8772-dad3-4975-c117-59b457bf2404"
      },
      "execution_count": null,
      "outputs": [
        {
          "output_type": "stream",
          "name": "stdout",
          "text": [
            "<re.Match object; span=(0, 15), match='jojo@bee.edu.au'>\n"
          ]
        }
      ]
    },
    {
      "cell_type": "code",
      "source": [
        "print(email2)"
      ],
      "metadata": {
        "colab": {
          "base_uri": "https://localhost:8080/"
        },
        "id": "fbIPJ3BiNINb",
        "outputId": "bf1a0fd7-0c5e-4780-f064-256a003ca6fc"
      },
      "execution_count": null,
      "outputs": [
        {
          "output_type": "stream",
          "name": "stdout",
          "text": [
            "<re.Match object; span=(0, 19), match='jolly.wanda@bee.edu'>\n"
          ]
        }
      ]
    }
  ]
}