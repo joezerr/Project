{
  "nbformat": 4,
  "nbformat_minor": 0,
  "metadata": {
    "colab": {
      "provenance": [],
      "collapsed_sections": [
        "meHbY7tQ5Rs1"
      ],
      "include_colab_link": true
    },
    "kernelspec": {
      "name": "python3",
      "display_name": "Python 3"
    },
    "language_info": {
      "name": "python"
    }
  },
  "cells": [
    {
      "cell_type": "markdown",
      "metadata": {
        "id": "view-in-github",
        "colab_type": "text"
      },
      "source": [
        "<a href=\"https://colab.research.google.com/github/joezerr/Project/blob/main/Final_project_ML_prediksi_harga_rumah_alsut.ipynb\" target=\"_parent\"><img src=\"https://colab.research.google.com/assets/colab-badge.svg\" alt=\"Open In Colab\"/></a>"
      ]
    },
    {
      "cell_type": "markdown",
      "source": [
        "2440010334 - Nicholas\n",
        "\n",
        "2440057672 - Joseph Adiel Ebenezer\n",
        "\n",
        "2440045161 - Audia Maharani"
      ],
      "metadata": {
        "id": "PVdJTtB21YhV"
      }
    },
    {
      "cell_type": "code",
      "execution_count": null,
      "metadata": {
        "id": "7yAhPFVqmVsk"
      },
      "outputs": [],
      "source": [
        "import pandas as pd\n",
        "import numpy as np\n",
        "import seaborn as sns\n",
        "import matplotlib.pyplot as plt\n",
        "import sklearn\n",
        "import math\n",
        "\n",
        "from sklearn.compose import ColumnTransformer\n",
        "from sklearn.preprocessing import OneHotEncoder,StandardScaler\n",
        "from sklearn.decomposition import PCA\n",
        "from sklearn.metrics import mean_squared_error, r2_score\n",
        "from sklearn.model_selection import train_test_split"
      ]
    },
    {
      "cell_type": "markdown",
      "source": [
        "#Import dataset"
      ],
      "metadata": {
        "id": "RtGUeLj857wh"
      }
    },
    {
      "cell_type": "code",
      "source": [
        "df=pd.read_csv('https://raw.githubusercontent.com/UrDailyCs/datasetsQuizML/main/DataRumah%20-%20Sheet1.txt')\n",
        "df.head()"
      ],
      "metadata": {
        "colab": {
          "base_uri": "https://localhost:8080/",
          "height": 206
        },
        "id": "I2ZCrU3Xpw8n",
        "outputId": "8e8474a4-4394-4f26-8ff5-b405afffd22f"
      },
      "execution_count": null,
      "outputs": [
        {
          "output_type": "execute_result",
          "data": {
            "text/plain": [
              "               perumahan     cluster  luas tanah  luas bangunan  kamar tidur  \\\n",
              "0            Alam Sutera       Buana         128            138            5   \n",
              "1            Alam Sutera       Buana         323            440            5   \n",
              "2            Alam Sutera  Danau Biru         200            155            5   \n",
              "3            Alam Sutera      Renata         350            400            5   \n",
              "4  Golden Park 3 Serpong      Athena          50             31            2   \n",
              "\n",
              "   kamar mandi       harga  \n",
              "0            4  3190000000  \n",
              "1            2  4900000000  \n",
              "2            4  4020000000  \n",
              "3            3  8500000000  \n",
              "4            1   966818300  "
            ],
            "text/html": [
              "\n",
              "  <div id=\"df-384c6480-c860-4faf-b21d-6309be0a2a2b\">\n",
              "    <div class=\"colab-df-container\">\n",
              "      <div>\n",
              "<style scoped>\n",
              "    .dataframe tbody tr th:only-of-type {\n",
              "        vertical-align: middle;\n",
              "    }\n",
              "\n",
              "    .dataframe tbody tr th {\n",
              "        vertical-align: top;\n",
              "    }\n",
              "\n",
              "    .dataframe thead th {\n",
              "        text-align: right;\n",
              "    }\n",
              "</style>\n",
              "<table border=\"1\" class=\"dataframe\">\n",
              "  <thead>\n",
              "    <tr style=\"text-align: right;\">\n",
              "      <th></th>\n",
              "      <th>perumahan</th>\n",
              "      <th>cluster</th>\n",
              "      <th>luas tanah</th>\n",
              "      <th>luas bangunan</th>\n",
              "      <th>kamar tidur</th>\n",
              "      <th>kamar mandi</th>\n",
              "      <th>harga</th>\n",
              "    </tr>\n",
              "  </thead>\n",
              "  <tbody>\n",
              "    <tr>\n",
              "      <th>0</th>\n",
              "      <td>Alam Sutera</td>\n",
              "      <td>Buana</td>\n",
              "      <td>128</td>\n",
              "      <td>138</td>\n",
              "      <td>5</td>\n",
              "      <td>4</td>\n",
              "      <td>3190000000</td>\n",
              "    </tr>\n",
              "    <tr>\n",
              "      <th>1</th>\n",
              "      <td>Alam Sutera</td>\n",
              "      <td>Buana</td>\n",
              "      <td>323</td>\n",
              "      <td>440</td>\n",
              "      <td>5</td>\n",
              "      <td>2</td>\n",
              "      <td>4900000000</td>\n",
              "    </tr>\n",
              "    <tr>\n",
              "      <th>2</th>\n",
              "      <td>Alam Sutera</td>\n",
              "      <td>Danau Biru</td>\n",
              "      <td>200</td>\n",
              "      <td>155</td>\n",
              "      <td>5</td>\n",
              "      <td>4</td>\n",
              "      <td>4020000000</td>\n",
              "    </tr>\n",
              "    <tr>\n",
              "      <th>3</th>\n",
              "      <td>Alam Sutera</td>\n",
              "      <td>Renata</td>\n",
              "      <td>350</td>\n",
              "      <td>400</td>\n",
              "      <td>5</td>\n",
              "      <td>3</td>\n",
              "      <td>8500000000</td>\n",
              "    </tr>\n",
              "    <tr>\n",
              "      <th>4</th>\n",
              "      <td>Golden Park 3 Serpong</td>\n",
              "      <td>Athena</td>\n",
              "      <td>50</td>\n",
              "      <td>31</td>\n",
              "      <td>2</td>\n",
              "      <td>1</td>\n",
              "      <td>966818300</td>\n",
              "    </tr>\n",
              "  </tbody>\n",
              "</table>\n",
              "</div>\n",
              "      <button class=\"colab-df-convert\" onclick=\"convertToInteractive('df-384c6480-c860-4faf-b21d-6309be0a2a2b')\"\n",
              "              title=\"Convert this dataframe to an interactive table.\"\n",
              "              style=\"display:none;\">\n",
              "        \n",
              "  <svg xmlns=\"http://www.w3.org/2000/svg\" height=\"24px\"viewBox=\"0 0 24 24\"\n",
              "       width=\"24px\">\n",
              "    <path d=\"M0 0h24v24H0V0z\" fill=\"none\"/>\n",
              "    <path d=\"M18.56 5.44l.94 2.06.94-2.06 2.06-.94-2.06-.94-.94-2.06-.94 2.06-2.06.94zm-11 1L8.5 8.5l.94-2.06 2.06-.94-2.06-.94L8.5 2.5l-.94 2.06-2.06.94zm10 10l.94 2.06.94-2.06 2.06-.94-2.06-.94-.94-2.06-.94 2.06-2.06.94z\"/><path d=\"M17.41 7.96l-1.37-1.37c-.4-.4-.92-.59-1.43-.59-.52 0-1.04.2-1.43.59L10.3 9.45l-7.72 7.72c-.78.78-.78 2.05 0 2.83L4 21.41c.39.39.9.59 1.41.59.51 0 1.02-.2 1.41-.59l7.78-7.78 2.81-2.81c.8-.78.8-2.07 0-2.86zM5.41 20L4 18.59l7.72-7.72 1.47 1.35L5.41 20z\"/>\n",
              "  </svg>\n",
              "      </button>\n",
              "      \n",
              "  <style>\n",
              "    .colab-df-container {\n",
              "      display:flex;\n",
              "      flex-wrap:wrap;\n",
              "      gap: 12px;\n",
              "    }\n",
              "\n",
              "    .colab-df-convert {\n",
              "      background-color: #E8F0FE;\n",
              "      border: none;\n",
              "      border-radius: 50%;\n",
              "      cursor: pointer;\n",
              "      display: none;\n",
              "      fill: #1967D2;\n",
              "      height: 32px;\n",
              "      padding: 0 0 0 0;\n",
              "      width: 32px;\n",
              "    }\n",
              "\n",
              "    .colab-df-convert:hover {\n",
              "      background-color: #E2EBFA;\n",
              "      box-shadow: 0px 1px 2px rgba(60, 64, 67, 0.3), 0px 1px 3px 1px rgba(60, 64, 67, 0.15);\n",
              "      fill: #174EA6;\n",
              "    }\n",
              "\n",
              "    [theme=dark] .colab-df-convert {\n",
              "      background-color: #3B4455;\n",
              "      fill: #D2E3FC;\n",
              "    }\n",
              "\n",
              "    [theme=dark] .colab-df-convert:hover {\n",
              "      background-color: #434B5C;\n",
              "      box-shadow: 0px 1px 3px 1px rgba(0, 0, 0, 0.15);\n",
              "      filter: drop-shadow(0px 1px 2px rgba(0, 0, 0, 0.3));\n",
              "      fill: #FFFFFF;\n",
              "    }\n",
              "  </style>\n",
              "\n",
              "      <script>\n",
              "        const buttonEl =\n",
              "          document.querySelector('#df-384c6480-c860-4faf-b21d-6309be0a2a2b button.colab-df-convert');\n",
              "        buttonEl.style.display =\n",
              "          google.colab.kernel.accessAllowed ? 'block' : 'none';\n",
              "\n",
              "        async function convertToInteractive(key) {\n",
              "          const element = document.querySelector('#df-384c6480-c860-4faf-b21d-6309be0a2a2b');\n",
              "          const dataTable =\n",
              "            await google.colab.kernel.invokeFunction('convertToInteractive',\n",
              "                                                     [key], {});\n",
              "          if (!dataTable) return;\n",
              "\n",
              "          const docLinkHtml = 'Like what you see? Visit the ' +\n",
              "            '<a target=\"_blank\" href=https://colab.research.google.com/notebooks/data_table.ipynb>data table notebook</a>'\n",
              "            + ' to learn more about interactive tables.';\n",
              "          element.innerHTML = '';\n",
              "          dataTable['output_type'] = 'display_data';\n",
              "          await google.colab.output.renderOutput(dataTable, element);\n",
              "          const docLink = document.createElement('div');\n",
              "          docLink.innerHTML = docLinkHtml;\n",
              "          element.appendChild(docLink);\n",
              "        }\n",
              "      </script>\n",
              "    </div>\n",
              "  </div>\n",
              "  "
            ]
          },
          "metadata": {},
          "execution_count": 102
        }
      ]
    },
    {
      "cell_type": "code",
      "source": [
        "df.shape"
      ],
      "metadata": {
        "colab": {
          "base_uri": "https://localhost:8080/"
        },
        "id": "F2efgNdBrFdH",
        "outputId": "35363577-12a6-427c-c86c-c26c2120d549"
      },
      "execution_count": null,
      "outputs": [
        {
          "output_type": "execute_result",
          "data": {
            "text/plain": [
              "(126, 7)"
            ]
          },
          "metadata": {},
          "execution_count": 103
        }
      ]
    },
    {
      "cell_type": "markdown",
      "source": [
        "Seluruh harga dibagi 10000 saka supaya mudah"
      ],
      "metadata": {
        "id": "jsnVo0Ywr8vG"
      }
    },
    {
      "cell_type": "code",
      "source": [
        "df.harga=df['harga']/10000"
      ],
      "metadata": {
        "id": "CgVzXSocj6NM"
      },
      "execution_count": null,
      "outputs": []
    },
    {
      "cell_type": "code",
      "source": [
        "df.head()"
      ],
      "metadata": {
        "colab": {
          "base_uri": "https://localhost:8080/",
          "height": 206
        },
        "id": "JdjVZ8UJMuf1",
        "outputId": "0a087cce-b353-4cf9-c64a-207926b20b63"
      },
      "execution_count": null,
      "outputs": [
        {
          "output_type": "execute_result",
          "data": {
            "text/plain": [
              "               perumahan     cluster  luas tanah  luas bangunan  kamar tidur  \\\n",
              "0            Alam Sutera       Buana         128            138            5   \n",
              "1            Alam Sutera       Buana         323            440            5   \n",
              "2            Alam Sutera  Danau Biru         200            155            5   \n",
              "3            Alam Sutera      Renata         350            400            5   \n",
              "4  Golden Park 3 Serpong      Athena          50             31            2   \n",
              "\n",
              "   kamar mandi      harga  \n",
              "0            4  319000.00  \n",
              "1            2  490000.00  \n",
              "2            4  402000.00  \n",
              "3            3  850000.00  \n",
              "4            1   96681.83  "
            ],
            "text/html": [
              "\n",
              "  <div id=\"df-1a8cb567-d7d6-49e3-b7a0-5fa2edfadcc0\">\n",
              "    <div class=\"colab-df-container\">\n",
              "      <div>\n",
              "<style scoped>\n",
              "    .dataframe tbody tr th:only-of-type {\n",
              "        vertical-align: middle;\n",
              "    }\n",
              "\n",
              "    .dataframe tbody tr th {\n",
              "        vertical-align: top;\n",
              "    }\n",
              "\n",
              "    .dataframe thead th {\n",
              "        text-align: right;\n",
              "    }\n",
              "</style>\n",
              "<table border=\"1\" class=\"dataframe\">\n",
              "  <thead>\n",
              "    <tr style=\"text-align: right;\">\n",
              "      <th></th>\n",
              "      <th>perumahan</th>\n",
              "      <th>cluster</th>\n",
              "      <th>luas tanah</th>\n",
              "      <th>luas bangunan</th>\n",
              "      <th>kamar tidur</th>\n",
              "      <th>kamar mandi</th>\n",
              "      <th>harga</th>\n",
              "    </tr>\n",
              "  </thead>\n",
              "  <tbody>\n",
              "    <tr>\n",
              "      <th>0</th>\n",
              "      <td>Alam Sutera</td>\n",
              "      <td>Buana</td>\n",
              "      <td>128</td>\n",
              "      <td>138</td>\n",
              "      <td>5</td>\n",
              "      <td>4</td>\n",
              "      <td>319000.00</td>\n",
              "    </tr>\n",
              "    <tr>\n",
              "      <th>1</th>\n",
              "      <td>Alam Sutera</td>\n",
              "      <td>Buana</td>\n",
              "      <td>323</td>\n",
              "      <td>440</td>\n",
              "      <td>5</td>\n",
              "      <td>2</td>\n",
              "      <td>490000.00</td>\n",
              "    </tr>\n",
              "    <tr>\n",
              "      <th>2</th>\n",
              "      <td>Alam Sutera</td>\n",
              "      <td>Danau Biru</td>\n",
              "      <td>200</td>\n",
              "      <td>155</td>\n",
              "      <td>5</td>\n",
              "      <td>4</td>\n",
              "      <td>402000.00</td>\n",
              "    </tr>\n",
              "    <tr>\n",
              "      <th>3</th>\n",
              "      <td>Alam Sutera</td>\n",
              "      <td>Renata</td>\n",
              "      <td>350</td>\n",
              "      <td>400</td>\n",
              "      <td>5</td>\n",
              "      <td>3</td>\n",
              "      <td>850000.00</td>\n",
              "    </tr>\n",
              "    <tr>\n",
              "      <th>4</th>\n",
              "      <td>Golden Park 3 Serpong</td>\n",
              "      <td>Athena</td>\n",
              "      <td>50</td>\n",
              "      <td>31</td>\n",
              "      <td>2</td>\n",
              "      <td>1</td>\n",
              "      <td>96681.83</td>\n",
              "    </tr>\n",
              "  </tbody>\n",
              "</table>\n",
              "</div>\n",
              "      <button class=\"colab-df-convert\" onclick=\"convertToInteractive('df-1a8cb567-d7d6-49e3-b7a0-5fa2edfadcc0')\"\n",
              "              title=\"Convert this dataframe to an interactive table.\"\n",
              "              style=\"display:none;\">\n",
              "        \n",
              "  <svg xmlns=\"http://www.w3.org/2000/svg\" height=\"24px\"viewBox=\"0 0 24 24\"\n",
              "       width=\"24px\">\n",
              "    <path d=\"M0 0h24v24H0V0z\" fill=\"none\"/>\n",
              "    <path d=\"M18.56 5.44l.94 2.06.94-2.06 2.06-.94-2.06-.94-.94-2.06-.94 2.06-2.06.94zm-11 1L8.5 8.5l.94-2.06 2.06-.94-2.06-.94L8.5 2.5l-.94 2.06-2.06.94zm10 10l.94 2.06.94-2.06 2.06-.94-2.06-.94-.94-2.06-.94 2.06-2.06.94z\"/><path d=\"M17.41 7.96l-1.37-1.37c-.4-.4-.92-.59-1.43-.59-.52 0-1.04.2-1.43.59L10.3 9.45l-7.72 7.72c-.78.78-.78 2.05 0 2.83L4 21.41c.39.39.9.59 1.41.59.51 0 1.02-.2 1.41-.59l7.78-7.78 2.81-2.81c.8-.78.8-2.07 0-2.86zM5.41 20L4 18.59l7.72-7.72 1.47 1.35L5.41 20z\"/>\n",
              "  </svg>\n",
              "      </button>\n",
              "      \n",
              "  <style>\n",
              "    .colab-df-container {\n",
              "      display:flex;\n",
              "      flex-wrap:wrap;\n",
              "      gap: 12px;\n",
              "    }\n",
              "\n",
              "    .colab-df-convert {\n",
              "      background-color: #E8F0FE;\n",
              "      border: none;\n",
              "      border-radius: 50%;\n",
              "      cursor: pointer;\n",
              "      display: none;\n",
              "      fill: #1967D2;\n",
              "      height: 32px;\n",
              "      padding: 0 0 0 0;\n",
              "      width: 32px;\n",
              "    }\n",
              "\n",
              "    .colab-df-convert:hover {\n",
              "      background-color: #E2EBFA;\n",
              "      box-shadow: 0px 1px 2px rgba(60, 64, 67, 0.3), 0px 1px 3px 1px rgba(60, 64, 67, 0.15);\n",
              "      fill: #174EA6;\n",
              "    }\n",
              "\n",
              "    [theme=dark] .colab-df-convert {\n",
              "      background-color: #3B4455;\n",
              "      fill: #D2E3FC;\n",
              "    }\n",
              "\n",
              "    [theme=dark] .colab-df-convert:hover {\n",
              "      background-color: #434B5C;\n",
              "      box-shadow: 0px 1px 3px 1px rgba(0, 0, 0, 0.15);\n",
              "      filter: drop-shadow(0px 1px 2px rgba(0, 0, 0, 0.3));\n",
              "      fill: #FFFFFF;\n",
              "    }\n",
              "  </style>\n",
              "\n",
              "      <script>\n",
              "        const buttonEl =\n",
              "          document.querySelector('#df-1a8cb567-d7d6-49e3-b7a0-5fa2edfadcc0 button.colab-df-convert');\n",
              "        buttonEl.style.display =\n",
              "          google.colab.kernel.accessAllowed ? 'block' : 'none';\n",
              "\n",
              "        async function convertToInteractive(key) {\n",
              "          const element = document.querySelector('#df-1a8cb567-d7d6-49e3-b7a0-5fa2edfadcc0');\n",
              "          const dataTable =\n",
              "            await google.colab.kernel.invokeFunction('convertToInteractive',\n",
              "                                                     [key], {});\n",
              "          if (!dataTable) return;\n",
              "\n",
              "          const docLinkHtml = 'Like what you see? Visit the ' +\n",
              "            '<a target=\"_blank\" href=https://colab.research.google.com/notebooks/data_table.ipynb>data table notebook</a>'\n",
              "            + ' to learn more about interactive tables.';\n",
              "          element.innerHTML = '';\n",
              "          dataTable['output_type'] = 'display_data';\n",
              "          await google.colab.output.renderOutput(dataTable, element);\n",
              "          const docLink = document.createElement('div');\n",
              "          docLink.innerHTML = docLinkHtml;\n",
              "          element.appendChild(docLink);\n",
              "        }\n",
              "      </script>\n",
              "    </div>\n",
              "  </div>\n",
              "  "
            ]
          },
          "metadata": {},
          "execution_count": 6
        }
      ]
    },
    {
      "cell_type": "markdown",
      "source": [
        "#Take a look into our data"
      ],
      "metadata": {
        "id": "NE-yNX8g5-xY"
      }
    },
    {
      "cell_type": "code",
      "source": [
        "df.describe()"
      ],
      "metadata": {
        "colab": {
          "base_uri": "https://localhost:8080/",
          "height": 300
        },
        "id": "QFg1gMwcrfvg",
        "outputId": "d31366f9-9675-4b08-a1f6-74899dc6a4b8"
      },
      "execution_count": null,
      "outputs": [
        {
          "output_type": "execute_result",
          "data": {
            "text/plain": [
              "        luas tanah  luas bangunan  kamar tidur  kamar mandi         harga\n",
              "count   126.000000     126.000000   126.000000   126.000000  1.260000e+02\n",
              "mean    220.761905     256.626984     4.126984     3.365079  5.177501e+05\n",
              "std     175.403098     218.241251     1.226273     1.394866  4.782888e+05\n",
              "min      32.000000      30.000000     2.000000     1.000000  5.293726e+04\n",
              "25%      90.000000     100.250000     3.000000     2.000000  1.724750e+05\n",
              "50%     160.000000     192.500000     4.000000     3.000000  3.995000e+05\n",
              "75%     339.500000     344.000000     5.000000     4.000000  6.837500e+05\n",
              "max    1100.000000    1200.000000     7.000000     8.000000  2.800000e+06"
            ],
            "text/html": [
              "\n",
              "  <div id=\"df-be2641c9-60f6-4354-9e62-32be64e09050\">\n",
              "    <div class=\"colab-df-container\">\n",
              "      <div>\n",
              "<style scoped>\n",
              "    .dataframe tbody tr th:only-of-type {\n",
              "        vertical-align: middle;\n",
              "    }\n",
              "\n",
              "    .dataframe tbody tr th {\n",
              "        vertical-align: top;\n",
              "    }\n",
              "\n",
              "    .dataframe thead th {\n",
              "        text-align: right;\n",
              "    }\n",
              "</style>\n",
              "<table border=\"1\" class=\"dataframe\">\n",
              "  <thead>\n",
              "    <tr style=\"text-align: right;\">\n",
              "      <th></th>\n",
              "      <th>luas tanah</th>\n",
              "      <th>luas bangunan</th>\n",
              "      <th>kamar tidur</th>\n",
              "      <th>kamar mandi</th>\n",
              "      <th>harga</th>\n",
              "    </tr>\n",
              "  </thead>\n",
              "  <tbody>\n",
              "    <tr>\n",
              "      <th>count</th>\n",
              "      <td>126.000000</td>\n",
              "      <td>126.000000</td>\n",
              "      <td>126.000000</td>\n",
              "      <td>126.000000</td>\n",
              "      <td>1.260000e+02</td>\n",
              "    </tr>\n",
              "    <tr>\n",
              "      <th>mean</th>\n",
              "      <td>220.761905</td>\n",
              "      <td>256.626984</td>\n",
              "      <td>4.126984</td>\n",
              "      <td>3.365079</td>\n",
              "      <td>5.177501e+05</td>\n",
              "    </tr>\n",
              "    <tr>\n",
              "      <th>std</th>\n",
              "      <td>175.403098</td>\n",
              "      <td>218.241251</td>\n",
              "      <td>1.226273</td>\n",
              "      <td>1.394866</td>\n",
              "      <td>4.782888e+05</td>\n",
              "    </tr>\n",
              "    <tr>\n",
              "      <th>min</th>\n",
              "      <td>32.000000</td>\n",
              "      <td>30.000000</td>\n",
              "      <td>2.000000</td>\n",
              "      <td>1.000000</td>\n",
              "      <td>5.293726e+04</td>\n",
              "    </tr>\n",
              "    <tr>\n",
              "      <th>25%</th>\n",
              "      <td>90.000000</td>\n",
              "      <td>100.250000</td>\n",
              "      <td>3.000000</td>\n",
              "      <td>2.000000</td>\n",
              "      <td>1.724750e+05</td>\n",
              "    </tr>\n",
              "    <tr>\n",
              "      <th>50%</th>\n",
              "      <td>160.000000</td>\n",
              "      <td>192.500000</td>\n",
              "      <td>4.000000</td>\n",
              "      <td>3.000000</td>\n",
              "      <td>3.995000e+05</td>\n",
              "    </tr>\n",
              "    <tr>\n",
              "      <th>75%</th>\n",
              "      <td>339.500000</td>\n",
              "      <td>344.000000</td>\n",
              "      <td>5.000000</td>\n",
              "      <td>4.000000</td>\n",
              "      <td>6.837500e+05</td>\n",
              "    </tr>\n",
              "    <tr>\n",
              "      <th>max</th>\n",
              "      <td>1100.000000</td>\n",
              "      <td>1200.000000</td>\n",
              "      <td>7.000000</td>\n",
              "      <td>8.000000</td>\n",
              "      <td>2.800000e+06</td>\n",
              "    </tr>\n",
              "  </tbody>\n",
              "</table>\n",
              "</div>\n",
              "      <button class=\"colab-df-convert\" onclick=\"convertToInteractive('df-be2641c9-60f6-4354-9e62-32be64e09050')\"\n",
              "              title=\"Convert this dataframe to an interactive table.\"\n",
              "              style=\"display:none;\">\n",
              "        \n",
              "  <svg xmlns=\"http://www.w3.org/2000/svg\" height=\"24px\"viewBox=\"0 0 24 24\"\n",
              "       width=\"24px\">\n",
              "    <path d=\"M0 0h24v24H0V0z\" fill=\"none\"/>\n",
              "    <path d=\"M18.56 5.44l.94 2.06.94-2.06 2.06-.94-2.06-.94-.94-2.06-.94 2.06-2.06.94zm-11 1L8.5 8.5l.94-2.06 2.06-.94-2.06-.94L8.5 2.5l-.94 2.06-2.06.94zm10 10l.94 2.06.94-2.06 2.06-.94-2.06-.94-.94-2.06-.94 2.06-2.06.94z\"/><path d=\"M17.41 7.96l-1.37-1.37c-.4-.4-.92-.59-1.43-.59-.52 0-1.04.2-1.43.59L10.3 9.45l-7.72 7.72c-.78.78-.78 2.05 0 2.83L4 21.41c.39.39.9.59 1.41.59.51 0 1.02-.2 1.41-.59l7.78-7.78 2.81-2.81c.8-.78.8-2.07 0-2.86zM5.41 20L4 18.59l7.72-7.72 1.47 1.35L5.41 20z\"/>\n",
              "  </svg>\n",
              "      </button>\n",
              "      \n",
              "  <style>\n",
              "    .colab-df-container {\n",
              "      display:flex;\n",
              "      flex-wrap:wrap;\n",
              "      gap: 12px;\n",
              "    }\n",
              "\n",
              "    .colab-df-convert {\n",
              "      background-color: #E8F0FE;\n",
              "      border: none;\n",
              "      border-radius: 50%;\n",
              "      cursor: pointer;\n",
              "      display: none;\n",
              "      fill: #1967D2;\n",
              "      height: 32px;\n",
              "      padding: 0 0 0 0;\n",
              "      width: 32px;\n",
              "    }\n",
              "\n",
              "    .colab-df-convert:hover {\n",
              "      background-color: #E2EBFA;\n",
              "      box-shadow: 0px 1px 2px rgba(60, 64, 67, 0.3), 0px 1px 3px 1px rgba(60, 64, 67, 0.15);\n",
              "      fill: #174EA6;\n",
              "    }\n",
              "\n",
              "    [theme=dark] .colab-df-convert {\n",
              "      background-color: #3B4455;\n",
              "      fill: #D2E3FC;\n",
              "    }\n",
              "\n",
              "    [theme=dark] .colab-df-convert:hover {\n",
              "      background-color: #434B5C;\n",
              "      box-shadow: 0px 1px 3px 1px rgba(0, 0, 0, 0.15);\n",
              "      filter: drop-shadow(0px 1px 2px rgba(0, 0, 0, 0.3));\n",
              "      fill: #FFFFFF;\n",
              "    }\n",
              "  </style>\n",
              "\n",
              "      <script>\n",
              "        const buttonEl =\n",
              "          document.querySelector('#df-be2641c9-60f6-4354-9e62-32be64e09050 button.colab-df-convert');\n",
              "        buttonEl.style.display =\n",
              "          google.colab.kernel.accessAllowed ? 'block' : 'none';\n",
              "\n",
              "        async function convertToInteractive(key) {\n",
              "          const element = document.querySelector('#df-be2641c9-60f6-4354-9e62-32be64e09050');\n",
              "          const dataTable =\n",
              "            await google.colab.kernel.invokeFunction('convertToInteractive',\n",
              "                                                     [key], {});\n",
              "          if (!dataTable) return;\n",
              "\n",
              "          const docLinkHtml = 'Like what you see? Visit the ' +\n",
              "            '<a target=\"_blank\" href=https://colab.research.google.com/notebooks/data_table.ipynb>data table notebook</a>'\n",
              "            + ' to learn more about interactive tables.';\n",
              "          element.innerHTML = '';\n",
              "          dataTable['output_type'] = 'display_data';\n",
              "          await google.colab.output.renderOutput(dataTable, element);\n",
              "          const docLink = document.createElement('div');\n",
              "          docLink.innerHTML = docLinkHtml;\n",
              "          element.appendChild(docLink);\n",
              "        }\n",
              "      </script>\n",
              "    </div>\n",
              "  </div>\n",
              "  "
            ]
          },
          "metadata": {},
          "execution_count": 7
        }
      ]
    },
    {
      "cell_type": "code",
      "source": [
        "df.info()"
      ],
      "metadata": {
        "colab": {
          "base_uri": "https://localhost:8080/"
        },
        "id": "p0NopCC6rgru",
        "outputId": "d5b5f249-a3c4-44b1-b516-38f58395896b"
      },
      "execution_count": null,
      "outputs": [
        {
          "output_type": "stream",
          "name": "stdout",
          "text": [
            "<class 'pandas.core.frame.DataFrame'>\n",
            "RangeIndex: 126 entries, 0 to 125\n",
            "Data columns (total 7 columns):\n",
            " #   Column         Non-Null Count  Dtype  \n",
            "---  ------         --------------  -----  \n",
            " 0   perumahan      126 non-null    object \n",
            " 1   cluster        126 non-null    object \n",
            " 2   luas tanah     126 non-null    int64  \n",
            " 3   luas bangunan  126 non-null    int64  \n",
            " 4   kamar tidur    126 non-null    int64  \n",
            " 5   kamar mandi    126 non-null    int64  \n",
            " 6   harga          126 non-null    float64\n",
            "dtypes: float64(1), int64(4), object(2)\n",
            "memory usage: 7.0+ KB\n"
          ]
        }
      ]
    },
    {
      "cell_type": "code",
      "source": [
        "print('banyak perumahan yang kita ambil adalah ',len(df['perumahan'].value_counts()))\n",
        "print(\"\\n\\ndan berikut banyak dari tiap perumahan\\n\")\n",
        "df['perumahan'].value_counts()"
      ],
      "metadata": {
        "colab": {
          "base_uri": "https://localhost:8080/"
        },
        "id": "zeu7Ui3OiJrc",
        "outputId": "7f235091-b662-4e18-ac44-68eba5795e1d"
      },
      "execution_count": null,
      "outputs": [
        {
          "output_type": "stream",
          "name": "stdout",
          "text": [
            "banyak perumahan yang kita ambil adalah  9\n",
            "\n",
            "\n",
            "dan berikut banyak dari tiap perumahan\n",
            "\n"
          ]
        },
        {
          "output_type": "execute_result",
          "data": {
            "text/plain": [
              "Alam Sutera              61\n",
              "Green Lake               21\n",
              "BSD City                 11\n",
              "Jade Park Serpong         8\n",
              "Lavon                     8\n",
              "Golden Park 3 Serpong     7\n",
              "Suvarna Sutera            4\n",
              "Nava Park                 3\n",
              "Paradise Serpong          3\n",
              "Name: perumahan, dtype: int64"
            ]
          },
          "metadata": {},
          "execution_count": 9
        }
      ]
    },
    {
      "cell_type": "code",
      "source": [
        "df['cluster'].value_counts()"
      ],
      "metadata": {
        "colab": {
          "base_uri": "https://localhost:8080/"
        },
        "id": "gge34daVrZAj",
        "outputId": "70b0801f-7959-4919-cc2a-2656ff9b8c68"
      },
      "execution_count": null,
      "outputs": [
        {
          "output_type": "execute_result",
          "data": {
            "text/plain": [
              "Palma            9\n",
              "Athena           7\n",
              "Narada           7\n",
              "Buana            6\n",
              "Cemara           6\n",
              "Eropa            6\n",
              "Onyx             6\n",
              "Asri             6\n",
              "The Savia        5\n",
              "Amerika Latin    4\n",
              "Renata           4\n",
              "Dakota           4\n",
              " Regalia         4\n",
              "Asia             3\n",
              "Winona           3\n",
              "East Asia        3\n",
              "Amerika          3\n",
              " Lyndon          3\n",
              "Orlanda          3\n",
              "Leora            3\n",
              "Park Home        2\n",
              "Australia        2\n",
              "Victoria         2\n",
              "Askara           1\n",
              "Tiara            1\n",
              "Azura            1\n",
              "Anila            1\n",
              "Anarta           1\n",
              "Alesha           1\n",
              " Carara          1\n",
              " Summerland      1\n",
              "Diamond          1\n",
              "Assana           1\n",
              "Onix             1\n",
              "Tyria            1\n",
              "Zirkon           1\n",
              "Pelangi          1\n",
              "Danau Biru       1\n",
              "Olivia           1\n",
              "Sapphire         1\n",
              "Ruby             1\n",
              "De Mansion       1\n",
              "Emerald          1\n",
              " Park Home       1\n",
              "Citrine          1\n",
              "Opal             1\n",
              "Topaz            1\n",
              " Grand Canyon    1\n",
              "Name: cluster, dtype: int64"
            ]
          },
          "metadata": {},
          "execution_count": 10
        }
      ]
    },
    {
      "cell_type": "code",
      "source": [
        "mask = df.cluster.map(df.cluster.value_counts())==1\n",
        "df.loc[mask, \"cluster\"]= \"other\""
      ],
      "metadata": {
        "id": "L6YPPLjHS2gm"
      },
      "execution_count": null,
      "outputs": []
    },
    {
      "cell_type": "code",
      "source": [
        "df['cluster'].value_counts()"
      ],
      "metadata": {
        "colab": {
          "base_uri": "https://localhost:8080/"
        },
        "id": "VGo_Ww4OUrXi",
        "outputId": "ab11275e-a544-4cfa-e0f8-c10f7f180c97"
      },
      "execution_count": null,
      "outputs": [
        {
          "output_type": "execute_result",
          "data": {
            "text/plain": [
              "other            25\n",
              "Palma             9\n",
              "Narada            7\n",
              "Athena            7\n",
              "Cemara            6\n",
              "Eropa             6\n",
              "Onyx              6\n",
              "Buana             6\n",
              "Asri              6\n",
              "The Savia         5\n",
              " Regalia          4\n",
              "Dakota            4\n",
              "Amerika Latin     4\n",
              "Renata            4\n",
              "Asia              3\n",
              "Amerika           3\n",
              "East Asia         3\n",
              "Winona            3\n",
              "Orlanda           3\n",
              " Lyndon           3\n",
              "Leora             3\n",
              "Park Home         2\n",
              "Australia         2\n",
              "Victoria          2\n",
              "Name: cluster, dtype: int64"
            ]
          },
          "metadata": {},
          "execution_count": 106
        }
      ]
    },
    {
      "cell_type": "markdown",
      "source": [
        "##Removing outliers"
      ],
      "metadata": {
        "id": "GpT5lTtU9f-K"
      }
    },
    {
      "cell_type": "code",
      "source": [
        "_=sns.boxplot(x = df.iloc[:, -1].values, data=df)"
      ],
      "metadata": {
        "colab": {
          "base_uri": "https://localhost:8080/",
          "height": 278
        },
        "id": "B368whaRxyJ0",
        "outputId": "338a5b6c-5c4a-4830-9ae6-dec723874c06"
      },
      "execution_count": null,
      "outputs": [
        {
          "output_type": "display_data",
          "data": {
            "text/plain": [
              "<Figure size 432x288 with 1 Axes>"
            ],
            "image/png": "[encoded data removed]"
          },
          "metadata": {
            "needs_background": "light"
          }
        }
      ]
    },
    {
      "cell_type": "code",
      "source": [
        "max= df.harga.quantile(0.95)\n",
        "max"
      ],
      "metadata": {
        "colab": {
          "base_uri": "https://localhost:8080/"
        },
        "id": "F65YyfMkAxib",
        "outputId": "d6e5eba7-ca1a-44df-da44-a414c45c67cd"
      },
      "execution_count": null,
      "outputs": [
        {
          "output_type": "execute_result",
          "data": {
            "text/plain": [
              "1360000.0"
            ]
          },
          "metadata": {},
          "execution_count": 109
        }
      ]
    },
    {
      "cell_type": "code",
      "source": [
        "df[df.harga > max].shape"
      ],
      "metadata": {
        "colab": {
          "base_uri": "https://localhost:8080/"
        },
        "id": "nkW-SFvdCLRy",
        "outputId": "bc484f09-6918-4ae7-b77b-a581ced639ad"
      },
      "execution_count": null,
      "outputs": [
        {
          "output_type": "execute_result",
          "data": {
            "text/plain": [
              "(7, 7)"
            ]
          },
          "metadata": {},
          "execution_count": 111
        }
      ]
    },
    {
      "cell_type": "code",
      "source": [
        "df=df[ (df.harga < max)]"
      ],
      "metadata": {
        "id": "7B0CJnzg7N1P"
      },
      "execution_count": null,
      "outputs": []
    },
    {
      "cell_type": "code",
      "source": [
        "_=sns.boxplot(x = df.iloc[:, -1].values, data=df)"
      ],
      "metadata": {
        "colab": {
          "base_uri": "https://localhost:8080/",
          "height": 278
        },
        "id": "VJzfzZ76djPl",
        "outputId": "3762b045-91e2-4edc-c56e-e2e8ac79e524"
      },
      "execution_count": null,
      "outputs": [
        {
          "output_type": "display_data",
          "data": {
            "text/plain": [
              "<Figure size 432x288 with 1 Axes>"
            ],
            "image/png": "[encoded data removed]"
          },
          "metadata": {
            "needs_background": "light"
          }
        }
      ]
    },
    {
      "cell_type": "code",
      "source": [
        "df.shape"
      ],
      "metadata": {
        "colab": {
          "base_uri": "https://localhost:8080/"
        },
        "id": "oOkf1GNO4lUP",
        "outputId": "56513e75-71fa-489e-d689-e7b9e0c4d3d5"
      },
      "execution_count": null,
      "outputs": [
        {
          "output_type": "execute_result",
          "data": {
            "text/plain": [
              "(119, 7)"
            ]
          },
          "metadata": {},
          "execution_count": 114
        }
      ]
    },
    {
      "cell_type": "markdown",
      "source": [
        "##Grafik"
      ],
      "metadata": {
        "id": "U6Y-8EOT_1Ft"
      }
    },
    {
      "cell_type": "code",
      "source": [
        "plt.figure(figsize=(25,25))\n",
        "for i in range(df.shape[1]-1):\n",
        "  plt.subplot(4,2,i+1)\n",
        "  plt.scatter(x = df.iloc[:, i].values, y=df.iloc[:,-1].values, label=df.columns[i])\n",
        "  plt.xlabel(df.columns[i])\n",
        "  plt.ylabel(df.columns[-1])\n",
        "  plt.tight_layout(pad=0.4, w_pad=0.5, h_pad=5.0)\n",
        "plt.show()"
      ],
      "metadata": {
        "colab": {
          "base_uri": "https://localhost:8080/",
          "height": 1000
        },
        "id": "P1wYaemGsVdA",
        "outputId": "acd8bd6d-d642-46b7-b46b-43f70236638c"
      },
      "execution_count": null,
      "outputs": [
        {
          "output_type": "display_data",
          "data": {
            "text/plain": [
              "<Figure size 1800x1800 with 6 Axes>"
            ],
            "image/png": "[encoded data removed]"
          },
          "metadata": {
            "needs_background": "light"
          }
        }
      ]
    },
    {
      "cell_type": "markdown",
      "source": [
        "dilihat persebaran banyak kamar tidur, dan kamar mandi terhadap luas tanah"
      ],
      "metadata": {
        "id": "xxD0ByHfyybr"
      }
    },
    {
      "cell_type": "code",
      "source": [
        "plt.figure(figsize=(15,30))\n",
        "for i in range(df.shape[1]-1):\n",
        "  if(df.columns[i]!='kamar mandi' and df.columns[i]!='kamar tidur'): continue\n",
        "  plt.subplot(4,2,i+1)\n",
        "  plt.scatter(y = df.iloc[:, i].values, x=df['luas tanah'].values, label=df.columns[i])\n",
        "  plt.ylabel(df.columns[i])\n",
        "  plt.xlabel(\"luas tanah\")\n",
        "  plt.tight_layout(pad=0.4, w_pad=0.5, h_pad=5.0)\n",
        "plt.show()\n",
        "\n",
        "# plt.scatter(x = df['kamar mandi'].values, y=df['kamar tidur'].values)"
      ],
      "metadata": {
        "colab": {
          "base_uri": "https://localhost:8080/",
          "height": 539
        },
        "id": "VqrmPVx_N5LF",
        "outputId": "d165f667-9d44-4119-88cd-d7a919cd7a6b"
      },
      "execution_count": null,
      "outputs": [
        {
          "output_type": "display_data",
          "data": {
            "text/plain": [
              "<Figure size 1080x2160 with 2 Axes>"
            ],
            "image/png": "[encoded data removed]"
          },
          "metadata": {
            "needs_background": "light"
          }
        }
      ]
    },
    {
      "cell_type": "code",
      "source": [
        "plt.figure(figsize=(7,7))\n",
        "plt.xlabel(\"kamar mandi\")\n",
        "plt.ylabel(\"kamar tidur\")\n",
        "plt.scatter(x = df['kamar mandi'].values, y=df['kamar tidur'].values)\n",
        "\n",
        "plt.show()"
      ],
      "metadata": {
        "colab": {
          "base_uri": "https://localhost:8080/",
          "height": 442
        },
        "id": "brO1HnOhP9Ck",
        "outputId": "5d9b0365-297c-457b-c359-0fef69561e64"
      },
      "execution_count": null,
      "outputs": [
        {
          "output_type": "display_data",
          "data": {
            "text/plain": [
              "<Figure size 504x504 with 1 Axes>"
            ],
            "image/png": "[encoded data removed]"
          },
          "metadata": {
            "needs_background": "light"
          }
        }
      ]
    },
    {
      "cell_type": "code",
      "source": [
        "plt.figure(figsize=(22,10))\n",
        "a=0\n",
        "for i in range(df.shape[1]-1):\n",
        "  if(df.columns[i]=='luas tanah' or df.columns[i]=='luas bangunan' or df.columns[i]=='cluster'): continue\n",
        "  plt.subplot(1,3,a+1)\n",
        "  a+=1\n",
        "  sns.boxplot(x = df.iloc[:, i].values, y=df.iloc[:,-1].values, data=df)\n",
        "  plt.xlabel(df.columns[i])\n",
        "  plt.ylabel(df.columns[-1])\n",
        "  plt.tight_layout(pad=0.4, w_pad=0.5, h_pad=5.0)\n",
        "plt.show()"
      ],
      "metadata": {
        "colab": {
          "base_uri": "https://localhost:8080/",
          "height": 743
        },
        "id": "p2uvDHSmuDN5",
        "outputId": "1e82ca79-4492-4314-e2a7-63908a45cdde"
      },
      "execution_count": null,
      "outputs": [
        {
          "output_type": "display_data",
          "data": {
            "text/plain": [
              "<Figure size 1584x720 with 3 Axes>"
            ],
            "image/png": "[encoded data removed]"
          },
          "metadata": {
            "needs_background": "light"
          }
        }
      ]
    },
    {
      "cell_type": "code",
      "source": [
        "plt.figure(figsize=(20, 30))\n",
        "a=0\n",
        "for i, col in zip(range(1, len(df.columns)+1), df.columns):\n",
        "  if(col==\"perumahan\" or col==\"cluster\"): continue\n",
        "  plt.subplot(6, 3, a+1)\n",
        "  a+=1\n",
        "  sns.histplot(x=col, data=df, kde=True)\n",
        "  plt.title(f'Distribution plot of {col}', fontsize=20)\n",
        "  plt.tight_layout(pad=0.4, w_pad=0.5, h_pad=5.0)\n",
        "plt.show()"
      ],
      "metadata": {
        "colab": {
          "base_uri": "https://localhost:8080/",
          "height": 725
        },
        "id": "FLyNj0X0o11i",
        "outputId": "7d485fb8-95e3-4324-9bd7-df35d1296b72"
      },
      "execution_count": null,
      "outputs": [
        {
          "output_type": "display_data",
          "data": {
            "text/plain": [
              "<Figure size 1440x2160 with 5 Axes>"
            ],
            "image/png": "[encoded data removed]"
          },
          "metadata": {
            "needs_background": "light"
          }
        }
      ]
    },
    {
      "cell_type": "markdown",
      "source": [
        "#Check features with correlation"
      ],
      "metadata": {
        "id": "ttx-cg2s9kzR"
      }
    },
    {
      "cell_type": "code",
      "source": [
        "_= sns.heatmap(df.corr(), annot=True)"
      ],
      "metadata": {
        "colab": {
          "base_uri": "https://localhost:8080/",
          "height": 333
        },
        "id": "InYBod-6q6ni",
        "outputId": "eff2fa85-2fd0-4dcb-d92a-c0706c3f0f12"
      },
      "execution_count": null,
      "outputs": [
        {
          "output_type": "display_data",
          "data": {
            "text/plain": [
              "<Figure size 432x288 with 2 Axes>"
            ],
            "image/png": "[encoded data removed]"
          },
          "metadata": {
            "needs_background": "light"
          }
        }
      ]
    },
    {
      "cell_type": "code",
      "source": [
        "def correlation_ratio(categories, values):\n",
        "    categories = np.array(categories)\n",
        "    values = np.array(values)\n",
        "    \n",
        "    ssw = 0\n",
        "    ssb = 0\n",
        "    for category in set(categories):\n",
        "        subgroup = values[np.where(categories == category)[0]]\n",
        "        ssw += sum((subgroup-np.mean(subgroup))**2)\n",
        "        ssb += len(subgroup)*(np.mean(subgroup)-np.mean(values))**2\n",
        "\n",
        "    return (ssb / (ssb + ssw))**.5"
      ],
      "metadata": {
        "id": "rFetjRKFU53w"
      },
      "execution_count": null,
      "outputs": []
    },
    {
      "cell_type": "code",
      "source": [
        "for i in range(len(df.columns)-2):\n",
        "  print(f\"Korelasi antar perumahan dengan {df.columns[i+2]} adalah {correlation_ratio(df.perumahan, df[df.columns[i+2]])}\")\n",
        "  print(f\"Korelasi antar cluster dengan {df.columns[i+2]} adalah {correlation_ratio(df.cluster, df[df.columns[i+2]])}\")\n",
        "  print()"
      ],
      "metadata": {
        "colab": {
          "base_uri": "https://localhost:8080/"
        },
        "id": "iOe_YziA30qO",
        "outputId": "934ee8ac-22a7-43b6-cf25-df520480c547"
      },
      "execution_count": null,
      "outputs": [
        {
          "output_type": "stream",
          "name": "stdout",
          "text": [
            "Korelasi antar perumahan dengan luas tanah adalah 0.7405643335918465\n",
            "Korelasi antar cluster dengan luas tanah adalah 0.8082772584773066\n",
            "\n",
            "Korelasi antar perumahan dengan luas bangunan adalah 0.6734691189387192\n",
            "Korelasi antar cluster dengan luas bangunan adalah 0.7633852525473711\n",
            "\n",
            "Korelasi antar perumahan dengan kamar tidur adalah 0.7518053286692112\n",
            "Korelasi antar cluster dengan kamar tidur adalah 0.6916234308682313\n",
            "\n",
            "Korelasi antar perumahan dengan kamar mandi adalah 0.7021117403144135\n",
            "Korelasi antar cluster dengan kamar mandi adalah 0.6599232566467199\n",
            "\n",
            "Korelasi antar perumahan dengan harga adalah 0.7845928534065245\n",
            "Korelasi antar cluster dengan harga adalah 0.8135638194224369\n",
            "\n"
          ]
        }
      ]
    },
    {
      "cell_type": "markdown",
      "source": [
        "Disini tidak akan di drop features karena ada korelasi yang cukup tinggi"
      ],
      "metadata": {
        "id": "0ODDgfVZ5-9G"
      }
    },
    {
      "cell_type": "markdown",
      "source": [
        "#Assign X dan y"
      ],
      "metadata": {
        "id": "HdxV9dexytB4"
      }
    },
    {
      "cell_type": "code",
      "source": [
        "X= df.iloc[:,:-1].values\n",
        "y= df.iloc[:,-1].values\n"
      ],
      "metadata": {
        "id": "OS64wTYQyvlg"
      },
      "execution_count": null,
      "outputs": []
    },
    {
      "cell_type": "code",
      "source": [
        "X[:5]"
      ],
      "metadata": {
        "colab": {
          "base_uri": "https://localhost:8080/"
        },
        "id": "sPjJkrWXa5N4",
        "outputId": "e6f599ca-eb3a-4e15-bc90-adfa45a7ebfa"
      },
      "execution_count": null,
      "outputs": [
        {
          "output_type": "execute_result",
          "data": {
            "text/plain": [
              "array([['Alam Sutera', 'Buana', 128, 138, 5, 4],\n",
              "       ['Alam Sutera', 'Buana', 323, 440, 5, 2],\n",
              "       ['Alam Sutera', 'other', 200, 155, 5, 4],\n",
              "       ['Alam Sutera', 'Renata', 350, 400, 5, 3],\n",
              "       ['Golden Park 3 Serpong', 'Athena', 50, 31, 2, 1]], dtype=object)"
            ]
          },
          "metadata": {},
          "execution_count": 27
        }
      ]
    },
    {
      "cell_type": "code",
      "source": [
        "len(X[0])"
      ],
      "metadata": {
        "colab": {
          "base_uri": "https://localhost:8080/"
        },
        "id": "a474xx2PTHWA",
        "outputId": "5694c381-aa9f-49ab-f231-26ec3530c6cb"
      },
      "execution_count": null,
      "outputs": [
        {
          "output_type": "execute_result",
          "data": {
            "text/plain": [
              "6"
            ]
          },
          "metadata": {},
          "execution_count": 92
        }
      ]
    },
    {
      "cell_type": "code",
      "source": [
        "y[:5]"
      ],
      "metadata": {
        "colab": {
          "base_uri": "https://localhost:8080/"
        },
        "id": "zqY5gF20a526",
        "outputId": "82686c39-85b0-436e-bb45-359e13e0c820"
      },
      "execution_count": null,
      "outputs": [
        {
          "output_type": "execute_result",
          "data": {
            "text/plain": [
              "array([319000.  , 490000.  , 402000.  , 850000.  ,  96681.83])"
            ]
          },
          "metadata": {},
          "execution_count": 29
        }
      ]
    },
    {
      "cell_type": "markdown",
      "source": [
        "#One Hot Encoding for categorical variables"
      ],
      "metadata": {
        "id": "yZAFKzJMaX2Z"
      }
    },
    {
      "cell_type": "code",
      "source": [
        "#Encode first column (perumahan)\n",
        "ct = ColumnTransformer(transformers=[('encoder',OneHotEncoder(),[0])], remainder='passthrough')\n",
        "X = np.array(ct.fit_transform(X))"
      ],
      "metadata": {
        "id": "j5Qk8JLbad0A"
      },
      "execution_count": null,
      "outputs": []
    },
    {
      "cell_type": "code",
      "source": [
        "len(X[0])"
      ],
      "metadata": {
        "colab": {
          "base_uri": "https://localhost:8080/"
        },
        "id": "khhgfnn7dow8",
        "outputId": "8599b28d-2c7f-40a5-dd0e-238fbf5cf1c3"
      },
      "execution_count": null,
      "outputs": [
        {
          "output_type": "execute_result",
          "data": {
            "text/plain": [
              "13"
            ]
          },
          "metadata": {},
          "execution_count": 94
        }
      ]
    },
    {
      "cell_type": "code",
      "source": [
        "X[0]"
      ],
      "metadata": {
        "colab": {
          "base_uri": "https://localhost:8080/"
        },
        "id": "qBscU4aPdqth",
        "outputId": "f46fea96-7ffb-4ddd-c67a-c2db917c4de2"
      },
      "execution_count": null,
      "outputs": [
        {
          "output_type": "execute_result",
          "data": {
            "text/plain": [
              "array([1.0, 0.0, 0.0, 0.0, 0.0, 0.0, 0.0, 0.0, 'Buana', 128, 138, 5, 4],\n",
              "      dtype=object)"
            ]
          },
          "metadata": {},
          "execution_count": 95
        }
      ]
    },
    {
      "cell_type": "code",
      "source": [
        "#Encode second column (cluster)\n",
        "ct = ColumnTransformer(transformers=[('encoder',OneHotEncoder(),[8])], remainder='passthrough')\n",
        "X = np.array(ct.fit_transform(X))"
      ],
      "metadata": {
        "id": "yfy2d15Eavxe"
      },
      "execution_count": null,
      "outputs": []
    },
    {
      "cell_type": "code",
      "source": [
        "len(X[0])"
      ],
      "metadata": {
        "colab": {
          "base_uri": "https://localhost:8080/"
        },
        "id": "LZOhaPvzbUIh",
        "outputId": "2d32d443-9f27-4e5a-8a22-42a08d067699"
      },
      "execution_count": null,
      "outputs": [
        {
          "output_type": "execute_result",
          "data": {
            "text/plain": [
              "35"
            ]
          },
          "metadata": {},
          "execution_count": 97
        }
      ]
    },
    {
      "cell_type": "code",
      "source": [
        "X[0]"
      ],
      "metadata": {
        "colab": {
          "base_uri": "https://localhost:8080/"
        },
        "id": "louz3JVg7dqW",
        "outputId": "0cee5cdf-6277-4672-bbe7-5e71fdb994d0"
      },
      "execution_count": null,
      "outputs": [
        {
          "output_type": "execute_result",
          "data": {
            "text/plain": [
              "array([0.0, 0.0, 0.0, 0.0, 0.0, 0.0, 0.0, 1.0, 0.0, 0.0, 0.0, 0.0, 0.0,\n",
              "       0.0, 0.0, 0.0, 0.0, 0.0, 0.0, 0.0, 0.0, 0.0, 0.0, 1.0, 0.0, 0.0,\n",
              "       0.0, 0.0, 0.0, 0.0, 0.0, 128, 138, 5, 4], dtype=object)"
            ]
          },
          "metadata": {},
          "execution_count": 35
        }
      ]
    },
    {
      "cell_type": "markdown",
      "source": [
        "#Split Training and testing"
      ],
      "metadata": {
        "id": "SJrgO9KLg8rR"
      }
    },
    {
      "cell_type": "code",
      "source": [
        "X_train,X_test, y_train, y_test=train_test_split(X, y, test_size=0.2, random_state=42)"
      ],
      "metadata": {
        "id": "2x4cSz-Ag8rR"
      },
      "execution_count": null,
      "outputs": []
    },
    {
      "cell_type": "code",
      "source": [
        "print(X_train.shape)\n",
        "\n",
        "print(X_test.shape)"
      ],
      "metadata": {
        "colab": {
          "base_uri": "https://localhost:8080/"
        },
        "id": "D-IdvU8PLmLG",
        "outputId": "c7fec7ea-a66d-4509-92f2-f39c0eb2dc98"
      },
      "execution_count": null,
      "outputs": [
        {
          "output_type": "stream",
          "name": "stdout",
          "text": [
            "(95, 35)\n",
            "(24, 35)\n"
          ]
        }
      ]
    },
    {
      "cell_type": "code",
      "source": [
        "X_train[0]"
      ],
      "metadata": {
        "colab": {
          "base_uri": "https://localhost:8080/"
        },
        "id": "AxRyE3iRBEWi",
        "outputId": "28290f73-bd35-4551-8ece-a6842b7d0bba"
      },
      "execution_count": null,
      "outputs": [
        {
          "output_type": "execute_result",
          "data": {
            "text/plain": [
              "array([0.0, 0.0, 0.0, 0.0, 0.0, 0.0, 0.0, 0.0, 1.0, 0.0, 0.0, 0.0, 0.0,\n",
              "       0.0, 0.0, 0.0, 0.0, 0.0, 0.0, 0.0, 0.0, 0.0, 0.0, 1.0, 0.0, 0.0,\n",
              "       0.0, 0.0, 0.0, 0.0, 0.0, 350, 350, 5, 3], dtype=object)"
            ]
          },
          "metadata": {},
          "execution_count": 44
        }
      ]
    },
    {
      "cell_type": "code",
      "source": [
        "from sklearn.linear_model import LinearRegression\n",
        "\n",
        "lr= LinearRegression()\n",
        "lr.fit(X_train, y_train)\n",
        "lr.score(X_test, y_test)"
      ],
      "metadata": {
        "colab": {
          "base_uri": "https://localhost:8080/"
        },
        "outputId": "119eb9c7-091a-4900-c1bb-31b2d9604a5d",
        "id": "AvWGb5-9g8rS"
      },
      "execution_count": null,
      "outputs": [
        {
          "output_type": "execute_result",
          "data": {
            "text/plain": [
              "0.8911516638057638"
            ]
          },
          "metadata": {},
          "execution_count": 127
        }
      ]
    },
    {
      "cell_type": "markdown",
      "source": [
        "#Standarization"
      ],
      "metadata": {
        "id": "9gfPNfF88FD8"
      }
    },
    {
      "cell_type": "code",
      "source": [
        "sc = StandardScaler()\n",
        "X_train[:, 31:] = sc.fit_transform(X_train[:, 31:])\n",
        "X_test[:, 31:] = sc.transform(X_test[:, 31:])"
      ],
      "metadata": {
        "id": "lZTpB06T8GI5"
      },
      "execution_count": null,
      "outputs": []
    },
    {
      "cell_type": "code",
      "source": [
        "lr= LinearRegression()\n",
        "lr.fit(X_train, y_train)\n",
        "lr.score(X_test, y_test)"
      ],
      "metadata": {
        "colab": {
          "base_uri": "https://localhost:8080/"
        },
        "id": "kT3xF7ve8anY",
        "outputId": "2906dfa6-a741-409e-c95a-e8aebbef1c65"
      },
      "execution_count": null,
      "outputs": [
        {
          "output_type": "execute_result",
          "data": {
            "text/plain": [
              "0.8911516638057554"
            ]
          },
          "metadata": {},
          "execution_count": 129
        }
      ]
    },
    {
      "cell_type": "code",
      "source": [
        "X_train"
      ],
      "metadata": {
        "colab": {
          "base_uri": "https://localhost:8080/"
        },
        "id": "NL-2D_SR_NJ6",
        "outputId": "62c5c161-f87f-47bd-b372-e7405cbeb0c0"
      },
      "execution_count": null,
      "outputs": [
        {
          "output_type": "execute_result",
          "data": {
            "text/plain": [
              "array([[0.0, 0.0, 0.0, ..., 0.7445262870079877, 0.8855823415240062,\n",
              "        -0.09479940983242012],\n",
              "       [0.0, 0.0, 0.0, ..., -0.8804744506859593, -0.831363014491924,\n",
              "        -0.9135215856578672],\n",
              "       [0.0, 0.0, 0.0, ..., -1.0333490845456685, -1.689835692499889,\n",
              "        -1.7322437614833144],\n",
              "       ...,\n",
              "       [0.0, 0.0, 0.0, ..., -0.14441139876884046, 0.8855823415240062,\n",
              "        0.723922765993027],\n",
              "       [0.0, 0.0, 0.0, ..., -0.150073422245126, 0.8855823415240062,\n",
              "        0.723922765993027],\n",
              "       [0.0, 0.0, 0.0, ..., 2.0467916865536595, 0.027109663516041087,\n",
              "        -0.9135215856578672]], dtype=object)"
            ]
          },
          "metadata": {},
          "execution_count": 44
        }
      ]
    },
    {
      "cell_type": "markdown",
      "source": [
        "#Coba dengan PCA"
      ],
      "metadata": {
        "id": "meHbY7tQ5Rs1"
      }
    },
    {
      "cell_type": "code",
      "source": [
        "pca=PCA(0.95)"
      ],
      "metadata": {
        "id": "bU_pVVUyeGaJ"
      },
      "execution_count": null,
      "outputs": []
    },
    {
      "cell_type": "code",
      "source": [
        "pca.fit(X_train)"
      ],
      "metadata": {
        "colab": {
          "base_uri": "https://localhost:8080/"
        },
        "id": "dFVy3G8r7c5n",
        "outputId": "46e0b708-0a69-495e-e1b2-ff282a2d6f74"
      },
      "execution_count": null,
      "outputs": [
        {
          "output_type": "execute_result",
          "data": {
            "text/plain": [
              "PCA(n_components=0.95)"
            ]
          },
          "metadata": {},
          "execution_count": 142
        }
      ]
    },
    {
      "cell_type": "code",
      "source": [
        "X_train_pca,X_test_pca, y_train, y_test=train_test_split(X, y, test_size=0.2, random_state=42)"
      ],
      "metadata": {
        "id": "FwjbzKBqAGSv"
      },
      "execution_count": null,
      "outputs": []
    },
    {
      "cell_type": "code",
      "source": [
        "X_train_pca= pca.transform(X_train)\n",
        "X_test_pca= pca.transform(X_test)"
      ],
      "metadata": {
        "id": "0NyAVqgibeGy"
      },
      "execution_count": null,
      "outputs": []
    },
    {
      "cell_type": "code",
      "source": [
        "len(X_test_pca[0])"
      ],
      "metadata": {
        "colab": {
          "base_uri": "https://localhost:8080/"
        },
        "id": "RuTgWjZObqth",
        "outputId": "66398e31-95e6-4959-ca08-1a3263aa0508"
      },
      "execution_count": null,
      "outputs": [
        {
          "output_type": "execute_result",
          "data": {
            "text/plain": [
              "17"
            ]
          },
          "metadata": {},
          "execution_count": 146
        }
      ]
    },
    {
      "cell_type": "code",
      "source": [
        "pca.explained_variance_ratio_.sum()"
      ],
      "metadata": {
        "colab": {
          "base_uri": "https://localhost:8080/"
        },
        "id": "KnxMSCjKb82v",
        "outputId": "ba172238-b0db-4640-bc19-b98a95c980aa"
      },
      "execution_count": null,
      "outputs": [
        {
          "output_type": "execute_result",
          "data": {
            "text/plain": [
              "0.9543996076914185"
            ]
          },
          "metadata": {},
          "execution_count": 159
        }
      ]
    },
    {
      "cell_type": "code",
      "source": [
        "X_train_pca[0]"
      ],
      "metadata": {
        "colab": {
          "base_uri": "https://localhost:8080/"
        },
        "id": "er6uo5oxCB1Y",
        "outputId": "6eaf6671-c2cb-4d0e-b19a-dec7938a6f96"
      },
      "execution_count": null,
      "outputs": [
        {
          "output_type": "execute_result",
          "data": {
            "text/plain": [
              "array([ 1.47728265,  0.66006703,  0.50553487, -0.63041257, -0.04906952,\n",
              "       -0.07997705,  0.12003868,  0.03500897,  0.00224056,  0.28389999,\n",
              "        0.59078878, -0.18845883,  0.29723033,  0.05572848, -0.24952477,\n",
              "       -0.1274135 , -0.09815038])"
            ]
          },
          "metadata": {},
          "execution_count": 158
        }
      ]
    },
    {
      "cell_type": "code",
      "source": [
        "lr= LinearRegression()\n",
        "lr.fit(X_train_pca, y_train)\n",
        "lr.score(X_test_pca, y_test)"
      ],
      "metadata": {
        "colab": {
          "base_uri": "https://localhost:8080/"
        },
        "id": "tq8xFD3t8tRC",
        "outputId": "3cccd259-e582-4e84-d3da-54daed6c34d5"
      },
      "execution_count": null,
      "outputs": [
        {
          "output_type": "execute_result",
          "data": {
            "text/plain": [
              "0.887188550839486"
            ]
          },
          "metadata": {},
          "execution_count": 148
        }
      ]
    },
    {
      "cell_type": "code",
      "source": [
        "all_loss = []\n",
        "\n",
        "for alpha in [0.01, 0.1, 0.2]:\n",
        "  model = gradient_descent(X_train_pca.shape[1])\n",
        "  epochs = 12500\n",
        "  loss = model.fit(X_train_pca, y_train, epochs, alpha)\n",
        "\n",
        "  all_loss.append([alpha, loss])"
      ],
      "metadata": {
        "id": "xWEbkN8oJtuE"
      },
      "execution_count": null,
      "outputs": []
    },
    {
      "cell_type": "code",
      "source": [
        "# View semua proses penurunan loss untuk alpha yang berbeda\n",
        "for i in range(len(all_loss)):\n",
        "  # plt.axis([0, 25, 0, 100])\n",
        "  plt.plot(np.arange(1, epochs), all_loss[i][1][1:], label=all_loss[i][0])\n",
        "  # plt.axis([0, 25, 0, 1.0])\n",
        "\n",
        "plt.xlabel(\"Epochs\")\n",
        "plt.ylabel(\"Loss\")\n",
        "plt.legend()\n",
        "plt.show()"
      ],
      "metadata": {
        "colab": {
          "base_uri": "https://localhost:8080/",
          "height": 290
        },
        "outputId": "fea359f2-1986-4301-80df-4dc1653dc677",
        "id": "Mv8VjCU6JtuE"
      },
      "execution_count": null,
      "outputs": [
        {
          "output_type": "display_data",
          "data": {
            "text/plain": [
              "<Figure size 432x288 with 1 Axes>"
            ],
            "image/png": "[encoded data removed]"
          },
          "metadata": {
            "needs_background": "light"
          }
        }
      ]
    },
    {
      "cell_type": "code",
      "source": [
        "model = gradient_descent(X_train_pca.shape[1])\n",
        "epochs = 2000\n",
        "_=model.fit(X_train_pca, y_train, epochs,0.2)"
      ],
      "metadata": {
        "id": "c5h5pzm-LFt5"
      },
      "execution_count": null,
      "outputs": []
    },
    {
      "cell_type": "code",
      "source": [
        "w = model.theta\n",
        "b = model.intercept\n",
        "def final_predict(X):\n",
        "  return b + np.dot(X, w)"
      ],
      "metadata": {
        "id": "rjdb5bjDLJ6J"
      },
      "execution_count": null,
      "outputs": []
    },
    {
      "cell_type": "code",
      "source": [
        "y_pred = final_predict(X_test_pca)"
      ],
      "metadata": {
        "id": "p4WGpbebLJ6K"
      },
      "execution_count": null,
      "outputs": []
    },
    {
      "cell_type": "code",
      "source": [
        "r2_score(y_test,y_pred)"
      ],
      "metadata": {
        "colab": {
          "base_uri": "https://localhost:8080/"
        },
        "outputId": "2ca5c22d-488a-4be4-dfe5-ed0bae271589",
        "id": "EkgQkQNJLJ6K"
      },
      "execution_count": null,
      "outputs": [
        {
          "output_type": "execute_result",
          "data": {
            "text/plain": [
              "0.8871885508395306"
            ]
          },
          "metadata": {},
          "execution_count": 155
        }
      ]
    },
    {
      "cell_type": "markdown",
      "source": [
        "#Linear Regression GD"
      ],
      "metadata": {
        "id": "fNQ7BZHpzLVg"
      }
    },
    {
      "cell_type": "code",
      "source": [
        "class gradient_descent:\n",
        "  def __init__(self, nvar):\n",
        "    self.intercept = 0\n",
        "    self.theta = np.random.randn(nvar)\n",
        "\n",
        "  def predict(self, X, theta, intercept):\n",
        "    return np.array(intercept + np.dot(X, theta))\n",
        "\n",
        "  def update_theta(self, X, y, y_pred, alpha):\n",
        "    deriv_theta = (2/len(y)) * np.dot((y_pred - y), X)\n",
        "    return self.theta - (alpha * deriv_theta)\n",
        "\n",
        "  def update_intercept(self, y, y_pred, alpha):\n",
        "    deriv_intercept = (2/len(y)) * np.sum(y_pred - y)\n",
        "    return self.intercept - (alpha * deriv_intercept)\n",
        "\n",
        "  def get_MSE(self, y, y_pred):\n",
        "    return np.sum((y - y_pred)**2) / len(y)\n",
        "\n",
        "  def fit(self, X, y, epochs, alpha):\n",
        "    loss = []\n",
        "  \n",
        "    for i in range(epochs):\n",
        "      y_pred = self.predict(X, self.theta, self.intercept)\n",
        "      self.theta = self.update_theta(X, y, y_pred, alpha)\n",
        "      self.intercept = self.update_intercept(y, y_pred, alpha)\n",
        "      loss.append(self.get_MSE(y, y_pred))\n",
        "\n",
        "    return loss"
      ],
      "metadata": {
        "id": "qvUv-HFDzDO5"
      },
      "execution_count": null,
      "outputs": []
    },
    {
      "cell_type": "code",
      "source": [
        "all_loss = []\n",
        "\n",
        "for alpha in [0.1, 0.2, 0.3]:\n",
        "  model = gradient_descent(X_train.shape[1])\n",
        "  epochs = 250\n",
        "  loss = model.fit(X_train, y_train, epochs, alpha)\n",
        "\n",
        "  all_loss.append([alpha, loss])"
      ],
      "metadata": {
        "id": "qY6NoiSozqVY"
      },
      "execution_count": null,
      "outputs": []
    },
    {
      "cell_type": "code",
      "source": [
        "\n",
        "for i in range(len(all_loss)):\n",
        "  plt.plot(np.arange(1, epochs), all_loss[i][1][1:], label=all_loss[i][0])\n",
        "\n",
        "plt.xlabel(\"Epochs\")\n",
        "plt.ylabel(\"Loss\")\n",
        "plt.legend()\n",
        "plt.show()"
      ],
      "metadata": {
        "colab": {
          "base_uri": "https://localhost:8080/",
          "height": 290
        },
        "id": "8E5KFKSEzs-p",
        "outputId": "d3d83752-9e55-4e65-9183-aa3a27f65caa"
      },
      "execution_count": null,
      "outputs": [
        {
          "output_type": "display_data",
          "data": {
            "text/plain": [
              "<Figure size 432x288 with 1 Axes>"
            ],
            "image/png": "[encoded data removed]"
          },
          "metadata": {
            "needs_background": "light"
          }
        }
      ]
    },
    {
      "cell_type": "code",
      "source": [
        "model = gradient_descent(X.shape[1])\n",
        "epochs = 100\n",
        "_=model.fit(X_train, y_train, epochs,0.2)"
      ],
      "metadata": {
        "id": "mXTH-pJJ1WSw"
      },
      "execution_count": null,
      "outputs": []
    },
    {
      "cell_type": "code",
      "source": [
        "X_train.shape"
      ],
      "metadata": {
        "colab": {
          "base_uri": "https://localhost:8080/"
        },
        "id": "BeTKeDkwgUA-",
        "outputId": "9fd3f648-6493-429c-9e5b-be0f21b9a6d5"
      },
      "execution_count": null,
      "outputs": [
        {
          "output_type": "execute_result",
          "data": {
            "text/plain": [
              "(95, 35)"
            ]
          },
          "metadata": {},
          "execution_count": 147
        }
      ]
    },
    {
      "cell_type": "code",
      "source": [
        "w = model.theta\n",
        "b = model.intercept\n",
        "def final_predict(X):\n",
        "  return b + np.dot(X, w)"
      ],
      "metadata": {
        "id": "CYp9MiP1hiAJ"
      },
      "execution_count": null,
      "outputs": []
    },
    {
      "cell_type": "code",
      "source": [
        "y_pred_train= final_predict(X_train)"
      ],
      "metadata": {
        "id": "4ShKFjwtDPqK"
      },
      "execution_count": null,
      "outputs": []
    },
    {
      "cell_type": "code",
      "source": [
        "y_pred = final_predict(X_test)"
      ],
      "metadata": {
        "id": "2HHcJSLphiAK"
      },
      "execution_count": null,
      "outputs": []
    },
    {
      "cell_type": "code",
      "source": [
        "r2_score(y_train,y_pred_train)"
      ],
      "metadata": {
        "colab": {
          "base_uri": "https://localhost:8080/"
        },
        "id": "Cwi_w_o5Ddfv",
        "outputId": "0c61e086-1078-4e27-cb74-f087f809c4b7"
      },
      "execution_count": null,
      "outputs": [
        {
          "output_type": "execute_result",
          "data": {
            "text/plain": [
              "0.9355056841946806"
            ]
          },
          "metadata": {},
          "execution_count": 168
        }
      ]
    },
    {
      "cell_type": "code",
      "source": [
        "r2_score(y_test,y_pred)"
      ],
      "metadata": {
        "colab": {
          "base_uri": "https://localhost:8080/"
        },
        "outputId": "e432ff92-39be-43b5-99e9-407aacff9482",
        "id": "x7RaxYYxhiAK"
      },
      "execution_count": null,
      "outputs": [
        {
          "output_type": "execute_result",
          "data": {
            "text/plain": [
              "0.8968792218142028"
            ]
          },
          "metadata": {},
          "execution_count": 34
        }
      ]
    },
    {
      "cell_type": "markdown",
      "source": [
        "MEAN SQUARED ERROR and ROOT MEAN SQUARED ERROR"
      ],
      "metadata": {
        "id": "KvZKP7qNEEAN"
      }
    },
    {
      "cell_type": "code",
      "source": [
        "print('MSE is',mean_squared_error(y_test, y_pred))\n",
        "print('RMSE is',math.sqrt(mean_squared_error(y_test, y_pred)))"
      ],
      "metadata": {
        "colab": {
          "base_uri": "https://localhost:8080/"
        },
        "outputId": "4c988a66-87c4-4944-9cc0-58ef8f7f7bd8",
        "id": "nM0rXDcdhiAK"
      },
      "execution_count": null,
      "outputs": [
        {
          "output_type": "stream",
          "name": "stdout",
          "text": [
            "MSE is 12008003532.660439\n",
            "RMSE is 109581.0363733636\n"
          ]
        }
      ]
    },
    {
      "cell_type": "code",
      "source": [
        "plt.figure(figsize=(10, 10))\n",
        "plt.scatter(y_test, y_pred, c='crimson')\n",
        "\n",
        "plt.yscale('log')\n",
        "plt.xscale('log')\n",
        "\n",
        "p1 = np.max([np.max(y_test), np.max(y_pred)]) \n",
        "p2 = np.min([np.min(y_test), np.min(y_pred)])\n",
        "\n",
        "plt.plot([p1, p2], [p1, p2], 'b-')\n",
        "plt.xlabel('Price (Ground Truth)', fontsize=15)\n",
        "plt.ylabel('Price (Predictions)', fontsize=15)\n",
        "plt.show()"
      ],
      "metadata": {
        "colab": {
          "base_uri": "https://localhost:8080/",
          "height": 614
        },
        "id": "lW64COHu6P8M",
        "outputId": "11871729-d699-4968-b756-a062877c0f71"
      },
      "execution_count": null,
      "outputs": [
        {
          "output_type": "display_data",
          "data": {
            "text/plain": [
              "<Figure size 720x720 with 1 Axes>"
            ],
            "image/png": "[encoded data removed]"
          },
          "metadata": {
            "needs_background": "light"
          }
        }
      ]
    },
    {
      "cell_type": "markdown",
      "source": [
        "#Kesimpulan dari penggunaan PCA\n",
        "Sehingga kami menyimpulkan bahwa penggunaan dengan PCA sangat bagus. dimana data awal memiliki 35 fitur, dengan PCA direduksi menjadi 17 fitur dan masih mempertahankan 95% informasi yang ada. ketika dicoba untuk regresi pun, didapatkan hasil yang mirip yaitu 88.7%"
      ],
      "metadata": {
        "id": "okzCM68cDFT5"
      }
    }
  ]
}