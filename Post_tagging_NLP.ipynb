{
  "nbformat": 4,
  "nbformat_minor": 0,
  "metadata": {
    "colab": {
      "provenance": [],
      "authorship_tag": "ABX9TyMqAaB54PYSiv0ruC9xohtT",
      "include_colab_link": true
    },
    "kernelspec": {
      "name": "python3",
      "display_name": "Python 3"
    },
    "language_info": {
      "name": "python"
    }
  },
  "cells": [
    {
      "cell_type": "markdown",
      "metadata": {
        "id": "view-in-github",
        "colab_type": "text"
      },
      "source": [
        "<a href=\"https://colab.research.google.com/github/joezerr/Project/blob/main/Post_tagging_NLP.ipynb\" target=\"_parent\"><img src=\"https://colab.research.google.com/assets/colab-badge.svg\" alt=\"Open In Colab\"/></a>"
      ]
    },
    {
      "cell_type": "code",
      "execution_count": null,
      "metadata": {
        "id": "wYByo8FlpNDL"
      },
      "outputs": [],
      "source": [
        "import nltk"
      ]
    },
    {
      "cell_type": "code",
      "source": [
        "nltk.download('punkt')"
      ],
      "metadata": {
        "colab": {
          "base_uri": "https://localhost:8080/"
        },
        "id": "nBKavClbrNsH",
        "outputId": "22e60fe8-99ec-4ef0-fad7-779865597ea5"
      },
      "execution_count": null,
      "outputs": [
        {
          "output_type": "stream",
          "name": "stdout",
          "text": [
            "[nltk_data] Downloading package punkt to /root/nltk_data...\n",
            "[nltk_data]   Unzipping tokenizers/punkt.zip.\n"
          ]
        },
        {
          "output_type": "execute_result",
          "data": {
            "text/plain": [
              "True"
            ]
          },
          "metadata": {},
          "execution_count": 2
        }
      ]
    },
    {
      "cell_type": "code",
      "source": [
        "nltk.download('averaged_perceptron_tagger')"
      ],
      "metadata": {
        "colab": {
          "base_uri": "https://localhost:8080/"
        },
        "id": "y9_ere-mrpar",
        "outputId": "4518923d-4075-4a35-c4d4-6572bbabd754"
      },
      "execution_count": null,
      "outputs": [
        {
          "output_type": "stream",
          "name": "stdout",
          "text": [
            "[nltk_data] Downloading package averaged_perceptron_tagger to\n",
            "[nltk_data]     /root/nltk_data...\n",
            "[nltk_data]   Unzipping taggers/averaged_perceptron_tagger.zip.\n"
          ]
        },
        {
          "output_type": "execute_result",
          "data": {
            "text/plain": [
              "True"
            ]
          },
          "metadata": {},
          "execution_count": 3
        }
      ]
    },
    {
      "cell_type": "code",
      "source": [
        "sentence1 = \"Social Signal Processing can be considered as blue-sky research in the Artificial Intelligence area.\"\n"
      ],
      "metadata": {
        "id": "cPbOX5mspxEb"
      },
      "execution_count": null,
      "outputs": []
    },
    {
      "cell_type": "code",
      "source": [
        "sentence2 = \"Please book me a flight to Indonesia. I am planning to visit Jojo Academy this week.\"\n"
      ],
      "metadata": {
        "id": "7ggxdlUkvdIG"
      },
      "execution_count": null,
      "outputs": []
    },
    {
      "cell_type": "code",
      "source": [
        "sentence3 = \"I think therefore I am the first principle of Rene Descartes’s philosophy.\""
      ],
      "metadata": {
        "id": "tFUohCmlvmdo"
      },
      "execution_count": null,
      "outputs": []
    },
    {
      "cell_type": "code",
      "source": [
        "print(sentence1)"
      ],
      "metadata": {
        "colab": {
          "base_uri": "https://localhost:8080/"
        },
        "id": "KW71KFLvqBR4",
        "outputId": "02408ab5-d164-4008-cc0b-23d44463d117"
      },
      "execution_count": null,
      "outputs": [
        {
          "output_type": "stream",
          "name": "stdout",
          "text": [
            "Social Signal Processing can be considered as blue-sky research in the Artificial Intelligence area.\n"
          ]
        }
      ]
    },
    {
      "cell_type": "markdown",
      "source": [],
      "metadata": {
        "id": "yu2WLUEjpjcn"
      }
    },
    {
      "cell_type": "code",
      "source": [
        "words = nltk.word_tokenize(sentence1)"
      ],
      "metadata": {
        "id": "LmB7v3hPqFJU"
      },
      "execution_count": null,
      "outputs": []
    },
    {
      "cell_type": "code",
      "source": [
        "words2 = nltk.word_tokenize(sentence2)"
      ],
      "metadata": {
        "id": "Y9P7qcV0vy_P"
      },
      "execution_count": null,
      "outputs": []
    },
    {
      "cell_type": "code",
      "source": [
        "words3 = nltk.word_tokenize(sentence3)"
      ],
      "metadata": {
        "id": "bQXT0UVKv47i"
      },
      "execution_count": null,
      "outputs": []
    },
    {
      "cell_type": "code",
      "source": [
        "print(words)"
      ],
      "metadata": {
        "colab": {
          "base_uri": "https://localhost:8080/"
        },
        "id": "aUAI7Z6U99U0",
        "outputId": "2b587e52-934b-441c-95c4-a3de3097cb23"
      },
      "execution_count": null,
      "outputs": [
        {
          "output_type": "stream",
          "name": "stdout",
          "text": [
            "['Social', 'Signal', 'Processing', 'can', 'be', 'considered', 'as', 'blue-sky', 'research', 'in', 'the', 'Artificial', 'Intelligence', 'area', '.']\n"
          ]
        }
      ]
    },
    {
      "cell_type": "code",
      "source": [
        "print(words2)"
      ],
      "metadata": {
        "colab": {
          "base_uri": "https://localhost:8080/"
        },
        "id": "ZYqrmkfn-LO7",
        "outputId": "b2640450-5e72-42ba-9f87-802f0f72f2b1"
      },
      "execution_count": null,
      "outputs": [
        {
          "output_type": "stream",
          "name": "stdout",
          "text": [
            "['Please', 'book', 'me', 'a', 'flight', 'to', 'Indonesia', '.', 'I', 'am', 'planning', 'to', 'visit', 'Jojo', 'Academy', 'this', 'week', '.']\n"
          ]
        }
      ]
    },
    {
      "cell_type": "code",
      "source": [
        "print(words3)"
      ],
      "metadata": {
        "colab": {
          "base_uri": "https://localhost:8080/"
        },
        "id": "Dc7xEiji-M9L",
        "outputId": "71da16be-fcba-4450-a243-bda67a558498"
      },
      "execution_count": null,
      "outputs": [
        {
          "output_type": "stream",
          "name": "stdout",
          "text": [
            "['I', 'think', 'therefore', 'I', 'am', 'the', 'first', 'principle', 'of', 'Rene', 'Descartes', '’', 's', 'philosophy', '.']\n"
          ]
        }
      ]
    },
    {
      "cell_type": "code",
      "source": [
        "nltk.pos_tag(words)"
      ],
      "metadata": {
        "colab": {
          "base_uri": "https://localhost:8080/"
        },
        "id": "D2en9SJZrTS9",
        "outputId": "8a149859-dc14-42b3-a2ca-8548cdb0124c"
      },
      "execution_count": null,
      "outputs": [
        {
          "output_type": "execute_result",
          "data": {
            "text/plain": [
              "[('Social', 'NNP'),\n",
              " ('Signal', 'NNP'),\n",
              " ('Processing', 'NNP'),\n",
              " ('can', 'MD'),\n",
              " ('be', 'VB'),\n",
              " ('considered', 'VBN'),\n",
              " ('as', 'IN'),\n",
              " ('blue-sky', 'JJ'),\n",
              " ('research', 'NN'),\n",
              " ('in', 'IN'),\n",
              " ('the', 'DT'),\n",
              " ('Artificial', 'NNP'),\n",
              " ('Intelligence', 'NNP'),\n",
              " ('area', 'NN'),\n",
              " ('.', '.')]"
            ]
          },
          "metadata": {},
          "execution_count": 14
        }
      ]
    },
    {
      "cell_type": "code",
      "source": [
        "nltk.pos_tag(words2)"
      ],
      "metadata": {
        "colab": {
          "base_uri": "https://localhost:8080/"
        },
        "id": "xBCB1eyQv-n0",
        "outputId": "2629fb56-ae02-43ba-89c5-f0ad9ada3eb0"
      },
      "execution_count": null,
      "outputs": [
        {
          "output_type": "execute_result",
          "data": {
            "text/plain": [
              "[('Please', 'VB'),\n",
              " ('book', 'NN'),\n",
              " ('me', 'PRP'),\n",
              " ('a', 'DT'),\n",
              " ('flight', 'NN'),\n",
              " ('to', 'TO'),\n",
              " ('Indonesia', 'NNP'),\n",
              " ('.', '.'),\n",
              " ('I', 'PRP'),\n",
              " ('am', 'VBP'),\n",
              " ('planning', 'VBG'),\n",
              " ('to', 'TO'),\n",
              " ('visit', 'VB'),\n",
              " ('Jojo', 'NNP'),\n",
              " ('Academy', 'NNP'),\n",
              " ('this', 'DT'),\n",
              " ('week', 'NN'),\n",
              " ('.', '.')]"
            ]
          },
          "metadata": {},
          "execution_count": 15
        }
      ]
    },
    {
      "cell_type": "code",
      "source": [
        "len(words2)"
      ],
      "metadata": {
        "colab": {
          "base_uri": "https://localhost:8080/"
        },
        "id": "7j7q3H02wCtf",
        "outputId": "cc6f0525-1f2c-4ee4-8f30-7857329f4f69"
      },
      "execution_count": null,
      "outputs": [
        {
          "output_type": "execute_result",
          "data": {
            "text/plain": [
              "18"
            ]
          },
          "metadata": {},
          "execution_count": 24
        }
      ]
    },
    {
      "cell_type": "code",
      "source": [
        "nltk.pos_tag(words3)"
      ],
      "metadata": {
        "colab": {
          "base_uri": "https://localhost:8080/"
        },
        "id": "Tv9O0xRgwGEw",
        "outputId": "26a7d0a9-cade-4444-b08c-c20e715ace9a"
      },
      "execution_count": null,
      "outputs": [
        {
          "output_type": "execute_result",
          "data": {
            "text/plain": [
              "[('I', 'PRP'),\n",
              " ('think', 'VBP'),\n",
              " ('therefore', 'RB'),\n",
              " ('I', 'PRP'),\n",
              " ('am', 'VBP'),\n",
              " ('the', 'DT'),\n",
              " ('first', 'JJ'),\n",
              " ('principle', 'NN'),\n",
              " ('of', 'IN'),\n",
              " ('Rene', 'NNP'),\n",
              " ('Descartes', 'NNP'),\n",
              " ('’', 'NNP'),\n",
              " ('s', 'VBD'),\n",
              " ('philosophy', 'NN'),\n",
              " ('.', '.')]"
            ]
          },
          "metadata": {},
          "execution_count": 16
        }
      ]
    }
  ]
}