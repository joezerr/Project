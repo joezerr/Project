{
  "nbformat": 4,
  "nbformat_minor": 0,
  "metadata": {
    "colab": {
      "provenance": [],
      "authorship_tag": "ABX9TyPSDYyGNYfy6ioNl8QbkzWJ",
      "include_colab_link": true
    },
    "kernelspec": {
      "name": "python3",
      "display_name": "Python 3"
    },
    "language_info": {
      "name": "python"
    }
  },
  "cells": [
    {
      "cell_type": "markdown",
      "metadata": {
        "id": "view-in-github",
        "colab_type": "text"
      },
      "source": [
        "<a href=\"https://colab.research.google.com/github/joezerr/Project/blob/main/KNN_%26_SVM_UAS_Machine_Learning_No_3.ipynb\" target=\"_parent\"><img src=\"https://colab.research.google.com/assets/colab-badge.svg\" alt=\"Open In Colab\"/></a>"
      ]
    },
    {
      "cell_type": "markdown",
      "source": [
        "**IMPORT LIBRARY**"
      ],
      "metadata": {
        "id": "fsn_K6Peq_2S"
      }
    },
    {
      "cell_type": "code",
      "execution_count": null,
      "metadata": {
        "id": "m9ncue7siuvZ"
      },
      "outputs": [],
      "source": [
        "import pandas as pd\n",
        "import numpy as np\n",
        "import matplotlib.pyplot as plt\n",
        "import seaborn as sns\n",
        "from scipy.stats import mode"
      ]
    },
    {
      "cell_type": "markdown",
      "source": [
        "**Import datasets**"
      ],
      "metadata": {
        "id": "pU7vPt--rWsi"
      }
    },
    {
      "cell_type": "code",
      "source": [
        "url = (\"https://raw.githubusercontent.com/joezerr/UASMachineLearning/main/experiment.csv\")"
      ],
      "metadata": {
        "id": "LGbtmMR4rFS1"
      },
      "execution_count": null,
      "outputs": []
    },
    {
      "cell_type": "markdown",
      "source": [
        "**Getting to know the datasets (Data exploration)**"
      ],
      "metadata": {
        "id": "gt709FBXrhLO"
      }
    },
    {
      "cell_type": "code",
      "source": [
        "no3 = pd.read_csv(url, sep=\";\",decimal=',')\n",
        "no3"
      ],
      "metadata": {
        "colab": {
          "base_uri": "https://localhost:8080/",
          "height": 488
        },
        "id": "m_RiYsYHriTs",
        "outputId": "3fa52446-8719-4932-c6a6-a55bae9d6042"
      },
      "execution_count": null,
      "outputs": [
        {
          "output_type": "execute_result",
          "data": {
            "text/plain": [
              "            F1        F2        F3        F4   F5        F6        F7  \\\n",
              "0     0.006711  0.000000  0.013423  0.006711  0.0  0.006711  0.006711   \n",
              "1     0.000000  0.000000  0.000000  0.007246  0.0  0.000000  0.000000   \n",
              "2     0.011696  0.000000  0.005848  0.000000  0.0  0.005848  0.000000   \n",
              "3     0.000000  0.000000  0.020833  0.000000  0.0  0.000000  0.010417   \n",
              "4     0.000000  0.000000  0.034483  0.000000  0.0  0.000000  0.000000   \n",
              "...        ...       ...       ...       ...  ...       ...       ...   \n",
              "4075  0.000000  0.016667  0.000000  0.000000  0.0  0.000000  0.000000   \n",
              "4076  0.000000  0.000000  0.000000  0.000000  0.0  0.000000  0.000000   \n",
              "4077  0.014925  0.000000  0.000000  0.000000  0.0  0.000000  0.000000   \n",
              "4078  0.000000  0.017544  0.017544  0.000000  0.0  0.000000  0.000000   \n",
              "4079  0.017241  0.000000  0.000000  0.000000  0.0  0.000000  0.000000   \n",
              "\n",
              "            F8        F9       F10  ...      F192      F193      F194  \\\n",
              "0     0.020134  0.020134  0.000000  ...  0.013423  0.000000  0.006711   \n",
              "1     0.021739  0.014493  0.000000  ...  0.007246  0.007246  0.000000   \n",
              "2     0.035088  0.017544  0.017544  ...  0.005848  0.000000  0.005848   \n",
              "3     0.000000  0.020833  0.000000  ...  0.010417  0.000000  0.000000   \n",
              "4     0.000000  0.034483  0.000000  ...  0.017241  0.000000  0.000000   \n",
              "...        ...       ...       ...  ...       ...       ...       ...   \n",
              "4075  0.000000  0.000000  0.000000  ...  0.000000  0.000000  0.000000   \n",
              "4076  0.000000  0.000000  0.000000  ...  0.000000  0.000000  0.000000   \n",
              "4077  0.000000  0.000000  0.000000  ...  0.014925  0.000000  0.000000   \n",
              "4078  0.000000  0.000000  0.000000  ...  0.017544  0.000000  0.000000   \n",
              "4079  0.000000  0.000000  0.000000  ...  0.017241  0.000000  0.000000   \n",
              "\n",
              "          F195      F196      F197      F198      F199      F200  Class  \n",
              "0     0.013423  0.020134  0.006711  0.000000  0.006711  0.000000      1  \n",
              "1     0.000000  0.014493  0.000000  0.000000  0.007246  0.000000      1  \n",
              "2     0.011696  0.035088  0.005848  0.000000  0.000000  0.000000      1  \n",
              "3     0.041667  0.000000  0.000000  0.000000  0.000000  0.000000      1  \n",
              "4     0.068966  0.000000  0.000000  0.000000  0.000000  0.000000      1  \n",
              "...        ...       ...       ...       ...       ...       ...    ...  \n",
              "4075  0.000000  0.000000  0.000000  0.016667  0.000000  0.033333      5  \n",
              "4076  0.000000  0.000000  0.000000  0.017857  0.000000  0.035714      5  \n",
              "4077  0.000000  0.000000  0.000000  0.014925  0.000000  0.029851      5  \n",
              "4078  0.000000  0.000000  0.000000  0.017544  0.000000  0.035088      5  \n",
              "4079  0.000000  0.000000  0.000000  0.017241  0.000000  0.034483      5  \n",
              "\n",
              "[4080 rows x 201 columns]"
            ],
            "text/html": [
              "\n",
              "  <div id=\"df-6bdc43b2-9dd6-43f1-b114-c43f3bad2dba\">\n",
              "    <div class=\"colab-df-container\">\n",
              "      <div>\n",
              "<style scoped>\n",
              "    .dataframe tbody tr th:only-of-type {\n",
              "        vertical-align: middle;\n",
              "    }\n",
              "\n",
              "    .dataframe tbody tr th {\n",
              "        vertical-align: top;\n",
              "    }\n",
              "\n",
              "    .dataframe thead th {\n",
              "        text-align: right;\n",
              "    }\n",
              "</style>\n",
              "<table border=\"1\" class=\"dataframe\">\n",
              "  <thead>\n",
              "    <tr style=\"text-align: right;\">\n",
              "      <th></th>\n",
              "      <th>F1</th>\n",
              "      <th>F2</th>\n",
              "      <th>F3</th>\n",
              "      <th>F4</th>\n",
              "      <th>F5</th>\n",
              "      <th>F6</th>\n",
              "      <th>F7</th>\n",
              "      <th>F8</th>\n",
              "      <th>F9</th>\n",
              "      <th>F10</th>\n",
              "      <th>...</th>\n",
              "      <th>F192</th>\n",
              "      <th>F193</th>\n",
              "      <th>F194</th>\n",
              "      <th>F195</th>\n",
              "      <th>F196</th>\n",
              "      <th>F197</th>\n",
              "      <th>F198</th>\n",
              "      <th>F199</th>\n",
              "      <th>F200</th>\n",
              "      <th>Class</th>\n",
              "    </tr>\n",
              "  </thead>\n",
              "  <tbody>\n",
              "    <tr>\n",
              "      <th>0</th>\n",
              "      <td>0.006711</td>\n",
              "      <td>0.000000</td>\n",
              "      <td>0.013423</td>\n",
              "      <td>0.006711</td>\n",
              "      <td>0.0</td>\n",
              "      <td>0.006711</td>\n",
              "      <td>0.006711</td>\n",
              "      <td>0.020134</td>\n",
              "      <td>0.020134</td>\n",
              "      <td>0.000000</td>\n",
              "      <td>...</td>\n",
              "      <td>0.013423</td>\n",
              "      <td>0.000000</td>\n",
              "      <td>0.006711</td>\n",
              "      <td>0.013423</td>\n",
              "      <td>0.020134</td>\n",
              "      <td>0.006711</td>\n",
              "      <td>0.000000</td>\n",
              "      <td>0.006711</td>\n",
              "      <td>0.000000</td>\n",
              "      <td>1</td>\n",
              "    </tr>\n",
              "    <tr>\n",
              "      <th>1</th>\n",
              "      <td>0.000000</td>\n",
              "      <td>0.000000</td>\n",
              "      <td>0.000000</td>\n",
              "      <td>0.007246</td>\n",
              "      <td>0.0</td>\n",
              "      <td>0.000000</td>\n",
              "      <td>0.000000</td>\n",
              "      <td>0.021739</td>\n",
              "      <td>0.014493</td>\n",
              "      <td>0.000000</td>\n",
              "      <td>...</td>\n",
              "      <td>0.007246</td>\n",
              "      <td>0.007246</td>\n",
              "      <td>0.000000</td>\n",
              "      <td>0.000000</td>\n",
              "      <td>0.014493</td>\n",
              "      <td>0.000000</td>\n",
              "      <td>0.000000</td>\n",
              "      <td>0.007246</td>\n",
              "      <td>0.000000</td>\n",
              "      <td>1</td>\n",
              "    </tr>\n",
              "    <tr>\n",
              "      <th>2</th>\n",
              "      <td>0.011696</td>\n",
              "      <td>0.000000</td>\n",
              "      <td>0.005848</td>\n",
              "      <td>0.000000</td>\n",
              "      <td>0.0</td>\n",
              "      <td>0.005848</td>\n",
              "      <td>0.000000</td>\n",
              "      <td>0.035088</td>\n",
              "      <td>0.017544</td>\n",
              "      <td>0.017544</td>\n",
              "      <td>...</td>\n",
              "      <td>0.005848</td>\n",
              "      <td>0.000000</td>\n",
              "      <td>0.005848</td>\n",
              "      <td>0.011696</td>\n",
              "      <td>0.035088</td>\n",
              "      <td>0.005848</td>\n",
              "      <td>0.000000</td>\n",
              "      <td>0.000000</td>\n",
              "      <td>0.000000</td>\n",
              "      <td>1</td>\n",
              "    </tr>\n",
              "    <tr>\n",
              "      <th>3</th>\n",
              "      <td>0.000000</td>\n",
              "      <td>0.000000</td>\n",
              "      <td>0.020833</td>\n",
              "      <td>0.000000</td>\n",
              "      <td>0.0</td>\n",
              "      <td>0.000000</td>\n",
              "      <td>0.010417</td>\n",
              "      <td>0.000000</td>\n",
              "      <td>0.020833</td>\n",
              "      <td>0.000000</td>\n",
              "      <td>...</td>\n",
              "      <td>0.010417</td>\n",
              "      <td>0.000000</td>\n",
              "      <td>0.000000</td>\n",
              "      <td>0.041667</td>\n",
              "      <td>0.000000</td>\n",
              "      <td>0.000000</td>\n",
              "      <td>0.000000</td>\n",
              "      <td>0.000000</td>\n",
              "      <td>0.000000</td>\n",
              "      <td>1</td>\n",
              "    </tr>\n",
              "    <tr>\n",
              "      <th>4</th>\n",
              "      <td>0.000000</td>\n",
              "      <td>0.000000</td>\n",
              "      <td>0.034483</td>\n",
              "      <td>0.000000</td>\n",
              "      <td>0.0</td>\n",
              "      <td>0.000000</td>\n",
              "      <td>0.000000</td>\n",
              "      <td>0.000000</td>\n",
              "      <td>0.034483</td>\n",
              "      <td>0.000000</td>\n",
              "      <td>...</td>\n",
              "      <td>0.017241</td>\n",
              "      <td>0.000000</td>\n",
              "      <td>0.000000</td>\n",
              "      <td>0.068966</td>\n",
              "      <td>0.000000</td>\n",
              "      <td>0.000000</td>\n",
              "      <td>0.000000</td>\n",
              "      <td>0.000000</td>\n",
              "      <td>0.000000</td>\n",
              "      <td>1</td>\n",
              "    </tr>\n",
              "    <tr>\n",
              "      <th>...</th>\n",
              "      <td>...</td>\n",
              "      <td>...</td>\n",
              "      <td>...</td>\n",
              "      <td>...</td>\n",
              "      <td>...</td>\n",
              "      <td>...</td>\n",
              "      <td>...</td>\n",
              "      <td>...</td>\n",
              "      <td>...</td>\n",
              "      <td>...</td>\n",
              "      <td>...</td>\n",
              "      <td>...</td>\n",
              "      <td>...</td>\n",
              "      <td>...</td>\n",
              "      <td>...</td>\n",
              "      <td>...</td>\n",
              "      <td>...</td>\n",
              "      <td>...</td>\n",
              "      <td>...</td>\n",
              "      <td>...</td>\n",
              "      <td>...</td>\n",
              "    </tr>\n",
              "    <tr>\n",
              "      <th>4075</th>\n",
              "      <td>0.000000</td>\n",
              "      <td>0.016667</td>\n",
              "      <td>0.000000</td>\n",
              "      <td>0.000000</td>\n",
              "      <td>0.0</td>\n",
              "      <td>0.000000</td>\n",
              "      <td>0.000000</td>\n",
              "      <td>0.000000</td>\n",
              "      <td>0.000000</td>\n",
              "      <td>0.000000</td>\n",
              "      <td>...</td>\n",
              "      <td>0.000000</td>\n",
              "      <td>0.000000</td>\n",
              "      <td>0.000000</td>\n",
              "      <td>0.000000</td>\n",
              "      <td>0.000000</td>\n",
              "      <td>0.000000</td>\n",
              "      <td>0.016667</td>\n",
              "      <td>0.000000</td>\n",
              "      <td>0.033333</td>\n",
              "      <td>5</td>\n",
              "    </tr>\n",
              "    <tr>\n",
              "      <th>4076</th>\n",
              "      <td>0.000000</td>\n",
              "      <td>0.000000</td>\n",
              "      <td>0.000000</td>\n",
              "      <td>0.000000</td>\n",
              "      <td>0.0</td>\n",
              "      <td>0.000000</td>\n",
              "      <td>0.000000</td>\n",
              "      <td>0.000000</td>\n",
              "      <td>0.000000</td>\n",
              "      <td>0.000000</td>\n",
              "      <td>...</td>\n",
              "      <td>0.000000</td>\n",
              "      <td>0.000000</td>\n",
              "      <td>0.000000</td>\n",
              "      <td>0.000000</td>\n",
              "      <td>0.000000</td>\n",
              "      <td>0.000000</td>\n",
              "      <td>0.017857</td>\n",
              "      <td>0.000000</td>\n",
              "      <td>0.035714</td>\n",
              "      <td>5</td>\n",
              "    </tr>\n",
              "    <tr>\n",
              "      <th>4077</th>\n",
              "      <td>0.014925</td>\n",
              "      <td>0.000000</td>\n",
              "      <td>0.000000</td>\n",
              "      <td>0.000000</td>\n",
              "      <td>0.0</td>\n",
              "      <td>0.000000</td>\n",
              "      <td>0.000000</td>\n",
              "      <td>0.000000</td>\n",
              "      <td>0.000000</td>\n",
              "      <td>0.000000</td>\n",
              "      <td>...</td>\n",
              "      <td>0.014925</td>\n",
              "      <td>0.000000</td>\n",
              "      <td>0.000000</td>\n",
              "      <td>0.000000</td>\n",
              "      <td>0.000000</td>\n",
              "      <td>0.000000</td>\n",
              "      <td>0.014925</td>\n",
              "      <td>0.000000</td>\n",
              "      <td>0.029851</td>\n",
              "      <td>5</td>\n",
              "    </tr>\n",
              "    <tr>\n",
              "      <th>4078</th>\n",
              "      <td>0.000000</td>\n",
              "      <td>0.017544</td>\n",
              "      <td>0.017544</td>\n",
              "      <td>0.000000</td>\n",
              "      <td>0.0</td>\n",
              "      <td>0.000000</td>\n",
              "      <td>0.000000</td>\n",
              "      <td>0.000000</td>\n",
              "      <td>0.000000</td>\n",
              "      <td>0.000000</td>\n",
              "      <td>...</td>\n",
              "      <td>0.017544</td>\n",
              "      <td>0.000000</td>\n",
              "      <td>0.000000</td>\n",
              "      <td>0.000000</td>\n",
              "      <td>0.000000</td>\n",
              "      <td>0.000000</td>\n",
              "      <td>0.017544</td>\n",
              "      <td>0.000000</td>\n",
              "      <td>0.035088</td>\n",
              "      <td>5</td>\n",
              "    </tr>\n",
              "    <tr>\n",
              "      <th>4079</th>\n",
              "      <td>0.017241</td>\n",
              "      <td>0.000000</td>\n",
              "      <td>0.000000</td>\n",
              "      <td>0.000000</td>\n",
              "      <td>0.0</td>\n",
              "      <td>0.000000</td>\n",
              "      <td>0.000000</td>\n",
              "      <td>0.000000</td>\n",
              "      <td>0.000000</td>\n",
              "      <td>0.000000</td>\n",
              "      <td>...</td>\n",
              "      <td>0.017241</td>\n",
              "      <td>0.000000</td>\n",
              "      <td>0.000000</td>\n",
              "      <td>0.000000</td>\n",
              "      <td>0.000000</td>\n",
              "      <td>0.000000</td>\n",
              "      <td>0.017241</td>\n",
              "      <td>0.000000</td>\n",
              "      <td>0.034483</td>\n",
              "      <td>5</td>\n",
              "    </tr>\n",
              "  </tbody>\n",
              "</table>\n",
              "<p>4080 rows × 201 columns</p>\n",
              "</div>\n",
              "      <button class=\"colab-df-convert\" onclick=\"convertToInteractive('df-6bdc43b2-9dd6-43f1-b114-c43f3bad2dba')\"\n",
              "              title=\"Convert this dataframe to an interactive table.\"\n",
              "              style=\"display:none;\">\n",
              "        \n",
              "  <svg xmlns=\"http://www.w3.org/2000/svg\" height=\"24px\"viewBox=\"0 0 24 24\"\n",
              "       width=\"24px\">\n",
              "    <path d=\"M0 0h24v24H0V0z\" fill=\"none\"/>\n",
              "    <path d=\"M18.56 5.44l.94 2.06.94-2.06 2.06-.94-2.06-.94-.94-2.06-.94 2.06-2.06.94zm-11 1L8.5 8.5l.94-2.06 2.06-.94-2.06-.94L8.5 2.5l-.94 2.06-2.06.94zm10 10l.94 2.06.94-2.06 2.06-.94-2.06-.94-.94-2.06-.94 2.06-2.06.94z\"/><path d=\"M17.41 7.96l-1.37-1.37c-.4-.4-.92-.59-1.43-.59-.52 0-1.04.2-1.43.59L10.3 9.45l-7.72 7.72c-.78.78-.78 2.05 0 2.83L4 21.41c.39.39.9.59 1.41.59.51 0 1.02-.2 1.41-.59l7.78-7.78 2.81-2.81c.8-.78.8-2.07 0-2.86zM5.41 20L4 18.59l7.72-7.72 1.47 1.35L5.41 20z\"/>\n",
              "  </svg>\n",
              "      </button>\n",
              "      \n",
              "  <style>\n",
              "    .colab-df-container {\n",
              "      display:flex;\n",
              "      flex-wrap:wrap;\n",
              "      gap: 12px;\n",
              "    }\n",
              "\n",
              "    .colab-df-convert {\n",
              "      background-color: #E8F0FE;\n",
              "      border: none;\n",
              "      border-radius: 50%;\n",
              "      cursor: pointer;\n",
              "      display: none;\n",
              "      fill: #1967D2;\n",
              "      height: 32px;\n",
              "      padding: 0 0 0 0;\n",
              "      width: 32px;\n",
              "    }\n",
              "\n",
              "    .colab-df-convert:hover {\n",
              "      background-color: #E2EBFA;\n",
              "      box-shadow: 0px 1px 2px rgba(60, 64, 67, 0.3), 0px 1px 3px 1px rgba(60, 64, 67, 0.15);\n",
              "      fill: #174EA6;\n",
              "    }\n",
              "\n",
              "    [theme=dark] .colab-df-convert {\n",
              "      background-color: #3B4455;\n",
              "      fill: #D2E3FC;\n",
              "    }\n",
              "\n",
              "    [theme=dark] .colab-df-convert:hover {\n",
              "      background-color: #434B5C;\n",
              "      box-shadow: 0px 1px 3px 1px rgba(0, 0, 0, 0.15);\n",
              "      filter: drop-shadow(0px 1px 2px rgba(0, 0, 0, 0.3));\n",
              "      fill: #FFFFFF;\n",
              "    }\n",
              "  </style>\n",
              "\n",
              "      <script>\n",
              "        const buttonEl =\n",
              "          document.querySelector('#df-6bdc43b2-9dd6-43f1-b114-c43f3bad2dba button.colab-df-convert');\n",
              "        buttonEl.style.display =\n",
              "          google.colab.kernel.accessAllowed ? 'block' : 'none';\n",
              "\n",
              "        async function convertToInteractive(key) {\n",
              "          const element = document.querySelector('#df-6bdc43b2-9dd6-43f1-b114-c43f3bad2dba');\n",
              "          const dataTable =\n",
              "            await google.colab.kernel.invokeFunction('convertToInteractive',\n",
              "                                                     [key], {});\n",
              "          if (!dataTable) return;\n",
              "\n",
              "          const docLinkHtml = 'Like what you see? Visit the ' +\n",
              "            '<a target=\"_blank\" href=https://colab.research.google.com/notebooks/data_table.ipynb>data table notebook</a>'\n",
              "            + ' to learn more about interactive tables.';\n",
              "          element.innerHTML = '';\n",
              "          dataTable['output_type'] = 'display_data';\n",
              "          await google.colab.output.renderOutput(dataTable, element);\n",
              "          const docLink = document.createElement('div');\n",
              "          docLink.innerHTML = docLinkHtml;\n",
              "          element.appendChild(docLink);\n",
              "        }\n",
              "      </script>\n",
              "    </div>\n",
              "  </div>\n",
              "  "
            ]
          },
          "metadata": {},
          "execution_count": 3
        }
      ]
    },
    {
      "cell_type": "code",
      "source": [
        "no3 = no3.astype(float)"
      ],
      "metadata": {
        "id": "YBsqSVNwpRX1"
      },
      "execution_count": null,
      "outputs": []
    },
    {
      "cell_type": "code",
      "source": [
        "no3['Class'] = no3['Class'].astype(int)\n",
        "no3"
      ],
      "metadata": {
        "colab": {
          "base_uri": "https://localhost:8080/",
          "height": 488
        },
        "id": "8UA3z4nGpdtp",
        "outputId": "3016bdab-30f5-441c-cdc2-4cb17fc4acbb"
      },
      "execution_count": null,
      "outputs": [
        {
          "output_type": "execute_result",
          "data": {
            "text/plain": [
              "            F1        F2        F3        F4   F5        F6        F7  \\\n",
              "0     0.006711  0.000000  0.013423  0.006711  0.0  0.006711  0.006711   \n",
              "1     0.000000  0.000000  0.000000  0.007246  0.0  0.000000  0.000000   \n",
              "2     0.011696  0.000000  0.005848  0.000000  0.0  0.005848  0.000000   \n",
              "3     0.000000  0.000000  0.020833  0.000000  0.0  0.000000  0.010417   \n",
              "4     0.000000  0.000000  0.034483  0.000000  0.0  0.000000  0.000000   \n",
              "...        ...       ...       ...       ...  ...       ...       ...   \n",
              "4075  0.000000  0.016667  0.000000  0.000000  0.0  0.000000  0.000000   \n",
              "4076  0.000000  0.000000  0.000000  0.000000  0.0  0.000000  0.000000   \n",
              "4077  0.014925  0.000000  0.000000  0.000000  0.0  0.000000  0.000000   \n",
              "4078  0.000000  0.017544  0.017544  0.000000  0.0  0.000000  0.000000   \n",
              "4079  0.017241  0.000000  0.000000  0.000000  0.0  0.000000  0.000000   \n",
              "\n",
              "            F8        F9       F10  ...      F192      F193      F194  \\\n",
              "0     0.020134  0.020134  0.000000  ...  0.013423  0.000000  0.006711   \n",
              "1     0.021739  0.014493  0.000000  ...  0.007246  0.007246  0.000000   \n",
              "2     0.035088  0.017544  0.017544  ...  0.005848  0.000000  0.005848   \n",
              "3     0.000000  0.020833  0.000000  ...  0.010417  0.000000  0.000000   \n",
              "4     0.000000  0.034483  0.000000  ...  0.017241  0.000000  0.000000   \n",
              "...        ...       ...       ...  ...       ...       ...       ...   \n",
              "4075  0.000000  0.000000  0.000000  ...  0.000000  0.000000  0.000000   \n",
              "4076  0.000000  0.000000  0.000000  ...  0.000000  0.000000  0.000000   \n",
              "4077  0.000000  0.000000  0.000000  ...  0.014925  0.000000  0.000000   \n",
              "4078  0.000000  0.000000  0.000000  ...  0.017544  0.000000  0.000000   \n",
              "4079  0.000000  0.000000  0.000000  ...  0.017241  0.000000  0.000000   \n",
              "\n",
              "          F195      F196      F197      F198      F199      F200  Class  \n",
              "0     0.013423  0.020134  0.006711  0.000000  0.006711  0.000000      1  \n",
              "1     0.000000  0.014493  0.000000  0.000000  0.007246  0.000000      1  \n",
              "2     0.011696  0.035088  0.005848  0.000000  0.000000  0.000000      1  \n",
              "3     0.041667  0.000000  0.000000  0.000000  0.000000  0.000000      1  \n",
              "4     0.068966  0.000000  0.000000  0.000000  0.000000  0.000000      1  \n",
              "...        ...       ...       ...       ...       ...       ...    ...  \n",
              "4075  0.000000  0.000000  0.000000  0.016667  0.000000  0.033333      5  \n",
              "4076  0.000000  0.000000  0.000000  0.017857  0.000000  0.035714      5  \n",
              "4077  0.000000  0.000000  0.000000  0.014925  0.000000  0.029851      5  \n",
              "4078  0.000000  0.000000  0.000000  0.017544  0.000000  0.035088      5  \n",
              "4079  0.000000  0.000000  0.000000  0.017241  0.000000  0.034483      5  \n",
              "\n",
              "[4080 rows x 201 columns]"
            ],
            "text/html": [
              "\n",
              "  <div id=\"df-ac0d4d5f-c89f-4376-8334-f442cb5ddb03\">\n",
              "    <div class=\"colab-df-container\">\n",
              "      <div>\n",
              "<style scoped>\n",
              "    .dataframe tbody tr th:only-of-type {\n",
              "        vertical-align: middle;\n",
              "    }\n",
              "\n",
              "    .dataframe tbody tr th {\n",
              "        vertical-align: top;\n",
              "    }\n",
              "\n",
              "    .dataframe thead th {\n",
              "        text-align: right;\n",
              "    }\n",
              "</style>\n",
              "<table border=\"1\" class=\"dataframe\">\n",
              "  <thead>\n",
              "    <tr style=\"text-align: right;\">\n",
              "      <th></th>\n",
              "      <th>F1</th>\n",
              "      <th>F2</th>\n",
              "      <th>F3</th>\n",
              "      <th>F4</th>\n",
              "      <th>F5</th>\n",
              "      <th>F6</th>\n",
              "      <th>F7</th>\n",
              "      <th>F8</th>\n",
              "      <th>F9</th>\n",
              "      <th>F10</th>\n",
              "      <th>...</th>\n",
              "      <th>F192</th>\n",
              "      <th>F193</th>\n",
              "      <th>F194</th>\n",
              "      <th>F195</th>\n",
              "      <th>F196</th>\n",
              "      <th>F197</th>\n",
              "      <th>F198</th>\n",
              "      <th>F199</th>\n",
              "      <th>F200</th>\n",
              "      <th>Class</th>\n",
              "    </tr>\n",
              "  </thead>\n",
              "  <tbody>\n",
              "    <tr>\n",
              "      <th>0</th>\n",
              "      <td>0.006711</td>\n",
              "      <td>0.000000</td>\n",
              "      <td>0.013423</td>\n",
              "      <td>0.006711</td>\n",
              "      <td>0.0</td>\n",
              "      <td>0.006711</td>\n",
              "      <td>0.006711</td>\n",
              "      <td>0.020134</td>\n",
              "      <td>0.020134</td>\n",
              "      <td>0.000000</td>\n",
              "      <td>...</td>\n",
              "      <td>0.013423</td>\n",
              "      <td>0.000000</td>\n",
              "      <td>0.006711</td>\n",
              "      <td>0.013423</td>\n",
              "      <td>0.020134</td>\n",
              "      <td>0.006711</td>\n",
              "      <td>0.000000</td>\n",
              "      <td>0.006711</td>\n",
              "      <td>0.000000</td>\n",
              "      <td>1</td>\n",
              "    </tr>\n",
              "    <tr>\n",
              "      <th>1</th>\n",
              "      <td>0.000000</td>\n",
              "      <td>0.000000</td>\n",
              "      <td>0.000000</td>\n",
              "      <td>0.007246</td>\n",
              "      <td>0.0</td>\n",
              "      <td>0.000000</td>\n",
              "      <td>0.000000</td>\n",
              "      <td>0.021739</td>\n",
              "      <td>0.014493</td>\n",
              "      <td>0.000000</td>\n",
              "      <td>...</td>\n",
              "      <td>0.007246</td>\n",
              "      <td>0.007246</td>\n",
              "      <td>0.000000</td>\n",
              "      <td>0.000000</td>\n",
              "      <td>0.014493</td>\n",
              "      <td>0.000000</td>\n",
              "      <td>0.000000</td>\n",
              "      <td>0.007246</td>\n",
              "      <td>0.000000</td>\n",
              "      <td>1</td>\n",
              "    </tr>\n",
              "    <tr>\n",
              "      <th>2</th>\n",
              "      <td>0.011696</td>\n",
              "      <td>0.000000</td>\n",
              "      <td>0.005848</td>\n",
              "      <td>0.000000</td>\n",
              "      <td>0.0</td>\n",
              "      <td>0.005848</td>\n",
              "      <td>0.000000</td>\n",
              "      <td>0.035088</td>\n",
              "      <td>0.017544</td>\n",
              "      <td>0.017544</td>\n",
              "      <td>...</td>\n",
              "      <td>0.005848</td>\n",
              "      <td>0.000000</td>\n",
              "      <td>0.005848</td>\n",
              "      <td>0.011696</td>\n",
              "      <td>0.035088</td>\n",
              "      <td>0.005848</td>\n",
              "      <td>0.000000</td>\n",
              "      <td>0.000000</td>\n",
              "      <td>0.000000</td>\n",
              "      <td>1</td>\n",
              "    </tr>\n",
              "    <tr>\n",
              "      <th>3</th>\n",
              "      <td>0.000000</td>\n",
              "      <td>0.000000</td>\n",
              "      <td>0.020833</td>\n",
              "      <td>0.000000</td>\n",
              "      <td>0.0</td>\n",
              "      <td>0.000000</td>\n",
              "      <td>0.010417</td>\n",
              "      <td>0.000000</td>\n",
              "      <td>0.020833</td>\n",
              "      <td>0.000000</td>\n",
              "      <td>...</td>\n",
              "      <td>0.010417</td>\n",
              "      <td>0.000000</td>\n",
              "      <td>0.000000</td>\n",
              "      <td>0.041667</td>\n",
              "      <td>0.000000</td>\n",
              "      <td>0.000000</td>\n",
              "      <td>0.000000</td>\n",
              "      <td>0.000000</td>\n",
              "      <td>0.000000</td>\n",
              "      <td>1</td>\n",
              "    </tr>\n",
              "    <tr>\n",
              "      <th>4</th>\n",
              "      <td>0.000000</td>\n",
              "      <td>0.000000</td>\n",
              "      <td>0.034483</td>\n",
              "      <td>0.000000</td>\n",
              "      <td>0.0</td>\n",
              "      <td>0.000000</td>\n",
              "      <td>0.000000</td>\n",
              "      <td>0.000000</td>\n",
              "      <td>0.034483</td>\n",
              "      <td>0.000000</td>\n",
              "      <td>...</td>\n",
              "      <td>0.017241</td>\n",
              "      <td>0.000000</td>\n",
              "      <td>0.000000</td>\n",
              "      <td>0.068966</td>\n",
              "      <td>0.000000</td>\n",
              "      <td>0.000000</td>\n",
              "      <td>0.000000</td>\n",
              "      <td>0.000000</td>\n",
              "      <td>0.000000</td>\n",
              "      <td>1</td>\n",
              "    </tr>\n",
              "    <tr>\n",
              "      <th>...</th>\n",
              "      <td>...</td>\n",
              "      <td>...</td>\n",
              "      <td>...</td>\n",
              "      <td>...</td>\n",
              "      <td>...</td>\n",
              "      <td>...</td>\n",
              "      <td>...</td>\n",
              "      <td>...</td>\n",
              "      <td>...</td>\n",
              "      <td>...</td>\n",
              "      <td>...</td>\n",
              "      <td>...</td>\n",
              "      <td>...</td>\n",
              "      <td>...</td>\n",
              "      <td>...</td>\n",
              "      <td>...</td>\n",
              "      <td>...</td>\n",
              "      <td>...</td>\n",
              "      <td>...</td>\n",
              "      <td>...</td>\n",
              "      <td>...</td>\n",
              "    </tr>\n",
              "    <tr>\n",
              "      <th>4075</th>\n",
              "      <td>0.000000</td>\n",
              "      <td>0.016667</td>\n",
              "      <td>0.000000</td>\n",
              "      <td>0.000000</td>\n",
              "      <td>0.0</td>\n",
              "      <td>0.000000</td>\n",
              "      <td>0.000000</td>\n",
              "      <td>0.000000</td>\n",
              "      <td>0.000000</td>\n",
              "      <td>0.000000</td>\n",
              "      <td>...</td>\n",
              "      <td>0.000000</td>\n",
              "      <td>0.000000</td>\n",
              "      <td>0.000000</td>\n",
              "      <td>0.000000</td>\n",
              "      <td>0.000000</td>\n",
              "      <td>0.000000</td>\n",
              "      <td>0.016667</td>\n",
              "      <td>0.000000</td>\n",
              "      <td>0.033333</td>\n",
              "      <td>5</td>\n",
              "    </tr>\n",
              "    <tr>\n",
              "      <th>4076</th>\n",
              "      <td>0.000000</td>\n",
              "      <td>0.000000</td>\n",
              "      <td>0.000000</td>\n",
              "      <td>0.000000</td>\n",
              "      <td>0.0</td>\n",
              "      <td>0.000000</td>\n",
              "      <td>0.000000</td>\n",
              "      <td>0.000000</td>\n",
              "      <td>0.000000</td>\n",
              "      <td>0.000000</td>\n",
              "      <td>...</td>\n",
              "      <td>0.000000</td>\n",
              "      <td>0.000000</td>\n",
              "      <td>0.000000</td>\n",
              "      <td>0.000000</td>\n",
              "      <td>0.000000</td>\n",
              "      <td>0.000000</td>\n",
              "      <td>0.017857</td>\n",
              "      <td>0.000000</td>\n",
              "      <td>0.035714</td>\n",
              "      <td>5</td>\n",
              "    </tr>\n",
              "    <tr>\n",
              "      <th>4077</th>\n",
              "      <td>0.014925</td>\n",
              "      <td>0.000000</td>\n",
              "      <td>0.000000</td>\n",
              "      <td>0.000000</td>\n",
              "      <td>0.0</td>\n",
              "      <td>0.000000</td>\n",
              "      <td>0.000000</td>\n",
              "      <td>0.000000</td>\n",
              "      <td>0.000000</td>\n",
              "      <td>0.000000</td>\n",
              "      <td>...</td>\n",
              "      <td>0.014925</td>\n",
              "      <td>0.000000</td>\n",
              "      <td>0.000000</td>\n",
              "      <td>0.000000</td>\n",
              "      <td>0.000000</td>\n",
              "      <td>0.000000</td>\n",
              "      <td>0.014925</td>\n",
              "      <td>0.000000</td>\n",
              "      <td>0.029851</td>\n",
              "      <td>5</td>\n",
              "    </tr>\n",
              "    <tr>\n",
              "      <th>4078</th>\n",
              "      <td>0.000000</td>\n",
              "      <td>0.017544</td>\n",
              "      <td>0.017544</td>\n",
              "      <td>0.000000</td>\n",
              "      <td>0.0</td>\n",
              "      <td>0.000000</td>\n",
              "      <td>0.000000</td>\n",
              "      <td>0.000000</td>\n",
              "      <td>0.000000</td>\n",
              "      <td>0.000000</td>\n",
              "      <td>...</td>\n",
              "      <td>0.017544</td>\n",
              "      <td>0.000000</td>\n",
              "      <td>0.000000</td>\n",
              "      <td>0.000000</td>\n",
              "      <td>0.000000</td>\n",
              "      <td>0.000000</td>\n",
              "      <td>0.017544</td>\n",
              "      <td>0.000000</td>\n",
              "      <td>0.035088</td>\n",
              "      <td>5</td>\n",
              "    </tr>\n",
              "    <tr>\n",
              "      <th>4079</th>\n",
              "      <td>0.017241</td>\n",
              "      <td>0.000000</td>\n",
              "      <td>0.000000</td>\n",
              "      <td>0.000000</td>\n",
              "      <td>0.0</td>\n",
              "      <td>0.000000</td>\n",
              "      <td>0.000000</td>\n",
              "      <td>0.000000</td>\n",
              "      <td>0.000000</td>\n",
              "      <td>0.000000</td>\n",
              "      <td>...</td>\n",
              "      <td>0.017241</td>\n",
              "      <td>0.000000</td>\n",
              "      <td>0.000000</td>\n",
              "      <td>0.000000</td>\n",
              "      <td>0.000000</td>\n",
              "      <td>0.000000</td>\n",
              "      <td>0.017241</td>\n",
              "      <td>0.000000</td>\n",
              "      <td>0.034483</td>\n",
              "      <td>5</td>\n",
              "    </tr>\n",
              "  </tbody>\n",
              "</table>\n",
              "<p>4080 rows × 201 columns</p>\n",
              "</div>\n",
              "      <button class=\"colab-df-convert\" onclick=\"convertToInteractive('df-ac0d4d5f-c89f-4376-8334-f442cb5ddb03')\"\n",
              "              title=\"Convert this dataframe to an interactive table.\"\n",
              "              style=\"display:none;\">\n",
              "        \n",
              "  <svg xmlns=\"http://www.w3.org/2000/svg\" height=\"24px\"viewBox=\"0 0 24 24\"\n",
              "       width=\"24px\">\n",
              "    <path d=\"M0 0h24v24H0V0z\" fill=\"none\"/>\n",
              "    <path d=\"M18.56 5.44l.94 2.06.94-2.06 2.06-.94-2.06-.94-.94-2.06-.94 2.06-2.06.94zm-11 1L8.5 8.5l.94-2.06 2.06-.94-2.06-.94L8.5 2.5l-.94 2.06-2.06.94zm10 10l.94 2.06.94-2.06 2.06-.94-2.06-.94-.94-2.06-.94 2.06-2.06.94z\"/><path d=\"M17.41 7.96l-1.37-1.37c-.4-.4-.92-.59-1.43-.59-.52 0-1.04.2-1.43.59L10.3 9.45l-7.72 7.72c-.78.78-.78 2.05 0 2.83L4 21.41c.39.39.9.59 1.41.59.51 0 1.02-.2 1.41-.59l7.78-7.78 2.81-2.81c.8-.78.8-2.07 0-2.86zM5.41 20L4 18.59l7.72-7.72 1.47 1.35L5.41 20z\"/>\n",
              "  </svg>\n",
              "      </button>\n",
              "      \n",
              "  <style>\n",
              "    .colab-df-container {\n",
              "      display:flex;\n",
              "      flex-wrap:wrap;\n",
              "      gap: 12px;\n",
              "    }\n",
              "\n",
              "    .colab-df-convert {\n",
              "      background-color: #E8F0FE;\n",
              "      border: none;\n",
              "      border-radius: 50%;\n",
              "      cursor: pointer;\n",
              "      display: none;\n",
              "      fill: #1967D2;\n",
              "      height: 32px;\n",
              "      padding: 0 0 0 0;\n",
              "      width: 32px;\n",
              "    }\n",
              "\n",
              "    .colab-df-convert:hover {\n",
              "      background-color: #E2EBFA;\n",
              "      box-shadow: 0px 1px 2px rgba(60, 64, 67, 0.3), 0px 1px 3px 1px rgba(60, 64, 67, 0.15);\n",
              "      fill: #174EA6;\n",
              "    }\n",
              "\n",
              "    [theme=dark] .colab-df-convert {\n",
              "      background-color: #3B4455;\n",
              "      fill: #D2E3FC;\n",
              "    }\n",
              "\n",
              "    [theme=dark] .colab-df-convert:hover {\n",
              "      background-color: #434B5C;\n",
              "      box-shadow: 0px 1px 3px 1px rgba(0, 0, 0, 0.15);\n",
              "      filter: drop-shadow(0px 1px 2px rgba(0, 0, 0, 0.3));\n",
              "      fill: #FFFFFF;\n",
              "    }\n",
              "  </style>\n",
              "\n",
              "      <script>\n",
              "        const buttonEl =\n",
              "          document.querySelector('#df-ac0d4d5f-c89f-4376-8334-f442cb5ddb03 button.colab-df-convert');\n",
              "        buttonEl.style.display =\n",
              "          google.colab.kernel.accessAllowed ? 'block' : 'none';\n",
              "\n",
              "        async function convertToInteractive(key) {\n",
              "          const element = document.querySelector('#df-ac0d4d5f-c89f-4376-8334-f442cb5ddb03');\n",
              "          const dataTable =\n",
              "            await google.colab.kernel.invokeFunction('convertToInteractive',\n",
              "                                                     [key], {});\n",
              "          if (!dataTable) return;\n",
              "\n",
              "          const docLinkHtml = 'Like what you see? Visit the ' +\n",
              "            '<a target=\"_blank\" href=https://colab.research.google.com/notebooks/data_table.ipynb>data table notebook</a>'\n",
              "            + ' to learn more about interactive tables.';\n",
              "          element.innerHTML = '';\n",
              "          dataTable['output_type'] = 'display_data';\n",
              "          await google.colab.output.renderOutput(dataTable, element);\n",
              "          const docLink = document.createElement('div');\n",
              "          docLink.innerHTML = docLinkHtml;\n",
              "          element.appendChild(docLink);\n",
              "        }\n",
              "      </script>\n",
              "    </div>\n",
              "  </div>\n",
              "  "
            ]
          },
          "metadata": {},
          "execution_count": 5
        }
      ]
    },
    {
      "cell_type": "code",
      "source": [
        "no3.describe()"
      ],
      "metadata": {
        "colab": {
          "base_uri": "https://localhost:8080/",
          "height": 394
        },
        "id": "GWYGFhLXFP1n",
        "outputId": "735a3df9-9420-4b0f-ef32-56bc58aa02df"
      },
      "execution_count": null,
      "outputs": [
        {
          "output_type": "execute_result",
          "data": {
            "text/plain": [
              "                F1           F2           F3           F4           F5  \\\n",
              "count  4080.000000  4080.000000  4080.000000  4080.000000  4080.000000   \n",
              "mean      0.007245     0.005094     0.003749     0.004814     0.004394   \n",
              "std       0.012460     0.008867     0.008527     0.008642     0.008072   \n",
              "min       0.000000     0.000000     0.000000     0.000000     0.000000   \n",
              "25%       0.000000     0.000000     0.000000     0.000000     0.000000   \n",
              "50%       0.000000     0.000000     0.000000     0.000000     0.000000   \n",
              "75%       0.012500     0.009901     0.000000     0.009009     0.008282   \n",
              "max       0.136364     0.076923     0.150000     0.100000     0.058824   \n",
              "\n",
              "                F6           F7           F8           F9          F10  ...  \\\n",
              "count  4080.000000  4080.000000  4080.000000  4080.000000  4080.000000  ...   \n",
              "mean      0.004664     0.004318     0.009327     0.004394     0.003458  ...   \n",
              "std       0.009278     0.007984     0.013402     0.009775     0.007367  ...   \n",
              "min       0.000000     0.000000     0.000000     0.000000     0.000000  ...   \n",
              "25%       0.000000     0.000000     0.000000     0.000000     0.000000  ...   \n",
              "50%       0.000000     0.000000     0.000000     0.000000     0.000000  ...   \n",
              "75%       0.007874     0.008000     0.016393     0.000000     0.000000  ...   \n",
              "max       0.103448     0.071429     0.094595     0.136364     0.142857  ...   \n",
              "\n",
              "              F192         F193         F194         F195         F196  \\\n",
              "count  4080.000000  4080.000000  4080.000000  4080.000000  4080.000000   \n",
              "mean      0.004131     0.003731     0.004545     0.004980     0.004471   \n",
              "std       0.009224     0.007468     0.008130     0.009218     0.008929   \n",
              "min       0.000000     0.000000     0.000000     0.000000     0.000000   \n",
              "25%       0.000000     0.000000     0.000000     0.000000     0.000000   \n",
              "50%       0.000000     0.000000     0.000000     0.000000     0.000000   \n",
              "75%       0.006944     0.000000     0.008621     0.008942     0.007143   \n",
              "max       0.250000     0.071429     0.064516     0.120000     0.058824   \n",
              "\n",
              "              F197         F198         F199         F200        Class  \n",
              "count  4080.000000  4080.000000  4080.000000  4080.000000  4080.000000  \n",
              "mean      0.003831     0.003890     0.004026     0.004319     3.000000  \n",
              "std       0.007681     0.007581     0.007857     0.008777     1.414387  \n",
              "min       0.000000     0.000000     0.000000     0.000000     1.000000  \n",
              "25%       0.000000     0.000000     0.000000     0.000000     2.000000  \n",
              "50%       0.000000     0.000000     0.000000     0.000000     3.000000  \n",
              "75%       0.005723     0.006499     0.006909     0.005579     4.000000  \n",
              "max       0.125000     0.075000     0.050000     0.064103     5.000000  \n",
              "\n",
              "[8 rows x 201 columns]"
            ],
            "text/html": [
              "\n",
              "  <div id=\"df-3a6858c9-212e-48b5-8561-d68fc9df055f\">\n",
              "    <div class=\"colab-df-container\">\n",
              "      <div>\n",
              "<style scoped>\n",
              "    .dataframe tbody tr th:only-of-type {\n",
              "        vertical-align: middle;\n",
              "    }\n",
              "\n",
              "    .dataframe tbody tr th {\n",
              "        vertical-align: top;\n",
              "    }\n",
              "\n",
              "    .dataframe thead th {\n",
              "        text-align: right;\n",
              "    }\n",
              "</style>\n",
              "<table border=\"1\" class=\"dataframe\">\n",
              "  <thead>\n",
              "    <tr style=\"text-align: right;\">\n",
              "      <th></th>\n",
              "      <th>F1</th>\n",
              "      <th>F2</th>\n",
              "      <th>F3</th>\n",
              "      <th>F4</th>\n",
              "      <th>F5</th>\n",
              "      <th>F6</th>\n",
              "      <th>F7</th>\n",
              "      <th>F8</th>\n",
              "      <th>F9</th>\n",
              "      <th>F10</th>\n",
              "      <th>...</th>\n",
              "      <th>F192</th>\n",
              "      <th>F193</th>\n",
              "      <th>F194</th>\n",
              "      <th>F195</th>\n",
              "      <th>F196</th>\n",
              "      <th>F197</th>\n",
              "      <th>F198</th>\n",
              "      <th>F199</th>\n",
              "      <th>F200</th>\n",
              "      <th>Class</th>\n",
              "    </tr>\n",
              "  </thead>\n",
              "  <tbody>\n",
              "    <tr>\n",
              "      <th>count</th>\n",
              "      <td>4080.000000</td>\n",
              "      <td>4080.000000</td>\n",
              "      <td>4080.000000</td>\n",
              "      <td>4080.000000</td>\n",
              "      <td>4080.000000</td>\n",
              "      <td>4080.000000</td>\n",
              "      <td>4080.000000</td>\n",
              "      <td>4080.000000</td>\n",
              "      <td>4080.000000</td>\n",
              "      <td>4080.000000</td>\n",
              "      <td>...</td>\n",
              "      <td>4080.000000</td>\n",
              "      <td>4080.000000</td>\n",
              "      <td>4080.000000</td>\n",
              "      <td>4080.000000</td>\n",
              "      <td>4080.000000</td>\n",
              "      <td>4080.000000</td>\n",
              "      <td>4080.000000</td>\n",
              "      <td>4080.000000</td>\n",
              "      <td>4080.000000</td>\n",
              "      <td>4080.000000</td>\n",
              "    </tr>\n",
              "    <tr>\n",
              "      <th>mean</th>\n",
              "      <td>0.007245</td>\n",
              "      <td>0.005094</td>\n",
              "      <td>0.003749</td>\n",
              "      <td>0.004814</td>\n",
              "      <td>0.004394</td>\n",
              "      <td>0.004664</td>\n",
              "      <td>0.004318</td>\n",
              "      <td>0.009327</td>\n",
              "      <td>0.004394</td>\n",
              "      <td>0.003458</td>\n",
              "      <td>...</td>\n",
              "      <td>0.004131</td>\n",
              "      <td>0.003731</td>\n",
              "      <td>0.004545</td>\n",
              "      <td>0.004980</td>\n",
              "      <td>0.004471</td>\n",
              "      <td>0.003831</td>\n",
              "      <td>0.003890</td>\n",
              "      <td>0.004026</td>\n",
              "      <td>0.004319</td>\n",
              "      <td>3.000000</td>\n",
              "    </tr>\n",
              "    <tr>\n",
              "      <th>std</th>\n",
              "      <td>0.012460</td>\n",
              "      <td>0.008867</td>\n",
              "      <td>0.008527</td>\n",
              "      <td>0.008642</td>\n",
              "      <td>0.008072</td>\n",
              "      <td>0.009278</td>\n",
              "      <td>0.007984</td>\n",
              "      <td>0.013402</td>\n",
              "      <td>0.009775</td>\n",
              "      <td>0.007367</td>\n",
              "      <td>...</td>\n",
              "      <td>0.009224</td>\n",
              "      <td>0.007468</td>\n",
              "      <td>0.008130</td>\n",
              "      <td>0.009218</td>\n",
              "      <td>0.008929</td>\n",
              "      <td>0.007681</td>\n",
              "      <td>0.007581</td>\n",
              "      <td>0.007857</td>\n",
              "      <td>0.008777</td>\n",
              "      <td>1.414387</td>\n",
              "    </tr>\n",
              "    <tr>\n",
              "      <th>min</th>\n",
              "      <td>0.000000</td>\n",
              "      <td>0.000000</td>\n",
              "      <td>0.000000</td>\n",
              "      <td>0.000000</td>\n",
              "      <td>0.000000</td>\n",
              "      <td>0.000000</td>\n",
              "      <td>0.000000</td>\n",
              "      <td>0.000000</td>\n",
              "      <td>0.000000</td>\n",
              "      <td>0.000000</td>\n",
              "      <td>...</td>\n",
              "      <td>0.000000</td>\n",
              "      <td>0.000000</td>\n",
              "      <td>0.000000</td>\n",
              "      <td>0.000000</td>\n",
              "      <td>0.000000</td>\n",
              "      <td>0.000000</td>\n",
              "      <td>0.000000</td>\n",
              "      <td>0.000000</td>\n",
              "      <td>0.000000</td>\n",
              "      <td>1.000000</td>\n",
              "    </tr>\n",
              "    <tr>\n",
              "      <th>25%</th>\n",
              "      <td>0.000000</td>\n",
              "      <td>0.000000</td>\n",
              "      <td>0.000000</td>\n",
              "      <td>0.000000</td>\n",
              "      <td>0.000000</td>\n",
              "      <td>0.000000</td>\n",
              "      <td>0.000000</td>\n",
              "      <td>0.000000</td>\n",
              "      <td>0.000000</td>\n",
              "      <td>0.000000</td>\n",
              "      <td>...</td>\n",
              "      <td>0.000000</td>\n",
              "      <td>0.000000</td>\n",
              "      <td>0.000000</td>\n",
              "      <td>0.000000</td>\n",
              "      <td>0.000000</td>\n",
              "      <td>0.000000</td>\n",
              "      <td>0.000000</td>\n",
              "      <td>0.000000</td>\n",
              "      <td>0.000000</td>\n",
              "      <td>2.000000</td>\n",
              "    </tr>\n",
              "    <tr>\n",
              "      <th>50%</th>\n",
              "      <td>0.000000</td>\n",
              "      <td>0.000000</td>\n",
              "      <td>0.000000</td>\n",
              "      <td>0.000000</td>\n",
              "      <td>0.000000</td>\n",
              "      <td>0.000000</td>\n",
              "      <td>0.000000</td>\n",
              "      <td>0.000000</td>\n",
              "      <td>0.000000</td>\n",
              "      <td>0.000000</td>\n",
              "      <td>...</td>\n",
              "      <td>0.000000</td>\n",
              "      <td>0.000000</td>\n",
              "      <td>0.000000</td>\n",
              "      <td>0.000000</td>\n",
              "      <td>0.000000</td>\n",
              "      <td>0.000000</td>\n",
              "      <td>0.000000</td>\n",
              "      <td>0.000000</td>\n",
              "      <td>0.000000</td>\n",
              "      <td>3.000000</td>\n",
              "    </tr>\n",
              "    <tr>\n",
              "      <th>75%</th>\n",
              "      <td>0.012500</td>\n",
              "      <td>0.009901</td>\n",
              "      <td>0.000000</td>\n",
              "      <td>0.009009</td>\n",
              "      <td>0.008282</td>\n",
              "      <td>0.007874</td>\n",
              "      <td>0.008000</td>\n",
              "      <td>0.016393</td>\n",
              "      <td>0.000000</td>\n",
              "      <td>0.000000</td>\n",
              "      <td>...</td>\n",
              "      <td>0.006944</td>\n",
              "      <td>0.000000</td>\n",
              "      <td>0.008621</td>\n",
              "      <td>0.008942</td>\n",
              "      <td>0.007143</td>\n",
              "      <td>0.005723</td>\n",
              "      <td>0.006499</td>\n",
              "      <td>0.006909</td>\n",
              "      <td>0.005579</td>\n",
              "      <td>4.000000</td>\n",
              "    </tr>\n",
              "    <tr>\n",
              "      <th>max</th>\n",
              "      <td>0.136364</td>\n",
              "      <td>0.076923</td>\n",
              "      <td>0.150000</td>\n",
              "      <td>0.100000</td>\n",
              "      <td>0.058824</td>\n",
              "      <td>0.103448</td>\n",
              "      <td>0.071429</td>\n",
              "      <td>0.094595</td>\n",
              "      <td>0.136364</td>\n",
              "      <td>0.142857</td>\n",
              "      <td>...</td>\n",
              "      <td>0.250000</td>\n",
              "      <td>0.071429</td>\n",
              "      <td>0.064516</td>\n",
              "      <td>0.120000</td>\n",
              "      <td>0.058824</td>\n",
              "      <td>0.125000</td>\n",
              "      <td>0.075000</td>\n",
              "      <td>0.050000</td>\n",
              "      <td>0.064103</td>\n",
              "      <td>5.000000</td>\n",
              "    </tr>\n",
              "  </tbody>\n",
              "</table>\n",
              "<p>8 rows × 201 columns</p>\n",
              "</div>\n",
              "      <button class=\"colab-df-convert\" onclick=\"convertToInteractive('df-3a6858c9-212e-48b5-8561-d68fc9df055f')\"\n",
              "              title=\"Convert this dataframe to an interactive table.\"\n",
              "              style=\"display:none;\">\n",
              "        \n",
              "  <svg xmlns=\"http://www.w3.org/2000/svg\" height=\"24px\"viewBox=\"0 0 24 24\"\n",
              "       width=\"24px\">\n",
              "    <path d=\"M0 0h24v24H0V0z\" fill=\"none\"/>\n",
              "    <path d=\"M18.56 5.44l.94 2.06.94-2.06 2.06-.94-2.06-.94-.94-2.06-.94 2.06-2.06.94zm-11 1L8.5 8.5l.94-2.06 2.06-.94-2.06-.94L8.5 2.5l-.94 2.06-2.06.94zm10 10l.94 2.06.94-2.06 2.06-.94-2.06-.94-.94-2.06-.94 2.06-2.06.94z\"/><path d=\"M17.41 7.96l-1.37-1.37c-.4-.4-.92-.59-1.43-.59-.52 0-1.04.2-1.43.59L10.3 9.45l-7.72 7.72c-.78.78-.78 2.05 0 2.83L4 21.41c.39.39.9.59 1.41.59.51 0 1.02-.2 1.41-.59l7.78-7.78 2.81-2.81c.8-.78.8-2.07 0-2.86zM5.41 20L4 18.59l7.72-7.72 1.47 1.35L5.41 20z\"/>\n",
              "  </svg>\n",
              "      </button>\n",
              "      \n",
              "  <style>\n",
              "    .colab-df-container {\n",
              "      display:flex;\n",
              "      flex-wrap:wrap;\n",
              "      gap: 12px;\n",
              "    }\n",
              "\n",
              "    .colab-df-convert {\n",
              "      background-color: #E8F0FE;\n",
              "      border: none;\n",
              "      border-radius: 50%;\n",
              "      cursor: pointer;\n",
              "      display: none;\n",
              "      fill: #1967D2;\n",
              "      height: 32px;\n",
              "      padding: 0 0 0 0;\n",
              "      width: 32px;\n",
              "    }\n",
              "\n",
              "    .colab-df-convert:hover {\n",
              "      background-color: #E2EBFA;\n",
              "      box-shadow: 0px 1px 2px rgba(60, 64, 67, 0.3), 0px 1px 3px 1px rgba(60, 64, 67, 0.15);\n",
              "      fill: #174EA6;\n",
              "    }\n",
              "\n",
              "    [theme=dark] .colab-df-convert {\n",
              "      background-color: #3B4455;\n",
              "      fill: #D2E3FC;\n",
              "    }\n",
              "\n",
              "    [theme=dark] .colab-df-convert:hover {\n",
              "      background-color: #434B5C;\n",
              "      box-shadow: 0px 1px 3px 1px rgba(0, 0, 0, 0.15);\n",
              "      filter: drop-shadow(0px 1px 2px rgba(0, 0, 0, 0.3));\n",
              "      fill: #FFFFFF;\n",
              "    }\n",
              "  </style>\n",
              "\n",
              "      <script>\n",
              "        const buttonEl =\n",
              "          document.querySelector('#df-3a6858c9-212e-48b5-8561-d68fc9df055f button.colab-df-convert');\n",
              "        buttonEl.style.display =\n",
              "          google.colab.kernel.accessAllowed ? 'block' : 'none';\n",
              "\n",
              "        async function convertToInteractive(key) {\n",
              "          const element = document.querySelector('#df-3a6858c9-212e-48b5-8561-d68fc9df055f');\n",
              "          const dataTable =\n",
              "            await google.colab.kernel.invokeFunction('convertToInteractive',\n",
              "                                                     [key], {});\n",
              "          if (!dataTable) return;\n",
              "\n",
              "          const docLinkHtml = 'Like what you see? Visit the ' +\n",
              "            '<a target=\"_blank\" href=https://colab.research.google.com/notebooks/data_table.ipynb>data table notebook</a>'\n",
              "            + ' to learn more about interactive tables.';\n",
              "          element.innerHTML = '';\n",
              "          dataTable['output_type'] = 'display_data';\n",
              "          await google.colab.output.renderOutput(dataTable, element);\n",
              "          const docLink = document.createElement('div');\n",
              "          docLink.innerHTML = docLinkHtml;\n",
              "          element.appendChild(docLink);\n",
              "        }\n",
              "      </script>\n",
              "    </div>\n",
              "  </div>\n",
              "  "
            ]
          },
          "metadata": {},
          "execution_count": 6
        }
      ]
    },
    {
      "cell_type": "code",
      "source": [
        "no3.info()"
      ],
      "metadata": {
        "colab": {
          "base_uri": "https://localhost:8080/"
        },
        "id": "YEHWNxOEKJXh",
        "outputId": "d398e6ba-ae1e-4272-c537-22494510d373"
      },
      "execution_count": null,
      "outputs": [
        {
          "output_type": "stream",
          "name": "stdout",
          "text": [
            "<class 'pandas.core.frame.DataFrame'>\n",
            "RangeIndex: 4080 entries, 0 to 4079\n",
            "Columns: 201 entries, F1 to Class\n",
            "dtypes: float64(200), int64(1)\n",
            "memory usage: 6.3 MB\n"
          ]
        }
      ]
    },
    {
      "cell_type": "markdown",
      "source": [
        "**A. DATA VISUALIZATION**"
      ],
      "metadata": {
        "id": "wf5rMhrFzBF6"
      }
    },
    {
      "cell_type": "code",
      "source": [
        "plt.plot(no3['Class'], no3['F1'], label='a')\n"
      ],
      "metadata": {
        "colab": {
          "base_uri": "https://localhost:8080/",
          "height": 283
        },
        "id": "kB9TTKzPzDtd",
        "outputId": "72d22876-e2c0-45ef-90a3-aa75b622a810"
      },
      "execution_count": null,
      "outputs": [
        {
          "output_type": "execute_result",
          "data": {
            "text/plain": [
              "[<matplotlib.lines.Line2D at 0x7f0d54108790>]"
            ]
          },
          "metadata": {},
          "execution_count": 8
        },
        {
          "output_type": "display_data",
          "data": {
            "text/plain": [
              "<Figure size 432x288 with 1 Axes>"
            ],
            "image/png": "[encoded data removed]"
          },
          "metadata": {
            "needs_background": "light"
          }
        }
      ]
    },
    {
      "cell_type": "code",
      "source": [
        "sns.barplot(x = 'F1',y = 'Class',data = no3,palette = \"Blues\")\n",
        "#Adding the aesthetics\n",
        "plt.title('Chart title')\n",
        "plt.xlabel('X axis title')\n",
        "plt.ylabel('Y axis title') \n",
        "# Show the plot\n",
        "plt.show()"
      ],
      "metadata": {
        "colab": {
          "base_uri": "https://localhost:8080/",
          "height": 295
        },
        "id": "kDUaxziBq1zV",
        "outputId": "3e279d8d-23c0-481d-acd1-f66445b7d5e3"
      },
      "execution_count": null,
      "outputs": [
        {
          "output_type": "display_data",
          "data": {
            "text/plain": [
              "<Figure size 432x288 with 1 Axes>"
            ],
            "image/png": "[encoded data removed]"
          },
          "metadata": {
            "needs_background": "light"
          }
        }
      ]
    },
    {
      "cell_type": "code",
      "source": [
        "sns.barplot(x = 'F2',y = 'Class',data = no3,palette = \"Blues\")\n",
        "#Adding the aesthetics\n",
        "plt.title('Chart title')\n",
        "plt.xlabel('F2')\n",
        "plt.ylabel('Class') \n",
        "# Show the plot\n",
        "plt.show()"
      ],
      "metadata": {
        "colab": {
          "base_uri": "https://localhost:8080/",
          "height": 295
        },
        "id": "o0yGo68h89qY",
        "outputId": "d4630153-5e05-432b-d45d-ee59ebb060ce"
      },
      "execution_count": null,
      "outputs": [
        {
          "output_type": "display_data",
          "data": {
            "text/plain": [
              "<Figure size 432x288 with 1 Axes>"
            ],
            "image/png": "[encoded data removed]"
          },
          "metadata": {
            "needs_background": "light"
          }
        }
      ]
    },
    {
      "cell_type": "markdown",
      "source": [
        "Dari visualisasi diatas, didapatkan bahwa terdapat 5 jenis Class (Topeng) dan 200 attributes dengan nilai class yang berkisar dari 1 - 5"
      ],
      "metadata": {
        "id": "ZKbc59KP8_hs"
      }
    },
    {
      "cell_type": "markdown",
      "source": [
        "Dataset ini merupakan jenis multivariate classification problem"
      ],
      "metadata": {
        "id": "_lPgBWch-jsW"
      }
    },
    {
      "cell_type": "markdown",
      "source": [
        "***B. DATA PREPROCESSING***"
      ],
      "metadata": {
        "id": "Pno4tAhI0NyO"
      }
    },
    {
      "cell_type": "code",
      "source": [
        "X = no3.drop('Class', axis=1)\n",
        "y = no3.Class"
      ],
      "metadata": {
        "id": "ZiagQ9sR1Ghn"
      },
      "execution_count": null,
      "outputs": []
    },
    {
      "cell_type": "code",
      "source": [
        "#split the dataset into  training and testing data\n",
        "from sklearn.model_selection import train_test_split"
      ],
      "metadata": {
        "id": "sNrEg7nwZmUt"
      },
      "execution_count": null,
      "outputs": []
    },
    {
      "cell_type": "code",
      "source": [
        "X_train, X_test, y_train, y_test = train_test_split(X,y,test_size=0.2,random_state=12345)"
      ],
      "metadata": {
        "id": "y7mwywx5Z_n_"
      },
      "execution_count": null,
      "outputs": []
    },
    {
      "cell_type": "markdown",
      "source": [
        "**STANDARD SCALER**"
      ],
      "metadata": {
        "id": "lXmRHyjh9hNu"
      }
    },
    {
      "cell_type": "markdown",
      "source": [
        "Karena terdapat range nilai raw data yang beragam, kita perlu menormalisasi nya supaya model machine learning dapat bekerja. Jikalau ada satu fitur yang mempunyai range luas, maka distance akan didominasi oleh satu fitur tersebut. Makanya, penting untuk menormalisasi semua fitur secara proporsional"
      ],
      "metadata": {
        "id": "HohVXVtwwHQg"
      }
    },
    {
      "cell_type": "code",
      "source": [
        "from sklearn.preprocessing import StandardScaler\n",
        "scaler = StandardScaler()\n",
        "scaler.fit(X_train)\n",
        "\n",
        "X_train = scaler.transform(X_train)\n",
        "X_test = scaler.transform(X_test)"
      ],
      "metadata": {
        "id": "TCAc5a1v0P9I"
      },
      "execution_count": null,
      "outputs": []
    },
    {
      "cell_type": "markdown",
      "source": [
        "**UNIVARIATE FEATURE SELECTION**"
      ],
      "metadata": {
        "id": "nK7t0Bf-wiSY"
      }
    },
    {
      "cell_type": "markdown",
      "source": [
        "Univariate feature selection dilakukan untuk memilih the best features berdasarkan univariate statistical test. Hal ini dilakukan supaya hanya fitur-fitur yang berkolerasi lah yang tersisa sehingga menghasilkan model yang baik"
      ],
      "metadata": {
        "id": "nJOlYuNTwzPw"
      }
    },
    {
      "cell_type": "code",
      "source": [
        "from sklearn.feature_selection import SelectKBest, f_classif\n",
        "\n",
        "# fit train set\n",
        "k_best = SelectKBest(score_func=f_classif, k=100)\n",
        "# transform train set\n",
        "fit = k_best.fit(X_train, y_train)\n",
        "univariate_features = fit.transform(X_train)"
      ],
      "metadata": {
        "id": "ythgaUrZwl5F"
      },
      "execution_count": null,
      "outputs": []
    },
    {
      "cell_type": "code",
      "source": [
        "univariate_features"
      ],
      "metadata": {
        "colab": {
          "base_uri": "https://localhost:8080/"
        },
        "id": "dsxw7q1vxQ6u",
        "outputId": "b5184858-f650-4b86-c105-40d8ca965c60"
      },
      "execution_count": null,
      "outputs": [
        {
          "output_type": "execute_result",
          "data": {
            "text/plain": [
              "array([[-0.58448208, -0.44533059, -0.45285396, ..., -0.49188419,\n",
              "        -0.51313552, -0.49262455],\n",
              "       [-0.58448208, -0.44533059, -0.45285396, ..., -0.49188419,\n",
              "         0.71177482, -0.49262455],\n",
              "       [-0.58448208, -0.44533059,  0.61950019, ..., -0.49188419,\n",
              "        -0.51313552, -0.49262455],\n",
              "       ...,\n",
              "       [ 1.35324668, -0.44533059, -0.45285396, ..., -0.49188419,\n",
              "        -0.51313552, -0.49262455],\n",
              "       [-0.58448208,  1.20783103, -0.45285396, ..., -0.49188419,\n",
              "        -0.51313552, -0.49262455],\n",
              "       [ 0.06142751, -0.44533059,  0.10119573, ..., -0.49188419,\n",
              "        -0.51313552,  0.13797972]])"
            ]
          },
          "metadata": {},
          "execution_count": 16
        }
      ]
    },
    {
      "cell_type": "markdown",
      "source": [
        "**OUTLIER DETECTION**"
      ],
      "metadata": {
        "id": "UrKybyThy1AA"
      }
    },
    {
      "cell_type": "markdown",
      "source": [
        "Menurut saya, outlier tidak terlalu mempengaruhi model ini dikarenakan sample size yang terdapat pada dataset ini besar dan tidak terdapat extreme values pada variables. Maka dari itu, saya tidak akan menghapus outlier"
      ],
      "metadata": {
        "id": "QqTP40kNy6eJ"
      }
    },
    {
      "cell_type": "markdown",
      "source": [
        "**DATA CLEANING**"
      ],
      "metadata": {
        "id": "EVEWe3GbE4mw"
      }
    },
    {
      "cell_type": "markdown",
      "source": [
        "Data cleaning dilakukan untuk memastikan bahwa semua data tidak ada yang kosong atau misinputted"
      ],
      "metadata": {
        "id": "CPhqUABoxhfJ"
      }
    },
    {
      "cell_type": "code",
      "source": [
        "no3.isnull().sum()"
      ],
      "metadata": {
        "colab": {
          "base_uri": "https://localhost:8080/"
        },
        "id": "aG1JSfvgEHup",
        "outputId": "5077ac43-7e5f-41bf-98b5-1784e2c3fa46"
      },
      "execution_count": null,
      "outputs": [
        {
          "output_type": "execute_result",
          "data": {
            "text/plain": [
              "F1       0\n",
              "F2       0\n",
              "F3       0\n",
              "F4       0\n",
              "F5       0\n",
              "        ..\n",
              "F197     0\n",
              "F198     0\n",
              "F199     0\n",
              "F200     0\n",
              "Class    0\n",
              "Length: 201, dtype: int64"
            ]
          },
          "metadata": {},
          "execution_count": 21
        }
      ]
    },
    {
      "cell_type": "code",
      "source": [
        "no3.isnull().values.any()"
      ],
      "metadata": {
        "colab": {
          "base_uri": "https://localhost:8080/"
        },
        "id": "MkBH5e0MEQRe",
        "outputId": "1e10e434-9152-48d1-b5e1-ca28bba06247"
      },
      "execution_count": null,
      "outputs": [
        {
          "output_type": "execute_result",
          "data": {
            "text/plain": [
              "False"
            ]
          },
          "metadata": {},
          "execution_count": 22
        }
      ]
    },
    {
      "cell_type": "code",
      "source": [
        "no3.isnull().sum().sum()"
      ],
      "metadata": {
        "colab": {
          "base_uri": "https://localhost:8080/"
        },
        "id": "RgmuJNU2EXU7",
        "outputId": "34aa12cd-522b-43da-8a72-0f3fcd6fe811"
      },
      "execution_count": null,
      "outputs": [
        {
          "output_type": "execute_result",
          "data": {
            "text/plain": [
              "0"
            ]
          },
          "metadata": {},
          "execution_count": 23
        }
      ]
    },
    {
      "cell_type": "markdown",
      "source": [
        "Didapati bahwa tidak ada data yang kosong"
      ],
      "metadata": {
        "id": "vZ80c7O3x0uo"
      }
    },
    {
      "cell_type": "code",
      "source": [
        "no3.describe()"
      ],
      "metadata": {
        "colab": {
          "base_uri": "https://localhost:8080/",
          "height": 394
        },
        "id": "YjtA6yzvvRi4",
        "outputId": "554c3e20-1358-4bae-ca83-2cb63d7683df"
      },
      "execution_count": null,
      "outputs": [
        {
          "output_type": "execute_result",
          "data": {
            "text/plain": [
              "                F1           F2           F3           F4           F5  \\\n",
              "count  4080.000000  4080.000000  4080.000000  4080.000000  4080.000000   \n",
              "mean      0.007245     0.005094     0.003749     0.004814     0.004394   \n",
              "std       0.012460     0.008867     0.008527     0.008642     0.008072   \n",
              "min       0.000000     0.000000     0.000000     0.000000     0.000000   \n",
              "25%       0.000000     0.000000     0.000000     0.000000     0.000000   \n",
              "50%       0.000000     0.000000     0.000000     0.000000     0.000000   \n",
              "75%       0.012500     0.009901     0.000000     0.009009     0.008282   \n",
              "max       0.136364     0.076923     0.150000     0.100000     0.058824   \n",
              "\n",
              "                F6           F7           F8           F9          F10  ...  \\\n",
              "count  4080.000000  4080.000000  4080.000000  4080.000000  4080.000000  ...   \n",
              "mean      0.004664     0.004318     0.009327     0.004394     0.003458  ...   \n",
              "std       0.009278     0.007984     0.013402     0.009775     0.007367  ...   \n",
              "min       0.000000     0.000000     0.000000     0.000000     0.000000  ...   \n",
              "25%       0.000000     0.000000     0.000000     0.000000     0.000000  ...   \n",
              "50%       0.000000     0.000000     0.000000     0.000000     0.000000  ...   \n",
              "75%       0.007874     0.008000     0.016393     0.000000     0.000000  ...   \n",
              "max       0.103448     0.071429     0.094595     0.136364     0.142857  ...   \n",
              "\n",
              "              F192         F193         F194         F195         F196  \\\n",
              "count  4080.000000  4080.000000  4080.000000  4080.000000  4080.000000   \n",
              "mean      0.004131     0.003731     0.004545     0.004980     0.004471   \n",
              "std       0.009224     0.007468     0.008130     0.009218     0.008929   \n",
              "min       0.000000     0.000000     0.000000     0.000000     0.000000   \n",
              "25%       0.000000     0.000000     0.000000     0.000000     0.000000   \n",
              "50%       0.000000     0.000000     0.000000     0.000000     0.000000   \n",
              "75%       0.006944     0.000000     0.008621     0.008942     0.007143   \n",
              "max       0.250000     0.071429     0.064516     0.120000     0.058824   \n",
              "\n",
              "              F197         F198         F199         F200        Class  \n",
              "count  4080.000000  4080.000000  4080.000000  4080.000000  4080.000000  \n",
              "mean      0.003831     0.003890     0.004026     0.004319     3.000000  \n",
              "std       0.007681     0.007581     0.007857     0.008777     1.414387  \n",
              "min       0.000000     0.000000     0.000000     0.000000     1.000000  \n",
              "25%       0.000000     0.000000     0.000000     0.000000     2.000000  \n",
              "50%       0.000000     0.000000     0.000000     0.000000     3.000000  \n",
              "75%       0.005723     0.006499     0.006909     0.005579     4.000000  \n",
              "max       0.125000     0.075000     0.050000     0.064103     5.000000  \n",
              "\n",
              "[8 rows x 201 columns]"
            ],
            "text/html": [
              "\n",
              "  <div id=\"df-cc771421-3fa1-407a-b7e6-01b1e1f2d527\">\n",
              "    <div class=\"colab-df-container\">\n",
              "      <div>\n",
              "<style scoped>\n",
              "    .dataframe tbody tr th:only-of-type {\n",
              "        vertical-align: middle;\n",
              "    }\n",
              "\n",
              "    .dataframe tbody tr th {\n",
              "        vertical-align: top;\n",
              "    }\n",
              "\n",
              "    .dataframe thead th {\n",
              "        text-align: right;\n",
              "    }\n",
              "</style>\n",
              "<table border=\"1\" class=\"dataframe\">\n",
              "  <thead>\n",
              "    <tr style=\"text-align: right;\">\n",
              "      <th></th>\n",
              "      <th>F1</th>\n",
              "      <th>F2</th>\n",
              "      <th>F3</th>\n",
              "      <th>F4</th>\n",
              "      <th>F5</th>\n",
              "      <th>F6</th>\n",
              "      <th>F7</th>\n",
              "      <th>F8</th>\n",
              "      <th>F9</th>\n",
              "      <th>F10</th>\n",
              "      <th>...</th>\n",
              "      <th>F192</th>\n",
              "      <th>F193</th>\n",
              "      <th>F194</th>\n",
              "      <th>F195</th>\n",
              "      <th>F196</th>\n",
              "      <th>F197</th>\n",
              "      <th>F198</th>\n",
              "      <th>F199</th>\n",
              "      <th>F200</th>\n",
              "      <th>Class</th>\n",
              "    </tr>\n",
              "  </thead>\n",
              "  <tbody>\n",
              "    <tr>\n",
              "      <th>count</th>\n",
              "      <td>4080.000000</td>\n",
              "      <td>4080.000000</td>\n",
              "      <td>4080.000000</td>\n",
              "      <td>4080.000000</td>\n",
              "      <td>4080.000000</td>\n",
              "      <td>4080.000000</td>\n",
              "      <td>4080.000000</td>\n",
              "      <td>4080.000000</td>\n",
              "      <td>4080.000000</td>\n",
              "      <td>4080.000000</td>\n",
              "      <td>...</td>\n",
              "      <td>4080.000000</td>\n",
              "      <td>4080.000000</td>\n",
              "      <td>4080.000000</td>\n",
              "      <td>4080.000000</td>\n",
              "      <td>4080.000000</td>\n",
              "      <td>4080.000000</td>\n",
              "      <td>4080.000000</td>\n",
              "      <td>4080.000000</td>\n",
              "      <td>4080.000000</td>\n",
              "      <td>4080.000000</td>\n",
              "    </tr>\n",
              "    <tr>\n",
              "      <th>mean</th>\n",
              "      <td>0.007245</td>\n",
              "      <td>0.005094</td>\n",
              "      <td>0.003749</td>\n",
              "      <td>0.004814</td>\n",
              "      <td>0.004394</td>\n",
              "      <td>0.004664</td>\n",
              "      <td>0.004318</td>\n",
              "      <td>0.009327</td>\n",
              "      <td>0.004394</td>\n",
              "      <td>0.003458</td>\n",
              "      <td>...</td>\n",
              "      <td>0.004131</td>\n",
              "      <td>0.003731</td>\n",
              "      <td>0.004545</td>\n",
              "      <td>0.004980</td>\n",
              "      <td>0.004471</td>\n",
              "      <td>0.003831</td>\n",
              "      <td>0.003890</td>\n",
              "      <td>0.004026</td>\n",
              "      <td>0.004319</td>\n",
              "      <td>3.000000</td>\n",
              "    </tr>\n",
              "    <tr>\n",
              "      <th>std</th>\n",
              "      <td>0.012460</td>\n",
              "      <td>0.008867</td>\n",
              "      <td>0.008527</td>\n",
              "      <td>0.008642</td>\n",
              "      <td>0.008072</td>\n",
              "      <td>0.009278</td>\n",
              "      <td>0.007984</td>\n",
              "      <td>0.013402</td>\n",
              "      <td>0.009775</td>\n",
              "      <td>0.007367</td>\n",
              "      <td>...</td>\n",
              "      <td>0.009224</td>\n",
              "      <td>0.007468</td>\n",
              "      <td>0.008130</td>\n",
              "      <td>0.009218</td>\n",
              "      <td>0.008929</td>\n",
              "      <td>0.007681</td>\n",
              "      <td>0.007581</td>\n",
              "      <td>0.007857</td>\n",
              "      <td>0.008777</td>\n",
              "      <td>1.414387</td>\n",
              "    </tr>\n",
              "    <tr>\n",
              "      <th>min</th>\n",
              "      <td>0.000000</td>\n",
              "      <td>0.000000</td>\n",
              "      <td>0.000000</td>\n",
              "      <td>0.000000</td>\n",
              "      <td>0.000000</td>\n",
              "      <td>0.000000</td>\n",
              "      <td>0.000000</td>\n",
              "      <td>0.000000</td>\n",
              "      <td>0.000000</td>\n",
              "      <td>0.000000</td>\n",
              "      <td>...</td>\n",
              "      <td>0.000000</td>\n",
              "      <td>0.000000</td>\n",
              "      <td>0.000000</td>\n",
              "      <td>0.000000</td>\n",
              "      <td>0.000000</td>\n",
              "      <td>0.000000</td>\n",
              "      <td>0.000000</td>\n",
              "      <td>0.000000</td>\n",
              "      <td>0.000000</td>\n",
              "      <td>1.000000</td>\n",
              "    </tr>\n",
              "    <tr>\n",
              "      <th>25%</th>\n",
              "      <td>0.000000</td>\n",
              "      <td>0.000000</td>\n",
              "      <td>0.000000</td>\n",
              "      <td>0.000000</td>\n",
              "      <td>0.000000</td>\n",
              "      <td>0.000000</td>\n",
              "      <td>0.000000</td>\n",
              "      <td>0.000000</td>\n",
              "      <td>0.000000</td>\n",
              "      <td>0.000000</td>\n",
              "      <td>...</td>\n",
              "      <td>0.000000</td>\n",
              "      <td>0.000000</td>\n",
              "      <td>0.000000</td>\n",
              "      <td>0.000000</td>\n",
              "      <td>0.000000</td>\n",
              "      <td>0.000000</td>\n",
              "      <td>0.000000</td>\n",
              "      <td>0.000000</td>\n",
              "      <td>0.000000</td>\n",
              "      <td>2.000000</td>\n",
              "    </tr>\n",
              "    <tr>\n",
              "      <th>50%</th>\n",
              "      <td>0.000000</td>\n",
              "      <td>0.000000</td>\n",
              "      <td>0.000000</td>\n",
              "      <td>0.000000</td>\n",
              "      <td>0.000000</td>\n",
              "      <td>0.000000</td>\n",
              "      <td>0.000000</td>\n",
              "      <td>0.000000</td>\n",
              "      <td>0.000000</td>\n",
              "      <td>0.000000</td>\n",
              "      <td>...</td>\n",
              "      <td>0.000000</td>\n",
              "      <td>0.000000</td>\n",
              "      <td>0.000000</td>\n",
              "      <td>0.000000</td>\n",
              "      <td>0.000000</td>\n",
              "      <td>0.000000</td>\n",
              "      <td>0.000000</td>\n",
              "      <td>0.000000</td>\n",
              "      <td>0.000000</td>\n",
              "      <td>3.000000</td>\n",
              "    </tr>\n",
              "    <tr>\n",
              "      <th>75%</th>\n",
              "      <td>0.012500</td>\n",
              "      <td>0.009901</td>\n",
              "      <td>0.000000</td>\n",
              "      <td>0.009009</td>\n",
              "      <td>0.008282</td>\n",
              "      <td>0.007874</td>\n",
              "      <td>0.008000</td>\n",
              "      <td>0.016393</td>\n",
              "      <td>0.000000</td>\n",
              "      <td>0.000000</td>\n",
              "      <td>...</td>\n",
              "      <td>0.006944</td>\n",
              "      <td>0.000000</td>\n",
              "      <td>0.008621</td>\n",
              "      <td>0.008942</td>\n",
              "      <td>0.007143</td>\n",
              "      <td>0.005723</td>\n",
              "      <td>0.006499</td>\n",
              "      <td>0.006909</td>\n",
              "      <td>0.005579</td>\n",
              "      <td>4.000000</td>\n",
              "    </tr>\n",
              "    <tr>\n",
              "      <th>max</th>\n",
              "      <td>0.136364</td>\n",
              "      <td>0.076923</td>\n",
              "      <td>0.150000</td>\n",
              "      <td>0.100000</td>\n",
              "      <td>0.058824</td>\n",
              "      <td>0.103448</td>\n",
              "      <td>0.071429</td>\n",
              "      <td>0.094595</td>\n",
              "      <td>0.136364</td>\n",
              "      <td>0.142857</td>\n",
              "      <td>...</td>\n",
              "      <td>0.250000</td>\n",
              "      <td>0.071429</td>\n",
              "      <td>0.064516</td>\n",
              "      <td>0.120000</td>\n",
              "      <td>0.058824</td>\n",
              "      <td>0.125000</td>\n",
              "      <td>0.075000</td>\n",
              "      <td>0.050000</td>\n",
              "      <td>0.064103</td>\n",
              "      <td>5.000000</td>\n",
              "    </tr>\n",
              "  </tbody>\n",
              "</table>\n",
              "<p>8 rows × 201 columns</p>\n",
              "</div>\n",
              "      <button class=\"colab-df-convert\" onclick=\"convertToInteractive('df-cc771421-3fa1-407a-b7e6-01b1e1f2d527')\"\n",
              "              title=\"Convert this dataframe to an interactive table.\"\n",
              "              style=\"display:none;\">\n",
              "        \n",
              "  <svg xmlns=\"http://www.w3.org/2000/svg\" height=\"24px\"viewBox=\"0 0 24 24\"\n",
              "       width=\"24px\">\n",
              "    <path d=\"M0 0h24v24H0V0z\" fill=\"none\"/>\n",
              "    <path d=\"M18.56 5.44l.94 2.06.94-2.06 2.06-.94-2.06-.94-.94-2.06-.94 2.06-2.06.94zm-11 1L8.5 8.5l.94-2.06 2.06-.94-2.06-.94L8.5 2.5l-.94 2.06-2.06.94zm10 10l.94 2.06.94-2.06 2.06-.94-2.06-.94-.94-2.06-.94 2.06-2.06.94z\"/><path d=\"M17.41 7.96l-1.37-1.37c-.4-.4-.92-.59-1.43-.59-.52 0-1.04.2-1.43.59L10.3 9.45l-7.72 7.72c-.78.78-.78 2.05 0 2.83L4 21.41c.39.39.9.59 1.41.59.51 0 1.02-.2 1.41-.59l7.78-7.78 2.81-2.81c.8-.78.8-2.07 0-2.86zM5.41 20L4 18.59l7.72-7.72 1.47 1.35L5.41 20z\"/>\n",
              "  </svg>\n",
              "      </button>\n",
              "      \n",
              "  <style>\n",
              "    .colab-df-container {\n",
              "      display:flex;\n",
              "      flex-wrap:wrap;\n",
              "      gap: 12px;\n",
              "    }\n",
              "\n",
              "    .colab-df-convert {\n",
              "      background-color: #E8F0FE;\n",
              "      border: none;\n",
              "      border-radius: 50%;\n",
              "      cursor: pointer;\n",
              "      display: none;\n",
              "      fill: #1967D2;\n",
              "      height: 32px;\n",
              "      padding: 0 0 0 0;\n",
              "      width: 32px;\n",
              "    }\n",
              "\n",
              "    .colab-df-convert:hover {\n",
              "      background-color: #E2EBFA;\n",
              "      box-shadow: 0px 1px 2px rgba(60, 64, 67, 0.3), 0px 1px 3px 1px rgba(60, 64, 67, 0.15);\n",
              "      fill: #174EA6;\n",
              "    }\n",
              "\n",
              "    [theme=dark] .colab-df-convert {\n",
              "      background-color: #3B4455;\n",
              "      fill: #D2E3FC;\n",
              "    }\n",
              "\n",
              "    [theme=dark] .colab-df-convert:hover {\n",
              "      background-color: #434B5C;\n",
              "      box-shadow: 0px 1px 3px 1px rgba(0, 0, 0, 0.15);\n",
              "      filter: drop-shadow(0px 1px 2px rgba(0, 0, 0, 0.3));\n",
              "      fill: #FFFFFF;\n",
              "    }\n",
              "  </style>\n",
              "\n",
              "      <script>\n",
              "        const buttonEl =\n",
              "          document.querySelector('#df-cc771421-3fa1-407a-b7e6-01b1e1f2d527 button.colab-df-convert');\n",
              "        buttonEl.style.display =\n",
              "          google.colab.kernel.accessAllowed ? 'block' : 'none';\n",
              "\n",
              "        async function convertToInteractive(key) {\n",
              "          const element = document.querySelector('#df-cc771421-3fa1-407a-b7e6-01b1e1f2d527');\n",
              "          const dataTable =\n",
              "            await google.colab.kernel.invokeFunction('convertToInteractive',\n",
              "                                                     [key], {});\n",
              "          if (!dataTable) return;\n",
              "\n",
              "          const docLinkHtml = 'Like what you see? Visit the ' +\n",
              "            '<a target=\"_blank\" href=https://colab.research.google.com/notebooks/data_table.ipynb>data table notebook</a>'\n",
              "            + ' to learn more about interactive tables.';\n",
              "          element.innerHTML = '';\n",
              "          dataTable['output_type'] = 'display_data';\n",
              "          await google.colab.output.renderOutput(dataTable, element);\n",
              "          const docLink = document.createElement('div');\n",
              "          docLink.innerHTML = docLinkHtml;\n",
              "          element.appendChild(docLink);\n",
              "        }\n",
              "      </script>\n",
              "    </div>\n",
              "  </div>\n",
              "  "
            ]
          },
          "metadata": {},
          "execution_count": 24
        }
      ]
    },
    {
      "cell_type": "code",
      "source": [
        "no3"
      ],
      "metadata": {
        "colab": {
          "base_uri": "https://localhost:8080/",
          "height": 488
        },
        "id": "pzZQ_nkorqzl",
        "outputId": "a633f9d6-8a77-4d90-8063-e6a6f855c079"
      },
      "execution_count": null,
      "outputs": [
        {
          "output_type": "execute_result",
          "data": {
            "text/plain": [
              "            F1        F2        F3        F4   F5        F6        F7  \\\n",
              "0     0.006711  0.000000  0.013423  0.006711  0.0  0.006711  0.006711   \n",
              "1     0.000000  0.000000  0.000000  0.007246  0.0  0.000000  0.000000   \n",
              "2     0.011696  0.000000  0.005848  0.000000  0.0  0.005848  0.000000   \n",
              "3     0.000000  0.000000  0.020833  0.000000  0.0  0.000000  0.010417   \n",
              "4     0.000000  0.000000  0.034483  0.000000  0.0  0.000000  0.000000   \n",
              "...        ...       ...       ...       ...  ...       ...       ...   \n",
              "4075  0.000000  0.016667  0.000000  0.000000  0.0  0.000000  0.000000   \n",
              "4076  0.000000  0.000000  0.000000  0.000000  0.0  0.000000  0.000000   \n",
              "4077  0.014925  0.000000  0.000000  0.000000  0.0  0.000000  0.000000   \n",
              "4078  0.000000  0.017544  0.017544  0.000000  0.0  0.000000  0.000000   \n",
              "4079  0.017241  0.000000  0.000000  0.000000  0.0  0.000000  0.000000   \n",
              "\n",
              "            F8        F9       F10  ...      F192      F193      F194  \\\n",
              "0     0.020134  0.020134  0.000000  ...  0.013423  0.000000  0.006711   \n",
              "1     0.021739  0.014493  0.000000  ...  0.007246  0.007246  0.000000   \n",
              "2     0.035088  0.017544  0.017544  ...  0.005848  0.000000  0.005848   \n",
              "3     0.000000  0.020833  0.000000  ...  0.010417  0.000000  0.000000   \n",
              "4     0.000000  0.034483  0.000000  ...  0.017241  0.000000  0.000000   \n",
              "...        ...       ...       ...  ...       ...       ...       ...   \n",
              "4075  0.000000  0.000000  0.000000  ...  0.000000  0.000000  0.000000   \n",
              "4076  0.000000  0.000000  0.000000  ...  0.000000  0.000000  0.000000   \n",
              "4077  0.000000  0.000000  0.000000  ...  0.014925  0.000000  0.000000   \n",
              "4078  0.000000  0.000000  0.000000  ...  0.017544  0.000000  0.000000   \n",
              "4079  0.000000  0.000000  0.000000  ...  0.017241  0.000000  0.000000   \n",
              "\n",
              "          F195      F196      F197      F198      F199      F200  Class  \n",
              "0     0.013423  0.020134  0.006711  0.000000  0.006711  0.000000      1  \n",
              "1     0.000000  0.014493  0.000000  0.000000  0.007246  0.000000      1  \n",
              "2     0.011696  0.035088  0.005848  0.000000  0.000000  0.000000      1  \n",
              "3     0.041667  0.000000  0.000000  0.000000  0.000000  0.000000      1  \n",
              "4     0.068966  0.000000  0.000000  0.000000  0.000000  0.000000      1  \n",
              "...        ...       ...       ...       ...       ...       ...    ...  \n",
              "4075  0.000000  0.000000  0.000000  0.016667  0.000000  0.033333      5  \n",
              "4076  0.000000  0.000000  0.000000  0.017857  0.000000  0.035714      5  \n",
              "4077  0.000000  0.000000  0.000000  0.014925  0.000000  0.029851      5  \n",
              "4078  0.000000  0.000000  0.000000  0.017544  0.000000  0.035088      5  \n",
              "4079  0.000000  0.000000  0.000000  0.017241  0.000000  0.034483      5  \n",
              "\n",
              "[4080 rows x 201 columns]"
            ],
            "text/html": [
              "\n",
              "  <div id=\"df-970fcf22-0495-4c53-b62f-9147eaf4058a\">\n",
              "    <div class=\"colab-df-container\">\n",
              "      <div>\n",
              "<style scoped>\n",
              "    .dataframe tbody tr th:only-of-type {\n",
              "        vertical-align: middle;\n",
              "    }\n",
              "\n",
              "    .dataframe tbody tr th {\n",
              "        vertical-align: top;\n",
              "    }\n",
              "\n",
              "    .dataframe thead th {\n",
              "        text-align: right;\n",
              "    }\n",
              "</style>\n",
              "<table border=\"1\" class=\"dataframe\">\n",
              "  <thead>\n",
              "    <tr style=\"text-align: right;\">\n",
              "      <th></th>\n",
              "      <th>F1</th>\n",
              "      <th>F2</th>\n",
              "      <th>F3</th>\n",
              "      <th>F4</th>\n",
              "      <th>F5</th>\n",
              "      <th>F6</th>\n",
              "      <th>F7</th>\n",
              "      <th>F8</th>\n",
              "      <th>F9</th>\n",
              "      <th>F10</th>\n",
              "      <th>...</th>\n",
              "      <th>F192</th>\n",
              "      <th>F193</th>\n",
              "      <th>F194</th>\n",
              "      <th>F195</th>\n",
              "      <th>F196</th>\n",
              "      <th>F197</th>\n",
              "      <th>F198</th>\n",
              "      <th>F199</th>\n",
              "      <th>F200</th>\n",
              "      <th>Class</th>\n",
              "    </tr>\n",
              "  </thead>\n",
              "  <tbody>\n",
              "    <tr>\n",
              "      <th>0</th>\n",
              "      <td>0.006711</td>\n",
              "      <td>0.000000</td>\n",
              "      <td>0.013423</td>\n",
              "      <td>0.006711</td>\n",
              "      <td>0.0</td>\n",
              "      <td>0.006711</td>\n",
              "      <td>0.006711</td>\n",
              "      <td>0.020134</td>\n",
              "      <td>0.020134</td>\n",
              "      <td>0.000000</td>\n",
              "      <td>...</td>\n",
              "      <td>0.013423</td>\n",
              "      <td>0.000000</td>\n",
              "      <td>0.006711</td>\n",
              "      <td>0.013423</td>\n",
              "      <td>0.020134</td>\n",
              "      <td>0.006711</td>\n",
              "      <td>0.000000</td>\n",
              "      <td>0.006711</td>\n",
              "      <td>0.000000</td>\n",
              "      <td>1</td>\n",
              "    </tr>\n",
              "    <tr>\n",
              "      <th>1</th>\n",
              "      <td>0.000000</td>\n",
              "      <td>0.000000</td>\n",
              "      <td>0.000000</td>\n",
              "      <td>0.007246</td>\n",
              "      <td>0.0</td>\n",
              "      <td>0.000000</td>\n",
              "      <td>0.000000</td>\n",
              "      <td>0.021739</td>\n",
              "      <td>0.014493</td>\n",
              "      <td>0.000000</td>\n",
              "      <td>...</td>\n",
              "      <td>0.007246</td>\n",
              "      <td>0.007246</td>\n",
              "      <td>0.000000</td>\n",
              "      <td>0.000000</td>\n",
              "      <td>0.014493</td>\n",
              "      <td>0.000000</td>\n",
              "      <td>0.000000</td>\n",
              "      <td>0.007246</td>\n",
              "      <td>0.000000</td>\n",
              "      <td>1</td>\n",
              "    </tr>\n",
              "    <tr>\n",
              "      <th>2</th>\n",
              "      <td>0.011696</td>\n",
              "      <td>0.000000</td>\n",
              "      <td>0.005848</td>\n",
              "      <td>0.000000</td>\n",
              "      <td>0.0</td>\n",
              "      <td>0.005848</td>\n",
              "      <td>0.000000</td>\n",
              "      <td>0.035088</td>\n",
              "      <td>0.017544</td>\n",
              "      <td>0.017544</td>\n",
              "      <td>...</td>\n",
              "      <td>0.005848</td>\n",
              "      <td>0.000000</td>\n",
              "      <td>0.005848</td>\n",
              "      <td>0.011696</td>\n",
              "      <td>0.035088</td>\n",
              "      <td>0.005848</td>\n",
              "      <td>0.000000</td>\n",
              "      <td>0.000000</td>\n",
              "      <td>0.000000</td>\n",
              "      <td>1</td>\n",
              "    </tr>\n",
              "    <tr>\n",
              "      <th>3</th>\n",
              "      <td>0.000000</td>\n",
              "      <td>0.000000</td>\n",
              "      <td>0.020833</td>\n",
              "      <td>0.000000</td>\n",
              "      <td>0.0</td>\n",
              "      <td>0.000000</td>\n",
              "      <td>0.010417</td>\n",
              "      <td>0.000000</td>\n",
              "      <td>0.020833</td>\n",
              "      <td>0.000000</td>\n",
              "      <td>...</td>\n",
              "      <td>0.010417</td>\n",
              "      <td>0.000000</td>\n",
              "      <td>0.000000</td>\n",
              "      <td>0.041667</td>\n",
              "      <td>0.000000</td>\n",
              "      <td>0.000000</td>\n",
              "      <td>0.000000</td>\n",
              "      <td>0.000000</td>\n",
              "      <td>0.000000</td>\n",
              "      <td>1</td>\n",
              "    </tr>\n",
              "    <tr>\n",
              "      <th>4</th>\n",
              "      <td>0.000000</td>\n",
              "      <td>0.000000</td>\n",
              "      <td>0.034483</td>\n",
              "      <td>0.000000</td>\n",
              "      <td>0.0</td>\n",
              "      <td>0.000000</td>\n",
              "      <td>0.000000</td>\n",
              "      <td>0.000000</td>\n",
              "      <td>0.034483</td>\n",
              "      <td>0.000000</td>\n",
              "      <td>...</td>\n",
              "      <td>0.017241</td>\n",
              "      <td>0.000000</td>\n",
              "      <td>0.000000</td>\n",
              "      <td>0.068966</td>\n",
              "      <td>0.000000</td>\n",
              "      <td>0.000000</td>\n",
              "      <td>0.000000</td>\n",
              "      <td>0.000000</td>\n",
              "      <td>0.000000</td>\n",
              "      <td>1</td>\n",
              "    </tr>\n",
              "    <tr>\n",
              "      <th>...</th>\n",
              "      <td>...</td>\n",
              "      <td>...</td>\n",
              "      <td>...</td>\n",
              "      <td>...</td>\n",
              "      <td>...</td>\n",
              "      <td>...</td>\n",
              "      <td>...</td>\n",
              "      <td>...</td>\n",
              "      <td>...</td>\n",
              "      <td>...</td>\n",
              "      <td>...</td>\n",
              "      <td>...</td>\n",
              "      <td>...</td>\n",
              "      <td>...</td>\n",
              "      <td>...</td>\n",
              "      <td>...</td>\n",
              "      <td>...</td>\n",
              "      <td>...</td>\n",
              "      <td>...</td>\n",
              "      <td>...</td>\n",
              "      <td>...</td>\n",
              "    </tr>\n",
              "    <tr>\n",
              "      <th>4075</th>\n",
              "      <td>0.000000</td>\n",
              "      <td>0.016667</td>\n",
              "      <td>0.000000</td>\n",
              "      <td>0.000000</td>\n",
              "      <td>0.0</td>\n",
              "      <td>0.000000</td>\n",
              "      <td>0.000000</td>\n",
              "      <td>0.000000</td>\n",
              "      <td>0.000000</td>\n",
              "      <td>0.000000</td>\n",
              "      <td>...</td>\n",
              "      <td>0.000000</td>\n",
              "      <td>0.000000</td>\n",
              "      <td>0.000000</td>\n",
              "      <td>0.000000</td>\n",
              "      <td>0.000000</td>\n",
              "      <td>0.000000</td>\n",
              "      <td>0.016667</td>\n",
              "      <td>0.000000</td>\n",
              "      <td>0.033333</td>\n",
              "      <td>5</td>\n",
              "    </tr>\n",
              "    <tr>\n",
              "      <th>4076</th>\n",
              "      <td>0.000000</td>\n",
              "      <td>0.000000</td>\n",
              "      <td>0.000000</td>\n",
              "      <td>0.000000</td>\n",
              "      <td>0.0</td>\n",
              "      <td>0.000000</td>\n",
              "      <td>0.000000</td>\n",
              "      <td>0.000000</td>\n",
              "      <td>0.000000</td>\n",
              "      <td>0.000000</td>\n",
              "      <td>...</td>\n",
              "      <td>0.000000</td>\n",
              "      <td>0.000000</td>\n",
              "      <td>0.000000</td>\n",
              "      <td>0.000000</td>\n",
              "      <td>0.000000</td>\n",
              "      <td>0.000000</td>\n",
              "      <td>0.017857</td>\n",
              "      <td>0.000000</td>\n",
              "      <td>0.035714</td>\n",
              "      <td>5</td>\n",
              "    </tr>\n",
              "    <tr>\n",
              "      <th>4077</th>\n",
              "      <td>0.014925</td>\n",
              "      <td>0.000000</td>\n",
              "      <td>0.000000</td>\n",
              "      <td>0.000000</td>\n",
              "      <td>0.0</td>\n",
              "      <td>0.000000</td>\n",
              "      <td>0.000000</td>\n",
              "      <td>0.000000</td>\n",
              "      <td>0.000000</td>\n",
              "      <td>0.000000</td>\n",
              "      <td>...</td>\n",
              "      <td>0.014925</td>\n",
              "      <td>0.000000</td>\n",
              "      <td>0.000000</td>\n",
              "      <td>0.000000</td>\n",
              "      <td>0.000000</td>\n",
              "      <td>0.000000</td>\n",
              "      <td>0.014925</td>\n",
              "      <td>0.000000</td>\n",
              "      <td>0.029851</td>\n",
              "      <td>5</td>\n",
              "    </tr>\n",
              "    <tr>\n",
              "      <th>4078</th>\n",
              "      <td>0.000000</td>\n",
              "      <td>0.017544</td>\n",
              "      <td>0.017544</td>\n",
              "      <td>0.000000</td>\n",
              "      <td>0.0</td>\n",
              "      <td>0.000000</td>\n",
              "      <td>0.000000</td>\n",
              "      <td>0.000000</td>\n",
              "      <td>0.000000</td>\n",
              "      <td>0.000000</td>\n",
              "      <td>...</td>\n",
              "      <td>0.017544</td>\n",
              "      <td>0.000000</td>\n",
              "      <td>0.000000</td>\n",
              "      <td>0.000000</td>\n",
              "      <td>0.000000</td>\n",
              "      <td>0.000000</td>\n",
              "      <td>0.017544</td>\n",
              "      <td>0.000000</td>\n",
              "      <td>0.035088</td>\n",
              "      <td>5</td>\n",
              "    </tr>\n",
              "    <tr>\n",
              "      <th>4079</th>\n",
              "      <td>0.017241</td>\n",
              "      <td>0.000000</td>\n",
              "      <td>0.000000</td>\n",
              "      <td>0.000000</td>\n",
              "      <td>0.0</td>\n",
              "      <td>0.000000</td>\n",
              "      <td>0.000000</td>\n",
              "      <td>0.000000</td>\n",
              "      <td>0.000000</td>\n",
              "      <td>0.000000</td>\n",
              "      <td>...</td>\n",
              "      <td>0.017241</td>\n",
              "      <td>0.000000</td>\n",
              "      <td>0.000000</td>\n",
              "      <td>0.000000</td>\n",
              "      <td>0.000000</td>\n",
              "      <td>0.000000</td>\n",
              "      <td>0.017241</td>\n",
              "      <td>0.000000</td>\n",
              "      <td>0.034483</td>\n",
              "      <td>5</td>\n",
              "    </tr>\n",
              "  </tbody>\n",
              "</table>\n",
              "<p>4080 rows × 201 columns</p>\n",
              "</div>\n",
              "      <button class=\"colab-df-convert\" onclick=\"convertToInteractive('df-970fcf22-0495-4c53-b62f-9147eaf4058a')\"\n",
              "              title=\"Convert this dataframe to an interactive table.\"\n",
              "              style=\"display:none;\">\n",
              "        \n",
              "  <svg xmlns=\"http://www.w3.org/2000/svg\" height=\"24px\"viewBox=\"0 0 24 24\"\n",
              "       width=\"24px\">\n",
              "    <path d=\"M0 0h24v24H0V0z\" fill=\"none\"/>\n",
              "    <path d=\"M18.56 5.44l.94 2.06.94-2.06 2.06-.94-2.06-.94-.94-2.06-.94 2.06-2.06.94zm-11 1L8.5 8.5l.94-2.06 2.06-.94-2.06-.94L8.5 2.5l-.94 2.06-2.06.94zm10 10l.94 2.06.94-2.06 2.06-.94-2.06-.94-.94-2.06-.94 2.06-2.06.94z\"/><path d=\"M17.41 7.96l-1.37-1.37c-.4-.4-.92-.59-1.43-.59-.52 0-1.04.2-1.43.59L10.3 9.45l-7.72 7.72c-.78.78-.78 2.05 0 2.83L4 21.41c.39.39.9.59 1.41.59.51 0 1.02-.2 1.41-.59l7.78-7.78 2.81-2.81c.8-.78.8-2.07 0-2.86zM5.41 20L4 18.59l7.72-7.72 1.47 1.35L5.41 20z\"/>\n",
              "  </svg>\n",
              "      </button>\n",
              "      \n",
              "  <style>\n",
              "    .colab-df-container {\n",
              "      display:flex;\n",
              "      flex-wrap:wrap;\n",
              "      gap: 12px;\n",
              "    }\n",
              "\n",
              "    .colab-df-convert {\n",
              "      background-color: #E8F0FE;\n",
              "      border: none;\n",
              "      border-radius: 50%;\n",
              "      cursor: pointer;\n",
              "      display: none;\n",
              "      fill: #1967D2;\n",
              "      height: 32px;\n",
              "      padding: 0 0 0 0;\n",
              "      width: 32px;\n",
              "    }\n",
              "\n",
              "    .colab-df-convert:hover {\n",
              "      background-color: #E2EBFA;\n",
              "      box-shadow: 0px 1px 2px rgba(60, 64, 67, 0.3), 0px 1px 3px 1px rgba(60, 64, 67, 0.15);\n",
              "      fill: #174EA6;\n",
              "    }\n",
              "\n",
              "    [theme=dark] .colab-df-convert {\n",
              "      background-color: #3B4455;\n",
              "      fill: #D2E3FC;\n",
              "    }\n",
              "\n",
              "    [theme=dark] .colab-df-convert:hover {\n",
              "      background-color: #434B5C;\n",
              "      box-shadow: 0px 1px 3px 1px rgba(0, 0, 0, 0.15);\n",
              "      filter: drop-shadow(0px 1px 2px rgba(0, 0, 0, 0.3));\n",
              "      fill: #FFFFFF;\n",
              "    }\n",
              "  </style>\n",
              "\n",
              "      <script>\n",
              "        const buttonEl =\n",
              "          document.querySelector('#df-970fcf22-0495-4c53-b62f-9147eaf4058a button.colab-df-convert');\n",
              "        buttonEl.style.display =\n",
              "          google.colab.kernel.accessAllowed ? 'block' : 'none';\n",
              "\n",
              "        async function convertToInteractive(key) {\n",
              "          const element = document.querySelector('#df-970fcf22-0495-4c53-b62f-9147eaf4058a');\n",
              "          const dataTable =\n",
              "            await google.colab.kernel.invokeFunction('convertToInteractive',\n",
              "                                                     [key], {});\n",
              "          if (!dataTable) return;\n",
              "\n",
              "          const docLinkHtml = 'Like what you see? Visit the ' +\n",
              "            '<a target=\"_blank\" href=https://colab.research.google.com/notebooks/data_table.ipynb>data table notebook</a>'\n",
              "            + ' to learn more about interactive tables.';\n",
              "          element.innerHTML = '';\n",
              "          dataTable['output_type'] = 'display_data';\n",
              "          await google.colab.output.renderOutput(dataTable, element);\n",
              "          const docLink = document.createElement('div');\n",
              "          docLink.innerHTML = docLinkHtml;\n",
              "          element.appendChild(docLink);\n",
              "        }\n",
              "      </script>\n",
              "    </div>\n",
              "  </div>\n",
              "  "
            ]
          },
          "metadata": {},
          "execution_count": 25
        }
      ]
    },
    {
      "cell_type": "markdown",
      "source": [
        "**C. METODE MACHINE LEARNING KLASIFIKASI**"
      ],
      "metadata": {
        "id": "RiCbG2J8_jXF"
      }
    },
    {
      "cell_type": "markdown",
      "source": [
        "Metode machine learning untuk klasifikasi yang akan dipakai adalah *KNN* dan *Support Vector Machine*. Alasan pemilihan penggunaan *KNN* adalah *KNN* merupakan algoritma klasifikasi yang simple namun sangat kuat. *KNN* tidak memerlukan training untuk membuat prediksi, yang mana merupakan salah satu bagian sulit buat kebanyakan algoritma machine learning. *KNN* juga digunakan dalam tahap preprocessing untuk computer vision. "
      ],
      "metadata": {
        "id": "ZttKWaov_q_7"
      }
    },
    {
      "cell_type": "markdown",
      "source": [
        "Sedangkan untuk *Support Vector Machine*, algoritma ini digunakan karena *SVM* adalah salah satu algoritma paling robust dan akurat diantara algortima klasifikasi lain. Secara umum, *SVM* mempunyai performa yang sangat bagus dan cocok digunakan ketika kita mempunyai banyak sekali fitur seperti yang terdapat pada dataset \"*experiment.csv*\"\n"
      ],
      "metadata": {
        "id": "flxE35XRBe3o"
      }
    },
    {
      "cell_type": "markdown",
      "source": [
        "**KNN**"
      ],
      "metadata": {
        "id": "wYtojdNbzKW0"
      }
    },
    {
      "cell_type": "code",
      "source": [
        "from sklearn.neighbors import KNeighborsClassifier\n",
        "#set number of neighbour to default (5)\n",
        "knn_model = KNeighborsClassifier(n_neighbors=5)\n",
        "knn_model.fit(X_train,y_train)"
      ],
      "metadata": {
        "id": "UnITOvSkaU_Z",
        "colab": {
          "base_uri": "https://localhost:8080/"
        },
        "outputId": "be134daf-3ba0-43e5-f2ab-9c810a20fff1"
      },
      "execution_count": null,
      "outputs": [
        {
          "output_type": "execute_result",
          "data": {
            "text/plain": [
              "KNeighborsClassifier()"
            ]
          },
          "metadata": {},
          "execution_count": 26
        }
      ]
    },
    {
      "cell_type": "code",
      "source": [
        "#predict \n",
        "y_pred = knn_model.predict(X_test)"
      ],
      "metadata": {
        "id": "0Pd2EvG_xoQS"
      },
      "execution_count": null,
      "outputs": []
    },
    {
      "cell_type": "code",
      "source": [
        "#print confusion matrix and classification report\n",
        "from sklearn.metrics import classification_report, confusion_matrix\n",
        "print(confusion_matrix(y_test, y_pred))\n",
        "print(classification_report(y_test, y_pred))"
      ],
      "metadata": {
        "colab": {
          "base_uri": "https://localhost:8080/",
          "height": 225
        },
        "id": "qAmiragYvomc",
        "outputId": "8df82901-01bc-41d7-c51a-95cd42bfd408"
      },
      "execution_count": null,
      "outputs": [
        {
          "output_type": "error",
          "ename": "NameError",
          "evalue": "ignored",
          "traceback": [
            "\u001b[0;31m---------------------------------------------------------------------------\u001b[0m",
            "\u001b[0;31mNameError\u001b[0m                                 Traceback (most recent call last)",
            "\u001b[0;32m<ipython-input-1-dfd7f4379110>\u001b[0m in \u001b[0;36m<module>\u001b[0;34m\u001b[0m\n\u001b[1;32m      1\u001b[0m \u001b[0;31m#print confusion matrix and classification report\u001b[0m\u001b[0;34m\u001b[0m\u001b[0;34m\u001b[0m\u001b[0;34m\u001b[0m\u001b[0m\n\u001b[1;32m      2\u001b[0m \u001b[0;32mfrom\u001b[0m \u001b[0msklearn\u001b[0m\u001b[0;34m.\u001b[0m\u001b[0mmetrics\u001b[0m \u001b[0;32mimport\u001b[0m \u001b[0mclassification_report\u001b[0m\u001b[0;34m,\u001b[0m \u001b[0mconfusion_matrix\u001b[0m\u001b[0;34m\u001b[0m\u001b[0;34m\u001b[0m\u001b[0m\n\u001b[0;32m----> 3\u001b[0;31m \u001b[0mprint\u001b[0m\u001b[0;34m(\u001b[0m\u001b[0mconfusion_matrix\u001b[0m\u001b[0;34m(\u001b[0m\u001b[0my_test\u001b[0m\u001b[0;34m,\u001b[0m \u001b[0my_pred\u001b[0m\u001b[0;34m)\u001b[0m\u001b[0;34m)\u001b[0m\u001b[0;34m\u001b[0m\u001b[0;34m\u001b[0m\u001b[0m\n\u001b[0m\u001b[1;32m      4\u001b[0m \u001b[0mprint\u001b[0m\u001b[0;34m(\u001b[0m\u001b[0mclassification_report\u001b[0m\u001b[0;34m(\u001b[0m\u001b[0my_test\u001b[0m\u001b[0;34m,\u001b[0m \u001b[0my_pred\u001b[0m\u001b[0;34m)\u001b[0m\u001b[0;34m)\u001b[0m\u001b[0;34m\u001b[0m\u001b[0;34m\u001b[0m\u001b[0m\n",
            "\u001b[0;31mNameError\u001b[0m: name 'y_test' is not defined"
          ]
        }
      ]
    },
    {
      "cell_type": "markdown",
      "source": [
        "didapatkan akurasi yang bagus sekitar 0.90"
      ],
      "metadata": {
        "id": "bVwH7D4UGz99"
      }
    },
    {
      "cell_type": "markdown",
      "source": [
        "*Mencari optimum K*\n",
        "\n",
        "Kita dapat meningkatkan akurasi dari model *KNN* yang telah ada dengan menggunakan K yang paling optimum"
      ],
      "metadata": {
        "id": "eMlT1CQAHKQB"
      }
    },
    {
      "cell_type": "markdown",
      "source": [
        "optimum k digunakan untuk mendapatkan accuracy terbaik"
      ],
      "metadata": {
        "id": "oL1Y0br-HVL3"
      }
    },
    {
      "cell_type": "code",
      "source": [
        "error = []\n",
        "\n",
        "#hitung nilai error untuk interasi dari 1 sampai 40\n",
        "for i in range(1, 40):\n",
        "    knn = KNeighborsClassifier(n_neighbors=i)\n",
        "    knn.fit(X_train, y_train)\n",
        "    pred_i = knn.predict(X_test)\n",
        "    error.append(np.mean(pred_i != y_test))"
      ],
      "metadata": {
        "id": "Oe8UisSDx69N"
      },
      "execution_count": null,
      "outputs": []
    },
    {
      "cell_type": "code",
      "source": [
        "plt.figure(figsize=(12, 6))\n",
        "plt.plot(range(1, 40), error, color='red', linestyle='dashed', marker='o',\n",
        "         markerfacecolor='blue', markersize=10)\n",
        "plt.title('Error Rate VS K Value')\n",
        "plt.xticks(np.arange(0, len(error), 1.0))\n",
        "plt.xlabel('K Value')\n",
        "plt.ylabel('Mean Error')"
      ],
      "metadata": {
        "colab": {
          "base_uri": "https://localhost:8080/",
          "height": 400
        },
        "id": "epDLNuohyFnZ",
        "outputId": "3071cd8e-6542-4b90-9444-60dc35bc19ad"
      },
      "execution_count": null,
      "outputs": [
        {
          "output_type": "execute_result",
          "data": {
            "text/plain": [
              "Text(0, 0.5, 'Mean Error')"
            ]
          },
          "metadata": {},
          "execution_count": 30
        },
        {
          "output_type": "display_data",
          "data": {
            "text/plain": [
              "<Figure size 864x432 with 1 Axes>"
            ],
            "image/png": "[encoded data removed]"
          },
          "metadata": {
            "needs_background": "light"
          }
        }
      ]
    },
    {
      "cell_type": "markdown",
      "source": [
        "didapatkan k value optimum dengan error terkecil didapatkan pada k = 1. Selanjutnya, kita akan menggunakan k = 1 untuk retrain model"
      ],
      "metadata": {
        "id": "A_5Pk-oqHanA"
      }
    },
    {
      "cell_type": "markdown",
      "source": [
        "**Retrain**"
      ],
      "metadata": {
        "id": "qXYypMQmySqd"
      }
    },
    {
      "cell_type": "markdown",
      "source": [
        "*retrain model dengan menggunakan optimum k*"
      ],
      "metadata": {
        "id": "tLT2Y29mHpZ-"
      }
    },
    {
      "cell_type": "code",
      "source": [
        "# optimum k = 1\n",
        "knn_model = KNeighborsClassifier(n_neighbors=1)\n",
        "knn_model.fit(X_train,y_train)\n",
        "y_pred_KNN = knn_model.predict(X_test)"
      ],
      "metadata": {
        "id": "0mtPv7TjyR66"
      },
      "execution_count": null,
      "outputs": []
    },
    {
      "cell_type": "code",
      "source": [
        "from sklearn.metrics import classification_report, confusion_matrix\n",
        "#print confusion matrix and classification report\n",
        "print(confusion_matrix(y_test, y_pred_KNN))\n",
        "print(classification_report(y_test, y_pred_KNN))"
      ],
      "metadata": {
        "colab": {
          "base_uri": "https://localhost:8080/"
        },
        "id": "KocD3yklypkG",
        "outputId": "8762bd3e-e7f8-4664-b49f-940dd93eced3"
      },
      "execution_count": null,
      "outputs": [
        {
          "output_type": "stream",
          "name": "stdout",
          "text": [
            "[[152   1   0   1   3]\n",
            " [  4 161   7   6   2]\n",
            " [  3   5 149   2   2]\n",
            " [  4   2   3 149   0]\n",
            " [  7   6   4   3 140]]\n",
            "              precision    recall  f1-score   support\n",
            "\n",
            "           1       0.89      0.97      0.93       157\n",
            "           2       0.92      0.89      0.91       180\n",
            "           3       0.91      0.93      0.92       161\n",
            "           4       0.93      0.94      0.93       158\n",
            "           5       0.95      0.88      0.91       160\n",
            "\n",
            "    accuracy                           0.92       816\n",
            "   macro avg       0.92      0.92      0.92       816\n",
            "weighted avg       0.92      0.92      0.92       816\n",
            "\n"
          ]
        }
      ]
    },
    {
      "cell_type": "markdown",
      "source": [
        "didapatkan hasil akurasi yang lebih baik dengan k = 1 yaitu sebesar 0.92"
      ],
      "metadata": {
        "id": "aQMOr3sbH5KU"
      }
    },
    {
      "cell_type": "markdown",
      "source": [
        "**SUPPORT VECTOR MACHINE (SVM)**\n",
        "\n",
        "algoritma kedua yang akan digunakan untuk klasifikasi adalah Support Vector Machine"
      ],
      "metadata": {
        "id": "jAg_jdOO5-FN"
      }
    },
    {
      "cell_type": "code",
      "source": [
        "from sklearn.svm import SVC\n",
        "svc = SVC()\n",
        "#fit model\n",
        "svc.fit(X_train, y_train)\n",
        "#predict\n",
        "y_pred_SVM = svc.predict(X_test)"
      ],
      "metadata": {
        "id": "noMIJOkz6B0o"
      },
      "execution_count": null,
      "outputs": []
    },
    {
      "cell_type": "code",
      "source": [
        "#print confusion matrix and classification report\n",
        "print(confusion_matrix(y_test, y_pred_SVM))\n",
        "print(classification_report(y_test, y_pred_SVM))"
      ],
      "metadata": {
        "colab": {
          "base_uri": "https://localhost:8080/"
        },
        "id": "K7hG6gbz6Gkm",
        "outputId": "481c8067-9d9b-4f89-c5cd-52a2b368275a"
      },
      "execution_count": null,
      "outputs": [
        {
          "output_type": "stream",
          "name": "stdout",
          "text": [
            "[[150   4   2   0   1]\n",
            " [  2 165   7   3   3]\n",
            " [  0   9 147   2   3]\n",
            " [  0   6   5 146   1]\n",
            " [  4   5   1   0 150]]\n",
            "              precision    recall  f1-score   support\n",
            "\n",
            "           1       0.96      0.96      0.96       157\n",
            "           2       0.87      0.92      0.89       180\n",
            "           3       0.91      0.91      0.91       161\n",
            "           4       0.97      0.92      0.94       158\n",
            "           5       0.95      0.94      0.94       160\n",
            "\n",
            "    accuracy                           0.93       816\n",
            "   macro avg       0.93      0.93      0.93       816\n",
            "weighted avg       0.93      0.93      0.93       816\n",
            "\n"
          ]
        }
      ]
    },
    {
      "cell_type": "markdown",
      "source": [
        "didapatkan hasil akurasi yang bagus sebesar 0.93"
      ],
      "metadata": {
        "id": "JYKcHVnlIPDS"
      }
    },
    {
      "cell_type": "markdown",
      "source": [
        "**D. Evaluasi & Komparasi**"
      ],
      "metadata": {
        "id": "4t4RDhwP3KB4"
      }
    },
    {
      "cell_type": "markdown",
      "source": [
        "***Evaluasi***:\n",
        "\n",
        "Secara keseluruhan, baik metode algoritma KNN maupun Support Vector Machine telah menghasilkan tingkat akurasi yang bagus, presisi yang tepat sehingga memprediksi hasil positives yang memang adalah \"True Positives\". Bila dilihat dari confusion matrix, kedua model mampu sering menghasilkan \"True Positives\" dan jarang menghasilkan \"False Positives\" maupun \"False Negatives\""
      ],
      "metadata": {
        "id": "blsRX9o3RtFD"
      }
    },
    {
      "cell_type": "markdown",
      "source": [
        "***Komparasi***\n",
        "\n"
      ],
      "metadata": {
        "id": "vlPhAQmLURQ_"
      }
    },
    {
      "cell_type": "markdown",
      "source": [
        "Komparasi Confusion Matrix"
      ],
      "metadata": {
        "id": "Gq_h5M9yRi43"
      }
    },
    {
      "cell_type": "code",
      "source": [
        "#print confusion matrix and classification report for KNN\n",
        "print(\"Confusion matrix for KNN\")\n",
        "print(confusion_matrix(y_test, y_pred_KNN))\n",
        "print(\"\\n\")\n",
        "print(\"Confusion matrix for SVM\")\n",
        "print(confusion_matrix(y_test, y_pred_SVM))\n"
      ],
      "metadata": {
        "colab": {
          "base_uri": "https://localhost:8080/"
        },
        "id": "_3jlqUVDOHDW",
        "outputId": "a7cc19f7-63c8-45cb-c1ac-503d95e31e7f"
      },
      "execution_count": null,
      "outputs": [
        {
          "output_type": "stream",
          "name": "stdout",
          "text": [
            "Confusion matrix for KNN\n",
            "[[152   1   0   1   3]\n",
            " [  4 161   7   6   2]\n",
            " [  3   5 149   2   2]\n",
            " [  4   2   3 149   0]\n",
            " [  7   6   4   3 140]]\n",
            "\n",
            "\n",
            "Confusion matrix for SVM\n",
            "[[150   4   2   0   1]\n",
            " [  2 165   7   3   3]\n",
            " [  0   9 147   2   3]\n",
            " [  0   6   5 146   1]\n",
            " [  4   5   1   0 150]]\n"
          ]
        }
      ]
    },
    {
      "cell_type": "markdown",
      "source": [
        "Kedua model mampu menghasilkan \"True Positives\" yang serupa dan jarang menghasilkan \"False Positives\" maupun \"False Negatives\""
      ],
      "metadata": {
        "id": "lzqy9WNRW6hV"
      }
    },
    {
      "cell_type": "markdown",
      "source": [
        "Komparasi Classification Report"
      ],
      "metadata": {
        "id": "K2AEyRb3XcK2"
      }
    },
    {
      "cell_type": "code",
      "source": [
        "#Compare classification report for KNN & SVM\n",
        "\n",
        "print(\"Classification report for KNN\")\n",
        "print(classification_report(y_test, y_pred_KNN))\n",
        "print(\"\\n\")\n",
        "print(\"Classification report for SVM\")\n",
        "print(classification_report(y_test, y_pred_SVM))\n"
      ],
      "metadata": {
        "colab": {
          "base_uri": "https://localhost:8080/"
        },
        "id": "EOR1aXR-Wkiy",
        "outputId": "f2489ca7-8433-4c8e-9e35-83d31206ca07"
      },
      "execution_count": null,
      "outputs": [
        {
          "output_type": "stream",
          "name": "stdout",
          "text": [
            "Classification report for KNN\n",
            "              precision    recall  f1-score   support\n",
            "\n",
            "           1       0.89      0.97      0.93       157\n",
            "           2       0.92      0.89      0.91       180\n",
            "           3       0.91      0.93      0.92       161\n",
            "           4       0.93      0.94      0.93       158\n",
            "           5       0.95      0.88      0.91       160\n",
            "\n",
            "    accuracy                           0.92       816\n",
            "   macro avg       0.92      0.92      0.92       816\n",
            "weighted avg       0.92      0.92      0.92       816\n",
            "\n",
            "\n",
            "\n",
            "Classification report for SVM\n",
            "              precision    recall  f1-score   support\n",
            "\n",
            "           1       0.96      0.96      0.96       157\n",
            "           2       0.87      0.92      0.89       180\n",
            "           3       0.91      0.91      0.91       161\n",
            "           4       0.97      0.92      0.94       158\n",
            "           5       0.95      0.94      0.94       160\n",
            "\n",
            "    accuracy                           0.93       816\n",
            "   macro avg       0.93      0.93      0.93       816\n",
            "weighted avg       0.93      0.93      0.93       816\n",
            "\n"
          ]
        }
      ]
    },
    {
      "cell_type": "markdown",
      "source": [
        "Kedua model menghasilkan hasil klasifikasi yang serupa, namun score accuracy, macro avg, dan weighted avg model SVM mempunyai hasil yang lebih tinggi (0.93) dibandingkan dengan hasil KNN (0.92)"
      ],
      "metadata": {
        "id": "xQXXuHtHXqj-"
      }
    }
  ]
}